{
 "cells": [
  {
   "cell_type": "code",
   "execution_count": 54,
   "id": "0ef89c07-37b2-4346-8a60-b6786611843d",
   "metadata": {},
   "outputs": [],
   "source": [
    "import sqlite3\n",
    "\n",
    "# 查找匹配 tags 的 work_ID 函数，并按照 view_count 排序，返回前 10 个结果\n",
    "def find_top_50_by_tag(tags=None, db_filename='web_info.db'):\n",
    "    # 连接到 SQLite 数据库\n",
    "    conn = sqlite3.connect(db_filename)\n",
    "    cursor = conn.cursor()\n",
    "\n",
    "    # 构造 SQL 查询\n",
    "    if tags is None:\n",
    "        # 情况 1：没有输入 tag，搜索整个数据库\n",
    "        query = '''\n",
    "            SELECT like_count, bookmark_count, view_count, tags\n",
    "            FROM web_info\n",
    "            ORDER BY view_count DESC\n",
    "            LIMIT 50\n",
    "        '''\n",
    "        cursor.execute(query)\n",
    "    else:\n",
    "        # 情况 2 和 3：输入一个或多个 tag\n",
    "        # 构造 WHERE 子句，确保每个 tag 都包含在 tags 字段中\n",
    "        tag_conditions = ' AND '.join([f'tags LIKE ?' for _ in tags])\n",
    "        query = f'''\n",
    "            SELECT like_count, bookmark_count, view_count, tags\n",
    "            FROM web_info\n",
    "            WHERE {tag_conditions}\n",
    "            ORDER BY view_count DESC\n",
    "            LIMIT 50\n",
    "        '''\n",
    "        # 为每个 tag 添加百分号前后匹配\n",
    "        like_params = ['%' + tag + '%' for tag in tags]\n",
    "        cursor.execute(query, like_params)\n",
    "\n",
    "    # 获取查询结果\n",
    "    results = cursor.fetchall()\n",
    "\n",
    "    # 关闭数据库连接\n",
    "    conn.close()\n",
    "\n",
    "    # 返回匹配的 work_IDs 和对应的 view_count\n",
    "    return [result[0] for result in results],[result[1] for result in results],[result[2] for result in results],[result[3] for result in results]\n",
    "\n",
    "tag = 'R-18','女の子'\n",
    "matching_like, matching_bookmark, matching_view ,matching_tags = find_top_50_by_tag(tag, db_filename='web_info.db')\n",
    "#print(matching_tags)"
   ]
  },
  {
   "cell_type": "code",
   "execution_count": 57,
   "id": "f68500a0-47ab-4a6d-83ac-7d441bb9ba48",
   "metadata": {},
   "outputs": [
    {
     "name": "stdout",
     "output_type": "stream",
     "text": [
      "前 10 个最常出现的 tags: ['R-18', '女の子', '裸体', '巨乳', '魅惑の谷間', '3D', '釉瑚', '鸣潮', '全裸', 'epic7']。\n"
     ]
    }
   ],
   "source": [
    "import random\n",
    "from collections import Counter\n",
    "\n",
    "# 标准化标签函数：去除前后空格，并将全角空格替换为半角\n",
    "def normalize_tag(tag):\n",
    "    return tag.strip()\n",
    "\n",
    "\n",
    "def find_top_10_tags(matching_tags):\n",
    "   \n",
    "    # 将所有 tags 连接为一个长字符串，再分割为单个标签的列表，并标准化每个标签\n",
    "    all_tags = [normalize_tag(tag) for tag in ','.join(matching_tags).split(',')]\n",
    "    \n",
    "    # 使用 Counter 统计每个标签的出现频率\n",
    "    tag_count = Counter(all_tags)\n",
    "    \n",
    "    # 找出前 3 个最常出现的标签（如果有并列则随机选择）\n",
    "    most_common = tag_count.most_common()\n",
    "    #print(most_common)\n",
    "    \n",
    "    # 获取最高的频率\n",
    "    top_3 = []\n",
    "    current_rank = 1\n",
    "    i = 0\n",
    "    \n",
    "    while current_rank <= 10 and i < len(most_common):\n",
    "        freq = most_common[i][1]  # 当前标签的出现次数\n",
    "        # 找出所有出现次数相同的标签\n",
    "        same_freq_tags = [tag for tag, count in most_common if count == freq]\n",
    "        \n",
    "        # 从相同频率的标签中随机选择\n",
    "        selected_tags = random.sample(same_freq_tags, min(10 - len(top_3), len(same_freq_tags)))\n",
    "        top_3.extend(selected_tags)\n",
    "        \n",
    "        # 移动到下一个不同频率的标签\n",
    "        i += len(same_freq_tags)\n",
    "        current_rank += len(selected_tags)\n",
    "    \n",
    "    return top_3[:10]\n",
    "\n",
    "# 示例用法\n",
    "\n",
    "top_10_tags = find_top_10_tags(matching_tags)\n",
    "\n",
    "print(f'前 10 个最常出现的 tags: {top_10_tags}。')\n"
   ]
  },
  {
   "cell_type": "code",
   "execution_count": 58,
   "id": "4749d910-57f4-4d3f-a56f-7c8170a110ad",
   "metadata": {},
   "outputs": [
    {
     "name": "stdout",
     "output_type": "stream",
     "text": [
      "匹配\"('R-18', '女の子')\"的like : 129.0 +- 166.0\n",
      "匹配\"('R-18', '女の子')\"的bookmark : 226.0 +- 284.0\n",
      "匹配\"('R-18', '女の子')\"的view : 1902.0 +- 2332.0\n"
     ]
    }
   ],
   "source": [
    "import numpy as np\n",
    "mean_like = np.round(np.array(matching_like).mean(),0)\n",
    "std_like  = np.round(np.array(matching_like).std(),0)\n",
    "\n",
    "mean_bookmark = np.round(np.array(matching_bookmark).mean(),0)\n",
    "std_bookmark  = np.round(np.array(matching_bookmark).std(),0)\n",
    "\n",
    "mean_view = np.round(np.array(matching_view).mean(),0)\n",
    "std_view  = np.round(np.array(matching_view).std(),0)\n",
    "\n",
    "\n",
    "print(f'匹配\"{tag}\"的like : {mean_like} +- {std_like }')\n",
    "print(f'匹配\"{tag}\"的bookmark : {mean_bookmark} +- {std_bookmark }')\n",
    "print(f'匹配\"{tag}\"的view : {mean_view} +- {std_view }')"
   ]
  },
  {
   "cell_type": "code",
   "execution_count": null,
   "id": "7b13224c-68ec-46d2-8a99-3cece2bb3fb6",
   "metadata": {},
   "outputs": [],
   "source": []
  }
 ],
 "metadata": {
  "kernelspec": {
   "display_name": "Python 3 (ipykernel)",
   "language": "python",
   "name": "python3"
  },
  "language_info": {
   "codemirror_mode": {
    "name": "ipython",
    "version": 3
   },
   "file_extension": ".py",
   "mimetype": "text/x-python",
   "name": "python",
   "nbconvert_exporter": "python",
   "pygments_lexer": "ipython3",
   "version": "3.9.13"
  }
 },
 "nbformat": 4,
 "nbformat_minor": 5
}
