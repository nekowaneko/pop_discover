{
 "cells": [
  {
   "cell_type": "code",
   "execution_count": 51,
   "id": "b52040a6-7140-4319-a219-f6307bfc22e7",
   "metadata": {},
   "outputs": [
    {
     "name": "stdout",
     "output_type": "stream",
     "text": [
      "匹配\"美少女\"的like: [3, 17, 0], bookmark : [4, 30, 0], view : [94, 240, 96]\n"
     ]
    }
   ],
   "source": [
    "import sqlite3\n",
    "\n",
    "# 查找匹配 tags 的 work_ID 函数\n",
    "def find_id_by_tag(tag, db_filename='web_info.db'):\n",
    "    # 连接到 SQLite 数据库\n",
    "    conn = sqlite3.connect(db_filename)\n",
    "    cursor = conn.cursor()\n",
    "\n",
    "    # 执行查询，搜索包含指定 tag 的记录\n",
    "    cursor.execute('''\n",
    "        SELECT like_count,bookmark_count,view_count FROM web_info WHERE tags LIKE ?\n",
    "    ''', ('%' + tag + '%',))\n",
    "\n",
    "    # 获取所有匹配的结果\n",
    "    results = cursor.fetchall()\n",
    "\n",
    "    # 关闭数据库连接\n",
    "    conn.close()\n",
    "\n",
    "    # 返回匹配的 work_IDs\n",
    "    return [result[0] for result in results],[result[1] for result in results],[result[2] for result in results]\n",
    "\n",
    "# 示例用法\n",
    "tag = '美少女'\n",
    "matching_like, matching_bookmark, matching_view = find_id_by_tag(tag)\n",
    "\n",
    "print(f'匹配\"{tag}\"的like: {matching_like}, bookmark : {matching_bookmark}, view : {matching_view}')\n"
   ]
  },
  {
   "cell_type": "code",
   "execution_count": 53,
   "id": "4749d910-57f4-4d3f-a56f-7c8170a110ad",
   "metadata": {},
   "outputs": [
    {
     "name": "stdout",
     "output_type": "stream",
     "text": [
      "匹配\"美少女\"的like : 7.0 +- 7.0\n",
      "匹配\"美少女\"的bookmark : 11.0 +- 13.0\n",
      "匹配\"美少女\"的view : 143.0 +- 68.0\n"
     ]
    }
   ],
   "source": [
    "import numpy as np\n",
    "mean_like = np.round(np.array(matching_like).mean(),0)\n",
    "std_like  = np.round(np.array(matching_like).std(),0)\n",
    "\n",
    "mean_bookmark = np.round(np.array(matching_bookmark).mean(),0)\n",
    "std_bookmark  = np.round(np.array(matching_bookmark).std(),0)\n",
    "\n",
    "mean_view = np.round(np.array(matching_view).mean(),0)\n",
    "std_view  = np.round(np.array(matching_view).std(),0)\n",
    "\n",
    "\n",
    "print(f'匹配\"{tag}\"的like : {mean_like} +- {std_like }')\n",
    "print(f'匹配\"{tag}\"的bookmark : {mean_bookmark} +- {std_bookmark }')\n",
    "print(f'匹配\"{tag}\"的view : {mean_view} +- {std_view }')"
   ]
  },
  {
   "cell_type": "code",
   "execution_count": null,
   "id": "7b13224c-68ec-46d2-8a99-3cece2bb3fb6",
   "metadata": {},
   "outputs": [],
   "source": []
  }
 ],
 "metadata": {
  "kernelspec": {
   "display_name": "Python 3 (ipykernel)",
   "language": "python",
   "name": "python3"
  },
  "language_info": {
   "codemirror_mode": {
    "name": "ipython",
    "version": 3
   },
   "file_extension": ".py",
   "mimetype": "text/x-python",
   "name": "python",
   "nbconvert_exporter": "python",
   "pygments_lexer": "ipython3",
   "version": "3.12.4"
  }
 },
 "nbformat": 4,
 "nbformat_minor": 5
}
