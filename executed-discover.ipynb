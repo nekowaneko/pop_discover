{
 "cells": [
  {
   "cell_type": "code",
   "execution_count": 1,
   "id": "e8671cd2-37e4-4acc-bc20-9a6b4420b8e1",
   "metadata": {
    "execution": {
     "iopub.execute_input": "2025-01-03T06:14:00.775551Z",
     "iopub.status.busy": "2025-01-03T06:14:00.775001Z",
     "iopub.status.idle": "2025-01-03T06:14:00.849238Z",
     "shell.execute_reply": "2025-01-03T06:14:00.848692Z"
    }
   },
   "outputs": [],
   "source": [
    "import requests\n",
    "import time\n",
    "import random\n",
    "import sqlite3\n",
    "from tqdm import tqdm\n",
    "\n",
    "# IP列表\n",
    "'''\n",
    "IP_LIST = ['20.213.247.195','13.74.59.33','145.40.121.101','45.167.125.97','157.100.12.138',\n",
    "           '173.244.48.9','51.79.205.165','190.15.103.66','45.42.177.50','8.219.64.236']\n",
    "\n",
    "def get_random_proxy():\n",
    "    ip = random.choice(IP_LIST)\n",
    "    return {\"http\": f\"http://{ip}\", \"https\": f\"http://{ip}\"}\n",
    "'''\n",
    "\n",
    "def init_db():\n",
    "    conn = sqlite3.connect('web_info.db')  # 更改為 web_info.db\n",
    "    c = conn.cursor()\n",
    "    c.execute('''CREATE TABLE IF NOT EXISTS web_info (\n",
    "            work_ID TEXT PRIMARY KEY,\n",
    "            title TEXT,\n",
    "            tags TEXT,\n",
    "            like_count INTEGER,\n",
    "            bookmark_count INTEGER,\n",
    "            view_count INTEGER,\n",
    "            image_url TEXT\n",
    "        )''')\n",
    "    conn.commit()\n",
    "    return conn\n",
    "\n",
    "def get_last_work_id(conn):\n",
    "    c = conn.cursor()\n",
    "    c.execute(\"SELECT MAX(work_ID) FROM web_info\")\n",
    "    result = c.fetchone()[0]\n",
    "    return result if result else 0\n",
    "\n",
    "connn = init_db()\n",
    "\n",
    "start_id = int(get_last_work_id(connn)) + 1"
   ]
  },
  {
   "cell_type": "code",
   "execution_count": 2,
   "id": "b38defef-e43a-4c2f-8607-fe19909046fd",
   "metadata": {
    "execution": {
     "iopub.execute_input": "2025-01-03T06:14:00.851400Z",
     "iopub.status.busy": "2025-01-03T06:14:00.851106Z",
     "iopub.status.idle": "2025-01-03T06:55:04.745789Z",
     "shell.execute_reply": "2025-01-03T06:55:04.745257Z"
    }
   },
   "outputs": [
    {
     "name": "stdout",
     "output_type": "stream",
     "text": [
      "Starting search from ID: 121278768\n"
     ]
    },
    {
     "name": "stderr",
     "output_type": "stream",
     "text": [
      "\r",
      "Finding valid work IDs:   0%|          | 0/200 [00:00<?, ?ID/s]"
     ]
    },
    {
     "name": "stderr",
     "output_type": "stream",
     "text": [
      "\r",
      "Finding valid work IDs:   0%|          | 1/200 [00:00<00:54,  3.65ID/s]"
     ]
    },
    {
     "name": "stderr",
     "output_type": "stream",
     "text": [
      "\r",
      "Finding valid work IDs:   0%|          | 1/200 [00:00<00:54,  3.65ID/s, Latest ID: 121278768]"
     ]
    },
    {
     "name": "stderr",
     "output_type": "stream",
     "text": [
      "\r",
      "Finding valid work IDs:   1%|          | 2/200 [00:09<18:48,  5.70s/ID, Latest ID: 121278768]"
     ]
    },
    {
     "name": "stderr",
     "output_type": "stream",
     "text": [
      "\r",
      "Finding valid work IDs:   1%|          | 2/200 [00:09<18:48,  5.70s/ID, Latest ID: 121278769]"
     ]
    },
    {
     "name": "stderr",
     "output_type": "stream",
     "text": [
      "\r",
      "Finding valid work IDs:   2%|▏         | 3/200 [00:17<21:53,  6.67s/ID, Latest ID: 121278769]"
     ]
    },
    {
     "name": "stderr",
     "output_type": "stream",
     "text": [
      "\r",
      "Finding valid work IDs:   2%|▏         | 3/200 [00:17<21:53,  6.67s/ID, Latest ID: 121278770]"
     ]
    },
    {
     "name": "stderr",
     "output_type": "stream",
     "text": [
      "\r",
      "Finding valid work IDs:   2%|▏         | 4/200 [00:29<28:12,  8.63s/ID, Latest ID: 121278770]"
     ]
    },
    {
     "name": "stderr",
     "output_type": "stream",
     "text": [
      "\r",
      "Finding valid work IDs:   2%|▏         | 4/200 [00:29<28:12,  8.63s/ID, Latest ID: 121278771]"
     ]
    },
    {
     "name": "stderr",
     "output_type": "stream",
     "text": [
      "\r",
      "Finding valid work IDs:   2%|▎         | 5/200 [00:40<31:35,  9.72s/ID, Latest ID: 121278771]"
     ]
    },
    {
     "name": "stderr",
     "output_type": "stream",
     "text": [
      "\r",
      "Finding valid work IDs:   2%|▎         | 5/200 [00:40<31:35,  9.72s/ID, Latest ID: 121278772]"
     ]
    },
    {
     "name": "stderr",
     "output_type": "stream",
     "text": [
      "\r",
      "Finding valid work IDs:   3%|▎         | 6/200 [00:53<34:31, 10.68s/ID, Latest ID: 121278772]"
     ]
    },
    {
     "name": "stderr",
     "output_type": "stream",
     "text": [
      "\r",
      "Finding valid work IDs:   3%|▎         | 6/200 [00:53<34:31, 10.68s/ID, Latest ID: 121278773]"
     ]
    },
    {
     "name": "stderr",
     "output_type": "stream",
     "text": [
      "\r",
      "Finding valid work IDs:   4%|▎         | 7/200 [01:03<33:59, 10.57s/ID, Latest ID: 121278773]"
     ]
    },
    {
     "name": "stderr",
     "output_type": "stream",
     "text": [
      "\r",
      "Finding valid work IDs:   4%|▎         | 7/200 [01:03<33:59, 10.57s/ID, Latest ID: 121278774]"
     ]
    },
    {
     "name": "stderr",
     "output_type": "stream",
     "text": [
      "\r",
      "Finding valid work IDs:   4%|▍         | 8/200 [01:24<44:40, 13.96s/ID, Latest ID: 121278774]"
     ]
    },
    {
     "name": "stderr",
     "output_type": "stream",
     "text": [
      "\r",
      "Finding valid work IDs:   4%|▍         | 8/200 [01:24<44:40, 13.96s/ID, Latest ID: 121278776]"
     ]
    },
    {
     "name": "stderr",
     "output_type": "stream",
     "text": [
      "\r",
      "Finding valid work IDs:   4%|▍         | 9/200 [01:38<43:30, 13.67s/ID, Latest ID: 121278776]"
     ]
    },
    {
     "name": "stderr",
     "output_type": "stream",
     "text": [
      "\r",
      "Finding valid work IDs:   4%|▍         | 9/200 [01:38<43:30, 13.67s/ID, Latest ID: 121278777]"
     ]
    },
    {
     "name": "stderr",
     "output_type": "stream",
     "text": [
      "\r",
      "Finding valid work IDs:   5%|▌         | 10/200 [01:50<42:21, 13.38s/ID, Latest ID: 121278777]"
     ]
    },
    {
     "name": "stderr",
     "output_type": "stream",
     "text": [
      "\r",
      "Finding valid work IDs:   5%|▌         | 10/200 [01:50<42:21, 13.38s/ID, Latest ID: 121278778]"
     ]
    },
    {
     "name": "stderr",
     "output_type": "stream",
     "text": [
      "\r",
      "Finding valid work IDs:   6%|▌         | 11/200 [02:19<57:03, 18.11s/ID, Latest ID: 121278778]"
     ]
    },
    {
     "name": "stderr",
     "output_type": "stream",
     "text": [
      "\r",
      "Finding valid work IDs:   6%|▌         | 11/200 [02:19<57:03, 18.11s/ID, Latest ID: 121278781]"
     ]
    },
    {
     "name": "stderr",
     "output_type": "stream",
     "text": [
      "\r",
      "Finding valid work IDs:   6%|▌         | 12/200 [02:32<51:39, 16.49s/ID, Latest ID: 121278781]"
     ]
    },
    {
     "name": "stderr",
     "output_type": "stream",
     "text": [
      "\r",
      "Finding valid work IDs:   6%|▌         | 12/200 [02:32<51:39, 16.49s/ID, Latest ID: 121278782]"
     ]
    },
    {
     "name": "stderr",
     "output_type": "stream",
     "text": [
      "\r",
      "Finding valid work IDs:   6%|▋         | 13/200 [02:42<45:50, 14.71s/ID, Latest ID: 121278782]"
     ]
    },
    {
     "name": "stderr",
     "output_type": "stream",
     "text": [
      "\r",
      "Finding valid work IDs:   6%|▋         | 13/200 [02:42<45:50, 14.71s/ID, Latest ID: 121278783]"
     ]
    },
    {
     "name": "stderr",
     "output_type": "stream",
     "text": [
      "\r",
      "Finding valid work IDs:   7%|▋         | 14/200 [02:54<42:47, 13.80s/ID, Latest ID: 121278783]"
     ]
    },
    {
     "name": "stderr",
     "output_type": "stream",
     "text": [
      "\r",
      "Finding valid work IDs:   7%|▋         | 14/200 [02:54<42:47, 13.80s/ID, Latest ID: 121278784]"
     ]
    },
    {
     "name": "stderr",
     "output_type": "stream",
     "text": [
      "\r",
      "Finding valid work IDs:   8%|▊         | 15/200 [03:03<37:37, 12.20s/ID, Latest ID: 121278784]"
     ]
    },
    {
     "name": "stderr",
     "output_type": "stream",
     "text": [
      "\r",
      "Finding valid work IDs:   8%|▊         | 15/200 [03:03<37:37, 12.20s/ID, Latest ID: 121278785]"
     ]
    },
    {
     "name": "stderr",
     "output_type": "stream",
     "text": [
      "\r",
      "Finding valid work IDs:   8%|▊         | 16/200 [03:09<31:34, 10.30s/ID, Latest ID: 121278785]"
     ]
    },
    {
     "name": "stderr",
     "output_type": "stream",
     "text": [
      "\r",
      "Finding valid work IDs:   8%|▊         | 16/200 [03:09<31:34, 10.30s/ID, Latest ID: 121278786]"
     ]
    },
    {
     "name": "stderr",
     "output_type": "stream",
     "text": [
      "\r",
      "Finding valid work IDs:   8%|▊         | 17/200 [03:18<30:28,  9.99s/ID, Latest ID: 121278786]"
     ]
    },
    {
     "name": "stderr",
     "output_type": "stream",
     "text": [
      "\r",
      "Finding valid work IDs:   8%|▊         | 17/200 [03:18<30:28,  9.99s/ID, Latest ID: 121278787]"
     ]
    },
    {
     "name": "stderr",
     "output_type": "stream",
     "text": [
      "\r",
      "Finding valid work IDs:   9%|▉         | 18/200 [03:25<27:43,  9.14s/ID, Latest ID: 121278787]"
     ]
    },
    {
     "name": "stderr",
     "output_type": "stream",
     "text": [
      "\r",
      "Finding valid work IDs:   9%|▉         | 18/200 [03:25<27:43,  9.14s/ID, Latest ID: 121278788]"
     ]
    },
    {
     "name": "stderr",
     "output_type": "stream",
     "text": [
      "\r",
      "Finding valid work IDs:  10%|▉         | 19/200 [03:37<30:05,  9.98s/ID, Latest ID: 121278788]"
     ]
    },
    {
     "name": "stderr",
     "output_type": "stream",
     "text": [
      "\r",
      "Finding valid work IDs:  10%|▉         | 19/200 [03:37<30:05,  9.98s/ID, Latest ID: 121278789]"
     ]
    },
    {
     "name": "stderr",
     "output_type": "stream",
     "text": [
      "\r",
      "Finding valid work IDs:  10%|█         | 20/200 [03:49<32:07, 10.71s/ID, Latest ID: 121278789]"
     ]
    },
    {
     "name": "stderr",
     "output_type": "stream",
     "text": [
      "\r",
      "Finding valid work IDs:  10%|█         | 20/200 [03:49<32:07, 10.71s/ID, Latest ID: 121278790]"
     ]
    },
    {
     "name": "stderr",
     "output_type": "stream",
     "text": [
      "\r",
      "Finding valid work IDs:  10%|█         | 21/200 [03:58<30:06, 10.09s/ID, Latest ID: 121278790]"
     ]
    },
    {
     "name": "stderr",
     "output_type": "stream",
     "text": [
      "\r",
      "Finding valid work IDs:  10%|█         | 21/200 [03:58<30:06, 10.09s/ID, Latest ID: 121278791]"
     ]
    },
    {
     "name": "stderr",
     "output_type": "stream",
     "text": [
      "\r",
      "Finding valid work IDs:  11%|█         | 22/200 [04:10<31:23, 10.58s/ID, Latest ID: 121278791]"
     ]
    },
    {
     "name": "stderr",
     "output_type": "stream",
     "text": [
      "\r",
      "Finding valid work IDs:  11%|█         | 22/200 [04:10<31:23, 10.58s/ID, Latest ID: 121278792]"
     ]
    },
    {
     "name": "stderr",
     "output_type": "stream",
     "text": [
      "\r",
      "Finding valid work IDs:  12%|█▏        | 23/200 [04:25<35:01, 11.87s/ID, Latest ID: 121278792]"
     ]
    },
    {
     "name": "stderr",
     "output_type": "stream",
     "text": [
      "\r",
      "Finding valid work IDs:  12%|█▏        | 23/200 [04:25<35:01, 11.87s/ID, Latest ID: 121278793]"
     ]
    },
    {
     "name": "stderr",
     "output_type": "stream",
     "text": [
      "\r",
      "Finding valid work IDs:  12%|█▏        | 24/200 [04:37<35:35, 12.13s/ID, Latest ID: 121278793]"
     ]
    },
    {
     "name": "stderr",
     "output_type": "stream",
     "text": [
      "\r",
      "Finding valid work IDs:  12%|█▏        | 24/200 [04:37<35:35, 12.13s/ID, Latest ID: 121278794]"
     ]
    },
    {
     "name": "stderr",
     "output_type": "stream",
     "text": [
      "\r",
      "Finding valid work IDs:  12%|█▎        | 25/200 [04:51<36:53, 12.65s/ID, Latest ID: 121278794]"
     ]
    },
    {
     "name": "stderr",
     "output_type": "stream",
     "text": [
      "\r",
      "Finding valid work IDs:  12%|█▎        | 25/200 [04:51<36:53, 12.65s/ID, Latest ID: 121278795]"
     ]
    },
    {
     "name": "stderr",
     "output_type": "stream",
     "text": [
      "\r",
      "Finding valid work IDs:  13%|█▎        | 26/200 [05:01<34:05, 11.75s/ID, Latest ID: 121278795]"
     ]
    },
    {
     "name": "stderr",
     "output_type": "stream",
     "text": [
      "\r",
      "Finding valid work IDs:  13%|█▎        | 26/200 [05:01<34:05, 11.75s/ID, Latest ID: 121278796]"
     ]
    },
    {
     "name": "stderr",
     "output_type": "stream",
     "text": [
      "\r",
      "Finding valid work IDs:  14%|█▎        | 27/200 [05:07<29:09, 10.11s/ID, Latest ID: 121278796]"
     ]
    },
    {
     "name": "stderr",
     "output_type": "stream",
     "text": [
      "\r",
      "Finding valid work IDs:  14%|█▎        | 27/200 [05:07<29:09, 10.11s/ID, Latest ID: 121278797]"
     ]
    },
    {
     "name": "stderr",
     "output_type": "stream",
     "text": [
      "\r",
      "Finding valid work IDs:  14%|█▍        | 28/200 [05:14<25:49,  9.01s/ID, Latest ID: 121278797]"
     ]
    },
    {
     "name": "stderr",
     "output_type": "stream",
     "text": [
      "\r",
      "Finding valid work IDs:  14%|█▍        | 28/200 [05:14<25:49,  9.01s/ID, Latest ID: 121278798]"
     ]
    },
    {
     "name": "stderr",
     "output_type": "stream",
     "text": [
      "\r",
      "Finding valid work IDs:  14%|█▍        | 29/200 [05:32<33:23, 11.72s/ID, Latest ID: 121278798]"
     ]
    },
    {
     "name": "stderr",
     "output_type": "stream",
     "text": [
      "\r",
      "Finding valid work IDs:  14%|█▍        | 29/200 [05:32<33:23, 11.72s/ID, Latest ID: 121278800]"
     ]
    },
    {
     "name": "stderr",
     "output_type": "stream",
     "text": [
      "\r",
      "Finding valid work IDs:  15%|█▌        | 30/200 [05:47<35:55, 12.68s/ID, Latest ID: 121278800]"
     ]
    },
    {
     "name": "stderr",
     "output_type": "stream",
     "text": [
      "\r",
      "Finding valid work IDs:  15%|█▌        | 30/200 [05:47<35:55, 12.68s/ID, Latest ID: 121278801]"
     ]
    },
    {
     "name": "stderr",
     "output_type": "stream",
     "text": [
      "\r",
      "Finding valid work IDs:  16%|█▌        | 31/200 [06:06<41:23, 14.69s/ID, Latest ID: 121278801]"
     ]
    },
    {
     "name": "stderr",
     "output_type": "stream",
     "text": [
      "\r",
      "Finding valid work IDs:  16%|█▌        | 31/200 [06:06<41:23, 14.69s/ID, Latest ID: 121278803]"
     ]
    },
    {
     "name": "stderr",
     "output_type": "stream",
     "text": [
      "\r",
      "Finding valid work IDs:  16%|█▌        | 32/200 [06:46<1:02:14, 22.23s/ID, Latest ID: 121278803]"
     ]
    },
    {
     "name": "stderr",
     "output_type": "stream",
     "text": [
      "\r",
      "Finding valid work IDs:  16%|█▌        | 32/200 [06:46<1:02:14, 22.23s/ID, Latest ID: 121278806]"
     ]
    },
    {
     "name": "stderr",
     "output_type": "stream",
     "text": [
      "\r",
      "Finding valid work IDs:  16%|█▋        | 33/200 [07:00<55:28, 19.93s/ID, Latest ID: 121278806]  "
     ]
    },
    {
     "name": "stderr",
     "output_type": "stream",
     "text": [
      "\r",
      "Finding valid work IDs:  16%|█▋        | 33/200 [07:00<55:28, 19.93s/ID, Latest ID: 121278807]"
     ]
    },
    {
     "name": "stderr",
     "output_type": "stream",
     "text": [
      "\r",
      "Finding valid work IDs:  17%|█▋        | 34/200 [07:06<43:44, 15.81s/ID, Latest ID: 121278807]"
     ]
    },
    {
     "name": "stderr",
     "output_type": "stream",
     "text": [
      "\r",
      "Finding valid work IDs:  17%|█▋        | 34/200 [07:07<43:44, 15.81s/ID, Latest ID: 121278808]"
     ]
    },
    {
     "name": "stderr",
     "output_type": "stream",
     "text": [
      "\r",
      "Finding valid work IDs:  18%|█▊        | 35/200 [07:32<51:36, 18.77s/ID, Latest ID: 121278808]"
     ]
    },
    {
     "name": "stderr",
     "output_type": "stream",
     "text": [
      "\r",
      "Finding valid work IDs:  18%|█▊        | 35/200 [07:32<51:36, 18.77s/ID, Latest ID: 121278811]"
     ]
    },
    {
     "name": "stderr",
     "output_type": "stream",
     "text": [
      "\r",
      "Finding valid work IDs:  18%|█▊        | 36/200 [07:44<45:16, 16.56s/ID, Latest ID: 121278811]"
     ]
    },
    {
     "name": "stderr",
     "output_type": "stream",
     "text": [
      "\r",
      "Finding valid work IDs:  18%|█▊        | 36/200 [07:44<45:16, 16.56s/ID, Latest ID: 121278812]"
     ]
    },
    {
     "name": "stderr",
     "output_type": "stream",
     "text": [
      "\r",
      "Finding valid work IDs:  18%|█▊        | 37/200 [07:53<38:54, 14.32s/ID, Latest ID: 121278812]"
     ]
    },
    {
     "name": "stderr",
     "output_type": "stream",
     "text": [
      "\r",
      "Finding valid work IDs:  18%|█▊        | 37/200 [07:53<38:54, 14.32s/ID, Latest ID: 121278813]"
     ]
    },
    {
     "name": "stderr",
     "output_type": "stream",
     "text": [
      "\r",
      "Finding valid work IDs:  19%|█▉        | 38/200 [08:03<35:38, 13.20s/ID, Latest ID: 121278813]"
     ]
    },
    {
     "name": "stderr",
     "output_type": "stream",
     "text": [
      "\r",
      "Finding valid work IDs:  19%|█▉        | 38/200 [08:03<35:38, 13.20s/ID, Latest ID: 121278814]"
     ]
    },
    {
     "name": "stderr",
     "output_type": "stream",
     "text": [
      "\r",
      "Finding valid work IDs:  20%|█▉        | 39/200 [08:09<29:30, 10.99s/ID, Latest ID: 121278814]"
     ]
    },
    {
     "name": "stderr",
     "output_type": "stream",
     "text": [
      "\r",
      "Finding valid work IDs:  20%|█▉        | 39/200 [08:09<29:30, 10.99s/ID, Latest ID: 121278815]"
     ]
    },
    {
     "name": "stderr",
     "output_type": "stream",
     "text": [
      "\r",
      "Finding valid work IDs:  20%|██        | 40/200 [08:20<29:37, 11.11s/ID, Latest ID: 121278815]"
     ]
    },
    {
     "name": "stderr",
     "output_type": "stream",
     "text": [
      "\r",
      "Finding valid work IDs:  20%|██        | 40/200 [08:20<29:37, 11.11s/ID, Latest ID: 121278816]"
     ]
    },
    {
     "name": "stderr",
     "output_type": "stream",
     "text": [
      "\r",
      "Finding valid work IDs:  20%|██        | 41/200 [08:29<27:37, 10.42s/ID, Latest ID: 121278816]"
     ]
    },
    {
     "name": "stderr",
     "output_type": "stream",
     "text": [
      "\r",
      "Finding valid work IDs:  20%|██        | 41/200 [08:29<27:37, 10.42s/ID, Latest ID: 121278817]"
     ]
    },
    {
     "name": "stderr",
     "output_type": "stream",
     "text": [
      "\r",
      "Finding valid work IDs:  21%|██        | 42/200 [08:36<24:40,  9.37s/ID, Latest ID: 121278817]"
     ]
    },
    {
     "name": "stderr",
     "output_type": "stream",
     "text": [
      "\r",
      "Finding valid work IDs:  21%|██        | 42/200 [08:36<24:40,  9.37s/ID, Latest ID: 121278818]"
     ]
    },
    {
     "name": "stderr",
     "output_type": "stream",
     "text": [
      "\r",
      "Finding valid work IDs:  22%|██▏       | 43/200 [08:49<27:07, 10.37s/ID, Latest ID: 121278818]"
     ]
    },
    {
     "name": "stderr",
     "output_type": "stream",
     "text": [
      "\r",
      "Finding valid work IDs:  22%|██▏       | 43/200 [08:49<27:07, 10.37s/ID, Latest ID: 121278819]"
     ]
    },
    {
     "name": "stderr",
     "output_type": "stream",
     "text": [
      "\r",
      "Finding valid work IDs:  22%|██▏       | 44/200 [08:57<25:17,  9.73s/ID, Latest ID: 121278819]"
     ]
    },
    {
     "name": "stderr",
     "output_type": "stream",
     "text": [
      "\r",
      "Finding valid work IDs:  22%|██▏       | 44/200 [08:57<25:17,  9.73s/ID, Latest ID: 121278820]"
     ]
    },
    {
     "name": "stderr",
     "output_type": "stream",
     "text": [
      "\r",
      "Finding valid work IDs:  22%|██▎       | 45/200 [09:17<32:38, 12.64s/ID, Latest ID: 121278820]"
     ]
    },
    {
     "name": "stderr",
     "output_type": "stream",
     "text": [
      "\r",
      "Finding valid work IDs:  22%|██▎       | 45/200 [09:17<32:38, 12.64s/ID, Latest ID: 121278822]"
     ]
    },
    {
     "name": "stderr",
     "output_type": "stream",
     "text": [
      "\r",
      "Finding valid work IDs:  23%|██▎       | 46/200 [09:26<29:52, 11.64s/ID, Latest ID: 121278822]"
     ]
    },
    {
     "name": "stderr",
     "output_type": "stream",
     "text": [
      "\r",
      "Finding valid work IDs:  23%|██▎       | 46/200 [09:26<29:52, 11.64s/ID, Latest ID: 121278823]"
     ]
    },
    {
     "name": "stderr",
     "output_type": "stream",
     "text": [
      "\r",
      "Finding valid work IDs:  24%|██▎       | 47/200 [09:33<25:55, 10.17s/ID, Latest ID: 121278823]"
     ]
    },
    {
     "name": "stderr",
     "output_type": "stream",
     "text": [
      "\r",
      "Finding valid work IDs:  24%|██▎       | 47/200 [09:33<25:55, 10.17s/ID, Latest ID: 121278824]"
     ]
    },
    {
     "name": "stderr",
     "output_type": "stream",
     "text": [
      "\r",
      "Finding valid work IDs:  24%|██▍       | 48/200 [09:45<27:06, 10.70s/ID, Latest ID: 121278824]"
     ]
    },
    {
     "name": "stderr",
     "output_type": "stream",
     "text": [
      "\r",
      "Finding valid work IDs:  24%|██▍       | 48/200 [09:45<27:06, 10.70s/ID, Latest ID: 121278825]"
     ]
    },
    {
     "name": "stderr",
     "output_type": "stream",
     "text": [
      "\r",
      "Finding valid work IDs:  24%|██▍       | 49/200 [09:51<23:42,  9.42s/ID, Latest ID: 121278825]"
     ]
    },
    {
     "name": "stderr",
     "output_type": "stream",
     "text": [
      "\r",
      "Finding valid work IDs:  24%|██▍       | 49/200 [09:51<23:42,  9.42s/ID, Latest ID: 121278826]"
     ]
    },
    {
     "name": "stderr",
     "output_type": "stream",
     "text": [
      "\r",
      "Finding valid work IDs:  25%|██▌       | 50/200 [10:10<31:03, 12.42s/ID, Latest ID: 121278826]"
     ]
    },
    {
     "name": "stderr",
     "output_type": "stream",
     "text": [
      "\r",
      "Finding valid work IDs:  25%|██▌       | 50/200 [10:10<31:03, 12.42s/ID, Latest ID: 121278828]"
     ]
    },
    {
     "name": "stderr",
     "output_type": "stream",
     "text": [
      "\r",
      "Finding valid work IDs:  26%|██▌       | 51/200 [10:19<27:56, 11.25s/ID, Latest ID: 121278828]"
     ]
    },
    {
     "name": "stderr",
     "output_type": "stream",
     "text": [
      "\r",
      "Finding valid work IDs:  26%|██▌       | 51/200 [10:19<27:56, 11.25s/ID, Latest ID: 121278829]"
     ]
    },
    {
     "name": "stderr",
     "output_type": "stream",
     "text": [
      "\r",
      "Finding valid work IDs:  26%|██▌       | 52/200 [10:32<28:51, 11.70s/ID, Latest ID: 121278829]"
     ]
    },
    {
     "name": "stderr",
     "output_type": "stream",
     "text": [
      "\r",
      "Finding valid work IDs:  26%|██▌       | 52/200 [10:32<28:51, 11.70s/ID, Latest ID: 121278830]"
     ]
    },
    {
     "name": "stderr",
     "output_type": "stream",
     "text": [
      "\r",
      "Finding valid work IDs:  26%|██▋       | 53/200 [10:58<39:35, 16.16s/ID, Latest ID: 121278830]"
     ]
    },
    {
     "name": "stderr",
     "output_type": "stream",
     "text": [
      "\r",
      "Finding valid work IDs:  26%|██▋       | 53/200 [10:58<39:35, 16.16s/ID, Latest ID: 121278832]"
     ]
    },
    {
     "name": "stderr",
     "output_type": "stream",
     "text": [
      "\r",
      "Finding valid work IDs:  27%|██▋       | 54/200 [11:12<37:35, 15.45s/ID, Latest ID: 121278832]"
     ]
    },
    {
     "name": "stderr",
     "output_type": "stream",
     "text": [
      "\r",
      "Finding valid work IDs:  27%|██▋       | 54/200 [11:12<37:35, 15.45s/ID, Latest ID: 121278834]"
     ]
    },
    {
     "name": "stderr",
     "output_type": "stream",
     "text": [
      "\r",
      "Finding valid work IDs:  28%|██▊       | 55/200 [11:25<35:24, 14.65s/ID, Latest ID: 121278834]"
     ]
    },
    {
     "name": "stderr",
     "output_type": "stream",
     "text": [
      "\r",
      "Finding valid work IDs:  28%|██▊       | 55/200 [11:25<35:24, 14.65s/ID, Latest ID: 121278835]"
     ]
    },
    {
     "name": "stderr",
     "output_type": "stream",
     "text": [
      "\r",
      "Finding valid work IDs:  28%|██▊       | 56/200 [11:30<28:40, 11.95s/ID, Latest ID: 121278835]"
     ]
    },
    {
     "name": "stderr",
     "output_type": "stream",
     "text": [
      "\r",
      "Finding valid work IDs:  28%|██▊       | 56/200 [11:30<28:40, 11.95s/ID, Latest ID: 121278836]"
     ]
    },
    {
     "name": "stderr",
     "output_type": "stream",
     "text": [
      "\r",
      "Finding valid work IDs:  28%|██▊       | 57/200 [11:44<29:56, 12.56s/ID, Latest ID: 121278836]"
     ]
    },
    {
     "name": "stderr",
     "output_type": "stream",
     "text": [
      "\r",
      "Finding valid work IDs:  28%|██▊       | 57/200 [11:44<29:56, 12.56s/ID, Latest ID: 121278837]"
     ]
    },
    {
     "name": "stderr",
     "output_type": "stream",
     "text": [
      "\r",
      "Finding valid work IDs:  29%|██▉       | 58/200 [11:53<26:44, 11.30s/ID, Latest ID: 121278837]"
     ]
    },
    {
     "name": "stderr",
     "output_type": "stream",
     "text": [
      "\r",
      "Finding valid work IDs:  29%|██▉       | 58/200 [11:53<26:44, 11.30s/ID, Latest ID: 121278838]"
     ]
    },
    {
     "name": "stderr",
     "output_type": "stream",
     "text": [
      "\r",
      "Finding valid work IDs:  30%|██▉       | 59/200 [12:05<27:07, 11.54s/ID, Latest ID: 121278838]"
     ]
    },
    {
     "name": "stderr",
     "output_type": "stream",
     "text": [
      "\r",
      "Finding valid work IDs:  30%|██▉       | 59/200 [12:05<27:07, 11.54s/ID, Latest ID: 121278839]"
     ]
    },
    {
     "name": "stderr",
     "output_type": "stream",
     "text": [
      "\r",
      "Finding valid work IDs:  30%|███       | 60/200 [12:13<24:23, 10.46s/ID, Latest ID: 121278839]"
     ]
    },
    {
     "name": "stderr",
     "output_type": "stream",
     "text": [
      "\r",
      "Finding valid work IDs:  30%|███       | 60/200 [12:13<24:23, 10.46s/ID, Latest ID: 121278840]"
     ]
    },
    {
     "name": "stderr",
     "output_type": "stream",
     "text": [
      "\r",
      "Finding valid work IDs:  30%|███       | 61/200 [12:27<26:40, 11.51s/ID, Latest ID: 121278840]"
     ]
    },
    {
     "name": "stderr",
     "output_type": "stream",
     "text": [
      "\r",
      "Finding valid work IDs:  30%|███       | 61/200 [12:27<26:40, 11.51s/ID, Latest ID: 121278841]"
     ]
    },
    {
     "name": "stderr",
     "output_type": "stream",
     "text": [
      "\r",
      "Finding valid work IDs:  31%|███       | 62/200 [12:37<25:23, 11.04s/ID, Latest ID: 121278841]"
     ]
    },
    {
     "name": "stderr",
     "output_type": "stream",
     "text": [
      "\r",
      "Finding valid work IDs:  31%|███       | 62/200 [12:37<25:23, 11.04s/ID, Latest ID: 121278842]"
     ]
    },
    {
     "name": "stderr",
     "output_type": "stream",
     "text": [
      "\r",
      "Finding valid work IDs:  32%|███▏      | 63/200 [12:47<24:32, 10.75s/ID, Latest ID: 121278842]"
     ]
    },
    {
     "name": "stderr",
     "output_type": "stream",
     "text": [
      "\r",
      "Finding valid work IDs:  32%|███▏      | 63/200 [12:47<24:32, 10.75s/ID, Latest ID: 121278843]"
     ]
    },
    {
     "name": "stderr",
     "output_type": "stream",
     "text": [
      "\r",
      "Finding valid work IDs:  32%|███▏      | 64/200 [12:52<20:54,  9.22s/ID, Latest ID: 121278843]"
     ]
    },
    {
     "name": "stderr",
     "output_type": "stream",
     "text": [
      "\r",
      "Finding valid work IDs:  32%|███▏      | 64/200 [12:52<20:54,  9.22s/ID, Latest ID: 121278844]"
     ]
    },
    {
     "name": "stderr",
     "output_type": "stream",
     "text": [
      "\r",
      "Finding valid work IDs:  32%|███▎      | 65/200 [13:02<21:10,  9.41s/ID, Latest ID: 121278844]"
     ]
    },
    {
     "name": "stderr",
     "output_type": "stream",
     "text": [
      "\r",
      "Finding valid work IDs:  32%|███▎      | 65/200 [13:02<21:10,  9.41s/ID, Latest ID: 121278845]"
     ]
    },
    {
     "name": "stderr",
     "output_type": "stream",
     "text": [
      "\r",
      "Finding valid work IDs:  33%|███▎      | 66/200 [13:15<23:03, 10.32s/ID, Latest ID: 121278845]"
     ]
    },
    {
     "name": "stderr",
     "output_type": "stream",
     "text": [
      "\r",
      "Finding valid work IDs:  33%|███▎      | 66/200 [13:15<23:03, 10.32s/ID, Latest ID: 121278846]"
     ]
    },
    {
     "name": "stderr",
     "output_type": "stream",
     "text": [
      "\r",
      "Finding valid work IDs:  34%|███▎      | 67/200 [13:35<29:36, 13.36s/ID, Latest ID: 121278846]"
     ]
    },
    {
     "name": "stderr",
     "output_type": "stream",
     "text": [
      "\r",
      "Finding valid work IDs:  34%|███▎      | 67/200 [13:35<29:36, 13.36s/ID, Latest ID: 121278848]"
     ]
    },
    {
     "name": "stderr",
     "output_type": "stream",
     "text": [
      "\r",
      "Finding valid work IDs:  34%|███▍      | 68/200 [13:56<34:15, 15.57s/ID, Latest ID: 121278848]"
     ]
    },
    {
     "name": "stderr",
     "output_type": "stream",
     "text": [
      "\r",
      "Finding valid work IDs:  34%|███▍      | 68/200 [13:56<34:15, 15.57s/ID, Latest ID: 121278850]"
     ]
    },
    {
     "name": "stderr",
     "output_type": "stream",
     "text": [
      "\r",
      "Finding valid work IDs:  34%|███▍      | 69/200 [14:05<29:32, 13.53s/ID, Latest ID: 121278850]"
     ]
    },
    {
     "name": "stderr",
     "output_type": "stream",
     "text": [
      "\r",
      "Finding valid work IDs:  34%|███▍      | 69/200 [14:05<29:32, 13.53s/ID, Latest ID: 121278851]"
     ]
    },
    {
     "name": "stderr",
     "output_type": "stream",
     "text": [
      "\r",
      "Finding valid work IDs:  35%|███▌      | 70/200 [14:25<33:27, 15.44s/ID, Latest ID: 121278851]"
     ]
    },
    {
     "name": "stderr",
     "output_type": "stream",
     "text": [
      "\r",
      "Finding valid work IDs:  35%|███▌      | 70/200 [14:25<33:27, 15.44s/ID, Latest ID: 121278853]"
     ]
    },
    {
     "name": "stderr",
     "output_type": "stream",
     "text": [
      "\r",
      "Finding valid work IDs:  36%|███▌      | 71/200 [14:32<27:55, 12.99s/ID, Latest ID: 121278853]"
     ]
    },
    {
     "name": "stderr",
     "output_type": "stream",
     "text": [
      "\r",
      "Finding valid work IDs:  36%|███▌      | 71/200 [14:32<27:55, 12.99s/ID, Latest ID: 121278854]"
     ]
    },
    {
     "name": "stderr",
     "output_type": "stream",
     "text": [
      "\r",
      "Finding valid work IDs:  36%|███▌      | 72/200 [14:37<22:55, 10.74s/ID, Latest ID: 121278854]"
     ]
    },
    {
     "name": "stderr",
     "output_type": "stream",
     "text": [
      "\r",
      "Finding valid work IDs:  36%|███▌      | 72/200 [14:37<22:55, 10.74s/ID, Latest ID: 121278855]"
     ]
    },
    {
     "name": "stderr",
     "output_type": "stream",
     "text": [
      "\r",
      "Finding valid work IDs:  36%|███▋      | 73/200 [14:51<24:45, 11.70s/ID, Latest ID: 121278855]"
     ]
    },
    {
     "name": "stderr",
     "output_type": "stream",
     "text": [
      "\r",
      "Finding valid work IDs:  36%|███▋      | 73/200 [14:51<24:45, 11.70s/ID, Latest ID: 121278856]"
     ]
    },
    {
     "name": "stderr",
     "output_type": "stream",
     "text": [
      "\r",
      "Finding valid work IDs:  37%|███▋      | 74/200 [15:06<26:33, 12.64s/ID, Latest ID: 121278856]"
     ]
    },
    {
     "name": "stderr",
     "output_type": "stream",
     "text": [
      "\r",
      "Finding valid work IDs:  37%|███▋      | 74/200 [15:06<26:33, 12.64s/ID, Latest ID: 121278857]"
     ]
    },
    {
     "name": "stderr",
     "output_type": "stream",
     "text": [
      "\r",
      "Finding valid work IDs:  38%|███▊      | 75/200 [15:17<25:18, 12.15s/ID, Latest ID: 121278857]"
     ]
    },
    {
     "name": "stderr",
     "output_type": "stream",
     "text": [
      "\r",
      "Finding valid work IDs:  38%|███▊      | 75/200 [15:17<25:18, 12.15s/ID, Latest ID: 121278858]"
     ]
    },
    {
     "name": "stderr",
     "output_type": "stream",
     "text": [
      "\r",
      "Finding valid work IDs:  38%|███▊      | 76/200 [15:23<21:16, 10.29s/ID, Latest ID: 121278858]"
     ]
    },
    {
     "name": "stderr",
     "output_type": "stream",
     "text": [
      "\r",
      "Finding valid work IDs:  38%|███▊      | 76/200 [15:23<21:16, 10.29s/ID, Latest ID: 121278859]"
     ]
    },
    {
     "name": "stderr",
     "output_type": "stream",
     "text": [
      "\r",
      "Finding valid work IDs:  38%|███▊      | 77/200 [15:40<25:21, 12.37s/ID, Latest ID: 121278859]"
     ]
    },
    {
     "name": "stderr",
     "output_type": "stream",
     "text": [
      "\r",
      "Finding valid work IDs:  38%|███▊      | 77/200 [15:40<25:21, 12.37s/ID, Latest ID: 121278861]"
     ]
    },
    {
     "name": "stderr",
     "output_type": "stream",
     "text": [
      "\r",
      "Finding valid work IDs:  39%|███▉      | 78/200 [15:47<21:53, 10.77s/ID, Latest ID: 121278861]"
     ]
    },
    {
     "name": "stderr",
     "output_type": "stream",
     "text": [
      "\r",
      "Finding valid work IDs:  39%|███▉      | 78/200 [15:47<21:53, 10.77s/ID, Latest ID: 121278862]"
     ]
    },
    {
     "name": "stderr",
     "output_type": "stream",
     "text": [
      "\r",
      "Finding valid work IDs:  40%|███▉      | 79/200 [15:57<21:05, 10.46s/ID, Latest ID: 121278862]"
     ]
    },
    {
     "name": "stderr",
     "output_type": "stream",
     "text": [
      "\r",
      "Finding valid work IDs:  40%|███▉      | 79/200 [15:57<21:05, 10.46s/ID, Latest ID: 121278863]"
     ]
    },
    {
     "name": "stderr",
     "output_type": "stream",
     "text": [
      "\r",
      "Finding valid work IDs:  40%|████      | 80/200 [16:04<18:30,  9.25s/ID, Latest ID: 121278863]"
     ]
    },
    {
     "name": "stderr",
     "output_type": "stream",
     "text": [
      "\r",
      "Finding valid work IDs:  40%|████      | 80/200 [16:04<18:30,  9.25s/ID, Latest ID: 121278864]"
     ]
    },
    {
     "name": "stderr",
     "output_type": "stream",
     "text": [
      "\r",
      "Finding valid work IDs:  40%|████      | 81/200 [16:14<19:03,  9.61s/ID, Latest ID: 121278864]"
     ]
    },
    {
     "name": "stderr",
     "output_type": "stream",
     "text": [
      "\r",
      "Finding valid work IDs:  40%|████      | 81/200 [16:14<19:03,  9.61s/ID, Latest ID: 121278865]"
     ]
    },
    {
     "name": "stderr",
     "output_type": "stream",
     "text": [
      "\r",
      "Finding valid work IDs:  41%|████      | 82/200 [16:42<29:29, 15.00s/ID, Latest ID: 121278865]"
     ]
    },
    {
     "name": "stderr",
     "output_type": "stream",
     "text": [
      "\r",
      "Finding valid work IDs:  41%|████      | 82/200 [16:42<29:29, 15.00s/ID, Latest ID: 121278868]"
     ]
    },
    {
     "name": "stderr",
     "output_type": "stream",
     "text": [
      "\r",
      "Finding valid work IDs:  42%|████▏     | 83/200 [16:52<26:42, 13.70s/ID, Latest ID: 121278868]"
     ]
    },
    {
     "name": "stderr",
     "output_type": "stream",
     "text": [
      "\r",
      "Finding valid work IDs:  42%|████▏     | 83/200 [16:52<26:42, 13.70s/ID, Latest ID: 121278869]"
     ]
    },
    {
     "name": "stderr",
     "output_type": "stream",
     "text": [
      "\r",
      "Finding valid work IDs:  42%|████▏     | 84/200 [17:04<25:37, 13.26s/ID, Latest ID: 121278869]"
     ]
    },
    {
     "name": "stderr",
     "output_type": "stream",
     "text": [
      "\r",
      "Finding valid work IDs:  42%|████▏     | 84/200 [17:04<25:37, 13.26s/ID, Latest ID: 121278870]"
     ]
    },
    {
     "name": "stderr",
     "output_type": "stream",
     "text": [
      "\r",
      "Finding valid work IDs:  42%|████▎     | 85/200 [17:19<26:19, 13.74s/ID, Latest ID: 121278870]"
     ]
    },
    {
     "name": "stderr",
     "output_type": "stream",
     "text": [
      "\r",
      "Finding valid work IDs:  42%|████▎     | 85/200 [17:19<26:19, 13.74s/ID, Latest ID: 121278871]"
     ]
    },
    {
     "name": "stderr",
     "output_type": "stream",
     "text": [
      "\r",
      "Finding valid work IDs:  43%|████▎     | 86/200 [17:30<24:31, 12.91s/ID, Latest ID: 121278871]"
     ]
    },
    {
     "name": "stderr",
     "output_type": "stream",
     "text": [
      "\r",
      "Finding valid work IDs:  43%|████▎     | 86/200 [17:30<24:31, 12.91s/ID, Latest ID: 121278872]"
     ]
    },
    {
     "name": "stderr",
     "output_type": "stream",
     "text": [
      "\r",
      "Finding valid work IDs:  44%|████▎     | 87/200 [18:07<37:59, 20.17s/ID, Latest ID: 121278872]"
     ]
    },
    {
     "name": "stderr",
     "output_type": "stream",
     "text": [
      "\r",
      "Finding valid work IDs:  44%|████▎     | 87/200 [18:07<37:59, 20.17s/ID, Latest ID: 121278875]"
     ]
    },
    {
     "name": "stderr",
     "output_type": "stream",
     "text": [
      "\r",
      "Finding valid work IDs:  44%|████▍     | 88/200 [18:29<38:15, 20.49s/ID, Latest ID: 121278875]"
     ]
    },
    {
     "name": "stderr",
     "output_type": "stream",
     "text": [
      "\r",
      "Finding valid work IDs:  44%|████▍     | 88/200 [18:29<38:15, 20.49s/ID, Latest ID: 121278877]"
     ]
    },
    {
     "name": "stderr",
     "output_type": "stream",
     "text": [
      "\r",
      "Finding valid work IDs:  44%|████▍     | 89/200 [18:46<36:08, 19.54s/ID, Latest ID: 121278877]"
     ]
    },
    {
     "name": "stderr",
     "output_type": "stream",
     "text": [
      "\r",
      "Finding valid work IDs:  44%|████▍     | 89/200 [18:46<36:08, 19.54s/ID, Latest ID: 121278879]"
     ]
    },
    {
     "name": "stderr",
     "output_type": "stream",
     "text": [
      "\r",
      "Finding valid work IDs:  45%|████▌     | 90/200 [18:57<31:22, 17.12s/ID, Latest ID: 121278879]"
     ]
    },
    {
     "name": "stderr",
     "output_type": "stream",
     "text": [
      "\r",
      "Finding valid work IDs:  45%|████▌     | 90/200 [18:57<31:22, 17.12s/ID, Latest ID: 121278880]"
     ]
    },
    {
     "name": "stderr",
     "output_type": "stream",
     "text": [
      "\r",
      "Finding valid work IDs:  46%|████▌     | 91/200 [19:10<28:50, 15.88s/ID, Latest ID: 121278880]"
     ]
    },
    {
     "name": "stderr",
     "output_type": "stream",
     "text": [
      "\r",
      "Finding valid work IDs:  46%|████▌     | 91/200 [19:10<28:50, 15.88s/ID, Latest ID: 121278881]"
     ]
    },
    {
     "name": "stderr",
     "output_type": "stream",
     "text": [
      "\r",
      "Finding valid work IDs:  46%|████▌     | 92/200 [19:21<25:57, 14.42s/ID, Latest ID: 121278881]"
     ]
    },
    {
     "name": "stderr",
     "output_type": "stream",
     "text": [
      "\r",
      "Finding valid work IDs:  46%|████▌     | 92/200 [19:21<25:57, 14.42s/ID, Latest ID: 121278882]"
     ]
    },
    {
     "name": "stderr",
     "output_type": "stream",
     "text": [
      "\r",
      "Finding valid work IDs:  46%|████▋     | 93/200 [19:27<21:12, 11.90s/ID, Latest ID: 121278882]"
     ]
    },
    {
     "name": "stderr",
     "output_type": "stream",
     "text": [
      "\r",
      "Finding valid work IDs:  46%|████▋     | 93/200 [19:27<21:12, 11.90s/ID, Latest ID: 121278883]"
     ]
    },
    {
     "name": "stderr",
     "output_type": "stream",
     "text": [
      "\r",
      "Finding valid work IDs:  47%|████▋     | 94/200 [19:42<22:19, 12.64s/ID, Latest ID: 121278883]"
     ]
    },
    {
     "name": "stderr",
     "output_type": "stream",
     "text": [
      "\r",
      "Finding valid work IDs:  47%|████▋     | 94/200 [19:42<22:19, 12.64s/ID, Latest ID: 121278884]"
     ]
    },
    {
     "name": "stderr",
     "output_type": "stream",
     "text": [
      "\r",
      "Finding valid work IDs:  48%|████▊     | 95/200 [20:09<29:54, 17.09s/ID, Latest ID: 121278884]"
     ]
    },
    {
     "name": "stderr",
     "output_type": "stream",
     "text": [
      "\r",
      "Finding valid work IDs:  48%|████▊     | 95/200 [20:09<29:54, 17.09s/ID, Latest ID: 121278886]"
     ]
    },
    {
     "name": "stderr",
     "output_type": "stream",
     "text": [
      "\r",
      "Finding valid work IDs:  48%|████▊     | 96/200 [20:24<28:16, 16.31s/ID, Latest ID: 121278886]"
     ]
    },
    {
     "name": "stderr",
     "output_type": "stream",
     "text": [
      "\r",
      "Finding valid work IDs:  48%|████▊     | 96/200 [20:24<28:16, 16.31s/ID, Latest ID: 121278887]"
     ]
    },
    {
     "name": "stderr",
     "output_type": "stream",
     "text": [
      "\r",
      "Finding valid work IDs:  48%|████▊     | 97/200 [20:34<25:06, 14.62s/ID, Latest ID: 121278887]"
     ]
    },
    {
     "name": "stderr",
     "output_type": "stream",
     "text": [
      "\r",
      "Finding valid work IDs:  48%|████▊     | 97/200 [20:34<25:06, 14.62s/ID, Latest ID: 121278888]"
     ]
    },
    {
     "name": "stderr",
     "output_type": "stream",
     "text": [
      "\r",
      "Finding valid work IDs:  49%|████▉     | 98/200 [20:44<22:15, 13.09s/ID, Latest ID: 121278888]"
     ]
    },
    {
     "name": "stderr",
     "output_type": "stream",
     "text": [
      "\r",
      "Finding valid work IDs:  49%|████▉     | 98/200 [20:44<22:15, 13.09s/ID, Latest ID: 121278889]"
     ]
    },
    {
     "name": "stderr",
     "output_type": "stream",
     "text": [
      "\r",
      "Finding valid work IDs:  50%|████▉     | 99/200 [20:51<18:46, 11.15s/ID, Latest ID: 121278889]"
     ]
    },
    {
     "name": "stderr",
     "output_type": "stream",
     "text": [
      "\r",
      "Finding valid work IDs:  50%|████▉     | 99/200 [20:51<18:46, 11.15s/ID, Latest ID: 121278890]"
     ]
    },
    {
     "name": "stderr",
     "output_type": "stream",
     "text": [
      "\r",
      "Finding valid work IDs:  50%|█████     | 100/200 [20:58<16:38,  9.99s/ID, Latest ID: 121278890]"
     ]
    },
    {
     "name": "stderr",
     "output_type": "stream",
     "text": [
      "\r",
      "Finding valid work IDs:  50%|█████     | 100/200 [20:58<16:38,  9.99s/ID, Latest ID: 121278891]"
     ]
    },
    {
     "name": "stderr",
     "output_type": "stream",
     "text": [
      "\r",
      "Finding valid work IDs:  50%|█████     | 101/200 [21:06<15:46,  9.56s/ID, Latest ID: 121278891]"
     ]
    },
    {
     "name": "stderr",
     "output_type": "stream",
     "text": [
      "\r",
      "Finding valid work IDs:  50%|█████     | 101/200 [21:06<15:46,  9.56s/ID, Latest ID: 121278892]"
     ]
    },
    {
     "name": "stderr",
     "output_type": "stream",
     "text": [
      "\r",
      "Finding valid work IDs:  51%|█████     | 102/200 [21:30<22:31, 13.79s/ID, Latest ID: 121278892]"
     ]
    },
    {
     "name": "stderr",
     "output_type": "stream",
     "text": [
      "\r",
      "Finding valid work IDs:  51%|█████     | 102/200 [21:30<22:31, 13.79s/ID, Latest ID: 121278894]"
     ]
    },
    {
     "name": "stderr",
     "output_type": "stream",
     "text": [
      "\r",
      "Finding valid work IDs:  52%|█████▏    | 103/200 [21:36<18:27, 11.41s/ID, Latest ID: 121278894]"
     ]
    },
    {
     "name": "stderr",
     "output_type": "stream",
     "text": [
      "\r",
      "Finding valid work IDs:  52%|█████▏    | 103/200 [21:36<18:27, 11.41s/ID, Latest ID: 121278895]"
     ]
    },
    {
     "name": "stderr",
     "output_type": "stream",
     "text": [
      "\r",
      "Finding valid work IDs:  52%|█████▏    | 104/200 [21:44<16:46, 10.49s/ID, Latest ID: 121278895]"
     ]
    },
    {
     "name": "stderr",
     "output_type": "stream",
     "text": [
      "\r",
      "Finding valid work IDs:  52%|█████▏    | 104/200 [21:44<16:46, 10.49s/ID, Latest ID: 121278896]"
     ]
    },
    {
     "name": "stderr",
     "output_type": "stream",
     "text": [
      "\r",
      "Finding valid work IDs:  52%|█████▎    | 105/200 [22:10<23:35, 14.90s/ID, Latest ID: 121278896]"
     ]
    },
    {
     "name": "stderr",
     "output_type": "stream",
     "text": [
      "\r",
      "Finding valid work IDs:  52%|█████▎    | 105/200 [22:10<23:35, 14.90s/ID, Latest ID: 121278898]"
     ]
    },
    {
     "name": "stderr",
     "output_type": "stream",
     "text": [
      "\r",
      "Finding valid work IDs:  53%|█████▎    | 106/200 [22:23<22:43, 14.50s/ID, Latest ID: 121278898]"
     ]
    },
    {
     "name": "stderr",
     "output_type": "stream",
     "text": [
      "\r",
      "Finding valid work IDs:  53%|█████▎    | 106/200 [22:23<22:43, 14.50s/ID, Latest ID: 121278899]"
     ]
    },
    {
     "name": "stderr",
     "output_type": "stream",
     "text": [
      "\r",
      "Finding valid work IDs:  54%|█████▎    | 107/200 [22:40<23:38, 15.25s/ID, Latest ID: 121278899]"
     ]
    },
    {
     "name": "stderr",
     "output_type": "stream",
     "text": [
      "\r",
      "Finding valid work IDs:  54%|█████▎    | 107/200 [22:40<23:38, 15.25s/ID, Latest ID: 121278901]"
     ]
    },
    {
     "name": "stderr",
     "output_type": "stream",
     "text": [
      "\r",
      "Finding valid work IDs:  54%|█████▍    | 108/200 [22:48<19:51, 12.95s/ID, Latest ID: 121278901]"
     ]
    },
    {
     "name": "stderr",
     "output_type": "stream",
     "text": [
      "\r",
      "Finding valid work IDs:  54%|█████▍    | 108/200 [22:48<19:51, 12.95s/ID, Latest ID: 121278902]"
     ]
    },
    {
     "name": "stderr",
     "output_type": "stream",
     "text": [
      "\r",
      "Finding valid work IDs:  55%|█████▍    | 109/200 [22:54<16:24, 10.82s/ID, Latest ID: 121278902]"
     ]
    },
    {
     "name": "stderr",
     "output_type": "stream",
     "text": [
      "\r",
      "Finding valid work IDs:  55%|█████▍    | 109/200 [22:54<16:24, 10.82s/ID, Latest ID: 121278903]"
     ]
    },
    {
     "name": "stderr",
     "output_type": "stream",
     "text": [
      "\r",
      "Finding valid work IDs:  55%|█████▌    | 110/200 [23:05<16:20, 10.90s/ID, Latest ID: 121278903]"
     ]
    },
    {
     "name": "stderr",
     "output_type": "stream",
     "text": [
      "\r",
      "Finding valid work IDs:  55%|█████▌    | 110/200 [23:05<16:20, 10.90s/ID, Latest ID: 121278904]"
     ]
    },
    {
     "name": "stderr",
     "output_type": "stream",
     "text": [
      "\r",
      "Finding valid work IDs:  56%|█████▌    | 111/200 [23:13<15:12, 10.25s/ID, Latest ID: 121278904]"
     ]
    },
    {
     "name": "stderr",
     "output_type": "stream",
     "text": [
      "\r",
      "Finding valid work IDs:  56%|█████▌    | 111/200 [23:13<15:12, 10.25s/ID, Latest ID: 121278905]"
     ]
    },
    {
     "name": "stderr",
     "output_type": "stream",
     "text": [
      "\r",
      "Finding valid work IDs:  56%|█████▌    | 112/200 [23:30<17:59, 12.27s/ID, Latest ID: 121278905]"
     ]
    },
    {
     "name": "stderr",
     "output_type": "stream",
     "text": [
      "\r",
      "Finding valid work IDs:  56%|█████▌    | 112/200 [23:30<17:59, 12.27s/ID, Latest ID: 121278907]"
     ]
    },
    {
     "name": "stderr",
     "output_type": "stream",
     "text": [
      "\r",
      "Finding valid work IDs:  56%|█████▋    | 113/200 [23:38<15:54, 10.98s/ID, Latest ID: 121278907]"
     ]
    },
    {
     "name": "stderr",
     "output_type": "stream",
     "text": [
      "\r",
      "Finding valid work IDs:  56%|█████▋    | 113/200 [23:38<15:54, 10.98s/ID, Latest ID: 121278908]"
     ]
    },
    {
     "name": "stderr",
     "output_type": "stream",
     "text": [
      "\r",
      "Finding valid work IDs:  57%|█████▋    | 114/200 [23:52<16:51, 11.76s/ID, Latest ID: 121278908]"
     ]
    },
    {
     "name": "stderr",
     "output_type": "stream",
     "text": [
      "\r",
      "Finding valid work IDs:  57%|█████▋    | 114/200 [23:52<16:51, 11.76s/ID, Latest ID: 121278909]"
     ]
    },
    {
     "name": "stderr",
     "output_type": "stream",
     "text": [
      "\r",
      "Finding valid work IDs:  57%|█████▊    | 115/200 [24:14<21:01, 14.84s/ID, Latest ID: 121278909]"
     ]
    },
    {
     "name": "stderr",
     "output_type": "stream",
     "text": [
      "\r",
      "Finding valid work IDs:  57%|█████▊    | 115/200 [24:14<21:01, 14.84s/ID, Latest ID: 121278911]"
     ]
    },
    {
     "name": "stderr",
     "output_type": "stream",
     "text": [
      "\r",
      "Finding valid work IDs:  58%|█████▊    | 116/200 [24:26<19:48, 14.15s/ID, Latest ID: 121278911]"
     ]
    },
    {
     "name": "stderr",
     "output_type": "stream",
     "text": [
      "\r",
      "Finding valid work IDs:  58%|█████▊    | 116/200 [24:26<19:48, 14.15s/ID, Latest ID: 121278912]"
     ]
    },
    {
     "name": "stderr",
     "output_type": "stream",
     "text": [
      "\r",
      "Finding valid work IDs:  58%|█████▊    | 117/200 [24:35<17:11, 12.43s/ID, Latest ID: 121278912]"
     ]
    },
    {
     "name": "stderr",
     "output_type": "stream",
     "text": [
      "\r",
      "Finding valid work IDs:  58%|█████▊    | 117/200 [24:35<17:11, 12.43s/ID, Latest ID: 121278913]"
     ]
    },
    {
     "name": "stderr",
     "output_type": "stream",
     "text": [
      "\r",
      "Finding valid work IDs:  59%|█████▉    | 118/200 [24:48<17:23, 12.73s/ID, Latest ID: 121278913]"
     ]
    },
    {
     "name": "stderr",
     "output_type": "stream",
     "text": [
      "\r",
      "Finding valid work IDs:  59%|█████▉    | 118/200 [24:48<17:23, 12.73s/ID, Latest ID: 121278914]"
     ]
    },
    {
     "name": "stderr",
     "output_type": "stream",
     "text": [
      "\r",
      "Finding valid work IDs:  60%|█████▉    | 119/200 [24:55<14:46, 10.94s/ID, Latest ID: 121278914]"
     ]
    },
    {
     "name": "stderr",
     "output_type": "stream",
     "text": [
      "\r",
      "Finding valid work IDs:  60%|█████▉    | 119/200 [24:55<14:46, 10.94s/ID, Latest ID: 121278915]"
     ]
    },
    {
     "name": "stderr",
     "output_type": "stream",
     "text": [
      "\r",
      "Finding valid work IDs:  60%|██████    | 120/200 [25:08<15:17, 11.47s/ID, Latest ID: 121278915]"
     ]
    },
    {
     "name": "stderr",
     "output_type": "stream",
     "text": [
      "\r",
      "Finding valid work IDs:  60%|██████    | 120/200 [25:08<15:17, 11.47s/ID, Latest ID: 121278916]"
     ]
    },
    {
     "name": "stderr",
     "output_type": "stream",
     "text": [
      "\r",
      "Finding valid work IDs:  60%|██████    | 121/200 [25:23<16:32, 12.56s/ID, Latest ID: 121278916]"
     ]
    },
    {
     "name": "stderr",
     "output_type": "stream",
     "text": [
      "\r",
      "Finding valid work IDs:  60%|██████    | 121/200 [25:23<16:32, 12.56s/ID, Latest ID: 121278918]"
     ]
    },
    {
     "name": "stderr",
     "output_type": "stream",
     "text": [
      "\r",
      "Finding valid work IDs:  61%|██████    | 122/200 [25:36<16:28, 12.68s/ID, Latest ID: 121278918]"
     ]
    },
    {
     "name": "stderr",
     "output_type": "stream",
     "text": [
      "\r",
      "Finding valid work IDs:  61%|██████    | 122/200 [25:36<16:28, 12.68s/ID, Latest ID: 121278919]"
     ]
    },
    {
     "name": "stderr",
     "output_type": "stream",
     "text": [
      "\r",
      "Finding valid work IDs:  62%|██████▏   | 123/200 [25:48<15:59, 12.47s/ID, Latest ID: 121278919]"
     ]
    },
    {
     "name": "stderr",
     "output_type": "stream",
     "text": [
      "\r",
      "Finding valid work IDs:  62%|██████▏   | 123/200 [25:48<15:59, 12.47s/ID, Latest ID: 121278920]"
     ]
    },
    {
     "name": "stderr",
     "output_type": "stream",
     "text": [
      "\r",
      "Finding valid work IDs:  62%|██████▏   | 124/200 [26:00<15:53, 12.54s/ID, Latest ID: 121278920]"
     ]
    },
    {
     "name": "stderr",
     "output_type": "stream",
     "text": [
      "\r",
      "Finding valid work IDs:  62%|██████▏   | 124/200 [26:00<15:53, 12.54s/ID, Latest ID: 121278921]"
     ]
    },
    {
     "name": "stderr",
     "output_type": "stream",
     "text": [
      "\r",
      "Finding valid work IDs:  62%|██████▎   | 125/200 [26:12<15:15, 12.20s/ID, Latest ID: 121278921]"
     ]
    },
    {
     "name": "stderr",
     "output_type": "stream",
     "text": [
      "\r",
      "Finding valid work IDs:  62%|██████▎   | 125/200 [26:12<15:15, 12.20s/ID, Latest ID: 121278922]"
     ]
    },
    {
     "name": "stderr",
     "output_type": "stream",
     "text": [
      "\r",
      "Finding valid work IDs:  63%|██████▎   | 126/200 [26:35<19:09, 15.53s/ID, Latest ID: 121278922]"
     ]
    },
    {
     "name": "stderr",
     "output_type": "stream",
     "text": [
      "\r",
      "Finding valid work IDs:  63%|██████▎   | 126/200 [26:35<19:09, 15.53s/ID, Latest ID: 121278924]"
     ]
    },
    {
     "name": "stderr",
     "output_type": "stream",
     "text": [
      "\r",
      "Finding valid work IDs:  64%|██████▎   | 127/200 [26:46<17:14, 14.18s/ID, Latest ID: 121278924]"
     ]
    },
    {
     "name": "stderr",
     "output_type": "stream",
     "text": [
      "\r",
      "Finding valid work IDs:  64%|██████▎   | 127/200 [26:46<17:14, 14.18s/ID, Latest ID: 121278925]"
     ]
    },
    {
     "name": "stderr",
     "output_type": "stream",
     "text": [
      "\r",
      "Finding valid work IDs:  64%|██████▍   | 128/200 [26:52<13:49, 11.53s/ID, Latest ID: 121278925]"
     ]
    },
    {
     "name": "stderr",
     "output_type": "stream",
     "text": [
      "\r",
      "Finding valid work IDs:  64%|██████▍   | 128/200 [26:52<13:49, 11.53s/ID, Latest ID: 121278926]"
     ]
    },
    {
     "name": "stderr",
     "output_type": "stream",
     "text": [
      "\r",
      "Finding valid work IDs:  64%|██████▍   | 129/200 [27:00<12:29, 10.56s/ID, Latest ID: 121278926]"
     ]
    },
    {
     "name": "stderr",
     "output_type": "stream",
     "text": [
      "\r",
      "Finding valid work IDs:  64%|██████▍   | 129/200 [27:00<12:29, 10.56s/ID, Latest ID: 121278927]"
     ]
    },
    {
     "name": "stderr",
     "output_type": "stream",
     "text": [
      "\r",
      "Finding valid work IDs:  65%|██████▌   | 130/200 [27:06<10:51,  9.31s/ID, Latest ID: 121278927]"
     ]
    },
    {
     "name": "stderr",
     "output_type": "stream",
     "text": [
      "\r",
      "Finding valid work IDs:  65%|██████▌   | 130/200 [27:06<10:51,  9.31s/ID, Latest ID: 121278928]"
     ]
    },
    {
     "name": "stderr",
     "output_type": "stream",
     "text": [
      "\r",
      "Finding valid work IDs:  66%|██████▌   | 131/200 [27:19<11:53, 10.34s/ID, Latest ID: 121278928]"
     ]
    },
    {
     "name": "stderr",
     "output_type": "stream",
     "text": [
      "\r",
      "Finding valid work IDs:  66%|██████▌   | 131/200 [27:19<11:53, 10.34s/ID, Latest ID: 121278929]"
     ]
    },
    {
     "name": "stderr",
     "output_type": "stream",
     "text": [
      "\r",
      "Finding valid work IDs:  66%|██████▌   | 132/200 [27:24<10:01,  8.85s/ID, Latest ID: 121278929]"
     ]
    },
    {
     "name": "stderr",
     "output_type": "stream",
     "text": [
      "\r",
      "Finding valid work IDs:  66%|██████▌   | 132/200 [27:24<10:01,  8.85s/ID, Latest ID: 121278930]"
     ]
    },
    {
     "name": "stderr",
     "output_type": "stream",
     "text": [
      "\r",
      "Finding valid work IDs:  66%|██████▋   | 133/200 [27:33<09:48,  8.78s/ID, Latest ID: 121278930]"
     ]
    },
    {
     "name": "stderr",
     "output_type": "stream",
     "text": [
      "\r",
      "Finding valid work IDs:  66%|██████▋   | 133/200 [27:33<09:48,  8.78s/ID, Latest ID: 121278931]"
     ]
    },
    {
     "name": "stderr",
     "output_type": "stream",
     "text": [
      "\r",
      "Finding valid work IDs:  67%|██████▋   | 134/200 [27:39<08:34,  7.80s/ID, Latest ID: 121278931]"
     ]
    },
    {
     "name": "stderr",
     "output_type": "stream",
     "text": [
      "\r",
      "Finding valid work IDs:  67%|██████▋   | 134/200 [27:39<08:34,  7.80s/ID, Latest ID: 121278932]"
     ]
    },
    {
     "name": "stderr",
     "output_type": "stream",
     "text": [
      "\r",
      "Finding valid work IDs:  68%|██████▊   | 135/200 [27:49<09:27,  8.73s/ID, Latest ID: 121278932]"
     ]
    },
    {
     "name": "stderr",
     "output_type": "stream",
     "text": [
      "\r",
      "Finding valid work IDs:  68%|██████▊   | 135/200 [27:49<09:27,  8.73s/ID, Latest ID: 121278933]"
     ]
    },
    {
     "name": "stderr",
     "output_type": "stream",
     "text": [
      "\r",
      "Finding valid work IDs:  68%|██████▊   | 136/200 [28:01<10:15,  9.62s/ID, Latest ID: 121278933]"
     ]
    },
    {
     "name": "stderr",
     "output_type": "stream",
     "text": [
      "\r",
      "Finding valid work IDs:  68%|██████▊   | 136/200 [28:01<10:15,  9.62s/ID, Latest ID: 121278934]"
     ]
    },
    {
     "name": "stderr",
     "output_type": "stream",
     "text": [
      "\r",
      "Finding valid work IDs:  68%|██████▊   | 137/200 [28:07<08:58,  8.54s/ID, Latest ID: 121278934]"
     ]
    },
    {
     "name": "stderr",
     "output_type": "stream",
     "text": [
      "\r",
      "Finding valid work IDs:  68%|██████▊   | 137/200 [28:07<08:58,  8.54s/ID, Latest ID: 121278935]"
     ]
    },
    {
     "name": "stderr",
     "output_type": "stream",
     "text": [
      "\r",
      "Finding valid work IDs:  69%|██████▉   | 138/200 [28:15<08:43,  8.44s/ID, Latest ID: 121278935]"
     ]
    },
    {
     "name": "stderr",
     "output_type": "stream",
     "text": [
      "\r",
      "Finding valid work IDs:  69%|██████▉   | 138/200 [28:15<08:43,  8.44s/ID, Latest ID: 121278936]"
     ]
    },
    {
     "name": "stderr",
     "output_type": "stream",
     "text": [
      "\r",
      "Finding valid work IDs:  70%|██████▉   | 139/200 [28:28<09:46,  9.62s/ID, Latest ID: 121278936]"
     ]
    },
    {
     "name": "stderr",
     "output_type": "stream",
     "text": [
      "\r",
      "Finding valid work IDs:  70%|██████▉   | 139/200 [28:28<09:46,  9.62s/ID, Latest ID: 121278937]"
     ]
    },
    {
     "name": "stderr",
     "output_type": "stream",
     "text": [
      "\r",
      "Finding valid work IDs:  70%|███████   | 140/200 [28:43<11:10, 11.18s/ID, Latest ID: 121278937]"
     ]
    },
    {
     "name": "stderr",
     "output_type": "stream",
     "text": [
      "\r",
      "Finding valid work IDs:  70%|███████   | 140/200 [28:43<11:10, 11.18s/ID, Latest ID: 121278938]"
     ]
    },
    {
     "name": "stderr",
     "output_type": "stream",
     "text": [
      "\r",
      "Finding valid work IDs:  70%|███████   | 141/200 [29:03<13:41, 13.92s/ID, Latest ID: 121278938]"
     ]
    },
    {
     "name": "stderr",
     "output_type": "stream",
     "text": [
      "\r",
      "Finding valid work IDs:  70%|███████   | 141/200 [29:03<13:41, 13.92s/ID, Latest ID: 121278940]"
     ]
    },
    {
     "name": "stderr",
     "output_type": "stream",
     "text": [
      "\r",
      "Finding valid work IDs:  71%|███████   | 142/200 [29:17<13:36, 14.08s/ID, Latest ID: 121278940]"
     ]
    },
    {
     "name": "stderr",
     "output_type": "stream",
     "text": [
      "\r",
      "Finding valid work IDs:  71%|███████   | 142/200 [29:17<13:36, 14.08s/ID, Latest ID: 121278941]"
     ]
    },
    {
     "name": "stderr",
     "output_type": "stream",
     "text": [
      "\r",
      "Finding valid work IDs:  72%|███████▏  | 143/200 [29:32<13:27, 14.16s/ID, Latest ID: 121278941]"
     ]
    },
    {
     "name": "stderr",
     "output_type": "stream",
     "text": [
      "\r",
      "Finding valid work IDs:  72%|███████▏  | 143/200 [29:32<13:27, 14.16s/ID, Latest ID: 121278942]"
     ]
    },
    {
     "name": "stderr",
     "output_type": "stream",
     "text": [
      "\r",
      "Finding valid work IDs:  72%|███████▏  | 144/200 [29:44<12:35, 13.49s/ID, Latest ID: 121278942]"
     ]
    },
    {
     "name": "stderr",
     "output_type": "stream",
     "text": [
      "\r",
      "Finding valid work IDs:  72%|███████▏  | 144/200 [29:44<12:35, 13.49s/ID, Latest ID: 121278943]"
     ]
    },
    {
     "name": "stderr",
     "output_type": "stream",
     "text": [
      "\r",
      "Finding valid work IDs:  72%|███████▎  | 145/200 [29:57<12:26, 13.57s/ID, Latest ID: 121278943]"
     ]
    },
    {
     "name": "stderr",
     "output_type": "stream",
     "text": [
      "\r",
      "Finding valid work IDs:  72%|███████▎  | 145/200 [29:57<12:26, 13.57s/ID, Latest ID: 121278944]"
     ]
    },
    {
     "name": "stderr",
     "output_type": "stream",
     "text": [
      "\r",
      "Finding valid work IDs:  73%|███████▎  | 146/200 [30:11<12:15, 13.61s/ID, Latest ID: 121278944]"
     ]
    },
    {
     "name": "stderr",
     "output_type": "stream",
     "text": [
      "\r",
      "Finding valid work IDs:  73%|███████▎  | 146/200 [30:11<12:15, 13.61s/ID, Latest ID: 121278945]"
     ]
    },
    {
     "name": "stderr",
     "output_type": "stream",
     "text": [
      "\r",
      "Finding valid work IDs:  74%|███████▎  | 147/200 [30:22<11:19, 12.83s/ID, Latest ID: 121278945]"
     ]
    },
    {
     "name": "stderr",
     "output_type": "stream",
     "text": [
      "\r",
      "Finding valid work IDs:  74%|███████▎  | 147/200 [30:22<11:19, 12.83s/ID, Latest ID: 121278946]"
     ]
    },
    {
     "name": "stderr",
     "output_type": "stream",
     "text": [
      "\r",
      "Finding valid work IDs:  74%|███████▍  | 148/200 [30:34<10:56, 12.62s/ID, Latest ID: 121278946]"
     ]
    },
    {
     "name": "stderr",
     "output_type": "stream",
     "text": [
      "\r",
      "Finding valid work IDs:  74%|███████▍  | 148/200 [30:34<10:56, 12.62s/ID, Latest ID: 121278947]"
     ]
    },
    {
     "name": "stderr",
     "output_type": "stream",
     "text": [
      "\r",
      "Finding valid work IDs:  74%|███████▍  | 149/200 [30:42<09:37, 11.33s/ID, Latest ID: 121278947]"
     ]
    },
    {
     "name": "stderr",
     "output_type": "stream",
     "text": [
      "\r",
      "Finding valid work IDs:  74%|███████▍  | 149/200 [30:42<09:37, 11.33s/ID, Latest ID: 121278948]"
     ]
    },
    {
     "name": "stderr",
     "output_type": "stream",
     "text": [
      "\r",
      "Finding valid work IDs:  75%|███████▌  | 150/200 [30:57<10:14, 12.29s/ID, Latest ID: 121278948]"
     ]
    },
    {
     "name": "stderr",
     "output_type": "stream",
     "text": [
      "\r",
      "Finding valid work IDs:  75%|███████▌  | 150/200 [30:57<10:14, 12.29s/ID, Latest ID: 121278949]"
     ]
    },
    {
     "name": "stderr",
     "output_type": "stream",
     "text": [
      "\r",
      "Finding valid work IDs:  76%|███████▌  | 151/200 [31:19<12:31, 15.33s/ID, Latest ID: 121278949]"
     ]
    },
    {
     "name": "stderr",
     "output_type": "stream",
     "text": [
      "\r",
      "Finding valid work IDs:  76%|███████▌  | 151/200 [31:19<12:31, 15.33s/ID, Latest ID: 121278951]"
     ]
    },
    {
     "name": "stderr",
     "output_type": "stream",
     "text": [
      "\r",
      "Finding valid work IDs:  76%|███████▌  | 152/200 [31:28<10:39, 13.32s/ID, Latest ID: 121278951]"
     ]
    },
    {
     "name": "stderr",
     "output_type": "stream",
     "text": [
      "\r",
      "Finding valid work IDs:  76%|███████▌  | 152/200 [31:28<10:39, 13.32s/ID, Latest ID: 121278952]"
     ]
    },
    {
     "name": "stderr",
     "output_type": "stream",
     "text": [
      "\r",
      "Finding valid work IDs:  76%|███████▋  | 153/200 [31:43<10:43, 13.69s/ID, Latest ID: 121278952]"
     ]
    },
    {
     "name": "stderr",
     "output_type": "stream",
     "text": [
      "\r",
      "Finding valid work IDs:  76%|███████▋  | 153/200 [31:43<10:43, 13.69s/ID, Latest ID: 121278953]"
     ]
    },
    {
     "name": "stderr",
     "output_type": "stream",
     "text": [
      "\r",
      "Finding valid work IDs:  77%|███████▋  | 154/200 [31:57<10:44, 14.02s/ID, Latest ID: 121278953]"
     ]
    },
    {
     "name": "stderr",
     "output_type": "stream",
     "text": [
      "\r",
      "Finding valid work IDs:  77%|███████▋  | 154/200 [31:57<10:44, 14.02s/ID, Latest ID: 121278954]"
     ]
    },
    {
     "name": "stderr",
     "output_type": "stream",
     "text": [
      "\r",
      "Finding valid work IDs:  78%|███████▊  | 155/200 [32:08<09:45, 13.01s/ID, Latest ID: 121278954]"
     ]
    },
    {
     "name": "stderr",
     "output_type": "stream",
     "text": [
      "\r",
      "Finding valid work IDs:  78%|███████▊  | 155/200 [32:08<09:45, 13.01s/ID, Latest ID: 121278955]"
     ]
    },
    {
     "name": "stderr",
     "output_type": "stream",
     "text": [
      "\r",
      "Finding valid work IDs:  78%|███████▊  | 156/200 [32:29<11:21, 15.50s/ID, Latest ID: 121278955]"
     ]
    },
    {
     "name": "stderr",
     "output_type": "stream",
     "text": [
      "\r",
      "Finding valid work IDs:  78%|███████▊  | 156/200 [32:29<11:21, 15.50s/ID, Latest ID: 121278957]"
     ]
    },
    {
     "name": "stderr",
     "output_type": "stream",
     "text": [
      "\r",
      "Finding valid work IDs:  78%|███████▊  | 157/200 [32:42<10:30, 14.66s/ID, Latest ID: 121278957]"
     ]
    },
    {
     "name": "stderr",
     "output_type": "stream",
     "text": [
      "\r",
      "Finding valid work IDs:  78%|███████▊  | 157/200 [32:42<10:30, 14.66s/ID, Latest ID: 121278959]"
     ]
    },
    {
     "name": "stderr",
     "output_type": "stream",
     "text": [
      "\r",
      "Finding valid work IDs:  79%|███████▉  | 158/200 [32:52<09:22, 13.39s/ID, Latest ID: 121278959]"
     ]
    },
    {
     "name": "stderr",
     "output_type": "stream",
     "text": [
      "\r",
      "Finding valid work IDs:  79%|███████▉  | 158/200 [32:52<09:22, 13.39s/ID, Latest ID: 121278960]"
     ]
    },
    {
     "name": "stderr",
     "output_type": "stream",
     "text": [
      "\r",
      "Finding valid work IDs:  80%|███████▉  | 159/200 [33:04<08:42, 12.75s/ID, Latest ID: 121278960]"
     ]
    },
    {
     "name": "stderr",
     "output_type": "stream",
     "text": [
      "\r",
      "Finding valid work IDs:  80%|███████▉  | 159/200 [33:04<08:42, 12.75s/ID, Latest ID: 121278961]"
     ]
    },
    {
     "name": "stderr",
     "output_type": "stream",
     "text": [
      "\r",
      "Finding valid work IDs:  80%|████████  | 160/200 [33:10<07:11, 10.79s/ID, Latest ID: 121278961]"
     ]
    },
    {
     "name": "stderr",
     "output_type": "stream",
     "text": [
      "\r",
      "Finding valid work IDs:  80%|████████  | 160/200 [33:10<07:11, 10.79s/ID, Latest ID: 121278962]"
     ]
    },
    {
     "name": "stderr",
     "output_type": "stream",
     "text": [
      "\r",
      "Finding valid work IDs:  80%|████████  | 161/200 [33:25<07:52, 12.11s/ID, Latest ID: 121278962]"
     ]
    },
    {
     "name": "stderr",
     "output_type": "stream",
     "text": [
      "\r",
      "Finding valid work IDs:  80%|████████  | 161/200 [33:25<07:52, 12.11s/ID, Latest ID: 121278963]"
     ]
    },
    {
     "name": "stderr",
     "output_type": "stream",
     "text": [
      "\r",
      "Finding valid work IDs:  81%|████████  | 162/200 [33:32<06:45, 10.67s/ID, Latest ID: 121278963]"
     ]
    },
    {
     "name": "stderr",
     "output_type": "stream",
     "text": [
      "\r",
      "Finding valid work IDs:  81%|████████  | 162/200 [33:32<06:45, 10.67s/ID, Latest ID: 121278964]"
     ]
    },
    {
     "name": "stderr",
     "output_type": "stream",
     "text": [
      "\r",
      "Finding valid work IDs:  82%|████████▏ | 163/200 [33:39<05:44,  9.31s/ID, Latest ID: 121278964]"
     ]
    },
    {
     "name": "stderr",
     "output_type": "stream",
     "text": [
      "\r",
      "Finding valid work IDs:  82%|████████▏ | 163/200 [33:39<05:44,  9.31s/ID, Latest ID: 121278965]"
     ]
    },
    {
     "name": "stderr",
     "output_type": "stream",
     "text": [
      "\r",
      "Finding valid work IDs:  82%|████████▏ | 164/200 [33:51<06:09, 10.26s/ID, Latest ID: 121278965]"
     ]
    },
    {
     "name": "stderr",
     "output_type": "stream",
     "text": [
      "\r",
      "Finding valid work IDs:  82%|████████▏ | 164/200 [33:51<06:09, 10.26s/ID, Latest ID: 121278966]"
     ]
    },
    {
     "name": "stderr",
     "output_type": "stream",
     "text": [
      "\r",
      "Finding valid work IDs:  82%|████████▎ | 165/200 [33:59<05:31,  9.48s/ID, Latest ID: 121278966]"
     ]
    },
    {
     "name": "stderr",
     "output_type": "stream",
     "text": [
      "\r",
      "Finding valid work IDs:  82%|████████▎ | 165/200 [33:59<05:31,  9.48s/ID, Latest ID: 121278967]"
     ]
    },
    {
     "name": "stderr",
     "output_type": "stream",
     "text": [
      "\r",
      "Finding valid work IDs:  83%|████████▎ | 166/200 [34:18<07:05, 12.51s/ID, Latest ID: 121278967]"
     ]
    },
    {
     "name": "stderr",
     "output_type": "stream",
     "text": [
      "\r",
      "Finding valid work IDs:  83%|████████▎ | 166/200 [34:18<07:05, 12.51s/ID, Latest ID: 121278969]"
     ]
    },
    {
     "name": "stderr",
     "output_type": "stream",
     "text": [
      "\r",
      "Finding valid work IDs:  84%|████████▎ | 167/200 [34:36<07:40, 13.96s/ID, Latest ID: 121278969]"
     ]
    },
    {
     "name": "stderr",
     "output_type": "stream",
     "text": [
      "\r",
      "Finding valid work IDs:  84%|████████▎ | 167/200 [34:36<07:40, 13.96s/ID, Latest ID: 121278971]"
     ]
    },
    {
     "name": "stderr",
     "output_type": "stream",
     "text": [
      "\r",
      "Finding valid work IDs:  84%|████████▍ | 168/200 [34:45<06:42, 12.57s/ID, Latest ID: 121278971]"
     ]
    },
    {
     "name": "stderr",
     "output_type": "stream",
     "text": [
      "\r",
      "Finding valid work IDs:  84%|████████▍ | 168/200 [34:45<06:42, 12.57s/ID, Latest ID: 121278972]"
     ]
    },
    {
     "name": "stderr",
     "output_type": "stream",
     "text": [
      "\r",
      "Finding valid work IDs:  84%|████████▍ | 169/200 [34:54<05:53, 11.40s/ID, Latest ID: 121278972]"
     ]
    },
    {
     "name": "stderr",
     "output_type": "stream",
     "text": [
      "\r",
      "Finding valid work IDs:  84%|████████▍ | 169/200 [34:54<05:53, 11.40s/ID, Latest ID: 121278973]"
     ]
    },
    {
     "name": "stderr",
     "output_type": "stream",
     "text": [
      "\r",
      "Finding valid work IDs:  85%|████████▌ | 170/200 [35:04<05:30, 11.01s/ID, Latest ID: 121278973]"
     ]
    },
    {
     "name": "stderr",
     "output_type": "stream",
     "text": [
      "\r",
      "Finding valid work IDs:  85%|████████▌ | 170/200 [35:04<05:30, 11.01s/ID, Latest ID: 121278974]"
     ]
    },
    {
     "name": "stderr",
     "output_type": "stream",
     "text": [
      "\r",
      "Finding valid work IDs:  86%|████████▌ | 171/200 [35:19<05:59, 12.41s/ID, Latest ID: 121278974]"
     ]
    },
    {
     "name": "stderr",
     "output_type": "stream",
     "text": [
      "\r",
      "Finding valid work IDs:  86%|████████▌ | 171/200 [35:19<05:59, 12.41s/ID, Latest ID: 121278976]"
     ]
    },
    {
     "name": "stderr",
     "output_type": "stream",
     "text": [
      "\r",
      "Finding valid work IDs:  86%|████████▌ | 172/200 [35:26<04:58, 10.66s/ID, Latest ID: 121278976]"
     ]
    },
    {
     "name": "stderr",
     "output_type": "stream",
     "text": [
      "\r",
      "Finding valid work IDs:  86%|████████▌ | 172/200 [35:26<04:58, 10.66s/ID, Latest ID: 121278977]"
     ]
    },
    {
     "name": "stderr",
     "output_type": "stream",
     "text": [
      "\r",
      "Finding valid work IDs:  86%|████████▋ | 173/200 [35:46<06:04, 13.50s/ID, Latest ID: 121278977]"
     ]
    },
    {
     "name": "stderr",
     "output_type": "stream",
     "text": [
      "\r",
      "Finding valid work IDs:  86%|████████▋ | 173/200 [35:46<06:04, 13.50s/ID, Latest ID: 121278979]"
     ]
    },
    {
     "name": "stderr",
     "output_type": "stream",
     "text": [
      "\r",
      "Finding valid work IDs:  87%|████████▋ | 174/200 [35:56<05:22, 12.41s/ID, Latest ID: 121278979]"
     ]
    },
    {
     "name": "stderr",
     "output_type": "stream",
     "text": [
      "\r",
      "Finding valid work IDs:  87%|████████▋ | 174/200 [35:56<05:22, 12.41s/ID, Latest ID: 121278980]"
     ]
    },
    {
     "name": "stderr",
     "output_type": "stream",
     "text": [
      "\r",
      "Finding valid work IDs:  88%|████████▊ | 175/200 [36:04<04:37, 11.11s/ID, Latest ID: 121278980]"
     ]
    },
    {
     "name": "stderr",
     "output_type": "stream",
     "text": [
      "\r",
      "Finding valid work IDs:  88%|████████▊ | 175/200 [36:04<04:37, 11.11s/ID, Latest ID: 121278981]"
     ]
    },
    {
     "name": "stderr",
     "output_type": "stream",
     "text": [
      "\r",
      "Finding valid work IDs:  88%|████████▊ | 176/200 [36:13<04:13, 10.54s/ID, Latest ID: 121278981]"
     ]
    },
    {
     "name": "stderr",
     "output_type": "stream",
     "text": [
      "\r",
      "Finding valid work IDs:  88%|████████▊ | 176/200 [36:13<04:13, 10.54s/ID, Latest ID: 121278982]"
     ]
    },
    {
     "name": "stderr",
     "output_type": "stream",
     "text": [
      "\r",
      "Finding valid work IDs:  88%|████████▊ | 177/200 [36:31<04:52, 12.73s/ID, Latest ID: 121278982]"
     ]
    },
    {
     "name": "stderr",
     "output_type": "stream",
     "text": [
      "\r",
      "Finding valid work IDs:  88%|████████▊ | 177/200 [36:31<04:52, 12.73s/ID, Latest ID: 121278984]"
     ]
    },
    {
     "name": "stderr",
     "output_type": "stream",
     "text": [
      "\r",
      "Finding valid work IDs:  89%|████████▉ | 178/200 [36:40<04:11, 11.43s/ID, Latest ID: 121278984]"
     ]
    },
    {
     "name": "stderr",
     "output_type": "stream",
     "text": [
      "\r",
      "Finding valid work IDs:  89%|████████▉ | 178/200 [36:40<04:11, 11.43s/ID, Latest ID: 121278985]"
     ]
    },
    {
     "name": "stderr",
     "output_type": "stream",
     "text": [
      "\r",
      "Finding valid work IDs:  90%|████████▉ | 179/200 [36:49<03:46, 10.78s/ID, Latest ID: 121278985]"
     ]
    },
    {
     "name": "stderr",
     "output_type": "stream",
     "text": [
      "\r",
      "Finding valid work IDs:  90%|████████▉ | 179/200 [36:49<03:46, 10.78s/ID, Latest ID: 121278986]"
     ]
    },
    {
     "name": "stderr",
     "output_type": "stream",
     "text": [
      "\r",
      "Finding valid work IDs:  90%|█████████ | 180/200 [36:58<03:25, 10.26s/ID, Latest ID: 121278986]"
     ]
    },
    {
     "name": "stderr",
     "output_type": "stream",
     "text": [
      "\r",
      "Finding valid work IDs:  90%|█████████ | 180/200 [36:58<03:25, 10.26s/ID, Latest ID: 121278987]"
     ]
    },
    {
     "name": "stderr",
     "output_type": "stream",
     "text": [
      "\r",
      "Finding valid work IDs:  90%|█████████ | 181/200 [37:20<04:23, 13.87s/ID, Latest ID: 121278987]"
     ]
    },
    {
     "name": "stderr",
     "output_type": "stream",
     "text": [
      "\r",
      "Finding valid work IDs:  90%|█████████ | 181/200 [37:20<04:23, 13.87s/ID, Latest ID: 121278989]"
     ]
    },
    {
     "name": "stderr",
     "output_type": "stream",
     "text": [
      "\r",
      "Finding valid work IDs:  91%|█████████ | 182/200 [37:31<03:53, 12.99s/ID, Latest ID: 121278989]"
     ]
    },
    {
     "name": "stderr",
     "output_type": "stream",
     "text": [
      "\r",
      "Finding valid work IDs:  91%|█████████ | 182/200 [37:31<03:53, 12.99s/ID, Latest ID: 121278990]"
     ]
    },
    {
     "name": "stderr",
     "output_type": "stream",
     "text": [
      "\r",
      "Finding valid work IDs:  92%|█████████▏| 183/200 [37:43<03:33, 12.58s/ID, Latest ID: 121278990]"
     ]
    },
    {
     "name": "stderr",
     "output_type": "stream",
     "text": [
      "\r",
      "Finding valid work IDs:  92%|█████████▏| 183/200 [37:43<03:33, 12.58s/ID, Latest ID: 121278991]"
     ]
    },
    {
     "name": "stderr",
     "output_type": "stream",
     "text": [
      "\r",
      "Finding valid work IDs:  92%|█████████▏| 184/200 [37:56<03:25, 12.87s/ID, Latest ID: 121278991]"
     ]
    },
    {
     "name": "stderr",
     "output_type": "stream",
     "text": [
      "\r",
      "Finding valid work IDs:  92%|█████████▏| 184/200 [37:56<03:25, 12.87s/ID, Latest ID: 121278992]"
     ]
    },
    {
     "name": "stderr",
     "output_type": "stream",
     "text": [
      "\r",
      "Finding valid work IDs:  92%|█████████▎| 185/200 [38:09<03:14, 12.95s/ID, Latest ID: 121278992]"
     ]
    },
    {
     "name": "stderr",
     "output_type": "stream",
     "text": [
      "\r",
      "Finding valid work IDs:  92%|█████████▎| 185/200 [38:09<03:14, 12.95s/ID, Latest ID: 121278993]"
     ]
    },
    {
     "name": "stderr",
     "output_type": "stream",
     "text": [
      "\r",
      "Finding valid work IDs:  93%|█████████▎| 186/200 [38:20<02:51, 12.28s/ID, Latest ID: 121278993]"
     ]
    },
    {
     "name": "stderr",
     "output_type": "stream",
     "text": [
      "\r",
      "Finding valid work IDs:  93%|█████████▎| 186/200 [38:20<02:51, 12.28s/ID, Latest ID: 121278994]"
     ]
    },
    {
     "name": "stderr",
     "output_type": "stream",
     "text": [
      "\r",
      "Finding valid work IDs:  94%|█████████▎| 187/200 [38:43<03:19, 15.36s/ID, Latest ID: 121278994]"
     ]
    },
    {
     "name": "stderr",
     "output_type": "stream",
     "text": [
      "\r",
      "Finding valid work IDs:  94%|█████████▎| 187/200 [38:43<03:19, 15.36s/ID, Latest ID: 121278996]"
     ]
    },
    {
     "name": "stderr",
     "output_type": "stream",
     "text": [
      "\r",
      "Finding valid work IDs:  94%|█████████▍| 188/200 [38:53<02:47, 13.92s/ID, Latest ID: 121278996]"
     ]
    },
    {
     "name": "stderr",
     "output_type": "stream",
     "text": [
      "\r",
      "Finding valid work IDs:  94%|█████████▍| 188/200 [38:53<02:47, 13.92s/ID, Latest ID: 121278997]"
     ]
    },
    {
     "name": "stderr",
     "output_type": "stream",
     "text": [
      "\r",
      "Finding valid work IDs:  94%|█████████▍| 189/200 [39:00<02:08, 11.68s/ID, Latest ID: 121278997]"
     ]
    },
    {
     "name": "stderr",
     "output_type": "stream",
     "text": [
      "\r",
      "Finding valid work IDs:  94%|█████████▍| 189/200 [39:00<02:08, 11.68s/ID, Latest ID: 121278998]"
     ]
    },
    {
     "name": "stderr",
     "output_type": "stream",
     "text": [
      "\r",
      "Finding valid work IDs:  95%|█████████▌| 190/200 [39:07<01:42, 10.27s/ID, Latest ID: 121278998]"
     ]
    },
    {
     "name": "stderr",
     "output_type": "stream",
     "text": [
      "\r",
      "Finding valid work IDs:  95%|█████████▌| 190/200 [39:07<01:42, 10.27s/ID, Latest ID: 121278999]"
     ]
    },
    {
     "name": "stderr",
     "output_type": "stream",
     "text": [
      "\r",
      "Finding valid work IDs:  96%|█████████▌| 191/200 [39:22<01:45, 11.67s/ID, Latest ID: 121278999]"
     ]
    },
    {
     "name": "stderr",
     "output_type": "stream",
     "text": [
      "\r",
      "Finding valid work IDs:  96%|█████████▌| 191/200 [39:22<01:45, 11.67s/ID, Latest ID: 121279000]"
     ]
    },
    {
     "name": "stderr",
     "output_type": "stream",
     "text": [
      "\r",
      "Finding valid work IDs:  96%|█████████▌| 192/200 [39:29<01:24, 10.54s/ID, Latest ID: 121279000]"
     ]
    },
    {
     "name": "stderr",
     "output_type": "stream",
     "text": [
      "\r",
      "Finding valid work IDs:  96%|█████████▌| 192/200 [39:29<01:24, 10.54s/ID, Latest ID: 121279001]"
     ]
    },
    {
     "name": "stderr",
     "output_type": "stream",
     "text": [
      "\r",
      "Finding valid work IDs:  96%|█████████▋| 193/200 [39:42<01:18, 11.19s/ID, Latest ID: 121279001]"
     ]
    },
    {
     "name": "stderr",
     "output_type": "stream",
     "text": [
      "\r",
      "Finding valid work IDs:  96%|█████████▋| 193/200 [39:42<01:18, 11.19s/ID, Latest ID: 121279002]"
     ]
    },
    {
     "name": "stderr",
     "output_type": "stream",
     "text": [
      "\r",
      "Finding valid work IDs:  97%|█████████▋| 194/200 [40:08<01:33, 15.54s/ID, Latest ID: 121279002]"
     ]
    },
    {
     "name": "stderr",
     "output_type": "stream",
     "text": [
      "\r",
      "Finding valid work IDs:  97%|█████████▋| 194/200 [40:08<01:33, 15.54s/ID, Latest ID: 121279004]"
     ]
    },
    {
     "name": "stderr",
     "output_type": "stream",
     "text": [
      "\r",
      "Finding valid work IDs:  98%|█████████▊| 195/200 [40:17<01:07, 13.55s/ID, Latest ID: 121279004]"
     ]
    },
    {
     "name": "stderr",
     "output_type": "stream",
     "text": [
      "\r",
      "Finding valid work IDs:  98%|█████████▊| 195/200 [40:17<01:07, 13.55s/ID, Latest ID: 121279005]"
     ]
    },
    {
     "name": "stderr",
     "output_type": "stream",
     "text": [
      "\r",
      "Finding valid work IDs:  98%|█████████▊| 196/200 [40:28<00:51, 12.96s/ID, Latest ID: 121279005]"
     ]
    },
    {
     "name": "stderr",
     "output_type": "stream",
     "text": [
      "\r",
      "Finding valid work IDs:  98%|█████████▊| 196/200 [40:28<00:51, 12.96s/ID, Latest ID: 121279006]"
     ]
    },
    {
     "name": "stderr",
     "output_type": "stream",
     "text": [
      "\r",
      "Finding valid work IDs:  98%|█████████▊| 197/200 [40:41<00:38, 12.92s/ID, Latest ID: 121279006]"
     ]
    },
    {
     "name": "stderr",
     "output_type": "stream",
     "text": [
      "\r",
      "Finding valid work IDs:  98%|█████████▊| 197/200 [40:41<00:38, 12.92s/ID, Latest ID: 121279007]"
     ]
    },
    {
     "name": "stderr",
     "output_type": "stream",
     "text": [
      "\r",
      "Finding valid work IDs:  99%|█████████▉| 198/200 [40:48<00:21, 10.94s/ID, Latest ID: 121279007]"
     ]
    },
    {
     "name": "stderr",
     "output_type": "stream",
     "text": [
      "\r",
      "Finding valid work IDs:  99%|█████████▉| 198/200 [40:48<00:21, 10.94s/ID, Latest ID: 121279008]"
     ]
    },
    {
     "name": "stderr",
     "output_type": "stream",
     "text": [
      "\r",
      "Finding valid work IDs: 100%|█████████▉| 199/200 [40:58<00:10, 10.74s/ID, Latest ID: 121279008]"
     ]
    },
    {
     "name": "stderr",
     "output_type": "stream",
     "text": [
      "\r",
      "Finding valid work IDs: 100%|█████████▉| 199/200 [40:58<00:10, 10.74s/ID, Latest ID: 121279009]"
     ]
    },
    {
     "name": "stderr",
     "output_type": "stream",
     "text": [
      "\r",
      "Finding valid work IDs: 100%|██████████| 200/200 [41:03<00:00,  9.19s/ID, Latest ID: 121279009]"
     ]
    },
    {
     "name": "stderr",
     "output_type": "stream",
     "text": [
      "\r",
      "Finding valid work IDs: 100%|██████████| 200/200 [41:03<00:00,  9.19s/ID, Latest ID: 121279010]"
     ]
    },
    {
     "name": "stderr",
     "output_type": "stream",
     "text": [
      "\r",
      "Finding valid work IDs: 100%|██████████| 200/200 [41:03<00:00, 12.32s/ID, Latest ID: 121279010]"
     ]
    },
    {
     "name": "stdout",
     "output_type": "stream",
     "text": [
      "\n",
      "Successfully found 50 valid work IDs.\n",
      "Valid work IDs: [121278768, 121278769, 121278770, 121278771, 121278772, 121278773, 121278774, 121278776, 121278777, 121278778, 121278781, 121278782, 121278783, 121278784, 121278785, 121278786, 121278787, 121278788, 121278789, 121278790, 121278791, 121278792, 121278793, 121278794, 121278795, 121278796, 121278797, 121278798, 121278800, 121278801, 121278803, 121278806, 121278807, 121278808, 121278811, 121278812, 121278813, 121278814, 121278815, 121278816, 121278817, 121278818, 121278819, 121278820, 121278822, 121278823, 121278824, 121278825, 121278826, 121278828, 121278829, 121278830, 121278832, 121278834, 121278835, 121278836, 121278837, 121278838, 121278839, 121278840, 121278841, 121278842, 121278843, 121278844, 121278845, 121278846, 121278848, 121278850, 121278851, 121278853, 121278854, 121278855, 121278856, 121278857, 121278858, 121278859, 121278861, 121278862, 121278863, 121278864, 121278865, 121278868, 121278869, 121278870, 121278871, 121278872, 121278875, 121278877, 121278879, 121278880, 121278881, 121278882, 121278883, 121278884, 121278886, 121278887, 121278888, 121278889, 121278890, 121278891, 121278892, 121278894, 121278895, 121278896, 121278898, 121278899, 121278901, 121278902, 121278903, 121278904, 121278905, 121278907, 121278908, 121278909, 121278911, 121278912, 121278913, 121278914, 121278915, 121278916, 121278918, 121278919, 121278920, 121278921, 121278922, 121278924, 121278925, 121278926, 121278927, 121278928, 121278929, 121278930, 121278931, 121278932, 121278933, 121278934, 121278935, 121278936, 121278937, 121278938, 121278940, 121278941, 121278942, 121278943, 121278944, 121278945, 121278946, 121278947, 121278948, 121278949, 121278951, 121278952, 121278953, 121278954, 121278955, 121278957, 121278959, 121278960, 121278961, 121278962, 121278963, 121278964, 121278965, 121278966, 121278967, 121278969, 121278971, 121278972, 121278973, 121278974, 121278976, 121278977, 121278979, 121278980, 121278981, 121278982, 121278984, 121278985, 121278986, 121278987, 121278989, 121278990, 121278991, 121278992, 121278993, 121278994, 121278996, 121278997, 121278998, 121278999, 121279000, 121279001, 121279002, 121279004, 121279005, 121279006, 121279007, 121279008, 121279009, 121279010]\n"
     ]
    },
    {
     "name": "stderr",
     "output_type": "stream",
     "text": [
      "\n"
     ]
    }
   ],
   "source": [
    "import requests\n",
    "import random\n",
    "import time\n",
    "from tqdm import tqdm\n",
    "\n",
    "def check_pixiv_work_ids(start_id, max_attempts=1000):\n",
    "    valid_ids = []\n",
    "    \n",
    "    # 創建tqdm進度條\n",
    "    with tqdm(total=200, desc=\"Finding valid work IDs\", unit=\"ID\") as pbar:\n",
    "        for attempt in range(max_attempts):\n",
    "            work_id = start_id + attempt\n",
    "            url = f\"https://www.pixiv.net/artworks/{work_id}\"\n",
    "            \n",
    "            try:\n",
    "                #proxy = get_random_proxy()\n",
    "                response = requests.head(url)\n",
    "                if response.status_code == 200:\n",
    "                    valid_ids.append(work_id)\n",
    "                    pbar.update(1)  # 更新進度條\n",
    "                    pbar.set_postfix_str(f\"Latest ID: {work_id}\")  # 顯示最新找到的ID\n",
    "                \n",
    "                if len(valid_ids) == 200:\n",
    "                    break\n",
    "                \n",
    "                # 添加延遲以避免過於頻繁的請求\n",
    "                delay = random.uniform(5, 15)  # 5到15秒的隨機延遲\n",
    "                time.sleep(delay)\n",
    "            \n",
    "            except requests.RequestException as e:\n",
    "                tqdm.write(f\"Error checking work ID {work_id}: {e}\")\n",
    "    \n",
    "    if len(valid_ids) == 200:\n",
    "        print(\"\\nSuccessfully found 50 valid work IDs.\")\n",
    "    else:\n",
    "        print(f\"\\nReached maximum attempts. Found {len(valid_ids)} valid work IDs.\")\n",
    "    \n",
    "    return valid_ids\n",
    "\n",
    "# 使用函數\n",
    "#start_id = 121188700  # 隨機選擇起始ID\n",
    "print(f\"Starting search from ID: {start_id}\")\n",
    "result = check_pixiv_work_ids(start_id)\n",
    "print(\"Valid work IDs:\", result)"
   ]
  },
  {
   "cell_type": "code",
   "execution_count": 3,
   "id": "93a673e5-8c78-46cf-878e-b0312b5eb234",
   "metadata": {
    "execution": {
     "iopub.execute_input": "2025-01-03T06:55:04.747863Z",
     "iopub.status.busy": "2025-01-03T06:55:04.747448Z",
     "iopub.status.idle": "2025-01-03T06:55:04.807352Z",
     "shell.execute_reply": "2025-01-03T06:55:04.806758Z"
    }
   },
   "outputs": [],
   "source": [
    "import requests\n",
    "from bs4 import BeautifulSoup\n",
    "import os\n",
    "\n",
    "def save_webpage_as_single_file(url, filename):\n",
    "    try:\n",
    "        # 发送 GET 请求获取网页内容\n",
    "        response = requests.get(url)\n",
    "        response.raise_for_status()  # 检查请求是否成功\n",
    "        #time.sleep(np.random.randint(3,7))\n",
    "\n",
    "        # 解析网页内容\n",
    "        soup = BeautifulSoup(response.text, 'html.parser')\n",
    "\n",
    "        # 获取网页的标题\n",
    "        title = soup.title.string if soup.title else 'webpage'\n",
    "        \n",
    "        # 创建 .mhtml 文件内容\n",
    "        mhtml_content = f\"<!DOCTYPE html>\\n<html>\\n<head>\\n<title>{title}</title>\\n</head>\\n<body>\\n\"\n",
    "        mhtml_content += str(soup)  # 添加网页内容\n",
    "        mhtml_content += \"\\n</body>\\n</html>\"\n",
    "\n",
    "        # 保存为 .mhtml 文件\n",
    "        with open(filename, 'w', encoding='utf-8') as file:\n",
    "            file.write(mhtml_content)\n",
    "\n",
    "        print(f\"网页内容已成功保存为 {filename}\")\n",
    "    except requests.exceptions.RequestException as e:\n",
    "        print(f\"请求失败: {e}\")\n",
    "        pass\n",
    "    except Exception as e:\n",
    "        print(f\"保存文件时出错: {e}\")\n",
    "\n",
    "# 输入 URL 和文件名\n",
    "\n",
    "\n"
   ]
  },
  {
   "cell_type": "code",
   "execution_count": 4,
   "id": "f0078b3f-3262-4e94-857f-53a9e79bac74",
   "metadata": {
    "execution": {
     "iopub.execute_input": "2025-01-03T06:55:04.809649Z",
     "iopub.status.busy": "2025-01-03T06:55:04.809296Z",
     "iopub.status.idle": "2025-01-03T06:55:04.815703Z",
     "shell.execute_reply": "2025-01-03T06:55:04.815245Z"
    }
   },
   "outputs": [],
   "source": [
    "import os\n",
    "import sqlite3\n",
    "import re\n",
    "\n",
    "# 提取信息的函数\n",
    "def extract_info_from_mhtml(mhtml_file,work_ID):\n",
    "    with open(mhtml_file, 'r', encoding='utf-8') as file:\n",
    "        content = file.read()\n",
    "    \n",
    "    # 使用 BeautifulSoup 解析 HTML 内容\n",
    "    soup = BeautifulSoup(content, 'html.parser')\n",
    "\n",
    "    # 提取 <title> 标签的内容\n",
    "    title = soup.title.string if soup.title else '无标题'\n",
    "    \n",
    "     # 使用正则表达式提取多个 \"tag\"\n",
    "    tag_pattern = re.findall(r'\"tag\"\\s*:\\s*\"([^\"]+)\"', content)\n",
    "    \n",
    "    # 使用正则表达式提取 \"likeCount\", \"bookmarkCount\", \"viewCount\"\n",
    "    like_count_pattern = re.search(r'\"likeCount\"\\s*:\\s*(\\d+)', content)\n",
    "    bookmark_count_pattern = re.search(r'\"bookmarkCount\"\\s*:\\s*(\\d+)', content)\n",
    "    view_count_pattern = re.search(r'\"viewCount\"\\s*:\\s*(\\d+)', content)\n",
    "    image_pattern = re.search(r'\"regular\"\\s*:\\s*\"([^\"]+)\"', content)\n",
    "\n",
    "    # 获取正则表达式的匹配结果\n",
    "    tags = tag_pattern if tag_pattern else ['无标签']\n",
    "    like_count = like_count_pattern.group(1) if like_count_pattern else '无点赞数'\n",
    "    bookmark_count = bookmark_count_pattern.group(1) if bookmark_count_pattern else '无收藏数'\n",
    "    view_count = view_count_pattern.group(1) if view_count_pattern else '无浏览数'\n",
    "    image_count = image_pattern.group(1) if image_pattern else '無影像連結'\n",
    "    return {\n",
    "        'work_ID': str(work_ID),\n",
    "        'title': title.split(' - ')[0],  # 清理标题内容\n",
    "        'tags': ', '.join(tags),  # 标签列表转为字符串\n",
    "        'like_count': like_count,\n",
    "        'bookmark_count': bookmark_count,\n",
    "        'view_count': view_count,\n",
    "        'image url': image_count\n",
    "        \n",
    "    }\n",
    "\n",
    "\n",
    "\n",
    "# 将数据追加到 SQLite 数据库的函数\n",
    "def append_to_sqlite(info, db_filename='web_info.db'):\n",
    "    # 连接 SQLite 数据库（如果文件不存在，会自动创建）\n",
    "    conn = sqlite3.connect(db_filename)\n",
    "    cursor = conn.cursor()\n",
    "\n",
    "    # 创建表格（如果不存在）\n",
    "    cursor.execute('''\n",
    "        CREATE TABLE IF NOT EXISTS web_info (\n",
    "            work_ID TEXT PRIMARY KEY,\n",
    "            title TEXT,\n",
    "            tags TEXT,\n",
    "            like_count INTEGER,\n",
    "            bookmark_count INTEGER,\n",
    "            view_count INTEGER,\n",
    "            image_url TEXT\n",
    "        )\n",
    "    ''')\n",
    "\n",
    "    # 插入数据，如果 work_ID 已存在则忽略插入\n",
    "    cursor.execute('''\n",
    "        INSERT OR REPLACE INTO web_info (work_ID, title, tags, like_count, bookmark_count, view_count, image_url)\n",
    "        VALUES (?, ?, ?, ?, ?, ?, ?)\n",
    "    ''', (\n",
    "        info['work_ID'],\n",
    "        info['title'],\n",
    "        info['tags'],\n",
    "        int(info['like_count']),\n",
    "        int(info['bookmark_count']),\n",
    "        int(info['view_count']),\n",
    "        info['image url']\n",
    "    ))\n",
    "\n",
    "    # 提交更改并关闭连接\n",
    "    conn.commit()\n",
    "    conn.close()\n",
    "\n",
    "\n",
    "\n"
   ]
  },
  {
   "cell_type": "code",
   "execution_count": 5,
   "id": "16847b22-1171-48b2-96de-df37fcdbced2",
   "metadata": {
    "execution": {
     "iopub.execute_input": "2025-01-03T06:55:04.817485Z",
     "iopub.status.busy": "2025-01-03T06:55:04.817143Z",
     "iopub.status.idle": "2025-01-03T09:26:56.494069Z",
     "shell.execute_reply": "2025-01-03T09:26:56.493453Z"
    }
   },
   "outputs": [
    {
     "name": "stdout",
     "output_type": "stream",
     "text": [
      "网页内容已成功保存为 121278768.mhtml\n",
      "新信息已成功追加到 web_info.db\n",
      "休息 51 秒鐘\n"
     ]
    },
    {
     "name": "stdout",
     "output_type": "stream",
     "text": [
      "网页内容已成功保存为 121278769.mhtml\n",
      "新信息已成功追加到 web_info.db\n",
      "休息 53 秒鐘\n"
     ]
    },
    {
     "name": "stdout",
     "output_type": "stream",
     "text": [
      "网页内容已成功保存为 121278770.mhtml\n",
      "新信息已成功追加到 web_info.db\n",
      "休息 37 秒鐘\n"
     ]
    },
    {
     "name": "stdout",
     "output_type": "stream",
     "text": [
      "网页内容已成功保存为 121278771.mhtml\n",
      "新信息已成功追加到 web_info.db\n",
      "休息 51 秒鐘\n"
     ]
    },
    {
     "name": "stdout",
     "output_type": "stream",
     "text": [
      "网页内容已成功保存为 121278772.mhtml\n",
      "新信息已成功追加到 web_info.db\n",
      "休息 42 秒鐘\n"
     ]
    },
    {
     "name": "stdout",
     "output_type": "stream",
     "text": [
      "网页内容已成功保存为 121278773.mhtml\n",
      "新信息已成功追加到 web_info.db\n",
      "休息 36 秒鐘\n"
     ]
    },
    {
     "name": "stdout",
     "output_type": "stream",
     "text": [
      "网页内容已成功保存为 121278774.mhtml\n",
      "新信息已成功追加到 web_info.db\n",
      "休息 58 秒鐘\n"
     ]
    },
    {
     "name": "stdout",
     "output_type": "stream",
     "text": [
      "网页内容已成功保存为 121278776.mhtml\n",
      "新信息已成功追加到 web_info.db\n",
      "休息 56 秒鐘\n"
     ]
    },
    {
     "name": "stdout",
     "output_type": "stream",
     "text": [
      "网页内容已成功保存为 121278777.mhtml\n",
      "新信息已成功追加到 web_info.db\n",
      "休息 51 秒鐘\n"
     ]
    },
    {
     "name": "stdout",
     "output_type": "stream",
     "text": [
      "网页内容已成功保存为 121278778.mhtml\n",
      "新信息已成功追加到 web_info.db\n",
      "休息 45 秒鐘\n"
     ]
    },
    {
     "name": "stdout",
     "output_type": "stream",
     "text": [
      "网页内容已成功保存为 121278781.mhtml\n",
      "新信息已成功追加到 web_info.db\n",
      "休息 37 秒鐘\n"
     ]
    },
    {
     "name": "stdout",
     "output_type": "stream",
     "text": [
      "网页内容已成功保存为 121278782.mhtml\n",
      "新信息已成功追加到 web_info.db\n",
      "休息 39 秒鐘\n"
     ]
    },
    {
     "name": "stdout",
     "output_type": "stream",
     "text": [
      "网页内容已成功保存为 121278783.mhtml\n",
      "新信息已成功追加到 web_info.db\n",
      "休息 39 秒鐘\n"
     ]
    },
    {
     "name": "stdout",
     "output_type": "stream",
     "text": [
      "网页内容已成功保存为 121278784.mhtml\n",
      "新信息已成功追加到 web_info.db\n",
      "休息 54 秒鐘\n"
     ]
    },
    {
     "name": "stdout",
     "output_type": "stream",
     "text": [
      "网页内容已成功保存为 121278785.mhtml\n",
      "新信息已成功追加到 web_info.db\n",
      "休息 35 秒鐘\n"
     ]
    },
    {
     "name": "stdout",
     "output_type": "stream",
     "text": [
      "网页内容已成功保存为 121278786.mhtml\n",
      "新信息已成功追加到 web_info.db\n",
      "休息 35 秒鐘\n"
     ]
    },
    {
     "name": "stdout",
     "output_type": "stream",
     "text": [
      "网页内容已成功保存为 121278787.mhtml\n",
      "新信息已成功追加到 web_info.db\n",
      "休息 44 秒鐘\n"
     ]
    },
    {
     "name": "stdout",
     "output_type": "stream",
     "text": [
      "网页内容已成功保存为 121278788.mhtml\n",
      "新信息已成功追加到 web_info.db\n",
      "休息 41 秒鐘\n"
     ]
    },
    {
     "name": "stdout",
     "output_type": "stream",
     "text": [
      "网页内容已成功保存为 121278789.mhtml\n",
      "新信息已成功追加到 web_info.db\n",
      "休息 36 秒鐘\n"
     ]
    },
    {
     "name": "stdout",
     "output_type": "stream",
     "text": [
      "网页内容已成功保存为 121278790.mhtml\n",
      "新信息已成功追加到 web_info.db\n",
      "休息 35 秒鐘\n"
     ]
    },
    {
     "name": "stdout",
     "output_type": "stream",
     "text": [
      "网页内容已成功保存为 121278791.mhtml\n",
      "新信息已成功追加到 web_info.db\n",
      "休息 45 秒鐘\n"
     ]
    },
    {
     "name": "stdout",
     "output_type": "stream",
     "text": [
      "网页内容已成功保存为 121278792.mhtml\n",
      "新信息已成功追加到 web_info.db\n",
      "休息 55 秒鐘\n"
     ]
    },
    {
     "name": "stdout",
     "output_type": "stream",
     "text": [
      "网页内容已成功保存为 121278793.mhtml\n",
      "新信息已成功追加到 web_info.db\n",
      "休息 42 秒鐘\n"
     ]
    },
    {
     "name": "stdout",
     "output_type": "stream",
     "text": [
      "网页内容已成功保存为 121278794.mhtml\n",
      "新信息已成功追加到 web_info.db\n",
      "休息 56 秒鐘\n"
     ]
    },
    {
     "name": "stdout",
     "output_type": "stream",
     "text": [
      "网页内容已成功保存为 121278795.mhtml\n",
      "新信息已成功追加到 web_info.db\n",
      "休息 57 秒鐘\n"
     ]
    },
    {
     "name": "stdout",
     "output_type": "stream",
     "text": [
      "网页内容已成功保存为 121278796.mhtml\n",
      "新信息已成功追加到 web_info.db\n",
      "休息 48 秒鐘\n"
     ]
    },
    {
     "name": "stdout",
     "output_type": "stream",
     "text": [
      "网页内容已成功保存为 121278797.mhtml\n",
      "新信息已成功追加到 web_info.db\n",
      "休息 30 秒鐘\n"
     ]
    },
    {
     "name": "stdout",
     "output_type": "stream",
     "text": [
      "网页内容已成功保存为 121278798.mhtml\n",
      "新信息已成功追加到 web_info.db\n",
      "休息 59 秒鐘\n"
     ]
    },
    {
     "name": "stdout",
     "output_type": "stream",
     "text": [
      "网页内容已成功保存为 121278800.mhtml\n",
      "新信息已成功追加到 web_info.db\n",
      "休息 55 秒鐘\n"
     ]
    },
    {
     "name": "stdout",
     "output_type": "stream",
     "text": [
      "网页内容已成功保存为 121278801.mhtml\n",
      "新信息已成功追加到 web_info.db\n",
      "休息 48 秒鐘\n"
     ]
    },
    {
     "name": "stdout",
     "output_type": "stream",
     "text": [
      "网页内容已成功保存为 121278803.mhtml\n",
      "新信息已成功追加到 web_info.db\n",
      "休息 57 秒鐘\n"
     ]
    },
    {
     "name": "stdout",
     "output_type": "stream",
     "text": [
      "网页内容已成功保存为 121278806.mhtml\n",
      "新信息已成功追加到 web_info.db\n",
      "休息 55 秒鐘\n"
     ]
    },
    {
     "name": "stdout",
     "output_type": "stream",
     "text": [
      "网页内容已成功保存为 121278807.mhtml\n",
      "新信息已成功追加到 web_info.db\n",
      "休息 59 秒鐘\n"
     ]
    },
    {
     "name": "stdout",
     "output_type": "stream",
     "text": [
      "网页内容已成功保存为 121278808.mhtml\n",
      "新信息已成功追加到 web_info.db\n",
      "休息 47 秒鐘\n"
     ]
    },
    {
     "name": "stdout",
     "output_type": "stream",
     "text": [
      "网页内容已成功保存为 121278811.mhtml\n",
      "新信息已成功追加到 web_info.db\n",
      "休息 58 秒鐘\n"
     ]
    },
    {
     "name": "stdout",
     "output_type": "stream",
     "text": [
      "网页内容已成功保存为 121278812.mhtml\n",
      "新信息已成功追加到 web_info.db\n",
      "休息 59 秒鐘\n"
     ]
    },
    {
     "name": "stdout",
     "output_type": "stream",
     "text": [
      "网页内容已成功保存为 121278813.mhtml\n",
      "新信息已成功追加到 web_info.db\n",
      "休息 47 秒鐘\n"
     ]
    },
    {
     "name": "stdout",
     "output_type": "stream",
     "text": [
      "网页内容已成功保存为 121278814.mhtml\n",
      "新信息已成功追加到 web_info.db\n",
      "休息 41 秒鐘\n"
     ]
    },
    {
     "name": "stdout",
     "output_type": "stream",
     "text": [
      "网页内容已成功保存为 121278815.mhtml\n",
      "新信息已成功追加到 web_info.db\n",
      "休息 59 秒鐘\n"
     ]
    },
    {
     "name": "stdout",
     "output_type": "stream",
     "text": [
      "网页内容已成功保存为 121278816.mhtml\n",
      "新信息已成功追加到 web_info.db\n",
      "休息 46 秒鐘\n"
     ]
    },
    {
     "name": "stdout",
     "output_type": "stream",
     "text": [
      "网页内容已成功保存为 121278817.mhtml\n",
      "新信息已成功追加到 web_info.db\n",
      "休息 44 秒鐘\n"
     ]
    },
    {
     "name": "stdout",
     "output_type": "stream",
     "text": [
      "网页内容已成功保存为 121278818.mhtml\n",
      "新信息已成功追加到 web_info.db\n",
      "休息 46 秒鐘\n"
     ]
    },
    {
     "name": "stdout",
     "output_type": "stream",
     "text": [
      "网页内容已成功保存为 121278819.mhtml\n",
      "新信息已成功追加到 web_info.db\n",
      "休息 40 秒鐘\n"
     ]
    },
    {
     "name": "stdout",
     "output_type": "stream",
     "text": [
      "网页内容已成功保存为 121278820.mhtml\n",
      "新信息已成功追加到 web_info.db\n",
      "休息 52 秒鐘\n"
     ]
    },
    {
     "name": "stdout",
     "output_type": "stream",
     "text": [
      "网页内容已成功保存为 121278822.mhtml\n",
      "新信息已成功追加到 web_info.db\n",
      "休息 52 秒鐘\n"
     ]
    },
    {
     "name": "stdout",
     "output_type": "stream",
     "text": [
      "网页内容已成功保存为 121278823.mhtml\n",
      "新信息已成功追加到 web_info.db\n",
      "休息 45 秒鐘\n"
     ]
    },
    {
     "name": "stdout",
     "output_type": "stream",
     "text": [
      "网页内容已成功保存为 121278824.mhtml\n",
      "新信息已成功追加到 web_info.db\n",
      "休息 42 秒鐘\n"
     ]
    },
    {
     "name": "stdout",
     "output_type": "stream",
     "text": [
      "网页内容已成功保存为 121278825.mhtml\n",
      "新信息已成功追加到 web_info.db\n",
      "休息 37 秒鐘\n"
     ]
    },
    {
     "name": "stdout",
     "output_type": "stream",
     "text": [
      "网页内容已成功保存为 121278826.mhtml\n",
      "新信息已成功追加到 web_info.db\n",
      "休息 38 秒鐘\n"
     ]
    },
    {
     "name": "stdout",
     "output_type": "stream",
     "text": [
      "网页内容已成功保存为 121278828.mhtml\n",
      "新信息已成功追加到 web_info.db\n",
      "休息 59 秒鐘\n"
     ]
    },
    {
     "name": "stdout",
     "output_type": "stream",
     "text": [
      "网页内容已成功保存为 121278829.mhtml\n",
      "新信息已成功追加到 web_info.db\n",
      "休息 54 秒鐘\n"
     ]
    },
    {
     "name": "stdout",
     "output_type": "stream",
     "text": [
      "网页内容已成功保存为 121278830.mhtml\n",
      "新信息已成功追加到 web_info.db\n",
      "休息 53 秒鐘\n"
     ]
    },
    {
     "name": "stdout",
     "output_type": "stream",
     "text": [
      "网页内容已成功保存为 121278832.mhtml\n",
      "新信息已成功追加到 web_info.db\n",
      "休息 32 秒鐘\n"
     ]
    },
    {
     "name": "stdout",
     "output_type": "stream",
     "text": [
      "网页内容已成功保存为 121278834.mhtml\n",
      "新信息已成功追加到 web_info.db\n",
      "休息 38 秒鐘\n"
     ]
    },
    {
     "name": "stdout",
     "output_type": "stream",
     "text": [
      "网页内容已成功保存为 121278835.mhtml\n",
      "新信息已成功追加到 web_info.db\n",
      "休息 44 秒鐘\n"
     ]
    },
    {
     "name": "stdout",
     "output_type": "stream",
     "text": [
      "网页内容已成功保存为 121278836.mhtml\n",
      "新信息已成功追加到 web_info.db\n",
      "休息 40 秒鐘\n"
     ]
    },
    {
     "name": "stdout",
     "output_type": "stream",
     "text": [
      "网页内容已成功保存为 121278837.mhtml\n",
      "新信息已成功追加到 web_info.db\n",
      "休息 48 秒鐘\n"
     ]
    },
    {
     "name": "stdout",
     "output_type": "stream",
     "text": [
      "网页内容已成功保存为 121278838.mhtml\n",
      "新信息已成功追加到 web_info.db\n",
      "休息 43 秒鐘\n"
     ]
    },
    {
     "name": "stdout",
     "output_type": "stream",
     "text": [
      "网页内容已成功保存为 121278839.mhtml\n",
      "新信息已成功追加到 web_info.db\n",
      "休息 46 秒鐘\n"
     ]
    },
    {
     "name": "stdout",
     "output_type": "stream",
     "text": [
      "网页内容已成功保存为 121278840.mhtml\n",
      "新信息已成功追加到 web_info.db\n",
      "休息 53 秒鐘\n"
     ]
    },
    {
     "name": "stdout",
     "output_type": "stream",
     "text": [
      "网页内容已成功保存为 121278841.mhtml\n",
      "新信息已成功追加到 web_info.db\n",
      "休息 51 秒鐘\n"
     ]
    },
    {
     "name": "stdout",
     "output_type": "stream",
     "text": [
      "网页内容已成功保存为 121278842.mhtml\n",
      "新信息已成功追加到 web_info.db\n",
      "休息 43 秒鐘\n"
     ]
    },
    {
     "name": "stdout",
     "output_type": "stream",
     "text": [
      "网页内容已成功保存为 121278843.mhtml\n",
      "新信息已成功追加到 web_info.db\n",
      "休息 35 秒鐘\n"
     ]
    },
    {
     "name": "stdout",
     "output_type": "stream",
     "text": [
      "网页内容已成功保存为 121278844.mhtml\n",
      "新信息已成功追加到 web_info.db\n",
      "休息 50 秒鐘\n"
     ]
    },
    {
     "name": "stdout",
     "output_type": "stream",
     "text": [
      "网页内容已成功保存为 121278845.mhtml\n",
      "新信息已成功追加到 web_info.db\n",
      "休息 44 秒鐘\n"
     ]
    },
    {
     "name": "stdout",
     "output_type": "stream",
     "text": [
      "网页内容已成功保存为 121278846.mhtml\n",
      "新信息已成功追加到 web_info.db\n",
      "休息 30 秒鐘\n"
     ]
    },
    {
     "name": "stdout",
     "output_type": "stream",
     "text": [
      "网页内容已成功保存为 121278848.mhtml\n",
      "新信息已成功追加到 web_info.db\n",
      "休息 56 秒鐘\n"
     ]
    },
    {
     "name": "stdout",
     "output_type": "stream",
     "text": [
      "网页内容已成功保存为 121278850.mhtml\n",
      "新信息已成功追加到 web_info.db\n",
      "休息 47 秒鐘\n"
     ]
    },
    {
     "name": "stdout",
     "output_type": "stream",
     "text": [
      "网页内容已成功保存为 121278851.mhtml\n",
      "新信息已成功追加到 web_info.db\n",
      "休息 54 秒鐘\n"
     ]
    },
    {
     "name": "stdout",
     "output_type": "stream",
     "text": [
      "网页内容已成功保存为 121278853.mhtml\n",
      "新信息已成功追加到 web_info.db\n",
      "休息 55 秒鐘\n"
     ]
    },
    {
     "name": "stdout",
     "output_type": "stream",
     "text": [
      "网页内容已成功保存为 121278854.mhtml\n",
      "新信息已成功追加到 web_info.db\n",
      "休息 42 秒鐘\n"
     ]
    },
    {
     "name": "stdout",
     "output_type": "stream",
     "text": [
      "网页内容已成功保存为 121278855.mhtml\n",
      "新信息已成功追加到 web_info.db\n",
      "休息 45 秒鐘\n"
     ]
    },
    {
     "name": "stdout",
     "output_type": "stream",
     "text": [
      "网页内容已成功保存为 121278856.mhtml\n",
      "新信息已成功追加到 web_info.db\n",
      "休息 47 秒鐘\n"
     ]
    },
    {
     "name": "stdout",
     "output_type": "stream",
     "text": [
      "网页内容已成功保存为 121278857.mhtml\n",
      "新信息已成功追加到 web_info.db\n",
      "休息 54 秒鐘\n"
     ]
    },
    {
     "name": "stdout",
     "output_type": "stream",
     "text": [
      "网页内容已成功保存为 121278858.mhtml\n",
      "新信息已成功追加到 web_info.db\n",
      "休息 45 秒鐘\n"
     ]
    },
    {
     "name": "stdout",
     "output_type": "stream",
     "text": [
      "网页内容已成功保存为 121278859.mhtml\n",
      "新信息已成功追加到 web_info.db\n",
      "休息 56 秒鐘\n"
     ]
    },
    {
     "name": "stdout",
     "output_type": "stream",
     "text": [
      "网页内容已成功保存为 121278861.mhtml\n",
      "新信息已成功追加到 web_info.db\n",
      "休息 39 秒鐘\n"
     ]
    },
    {
     "name": "stdout",
     "output_type": "stream",
     "text": [
      "网页内容已成功保存为 121278862.mhtml\n",
      "新信息已成功追加到 web_info.db\n",
      "休息 48 秒鐘\n"
     ]
    },
    {
     "name": "stdout",
     "output_type": "stream",
     "text": [
      "网页内容已成功保存为 121278863.mhtml\n",
      "新信息已成功追加到 web_info.db\n",
      "休息 57 秒鐘\n"
     ]
    },
    {
     "name": "stdout",
     "output_type": "stream",
     "text": [
      "网页内容已成功保存为 121278864.mhtml\n",
      "新信息已成功追加到 web_info.db\n",
      "休息 59 秒鐘\n"
     ]
    },
    {
     "name": "stdout",
     "output_type": "stream",
     "text": [
      "网页内容已成功保存为 121278865.mhtml\n",
      "新信息已成功追加到 web_info.db\n",
      "休息 46 秒鐘\n"
     ]
    },
    {
     "name": "stdout",
     "output_type": "stream",
     "text": [
      "网页内容已成功保存为 121278868.mhtml\n",
      "新信息已成功追加到 web_info.db\n",
      "休息 42 秒鐘\n"
     ]
    },
    {
     "name": "stdout",
     "output_type": "stream",
     "text": [
      "网页内容已成功保存为 121278869.mhtml\n",
      "新信息已成功追加到 web_info.db\n",
      "休息 54 秒鐘\n"
     ]
    },
    {
     "name": "stdout",
     "output_type": "stream",
     "text": [
      "网页内容已成功保存为 121278870.mhtml\n",
      "新信息已成功追加到 web_info.db\n",
      "休息 42 秒鐘\n"
     ]
    },
    {
     "name": "stdout",
     "output_type": "stream",
     "text": [
      "网页内容已成功保存为 121278871.mhtml\n",
      "新信息已成功追加到 web_info.db\n",
      "休息 58 秒鐘\n"
     ]
    },
    {
     "name": "stdout",
     "output_type": "stream",
     "text": [
      "网页内容已成功保存为 121278872.mhtml\n",
      "新信息已成功追加到 web_info.db\n",
      "休息 37 秒鐘\n"
     ]
    },
    {
     "name": "stdout",
     "output_type": "stream",
     "text": [
      "网页内容已成功保存为 121278875.mhtml\n",
      "新信息已成功追加到 web_info.db\n",
      "休息 36 秒鐘\n"
     ]
    },
    {
     "name": "stdout",
     "output_type": "stream",
     "text": [
      "网页内容已成功保存为 121278877.mhtml\n",
      "新信息已成功追加到 web_info.db\n",
      "休息 46 秒鐘\n"
     ]
    },
    {
     "name": "stdout",
     "output_type": "stream",
     "text": [
      "网页内容已成功保存为 121278879.mhtml\n",
      "新信息已成功追加到 web_info.db\n",
      "休息 39 秒鐘\n"
     ]
    },
    {
     "name": "stdout",
     "output_type": "stream",
     "text": [
      "网页内容已成功保存为 121278880.mhtml\n",
      "新信息已成功追加到 web_info.db\n",
      "休息 37 秒鐘\n"
     ]
    },
    {
     "name": "stdout",
     "output_type": "stream",
     "text": [
      "网页内容已成功保存为 121278881.mhtml\n",
      "新信息已成功追加到 web_info.db\n",
      "休息 38 秒鐘\n"
     ]
    },
    {
     "name": "stdout",
     "output_type": "stream",
     "text": [
      "网页内容已成功保存为 121278882.mhtml\n",
      "新信息已成功追加到 web_info.db\n",
      "休息 54 秒鐘\n"
     ]
    },
    {
     "name": "stdout",
     "output_type": "stream",
     "text": [
      "网页内容已成功保存为 121278883.mhtml\n",
      "新信息已成功追加到 web_info.db\n",
      "休息 55 秒鐘\n"
     ]
    },
    {
     "name": "stdout",
     "output_type": "stream",
     "text": [
      "网页内容已成功保存为 121278884.mhtml\n",
      "新信息已成功追加到 web_info.db\n",
      "休息 49 秒鐘\n"
     ]
    },
    {
     "name": "stdout",
     "output_type": "stream",
     "text": [
      "网页内容已成功保存为 121278886.mhtml\n",
      "新信息已成功追加到 web_info.db\n",
      "休息 35 秒鐘\n"
     ]
    },
    {
     "name": "stdout",
     "output_type": "stream",
     "text": [
      "网页内容已成功保存为 121278887.mhtml\n",
      "新信息已成功追加到 web_info.db\n",
      "休息 56 秒鐘\n"
     ]
    },
    {
     "name": "stdout",
     "output_type": "stream",
     "text": [
      "网页内容已成功保存为 121278888.mhtml\n",
      "新信息已成功追加到 web_info.db\n",
      "休息 59 秒鐘\n"
     ]
    },
    {
     "name": "stdout",
     "output_type": "stream",
     "text": [
      "网页内容已成功保存为 121278889.mhtml\n",
      "新信息已成功追加到 web_info.db\n",
      "休息 50 秒鐘\n"
     ]
    },
    {
     "name": "stdout",
     "output_type": "stream",
     "text": [
      "网页内容已成功保存为 121278890.mhtml\n",
      "新信息已成功追加到 web_info.db\n",
      "休息 31 秒鐘\n"
     ]
    },
    {
     "name": "stdout",
     "output_type": "stream",
     "text": [
      "网页内容已成功保存为 121278891.mhtml\n",
      "新信息已成功追加到 web_info.db\n",
      "休息 41 秒鐘\n"
     ]
    },
    {
     "name": "stdout",
     "output_type": "stream",
     "text": [
      "网页内容已成功保存为 121278892.mhtml\n",
      "新信息已成功追加到 web_info.db\n",
      "休息 52 秒鐘\n"
     ]
    },
    {
     "name": "stdout",
     "output_type": "stream",
     "text": [
      "网页内容已成功保存为 121278894.mhtml\n",
      "新信息已成功追加到 web_info.db\n",
      "休息 55 秒鐘\n"
     ]
    },
    {
     "name": "stdout",
     "output_type": "stream",
     "text": [
      "网页内容已成功保存为 121278895.mhtml\n",
      "新信息已成功追加到 web_info.db\n",
      "休息 39 秒鐘\n"
     ]
    },
    {
     "name": "stdout",
     "output_type": "stream",
     "text": [
      "网页内容已成功保存为 121278896.mhtml\n",
      "新信息已成功追加到 web_info.db\n",
      "休息 45 秒鐘\n"
     ]
    },
    {
     "name": "stdout",
     "output_type": "stream",
     "text": [
      "网页内容已成功保存为 121278898.mhtml\n",
      "新信息已成功追加到 web_info.db\n",
      "休息 41 秒鐘\n"
     ]
    },
    {
     "name": "stdout",
     "output_type": "stream",
     "text": [
      "网页内容已成功保存为 121278899.mhtml\n",
      "新信息已成功追加到 web_info.db\n",
      "休息 41 秒鐘\n"
     ]
    },
    {
     "name": "stdout",
     "output_type": "stream",
     "text": [
      "网页内容已成功保存为 121278901.mhtml\n",
      "新信息已成功追加到 web_info.db\n",
      "休息 57 秒鐘\n"
     ]
    },
    {
     "name": "stdout",
     "output_type": "stream",
     "text": [
      "网页内容已成功保存为 121278902.mhtml\n",
      "新信息已成功追加到 web_info.db\n",
      "休息 38 秒鐘\n"
     ]
    },
    {
     "name": "stdout",
     "output_type": "stream",
     "text": [
      "网页内容已成功保存为 121278903.mhtml\n",
      "新信息已成功追加到 web_info.db\n",
      "休息 47 秒鐘\n"
     ]
    },
    {
     "name": "stdout",
     "output_type": "stream",
     "text": [
      "网页内容已成功保存为 121278904.mhtml\n",
      "新信息已成功追加到 web_info.db\n",
      "休息 35 秒鐘\n"
     ]
    },
    {
     "name": "stdout",
     "output_type": "stream",
     "text": [
      "网页内容已成功保存为 121278905.mhtml\n",
      "新信息已成功追加到 web_info.db\n",
      "休息 30 秒鐘\n"
     ]
    },
    {
     "name": "stdout",
     "output_type": "stream",
     "text": [
      "网页内容已成功保存为 121278907.mhtml\n",
      "新信息已成功追加到 web_info.db\n",
      "休息 54 秒鐘\n"
     ]
    },
    {
     "name": "stdout",
     "output_type": "stream",
     "text": [
      "网页内容已成功保存为 121278908.mhtml\n",
      "新信息已成功追加到 web_info.db\n",
      "休息 36 秒鐘\n"
     ]
    },
    {
     "name": "stdout",
     "output_type": "stream",
     "text": [
      "网页内容已成功保存为 121278909.mhtml\n",
      "新信息已成功追加到 web_info.db\n",
      "休息 52 秒鐘\n"
     ]
    },
    {
     "name": "stdout",
     "output_type": "stream",
     "text": [
      "网页内容已成功保存为 121278911.mhtml\n",
      "新信息已成功追加到 web_info.db\n",
      "休息 32 秒鐘\n"
     ]
    },
    {
     "name": "stdout",
     "output_type": "stream",
     "text": [
      "网页内容已成功保存为 121278912.mhtml\n",
      "新信息已成功追加到 web_info.db\n",
      "休息 40 秒鐘\n"
     ]
    },
    {
     "name": "stdout",
     "output_type": "stream",
     "text": [
      "网页内容已成功保存为 121278913.mhtml\n",
      "新信息已成功追加到 web_info.db\n",
      "休息 47 秒鐘\n"
     ]
    },
    {
     "name": "stdout",
     "output_type": "stream",
     "text": [
      "网页内容已成功保存为 121278914.mhtml\n",
      "新信息已成功追加到 web_info.db\n",
      "休息 47 秒鐘\n"
     ]
    },
    {
     "name": "stdout",
     "output_type": "stream",
     "text": [
      "网页内容已成功保存为 121278915.mhtml\n",
      "新信息已成功追加到 web_info.db\n",
      "休息 56 秒鐘\n"
     ]
    },
    {
     "name": "stdout",
     "output_type": "stream",
     "text": [
      "网页内容已成功保存为 121278916.mhtml\n",
      "新信息已成功追加到 web_info.db\n",
      "休息 45 秒鐘\n"
     ]
    },
    {
     "name": "stdout",
     "output_type": "stream",
     "text": [
      "网页内容已成功保存为 121278918.mhtml\n",
      "新信息已成功追加到 web_info.db\n",
      "休息 58 秒鐘\n"
     ]
    },
    {
     "name": "stdout",
     "output_type": "stream",
     "text": [
      "网页内容已成功保存为 121278919.mhtml\n",
      "新信息已成功追加到 web_info.db\n",
      "休息 33 秒鐘\n"
     ]
    },
    {
     "name": "stdout",
     "output_type": "stream",
     "text": [
      "网页内容已成功保存为 121278920.mhtml\n",
      "新信息已成功追加到 web_info.db\n",
      "休息 56 秒鐘\n"
     ]
    },
    {
     "name": "stdout",
     "output_type": "stream",
     "text": [
      "网页内容已成功保存为 121278921.mhtml\n",
      "新信息已成功追加到 web_info.db\n",
      "休息 31 秒鐘\n"
     ]
    },
    {
     "name": "stdout",
     "output_type": "stream",
     "text": [
      "网页内容已成功保存为 121278922.mhtml\n",
      "新信息已成功追加到 web_info.db\n",
      "休息 39 秒鐘\n"
     ]
    },
    {
     "name": "stdout",
     "output_type": "stream",
     "text": [
      "网页内容已成功保存为 121278924.mhtml\n",
      "新信息已成功追加到 web_info.db\n",
      "休息 49 秒鐘\n"
     ]
    },
    {
     "name": "stdout",
     "output_type": "stream",
     "text": [
      "网页内容已成功保存为 121278925.mhtml\n",
      "新信息已成功追加到 web_info.db\n",
      "休息 43 秒鐘\n"
     ]
    },
    {
     "name": "stdout",
     "output_type": "stream",
     "text": [
      "网页内容已成功保存为 121278926.mhtml\n",
      "新信息已成功追加到 web_info.db\n",
      "休息 30 秒鐘\n"
     ]
    },
    {
     "name": "stdout",
     "output_type": "stream",
     "text": [
      "网页内容已成功保存为 121278927.mhtml\n",
      "新信息已成功追加到 web_info.db\n",
      "休息 53 秒鐘\n"
     ]
    },
    {
     "name": "stdout",
     "output_type": "stream",
     "text": [
      "网页内容已成功保存为 121278928.mhtml\n",
      "新信息已成功追加到 web_info.db\n",
      "休息 52 秒鐘\n"
     ]
    },
    {
     "name": "stdout",
     "output_type": "stream",
     "text": [
      "网页内容已成功保存为 121278929.mhtml\n",
      "新信息已成功追加到 web_info.db\n",
      "休息 37 秒鐘\n"
     ]
    },
    {
     "name": "stdout",
     "output_type": "stream",
     "text": [
      "网页内容已成功保存为 121278930.mhtml\n",
      "新信息已成功追加到 web_info.db\n",
      "休息 57 秒鐘\n"
     ]
    },
    {
     "name": "stdout",
     "output_type": "stream",
     "text": [
      "网页内容已成功保存为 121278931.mhtml\n",
      "新信息已成功追加到 web_info.db\n",
      "休息 51 秒鐘\n"
     ]
    },
    {
     "name": "stdout",
     "output_type": "stream",
     "text": [
      "网页内容已成功保存为 121278932.mhtml\n",
      "新信息已成功追加到 web_info.db\n",
      "休息 51 秒鐘\n"
     ]
    },
    {
     "name": "stdout",
     "output_type": "stream",
     "text": [
      "网页内容已成功保存为 121278933.mhtml\n",
      "新信息已成功追加到 web_info.db\n",
      "休息 31 秒鐘\n"
     ]
    },
    {
     "name": "stdout",
     "output_type": "stream",
     "text": [
      "网页内容已成功保存为 121278934.mhtml\n",
      "新信息已成功追加到 web_info.db\n",
      "休息 53 秒鐘\n"
     ]
    },
    {
     "name": "stdout",
     "output_type": "stream",
     "text": [
      "网页内容已成功保存为 121278935.mhtml\n",
      "新信息已成功追加到 web_info.db\n",
      "休息 41 秒鐘\n"
     ]
    },
    {
     "name": "stdout",
     "output_type": "stream",
     "text": [
      "网页内容已成功保存为 121278936.mhtml\n",
      "新信息已成功追加到 web_info.db\n",
      "休息 42 秒鐘\n"
     ]
    },
    {
     "name": "stdout",
     "output_type": "stream",
     "text": [
      "网页内容已成功保存为 121278937.mhtml\n",
      "新信息已成功追加到 web_info.db\n",
      "休息 49 秒鐘\n"
     ]
    },
    {
     "name": "stdout",
     "output_type": "stream",
     "text": [
      "网页内容已成功保存为 121278938.mhtml\n",
      "新信息已成功追加到 web_info.db\n",
      "休息 38 秒鐘\n"
     ]
    },
    {
     "name": "stdout",
     "output_type": "stream",
     "text": [
      "网页内容已成功保存为 121278940.mhtml\n",
      "新信息已成功追加到 web_info.db\n",
      "休息 58 秒鐘\n"
     ]
    },
    {
     "name": "stdout",
     "output_type": "stream",
     "text": [
      "网页内容已成功保存为 121278941.mhtml\n",
      "新信息已成功追加到 web_info.db\n",
      "休息 32 秒鐘\n"
     ]
    },
    {
     "name": "stdout",
     "output_type": "stream",
     "text": [
      "网页内容已成功保存为 121278942.mhtml\n",
      "新信息已成功追加到 web_info.db\n",
      "休息 55 秒鐘\n"
     ]
    },
    {
     "name": "stdout",
     "output_type": "stream",
     "text": [
      "网页内容已成功保存为 121278943.mhtml\n",
      "新信息已成功追加到 web_info.db\n",
      "休息 39 秒鐘\n"
     ]
    },
    {
     "name": "stdout",
     "output_type": "stream",
     "text": [
      "网页内容已成功保存为 121278944.mhtml\n",
      "新信息已成功追加到 web_info.db\n",
      "休息 55 秒鐘\n"
     ]
    },
    {
     "name": "stdout",
     "output_type": "stream",
     "text": [
      "网页内容已成功保存为 121278945.mhtml\n",
      "新信息已成功追加到 web_info.db\n",
      "休息 38 秒鐘\n"
     ]
    },
    {
     "name": "stdout",
     "output_type": "stream",
     "text": [
      "网页内容已成功保存为 121278946.mhtml\n",
      "新信息已成功追加到 web_info.db\n",
      "休息 51 秒鐘\n"
     ]
    },
    {
     "name": "stdout",
     "output_type": "stream",
     "text": [
      "网页内容已成功保存为 121278947.mhtml\n",
      "新信息已成功追加到 web_info.db\n",
      "休息 41 秒鐘\n"
     ]
    },
    {
     "name": "stdout",
     "output_type": "stream",
     "text": [
      "网页内容已成功保存为 121278948.mhtml\n",
      "新信息已成功追加到 web_info.db\n",
      "休息 42 秒鐘\n"
     ]
    },
    {
     "name": "stdout",
     "output_type": "stream",
     "text": [
      "网页内容已成功保存为 121278949.mhtml\n",
      "新信息已成功追加到 web_info.db\n",
      "休息 54 秒鐘\n"
     ]
    },
    {
     "name": "stdout",
     "output_type": "stream",
     "text": [
      "网页内容已成功保存为 121278951.mhtml\n",
      "新信息已成功追加到 web_info.db\n",
      "休息 49 秒鐘\n"
     ]
    },
    {
     "name": "stdout",
     "output_type": "stream",
     "text": [
      "网页内容已成功保存为 121278952.mhtml\n",
      "新信息已成功追加到 web_info.db\n",
      "休息 37 秒鐘\n"
     ]
    },
    {
     "name": "stdout",
     "output_type": "stream",
     "text": [
      "网页内容已成功保存为 121278953.mhtml\n",
      "新信息已成功追加到 web_info.db\n",
      "休息 40 秒鐘\n"
     ]
    },
    {
     "name": "stdout",
     "output_type": "stream",
     "text": [
      "网页内容已成功保存为 121278954.mhtml\n",
      "新信息已成功追加到 web_info.db\n",
      "休息 45 秒鐘\n"
     ]
    },
    {
     "name": "stdout",
     "output_type": "stream",
     "text": [
      "网页内容已成功保存为 121278955.mhtml\n",
      "新信息已成功追加到 web_info.db\n",
      "休息 52 秒鐘\n"
     ]
    },
    {
     "name": "stdout",
     "output_type": "stream",
     "text": [
      "网页内容已成功保存为 121278957.mhtml\n",
      "新信息已成功追加到 web_info.db\n",
      "休息 42 秒鐘\n"
     ]
    },
    {
     "name": "stdout",
     "output_type": "stream",
     "text": [
      "网页内容已成功保存为 121278959.mhtml\n",
      "新信息已成功追加到 web_info.db\n",
      "休息 49 秒鐘\n"
     ]
    },
    {
     "name": "stdout",
     "output_type": "stream",
     "text": [
      "网页内容已成功保存为 121278960.mhtml\n",
      "新信息已成功追加到 web_info.db\n",
      "休息 47 秒鐘\n"
     ]
    },
    {
     "name": "stdout",
     "output_type": "stream",
     "text": [
      "网页内容已成功保存为 121278961.mhtml\n",
      "新信息已成功追加到 web_info.db\n",
      "休息 46 秒鐘\n"
     ]
    },
    {
     "name": "stdout",
     "output_type": "stream",
     "text": [
      "网页内容已成功保存为 121278962.mhtml\n",
      "新信息已成功追加到 web_info.db\n",
      "休息 48 秒鐘\n"
     ]
    },
    {
     "name": "stdout",
     "output_type": "stream",
     "text": [
      "网页内容已成功保存为 121278963.mhtml\n",
      "新信息已成功追加到 web_info.db\n",
      "休息 58 秒鐘\n"
     ]
    },
    {
     "name": "stdout",
     "output_type": "stream",
     "text": [
      "网页内容已成功保存为 121278964.mhtml\n",
      "新信息已成功追加到 web_info.db\n",
      "休息 34 秒鐘\n"
     ]
    },
    {
     "name": "stdout",
     "output_type": "stream",
     "text": [
      "网页内容已成功保存为 121278965.mhtml\n",
      "新信息已成功追加到 web_info.db\n",
      "休息 31 秒鐘\n"
     ]
    },
    {
     "name": "stdout",
     "output_type": "stream",
     "text": [
      "网页内容已成功保存为 121278966.mhtml\n",
      "新信息已成功追加到 web_info.db\n",
      "休息 32 秒鐘\n"
     ]
    },
    {
     "name": "stdout",
     "output_type": "stream",
     "text": [
      "网页内容已成功保存为 121278967.mhtml\n",
      "新信息已成功追加到 web_info.db\n",
      "休息 36 秒鐘\n"
     ]
    },
    {
     "name": "stdout",
     "output_type": "stream",
     "text": [
      "网页内容已成功保存为 121278969.mhtml\n",
      "新信息已成功追加到 web_info.db\n",
      "休息 48 秒鐘\n"
     ]
    },
    {
     "name": "stdout",
     "output_type": "stream",
     "text": [
      "网页内容已成功保存为 121278971.mhtml\n",
      "新信息已成功追加到 web_info.db\n",
      "休息 56 秒鐘\n"
     ]
    },
    {
     "name": "stdout",
     "output_type": "stream",
     "text": [
      "网页内容已成功保存为 121278972.mhtml\n",
      "新信息已成功追加到 web_info.db\n",
      "休息 31 秒鐘\n"
     ]
    },
    {
     "name": "stdout",
     "output_type": "stream",
     "text": [
      "网页内容已成功保存为 121278973.mhtml\n",
      "新信息已成功追加到 web_info.db\n",
      "休息 37 秒鐘\n"
     ]
    },
    {
     "name": "stdout",
     "output_type": "stream",
     "text": [
      "网页内容已成功保存为 121278974.mhtml\n",
      "新信息已成功追加到 web_info.db\n",
      "休息 46 秒鐘\n"
     ]
    },
    {
     "name": "stdout",
     "output_type": "stream",
     "text": [
      "网页内容已成功保存为 121278976.mhtml\n",
      "新信息已成功追加到 web_info.db\n",
      "休息 43 秒鐘\n"
     ]
    },
    {
     "name": "stdout",
     "output_type": "stream",
     "text": [
      "网页内容已成功保存为 121278977.mhtml\n",
      "新信息已成功追加到 web_info.db\n",
      "休息 58 秒鐘\n"
     ]
    },
    {
     "name": "stdout",
     "output_type": "stream",
     "text": [
      "网页内容已成功保存为 121278979.mhtml\n",
      "新信息已成功追加到 web_info.db\n",
      "休息 44 秒鐘\n"
     ]
    },
    {
     "name": "stdout",
     "output_type": "stream",
     "text": [
      "网页内容已成功保存为 121278980.mhtml\n",
      "新信息已成功追加到 web_info.db\n",
      "休息 40 秒鐘\n"
     ]
    },
    {
     "name": "stdout",
     "output_type": "stream",
     "text": [
      "网页内容已成功保存为 121278981.mhtml\n",
      "新信息已成功追加到 web_info.db\n",
      "休息 36 秒鐘\n"
     ]
    },
    {
     "name": "stdout",
     "output_type": "stream",
     "text": [
      "网页内容已成功保存为 121278982.mhtml\n",
      "新信息已成功追加到 web_info.db\n",
      "休息 51 秒鐘\n"
     ]
    },
    {
     "name": "stdout",
     "output_type": "stream",
     "text": [
      "网页内容已成功保存为 121278984.mhtml\n",
      "新信息已成功追加到 web_info.db\n",
      "休息 38 秒鐘\n"
     ]
    },
    {
     "name": "stdout",
     "output_type": "stream",
     "text": [
      "网页内容已成功保存为 121278985.mhtml\n",
      "新信息已成功追加到 web_info.db\n",
      "休息 40 秒鐘\n"
     ]
    },
    {
     "name": "stdout",
     "output_type": "stream",
     "text": [
      "网页内容已成功保存为 121278986.mhtml\n",
      "新信息已成功追加到 web_info.db\n",
      "休息 31 秒鐘\n"
     ]
    },
    {
     "name": "stdout",
     "output_type": "stream",
     "text": [
      "网页内容已成功保存为 121278987.mhtml\n",
      "新信息已成功追加到 web_info.db\n",
      "休息 38 秒鐘\n"
     ]
    },
    {
     "name": "stdout",
     "output_type": "stream",
     "text": [
      "网页内容已成功保存为 121278989.mhtml\n",
      "新信息已成功追加到 web_info.db\n",
      "休息 31 秒鐘\n"
     ]
    },
    {
     "name": "stdout",
     "output_type": "stream",
     "text": [
      "网页内容已成功保存为 121278990.mhtml\n",
      "新信息已成功追加到 web_info.db\n",
      "休息 30 秒鐘\n"
     ]
    },
    {
     "name": "stdout",
     "output_type": "stream",
     "text": [
      "网页内容已成功保存为 121278991.mhtml\n",
      "新信息已成功追加到 web_info.db\n",
      "休息 39 秒鐘\n"
     ]
    },
    {
     "name": "stdout",
     "output_type": "stream",
     "text": [
      "网页内容已成功保存为 121278992.mhtml\n",
      "新信息已成功追加到 web_info.db\n",
      "休息 48 秒鐘\n"
     ]
    },
    {
     "name": "stdout",
     "output_type": "stream",
     "text": [
      "网页内容已成功保存为 121278993.mhtml\n",
      "新信息已成功追加到 web_info.db\n",
      "休息 58 秒鐘\n"
     ]
    },
    {
     "name": "stdout",
     "output_type": "stream",
     "text": [
      "网页内容已成功保存为 121278994.mhtml\n",
      "新信息已成功追加到 web_info.db\n",
      "休息 31 秒鐘\n"
     ]
    },
    {
     "name": "stdout",
     "output_type": "stream",
     "text": [
      "网页内容已成功保存为 121278996.mhtml\n",
      "新信息已成功追加到 web_info.db\n",
      "休息 38 秒鐘\n"
     ]
    },
    {
     "name": "stdout",
     "output_type": "stream",
     "text": [
      "网页内容已成功保存为 121278997.mhtml\n",
      "新信息已成功追加到 web_info.db\n",
      "休息 38 秒鐘\n"
     ]
    },
    {
     "name": "stdout",
     "output_type": "stream",
     "text": [
      "网页内容已成功保存为 121278998.mhtml\n",
      "新信息已成功追加到 web_info.db\n",
      "休息 52 秒鐘\n"
     ]
    },
    {
     "name": "stdout",
     "output_type": "stream",
     "text": [
      "网页内容已成功保存为 121278999.mhtml\n",
      "新信息已成功追加到 web_info.db\n",
      "休息 52 秒鐘\n"
     ]
    },
    {
     "name": "stdout",
     "output_type": "stream",
     "text": [
      "网页内容已成功保存为 121279000.mhtml\n",
      "新信息已成功追加到 web_info.db\n",
      "休息 47 秒鐘\n"
     ]
    },
    {
     "name": "stdout",
     "output_type": "stream",
     "text": [
      "网页内容已成功保存为 121279001.mhtml\n",
      "新信息已成功追加到 web_info.db\n",
      "休息 38 秒鐘\n"
     ]
    },
    {
     "name": "stdout",
     "output_type": "stream",
     "text": [
      "网页内容已成功保存为 121279002.mhtml\n",
      "新信息已成功追加到 web_info.db\n",
      "休息 48 秒鐘\n"
     ]
    },
    {
     "name": "stdout",
     "output_type": "stream",
     "text": [
      "网页内容已成功保存为 121279004.mhtml\n",
      "新信息已成功追加到 web_info.db\n",
      "休息 55 秒鐘\n"
     ]
    },
    {
     "name": "stdout",
     "output_type": "stream",
     "text": [
      "网页内容已成功保存为 121279005.mhtml\n",
      "新信息已成功追加到 web_info.db\n",
      "休息 32 秒鐘\n"
     ]
    },
    {
     "name": "stdout",
     "output_type": "stream",
     "text": [
      "网页内容已成功保存为 121279006.mhtml\n",
      "新信息已成功追加到 web_info.db\n",
      "休息 33 秒鐘\n"
     ]
    },
    {
     "name": "stdout",
     "output_type": "stream",
     "text": [
      "网页内容已成功保存为 121279007.mhtml\n",
      "新信息已成功追加到 web_info.db\n",
      "休息 41 秒鐘\n"
     ]
    },
    {
     "name": "stdout",
     "output_type": "stream",
     "text": [
      "网页内容已成功保存为 121279008.mhtml\n",
      "新信息已成功追加到 web_info.db\n",
      "休息 31 秒鐘\n"
     ]
    },
    {
     "name": "stdout",
     "output_type": "stream",
     "text": [
      "网页内容已成功保存为 121279009.mhtml\n",
      "新信息已成功追加到 web_info.db\n",
      "休息 58 秒鐘\n"
     ]
    },
    {
     "name": "stdout",
     "output_type": "stream",
     "text": [
      "网页内容已成功保存为 121279010.mhtml\n",
      "新信息已成功追加到 web_info.db\n",
      "休息 58 秒鐘\n"
     ]
    }
   ],
   "source": [
    "db_filename = 'web_info.db'\n",
    "for work_ID in result:\n",
    "    url = f'https://www.pixiv.net/artworks/{work_ID}'\n",
    "    filename = f'{work_ID}.mhtml'\n",
    "    try:\n",
    "        save_webpage_as_single_file(url, filename)\n",
    "        # 示例：提取和追加数据\n",
    "        mhtml_file = f'{work_ID}.mhtml'  # 替换为实际的 .mhtml 文件路径\n",
    "        info = extract_info_from_mhtml(mhtml_file,work_ID)\n",
    "        # 将提取的信息追加到 'web_info.xlsx'\n",
    "        append_to_sqlite(info)\n",
    "        print(f\"新信息已成功追加到 {db_filename}\")\n",
    "    except Exception as e:\n",
    "        pass\n",
    "    \n",
    "    delay = int(random.uniform(30, 60))  # 5到15秒的隨機延遲\n",
    "    print(f\"休息 {delay} 秒鐘\")\n",
    "    time.sleep(delay)\n",
    "    \n",
    "\n"
   ]
  },
  {
   "cell_type": "code",
   "execution_count": 6,
   "id": "4cd90b55-71ee-4e77-bd49-7115e3a96b3e",
   "metadata": {
    "execution": {
     "iopub.execute_input": "2025-01-03T09:26:56.496411Z",
     "iopub.status.busy": "2025-01-03T09:26:56.495989Z",
     "iopub.status.idle": "2025-01-03T09:26:56.503525Z",
     "shell.execute_reply": "2025-01-03T09:26:56.502998Z"
    }
   },
   "outputs": [
    {
     "name": "stdout",
     "output_type": "stream",
     "text": [
      "Total number of work_IDs: 74275\n"
     ]
    }
   ],
   "source": [
    "import sqlite3\n",
    "\n",
    "# 連接到 SQLite 資料庫\n",
    "con = sqlite3.connect('web_info.db')\n",
    "cur = con.cursor()\n",
    "\n",
    "# 使用 SQL 查詢計算 work_ID 的總數\n",
    "cur.execute(\"SELECT COUNT(work_ID) FROM web_info\")\n",
    "work_id_count = cur.fetchone()[0]\n",
    "\n",
    "# 顯示 work_ID 總數\n",
    "print(f\"Total number of work_IDs: {work_id_count}\")\n",
    "\n",
    "# 關閉資料庫連線\n",
    "con.close()\n"
   ]
  },
  {
   "cell_type": "code",
   "execution_count": 7,
   "id": "37104cd1-a3e8-47d3-a466-2b4b61a2c080",
   "metadata": {
    "execution": {
     "iopub.execute_input": "2025-01-03T09:26:56.505275Z",
     "iopub.status.busy": "2025-01-03T09:26:56.504950Z",
     "iopub.status.idle": "2025-01-03T09:26:56.510788Z",
     "shell.execute_reply": "2025-01-03T09:26:56.510361Z"
    }
   },
   "outputs": [
    {
     "data": {
      "text/plain": [
       "'\\nimport requests\\n\\n# 图片的 URL\\nurl = \\'https://i.pximg.net/img-master/img/2024/08/05/22/47/33/121215791_p0_master1200.jpg\\'\\n\\n# 图片保存的本地文件名\\nfilename = \\'downloaded_image.png\\'\\n\\n# 请求头，模拟完整的浏览器请求\\nheaders = {\\n    \\'User-Agent\\': \\'Mozilla/5.0 (Windows NT 10.0; Win64; x64) AppleWebKit/537.36 (KHTML, like Gecko) Chrome/85.0.4183.102 Safari/537.36\\',\\n    \\'Referer\\': \\'https://www.pixiv.net/\\',\\n    \\'Accept\\': \\'text/html,application/xhtml+xml,application/xml;q=0.9,image/webp,image/apng,*/*;q=0.8\\',\\n    \\'Accept-Encoding\\': \\'gzip, deflate, br\\',\\n    \\'Accept-Language\\': \\'en-US,en;q=0.9\\',\\n    \\'Connection\\': \\'keep-alive\\'\\n}\\n\\n# 发起 GET 请求以下载图片\\nresponse = requests.get(url, headers=headers)\\n\\n# 检查请求是否成功\\nif response.status_code == 200:\\n    # 将图片数据写入本地文件\\n    with open(filename, \\'wb\\') as file:\\n        file.write(response.content)\\n    print(f\"图片已成功保存为 {filename}\")\\nelse:\\n    print(f\"图片下载失败，状态码：{response.status_code}\")\\n\\n'"
      ]
     },
     "execution_count": 7,
     "metadata": {},
     "output_type": "execute_result"
    }
   ],
   "source": [
    "'''\n",
    "import requests\n",
    "\n",
    "# 图片的 URL\n",
    "url = 'https://i.pximg.net/img-master/img/2024/08/05/22/47/33/121215791_p0_master1200.jpg'\n",
    "\n",
    "# 图片保存的本地文件名\n",
    "filename = 'downloaded_image.png'\n",
    "\n",
    "# 请求头，模拟完整的浏览器请求\n",
    "headers = {\n",
    "    'User-Agent': 'Mozilla/5.0 (Windows NT 10.0; Win64; x64) AppleWebKit/537.36 (KHTML, like Gecko) Chrome/85.0.4183.102 Safari/537.36',\n",
    "    'Referer': 'https://www.pixiv.net/',\n",
    "    'Accept': 'text/html,application/xhtml+xml,application/xml;q=0.9,image/webp,image/apng,*/*;q=0.8',\n",
    "    'Accept-Encoding': 'gzip, deflate, br',\n",
    "    'Accept-Language': 'en-US,en;q=0.9',\n",
    "    'Connection': 'keep-alive'\n",
    "}\n",
    "\n",
    "# 发起 GET 请求以下载图片\n",
    "response = requests.get(url, headers=headers)\n",
    "\n",
    "# 检查请求是否成功\n",
    "if response.status_code == 200:\n",
    "    # 将图片数据写入本地文件\n",
    "    with open(filename, 'wb') as file:\n",
    "        file.write(response.content)\n",
    "    print(f\"图片已成功保存为 {filename}\")\n",
    "else:\n",
    "    print(f\"图片下载失败，状态码：{response.status_code}\")\n",
    "\n",
    "'''\n"
   ]
  },
  {
   "cell_type": "code",
   "execution_count": null,
   "id": "2662c282-045f-46fe-9c92-afe79094a532",
   "metadata": {},
   "outputs": [],
   "source": []
  }
 ],
 "metadata": {
  "kernelspec": {
   "display_name": "Python 3 (ipykernel)",
   "language": "python",
   "name": "python3"
  },
  "language_info": {
   "codemirror_mode": {
    "name": "ipython",
    "version": 3
   },
   "file_extension": ".py",
   "mimetype": "text/x-python",
   "name": "python",
   "nbconvert_exporter": "python",
   "pygments_lexer": "ipython3",
   "version": "3.12.8"
  }
 },
 "nbformat": 4,
 "nbformat_minor": 5
}
