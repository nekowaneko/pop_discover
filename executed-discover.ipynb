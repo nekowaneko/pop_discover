{
 "cells": [
  {
   "cell_type": "code",
   "execution_count": 1,
   "id": "e8671cd2-37e4-4acc-bc20-9a6b4420b8e1",
   "metadata": {
    "execution": {
     "iopub.execute_input": "2024-10-20T06:13:00.062308Z",
     "iopub.status.busy": "2024-10-20T06:13:00.062124Z",
     "iopub.status.idle": "2024-10-20T06:13:00.135465Z",
     "shell.execute_reply": "2024-10-20T06:13:00.134897Z"
    }
   },
   "outputs": [],
   "source": [
    "import requests\n",
    "import time\n",
    "import random\n",
    "import sqlite3\n",
    "from tqdm import tqdm\n",
    "\n",
    "# IP列表\n",
    "'''\n",
    "IP_LIST = ['20.213.247.195','13.74.59.33','145.40.121.101','45.167.125.97','157.100.12.138',\n",
    "           '173.244.48.9','51.79.205.165','190.15.103.66','45.42.177.50','8.219.64.236']\n",
    "\n",
    "def get_random_proxy():\n",
    "    ip = random.choice(IP_LIST)\n",
    "    return {\"http\": f\"http://{ip}\", \"https\": f\"http://{ip}\"}\n",
    "'''\n",
    "\n",
    "def init_db():\n",
    "    conn = sqlite3.connect('web_info.db')  # 更改為 web_info.db\n",
    "    c = conn.cursor()\n",
    "    c.execute('''CREATE TABLE IF NOT EXISTS web_info (\n",
    "            work_ID TEXT PRIMARY KEY,\n",
    "            title TEXT,\n",
    "            tags TEXT,\n",
    "            like_count INTEGER,\n",
    "            bookmark_count INTEGER,\n",
    "            view_count INTEGER,\n",
    "            image_url TEXT\n",
    "        )''')\n",
    "    conn.commit()\n",
    "    return conn\n",
    "\n",
    "def get_last_work_id(conn):\n",
    "    c = conn.cursor()\n",
    "    c.execute(\"SELECT MAX(work_ID) FROM web_info\")\n",
    "    result = c.fetchone()[0]\n",
    "    return result if result else 0\n",
    "\n",
    "connn = init_db()\n",
    "\n",
    "start_id = int(get_last_work_id(connn)) + 1"
   ]
  },
  {
   "cell_type": "code",
   "execution_count": 2,
   "id": "b38defef-e43a-4c2f-8607-fe19909046fd",
   "metadata": {
    "execution": {
     "iopub.execute_input": "2024-10-20T06:13:00.137550Z",
     "iopub.status.busy": "2024-10-20T06:13:00.137214Z",
     "iopub.status.idle": "2024-10-20T06:59:04.367002Z",
     "shell.execute_reply": "2024-10-20T06:59:04.366530Z"
    }
   },
   "outputs": [
    {
     "name": "stdout",
     "output_type": "stream",
     "text": [
      "Starting search from ID: 121205565\n"
     ]
    },
    {
     "name": "stderr",
     "output_type": "stream",
     "text": [
      "\r",
      "Finding valid work IDs:   0%|          | 0/200 [00:00<?, ?ID/s]"
     ]
    },
    {
     "name": "stderr",
     "output_type": "stream",
     "text": [
      "\r",
      "Finding valid work IDs:   0%|          | 1/200 [00:00<01:04,  3.06ID/s]"
     ]
    },
    {
     "name": "stderr",
     "output_type": "stream",
     "text": [
      "\r",
      "Finding valid work IDs:   0%|          | 1/200 [00:00<01:04,  3.06ID/s, Latest ID: 121205565]"
     ]
    },
    {
     "name": "stderr",
     "output_type": "stream",
     "text": [
      "\r",
      "Finding valid work IDs:   1%|          | 2/200 [00:11<22:22,  6.78s/ID, Latest ID: 121205565]"
     ]
    },
    {
     "name": "stderr",
     "output_type": "stream",
     "text": [
      "\r",
      "Finding valid work IDs:   1%|          | 2/200 [00:11<22:22,  6.78s/ID, Latest ID: 121205566]"
     ]
    },
    {
     "name": "stderr",
     "output_type": "stream",
     "text": [
      "\r",
      "Finding valid work IDs:   2%|▏         | 3/200 [00:23<29:58,  9.13s/ID, Latest ID: 121205566]"
     ]
    },
    {
     "name": "stderr",
     "output_type": "stream",
     "text": [
      "\r",
      "Finding valid work IDs:   2%|▏         | 3/200 [00:23<29:58,  9.13s/ID, Latest ID: 121205567]"
     ]
    },
    {
     "name": "stderr",
     "output_type": "stream",
     "text": [
      "\r",
      "Finding valid work IDs:   2%|▏         | 4/200 [00:33<30:24,  9.31s/ID, Latest ID: 121205567]"
     ]
    },
    {
     "name": "stderr",
     "output_type": "stream",
     "text": [
      "\r",
      "Finding valid work IDs:   2%|▏         | 4/200 [00:33<30:24,  9.31s/ID, Latest ID: 121205568]"
     ]
    },
    {
     "name": "stderr",
     "output_type": "stream",
     "text": [
      "\r",
      "Finding valid work IDs:   2%|▎         | 5/200 [00:40<28:23,  8.73s/ID, Latest ID: 121205568]"
     ]
    },
    {
     "name": "stderr",
     "output_type": "stream",
     "text": [
      "\r",
      "Finding valid work IDs:   2%|▎         | 5/200 [00:40<28:23,  8.73s/ID, Latest ID: 121205569]"
     ]
    },
    {
     "name": "stderr",
     "output_type": "stream",
     "text": [
      "\r",
      "Finding valid work IDs:   3%|▎         | 6/200 [01:07<48:27, 14.99s/ID, Latest ID: 121205569]"
     ]
    },
    {
     "name": "stderr",
     "output_type": "stream",
     "text": [
      "\r",
      "Finding valid work IDs:   3%|▎         | 6/200 [01:07<48:27, 14.99s/ID, Latest ID: 121205572]"
     ]
    },
    {
     "name": "stderr",
     "output_type": "stream",
     "text": [
      "\r",
      "Finding valid work IDs:   4%|▎         | 7/200 [01:28<54:06, 16.82s/ID, Latest ID: 121205572]"
     ]
    },
    {
     "name": "stderr",
     "output_type": "stream",
     "text": [
      "\r",
      "Finding valid work IDs:   4%|▎         | 7/200 [01:28<54:06, 16.82s/ID, Latest ID: 121205574]"
     ]
    },
    {
     "name": "stderr",
     "output_type": "stream",
     "text": [
      "\r",
      "Finding valid work IDs:   4%|▍         | 8/200 [01:43<51:41, 16.16s/ID, Latest ID: 121205574]"
     ]
    },
    {
     "name": "stderr",
     "output_type": "stream",
     "text": [
      "\r",
      "Finding valid work IDs:   4%|▍         | 8/200 [01:43<51:41, 16.16s/ID, Latest ID: 121205575]"
     ]
    },
    {
     "name": "stderr",
     "output_type": "stream",
     "text": [
      "\r",
      "Finding valid work IDs:   4%|▍         | 9/200 [01:51<43:16, 13.59s/ID, Latest ID: 121205575]"
     ]
    },
    {
     "name": "stderr",
     "output_type": "stream",
     "text": [
      "\r",
      "Finding valid work IDs:   4%|▍         | 9/200 [01:51<43:16, 13.59s/ID, Latest ID: 121205576]"
     ]
    },
    {
     "name": "stderr",
     "output_type": "stream",
     "text": [
      "\r",
      "Finding valid work IDs:   5%|▌         | 10/200 [02:06<44:37, 14.09s/ID, Latest ID: 121205576]"
     ]
    },
    {
     "name": "stderr",
     "output_type": "stream",
     "text": [
      "\r",
      "Finding valid work IDs:   5%|▌         | 10/200 [02:06<44:37, 14.09s/ID, Latest ID: 121205577]"
     ]
    },
    {
     "name": "stderr",
     "output_type": "stream",
     "text": [
      "\r",
      "Finding valid work IDs:   6%|▌         | 11/200 [02:21<45:26, 14.42s/ID, Latest ID: 121205577]"
     ]
    },
    {
     "name": "stderr",
     "output_type": "stream",
     "text": [
      "\r",
      "Finding valid work IDs:   6%|▌         | 11/200 [02:21<45:26, 14.42s/ID, Latest ID: 121205578]"
     ]
    },
    {
     "name": "stderr",
     "output_type": "stream",
     "text": [
      "\r",
      "Finding valid work IDs:   6%|▌         | 12/200 [02:27<37:29, 11.96s/ID, Latest ID: 121205578]"
     ]
    },
    {
     "name": "stderr",
     "output_type": "stream",
     "text": [
      "\r",
      "Finding valid work IDs:   6%|▌         | 12/200 [02:27<37:29, 11.96s/ID, Latest ID: 121205579]"
     ]
    },
    {
     "name": "stderr",
     "output_type": "stream",
     "text": [
      "\r",
      "Finding valid work IDs:   6%|▋         | 13/200 [02:49<46:36, 14.96s/ID, Latest ID: 121205579]"
     ]
    },
    {
     "name": "stderr",
     "output_type": "stream",
     "text": [
      "\r",
      "Finding valid work IDs:   6%|▋         | 13/200 [02:49<46:36, 14.96s/ID, Latest ID: 121205581]"
     ]
    },
    {
     "name": "stderr",
     "output_type": "stream",
     "text": [
      "\r",
      "Finding valid work IDs:   7%|▋         | 14/200 [02:58<40:34, 13.09s/ID, Latest ID: 121205581]"
     ]
    },
    {
     "name": "stderr",
     "output_type": "stream",
     "text": [
      "\r",
      "Finding valid work IDs:   7%|▋         | 14/200 [02:58<40:34, 13.09s/ID, Latest ID: 121205582]"
     ]
    },
    {
     "name": "stderr",
     "output_type": "stream",
     "text": [
      "\r",
      "Finding valid work IDs:   8%|▊         | 15/200 [03:09<37:54, 12.30s/ID, Latest ID: 121205582]"
     ]
    },
    {
     "name": "stderr",
     "output_type": "stream",
     "text": [
      "\r",
      "Finding valid work IDs:   8%|▊         | 15/200 [03:09<37:54, 12.30s/ID, Latest ID: 121205583]"
     ]
    },
    {
     "name": "stderr",
     "output_type": "stream",
     "text": [
      "\r",
      "Finding valid work IDs:   8%|▊         | 16/200 [03:19<36:05, 11.77s/ID, Latest ID: 121205583]"
     ]
    },
    {
     "name": "stderr",
     "output_type": "stream",
     "text": [
      "\r",
      "Finding valid work IDs:   8%|▊         | 16/200 [03:19<36:05, 11.77s/ID, Latest ID: 121205584]"
     ]
    },
    {
     "name": "stderr",
     "output_type": "stream",
     "text": [
      "\r",
      "Finding valid work IDs:   8%|▊         | 17/200 [03:25<30:45, 10.08s/ID, Latest ID: 121205584]"
     ]
    },
    {
     "name": "stderr",
     "output_type": "stream",
     "text": [
      "\r",
      "Finding valid work IDs:   8%|▊         | 17/200 [03:25<30:45, 10.08s/ID, Latest ID: 121205585]"
     ]
    },
    {
     "name": "stderr",
     "output_type": "stream",
     "text": [
      "\r",
      "Finding valid work IDs:   9%|▉         | 18/200 [03:45<39:49, 13.13s/ID, Latest ID: 121205585]"
     ]
    },
    {
     "name": "stderr",
     "output_type": "stream",
     "text": [
      "\r",
      "Finding valid work IDs:   9%|▉         | 18/200 [03:45<39:49, 13.13s/ID, Latest ID: 121205587]"
     ]
    },
    {
     "name": "stderr",
     "output_type": "stream",
     "text": [
      "\r",
      "Finding valid work IDs:  10%|▉         | 19/200 [03:55<36:40, 12.15s/ID, Latest ID: 121205587]"
     ]
    },
    {
     "name": "stderr",
     "output_type": "stream",
     "text": [
      "\r",
      "Finding valid work IDs:  10%|▉         | 19/200 [03:55<36:40, 12.15s/ID, Latest ID: 121205588]"
     ]
    },
    {
     "name": "stderr",
     "output_type": "stream",
     "text": [
      "\r",
      "Finding valid work IDs:  10%|█         | 20/200 [04:06<35:20, 11.78s/ID, Latest ID: 121205588]"
     ]
    },
    {
     "name": "stderr",
     "output_type": "stream",
     "text": [
      "\r",
      "Finding valid work IDs:  10%|█         | 20/200 [04:06<35:20, 11.78s/ID, Latest ID: 121205589]"
     ]
    },
    {
     "name": "stderr",
     "output_type": "stream",
     "text": [
      "\r",
      "Finding valid work IDs:  10%|█         | 21/200 [04:16<33:43, 11.31s/ID, Latest ID: 121205589]"
     ]
    },
    {
     "name": "stderr",
     "output_type": "stream",
     "text": [
      "\r",
      "Finding valid work IDs:  10%|█         | 21/200 [04:16<33:43, 11.31s/ID, Latest ID: 121205590]"
     ]
    },
    {
     "name": "stderr",
     "output_type": "stream",
     "text": [
      "\r",
      "Finding valid work IDs:  11%|█         | 22/200 [04:26<32:06, 10.82s/ID, Latest ID: 121205590]"
     ]
    },
    {
     "name": "stderr",
     "output_type": "stream",
     "text": [
      "\r",
      "Finding valid work IDs:  11%|█         | 22/200 [04:26<32:06, 10.82s/ID, Latest ID: 121205591]"
     ]
    },
    {
     "name": "stderr",
     "output_type": "stream",
     "text": [
      "\r",
      "Finding valid work IDs:  12%|█▏        | 23/200 [04:41<35:24, 12.00s/ID, Latest ID: 121205591]"
     ]
    },
    {
     "name": "stderr",
     "output_type": "stream",
     "text": [
      "\r",
      "Finding valid work IDs:  12%|█▏        | 23/200 [04:41<35:24, 12.00s/ID, Latest ID: 121205592]"
     ]
    },
    {
     "name": "stderr",
     "output_type": "stream",
     "text": [
      "\r",
      "Finding valid work IDs:  12%|█▏        | 24/200 [04:48<31:16, 10.66s/ID, Latest ID: 121205592]"
     ]
    },
    {
     "name": "stderr",
     "output_type": "stream",
     "text": [
      "\r",
      "Finding valid work IDs:  12%|█▏        | 24/200 [04:48<31:16, 10.66s/ID, Latest ID: 121205593]"
     ]
    },
    {
     "name": "stderr",
     "output_type": "stream",
     "text": [
      "\r",
      "Finding valid work IDs:  12%|█▎        | 25/200 [04:59<31:00, 10.63s/ID, Latest ID: 121205593]"
     ]
    },
    {
     "name": "stderr",
     "output_type": "stream",
     "text": [
      "\r",
      "Finding valid work IDs:  12%|█▎        | 25/200 [04:59<31:00, 10.63s/ID, Latest ID: 121205594]"
     ]
    },
    {
     "name": "stderr",
     "output_type": "stream",
     "text": [
      "\r",
      "Finding valid work IDs:  13%|█▎        | 26/200 [05:22<41:54, 14.45s/ID, Latest ID: 121205594]"
     ]
    },
    {
     "name": "stderr",
     "output_type": "stream",
     "text": [
      "\r",
      "Finding valid work IDs:  13%|█▎        | 26/200 [05:22<41:54, 14.45s/ID, Latest ID: 121205596]"
     ]
    },
    {
     "name": "stderr",
     "output_type": "stream",
     "text": [
      "\r",
      "Finding valid work IDs:  14%|█▎        | 27/200 [05:44<47:50, 16.59s/ID, Latest ID: 121205596]"
     ]
    },
    {
     "name": "stderr",
     "output_type": "stream",
     "text": [
      "\r",
      "Finding valid work IDs:  14%|█▎        | 27/200 [05:44<47:50, 16.59s/ID, Latest ID: 121205598]"
     ]
    },
    {
     "name": "stderr",
     "output_type": "stream",
     "text": [
      "\r",
      "Finding valid work IDs:  14%|█▍        | 28/200 [05:57<44:21, 15.48s/ID, Latest ID: 121205598]"
     ]
    },
    {
     "name": "stderr",
     "output_type": "stream",
     "text": [
      "\r",
      "Finding valid work IDs:  14%|█▍        | 28/200 [05:57<44:21, 15.48s/ID, Latest ID: 121205599]"
     ]
    },
    {
     "name": "stderr",
     "output_type": "stream",
     "text": [
      "\r",
      "Finding valid work IDs:  14%|█▍        | 29/200 [06:06<38:31, 13.51s/ID, Latest ID: 121205599]"
     ]
    },
    {
     "name": "stderr",
     "output_type": "stream",
     "text": [
      "\r",
      "Finding valid work IDs:  14%|█▍        | 29/200 [06:06<38:31, 13.51s/ID, Latest ID: 121205600]"
     ]
    },
    {
     "name": "stderr",
     "output_type": "stream",
     "text": [
      "\r",
      "Finding valid work IDs:  15%|█▌        | 30/200 [07:00<1:12:50, 25.71s/ID, Latest ID: 121205600]"
     ]
    },
    {
     "name": "stderr",
     "output_type": "stream",
     "text": [
      "\r",
      "Finding valid work IDs:  15%|█▌        | 30/200 [07:00<1:12:50, 25.71s/ID, Latest ID: 121205604]"
     ]
    },
    {
     "name": "stderr",
     "output_type": "stream",
     "text": [
      "\r",
      "Finding valid work IDs:  16%|█▌        | 31/200 [07:25<1:11:31, 25.39s/ID, Latest ID: 121205604]"
     ]
    },
    {
     "name": "stderr",
     "output_type": "stream",
     "text": [
      "\r",
      "Finding valid work IDs:  16%|█▌        | 31/200 [07:25<1:11:31, 25.39s/ID, Latest ID: 121205607]"
     ]
    },
    {
     "name": "stderr",
     "output_type": "stream",
     "text": [
      "\r",
      "Finding valid work IDs:  16%|█▌        | 32/200 [07:53<1:13:15, 26.16s/ID, Latest ID: 121205607]"
     ]
    },
    {
     "name": "stderr",
     "output_type": "stream",
     "text": [
      "\r",
      "Finding valid work IDs:  16%|█▌        | 32/200 [07:53<1:13:15, 26.16s/ID, Latest ID: 121205609]"
     ]
    },
    {
     "name": "stderr",
     "output_type": "stream",
     "text": [
      "\r",
      "Finding valid work IDs:  16%|█▋        | 33/200 [08:05<1:01:30, 22.10s/ID, Latest ID: 121205609]"
     ]
    },
    {
     "name": "stderr",
     "output_type": "stream",
     "text": [
      "\r",
      "Finding valid work IDs:  16%|█▋        | 33/200 [08:05<1:01:30, 22.10s/ID, Latest ID: 121205610]"
     ]
    },
    {
     "name": "stderr",
     "output_type": "stream",
     "text": [
      "\r",
      "Finding valid work IDs:  17%|█▋        | 34/200 [08:26<1:00:26, 21.84s/ID, Latest ID: 121205610]"
     ]
    },
    {
     "name": "stderr",
     "output_type": "stream",
     "text": [
      "\r",
      "Finding valid work IDs:  17%|█▋        | 34/200 [08:26<1:00:26, 21.84s/ID, Latest ID: 121205612]"
     ]
    },
    {
     "name": "stderr",
     "output_type": "stream",
     "text": [
      "\r",
      "Finding valid work IDs:  18%|█▊        | 35/200 [08:36<49:47, 18.11s/ID, Latest ID: 121205612]  "
     ]
    },
    {
     "name": "stderr",
     "output_type": "stream",
     "text": [
      "\r",
      "Finding valid work IDs:  18%|█▊        | 35/200 [08:36<49:47, 18.11s/ID, Latest ID: 121205613]"
     ]
    },
    {
     "name": "stderr",
     "output_type": "stream",
     "text": [
      "\r",
      "Finding valid work IDs:  18%|█▊        | 36/200 [08:44<40:57, 14.99s/ID, Latest ID: 121205613]"
     ]
    },
    {
     "name": "stderr",
     "output_type": "stream",
     "text": [
      "\r",
      "Finding valid work IDs:  18%|█▊        | 36/200 [08:44<40:57, 14.99s/ID, Latest ID: 121205614]"
     ]
    },
    {
     "name": "stderr",
     "output_type": "stream",
     "text": [
      "\r",
      "Finding valid work IDs:  18%|█▊        | 37/200 [08:56<38:46, 14.27s/ID, Latest ID: 121205614]"
     ]
    },
    {
     "name": "stderr",
     "output_type": "stream",
     "text": [
      "\r",
      "Finding valid work IDs:  18%|█▊        | 37/200 [08:56<38:46, 14.27s/ID, Latest ID: 121205615]"
     ]
    },
    {
     "name": "stderr",
     "output_type": "stream",
     "text": [
      "\r",
      "Finding valid work IDs:  19%|█▉        | 38/200 [09:11<38:40, 14.33s/ID, Latest ID: 121205615]"
     ]
    },
    {
     "name": "stderr",
     "output_type": "stream",
     "text": [
      "\r",
      "Finding valid work IDs:  19%|█▉        | 38/200 [09:11<38:40, 14.33s/ID, Latest ID: 121205616]"
     ]
    },
    {
     "name": "stderr",
     "output_type": "stream",
     "text": [
      "\r",
      "Finding valid work IDs:  20%|█▉        | 39/200 [09:32<44:31, 16.60s/ID, Latest ID: 121205616]"
     ]
    },
    {
     "name": "stderr",
     "output_type": "stream",
     "text": [
      "\r",
      "Finding valid work IDs:  20%|█▉        | 39/200 [09:32<44:31, 16.60s/ID, Latest ID: 121205618]"
     ]
    },
    {
     "name": "stderr",
     "output_type": "stream",
     "text": [
      "\r",
      "Finding valid work IDs:  20%|██        | 40/200 [09:41<38:05, 14.29s/ID, Latest ID: 121205618]"
     ]
    },
    {
     "name": "stderr",
     "output_type": "stream",
     "text": [
      "\r",
      "Finding valid work IDs:  20%|██        | 40/200 [09:41<38:05, 14.29s/ID, Latest ID: 121205619]"
     ]
    },
    {
     "name": "stderr",
     "output_type": "stream",
     "text": [
      "\r",
      "Finding valid work IDs:  20%|██        | 41/200 [10:05<44:55, 16.95s/ID, Latest ID: 121205619]"
     ]
    },
    {
     "name": "stderr",
     "output_type": "stream",
     "text": [
      "\r",
      "Finding valid work IDs:  20%|██        | 41/200 [10:05<44:55, 16.95s/ID, Latest ID: 121205621]"
     ]
    },
    {
     "name": "stderr",
     "output_type": "stream",
     "text": [
      "\r",
      "Finding valid work IDs:  21%|██        | 42/200 [10:14<38:28, 14.61s/ID, Latest ID: 121205621]"
     ]
    },
    {
     "name": "stderr",
     "output_type": "stream",
     "text": [
      "\r",
      "Finding valid work IDs:  21%|██        | 42/200 [10:14<38:28, 14.61s/ID, Latest ID: 121205622]"
     ]
    },
    {
     "name": "stderr",
     "output_type": "stream",
     "text": [
      "\r",
      "Finding valid work IDs:  22%|██▏       | 43/200 [10:21<32:10, 12.30s/ID, Latest ID: 121205622]"
     ]
    },
    {
     "name": "stderr",
     "output_type": "stream",
     "text": [
      "\r",
      "Finding valid work IDs:  22%|██▏       | 43/200 [10:21<32:10, 12.30s/ID, Latest ID: 121205623]"
     ]
    },
    {
     "name": "stderr",
     "output_type": "stream",
     "text": [
      "\r",
      "Finding valid work IDs:  22%|██▏       | 44/200 [10:34<32:55, 12.67s/ID, Latest ID: 121205623]"
     ]
    },
    {
     "name": "stderr",
     "output_type": "stream",
     "text": [
      "\r",
      "Finding valid work IDs:  22%|██▏       | 44/200 [10:34<32:55, 12.67s/ID, Latest ID: 121205624]"
     ]
    },
    {
     "name": "stderr",
     "output_type": "stream",
     "text": [
      "\r",
      "Finding valid work IDs:  22%|██▎       | 45/200 [10:46<32:09, 12.45s/ID, Latest ID: 121205624]"
     ]
    },
    {
     "name": "stderr",
     "output_type": "stream",
     "text": [
      "\r",
      "Finding valid work IDs:  22%|██▎       | 45/200 [10:46<32:09, 12.45s/ID, Latest ID: 121205625]"
     ]
    },
    {
     "name": "stderr",
     "output_type": "stream",
     "text": [
      "\r",
      "Finding valid work IDs:  23%|██▎       | 46/200 [11:00<33:01, 12.87s/ID, Latest ID: 121205625]"
     ]
    },
    {
     "name": "stderr",
     "output_type": "stream",
     "text": [
      "\r",
      "Finding valid work IDs:  23%|██▎       | 46/200 [11:00<33:01, 12.87s/ID, Latest ID: 121205626]"
     ]
    },
    {
     "name": "stderr",
     "output_type": "stream",
     "text": [
      "\r",
      "Finding valid work IDs:  24%|██▎       | 47/200 [11:23<40:34, 15.91s/ID, Latest ID: 121205626]"
     ]
    },
    {
     "name": "stderr",
     "output_type": "stream",
     "text": [
      "\r",
      "Finding valid work IDs:  24%|██▎       | 47/200 [11:23<40:34, 15.91s/ID, Latest ID: 121205628]"
     ]
    },
    {
     "name": "stderr",
     "output_type": "stream",
     "text": [
      "\r",
      "Finding valid work IDs:  24%|██▍       | 48/200 [11:34<36:43, 14.50s/ID, Latest ID: 121205628]"
     ]
    },
    {
     "name": "stderr",
     "output_type": "stream",
     "text": [
      "\r",
      "Finding valid work IDs:  24%|██▍       | 48/200 [11:34<36:43, 14.50s/ID, Latest ID: 121205629]"
     ]
    },
    {
     "name": "stderr",
     "output_type": "stream",
     "text": [
      "\r",
      "Finding valid work IDs:  24%|██▍       | 49/200 [11:43<32:31, 12.92s/ID, Latest ID: 121205629]"
     ]
    },
    {
     "name": "stderr",
     "output_type": "stream",
     "text": [
      "\r",
      "Finding valid work IDs:  24%|██▍       | 49/200 [11:43<32:31, 12.92s/ID, Latest ID: 121205630]"
     ]
    },
    {
     "name": "stderr",
     "output_type": "stream",
     "text": [
      "\r",
      "Finding valid work IDs:  25%|██▌       | 50/200 [11:56<32:21, 12.94s/ID, Latest ID: 121205630]"
     ]
    },
    {
     "name": "stderr",
     "output_type": "stream",
     "text": [
      "\r",
      "Finding valid work IDs:  25%|██▌       | 50/200 [11:56<32:21, 12.94s/ID, Latest ID: 121205631]"
     ]
    },
    {
     "name": "stderr",
     "output_type": "stream",
     "text": [
      "\r",
      "Finding valid work IDs:  26%|██▌       | 51/200 [12:15<36:28, 14.68s/ID, Latest ID: 121205631]"
     ]
    },
    {
     "name": "stderr",
     "output_type": "stream",
     "text": [
      "\r",
      "Finding valid work IDs:  26%|██▌       | 51/200 [12:15<36:28, 14.68s/ID, Latest ID: 121205633]"
     ]
    },
    {
     "name": "stderr",
     "output_type": "stream",
     "text": [
      "\r",
      "Finding valid work IDs:  26%|██▌       | 52/200 [12:30<36:06, 14.64s/ID, Latest ID: 121205633]"
     ]
    },
    {
     "name": "stderr",
     "output_type": "stream",
     "text": [
      "\r",
      "Finding valid work IDs:  26%|██▌       | 52/200 [12:30<36:06, 14.64s/ID, Latest ID: 121205634]"
     ]
    },
    {
     "name": "stderr",
     "output_type": "stream",
     "text": [
      "\r",
      "Finding valid work IDs:  26%|██▋       | 53/200 [12:42<34:15, 13.98s/ID, Latest ID: 121205634]"
     ]
    },
    {
     "name": "stderr",
     "output_type": "stream",
     "text": [
      "\r",
      "Finding valid work IDs:  26%|██▋       | 53/200 [12:42<34:15, 13.98s/ID, Latest ID: 121205635]"
     ]
    },
    {
     "name": "stderr",
     "output_type": "stream",
     "text": [
      "\r",
      "Finding valid work IDs:  27%|██▋       | 54/200 [12:49<29:12, 12.00s/ID, Latest ID: 121205635]"
     ]
    },
    {
     "name": "stderr",
     "output_type": "stream",
     "text": [
      "\r",
      "Finding valid work IDs:  27%|██▋       | 54/200 [12:49<29:12, 12.00s/ID, Latest ID: 121205636]"
     ]
    },
    {
     "name": "stderr",
     "output_type": "stream",
     "text": [
      "\r",
      "Finding valid work IDs:  28%|██▊       | 55/200 [12:56<25:09, 10.41s/ID, Latest ID: 121205636]"
     ]
    },
    {
     "name": "stderr",
     "output_type": "stream",
     "text": [
      "\r",
      "Finding valid work IDs:  28%|██▊       | 55/200 [12:56<25:09, 10.41s/ID, Latest ID: 121205637]"
     ]
    },
    {
     "name": "stderr",
     "output_type": "stream",
     "text": [
      "\r",
      "Finding valid work IDs:  28%|██▊       | 56/200 [13:18<33:01, 13.76s/ID, Latest ID: 121205637]"
     ]
    },
    {
     "name": "stderr",
     "output_type": "stream",
     "text": [
      "\r",
      "Finding valid work IDs:  28%|██▊       | 56/200 [13:18<33:01, 13.76s/ID, Latest ID: 121205639]"
     ]
    },
    {
     "name": "stderr",
     "output_type": "stream",
     "text": [
      "\r",
      "Finding valid work IDs:  28%|██▊       | 57/200 [13:26<28:51, 12.11s/ID, Latest ID: 121205639]"
     ]
    },
    {
     "name": "stderr",
     "output_type": "stream",
     "text": [
      "\r",
      "Finding valid work IDs:  28%|██▊       | 57/200 [13:26<28:51, 12.11s/ID, Latest ID: 121205640]"
     ]
    },
    {
     "name": "stderr",
     "output_type": "stream",
     "text": [
      "\r",
      "Finding valid work IDs:  29%|██▉       | 58/200 [13:36<27:30, 11.62s/ID, Latest ID: 121205640]"
     ]
    },
    {
     "name": "stderr",
     "output_type": "stream",
     "text": [
      "\r",
      "Finding valid work IDs:  29%|██▉       | 58/200 [13:36<27:30, 11.62s/ID, Latest ID: 121205641]"
     ]
    },
    {
     "name": "stderr",
     "output_type": "stream",
     "text": [
      "\r",
      "Finding valid work IDs:  30%|██▉       | 59/200 [13:49<27:41, 11.78s/ID, Latest ID: 121205641]"
     ]
    },
    {
     "name": "stderr",
     "output_type": "stream",
     "text": [
      "\r",
      "Finding valid work IDs:  30%|██▉       | 59/200 [13:49<27:41, 11.78s/ID, Latest ID: 121205642]"
     ]
    },
    {
     "name": "stderr",
     "output_type": "stream",
     "text": [
      "\r",
      "Finding valid work IDs:  30%|███       | 60/200 [13:55<23:28, 10.06s/ID, Latest ID: 121205642]"
     ]
    },
    {
     "name": "stderr",
     "output_type": "stream",
     "text": [
      "\r",
      "Finding valid work IDs:  30%|███       | 60/200 [13:55<23:28, 10.06s/ID, Latest ID: 121205643]"
     ]
    },
    {
     "name": "stderr",
     "output_type": "stream",
     "text": [
      "\r",
      "Finding valid work IDs:  30%|███       | 61/200 [14:07<24:35, 10.62s/ID, Latest ID: 121205643]"
     ]
    },
    {
     "name": "stderr",
     "output_type": "stream",
     "text": [
      "\r",
      "Finding valid work IDs:  30%|███       | 61/200 [14:07<24:35, 10.62s/ID, Latest ID: 121205644]"
     ]
    },
    {
     "name": "stderr",
     "output_type": "stream",
     "text": [
      "\r",
      "Finding valid work IDs:  31%|███       | 62/200 [14:20<26:40, 11.60s/ID, Latest ID: 121205644]"
     ]
    },
    {
     "name": "stderr",
     "output_type": "stream",
     "text": [
      "\r",
      "Finding valid work IDs:  31%|███       | 62/200 [14:20<26:40, 11.60s/ID, Latest ID: 121205645]"
     ]
    },
    {
     "name": "stderr",
     "output_type": "stream",
     "text": [
      "\r",
      "Finding valid work IDs:  32%|███▏      | 63/200 [14:44<34:45, 15.22s/ID, Latest ID: 121205645]"
     ]
    },
    {
     "name": "stderr",
     "output_type": "stream",
     "text": [
      "\r",
      "Finding valid work IDs:  32%|███▏      | 63/200 [14:44<34:45, 15.22s/ID, Latest ID: 121205647]"
     ]
    },
    {
     "name": "stderr",
     "output_type": "stream",
     "text": [
      "\r",
      "Finding valid work IDs:  32%|███▏      | 64/200 [14:52<29:19, 12.94s/ID, Latest ID: 121205647]"
     ]
    },
    {
     "name": "stderr",
     "output_type": "stream",
     "text": [
      "\r",
      "Finding valid work IDs:  32%|███▏      | 64/200 [14:52<29:19, 12.94s/ID, Latest ID: 121205648]"
     ]
    },
    {
     "name": "stderr",
     "output_type": "stream",
     "text": [
      "\r",
      "Finding valid work IDs:  32%|███▎      | 65/200 [15:29<45:50, 20.37s/ID, Latest ID: 121205648]"
     ]
    },
    {
     "name": "stderr",
     "output_type": "stream",
     "text": [
      "\r",
      "Finding valid work IDs:  32%|███▎      | 65/200 [15:29<45:50, 20.37s/ID, Latest ID: 121205652]"
     ]
    },
    {
     "name": "stderr",
     "output_type": "stream",
     "text": [
      "\r",
      "Finding valid work IDs:  33%|███▎      | 66/200 [15:45<41:57, 18.79s/ID, Latest ID: 121205652]"
     ]
    },
    {
     "name": "stderr",
     "output_type": "stream",
     "text": [
      "\r",
      "Finding valid work IDs:  33%|███▎      | 66/200 [15:45<41:57, 18.79s/ID, Latest ID: 121205653]"
     ]
    },
    {
     "name": "stderr",
     "output_type": "stream",
     "text": [
      "\r",
      "Finding valid work IDs:  34%|███▎      | 67/200 [15:50<33:02, 14.90s/ID, Latest ID: 121205653]"
     ]
    },
    {
     "name": "stderr",
     "output_type": "stream",
     "text": [
      "\r",
      "Finding valid work IDs:  34%|███▎      | 67/200 [15:50<33:02, 14.90s/ID, Latest ID: 121205654]"
     ]
    },
    {
     "name": "stderr",
     "output_type": "stream",
     "text": [
      "\r",
      "Finding valid work IDs:  34%|███▍      | 68/200 [15:59<28:39, 13.03s/ID, Latest ID: 121205654]"
     ]
    },
    {
     "name": "stderr",
     "output_type": "stream",
     "text": [
      "\r",
      "Finding valid work IDs:  34%|███▍      | 68/200 [15:59<28:39, 13.03s/ID, Latest ID: 121205655]"
     ]
    },
    {
     "name": "stderr",
     "output_type": "stream",
     "text": [
      "\r",
      "Finding valid work IDs:  34%|███▍      | 69/200 [16:08<25:54, 11.87s/ID, Latest ID: 121205655]"
     ]
    },
    {
     "name": "stderr",
     "output_type": "stream",
     "text": [
      "\r",
      "Finding valid work IDs:  34%|███▍      | 69/200 [16:08<25:54, 11.87s/ID, Latest ID: 121205656]"
     ]
    },
    {
     "name": "stderr",
     "output_type": "stream",
     "text": [
      "\r",
      "Finding valid work IDs:  35%|███▌      | 70/200 [16:31<32:34, 15.03s/ID, Latest ID: 121205656]"
     ]
    },
    {
     "name": "stderr",
     "output_type": "stream",
     "text": [
      "\r",
      "Finding valid work IDs:  35%|███▌      | 70/200 [16:31<32:34, 15.03s/ID, Latest ID: 121205658]"
     ]
    },
    {
     "name": "stderr",
     "output_type": "stream",
     "text": [
      "\r",
      "Finding valid work IDs:  36%|███▌      | 71/200 [16:46<32:15, 15.00s/ID, Latest ID: 121205658]"
     ]
    },
    {
     "name": "stderr",
     "output_type": "stream",
     "text": [
      "\r",
      "Finding valid work IDs:  36%|███▌      | 71/200 [16:46<32:15, 15.00s/ID, Latest ID: 121205659]"
     ]
    },
    {
     "name": "stderr",
     "output_type": "stream",
     "text": [
      "\r",
      "Finding valid work IDs:  36%|███▌      | 72/200 [16:59<31:13, 14.63s/ID, Latest ID: 121205659]"
     ]
    },
    {
     "name": "stderr",
     "output_type": "stream",
     "text": [
      "\r",
      "Finding valid work IDs:  36%|███▌      | 72/200 [16:59<31:13, 14.63s/ID, Latest ID: 121205660]"
     ]
    },
    {
     "name": "stderr",
     "output_type": "stream",
     "text": [
      "\r",
      "Finding valid work IDs:  36%|███▋      | 73/200 [17:12<29:33, 13.97s/ID, Latest ID: 121205660]"
     ]
    },
    {
     "name": "stderr",
     "output_type": "stream",
     "text": [
      "\r",
      "Finding valid work IDs:  36%|███▋      | 73/200 [17:12<29:33, 13.97s/ID, Latest ID: 121205661]"
     ]
    },
    {
     "name": "stderr",
     "output_type": "stream",
     "text": [
      "\r",
      "Finding valid work IDs:  37%|███▋      | 74/200 [17:39<37:41, 17.95s/ID, Latest ID: 121205661]"
     ]
    },
    {
     "name": "stderr",
     "output_type": "stream",
     "text": [
      "\r",
      "Finding valid work IDs:  37%|███▋      | 74/200 [17:39<37:41, 17.95s/ID, Latest ID: 121205664]"
     ]
    },
    {
     "name": "stderr",
     "output_type": "stream",
     "text": [
      "\r",
      "Finding valid work IDs:  38%|███▊      | 75/200 [17:47<31:17, 15.02s/ID, Latest ID: 121205664]"
     ]
    },
    {
     "name": "stderr",
     "output_type": "stream",
     "text": [
      "\r",
      "Finding valid work IDs:  38%|███▊      | 75/200 [17:47<31:17, 15.02s/ID, Latest ID: 121205665]"
     ]
    },
    {
     "name": "stderr",
     "output_type": "stream",
     "text": [
      "\r",
      "Finding valid work IDs:  38%|███▊      | 76/200 [17:56<26:56, 13.03s/ID, Latest ID: 121205665]"
     ]
    },
    {
     "name": "stderr",
     "output_type": "stream",
     "text": [
      "\r",
      "Finding valid work IDs:  38%|███▊      | 76/200 [17:56<26:56, 13.03s/ID, Latest ID: 121205666]"
     ]
    },
    {
     "name": "stderr",
     "output_type": "stream",
     "text": [
      "\r",
      "Finding valid work IDs:  38%|███▊      | 77/200 [18:10<27:33, 13.44s/ID, Latest ID: 121205666]"
     ]
    },
    {
     "name": "stderr",
     "output_type": "stream",
     "text": [
      "\r",
      "Finding valid work IDs:  38%|███▊      | 77/200 [18:10<27:33, 13.44s/ID, Latest ID: 121205667]"
     ]
    },
    {
     "name": "stderr",
     "output_type": "stream",
     "text": [
      "\r",
      "Finding valid work IDs:  39%|███▉      | 78/200 [18:18<23:57, 11.78s/ID, Latest ID: 121205667]"
     ]
    },
    {
     "name": "stderr",
     "output_type": "stream",
     "text": [
      "\r",
      "Finding valid work IDs:  39%|███▉      | 78/200 [18:18<23:57, 11.78s/ID, Latest ID: 121205668]"
     ]
    },
    {
     "name": "stderr",
     "output_type": "stream",
     "text": [
      "\r",
      "Finding valid work IDs:  40%|███▉      | 79/200 [18:32<25:28, 12.63s/ID, Latest ID: 121205668]"
     ]
    },
    {
     "name": "stderr",
     "output_type": "stream",
     "text": [
      "\r",
      "Finding valid work IDs:  40%|███▉      | 79/200 [18:32<25:28, 12.63s/ID, Latest ID: 121205669]"
     ]
    },
    {
     "name": "stderr",
     "output_type": "stream",
     "text": [
      "\r",
      "Finding valid work IDs:  40%|████      | 80/200 [18:57<32:14, 16.12s/ID, Latest ID: 121205669]"
     ]
    },
    {
     "name": "stderr",
     "output_type": "stream",
     "text": [
      "\r",
      "Finding valid work IDs:  40%|████      | 80/200 [18:57<32:14, 16.12s/ID, Latest ID: 121205671]"
     ]
    },
    {
     "name": "stderr",
     "output_type": "stream",
     "text": [
      "\r",
      "Finding valid work IDs:  40%|████      | 81/200 [19:10<30:06, 15.18s/ID, Latest ID: 121205671]"
     ]
    },
    {
     "name": "stderr",
     "output_type": "stream",
     "text": [
      "\r",
      "Finding valid work IDs:  40%|████      | 81/200 [19:10<30:06, 15.18s/ID, Latest ID: 121205672]"
     ]
    },
    {
     "name": "stderr",
     "output_type": "stream",
     "text": [
      "\r",
      "Finding valid work IDs:  41%|████      | 82/200 [19:46<42:22, 21.54s/ID, Latest ID: 121205672]"
     ]
    },
    {
     "name": "stderr",
     "output_type": "stream",
     "text": [
      "\r",
      "Finding valid work IDs:  41%|████      | 82/200 [19:46<42:22, 21.54s/ID, Latest ID: 121205675]"
     ]
    },
    {
     "name": "stderr",
     "output_type": "stream",
     "text": [
      "\r",
      "Finding valid work IDs:  42%|████▏     | 83/200 [19:59<37:08, 19.05s/ID, Latest ID: 121205675]"
     ]
    },
    {
     "name": "stderr",
     "output_type": "stream",
     "text": [
      "\r",
      "Finding valid work IDs:  42%|████▏     | 83/200 [19:59<37:08, 19.05s/ID, Latest ID: 121205676]"
     ]
    },
    {
     "name": "stderr",
     "output_type": "stream",
     "text": [
      "\r",
      "Finding valid work IDs:  42%|████▏     | 84/200 [20:09<31:27, 16.27s/ID, Latest ID: 121205676]"
     ]
    },
    {
     "name": "stderr",
     "output_type": "stream",
     "text": [
      "\r",
      "Finding valid work IDs:  42%|████▏     | 84/200 [20:09<31:27, 16.27s/ID, Latest ID: 121205677]"
     ]
    },
    {
     "name": "stderr",
     "output_type": "stream",
     "text": [
      "\r",
      "Finding valid work IDs:  42%|████▎     | 85/200 [20:30<33:55, 17.70s/ID, Latest ID: 121205677]"
     ]
    },
    {
     "name": "stderr",
     "output_type": "stream",
     "text": [
      "\r",
      "Finding valid work IDs:  42%|████▎     | 85/200 [20:30<33:55, 17.70s/ID, Latest ID: 121205679]"
     ]
    },
    {
     "name": "stderr",
     "output_type": "stream",
     "text": [
      "\r",
      "Finding valid work IDs:  43%|████▎     | 86/200 [20:45<32:06, 16.90s/ID, Latest ID: 121205679]"
     ]
    },
    {
     "name": "stderr",
     "output_type": "stream",
     "text": [
      "\r",
      "Finding valid work IDs:  43%|████▎     | 86/200 [20:45<32:06, 16.90s/ID, Latest ID: 121205680]"
     ]
    },
    {
     "name": "stderr",
     "output_type": "stream",
     "text": [
      "\r",
      "Finding valid work IDs:  44%|████▎     | 87/200 [20:58<29:19, 15.57s/ID, Latest ID: 121205680]"
     ]
    },
    {
     "name": "stderr",
     "output_type": "stream",
     "text": [
      "\r",
      "Finding valid work IDs:  44%|████▎     | 87/200 [20:58<29:19, 15.57s/ID, Latest ID: 121205681]"
     ]
    },
    {
     "name": "stderr",
     "output_type": "stream",
     "text": [
      "\r",
      "Finding valid work IDs:  44%|████▍     | 88/200 [21:05<24:27, 13.10s/ID, Latest ID: 121205681]"
     ]
    },
    {
     "name": "stderr",
     "output_type": "stream",
     "text": [
      "\r",
      "Finding valid work IDs:  44%|████▍     | 88/200 [21:05<24:27, 13.10s/ID, Latest ID: 121205682]"
     ]
    },
    {
     "name": "stderr",
     "output_type": "stream",
     "text": [
      "\r",
      "Finding valid work IDs:  44%|████▍     | 89/200 [21:29<30:20, 16.40s/ID, Latest ID: 121205682]"
     ]
    },
    {
     "name": "stderr",
     "output_type": "stream",
     "text": [
      "\r",
      "Finding valid work IDs:  44%|████▍     | 89/200 [21:29<30:20, 16.40s/ID, Latest ID: 121205684]"
     ]
    },
    {
     "name": "stderr",
     "output_type": "stream",
     "text": [
      "\r",
      "Finding valid work IDs:  45%|████▌     | 90/200 [21:42<27:55, 15.23s/ID, Latest ID: 121205684]"
     ]
    },
    {
     "name": "stderr",
     "output_type": "stream",
     "text": [
      "\r",
      "Finding valid work IDs:  45%|████▌     | 90/200 [21:42<27:55, 15.23s/ID, Latest ID: 121205685]"
     ]
    },
    {
     "name": "stderr",
     "output_type": "stream",
     "text": [
      "\r",
      "Finding valid work IDs:  46%|████▌     | 91/200 [22:19<39:37, 21.81s/ID, Latest ID: 121205685]"
     ]
    },
    {
     "name": "stderr",
     "output_type": "stream",
     "text": [
      "\r",
      "Finding valid work IDs:  46%|████▌     | 91/200 [22:19<39:37, 21.81s/ID, Latest ID: 121205689]"
     ]
    },
    {
     "name": "stderr",
     "output_type": "stream",
     "text": [
      "\r",
      "Finding valid work IDs:  46%|████▌     | 92/200 [22:25<31:00, 17.23s/ID, Latest ID: 121205689]"
     ]
    },
    {
     "name": "stderr",
     "output_type": "stream",
     "text": [
      "\r",
      "Finding valid work IDs:  46%|████▌     | 92/200 [22:25<31:00, 17.23s/ID, Latest ID: 121205690]"
     ]
    },
    {
     "name": "stderr",
     "output_type": "stream",
     "text": [
      "\r",
      "Finding valid work IDs:  46%|████▋     | 93/200 [22:39<28:48, 16.16s/ID, Latest ID: 121205690]"
     ]
    },
    {
     "name": "stderr",
     "output_type": "stream",
     "text": [
      "\r",
      "Finding valid work IDs:  46%|████▋     | 93/200 [22:39<28:48, 16.16s/ID, Latest ID: 121205691]"
     ]
    },
    {
     "name": "stderr",
     "output_type": "stream",
     "text": [
      "\r",
      "Finding valid work IDs:  47%|████▋     | 94/200 [22:49<25:02, 14.17s/ID, Latest ID: 121205691]"
     ]
    },
    {
     "name": "stderr",
     "output_type": "stream",
     "text": [
      "\r",
      "Finding valid work IDs:  47%|████▋     | 94/200 [22:49<25:02, 14.17s/ID, Latest ID: 121205692]"
     ]
    },
    {
     "name": "stderr",
     "output_type": "stream",
     "text": [
      "\r",
      "Finding valid work IDs:  48%|████▊     | 95/200 [22:55<20:30, 11.71s/ID, Latest ID: 121205692]"
     ]
    },
    {
     "name": "stderr",
     "output_type": "stream",
     "text": [
      "\r",
      "Finding valid work IDs:  48%|████▊     | 95/200 [22:55<20:30, 11.71s/ID, Latest ID: 121205693]"
     ]
    },
    {
     "name": "stderr",
     "output_type": "stream",
     "text": [
      "\r",
      "Finding valid work IDs:  48%|████▊     | 96/200 [23:10<22:07, 12.77s/ID, Latest ID: 121205693]"
     ]
    },
    {
     "name": "stderr",
     "output_type": "stream",
     "text": [
      "\r",
      "Finding valid work IDs:  48%|████▊     | 96/200 [23:10<22:07, 12.77s/ID, Latest ID: 121205694]"
     ]
    },
    {
     "name": "stderr",
     "output_type": "stream",
     "text": [
      "\r",
      "Finding valid work IDs:  48%|████▊     | 97/200 [23:18<19:44, 11.50s/ID, Latest ID: 121205694]"
     ]
    },
    {
     "name": "stderr",
     "output_type": "stream",
     "text": [
      "\r",
      "Finding valid work IDs:  48%|████▊     | 97/200 [23:18<19:44, 11.50s/ID, Latest ID: 121205695]"
     ]
    },
    {
     "name": "stderr",
     "output_type": "stream",
     "text": [
      "\r",
      "Finding valid work IDs:  49%|████▉     | 98/200 [23:32<20:54, 12.30s/ID, Latest ID: 121205695]"
     ]
    },
    {
     "name": "stderr",
     "output_type": "stream",
     "text": [
      "\r",
      "Finding valid work IDs:  49%|████▉     | 98/200 [23:32<20:54, 12.30s/ID, Latest ID: 121205696]"
     ]
    },
    {
     "name": "stderr",
     "output_type": "stream",
     "text": [
      "\r",
      "Finding valid work IDs:  50%|████▉     | 99/200 [23:43<20:01, 11.89s/ID, Latest ID: 121205696]"
     ]
    },
    {
     "name": "stderr",
     "output_type": "stream",
     "text": [
      "\r",
      "Finding valid work IDs:  50%|████▉     | 99/200 [23:43<20:01, 11.89s/ID, Latest ID: 121205697]"
     ]
    },
    {
     "name": "stderr",
     "output_type": "stream",
     "text": [
      "\r",
      "Finding valid work IDs:  50%|█████     | 100/200 [23:50<17:04, 10.24s/ID, Latest ID: 121205697]"
     ]
    },
    {
     "name": "stderr",
     "output_type": "stream",
     "text": [
      "\r",
      "Finding valid work IDs:  50%|█████     | 100/200 [23:50<17:04, 10.24s/ID, Latest ID: 121205698]"
     ]
    },
    {
     "name": "stderr",
     "output_type": "stream",
     "text": [
      "\r",
      "Finding valid work IDs:  50%|█████     | 101/200 [23:57<15:29,  9.39s/ID, Latest ID: 121205698]"
     ]
    },
    {
     "name": "stderr",
     "output_type": "stream",
     "text": [
      "\r",
      "Finding valid work IDs:  50%|█████     | 101/200 [23:57<15:29,  9.39s/ID, Latest ID: 121205699]"
     ]
    },
    {
     "name": "stderr",
     "output_type": "stream",
     "text": [
      "\r",
      "Finding valid work IDs:  51%|█████     | 102/200 [24:04<14:10,  8.68s/ID, Latest ID: 121205699]"
     ]
    },
    {
     "name": "stderr",
     "output_type": "stream",
     "text": [
      "\r",
      "Finding valid work IDs:  51%|█████     | 102/200 [24:04<14:10,  8.68s/ID, Latest ID: 121205700]"
     ]
    },
    {
     "name": "stderr",
     "output_type": "stream",
     "text": [
      "\r",
      "Finding valid work IDs:  52%|█████▏    | 103/200 [24:17<16:13, 10.03s/ID, Latest ID: 121205700]"
     ]
    },
    {
     "name": "stderr",
     "output_type": "stream",
     "text": [
      "\r",
      "Finding valid work IDs:  52%|█████▏    | 103/200 [24:17<16:13, 10.03s/ID, Latest ID: 121205701]"
     ]
    },
    {
     "name": "stderr",
     "output_type": "stream",
     "text": [
      "\r",
      "Finding valid work IDs:  52%|█████▏    | 104/200 [24:37<20:26, 12.78s/ID, Latest ID: 121205701]"
     ]
    },
    {
     "name": "stderr",
     "output_type": "stream",
     "text": [
      "\r",
      "Finding valid work IDs:  52%|█████▏    | 104/200 [24:37<20:26, 12.78s/ID, Latest ID: 121205703]"
     ]
    },
    {
     "name": "stderr",
     "output_type": "stream",
     "text": [
      "\r",
      "Finding valid work IDs:  52%|█████▎    | 105/200 [24:49<20:14, 12.78s/ID, Latest ID: 121205703]"
     ]
    },
    {
     "name": "stderr",
     "output_type": "stream",
     "text": [
      "\r",
      "Finding valid work IDs:  52%|█████▎    | 105/200 [24:49<20:14, 12.78s/ID, Latest ID: 121205704]"
     ]
    },
    {
     "name": "stderr",
     "output_type": "stream",
     "text": [
      "\r",
      "Finding valid work IDs:  53%|█████▎    | 106/200 [24:56<16:56, 10.81s/ID, Latest ID: 121205704]"
     ]
    },
    {
     "name": "stderr",
     "output_type": "stream",
     "text": [
      "\r",
      "Finding valid work IDs:  53%|█████▎    | 106/200 [24:56<16:56, 10.81s/ID, Latest ID: 121205705]"
     ]
    },
    {
     "name": "stderr",
     "output_type": "stream",
     "text": [
      "\r",
      "Finding valid work IDs:  54%|█████▎    | 107/200 [25:07<16:54, 10.91s/ID, Latest ID: 121205705]"
     ]
    },
    {
     "name": "stderr",
     "output_type": "stream",
     "text": [
      "\r",
      "Finding valid work IDs:  54%|█████▎    | 107/200 [25:07<16:54, 10.91s/ID, Latest ID: 121205706]"
     ]
    },
    {
     "name": "stderr",
     "output_type": "stream",
     "text": [
      "\r",
      "Finding valid work IDs:  54%|█████▍    | 108/200 [25:27<21:09, 13.80s/ID, Latest ID: 121205706]"
     ]
    },
    {
     "name": "stderr",
     "output_type": "stream",
     "text": [
      "\r",
      "Finding valid work IDs:  54%|█████▍    | 108/200 [25:27<21:09, 13.80s/ID, Latest ID: 121205708]"
     ]
    },
    {
     "name": "stderr",
     "output_type": "stream",
     "text": [
      "\r",
      "Finding valid work IDs:  55%|█████▍    | 109/200 [25:34<17:35, 11.59s/ID, Latest ID: 121205708]"
     ]
    },
    {
     "name": "stderr",
     "output_type": "stream",
     "text": [
      "\r",
      "Finding valid work IDs:  55%|█████▍    | 109/200 [25:34<17:35, 11.59s/ID, Latest ID: 121205709]"
     ]
    },
    {
     "name": "stderr",
     "output_type": "stream",
     "text": [
      "\r",
      "Finding valid work IDs:  55%|█████▌    | 110/200 [25:41<15:23, 10.26s/ID, Latest ID: 121205709]"
     ]
    },
    {
     "name": "stderr",
     "output_type": "stream",
     "text": [
      "\r",
      "Finding valid work IDs:  55%|█████▌    | 110/200 [25:41<15:23, 10.26s/ID, Latest ID: 121205710]"
     ]
    },
    {
     "name": "stderr",
     "output_type": "stream",
     "text": [
      "\r",
      "Finding valid work IDs:  56%|█████▌    | 111/200 [25:56<17:13, 11.61s/ID, Latest ID: 121205710]"
     ]
    },
    {
     "name": "stderr",
     "output_type": "stream",
     "text": [
      "\r",
      "Finding valid work IDs:  56%|█████▌    | 111/200 [25:56<17:13, 11.61s/ID, Latest ID: 121205711]"
     ]
    },
    {
     "name": "stderr",
     "output_type": "stream",
     "text": [
      "\r",
      "Finding valid work IDs:  56%|█████▌    | 112/200 [26:07<17:08, 11.69s/ID, Latest ID: 121205711]"
     ]
    },
    {
     "name": "stderr",
     "output_type": "stream",
     "text": [
      "\r",
      "Finding valid work IDs:  56%|█████▌    | 112/200 [26:07<17:08, 11.69s/ID, Latest ID: 121205712]"
     ]
    },
    {
     "name": "stderr",
     "output_type": "stream",
     "text": [
      "\r",
      "Finding valid work IDs:  56%|█████▋    | 113/200 [26:14<14:32, 10.03s/ID, Latest ID: 121205712]"
     ]
    },
    {
     "name": "stderr",
     "output_type": "stream",
     "text": [
      "\r",
      "Finding valid work IDs:  56%|█████▋    | 113/200 [26:14<14:32, 10.03s/ID, Latest ID: 121205713]"
     ]
    },
    {
     "name": "stderr",
     "output_type": "stream",
     "text": [
      "\r",
      "Finding valid work IDs:  57%|█████▋    | 114/200 [26:25<14:50, 10.35s/ID, Latest ID: 121205713]"
     ]
    },
    {
     "name": "stderr",
     "output_type": "stream",
     "text": [
      "\r",
      "Finding valid work IDs:  57%|█████▋    | 114/200 [26:25<14:50, 10.35s/ID, Latest ID: 121205714]"
     ]
    },
    {
     "name": "stderr",
     "output_type": "stream",
     "text": [
      "\r",
      "Finding valid work IDs:  57%|█████▊    | 115/200 [26:32<13:31,  9.55s/ID, Latest ID: 121205714]"
     ]
    },
    {
     "name": "stderr",
     "output_type": "stream",
     "text": [
      "\r",
      "Finding valid work IDs:  57%|█████▊    | 115/200 [26:32<13:31,  9.55s/ID, Latest ID: 121205715]"
     ]
    },
    {
     "name": "stderr",
     "output_type": "stream",
     "text": [
      "\r",
      "Finding valid work IDs:  58%|█████▊    | 116/200 [26:47<15:16, 10.92s/ID, Latest ID: 121205715]"
     ]
    },
    {
     "name": "stderr",
     "output_type": "stream",
     "text": [
      "\r",
      "Finding valid work IDs:  58%|█████▊    | 116/200 [26:47<15:16, 10.92s/ID, Latest ID: 121205716]"
     ]
    },
    {
     "name": "stderr",
     "output_type": "stream",
     "text": [
      "\r",
      "Finding valid work IDs:  58%|█████▊    | 117/200 [26:54<13:33,  9.80s/ID, Latest ID: 121205716]"
     ]
    },
    {
     "name": "stderr",
     "output_type": "stream",
     "text": [
      "\r",
      "Finding valid work IDs:  58%|█████▊    | 117/200 [26:54<13:33,  9.80s/ID, Latest ID: 121205717]"
     ]
    },
    {
     "name": "stderr",
     "output_type": "stream",
     "text": [
      "\r",
      "Finding valid work IDs:  59%|█████▉    | 118/200 [26:59<11:33,  8.46s/ID, Latest ID: 121205717]"
     ]
    },
    {
     "name": "stderr",
     "output_type": "stream",
     "text": [
      "\r",
      "Finding valid work IDs:  59%|█████▉    | 118/200 [26:59<11:33,  8.46s/ID, Latest ID: 121205718]"
     ]
    },
    {
     "name": "stderr",
     "output_type": "stream",
     "text": [
      "\r",
      "Finding valid work IDs:  60%|█████▉    | 119/200 [27:12<13:03,  9.68s/ID, Latest ID: 121205718]"
     ]
    },
    {
     "name": "stderr",
     "output_type": "stream",
     "text": [
      "\r",
      "Finding valid work IDs:  60%|█████▉    | 119/200 [27:12<13:03,  9.68s/ID, Latest ID: 121205719]"
     ]
    },
    {
     "name": "stderr",
     "output_type": "stream",
     "text": [
      "\r",
      "Finding valid work IDs:  60%|██████    | 120/200 [27:18<11:45,  8.82s/ID, Latest ID: 121205719]"
     ]
    },
    {
     "name": "stderr",
     "output_type": "stream",
     "text": [
      "\r",
      "Finding valid work IDs:  60%|██████    | 120/200 [27:18<11:45,  8.82s/ID, Latest ID: 121205720]"
     ]
    },
    {
     "name": "stderr",
     "output_type": "stream",
     "text": [
      "\r",
      "Finding valid work IDs:  60%|██████    | 121/200 [27:30<12:52,  9.78s/ID, Latest ID: 121205720]"
     ]
    },
    {
     "name": "stderr",
     "output_type": "stream",
     "text": [
      "\r",
      "Finding valid work IDs:  60%|██████    | 121/200 [27:30<12:52,  9.78s/ID, Latest ID: 121205721]"
     ]
    },
    {
     "name": "stderr",
     "output_type": "stream",
     "text": [
      "\r",
      "Finding valid work IDs:  61%|██████    | 122/200 [27:50<16:37, 12.79s/ID, Latest ID: 121205721]"
     ]
    },
    {
     "name": "stderr",
     "output_type": "stream",
     "text": [
      "\r",
      "Finding valid work IDs:  61%|██████    | 122/200 [27:50<16:37, 12.79s/ID, Latest ID: 121205723]"
     ]
    },
    {
     "name": "stderr",
     "output_type": "stream",
     "text": [
      "\r",
      "Finding valid work IDs:  62%|██████▏   | 123/200 [28:01<15:35, 12.15s/ID, Latest ID: 121205723]"
     ]
    },
    {
     "name": "stderr",
     "output_type": "stream",
     "text": [
      "\r",
      "Finding valid work IDs:  62%|██████▏   | 123/200 [28:01<15:35, 12.15s/ID, Latest ID: 121205724]"
     ]
    },
    {
     "name": "stderr",
     "output_type": "stream",
     "text": [
      "\r",
      "Finding valid work IDs:  62%|██████▏   | 124/200 [28:13<15:30, 12.24s/ID, Latest ID: 121205724]"
     ]
    },
    {
     "name": "stderr",
     "output_type": "stream",
     "text": [
      "\r",
      "Finding valid work IDs:  62%|██████▏   | 124/200 [28:13<15:30, 12.24s/ID, Latest ID: 121205725]"
     ]
    },
    {
     "name": "stderr",
     "output_type": "stream",
     "text": [
      "\r",
      "Finding valid work IDs:  62%|██████▎   | 125/200 [28:26<15:34, 12.46s/ID, Latest ID: 121205725]"
     ]
    },
    {
     "name": "stderr",
     "output_type": "stream",
     "text": [
      "\r",
      "Finding valid work IDs:  62%|██████▎   | 125/200 [28:26<15:34, 12.46s/ID, Latest ID: 121205726]"
     ]
    },
    {
     "name": "stderr",
     "output_type": "stream",
     "text": [
      "\r",
      "Finding valid work IDs:  63%|██████▎   | 126/200 [28:32<12:45, 10.34s/ID, Latest ID: 121205726]"
     ]
    },
    {
     "name": "stderr",
     "output_type": "stream",
     "text": [
      "\r",
      "Finding valid work IDs:  63%|██████▎   | 126/200 [28:32<12:45, 10.34s/ID, Latest ID: 121205727]"
     ]
    },
    {
     "name": "stderr",
     "output_type": "stream",
     "text": [
      "\r",
      "Finding valid work IDs:  64%|██████▎   | 127/200 [28:40<12:00,  9.88s/ID, Latest ID: 121205727]"
     ]
    },
    {
     "name": "stderr",
     "output_type": "stream",
     "text": [
      "\r",
      "Finding valid work IDs:  64%|██████▎   | 127/200 [28:40<12:00,  9.88s/ID, Latest ID: 121205728]"
     ]
    },
    {
     "name": "stderr",
     "output_type": "stream",
     "text": [
      "\r",
      "Finding valid work IDs:  64%|██████▍   | 128/200 [29:09<18:27, 15.38s/ID, Latest ID: 121205728]"
     ]
    },
    {
     "name": "stderr",
     "output_type": "stream",
     "text": [
      "\r",
      "Finding valid work IDs:  64%|██████▍   | 128/200 [29:09<18:27, 15.38s/ID, Latest ID: 121205730]"
     ]
    },
    {
     "name": "stderr",
     "output_type": "stream",
     "text": [
      "\r",
      "Finding valid work IDs:  64%|██████▍   | 129/200 [29:18<16:01, 13.54s/ID, Latest ID: 121205730]"
     ]
    },
    {
     "name": "stderr",
     "output_type": "stream",
     "text": [
      "\r",
      "Finding valid work IDs:  64%|██████▍   | 129/200 [29:18<16:01, 13.54s/ID, Latest ID: 121205731]"
     ]
    },
    {
     "name": "stderr",
     "output_type": "stream",
     "text": [
      "\r",
      "Finding valid work IDs:  65%|██████▌   | 130/200 [29:25<13:34, 11.63s/ID, Latest ID: 121205731]"
     ]
    },
    {
     "name": "stderr",
     "output_type": "stream",
     "text": [
      "\r",
      "Finding valid work IDs:  65%|██████▌   | 130/200 [29:25<13:34, 11.63s/ID, Latest ID: 121205732]"
     ]
    },
    {
     "name": "stderr",
     "output_type": "stream",
     "text": [
      "\r",
      "Finding valid work IDs:  66%|██████▌   | 131/200 [29:40<14:32, 12.65s/ID, Latest ID: 121205732]"
     ]
    },
    {
     "name": "stderr",
     "output_type": "stream",
     "text": [
      "\r",
      "Finding valid work IDs:  66%|██████▌   | 131/200 [29:40<14:32, 12.65s/ID, Latest ID: 121205733]"
     ]
    },
    {
     "name": "stderr",
     "output_type": "stream",
     "text": [
      "\r",
      "Finding valid work IDs:  66%|██████▌   | 132/200 [29:51<13:53, 12.26s/ID, Latest ID: 121205733]"
     ]
    },
    {
     "name": "stderr",
     "output_type": "stream",
     "text": [
      "\r",
      "Finding valid work IDs:  66%|██████▌   | 132/200 [29:51<13:53, 12.26s/ID, Latest ID: 121205734]"
     ]
    },
    {
     "name": "stderr",
     "output_type": "stream",
     "text": [
      "\r",
      "Finding valid work IDs:  66%|██████▋   | 133/200 [30:15<17:21, 15.55s/ID, Latest ID: 121205734]"
     ]
    },
    {
     "name": "stderr",
     "output_type": "stream",
     "text": [
      "\r",
      "Finding valid work IDs:  66%|██████▋   | 133/200 [30:15<17:21, 15.55s/ID, Latest ID: 121205736]"
     ]
    },
    {
     "name": "stderr",
     "output_type": "stream",
     "text": [
      "\r",
      "Finding valid work IDs:  67%|██████▋   | 134/200 [30:26<15:50, 14.41s/ID, Latest ID: 121205736]"
     ]
    },
    {
     "name": "stderr",
     "output_type": "stream",
     "text": [
      "\r",
      "Finding valid work IDs:  67%|██████▋   | 134/200 [30:26<15:50, 14.41s/ID, Latest ID: 121205737]"
     ]
    },
    {
     "name": "stderr",
     "output_type": "stream",
     "text": [
      "\r",
      "Finding valid work IDs:  68%|██████▊   | 135/200 [30:36<14:01, 12.95s/ID, Latest ID: 121205737]"
     ]
    },
    {
     "name": "stderr",
     "output_type": "stream",
     "text": [
      "\r",
      "Finding valid work IDs:  68%|██████▊   | 135/200 [30:36<14:01, 12.95s/ID, Latest ID: 121205738]"
     ]
    },
    {
     "name": "stderr",
     "output_type": "stream",
     "text": [
      "\r",
      "Finding valid work IDs:  68%|██████▊   | 136/200 [30:51<14:35, 13.67s/ID, Latest ID: 121205738]"
     ]
    },
    {
     "name": "stderr",
     "output_type": "stream",
     "text": [
      "\r",
      "Finding valid work IDs:  68%|██████▊   | 136/200 [30:51<14:35, 13.67s/ID, Latest ID: 121205739]"
     ]
    },
    {
     "name": "stderr",
     "output_type": "stream",
     "text": [
      "\r",
      "Finding valid work IDs:  68%|██████▊   | 137/200 [31:29<21:49, 20.79s/ID, Latest ID: 121205739]"
     ]
    },
    {
     "name": "stderr",
     "output_type": "stream",
     "text": [
      "\r",
      "Finding valid work IDs:  68%|██████▊   | 137/200 [31:29<21:49, 20.79s/ID, Latest ID: 121205743]"
     ]
    },
    {
     "name": "stderr",
     "output_type": "stream",
     "text": [
      "\r",
      "Finding valid work IDs:  69%|██████▉   | 138/200 [31:42<18:59, 18.37s/ID, Latest ID: 121205743]"
     ]
    },
    {
     "name": "stderr",
     "output_type": "stream",
     "text": [
      "\r",
      "Finding valid work IDs:  69%|██████▉   | 138/200 [31:42<18:59, 18.37s/ID, Latest ID: 121205745]"
     ]
    },
    {
     "name": "stderr",
     "output_type": "stream",
     "text": [
      "\r",
      "Finding valid work IDs:  70%|██████▉   | 139/200 [31:57<17:41, 17.40s/ID, Latest ID: 121205745]"
     ]
    },
    {
     "name": "stderr",
     "output_type": "stream",
     "text": [
      "\r",
      "Finding valid work IDs:  70%|██████▉   | 139/200 [31:57<17:41, 17.40s/ID, Latest ID: 121205746]"
     ]
    },
    {
     "name": "stderr",
     "output_type": "stream",
     "text": [
      "\r",
      "Finding valid work IDs:  70%|███████   | 140/200 [32:12<16:45, 16.75s/ID, Latest ID: 121205746]"
     ]
    },
    {
     "name": "stderr",
     "output_type": "stream",
     "text": [
      "\r",
      "Finding valid work IDs:  70%|███████   | 140/200 [32:12<16:45, 16.75s/ID, Latest ID: 121205747]"
     ]
    },
    {
     "name": "stderr",
     "output_type": "stream",
     "text": [
      "\r",
      "Finding valid work IDs:  70%|███████   | 141/200 [32:20<14:03, 14.30s/ID, Latest ID: 121205747]"
     ]
    },
    {
     "name": "stderr",
     "output_type": "stream",
     "text": [
      "\r",
      "Finding valid work IDs:  70%|███████   | 141/200 [32:20<14:03, 14.30s/ID, Latest ID: 121205748]"
     ]
    },
    {
     "name": "stderr",
     "output_type": "stream",
     "text": [
      "\r",
      "Finding valid work IDs:  71%|███████   | 142/200 [32:42<15:51, 16.41s/ID, Latest ID: 121205748]"
     ]
    },
    {
     "name": "stderr",
     "output_type": "stream",
     "text": [
      "\r",
      "Finding valid work IDs:  71%|███████   | 142/200 [32:42<15:51, 16.41s/ID, Latest ID: 121205750]"
     ]
    },
    {
     "name": "stderr",
     "output_type": "stream",
     "text": [
      "\r",
      "Finding valid work IDs:  72%|███████▏  | 143/200 [32:57<15:10, 15.97s/ID, Latest ID: 121205750]"
     ]
    },
    {
     "name": "stderr",
     "output_type": "stream",
     "text": [
      "\r",
      "Finding valid work IDs:  72%|███████▏  | 143/200 [32:57<15:10, 15.97s/ID, Latest ID: 121205751]"
     ]
    },
    {
     "name": "stderr",
     "output_type": "stream",
     "text": [
      "\r",
      "Finding valid work IDs:  72%|███████▏  | 144/200 [33:24<18:04, 19.36s/ID, Latest ID: 121205751]"
     ]
    },
    {
     "name": "stderr",
     "output_type": "stream",
     "text": [
      "\r",
      "Finding valid work IDs:  72%|███████▏  | 144/200 [33:24<18:04, 19.36s/ID, Latest ID: 121205753]"
     ]
    },
    {
     "name": "stderr",
     "output_type": "stream",
     "text": [
      "\r",
      "Finding valid work IDs:  72%|███████▎  | 145/200 [33:35<15:26, 16.85s/ID, Latest ID: 121205753]"
     ]
    },
    {
     "name": "stderr",
     "output_type": "stream",
     "text": [
      "\r",
      "Finding valid work IDs:  72%|███████▎  | 145/200 [33:35<15:26, 16.85s/ID, Latest ID: 121205754]"
     ]
    },
    {
     "name": "stderr",
     "output_type": "stream",
     "text": [
      "\r",
      "Finding valid work IDs:  73%|███████▎  | 146/200 [33:56<16:13, 18.03s/ID, Latest ID: 121205754]"
     ]
    },
    {
     "name": "stderr",
     "output_type": "stream",
     "text": [
      "\r",
      "Finding valid work IDs:  73%|███████▎  | 146/200 [33:56<16:13, 18.03s/ID, Latest ID: 121205756]"
     ]
    },
    {
     "name": "stderr",
     "output_type": "stream",
     "text": [
      "\r",
      "Finding valid work IDs:  74%|███████▎  | 147/200 [34:04<13:16, 15.04s/ID, Latest ID: 121205756]"
     ]
    },
    {
     "name": "stderr",
     "output_type": "stream",
     "text": [
      "\r",
      "Finding valid work IDs:  74%|███████▎  | 147/200 [34:04<13:16, 15.04s/ID, Latest ID: 121205757]"
     ]
    },
    {
     "name": "stderr",
     "output_type": "stream",
     "text": [
      "\r",
      "Finding valid work IDs:  74%|███████▍  | 148/200 [34:32<16:19, 18.83s/ID, Latest ID: 121205757]"
     ]
    },
    {
     "name": "stderr",
     "output_type": "stream",
     "text": [
      "\r",
      "Finding valid work IDs:  74%|███████▍  | 148/200 [34:32<16:19, 18.83s/ID, Latest ID: 121205759]"
     ]
    },
    {
     "name": "stderr",
     "output_type": "stream",
     "text": [
      "\r",
      "Finding valid work IDs:  74%|███████▍  | 149/200 [34:42<13:50, 16.29s/ID, Latest ID: 121205759]"
     ]
    },
    {
     "name": "stderr",
     "output_type": "stream",
     "text": [
      "\r",
      "Finding valid work IDs:  74%|███████▍  | 149/200 [34:42<13:50, 16.29s/ID, Latest ID: 121205760]"
     ]
    },
    {
     "name": "stderr",
     "output_type": "stream",
     "text": [
      "\r",
      "Finding valid work IDs:  75%|███████▌  | 150/200 [34:56<13:02, 15.65s/ID, Latest ID: 121205760]"
     ]
    },
    {
     "name": "stderr",
     "output_type": "stream",
     "text": [
      "\r",
      "Finding valid work IDs:  75%|███████▌  | 150/200 [34:56<13:02, 15.65s/ID, Latest ID: 121205761]"
     ]
    },
    {
     "name": "stderr",
     "output_type": "stream",
     "text": [
      "\r",
      "Finding valid work IDs:  76%|███████▌  | 151/200 [35:04<10:54, 13.36s/ID, Latest ID: 121205761]"
     ]
    },
    {
     "name": "stderr",
     "output_type": "stream",
     "text": [
      "\r",
      "Finding valid work IDs:  76%|███████▌  | 151/200 [35:04<10:54, 13.36s/ID, Latest ID: 121205762]"
     ]
    },
    {
     "name": "stderr",
     "output_type": "stream",
     "text": [
      "\r",
      "Finding valid work IDs:  76%|███████▌  | 152/200 [35:09<08:45, 10.94s/ID, Latest ID: 121205762]"
     ]
    },
    {
     "name": "stderr",
     "output_type": "stream",
     "text": [
      "\r",
      "Finding valid work IDs:  76%|███████▌  | 152/200 [35:09<08:45, 10.94s/ID, Latest ID: 121205763]"
     ]
    },
    {
     "name": "stderr",
     "output_type": "stream",
     "text": [
      "\r",
      "Finding valid work IDs:  76%|███████▋  | 153/200 [35:22<09:02, 11.54s/ID, Latest ID: 121205763]"
     ]
    },
    {
     "name": "stderr",
     "output_type": "stream",
     "text": [
      "\r",
      "Finding valid work IDs:  76%|███████▋  | 153/200 [35:22<09:02, 11.54s/ID, Latest ID: 121205764]"
     ]
    },
    {
     "name": "stderr",
     "output_type": "stream",
     "text": [
      "\r",
      "Finding valid work IDs:  77%|███████▋  | 154/200 [35:30<07:55, 10.34s/ID, Latest ID: 121205764]"
     ]
    },
    {
     "name": "stderr",
     "output_type": "stream",
     "text": [
      "\r",
      "Finding valid work IDs:  77%|███████▋  | 154/200 [35:30<07:55, 10.34s/ID, Latest ID: 121205765]"
     ]
    },
    {
     "name": "stderr",
     "output_type": "stream",
     "text": [
      "\r",
      "Finding valid work IDs:  78%|███████▊  | 155/200 [35:44<08:32, 11.38s/ID, Latest ID: 121205765]"
     ]
    },
    {
     "name": "stderr",
     "output_type": "stream",
     "text": [
      "\r",
      "Finding valid work IDs:  78%|███████▊  | 155/200 [35:44<08:32, 11.38s/ID, Latest ID: 121205766]"
     ]
    },
    {
     "name": "stderr",
     "output_type": "stream",
     "text": [
      "\r",
      "Finding valid work IDs:  78%|███████▊  | 156/200 [36:09<11:22, 15.51s/ID, Latest ID: 121205766]"
     ]
    },
    {
     "name": "stderr",
     "output_type": "stream",
     "text": [
      "\r",
      "Finding valid work IDs:  78%|███████▊  | 156/200 [36:09<11:22, 15.51s/ID, Latest ID: 121205768]"
     ]
    },
    {
     "name": "stderr",
     "output_type": "stream",
     "text": [
      "\r",
      "Finding valid work IDs:  78%|███████▊  | 157/200 [36:15<09:09, 12.78s/ID, Latest ID: 121205768]"
     ]
    },
    {
     "name": "stderr",
     "output_type": "stream",
     "text": [
      "\r",
      "Finding valid work IDs:  78%|███████▊  | 157/200 [36:15<09:09, 12.78s/ID, Latest ID: 121205769]"
     ]
    },
    {
     "name": "stderr",
     "output_type": "stream",
     "text": [
      "\r",
      "Finding valid work IDs:  79%|███████▉  | 158/200 [36:37<10:49, 15.48s/ID, Latest ID: 121205769]"
     ]
    },
    {
     "name": "stderr",
     "output_type": "stream",
     "text": [
      "\r",
      "Finding valid work IDs:  79%|███████▉  | 158/200 [36:37<10:49, 15.48s/ID, Latest ID: 121205771]"
     ]
    },
    {
     "name": "stderr",
     "output_type": "stream",
     "text": [
      "\r",
      "Finding valid work IDs:  80%|███████▉  | 159/200 [36:51<10:13, 14.97s/ID, Latest ID: 121205771]"
     ]
    },
    {
     "name": "stderr",
     "output_type": "stream",
     "text": [
      "\r",
      "Finding valid work IDs:  80%|███████▉  | 159/200 [36:51<10:13, 14.97s/ID, Latest ID: 121205772]"
     ]
    },
    {
     "name": "stderr",
     "output_type": "stream",
     "text": [
      "\r",
      "Finding valid work IDs:  80%|████████  | 160/200 [37:05<09:55, 14.89s/ID, Latest ID: 121205772]"
     ]
    },
    {
     "name": "stderr",
     "output_type": "stream",
     "text": [
      "\r",
      "Finding valid work IDs:  80%|████████  | 160/200 [37:05<09:55, 14.89s/ID, Latest ID: 121205773]"
     ]
    },
    {
     "name": "stderr",
     "output_type": "stream",
     "text": [
      "\r",
      "Finding valid work IDs:  80%|████████  | 161/200 [37:33<12:13, 18.80s/ID, Latest ID: 121205773]"
     ]
    },
    {
     "name": "stderr",
     "output_type": "stream",
     "text": [
      "\r",
      "Finding valid work IDs:  80%|████████  | 161/200 [37:33<12:13, 18.80s/ID, Latest ID: 121205775]"
     ]
    },
    {
     "name": "stderr",
     "output_type": "stream",
     "text": [
      "\r",
      "Finding valid work IDs:  81%|████████  | 162/200 [37:56<12:37, 19.94s/ID, Latest ID: 121205775]"
     ]
    },
    {
     "name": "stderr",
     "output_type": "stream",
     "text": [
      "\r",
      "Finding valid work IDs:  81%|████████  | 162/200 [37:56<12:37, 19.94s/ID, Latest ID: 121205777]"
     ]
    },
    {
     "name": "stderr",
     "output_type": "stream",
     "text": [
      "\r",
      "Finding valid work IDs:  82%|████████▏ | 163/200 [38:05<10:12, 16.57s/ID, Latest ID: 121205777]"
     ]
    },
    {
     "name": "stderr",
     "output_type": "stream",
     "text": [
      "\r",
      "Finding valid work IDs:  82%|████████▏ | 163/200 [38:05<10:12, 16.57s/ID, Latest ID: 121205778]"
     ]
    },
    {
     "name": "stderr",
     "output_type": "stream",
     "text": [
      "\r",
      "Finding valid work IDs:  82%|████████▏ | 164/200 [38:14<08:40, 14.45s/ID, Latest ID: 121205778]"
     ]
    },
    {
     "name": "stderr",
     "output_type": "stream",
     "text": [
      "\r",
      "Finding valid work IDs:  82%|████████▏ | 164/200 [38:14<08:40, 14.45s/ID, Latest ID: 121205779]"
     ]
    },
    {
     "name": "stderr",
     "output_type": "stream",
     "text": [
      "\r",
      "Finding valid work IDs:  82%|████████▎ | 165/200 [38:23<07:23, 12.67s/ID, Latest ID: 121205779]"
     ]
    },
    {
     "name": "stderr",
     "output_type": "stream",
     "text": [
      "\r",
      "Finding valid work IDs:  82%|████████▎ | 165/200 [38:23<07:23, 12.67s/ID, Latest ID: 121205780]"
     ]
    },
    {
     "name": "stderr",
     "output_type": "stream",
     "text": [
      "\r",
      "Finding valid work IDs:  83%|████████▎ | 166/200 [38:52<10:01, 17.71s/ID, Latest ID: 121205780]"
     ]
    },
    {
     "name": "stderr",
     "output_type": "stream",
     "text": [
      "\r",
      "Finding valid work IDs:  83%|████████▎ | 166/200 [38:52<10:01, 17.71s/ID, Latest ID: 121205782]"
     ]
    },
    {
     "name": "stderr",
     "output_type": "stream",
     "text": [
      "\r",
      "Finding valid work IDs:  84%|████████▎ | 167/200 [39:04<08:43, 15.85s/ID, Latest ID: 121205782]"
     ]
    },
    {
     "name": "stderr",
     "output_type": "stream",
     "text": [
      "\r",
      "Finding valid work IDs:  84%|████████▎ | 167/200 [39:04<08:43, 15.85s/ID, Latest ID: 121205783]"
     ]
    },
    {
     "name": "stderr",
     "output_type": "stream",
     "text": [
      "\r",
      "Finding valid work IDs:  84%|████████▍ | 168/200 [39:18<08:15, 15.48s/ID, Latest ID: 121205783]"
     ]
    },
    {
     "name": "stderr",
     "output_type": "stream",
     "text": [
      "\r",
      "Finding valid work IDs:  84%|████████▍ | 168/200 [39:18<08:15, 15.48s/ID, Latest ID: 121205784]"
     ]
    },
    {
     "name": "stderr",
     "output_type": "stream",
     "text": [
      "\r",
      "Finding valid work IDs:  84%|████████▍ | 169/200 [39:26<06:50, 13.23s/ID, Latest ID: 121205784]"
     ]
    },
    {
     "name": "stderr",
     "output_type": "stream",
     "text": [
      "\r",
      "Finding valid work IDs:  84%|████████▍ | 169/200 [39:26<06:50, 13.23s/ID, Latest ID: 121205785]"
     ]
    },
    {
     "name": "stderr",
     "output_type": "stream",
     "text": [
      "\r",
      "Finding valid work IDs:  85%|████████▌ | 170/200 [39:40<06:42, 13.40s/ID, Latest ID: 121205785]"
     ]
    },
    {
     "name": "stderr",
     "output_type": "stream",
     "text": [
      "\r",
      "Finding valid work IDs:  85%|████████▌ | 170/200 [39:40<06:42, 13.40s/ID, Latest ID: 121205786]"
     ]
    },
    {
     "name": "stderr",
     "output_type": "stream",
     "text": [
      "\r",
      "Finding valid work IDs:  86%|████████▌ | 171/200 [40:00<07:28, 15.45s/ID, Latest ID: 121205786]"
     ]
    },
    {
     "name": "stderr",
     "output_type": "stream",
     "text": [
      "\r",
      "Finding valid work IDs:  86%|████████▌ | 171/200 [40:00<07:28, 15.45s/ID, Latest ID: 121205788]"
     ]
    },
    {
     "name": "stderr",
     "output_type": "stream",
     "text": [
      "\r",
      "Finding valid work IDs:  86%|████████▌ | 172/200 [40:08<06:09, 13.20s/ID, Latest ID: 121205788]"
     ]
    },
    {
     "name": "stderr",
     "output_type": "stream",
     "text": [
      "\r",
      "Finding valid work IDs:  86%|████████▌ | 172/200 [40:08<06:09, 13.20s/ID, Latest ID: 121205789]"
     ]
    },
    {
     "name": "stderr",
     "output_type": "stream",
     "text": [
      "\r",
      "Finding valid work IDs:  86%|████████▋ | 173/200 [40:17<05:21, 11.90s/ID, Latest ID: 121205789]"
     ]
    },
    {
     "name": "stderr",
     "output_type": "stream",
     "text": [
      "\r",
      "Finding valid work IDs:  86%|████████▋ | 173/200 [40:17<05:21, 11.90s/ID, Latest ID: 121205790]"
     ]
    },
    {
     "name": "stderr",
     "output_type": "stream",
     "text": [
      "\r",
      "Finding valid work IDs:  87%|████████▋ | 174/200 [40:38<06:21, 14.68s/ID, Latest ID: 121205790]"
     ]
    },
    {
     "name": "stderr",
     "output_type": "stream",
     "text": [
      "\r",
      "Finding valid work IDs:  87%|████████▋ | 174/200 [40:38<06:21, 14.68s/ID, Latest ID: 121205792]"
     ]
    },
    {
     "name": "stderr",
     "output_type": "stream",
     "text": [
      "\r",
      "Finding valid work IDs:  88%|████████▊ | 175/200 [40:45<05:04, 12.20s/ID, Latest ID: 121205792]"
     ]
    },
    {
     "name": "stderr",
     "output_type": "stream",
     "text": [
      "\r",
      "Finding valid work IDs:  88%|████████▊ | 175/200 [40:45<05:04, 12.20s/ID, Latest ID: 121205793]"
     ]
    },
    {
     "name": "stderr",
     "output_type": "stream",
     "text": [
      "\r",
      "Finding valid work IDs:  88%|████████▊ | 176/200 [40:52<04:16, 10.68s/ID, Latest ID: 121205793]"
     ]
    },
    {
     "name": "stderr",
     "output_type": "stream",
     "text": [
      "\r",
      "Finding valid work IDs:  88%|████████▊ | 176/200 [40:52<04:16, 10.68s/ID, Latest ID: 121205794]"
     ]
    },
    {
     "name": "stderr",
     "output_type": "stream",
     "text": [
      "\r",
      "Finding valid work IDs:  88%|████████▊ | 177/200 [41:02<04:04, 10.63s/ID, Latest ID: 121205794]"
     ]
    },
    {
     "name": "stderr",
     "output_type": "stream",
     "text": [
      "\r",
      "Finding valid work IDs:  88%|████████▊ | 177/200 [41:02<04:04, 10.63s/ID, Latest ID: 121205795]"
     ]
    },
    {
     "name": "stderr",
     "output_type": "stream",
     "text": [
      "\r",
      "Finding valid work IDs:  89%|████████▉ | 178/200 [41:17<04:19, 11.80s/ID, Latest ID: 121205795]"
     ]
    },
    {
     "name": "stderr",
     "output_type": "stream",
     "text": [
      "\r",
      "Finding valid work IDs:  89%|████████▉ | 178/200 [41:17<04:19, 11.80s/ID, Latest ID: 121205796]"
     ]
    },
    {
     "name": "stderr",
     "output_type": "stream",
     "text": [
      "\r",
      "Finding valid work IDs:  90%|████████▉ | 179/200 [41:39<05:10, 14.77s/ID, Latest ID: 121205796]"
     ]
    },
    {
     "name": "stderr",
     "output_type": "stream",
     "text": [
      "\r",
      "Finding valid work IDs:  90%|████████▉ | 179/200 [41:39<05:10, 14.77s/ID, Latest ID: 121205798]"
     ]
    },
    {
     "name": "stderr",
     "output_type": "stream",
     "text": [
      "\r",
      "Finding valid work IDs:  90%|█████████ | 180/200 [41:46<04:14, 12.72s/ID, Latest ID: 121205798]"
     ]
    },
    {
     "name": "stderr",
     "output_type": "stream",
     "text": [
      "\r",
      "Finding valid work IDs:  90%|█████████ | 180/200 [41:46<04:14, 12.72s/ID, Latest ID: 121205799]"
     ]
    },
    {
     "name": "stderr",
     "output_type": "stream",
     "text": [
      "\r",
      "Finding valid work IDs:  90%|█████████ | 181/200 [41:55<03:36, 11.39s/ID, Latest ID: 121205799]"
     ]
    },
    {
     "name": "stderr",
     "output_type": "stream",
     "text": [
      "\r",
      "Finding valid work IDs:  90%|█████████ | 181/200 [41:55<03:36, 11.39s/ID, Latest ID: 121205800]"
     ]
    },
    {
     "name": "stderr",
     "output_type": "stream",
     "text": [
      "\r",
      "Finding valid work IDs:  91%|█████████ | 182/200 [42:04<03:11, 10.66s/ID, Latest ID: 121205800]"
     ]
    },
    {
     "name": "stderr",
     "output_type": "stream",
     "text": [
      "\r",
      "Finding valid work IDs:  91%|█████████ | 182/200 [42:04<03:11, 10.66s/ID, Latest ID: 121205801]"
     ]
    },
    {
     "name": "stderr",
     "output_type": "stream",
     "text": [
      "\r",
      "Finding valid work IDs:  92%|█████████▏| 183/200 [42:31<04:26, 15.70s/ID, Latest ID: 121205801]"
     ]
    },
    {
     "name": "stderr",
     "output_type": "stream",
     "text": [
      "\r",
      "Finding valid work IDs:  92%|█████████▏| 183/200 [42:31<04:26, 15.70s/ID, Latest ID: 121205804]"
     ]
    },
    {
     "name": "stderr",
     "output_type": "stream",
     "text": [
      "\r",
      "Finding valid work IDs:  92%|█████████▏| 184/200 [42:40<03:38, 13.68s/ID, Latest ID: 121205804]"
     ]
    },
    {
     "name": "stderr",
     "output_type": "stream",
     "text": [
      "\r",
      "Finding valid work IDs:  92%|█████████▏| 184/200 [42:40<03:38, 13.68s/ID, Latest ID: 121205805]"
     ]
    },
    {
     "name": "stderr",
     "output_type": "stream",
     "text": [
      "\r",
      "Finding valid work IDs:  92%|█████████▎| 185/200 [43:11<04:40, 18.68s/ID, Latest ID: 121205805]"
     ]
    },
    {
     "name": "stderr",
     "output_type": "stream",
     "text": [
      "\r",
      "Finding valid work IDs:  92%|█████████▎| 185/200 [43:11<04:40, 18.68s/ID, Latest ID: 121205808]"
     ]
    },
    {
     "name": "stderr",
     "output_type": "stream",
     "text": [
      "\r",
      "Finding valid work IDs:  93%|█████████▎| 186/200 [43:18<03:33, 15.26s/ID, Latest ID: 121205808]"
     ]
    },
    {
     "name": "stderr",
     "output_type": "stream",
     "text": [
      "\r",
      "Finding valid work IDs:  93%|█████████▎| 186/200 [43:18<03:33, 15.26s/ID, Latest ID: 121205809]"
     ]
    },
    {
     "name": "stderr",
     "output_type": "stream",
     "text": [
      "\r",
      "Finding valid work IDs:  94%|█████████▎| 187/200 [43:26<02:52, 13.24s/ID, Latest ID: 121205809]"
     ]
    },
    {
     "name": "stderr",
     "output_type": "stream",
     "text": [
      "\r",
      "Finding valid work IDs:  94%|█████████▎| 187/200 [43:26<02:52, 13.24s/ID, Latest ID: 121205810]"
     ]
    },
    {
     "name": "stderr",
     "output_type": "stream",
     "text": [
      "\r",
      "Finding valid work IDs:  94%|█████████▍| 188/200 [43:42<02:47, 13.99s/ID, Latest ID: 121205810]"
     ]
    },
    {
     "name": "stderr",
     "output_type": "stream",
     "text": [
      "\r",
      "Finding valid work IDs:  94%|█████████▍| 188/200 [43:42<02:47, 13.99s/ID, Latest ID: 121205812]"
     ]
    },
    {
     "name": "stderr",
     "output_type": "stream",
     "text": [
      "\r",
      "Finding valid work IDs:  94%|█████████▍| 189/200 [43:49<02:09, 11.74s/ID, Latest ID: 121205812]"
     ]
    },
    {
     "name": "stderr",
     "output_type": "stream",
     "text": [
      "\r",
      "Finding valid work IDs:  94%|█████████▍| 189/200 [43:49<02:09, 11.74s/ID, Latest ID: 121205813]"
     ]
    },
    {
     "name": "stderr",
     "output_type": "stream",
     "text": [
      "\r",
      "Finding valid work IDs:  95%|█████████▌| 190/200 [44:13<02:36, 15.64s/ID, Latest ID: 121205813]"
     ]
    },
    {
     "name": "stderr",
     "output_type": "stream",
     "text": [
      "\r",
      "Finding valid work IDs:  95%|█████████▌| 190/200 [44:13<02:36, 15.64s/ID, Latest ID: 121205815]"
     ]
    },
    {
     "name": "stderr",
     "output_type": "stream",
     "text": [
      "\r",
      "Finding valid work IDs:  96%|█████████▌| 191/200 [44:22<02:02, 13.58s/ID, Latest ID: 121205815]"
     ]
    },
    {
     "name": "stderr",
     "output_type": "stream",
     "text": [
      "\r",
      "Finding valid work IDs:  96%|█████████▌| 191/200 [44:22<02:02, 13.58s/ID, Latest ID: 121205816]"
     ]
    },
    {
     "name": "stderr",
     "output_type": "stream",
     "text": [
      "\r",
      "Finding valid work IDs:  96%|█████████▌| 192/200 [44:36<01:50, 13.78s/ID, Latest ID: 121205816]"
     ]
    },
    {
     "name": "stderr",
     "output_type": "stream",
     "text": [
      "\r",
      "Finding valid work IDs:  96%|█████████▌| 192/200 [44:36<01:50, 13.78s/ID, Latest ID: 121205817]"
     ]
    },
    {
     "name": "stderr",
     "output_type": "stream",
     "text": [
      "\r",
      "Finding valid work IDs:  96%|█████████▋| 193/200 [45:00<01:56, 16.71s/ID, Latest ID: 121205817]"
     ]
    },
    {
     "name": "stderr",
     "output_type": "stream",
     "text": [
      "\r",
      "Finding valid work IDs:  96%|█████████▋| 193/200 [45:00<01:56, 16.71s/ID, Latest ID: 121205819]"
     ]
    },
    {
     "name": "stderr",
     "output_type": "stream",
     "text": [
      "\r",
      "Finding valid work IDs:  97%|█████████▋| 194/200 [45:11<01:29, 14.97s/ID, Latest ID: 121205819]"
     ]
    },
    {
     "name": "stderr",
     "output_type": "stream",
     "text": [
      "\r",
      "Finding valid work IDs:  97%|█████████▋| 194/200 [45:11<01:29, 14.97s/ID, Latest ID: 121205820]"
     ]
    },
    {
     "name": "stderr",
     "output_type": "stream",
     "text": [
      "\r",
      "Finding valid work IDs:  98%|█████████▊| 195/200 [45:17<01:01, 12.24s/ID, Latest ID: 121205820]"
     ]
    },
    {
     "name": "stderr",
     "output_type": "stream",
     "text": [
      "\r",
      "Finding valid work IDs:  98%|█████████▊| 195/200 [45:17<01:01, 12.24s/ID, Latest ID: 121205821]"
     ]
    },
    {
     "name": "stderr",
     "output_type": "stream",
     "text": [
      "\r",
      "Finding valid work IDs:  98%|█████████▊| 196/200 [45:22<00:41, 10.26s/ID, Latest ID: 121205821]"
     ]
    },
    {
     "name": "stderr",
     "output_type": "stream",
     "text": [
      "\r",
      "Finding valid work IDs:  98%|█████████▊| 196/200 [45:22<00:41, 10.26s/ID, Latest ID: 121205822]"
     ]
    },
    {
     "name": "stderr",
     "output_type": "stream",
     "text": [
      "\r",
      "Finding valid work IDs:  98%|█████████▊| 197/200 [45:35<00:33, 11.00s/ID, Latest ID: 121205822]"
     ]
    },
    {
     "name": "stderr",
     "output_type": "stream",
     "text": [
      "\r",
      "Finding valid work IDs:  98%|█████████▊| 197/200 [45:35<00:33, 11.00s/ID, Latest ID: 121205823]"
     ]
    },
    {
     "name": "stderr",
     "output_type": "stream",
     "text": [
      "\r",
      "Finding valid work IDs:  99%|█████████▉| 198/200 [45:46<00:21, 10.97s/ID, Latest ID: 121205823]"
     ]
    },
    {
     "name": "stderr",
     "output_type": "stream",
     "text": [
      "\r",
      "Finding valid work IDs:  99%|█████████▉| 198/200 [45:46<00:21, 10.97s/ID, Latest ID: 121205824]"
     ]
    },
    {
     "name": "stderr",
     "output_type": "stream",
     "text": [
      "\r",
      "Finding valid work IDs: 100%|█████████▉| 199/200 [45:58<00:11, 11.41s/ID, Latest ID: 121205824]"
     ]
    },
    {
     "name": "stderr",
     "output_type": "stream",
     "text": [
      "\r",
      "Finding valid work IDs: 100%|█████████▉| 199/200 [45:58<00:11, 11.41s/ID, Latest ID: 121205825]"
     ]
    },
    {
     "name": "stderr",
     "output_type": "stream",
     "text": [
      "\r",
      "Finding valid work IDs: 100%|██████████| 200/200 [46:04<00:00,  9.59s/ID, Latest ID: 121205825]"
     ]
    },
    {
     "name": "stderr",
     "output_type": "stream",
     "text": [
      "\r",
      "Finding valid work IDs: 100%|██████████| 200/200 [46:04<00:00,  9.59s/ID, Latest ID: 121205826]"
     ]
    },
    {
     "name": "stderr",
     "output_type": "stream",
     "text": [
      "\r",
      "Finding valid work IDs: 100%|██████████| 200/200 [46:04<00:00, 13.82s/ID, Latest ID: 121205826]"
     ]
    },
    {
     "name": "stdout",
     "output_type": "stream",
     "text": [
      "\n",
      "Successfully found 50 valid work IDs.\n",
      "Valid work IDs: [121205565, 121205566, 121205567, 121205568, 121205569, 121205572, 121205574, 121205575, 121205576, 121205577, 121205578, 121205579, 121205581, 121205582, 121205583, 121205584, 121205585, 121205587, 121205588, 121205589, 121205590, 121205591, 121205592, 121205593, 121205594, 121205596, 121205598, 121205599, 121205600, 121205604, 121205607, 121205609, 121205610, 121205612, 121205613, 121205614, 121205615, 121205616, 121205618, 121205619, 121205621, 121205622, 121205623, 121205624, 121205625, 121205626, 121205628, 121205629, 121205630, 121205631, 121205633, 121205634, 121205635, 121205636, 121205637, 121205639, 121205640, 121205641, 121205642, 121205643, 121205644, 121205645, 121205647, 121205648, 121205652, 121205653, 121205654, 121205655, 121205656, 121205658, 121205659, 121205660, 121205661, 121205664, 121205665, 121205666, 121205667, 121205668, 121205669, 121205671, 121205672, 121205675, 121205676, 121205677, 121205679, 121205680, 121205681, 121205682, 121205684, 121205685, 121205689, 121205690, 121205691, 121205692, 121205693, 121205694, 121205695, 121205696, 121205697, 121205698, 121205699, 121205700, 121205701, 121205703, 121205704, 121205705, 121205706, 121205708, 121205709, 121205710, 121205711, 121205712, 121205713, 121205714, 121205715, 121205716, 121205717, 121205718, 121205719, 121205720, 121205721, 121205723, 121205724, 121205725, 121205726, 121205727, 121205728, 121205730, 121205731, 121205732, 121205733, 121205734, 121205736, 121205737, 121205738, 121205739, 121205743, 121205745, 121205746, 121205747, 121205748, 121205750, 121205751, 121205753, 121205754, 121205756, 121205757, 121205759, 121205760, 121205761, 121205762, 121205763, 121205764, 121205765, 121205766, 121205768, 121205769, 121205771, 121205772, 121205773, 121205775, 121205777, 121205778, 121205779, 121205780, 121205782, 121205783, 121205784, 121205785, 121205786, 121205788, 121205789, 121205790, 121205792, 121205793, 121205794, 121205795, 121205796, 121205798, 121205799, 121205800, 121205801, 121205804, 121205805, 121205808, 121205809, 121205810, 121205812, 121205813, 121205815, 121205816, 121205817, 121205819, 121205820, 121205821, 121205822, 121205823, 121205824, 121205825, 121205826]\n"
     ]
    },
    {
     "name": "stderr",
     "output_type": "stream",
     "text": [
      "\n"
     ]
    }
   ],
   "source": [
    "import requests\n",
    "import random\n",
    "import time\n",
    "from tqdm import tqdm\n",
    "\n",
    "def check_pixiv_work_ids(start_id, max_attempts=1000):\n",
    "    valid_ids = []\n",
    "    \n",
    "    # 創建tqdm進度條\n",
    "    with tqdm(total=200, desc=\"Finding valid work IDs\", unit=\"ID\") as pbar:\n",
    "        for attempt in range(max_attempts):\n",
    "            work_id = start_id + attempt\n",
    "            url = f\"https://www.pixiv.net/artworks/{work_id}\"\n",
    "            \n",
    "            try:\n",
    "                #proxy = get_random_proxy()\n",
    "                response = requests.head(url)\n",
    "                if response.status_code == 200:\n",
    "                    valid_ids.append(work_id)\n",
    "                    pbar.update(1)  # 更新進度條\n",
    "                    pbar.set_postfix_str(f\"Latest ID: {work_id}\")  # 顯示最新找到的ID\n",
    "                \n",
    "                if len(valid_ids) == 200:\n",
    "                    break\n",
    "                \n",
    "                # 添加延遲以避免過於頻繁的請求\n",
    "                delay = random.uniform(5, 15)  # 5到15秒的隨機延遲\n",
    "                time.sleep(delay)\n",
    "            \n",
    "            except requests.RequestException as e:\n",
    "                tqdm.write(f\"Error checking work ID {work_id}: {e}\")\n",
    "    \n",
    "    if len(valid_ids) == 200:\n",
    "        print(\"\\nSuccessfully found 50 valid work IDs.\")\n",
    "    else:\n",
    "        print(f\"\\nReached maximum attempts. Found {len(valid_ids)} valid work IDs.\")\n",
    "    \n",
    "    return valid_ids\n",
    "\n",
    "# 使用函數\n",
    "#start_id = 121188700  # 隨機選擇起始ID\n",
    "print(f\"Starting search from ID: {start_id}\")\n",
    "result = check_pixiv_work_ids(start_id)\n",
    "print(\"Valid work IDs:\", result)"
   ]
  },
  {
   "cell_type": "code",
   "execution_count": 3,
   "id": "93a673e5-8c78-46cf-878e-b0312b5eb234",
   "metadata": {
    "execution": {
     "iopub.execute_input": "2024-10-20T06:59:04.368962Z",
     "iopub.status.busy": "2024-10-20T06:59:04.368611Z",
     "iopub.status.idle": "2024-10-20T06:59:04.428180Z",
     "shell.execute_reply": "2024-10-20T06:59:04.427625Z"
    }
   },
   "outputs": [],
   "source": [
    "import requests\n",
    "from bs4 import BeautifulSoup\n",
    "import os\n",
    "\n",
    "def save_webpage_as_single_file(url, filename):\n",
    "    try:\n",
    "        # 发送 GET 请求获取网页内容\n",
    "        response = requests.get(url)\n",
    "        response.raise_for_status()  # 检查请求是否成功\n",
    "        #time.sleep(np.random.randint(3,7))\n",
    "\n",
    "        # 解析网页内容\n",
    "        soup = BeautifulSoup(response.text, 'html.parser')\n",
    "\n",
    "        # 获取网页的标题\n",
    "        title = soup.title.string if soup.title else 'webpage'\n",
    "        \n",
    "        # 创建 .mhtml 文件内容\n",
    "        mhtml_content = f\"<!DOCTYPE html>\\n<html>\\n<head>\\n<title>{title}</title>\\n</head>\\n<body>\\n\"\n",
    "        mhtml_content += str(soup)  # 添加网页内容\n",
    "        mhtml_content += \"\\n</body>\\n</html>\"\n",
    "\n",
    "        # 保存为 .mhtml 文件\n",
    "        with open(filename, 'w', encoding='utf-8') as file:\n",
    "            file.write(mhtml_content)\n",
    "\n",
    "        print(f\"网页内容已成功保存为 {filename}\")\n",
    "    except requests.exceptions.RequestException as e:\n",
    "        print(f\"请求失败: {e}\")\n",
    "        pass\n",
    "    except Exception as e:\n",
    "        print(f\"保存文件时出错: {e}\")\n",
    "\n",
    "# 输入 URL 和文件名\n",
    "\n",
    "\n"
   ]
  },
  {
   "cell_type": "code",
   "execution_count": 4,
   "id": "f0078b3f-3262-4e94-857f-53a9e79bac74",
   "metadata": {
    "execution": {
     "iopub.execute_input": "2024-10-20T06:59:04.430009Z",
     "iopub.status.busy": "2024-10-20T06:59:04.429823Z",
     "iopub.status.idle": "2024-10-20T06:59:04.436370Z",
     "shell.execute_reply": "2024-10-20T06:59:04.435915Z"
    }
   },
   "outputs": [],
   "source": [
    "import os\n",
    "import sqlite3\n",
    "import re\n",
    "\n",
    "# 提取信息的函数\n",
    "def extract_info_from_mhtml(mhtml_file,work_ID):\n",
    "    with open(mhtml_file, 'r', encoding='utf-8') as file:\n",
    "        content = file.read()\n",
    "    \n",
    "    # 使用 BeautifulSoup 解析 HTML 内容\n",
    "    soup = BeautifulSoup(content, 'html.parser')\n",
    "\n",
    "    # 提取 <title> 标签的内容\n",
    "    title = soup.title.string if soup.title else '无标题'\n",
    "    \n",
    "     # 使用正则表达式提取多个 \"tag\"\n",
    "    tag_pattern = re.findall(r'\"tag\"\\s*:\\s*\"([^\"]+)\"', content)\n",
    "    \n",
    "    # 使用正则表达式提取 \"likeCount\", \"bookmarkCount\", \"viewCount\"\n",
    "    like_count_pattern = re.search(r'\"likeCount\"\\s*:\\s*(\\d+)', content)\n",
    "    bookmark_count_pattern = re.search(r'\"bookmarkCount\"\\s*:\\s*(\\d+)', content)\n",
    "    view_count_pattern = re.search(r'\"viewCount\"\\s*:\\s*(\\d+)', content)\n",
    "    image_pattern = re.search(r'\"regular\"\\s*:\\s*\"([^\"]+)\"', content)\n",
    "\n",
    "    # 获取正则表达式的匹配结果\n",
    "    tags = tag_pattern if tag_pattern else ['无标签']\n",
    "    like_count = like_count_pattern.group(1) if like_count_pattern else '无点赞数'\n",
    "    bookmark_count = bookmark_count_pattern.group(1) if bookmark_count_pattern else '无收藏数'\n",
    "    view_count = view_count_pattern.group(1) if view_count_pattern else '无浏览数'\n",
    "    image_count = image_pattern.group(1) if image_pattern else '無影像連結'\n",
    "    return {\n",
    "        'work_ID': str(work_ID),\n",
    "        'title': title.split(' - ')[0],  # 清理标题内容\n",
    "        'tags': ', '.join(tags),  # 标签列表转为字符串\n",
    "        'like_count': like_count,\n",
    "        'bookmark_count': bookmark_count,\n",
    "        'view_count': view_count,\n",
    "        'image url': image_count\n",
    "        \n",
    "    }\n",
    "\n",
    "\n",
    "\n",
    "# 将数据追加到 SQLite 数据库的函数\n",
    "def append_to_sqlite(info, db_filename='web_info.db'):\n",
    "    # 连接 SQLite 数据库（如果文件不存在，会自动创建）\n",
    "    conn = sqlite3.connect(db_filename)\n",
    "    cursor = conn.cursor()\n",
    "\n",
    "    # 创建表格（如果不存在）\n",
    "    cursor.execute('''\n",
    "        CREATE TABLE IF NOT EXISTS web_info (\n",
    "            work_ID TEXT PRIMARY KEY,\n",
    "            title TEXT,\n",
    "            tags TEXT,\n",
    "            like_count INTEGER,\n",
    "            bookmark_count INTEGER,\n",
    "            view_count INTEGER,\n",
    "            image_url TEXT\n",
    "        )\n",
    "    ''')\n",
    "\n",
    "    # 插入数据，如果 work_ID 已存在则忽略插入\n",
    "    cursor.execute('''\n",
    "        INSERT OR REPLACE INTO web_info (work_ID, title, tags, like_count, bookmark_count, view_count, image_url)\n",
    "        VALUES (?, ?, ?, ?, ?, ?, ?)\n",
    "    ''', (\n",
    "        info['work_ID'],\n",
    "        info['title'],\n",
    "        info['tags'],\n",
    "        int(info['like_count']),\n",
    "        int(info['bookmark_count']),\n",
    "        int(info['view_count']),\n",
    "        info['image url']\n",
    "    ))\n",
    "\n",
    "    # 提交更改并关闭连接\n",
    "    conn.commit()\n",
    "    conn.close()\n",
    "\n",
    "\n",
    "\n"
   ]
  },
  {
   "cell_type": "code",
   "execution_count": 5,
   "id": "16847b22-1171-48b2-96de-df37fcdbced2",
   "metadata": {
    "execution": {
     "iopub.execute_input": "2024-10-20T06:59:04.438275Z",
     "iopub.status.busy": "2024-10-20T06:59:04.437816Z",
     "iopub.status.idle": "2024-10-20T09:25:20.294516Z",
     "shell.execute_reply": "2024-10-20T09:25:20.294011Z"
    }
   },
   "outputs": [
    {
     "name": "stdout",
     "output_type": "stream",
     "text": [
      "网页内容已成功保存为 121205565.mhtml\n",
      "新信息已成功追加到 web_info.db\n",
      "休息 36 秒鐘\n"
     ]
    },
    {
     "name": "stdout",
     "output_type": "stream",
     "text": [
      "网页内容已成功保存为 121205566.mhtml\n",
      "新信息已成功追加到 web_info.db\n",
      "休息 57 秒鐘\n"
     ]
    },
    {
     "name": "stdout",
     "output_type": "stream",
     "text": [
      "网页内容已成功保存为 121205567.mhtml\n",
      "新信息已成功追加到 web_info.db\n",
      "休息 40 秒鐘\n"
     ]
    },
    {
     "name": "stdout",
     "output_type": "stream",
     "text": [
      "网页内容已成功保存为 121205568.mhtml\n",
      "新信息已成功追加到 web_info.db\n",
      "休息 47 秒鐘\n"
     ]
    },
    {
     "name": "stdout",
     "output_type": "stream",
     "text": [
      "网页内容已成功保存为 121205569.mhtml\n",
      "新信息已成功追加到 web_info.db\n",
      "休息 40 秒鐘\n"
     ]
    },
    {
     "name": "stdout",
     "output_type": "stream",
     "text": [
      "网页内容已成功保存为 121205572.mhtml\n",
      "新信息已成功追加到 web_info.db\n",
      "休息 56 秒鐘\n"
     ]
    },
    {
     "name": "stdout",
     "output_type": "stream",
     "text": [
      "网页内容已成功保存为 121205574.mhtml\n",
      "新信息已成功追加到 web_info.db\n",
      "休息 53 秒鐘\n"
     ]
    },
    {
     "name": "stdout",
     "output_type": "stream",
     "text": [
      "网页内容已成功保存为 121205575.mhtml\n",
      "新信息已成功追加到 web_info.db\n",
      "休息 49 秒鐘\n"
     ]
    },
    {
     "name": "stdout",
     "output_type": "stream",
     "text": [
      "网页内容已成功保存为 121205576.mhtml\n",
      "新信息已成功追加到 web_info.db\n",
      "休息 59 秒鐘\n"
     ]
    },
    {
     "name": "stdout",
     "output_type": "stream",
     "text": [
      "网页内容已成功保存为 121205577.mhtml\n",
      "新信息已成功追加到 web_info.db\n",
      "休息 38 秒鐘\n"
     ]
    },
    {
     "name": "stdout",
     "output_type": "stream",
     "text": [
      "网页内容已成功保存为 121205578.mhtml\n",
      "新信息已成功追加到 web_info.db\n",
      "休息 56 秒鐘\n"
     ]
    },
    {
     "name": "stdout",
     "output_type": "stream",
     "text": [
      "网页内容已成功保存为 121205579.mhtml\n",
      "新信息已成功追加到 web_info.db\n",
      "休息 30 秒鐘\n"
     ]
    },
    {
     "name": "stdout",
     "output_type": "stream",
     "text": [
      "网页内容已成功保存为 121205581.mhtml\n",
      "新信息已成功追加到 web_info.db\n",
      "休息 47 秒鐘\n"
     ]
    },
    {
     "name": "stdout",
     "output_type": "stream",
     "text": [
      "网页内容已成功保存为 121205582.mhtml\n",
      "新信息已成功追加到 web_info.db\n",
      "休息 34 秒鐘\n"
     ]
    },
    {
     "name": "stdout",
     "output_type": "stream",
     "text": [
      "网页内容已成功保存为 121205583.mhtml\n",
      "新信息已成功追加到 web_info.db\n",
      "休息 38 秒鐘\n"
     ]
    },
    {
     "name": "stdout",
     "output_type": "stream",
     "text": [
      "网页内容已成功保存为 121205584.mhtml\n",
      "新信息已成功追加到 web_info.db\n",
      "休息 57 秒鐘\n"
     ]
    },
    {
     "name": "stdout",
     "output_type": "stream",
     "text": [
      "网页内容已成功保存为 121205585.mhtml\n",
      "新信息已成功追加到 web_info.db\n",
      "休息 41 秒鐘\n"
     ]
    },
    {
     "name": "stdout",
     "output_type": "stream",
     "text": [
      "网页内容已成功保存为 121205587.mhtml\n",
      "新信息已成功追加到 web_info.db\n",
      "休息 41 秒鐘\n"
     ]
    },
    {
     "name": "stdout",
     "output_type": "stream",
     "text": [
      "网页内容已成功保存为 121205588.mhtml\n",
      "新信息已成功追加到 web_info.db\n",
      "休息 52 秒鐘\n"
     ]
    },
    {
     "name": "stdout",
     "output_type": "stream",
     "text": [
      "网页内容已成功保存为 121205589.mhtml\n",
      "新信息已成功追加到 web_info.db\n",
      "休息 56 秒鐘\n"
     ]
    },
    {
     "name": "stdout",
     "output_type": "stream",
     "text": [
      "网页内容已成功保存为 121205590.mhtml\n",
      "新信息已成功追加到 web_info.db\n",
      "休息 38 秒鐘\n"
     ]
    },
    {
     "name": "stdout",
     "output_type": "stream",
     "text": [
      "网页内容已成功保存为 121205591.mhtml\n",
      "新信息已成功追加到 web_info.db\n",
      "休息 39 秒鐘\n"
     ]
    },
    {
     "name": "stdout",
     "output_type": "stream",
     "text": [
      "网页内容已成功保存为 121205592.mhtml\n",
      "新信息已成功追加到 web_info.db\n",
      "休息 51 秒鐘\n"
     ]
    },
    {
     "name": "stdout",
     "output_type": "stream",
     "text": [
      "网页内容已成功保存为 121205593.mhtml\n",
      "新信息已成功追加到 web_info.db\n",
      "休息 31 秒鐘\n"
     ]
    },
    {
     "name": "stdout",
     "output_type": "stream",
     "text": [
      "网页内容已成功保存为 121205594.mhtml\n",
      "新信息已成功追加到 web_info.db\n",
      "休息 35 秒鐘\n"
     ]
    },
    {
     "name": "stdout",
     "output_type": "stream",
     "text": [
      "网页内容已成功保存为 121205596.mhtml\n",
      "新信息已成功追加到 web_info.db\n",
      "休息 36 秒鐘\n"
     ]
    },
    {
     "name": "stdout",
     "output_type": "stream",
     "text": [
      "网页内容已成功保存为 121205598.mhtml\n",
      "新信息已成功追加到 web_info.db\n",
      "休息 50 秒鐘\n"
     ]
    },
    {
     "name": "stdout",
     "output_type": "stream",
     "text": [
      "网页内容已成功保存为 121205599.mhtml\n",
      "新信息已成功追加到 web_info.db\n",
      "休息 42 秒鐘\n"
     ]
    },
    {
     "name": "stdout",
     "output_type": "stream",
     "text": [
      "网页内容已成功保存为 121205600.mhtml\n",
      "新信息已成功追加到 web_info.db\n",
      "休息 39 秒鐘\n"
     ]
    },
    {
     "name": "stdout",
     "output_type": "stream",
     "text": [
      "网页内容已成功保存为 121205604.mhtml\n",
      "新信息已成功追加到 web_info.db\n",
      "休息 30 秒鐘\n"
     ]
    },
    {
     "name": "stdout",
     "output_type": "stream",
     "text": [
      "网页内容已成功保存为 121205607.mhtml\n",
      "新信息已成功追加到 web_info.db\n",
      "休息 45 秒鐘\n"
     ]
    },
    {
     "name": "stdout",
     "output_type": "stream",
     "text": [
      "网页内容已成功保存为 121205609.mhtml\n",
      "新信息已成功追加到 web_info.db\n",
      "休息 41 秒鐘\n"
     ]
    },
    {
     "name": "stdout",
     "output_type": "stream",
     "text": [
      "网页内容已成功保存为 121205610.mhtml\n",
      "新信息已成功追加到 web_info.db\n",
      "休息 52 秒鐘\n"
     ]
    },
    {
     "name": "stdout",
     "output_type": "stream",
     "text": [
      "网页内容已成功保存为 121205612.mhtml\n",
      "新信息已成功追加到 web_info.db\n",
      "休息 51 秒鐘\n"
     ]
    },
    {
     "name": "stdout",
     "output_type": "stream",
     "text": [
      "网页内容已成功保存为 121205613.mhtml\n",
      "新信息已成功追加到 web_info.db\n",
      "休息 40 秒鐘\n"
     ]
    },
    {
     "name": "stdout",
     "output_type": "stream",
     "text": [
      "网页内容已成功保存为 121205614.mhtml\n",
      "新信息已成功追加到 web_info.db\n",
      "休息 58 秒鐘\n"
     ]
    },
    {
     "name": "stdout",
     "output_type": "stream",
     "text": [
      "网页内容已成功保存为 121205615.mhtml\n",
      "新信息已成功追加到 web_info.db\n",
      "休息 57 秒鐘\n"
     ]
    },
    {
     "name": "stdout",
     "output_type": "stream",
     "text": [
      "网页内容已成功保存为 121205616.mhtml\n",
      "新信息已成功追加到 web_info.db\n",
      "休息 33 秒鐘\n"
     ]
    },
    {
     "name": "stdout",
     "output_type": "stream",
     "text": [
      "网页内容已成功保存为 121205618.mhtml\n",
      "新信息已成功追加到 web_info.db\n",
      "休息 50 秒鐘\n"
     ]
    },
    {
     "name": "stdout",
     "output_type": "stream",
     "text": [
      "网页内容已成功保存为 121205619.mhtml\n",
      "新信息已成功追加到 web_info.db\n",
      "休息 36 秒鐘\n"
     ]
    },
    {
     "name": "stdout",
     "output_type": "stream",
     "text": [
      "网页内容已成功保存为 121205621.mhtml\n",
      "新信息已成功追加到 web_info.db\n",
      "休息 37 秒鐘\n"
     ]
    },
    {
     "name": "stdout",
     "output_type": "stream",
     "text": [
      "网页内容已成功保存为 121205622.mhtml\n",
      "新信息已成功追加到 web_info.db\n",
      "休息 54 秒鐘\n"
     ]
    },
    {
     "name": "stdout",
     "output_type": "stream",
     "text": [
      "网页内容已成功保存为 121205623.mhtml\n",
      "新信息已成功追加到 web_info.db\n",
      "休息 52 秒鐘\n"
     ]
    },
    {
     "name": "stdout",
     "output_type": "stream",
     "text": [
      "网页内容已成功保存为 121205624.mhtml\n",
      "新信息已成功追加到 web_info.db\n",
      "休息 55 秒鐘\n"
     ]
    },
    {
     "name": "stdout",
     "output_type": "stream",
     "text": [
      "网页内容已成功保存为 121205625.mhtml\n",
      "新信息已成功追加到 web_info.db\n",
      "休息 37 秒鐘\n"
     ]
    },
    {
     "name": "stdout",
     "output_type": "stream",
     "text": [
      "网页内容已成功保存为 121205626.mhtml\n",
      "新信息已成功追加到 web_info.db\n",
      "休息 44 秒鐘\n"
     ]
    },
    {
     "name": "stdout",
     "output_type": "stream",
     "text": [
      "网页内容已成功保存为 121205628.mhtml\n",
      "新信息已成功追加到 web_info.db\n",
      "休息 38 秒鐘\n"
     ]
    },
    {
     "name": "stdout",
     "output_type": "stream",
     "text": [
      "网页内容已成功保存为 121205629.mhtml\n",
      "新信息已成功追加到 web_info.db\n",
      "休息 59 秒鐘\n"
     ]
    },
    {
     "name": "stdout",
     "output_type": "stream",
     "text": [
      "网页内容已成功保存为 121205630.mhtml\n",
      "新信息已成功追加到 web_info.db\n",
      "休息 43 秒鐘\n"
     ]
    },
    {
     "name": "stdout",
     "output_type": "stream",
     "text": [
      "网页内容已成功保存为 121205631.mhtml\n",
      "新信息已成功追加到 web_info.db\n",
      "休息 45 秒鐘\n"
     ]
    },
    {
     "name": "stdout",
     "output_type": "stream",
     "text": [
      "网页内容已成功保存为 121205633.mhtml\n",
      "新信息已成功追加到 web_info.db\n",
      "休息 42 秒鐘\n"
     ]
    },
    {
     "name": "stdout",
     "output_type": "stream",
     "text": [
      "网页内容已成功保存为 121205634.mhtml\n",
      "新信息已成功追加到 web_info.db\n",
      "休息 42 秒鐘\n"
     ]
    },
    {
     "name": "stdout",
     "output_type": "stream",
     "text": [
      "网页内容已成功保存为 121205635.mhtml\n",
      "新信息已成功追加到 web_info.db\n",
      "休息 47 秒鐘\n"
     ]
    },
    {
     "name": "stdout",
     "output_type": "stream",
     "text": [
      "网页内容已成功保存为 121205636.mhtml\n",
      "新信息已成功追加到 web_info.db\n",
      "休息 36 秒鐘\n"
     ]
    },
    {
     "name": "stdout",
     "output_type": "stream",
     "text": [
      "网页内容已成功保存为 121205637.mhtml\n",
      "新信息已成功追加到 web_info.db\n",
      "休息 39 秒鐘\n"
     ]
    },
    {
     "name": "stdout",
     "output_type": "stream",
     "text": [
      "网页内容已成功保存为 121205639.mhtml\n",
      "新信息已成功追加到 web_info.db\n",
      "休息 32 秒鐘\n"
     ]
    },
    {
     "name": "stdout",
     "output_type": "stream",
     "text": [
      "网页内容已成功保存为 121205640.mhtml\n",
      "新信息已成功追加到 web_info.db\n",
      "休息 35 秒鐘\n"
     ]
    },
    {
     "name": "stdout",
     "output_type": "stream",
     "text": [
      "网页内容已成功保存为 121205641.mhtml\n",
      "新信息已成功追加到 web_info.db\n",
      "休息 45 秒鐘\n"
     ]
    },
    {
     "name": "stdout",
     "output_type": "stream",
     "text": [
      "网页内容已成功保存为 121205642.mhtml\n",
      "新信息已成功追加到 web_info.db\n",
      "休息 31 秒鐘\n"
     ]
    },
    {
     "name": "stdout",
     "output_type": "stream",
     "text": [
      "网页内容已成功保存为 121205643.mhtml\n",
      "新信息已成功追加到 web_info.db\n",
      "休息 49 秒鐘\n"
     ]
    },
    {
     "name": "stdout",
     "output_type": "stream",
     "text": [
      "网页内容已成功保存为 121205644.mhtml\n",
      "新信息已成功追加到 web_info.db\n",
      "休息 38 秒鐘\n"
     ]
    },
    {
     "name": "stdout",
     "output_type": "stream",
     "text": [
      "网页内容已成功保存为 121205645.mhtml\n",
      "新信息已成功追加到 web_info.db\n",
      "休息 50 秒鐘\n"
     ]
    },
    {
     "name": "stdout",
     "output_type": "stream",
     "text": [
      "网页内容已成功保存为 121205647.mhtml\n",
      "新信息已成功追加到 web_info.db\n",
      "休息 37 秒鐘\n"
     ]
    },
    {
     "name": "stdout",
     "output_type": "stream",
     "text": [
      "网页内容已成功保存为 121205648.mhtml\n",
      "新信息已成功追加到 web_info.db\n",
      "休息 41 秒鐘\n"
     ]
    },
    {
     "name": "stdout",
     "output_type": "stream",
     "text": [
      "网页内容已成功保存为 121205652.mhtml\n",
      "新信息已成功追加到 web_info.db\n",
      "休息 49 秒鐘\n"
     ]
    },
    {
     "name": "stdout",
     "output_type": "stream",
     "text": [
      "网页内容已成功保存为 121205653.mhtml\n",
      "新信息已成功追加到 web_info.db\n",
      "休息 54 秒鐘\n"
     ]
    },
    {
     "name": "stdout",
     "output_type": "stream",
     "text": [
      "网页内容已成功保存为 121205654.mhtml\n",
      "新信息已成功追加到 web_info.db\n",
      "休息 50 秒鐘\n"
     ]
    },
    {
     "name": "stdout",
     "output_type": "stream",
     "text": [
      "网页内容已成功保存为 121205655.mhtml\n",
      "新信息已成功追加到 web_info.db\n",
      "休息 49 秒鐘\n"
     ]
    },
    {
     "name": "stdout",
     "output_type": "stream",
     "text": [
      "网页内容已成功保存为 121205656.mhtml\n",
      "新信息已成功追加到 web_info.db\n",
      "休息 46 秒鐘\n"
     ]
    },
    {
     "name": "stdout",
     "output_type": "stream",
     "text": [
      "网页内容已成功保存为 121205658.mhtml\n",
      "新信息已成功追加到 web_info.db\n",
      "休息 56 秒鐘\n"
     ]
    },
    {
     "name": "stdout",
     "output_type": "stream",
     "text": [
      "网页内容已成功保存为 121205659.mhtml\n",
      "新信息已成功追加到 web_info.db\n",
      "休息 44 秒鐘\n"
     ]
    },
    {
     "name": "stdout",
     "output_type": "stream",
     "text": [
      "网页内容已成功保存为 121205660.mhtml\n",
      "新信息已成功追加到 web_info.db\n",
      "休息 37 秒鐘\n"
     ]
    },
    {
     "name": "stdout",
     "output_type": "stream",
     "text": [
      "网页内容已成功保存为 121205661.mhtml\n",
      "新信息已成功追加到 web_info.db\n",
      "休息 55 秒鐘\n"
     ]
    },
    {
     "name": "stdout",
     "output_type": "stream",
     "text": [
      "网页内容已成功保存为 121205664.mhtml\n",
      "新信息已成功追加到 web_info.db\n",
      "休息 43 秒鐘\n"
     ]
    },
    {
     "name": "stdout",
     "output_type": "stream",
     "text": [
      "网页内容已成功保存为 121205665.mhtml\n",
      "新信息已成功追加到 web_info.db\n",
      "休息 52 秒鐘\n"
     ]
    },
    {
     "name": "stdout",
     "output_type": "stream",
     "text": [
      "网页内容已成功保存为 121205666.mhtml\n",
      "新信息已成功追加到 web_info.db\n",
      "休息 47 秒鐘\n"
     ]
    },
    {
     "name": "stdout",
     "output_type": "stream",
     "text": [
      "网页内容已成功保存为 121205667.mhtml\n",
      "新信息已成功追加到 web_info.db\n",
      "休息 33 秒鐘\n"
     ]
    },
    {
     "name": "stdout",
     "output_type": "stream",
     "text": [
      "网页内容已成功保存为 121205668.mhtml\n",
      "新信息已成功追加到 web_info.db\n",
      "休息 31 秒鐘\n"
     ]
    },
    {
     "name": "stdout",
     "output_type": "stream",
     "text": [
      "网页内容已成功保存为 121205669.mhtml\n",
      "新信息已成功追加到 web_info.db\n",
      "休息 59 秒鐘\n"
     ]
    },
    {
     "name": "stdout",
     "output_type": "stream",
     "text": [
      "网页内容已成功保存为 121205671.mhtml\n",
      "新信息已成功追加到 web_info.db\n",
      "休息 34 秒鐘\n"
     ]
    },
    {
     "name": "stdout",
     "output_type": "stream",
     "text": [
      "网页内容已成功保存为 121205672.mhtml\n",
      "新信息已成功追加到 web_info.db\n",
      "休息 43 秒鐘\n"
     ]
    },
    {
     "name": "stdout",
     "output_type": "stream",
     "text": [
      "网页内容已成功保存为 121205675.mhtml\n",
      "新信息已成功追加到 web_info.db\n",
      "休息 30 秒鐘\n"
     ]
    },
    {
     "name": "stdout",
     "output_type": "stream",
     "text": [
      "网页内容已成功保存为 121205676.mhtml\n",
      "新信息已成功追加到 web_info.db\n",
      "休息 32 秒鐘\n"
     ]
    },
    {
     "name": "stdout",
     "output_type": "stream",
     "text": [
      "网页内容已成功保存为 121205677.mhtml\n",
      "新信息已成功追加到 web_info.db\n",
      "休息 55 秒鐘\n"
     ]
    },
    {
     "name": "stdout",
     "output_type": "stream",
     "text": [
      "网页内容已成功保存为 121205679.mhtml\n",
      "新信息已成功追加到 web_info.db\n",
      "休息 36 秒鐘\n"
     ]
    },
    {
     "name": "stdout",
     "output_type": "stream",
     "text": [
      "网页内容已成功保存为 121205680.mhtml\n",
      "新信息已成功追加到 web_info.db\n",
      "休息 52 秒鐘\n"
     ]
    },
    {
     "name": "stdout",
     "output_type": "stream",
     "text": [
      "网页内容已成功保存为 121205681.mhtml\n",
      "新信息已成功追加到 web_info.db\n",
      "休息 36 秒鐘\n"
     ]
    },
    {
     "name": "stdout",
     "output_type": "stream",
     "text": [
      "网页内容已成功保存为 121205682.mhtml\n",
      "新信息已成功追加到 web_info.db\n",
      "休息 51 秒鐘\n"
     ]
    },
    {
     "name": "stdout",
     "output_type": "stream",
     "text": [
      "网页内容已成功保存为 121205684.mhtml\n",
      "新信息已成功追加到 web_info.db\n",
      "休息 33 秒鐘\n"
     ]
    },
    {
     "name": "stdout",
     "output_type": "stream",
     "text": [
      "网页内容已成功保存为 121205685.mhtml\n",
      "新信息已成功追加到 web_info.db\n",
      "休息 32 秒鐘\n"
     ]
    },
    {
     "name": "stdout",
     "output_type": "stream",
     "text": [
      "网页内容已成功保存为 121205689.mhtml\n",
      "新信息已成功追加到 web_info.db\n",
      "休息 33 秒鐘\n"
     ]
    },
    {
     "name": "stdout",
     "output_type": "stream",
     "text": [
      "网页内容已成功保存为 121205690.mhtml\n",
      "新信息已成功追加到 web_info.db\n",
      "休息 47 秒鐘\n"
     ]
    },
    {
     "name": "stdout",
     "output_type": "stream",
     "text": [
      "网页内容已成功保存为 121205691.mhtml\n",
      "新信息已成功追加到 web_info.db\n",
      "休息 34 秒鐘\n"
     ]
    },
    {
     "name": "stdout",
     "output_type": "stream",
     "text": [
      "网页内容已成功保存为 121205692.mhtml\n",
      "新信息已成功追加到 web_info.db\n",
      "休息 34 秒鐘\n"
     ]
    },
    {
     "name": "stdout",
     "output_type": "stream",
     "text": [
      "网页内容已成功保存为 121205693.mhtml\n",
      "新信息已成功追加到 web_info.db\n",
      "休息 42 秒鐘\n"
     ]
    },
    {
     "name": "stdout",
     "output_type": "stream",
     "text": [
      "网页内容已成功保存为 121205694.mhtml\n",
      "新信息已成功追加到 web_info.db\n",
      "休息 48 秒鐘\n"
     ]
    },
    {
     "name": "stdout",
     "output_type": "stream",
     "text": [
      "网页内容已成功保存为 121205695.mhtml\n",
      "新信息已成功追加到 web_info.db\n",
      "休息 49 秒鐘\n"
     ]
    },
    {
     "name": "stdout",
     "output_type": "stream",
     "text": [
      "网页内容已成功保存为 121205696.mhtml\n",
      "新信息已成功追加到 web_info.db\n",
      "休息 50 秒鐘\n"
     ]
    },
    {
     "name": "stdout",
     "output_type": "stream",
     "text": [
      "网页内容已成功保存为 121205697.mhtml\n",
      "新信息已成功追加到 web_info.db\n",
      "休息 31 秒鐘\n"
     ]
    },
    {
     "name": "stdout",
     "output_type": "stream",
     "text": [
      "网页内容已成功保存为 121205698.mhtml\n",
      "新信息已成功追加到 web_info.db\n",
      "休息 33 秒鐘\n"
     ]
    },
    {
     "name": "stdout",
     "output_type": "stream",
     "text": [
      "网页内容已成功保存为 121205699.mhtml\n",
      "新信息已成功追加到 web_info.db\n",
      "休息 38 秒鐘\n"
     ]
    },
    {
     "name": "stdout",
     "output_type": "stream",
     "text": [
      "网页内容已成功保存为 121205700.mhtml\n",
      "新信息已成功追加到 web_info.db\n",
      "休息 34 秒鐘\n"
     ]
    },
    {
     "name": "stdout",
     "output_type": "stream",
     "text": [
      "网页内容已成功保存为 121205701.mhtml\n",
      "新信息已成功追加到 web_info.db\n",
      "休息 56 秒鐘\n"
     ]
    },
    {
     "name": "stdout",
     "output_type": "stream",
     "text": [
      "网页内容已成功保存为 121205703.mhtml\n",
      "新信息已成功追加到 web_info.db\n",
      "休息 58 秒鐘\n"
     ]
    },
    {
     "name": "stdout",
     "output_type": "stream",
     "text": [
      "网页内容已成功保存为 121205704.mhtml\n",
      "新信息已成功追加到 web_info.db\n",
      "休息 39 秒鐘\n"
     ]
    },
    {
     "name": "stdout",
     "output_type": "stream",
     "text": [
      "网页内容已成功保存为 121205705.mhtml\n",
      "新信息已成功追加到 web_info.db\n",
      "休息 51 秒鐘\n"
     ]
    },
    {
     "name": "stdout",
     "output_type": "stream",
     "text": [
      "网页内容已成功保存为 121205706.mhtml\n",
      "新信息已成功追加到 web_info.db\n",
      "休息 30 秒鐘\n"
     ]
    },
    {
     "name": "stdout",
     "output_type": "stream",
     "text": [
      "网页内容已成功保存为 121205708.mhtml\n",
      "新信息已成功追加到 web_info.db\n",
      "休息 35 秒鐘\n"
     ]
    },
    {
     "name": "stdout",
     "output_type": "stream",
     "text": [
      "网页内容已成功保存为 121205709.mhtml\n",
      "新信息已成功追加到 web_info.db\n",
      "休息 30 秒鐘\n"
     ]
    },
    {
     "name": "stdout",
     "output_type": "stream",
     "text": [
      "网页内容已成功保存为 121205710.mhtml\n",
      "新信息已成功追加到 web_info.db\n",
      "休息 46 秒鐘\n"
     ]
    },
    {
     "name": "stdout",
     "output_type": "stream",
     "text": [
      "网页内容已成功保存为 121205711.mhtml\n",
      "新信息已成功追加到 web_info.db\n",
      "休息 57 秒鐘\n"
     ]
    },
    {
     "name": "stdout",
     "output_type": "stream",
     "text": [
      "网页内容已成功保存为 121205712.mhtml\n",
      "新信息已成功追加到 web_info.db\n",
      "休息 42 秒鐘\n"
     ]
    },
    {
     "name": "stdout",
     "output_type": "stream",
     "text": [
      "网页内容已成功保存为 121205713.mhtml\n",
      "新信息已成功追加到 web_info.db\n",
      "休息 42 秒鐘\n"
     ]
    },
    {
     "name": "stdout",
     "output_type": "stream",
     "text": [
      "网页内容已成功保存为 121205714.mhtml\n",
      "新信息已成功追加到 web_info.db\n",
      "休息 52 秒鐘\n"
     ]
    },
    {
     "name": "stdout",
     "output_type": "stream",
     "text": [
      "网页内容已成功保存为 121205715.mhtml\n",
      "新信息已成功追加到 web_info.db\n",
      "休息 47 秒鐘\n"
     ]
    },
    {
     "name": "stdout",
     "output_type": "stream",
     "text": [
      "网页内容已成功保存为 121205716.mhtml\n",
      "新信息已成功追加到 web_info.db\n",
      "休息 48 秒鐘\n"
     ]
    },
    {
     "name": "stdout",
     "output_type": "stream",
     "text": [
      "网页内容已成功保存为 121205717.mhtml\n",
      "新信息已成功追加到 web_info.db\n",
      "休息 41 秒鐘\n"
     ]
    },
    {
     "name": "stdout",
     "output_type": "stream",
     "text": [
      "网页内容已成功保存为 121205718.mhtml\n",
      "新信息已成功追加到 web_info.db\n",
      "休息 45 秒鐘\n"
     ]
    },
    {
     "name": "stdout",
     "output_type": "stream",
     "text": [
      "网页内容已成功保存为 121205719.mhtml\n",
      "新信息已成功追加到 web_info.db\n",
      "休息 39 秒鐘\n"
     ]
    },
    {
     "name": "stdout",
     "output_type": "stream",
     "text": [
      "网页内容已成功保存为 121205720.mhtml\n",
      "新信息已成功追加到 web_info.db\n",
      "休息 51 秒鐘\n"
     ]
    },
    {
     "name": "stdout",
     "output_type": "stream",
     "text": [
      "网页内容已成功保存为 121205721.mhtml\n",
      "新信息已成功追加到 web_info.db\n",
      "休息 55 秒鐘\n"
     ]
    },
    {
     "name": "stdout",
     "output_type": "stream",
     "text": [
      "网页内容已成功保存为 121205723.mhtml\n",
      "新信息已成功追加到 web_info.db\n",
      "休息 45 秒鐘\n"
     ]
    },
    {
     "name": "stdout",
     "output_type": "stream",
     "text": [
      "网页内容已成功保存为 121205724.mhtml\n",
      "新信息已成功追加到 web_info.db\n",
      "休息 39 秒鐘\n"
     ]
    },
    {
     "name": "stdout",
     "output_type": "stream",
     "text": [
      "网页内容已成功保存为 121205725.mhtml\n",
      "新信息已成功追加到 web_info.db\n",
      "休息 38 秒鐘\n"
     ]
    },
    {
     "name": "stdout",
     "output_type": "stream",
     "text": [
      "网页内容已成功保存为 121205726.mhtml\n",
      "新信息已成功追加到 web_info.db\n",
      "休息 34 秒鐘\n"
     ]
    },
    {
     "name": "stdout",
     "output_type": "stream",
     "text": [
      "网页内容已成功保存为 121205727.mhtml\n",
      "新信息已成功追加到 web_info.db\n",
      "休息 53 秒鐘\n"
     ]
    },
    {
     "name": "stdout",
     "output_type": "stream",
     "text": [
      "网页内容已成功保存为 121205728.mhtml\n",
      "新信息已成功追加到 web_info.db\n",
      "休息 52 秒鐘\n"
     ]
    },
    {
     "name": "stdout",
     "output_type": "stream",
     "text": [
      "网页内容已成功保存为 121205730.mhtml\n",
      "新信息已成功追加到 web_info.db\n",
      "休息 30 秒鐘\n"
     ]
    },
    {
     "name": "stdout",
     "output_type": "stream",
     "text": [
      "网页内容已成功保存为 121205731.mhtml\n",
      "新信息已成功追加到 web_info.db\n",
      "休息 45 秒鐘\n"
     ]
    },
    {
     "name": "stdout",
     "output_type": "stream",
     "text": [
      "网页内容已成功保存为 121205732.mhtml\n",
      "新信息已成功追加到 web_info.db\n",
      "休息 51 秒鐘\n"
     ]
    },
    {
     "name": "stdout",
     "output_type": "stream",
     "text": [
      "网页内容已成功保存为 121205733.mhtml\n",
      "新信息已成功追加到 web_info.db\n",
      "休息 58 秒鐘\n"
     ]
    },
    {
     "name": "stdout",
     "output_type": "stream",
     "text": [
      "网页内容已成功保存为 121205734.mhtml\n",
      "新信息已成功追加到 web_info.db\n",
      "休息 48 秒鐘\n"
     ]
    },
    {
     "name": "stdout",
     "output_type": "stream",
     "text": [
      "网页内容已成功保存为 121205736.mhtml\n",
      "新信息已成功追加到 web_info.db\n",
      "休息 46 秒鐘\n"
     ]
    },
    {
     "name": "stdout",
     "output_type": "stream",
     "text": [
      "网页内容已成功保存为 121205737.mhtml\n",
      "新信息已成功追加到 web_info.db\n",
      "休息 45 秒鐘\n"
     ]
    },
    {
     "name": "stdout",
     "output_type": "stream",
     "text": [
      "网页内容已成功保存为 121205738.mhtml\n",
      "新信息已成功追加到 web_info.db\n",
      "休息 51 秒鐘\n"
     ]
    },
    {
     "name": "stdout",
     "output_type": "stream",
     "text": [
      "网页内容已成功保存为 121205739.mhtml\n",
      "新信息已成功追加到 web_info.db\n",
      "休息 37 秒鐘\n"
     ]
    },
    {
     "name": "stdout",
     "output_type": "stream",
     "text": [
      "网页内容已成功保存为 121205743.mhtml\n",
      "新信息已成功追加到 web_info.db\n",
      "休息 31 秒鐘\n"
     ]
    },
    {
     "name": "stdout",
     "output_type": "stream",
     "text": [
      "网页内容已成功保存为 121205745.mhtml\n",
      "新信息已成功追加到 web_info.db\n",
      "休息 48 秒鐘\n"
     ]
    },
    {
     "name": "stdout",
     "output_type": "stream",
     "text": [
      "网页内容已成功保存为 121205746.mhtml\n",
      "新信息已成功追加到 web_info.db\n",
      "休息 30 秒鐘\n"
     ]
    },
    {
     "name": "stdout",
     "output_type": "stream",
     "text": [
      "网页内容已成功保存为 121205747.mhtml\n",
      "新信息已成功追加到 web_info.db\n",
      "休息 51 秒鐘\n"
     ]
    },
    {
     "name": "stdout",
     "output_type": "stream",
     "text": [
      "网页内容已成功保存为 121205748.mhtml\n",
      "新信息已成功追加到 web_info.db\n",
      "休息 42 秒鐘\n"
     ]
    },
    {
     "name": "stdout",
     "output_type": "stream",
     "text": [
      "网页内容已成功保存为 121205750.mhtml\n",
      "新信息已成功追加到 web_info.db\n",
      "休息 43 秒鐘\n"
     ]
    },
    {
     "name": "stdout",
     "output_type": "stream",
     "text": [
      "网页内容已成功保存为 121205751.mhtml\n",
      "新信息已成功追加到 web_info.db\n",
      "休息 50 秒鐘\n"
     ]
    },
    {
     "name": "stdout",
     "output_type": "stream",
     "text": [
      "网页内容已成功保存为 121205753.mhtml\n",
      "新信息已成功追加到 web_info.db\n",
      "休息 35 秒鐘\n"
     ]
    },
    {
     "name": "stdout",
     "output_type": "stream",
     "text": [
      "网页内容已成功保存为 121205754.mhtml\n",
      "新信息已成功追加到 web_info.db\n",
      "休息 38 秒鐘\n"
     ]
    },
    {
     "name": "stdout",
     "output_type": "stream",
     "text": [
      "网页内容已成功保存为 121205756.mhtml\n",
      "新信息已成功追加到 web_info.db\n",
      "休息 51 秒鐘\n"
     ]
    },
    {
     "name": "stdout",
     "output_type": "stream",
     "text": [
      "网页内容已成功保存为 121205757.mhtml\n",
      "新信息已成功追加到 web_info.db\n",
      "休息 41 秒鐘\n"
     ]
    },
    {
     "name": "stdout",
     "output_type": "stream",
     "text": [
      "网页内容已成功保存为 121205759.mhtml\n",
      "新信息已成功追加到 web_info.db\n",
      "休息 58 秒鐘\n"
     ]
    },
    {
     "name": "stdout",
     "output_type": "stream",
     "text": [
      "网页内容已成功保存为 121205760.mhtml\n",
      "新信息已成功追加到 web_info.db\n",
      "休息 55 秒鐘\n"
     ]
    },
    {
     "name": "stdout",
     "output_type": "stream",
     "text": [
      "网页内容已成功保存为 121205761.mhtml\n",
      "新信息已成功追加到 web_info.db\n",
      "休息 30 秒鐘\n"
     ]
    },
    {
     "name": "stdout",
     "output_type": "stream",
     "text": [
      "网页内容已成功保存为 121205762.mhtml\n",
      "新信息已成功追加到 web_info.db\n",
      "休息 45 秒鐘\n"
     ]
    },
    {
     "name": "stdout",
     "output_type": "stream",
     "text": [
      "网页内容已成功保存为 121205763.mhtml\n",
      "新信息已成功追加到 web_info.db\n",
      "休息 53 秒鐘\n"
     ]
    },
    {
     "name": "stdout",
     "output_type": "stream",
     "text": [
      "网页内容已成功保存为 121205764.mhtml\n",
      "新信息已成功追加到 web_info.db\n",
      "休息 53 秒鐘\n"
     ]
    },
    {
     "name": "stdout",
     "output_type": "stream",
     "text": [
      "网页内容已成功保存为 121205765.mhtml\n",
      "新信息已成功追加到 web_info.db\n",
      "休息 40 秒鐘\n"
     ]
    },
    {
     "name": "stdout",
     "output_type": "stream",
     "text": [
      "网页内容已成功保存为 121205766.mhtml\n",
      "新信息已成功追加到 web_info.db\n",
      "休息 37 秒鐘\n"
     ]
    },
    {
     "name": "stdout",
     "output_type": "stream",
     "text": [
      "网页内容已成功保存为 121205768.mhtml\n",
      "新信息已成功追加到 web_info.db\n",
      "休息 33 秒鐘\n"
     ]
    },
    {
     "name": "stdout",
     "output_type": "stream",
     "text": [
      "网页内容已成功保存为 121205769.mhtml\n",
      "新信息已成功追加到 web_info.db\n",
      "休息 45 秒鐘\n"
     ]
    },
    {
     "name": "stdout",
     "output_type": "stream",
     "text": [
      "网页内容已成功保存为 121205771.mhtml\n",
      "新信息已成功追加到 web_info.db\n",
      "休息 34 秒鐘\n"
     ]
    },
    {
     "name": "stdout",
     "output_type": "stream",
     "text": [
      "网页内容已成功保存为 121205772.mhtml\n",
      "新信息已成功追加到 web_info.db\n",
      "休息 38 秒鐘\n"
     ]
    },
    {
     "name": "stdout",
     "output_type": "stream",
     "text": [
      "网页内容已成功保存为 121205773.mhtml\n",
      "新信息已成功追加到 web_info.db\n",
      "休息 44 秒鐘\n"
     ]
    },
    {
     "name": "stdout",
     "output_type": "stream",
     "text": [
      "网页内容已成功保存为 121205775.mhtml\n",
      "新信息已成功追加到 web_info.db\n",
      "休息 50 秒鐘\n"
     ]
    },
    {
     "name": "stdout",
     "output_type": "stream",
     "text": [
      "网页内容已成功保存为 121205777.mhtml\n",
      "新信息已成功追加到 web_info.db\n",
      "休息 31 秒鐘\n"
     ]
    },
    {
     "name": "stdout",
     "output_type": "stream",
     "text": [
      "网页内容已成功保存为 121205778.mhtml\n",
      "新信息已成功追加到 web_info.db\n",
      "休息 51 秒鐘\n"
     ]
    },
    {
     "name": "stdout",
     "output_type": "stream",
     "text": [
      "网页内容已成功保存为 121205779.mhtml\n",
      "新信息已成功追加到 web_info.db\n",
      "休息 51 秒鐘\n"
     ]
    },
    {
     "name": "stdout",
     "output_type": "stream",
     "text": [
      "网页内容已成功保存为 121205780.mhtml\n",
      "新信息已成功追加到 web_info.db\n",
      "休息 53 秒鐘\n"
     ]
    },
    {
     "name": "stdout",
     "output_type": "stream",
     "text": [
      "网页内容已成功保存为 121205782.mhtml\n",
      "新信息已成功追加到 web_info.db\n",
      "休息 39 秒鐘\n"
     ]
    },
    {
     "name": "stdout",
     "output_type": "stream",
     "text": [
      "网页内容已成功保存为 121205783.mhtml\n",
      "新信息已成功追加到 web_info.db\n",
      "休息 42 秒鐘\n"
     ]
    },
    {
     "name": "stdout",
     "output_type": "stream",
     "text": [
      "网页内容已成功保存为 121205784.mhtml\n",
      "新信息已成功追加到 web_info.db\n",
      "休息 57 秒鐘\n"
     ]
    },
    {
     "name": "stdout",
     "output_type": "stream",
     "text": [
      "网页内容已成功保存为 121205785.mhtml\n",
      "新信息已成功追加到 web_info.db\n",
      "休息 38 秒鐘\n"
     ]
    },
    {
     "name": "stdout",
     "output_type": "stream",
     "text": [
      "网页内容已成功保存为 121205786.mhtml\n",
      "新信息已成功追加到 web_info.db\n",
      "休息 55 秒鐘\n"
     ]
    },
    {
     "name": "stdout",
     "output_type": "stream",
     "text": [
      "网页内容已成功保存为 121205788.mhtml\n",
      "新信息已成功追加到 web_info.db\n",
      "休息 42 秒鐘\n"
     ]
    },
    {
     "name": "stdout",
     "output_type": "stream",
     "text": [
      "网页内容已成功保存为 121205789.mhtml\n",
      "新信息已成功追加到 web_info.db\n",
      "休息 58 秒鐘\n"
     ]
    },
    {
     "name": "stdout",
     "output_type": "stream",
     "text": [
      "网页内容已成功保存为 121205790.mhtml\n",
      "新信息已成功追加到 web_info.db\n",
      "休息 34 秒鐘\n"
     ]
    },
    {
     "name": "stdout",
     "output_type": "stream",
     "text": [
      "网页内容已成功保存为 121205792.mhtml\n",
      "新信息已成功追加到 web_info.db\n",
      "休息 30 秒鐘\n"
     ]
    },
    {
     "name": "stdout",
     "output_type": "stream",
     "text": [
      "网页内容已成功保存为 121205793.mhtml\n",
      "新信息已成功追加到 web_info.db\n",
      "休息 53 秒鐘\n"
     ]
    },
    {
     "name": "stdout",
     "output_type": "stream",
     "text": [
      "网页内容已成功保存为 121205794.mhtml\n",
      "新信息已成功追加到 web_info.db\n",
      "休息 32 秒鐘\n"
     ]
    },
    {
     "name": "stdout",
     "output_type": "stream",
     "text": [
      "网页内容已成功保存为 121205795.mhtml\n",
      "新信息已成功追加到 web_info.db\n",
      "休息 36 秒鐘\n"
     ]
    },
    {
     "name": "stdout",
     "output_type": "stream",
     "text": [
      "网页内容已成功保存为 121205796.mhtml\n",
      "新信息已成功追加到 web_info.db\n",
      "休息 52 秒鐘\n"
     ]
    },
    {
     "name": "stdout",
     "output_type": "stream",
     "text": [
      "网页内容已成功保存为 121205798.mhtml\n",
      "新信息已成功追加到 web_info.db\n",
      "休息 38 秒鐘\n"
     ]
    },
    {
     "name": "stdout",
     "output_type": "stream",
     "text": [
      "网页内容已成功保存为 121205799.mhtml\n",
      "新信息已成功追加到 web_info.db\n",
      "休息 46 秒鐘\n"
     ]
    },
    {
     "name": "stdout",
     "output_type": "stream",
     "text": [
      "网页内容已成功保存为 121205800.mhtml\n",
      "新信息已成功追加到 web_info.db\n",
      "休息 55 秒鐘\n"
     ]
    },
    {
     "name": "stdout",
     "output_type": "stream",
     "text": [
      "网页内容已成功保存为 121205801.mhtml\n",
      "新信息已成功追加到 web_info.db\n",
      "休息 31 秒鐘\n"
     ]
    },
    {
     "name": "stdout",
     "output_type": "stream",
     "text": [
      "网页内容已成功保存为 121205804.mhtml\n",
      "新信息已成功追加到 web_info.db\n",
      "休息 42 秒鐘\n"
     ]
    },
    {
     "name": "stdout",
     "output_type": "stream",
     "text": [
      "网页内容已成功保存为 121205805.mhtml\n",
      "新信息已成功追加到 web_info.db\n",
      "休息 39 秒鐘\n"
     ]
    },
    {
     "name": "stdout",
     "output_type": "stream",
     "text": [
      "网页内容已成功保存为 121205808.mhtml\n",
      "新信息已成功追加到 web_info.db\n",
      "休息 38 秒鐘\n"
     ]
    },
    {
     "name": "stdout",
     "output_type": "stream",
     "text": [
      "网页内容已成功保存为 121205809.mhtml\n",
      "新信息已成功追加到 web_info.db\n",
      "休息 37 秒鐘\n"
     ]
    },
    {
     "name": "stdout",
     "output_type": "stream",
     "text": [
      "网页内容已成功保存为 121205810.mhtml\n",
      "新信息已成功追加到 web_info.db\n",
      "休息 32 秒鐘\n"
     ]
    },
    {
     "name": "stdout",
     "output_type": "stream",
     "text": [
      "网页内容已成功保存为 121205812.mhtml\n",
      "新信息已成功追加到 web_info.db\n",
      "休息 51 秒鐘\n"
     ]
    },
    {
     "name": "stdout",
     "output_type": "stream",
     "text": [
      "网页内容已成功保存为 121205813.mhtml\n",
      "新信息已成功追加到 web_info.db\n",
      "休息 33 秒鐘\n"
     ]
    },
    {
     "name": "stdout",
     "output_type": "stream",
     "text": [
      "网页内容已成功保存为 121205815.mhtml\n",
      "新信息已成功追加到 web_info.db\n",
      "休息 58 秒鐘\n"
     ]
    },
    {
     "name": "stdout",
     "output_type": "stream",
     "text": [
      "网页内容已成功保存为 121205816.mhtml\n",
      "新信息已成功追加到 web_info.db\n",
      "休息 45 秒鐘\n"
     ]
    },
    {
     "name": "stdout",
     "output_type": "stream",
     "text": [
      "网页内容已成功保存为 121205817.mhtml\n",
      "新信息已成功追加到 web_info.db\n",
      "休息 31 秒鐘\n"
     ]
    },
    {
     "name": "stdout",
     "output_type": "stream",
     "text": [
      "网页内容已成功保存为 121205819.mhtml\n",
      "新信息已成功追加到 web_info.db\n",
      "休息 57 秒鐘\n"
     ]
    },
    {
     "name": "stdout",
     "output_type": "stream",
     "text": [
      "网页内容已成功保存为 121205820.mhtml\n",
      "新信息已成功追加到 web_info.db\n",
      "休息 44 秒鐘\n"
     ]
    },
    {
     "name": "stdout",
     "output_type": "stream",
     "text": [
      "网页内容已成功保存为 121205821.mhtml\n",
      "新信息已成功追加到 web_info.db\n",
      "休息 53 秒鐘\n"
     ]
    },
    {
     "name": "stdout",
     "output_type": "stream",
     "text": [
      "网页内容已成功保存为 121205822.mhtml\n",
      "新信息已成功追加到 web_info.db\n",
      "休息 44 秒鐘\n"
     ]
    },
    {
     "name": "stdout",
     "output_type": "stream",
     "text": [
      "网页内容已成功保存为 121205823.mhtml\n",
      "新信息已成功追加到 web_info.db\n",
      "休息 48 秒鐘\n"
     ]
    },
    {
     "name": "stdout",
     "output_type": "stream",
     "text": [
      "网页内容已成功保存为 121205824.mhtml\n",
      "新信息已成功追加到 web_info.db\n",
      "休息 31 秒鐘\n"
     ]
    },
    {
     "name": "stdout",
     "output_type": "stream",
     "text": [
      "网页内容已成功保存为 121205825.mhtml\n",
      "新信息已成功追加到 web_info.db\n",
      "休息 34 秒鐘\n"
     ]
    },
    {
     "name": "stdout",
     "output_type": "stream",
     "text": [
      "网页内容已成功保存为 121205826.mhtml\n",
      "新信息已成功追加到 web_info.db\n",
      "休息 31 秒鐘\n"
     ]
    }
   ],
   "source": [
    "db_filename = 'web_info.db'\n",
    "for work_ID in result:\n",
    "    url = f'https://www.pixiv.net/artworks/{work_ID}'\n",
    "    filename = f'{work_ID}.mhtml'\n",
    "    try:\n",
    "        save_webpage_as_single_file(url, filename)\n",
    "        # 示例：提取和追加数据\n",
    "        mhtml_file = f'{work_ID}.mhtml'  # 替换为实际的 .mhtml 文件路径\n",
    "        info = extract_info_from_mhtml(mhtml_file,work_ID)\n",
    "        # 将提取的信息追加到 'web_info.xlsx'\n",
    "        append_to_sqlite(info)\n",
    "        print(f\"新信息已成功追加到 {db_filename}\")\n",
    "    except Exception as e:\n",
    "        pass\n",
    "    \n",
    "    delay = int(random.uniform(30, 60))  # 5到15秒的隨機延遲\n",
    "    print(f\"休息 {delay} 秒鐘\")\n",
    "    time.sleep(delay)\n",
    "    \n",
    "\n"
   ]
  },
  {
   "cell_type": "code",
   "execution_count": 6,
   "id": "4cd90b55-71ee-4e77-bd49-7115e3a96b3e",
   "metadata": {
    "execution": {
     "iopub.execute_input": "2024-10-20T09:25:20.296599Z",
     "iopub.status.busy": "2024-10-20T09:25:20.296247Z",
     "iopub.status.idle": "2024-10-20T09:25:20.300877Z",
     "shell.execute_reply": "2024-10-20T09:25:20.300432Z"
    }
   },
   "outputs": [
    {
     "name": "stdout",
     "output_type": "stream",
     "text": [
      "Total number of work_IDs: 14286\n"
     ]
    }
   ],
   "source": [
    "import sqlite3\n",
    "\n",
    "# 連接到 SQLite 資料庫\n",
    "con = sqlite3.connect('web_info.db')\n",
    "cur = con.cursor()\n",
    "\n",
    "# 使用 SQL 查詢計算 work_ID 的總數\n",
    "cur.execute(\"SELECT COUNT(work_ID) FROM web_info\")\n",
    "work_id_count = cur.fetchone()[0]\n",
    "\n",
    "# 顯示 work_ID 總數\n",
    "print(f\"Total number of work_IDs: {work_id_count}\")\n",
    "\n",
    "# 關閉資料庫連線\n",
    "con.close()\n"
   ]
  },
  {
   "cell_type": "code",
   "execution_count": 7,
   "id": "37104cd1-a3e8-47d3-a466-2b4b61a2c080",
   "metadata": {
    "execution": {
     "iopub.execute_input": "2024-10-20T09:25:20.302712Z",
     "iopub.status.busy": "2024-10-20T09:25:20.302371Z",
     "iopub.status.idle": "2024-10-20T09:25:20.308315Z",
     "shell.execute_reply": "2024-10-20T09:25:20.307797Z"
    }
   },
   "outputs": [
    {
     "data": {
      "text/plain": [
       "'\\nimport requests\\n\\n# 图片的 URL\\nurl = \\'https://i.pximg.net/img-master/img/2024/08/05/22/47/33/121215791_p0_master1200.jpg\\'\\n\\n# 图片保存的本地文件名\\nfilename = \\'downloaded_image.png\\'\\n\\n# 请求头，模拟完整的浏览器请求\\nheaders = {\\n    \\'User-Agent\\': \\'Mozilla/5.0 (Windows NT 10.0; Win64; x64) AppleWebKit/537.36 (KHTML, like Gecko) Chrome/85.0.4183.102 Safari/537.36\\',\\n    \\'Referer\\': \\'https://www.pixiv.net/\\',\\n    \\'Accept\\': \\'text/html,application/xhtml+xml,application/xml;q=0.9,image/webp,image/apng,*/*;q=0.8\\',\\n    \\'Accept-Encoding\\': \\'gzip, deflate, br\\',\\n    \\'Accept-Language\\': \\'en-US,en;q=0.9\\',\\n    \\'Connection\\': \\'keep-alive\\'\\n}\\n\\n# 发起 GET 请求以下载图片\\nresponse = requests.get(url, headers=headers)\\n\\n# 检查请求是否成功\\nif response.status_code == 200:\\n    # 将图片数据写入本地文件\\n    with open(filename, \\'wb\\') as file:\\n        file.write(response.content)\\n    print(f\"图片已成功保存为 {filename}\")\\nelse:\\n    print(f\"图片下载失败，状态码：{response.status_code}\")\\n\\n'"
      ]
     },
     "execution_count": 7,
     "metadata": {},
     "output_type": "execute_result"
    }
   ],
   "source": [
    "'''\n",
    "import requests\n",
    "\n",
    "# 图片的 URL\n",
    "url = 'https://i.pximg.net/img-master/img/2024/08/05/22/47/33/121215791_p0_master1200.jpg'\n",
    "\n",
    "# 图片保存的本地文件名\n",
    "filename = 'downloaded_image.png'\n",
    "\n",
    "# 请求头，模拟完整的浏览器请求\n",
    "headers = {\n",
    "    'User-Agent': 'Mozilla/5.0 (Windows NT 10.0; Win64; x64) AppleWebKit/537.36 (KHTML, like Gecko) Chrome/85.0.4183.102 Safari/537.36',\n",
    "    'Referer': 'https://www.pixiv.net/',\n",
    "    'Accept': 'text/html,application/xhtml+xml,application/xml;q=0.9,image/webp,image/apng,*/*;q=0.8',\n",
    "    'Accept-Encoding': 'gzip, deflate, br',\n",
    "    'Accept-Language': 'en-US,en;q=0.9',\n",
    "    'Connection': 'keep-alive'\n",
    "}\n",
    "\n",
    "# 发起 GET 请求以下载图片\n",
    "response = requests.get(url, headers=headers)\n",
    "\n",
    "# 检查请求是否成功\n",
    "if response.status_code == 200:\n",
    "    # 将图片数据写入本地文件\n",
    "    with open(filename, 'wb') as file:\n",
    "        file.write(response.content)\n",
    "    print(f\"图片已成功保存为 {filename}\")\n",
    "else:\n",
    "    print(f\"图片下载失败，状态码：{response.status_code}\")\n",
    "\n",
    "'''\n"
   ]
  },
  {
   "cell_type": "code",
   "execution_count": null,
   "id": "2662c282-045f-46fe-9c92-afe79094a532",
   "metadata": {},
   "outputs": [],
   "source": []
  }
 ],
 "metadata": {
  "kernelspec": {
   "display_name": "Python 3 (ipykernel)",
   "language": "python",
   "name": "python3"
  },
  "language_info": {
   "codemirror_mode": {
    "name": "ipython",
    "version": 3
   },
   "file_extension": ".py",
   "mimetype": "text/x-python",
   "name": "python",
   "nbconvert_exporter": "python",
   "pygments_lexer": "ipython3",
   "version": "3.12.7"
  }
 },
 "nbformat": 4,
 "nbformat_minor": 5
}
