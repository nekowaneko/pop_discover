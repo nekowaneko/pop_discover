{
 "cells": [
  {
   "cell_type": "code",
   "execution_count": 1,
   "id": "e8671cd2-37e4-4acc-bc20-9a6b4420b8e1",
   "metadata": {
    "execution": {
     "iopub.execute_input": "2024-11-11T00:45:25.582880Z",
     "iopub.status.busy": "2024-11-11T00:45:25.582438Z",
     "iopub.status.idle": "2024-11-11T00:45:25.658146Z",
     "shell.execute_reply": "2024-11-11T00:45:25.657649Z"
    }
   },
   "outputs": [],
   "source": [
    "import requests\n",
    "import time\n",
    "import random\n",
    "import sqlite3\n",
    "from tqdm import tqdm\n",
    "\n",
    "# IP列表\n",
    "'''\n",
    "IP_LIST = ['20.213.247.195','13.74.59.33','145.40.121.101','45.167.125.97','157.100.12.138',\n",
    "           '173.244.48.9','51.79.205.165','190.15.103.66','45.42.177.50','8.219.64.236']\n",
    "\n",
    "def get_random_proxy():\n",
    "    ip = random.choice(IP_LIST)\n",
    "    return {\"http\": f\"http://{ip}\", \"https\": f\"http://{ip}\"}\n",
    "'''\n",
    "\n",
    "def init_db():\n",
    "    conn = sqlite3.connect('web_info.db')  # 更改為 web_info.db\n",
    "    c = conn.cursor()\n",
    "    c.execute('''CREATE TABLE IF NOT EXISTS web_info (\n",
    "            work_ID TEXT PRIMARY KEY,\n",
    "            title TEXT,\n",
    "            tags TEXT,\n",
    "            like_count INTEGER,\n",
    "            bookmark_count INTEGER,\n",
    "            view_count INTEGER,\n",
    "            image_url TEXT\n",
    "        )''')\n",
    "    conn.commit()\n",
    "    return conn\n",
    "\n",
    "def get_last_work_id(conn):\n",
    "    c = conn.cursor()\n",
    "    c.execute(\"SELECT MAX(work_ID) FROM web_info\")\n",
    "    result = c.fetchone()[0]\n",
    "    return result if result else 0\n",
    "\n",
    "connn = init_db()\n",
    "\n",
    "start_id = int(get_last_work_id(connn)) + 1"
   ]
  },
  {
   "cell_type": "code",
   "execution_count": 2,
   "id": "b38defef-e43a-4c2f-8607-fe19909046fd",
   "metadata": {
    "execution": {
     "iopub.execute_input": "2024-11-11T00:45:25.660089Z",
     "iopub.status.busy": "2024-11-11T00:45:25.659729Z",
     "iopub.status.idle": "2024-11-11T01:25:39.120527Z",
     "shell.execute_reply": "2024-11-11T01:25:39.119995Z"
    }
   },
   "outputs": [
    {
     "name": "stdout",
     "output_type": "stream",
     "text": [
      "Starting search from ID: 121226464\n"
     ]
    },
    {
     "name": "stderr",
     "output_type": "stream",
     "text": [
      "\r",
      "Finding valid work IDs:   0%|          | 0/200 [00:00<?, ?ID/s]"
     ]
    },
    {
     "name": "stderr",
     "output_type": "stream",
     "text": [
      "\r",
      "Finding valid work IDs:   0%|          | 1/200 [00:06<20:13,  6.10s/ID]"
     ]
    },
    {
     "name": "stderr",
     "output_type": "stream",
     "text": [
      "\r",
      "Finding valid work IDs:   0%|          | 1/200 [00:06<20:13,  6.10s/ID, Latest ID: 121226465]"
     ]
    },
    {
     "name": "stderr",
     "output_type": "stream",
     "text": [
      "\r",
      "Finding valid work IDs:   1%|          | 2/200 [00:17<31:00,  9.39s/ID, Latest ID: 121226465]"
     ]
    },
    {
     "name": "stderr",
     "output_type": "stream",
     "text": [
      "\r",
      "Finding valid work IDs:   1%|          | 2/200 [00:17<31:00,  9.39s/ID, Latest ID: 121226466]"
     ]
    },
    {
     "name": "stderr",
     "output_type": "stream",
     "text": [
      "\r",
      "Finding valid work IDs:   2%|▏         | 3/200 [00:28<33:05, 10.08s/ID, Latest ID: 121226466]"
     ]
    },
    {
     "name": "stderr",
     "output_type": "stream",
     "text": [
      "\r",
      "Finding valid work IDs:   2%|▏         | 3/200 [00:28<33:05, 10.08s/ID, Latest ID: 121226467]"
     ]
    },
    {
     "name": "stderr",
     "output_type": "stream",
     "text": [
      "\r",
      "Finding valid work IDs:   2%|▏         | 4/200 [00:43<39:15, 12.02s/ID, Latest ID: 121226467]"
     ]
    },
    {
     "name": "stderr",
     "output_type": "stream",
     "text": [
      "\r",
      "Finding valid work IDs:   2%|▏         | 4/200 [00:43<39:15, 12.02s/ID, Latest ID: 121226468]"
     ]
    },
    {
     "name": "stderr",
     "output_type": "stream",
     "text": [
      "\r",
      "Finding valid work IDs:   2%|▎         | 5/200 [00:57<41:12, 12.68s/ID, Latest ID: 121226468]"
     ]
    },
    {
     "name": "stderr",
     "output_type": "stream",
     "text": [
      "\r",
      "Finding valid work IDs:   2%|▎         | 5/200 [00:57<41:12, 12.68s/ID, Latest ID: 121226469]"
     ]
    },
    {
     "name": "stderr",
     "output_type": "stream",
     "text": [
      "\r",
      "Finding valid work IDs:   3%|▎         | 6/200 [01:07<37:35, 11.62s/ID, Latest ID: 121226469]"
     ]
    },
    {
     "name": "stderr",
     "output_type": "stream",
     "text": [
      "\r",
      "Finding valid work IDs:   3%|▎         | 6/200 [01:07<37:35, 11.62s/ID, Latest ID: 121226470]"
     ]
    },
    {
     "name": "stderr",
     "output_type": "stream",
     "text": [
      "\r",
      "Finding valid work IDs:   4%|▎         | 7/200 [01:13<31:24,  9.76s/ID, Latest ID: 121226470]"
     ]
    },
    {
     "name": "stderr",
     "output_type": "stream",
     "text": [
      "\r",
      "Finding valid work IDs:   4%|▎         | 7/200 [01:13<31:24,  9.76s/ID, Latest ID: 121226471]"
     ]
    },
    {
     "name": "stderr",
     "output_type": "stream",
     "text": [
      "\r",
      "Finding valid work IDs:   4%|▍         | 8/200 [01:41<50:29, 15.78s/ID, Latest ID: 121226471]"
     ]
    },
    {
     "name": "stderr",
     "output_type": "stream",
     "text": [
      "\r",
      "Finding valid work IDs:   4%|▍         | 8/200 [01:41<50:29, 15.78s/ID, Latest ID: 121226473]"
     ]
    },
    {
     "name": "stderr",
     "output_type": "stream",
     "text": [
      "\r",
      "Finding valid work IDs:   4%|▍         | 9/200 [01:56<49:06, 15.43s/ID, Latest ID: 121226473]"
     ]
    },
    {
     "name": "stderr",
     "output_type": "stream",
     "text": [
      "\r",
      "Finding valid work IDs:   4%|▍         | 9/200 [01:56<49:06, 15.43s/ID, Latest ID: 121226474]"
     ]
    },
    {
     "name": "stderr",
     "output_type": "stream",
     "text": [
      "\r",
      "Finding valid work IDs:   5%|▌         | 10/200 [02:10<47:26, 14.98s/ID, Latest ID: 121226474]"
     ]
    },
    {
     "name": "stderr",
     "output_type": "stream",
     "text": [
      "\r",
      "Finding valid work IDs:   5%|▌         | 10/200 [02:10<47:26, 14.98s/ID, Latest ID: 121226475]"
     ]
    },
    {
     "name": "stderr",
     "output_type": "stream",
     "text": [
      "\r",
      "Finding valid work IDs:   6%|▌         | 11/200 [02:24<46:04, 14.63s/ID, Latest ID: 121226475]"
     ]
    },
    {
     "name": "stderr",
     "output_type": "stream",
     "text": [
      "\r",
      "Finding valid work IDs:   6%|▌         | 11/200 [02:24<46:04, 14.63s/ID, Latest ID: 121226476]"
     ]
    },
    {
     "name": "stderr",
     "output_type": "stream",
     "text": [
      "\r",
      "Finding valid work IDs:   6%|▌         | 12/200 [02:32<39:44, 12.69s/ID, Latest ID: 121226476]"
     ]
    },
    {
     "name": "stderr",
     "output_type": "stream",
     "text": [
      "\r",
      "Finding valid work IDs:   6%|▌         | 12/200 [02:32<39:44, 12.69s/ID, Latest ID: 121226477]"
     ]
    },
    {
     "name": "stderr",
     "output_type": "stream",
     "text": [
      "\r",
      "Finding valid work IDs:   6%|▋         | 13/200 [02:40<34:58, 11.22s/ID, Latest ID: 121226477]"
     ]
    },
    {
     "name": "stderr",
     "output_type": "stream",
     "text": [
      "\r",
      "Finding valid work IDs:   6%|▋         | 13/200 [02:40<34:58, 11.22s/ID, Latest ID: 121226478]"
     ]
    },
    {
     "name": "stderr",
     "output_type": "stream",
     "text": [
      "\r",
      "Finding valid work IDs:   7%|▋         | 14/200 [03:03<46:20, 14.95s/ID, Latest ID: 121226478]"
     ]
    },
    {
     "name": "stderr",
     "output_type": "stream",
     "text": [
      "\r",
      "Finding valid work IDs:   7%|▋         | 14/200 [03:03<46:20, 14.95s/ID, Latest ID: 121226480]"
     ]
    },
    {
     "name": "stderr",
     "output_type": "stream",
     "text": [
      "\r",
      "Finding valid work IDs:   8%|▊         | 15/200 [03:14<42:19, 13.73s/ID, Latest ID: 121226480]"
     ]
    },
    {
     "name": "stderr",
     "output_type": "stream",
     "text": [
      "\r",
      "Finding valid work IDs:   8%|▊         | 15/200 [03:14<42:19, 13.73s/ID, Latest ID: 121226481]"
     ]
    },
    {
     "name": "stderr",
     "output_type": "stream",
     "text": [
      "\r",
      "Finding valid work IDs:   8%|▊         | 16/200 [03:25<38:55, 12.69s/ID, Latest ID: 121226481]"
     ]
    },
    {
     "name": "stderr",
     "output_type": "stream",
     "text": [
      "\r",
      "Finding valid work IDs:   8%|▊         | 16/200 [03:25<38:55, 12.69s/ID, Latest ID: 121226482]"
     ]
    },
    {
     "name": "stderr",
     "output_type": "stream",
     "text": [
      "\r",
      "Finding valid work IDs:   8%|▊         | 17/200 [03:34<36:13, 11.88s/ID, Latest ID: 121226482]"
     ]
    },
    {
     "name": "stderr",
     "output_type": "stream",
     "text": [
      "\r",
      "Finding valid work IDs:   8%|▊         | 17/200 [03:34<36:13, 11.88s/ID, Latest ID: 121226483]"
     ]
    },
    {
     "name": "stderr",
     "output_type": "stream",
     "text": [
      "\r",
      "Finding valid work IDs:   9%|▉         | 18/200 [03:40<30:39, 10.11s/ID, Latest ID: 121226483]"
     ]
    },
    {
     "name": "stderr",
     "output_type": "stream",
     "text": [
      "\r",
      "Finding valid work IDs:   9%|▉         | 18/200 [03:40<30:39, 10.11s/ID, Latest ID: 121226484]"
     ]
    },
    {
     "name": "stderr",
     "output_type": "stream",
     "text": [
      "\r",
      "Finding valid work IDs:  10%|▉         | 19/200 [03:47<26:54,  8.92s/ID, Latest ID: 121226484]"
     ]
    },
    {
     "name": "stderr",
     "output_type": "stream",
     "text": [
      "\r",
      "Finding valid work IDs:  10%|▉         | 19/200 [03:47<26:54,  8.92s/ID, Latest ID: 121226485]"
     ]
    },
    {
     "name": "stderr",
     "output_type": "stream",
     "text": [
      "\r",
      "Finding valid work IDs:  10%|█         | 20/200 [03:58<29:04,  9.69s/ID, Latest ID: 121226485]"
     ]
    },
    {
     "name": "stderr",
     "output_type": "stream",
     "text": [
      "\r",
      "Finding valid work IDs:  10%|█         | 20/200 [03:58<29:04,  9.69s/ID, Latest ID: 121226487]"
     ]
    },
    {
     "name": "stderr",
     "output_type": "stream",
     "text": [
      "\r",
      "Finding valid work IDs:  10%|█         | 21/200 [04:07<28:01,  9.40s/ID, Latest ID: 121226487]"
     ]
    },
    {
     "name": "stderr",
     "output_type": "stream",
     "text": [
      "\r",
      "Finding valid work IDs:  10%|█         | 21/200 [04:07<28:01,  9.40s/ID, Latest ID: 121226488]"
     ]
    },
    {
     "name": "stderr",
     "output_type": "stream",
     "text": [
      "\r",
      "Finding valid work IDs:  11%|█         | 22/200 [04:14<25:41,  8.66s/ID, Latest ID: 121226488]"
     ]
    },
    {
     "name": "stderr",
     "output_type": "stream",
     "text": [
      "\r",
      "Finding valid work IDs:  11%|█         | 22/200 [04:14<25:41,  8.66s/ID, Latest ID: 121226489]"
     ]
    },
    {
     "name": "stderr",
     "output_type": "stream",
     "text": [
      "\r",
      "Finding valid work IDs:  12%|█▏        | 23/200 [04:25<27:54,  9.46s/ID, Latest ID: 121226489]"
     ]
    },
    {
     "name": "stderr",
     "output_type": "stream",
     "text": [
      "\r",
      "Finding valid work IDs:  12%|█▏        | 23/200 [04:25<27:54,  9.46s/ID, Latest ID: 121226490]"
     ]
    },
    {
     "name": "stderr",
     "output_type": "stream",
     "text": [
      "\r",
      "Finding valid work IDs:  12%|█▏        | 24/200 [04:38<30:38, 10.44s/ID, Latest ID: 121226490]"
     ]
    },
    {
     "name": "stderr",
     "output_type": "stream",
     "text": [
      "\r",
      "Finding valid work IDs:  12%|█▏        | 24/200 [04:38<30:38, 10.44s/ID, Latest ID: 121226491]"
     ]
    },
    {
     "name": "stderr",
     "output_type": "stream",
     "text": [
      "\r",
      "Finding valid work IDs:  12%|█▎        | 25/200 [04:49<31:14, 10.71s/ID, Latest ID: 121226491]"
     ]
    },
    {
     "name": "stderr",
     "output_type": "stream",
     "text": [
      "\r",
      "Finding valid work IDs:  12%|█▎        | 25/200 [04:49<31:14, 10.71s/ID, Latest ID: 121226492]"
     ]
    },
    {
     "name": "stderr",
     "output_type": "stream",
     "text": [
      "\r",
      "Finding valid work IDs:  13%|█▎        | 26/200 [05:00<31:03, 10.71s/ID, Latest ID: 121226492]"
     ]
    },
    {
     "name": "stderr",
     "output_type": "stream",
     "text": [
      "\r",
      "Finding valid work IDs:  13%|█▎        | 26/200 [05:00<31:03, 10.71s/ID, Latest ID: 121226493]"
     ]
    },
    {
     "name": "stderr",
     "output_type": "stream",
     "text": [
      "\r",
      "Finding valid work IDs:  14%|█▎        | 27/200 [05:06<27:07,  9.41s/ID, Latest ID: 121226493]"
     ]
    },
    {
     "name": "stderr",
     "output_type": "stream",
     "text": [
      "\r",
      "Finding valid work IDs:  14%|█▎        | 27/200 [05:06<27:07,  9.41s/ID, Latest ID: 121226494]"
     ]
    },
    {
     "name": "stderr",
     "output_type": "stream",
     "text": [
      "\r",
      "Finding valid work IDs:  14%|█▍        | 28/200 [05:19<29:56, 10.44s/ID, Latest ID: 121226494]"
     ]
    },
    {
     "name": "stderr",
     "output_type": "stream",
     "text": [
      "\r",
      "Finding valid work IDs:  14%|█▍        | 28/200 [05:19<29:56, 10.44s/ID, Latest ID: 121226495]"
     ]
    },
    {
     "name": "stderr",
     "output_type": "stream",
     "text": [
      "\r",
      "Finding valid work IDs:  14%|█▍        | 29/200 [05:25<25:44,  9.03s/ID, Latest ID: 121226495]"
     ]
    },
    {
     "name": "stderr",
     "output_type": "stream",
     "text": [
      "\r",
      "Finding valid work IDs:  14%|█▍        | 29/200 [05:25<25:44,  9.03s/ID, Latest ID: 121226496]"
     ]
    },
    {
     "name": "stderr",
     "output_type": "stream",
     "text": [
      "\r",
      "Finding valid work IDs:  15%|█▌        | 30/200 [05:35<26:08,  9.23s/ID, Latest ID: 121226496]"
     ]
    },
    {
     "name": "stderr",
     "output_type": "stream",
     "text": [
      "\r",
      "Finding valid work IDs:  15%|█▌        | 30/200 [05:35<26:08,  9.23s/ID, Latest ID: 121226497]"
     ]
    },
    {
     "name": "stderr",
     "output_type": "stream",
     "text": [
      "\r",
      "Finding valid work IDs:  16%|█▌        | 31/200 [05:54<34:26, 12.23s/ID, Latest ID: 121226497]"
     ]
    },
    {
     "name": "stderr",
     "output_type": "stream",
     "text": [
      "\r",
      "Finding valid work IDs:  16%|█▌        | 31/200 [05:54<34:26, 12.23s/ID, Latest ID: 121226499]"
     ]
    },
    {
     "name": "stderr",
     "output_type": "stream",
     "text": [
      "\r",
      "Finding valid work IDs:  16%|█▌        | 32/200 [06:03<31:53, 11.39s/ID, Latest ID: 121226499]"
     ]
    },
    {
     "name": "stderr",
     "output_type": "stream",
     "text": [
      "\r",
      "Finding valid work IDs:  16%|█▌        | 32/200 [06:03<31:53, 11.39s/ID, Latest ID: 121226500]"
     ]
    },
    {
     "name": "stderr",
     "output_type": "stream",
     "text": [
      "\r",
      "Finding valid work IDs:  16%|█▋        | 33/200 [06:10<27:40,  9.95s/ID, Latest ID: 121226500]"
     ]
    },
    {
     "name": "stderr",
     "output_type": "stream",
     "text": [
      "\r",
      "Finding valid work IDs:  16%|█▋        | 33/200 [06:10<27:40,  9.95s/ID, Latest ID: 121226501]"
     ]
    },
    {
     "name": "stderr",
     "output_type": "stream",
     "text": [
      "\r",
      "Finding valid work IDs:  17%|█▋        | 34/200 [06:17<25:35,  9.25s/ID, Latest ID: 121226501]"
     ]
    },
    {
     "name": "stderr",
     "output_type": "stream",
     "text": [
      "\r",
      "Finding valid work IDs:  17%|█▋        | 34/200 [06:17<25:35,  9.25s/ID, Latest ID: 121226502]"
     ]
    },
    {
     "name": "stderr",
     "output_type": "stream",
     "text": [
      "\r",
      "Finding valid work IDs:  18%|█▊        | 35/200 [06:32<29:56, 10.89s/ID, Latest ID: 121226502]"
     ]
    },
    {
     "name": "stderr",
     "output_type": "stream",
     "text": [
      "\r",
      "Finding valid work IDs:  18%|█▊        | 35/200 [06:32<29:56, 10.89s/ID, Latest ID: 121226503]"
     ]
    },
    {
     "name": "stderr",
     "output_type": "stream",
     "text": [
      "\r",
      "Finding valid work IDs:  18%|█▊        | 36/200 [06:39<26:50,  9.82s/ID, Latest ID: 121226503]"
     ]
    },
    {
     "name": "stderr",
     "output_type": "stream",
     "text": [
      "\r",
      "Finding valid work IDs:  18%|█▊        | 36/200 [06:39<26:50,  9.82s/ID, Latest ID: 121226504]"
     ]
    },
    {
     "name": "stderr",
     "output_type": "stream",
     "text": [
      "\r",
      "Finding valid work IDs:  18%|█▊        | 37/200 [06:49<26:33,  9.78s/ID, Latest ID: 121226504]"
     ]
    },
    {
     "name": "stderr",
     "output_type": "stream",
     "text": [
      "\r",
      "Finding valid work IDs:  18%|█▊        | 37/200 [06:49<26:33,  9.78s/ID, Latest ID: 121226505]"
     ]
    },
    {
     "name": "stderr",
     "output_type": "stream",
     "text": [
      "\r",
      "Finding valid work IDs:  19%|█▉        | 38/200 [07:01<27:42, 10.26s/ID, Latest ID: 121226505]"
     ]
    },
    {
     "name": "stderr",
     "output_type": "stream",
     "text": [
      "\r",
      "Finding valid work IDs:  19%|█▉        | 38/200 [07:01<27:42, 10.26s/ID, Latest ID: 121226506]"
     ]
    },
    {
     "name": "stderr",
     "output_type": "stream",
     "text": [
      "\r",
      "Finding valid work IDs:  20%|█▉        | 39/200 [07:13<29:12, 10.89s/ID, Latest ID: 121226506]"
     ]
    },
    {
     "name": "stderr",
     "output_type": "stream",
     "text": [
      "\r",
      "Finding valid work IDs:  20%|█▉        | 39/200 [07:13<29:12, 10.89s/ID, Latest ID: 121226507]"
     ]
    },
    {
     "name": "stderr",
     "output_type": "stream",
     "text": [
      "\r",
      "Finding valid work IDs:  20%|██        | 40/200 [07:21<26:42, 10.01s/ID, Latest ID: 121226507]"
     ]
    },
    {
     "name": "stderr",
     "output_type": "stream",
     "text": [
      "\r",
      "Finding valid work IDs:  20%|██        | 40/200 [07:21<26:42, 10.01s/ID, Latest ID: 121226508]"
     ]
    },
    {
     "name": "stderr",
     "output_type": "stream",
     "text": [
      "\r",
      "Finding valid work IDs:  20%|██        | 41/200 [07:52<43:29, 16.41s/ID, Latest ID: 121226508]"
     ]
    },
    {
     "name": "stderr",
     "output_type": "stream",
     "text": [
      "\r",
      "Finding valid work IDs:  20%|██        | 41/200 [07:52<43:29, 16.41s/ID, Latest ID: 121226511]"
     ]
    },
    {
     "name": "stderr",
     "output_type": "stream",
     "text": [
      "\r",
      "Finding valid work IDs:  21%|██        | 42/200 [08:05<40:28, 15.37s/ID, Latest ID: 121226511]"
     ]
    },
    {
     "name": "stderr",
     "output_type": "stream",
     "text": [
      "\r",
      "Finding valid work IDs:  21%|██        | 42/200 [08:05<40:28, 15.37s/ID, Latest ID: 121226512]"
     ]
    },
    {
     "name": "stderr",
     "output_type": "stream",
     "text": [
      "\r",
      "Finding valid work IDs:  22%|██▏       | 43/200 [08:14<34:51, 13.32s/ID, Latest ID: 121226512]"
     ]
    },
    {
     "name": "stderr",
     "output_type": "stream",
     "text": [
      "\r",
      "Finding valid work IDs:  22%|██▏       | 43/200 [08:14<34:51, 13.32s/ID, Latest ID: 121226513]"
     ]
    },
    {
     "name": "stderr",
     "output_type": "stream",
     "text": [
      "\r",
      "Finding valid work IDs:  22%|██▏       | 44/200 [08:22<30:26, 11.71s/ID, Latest ID: 121226513]"
     ]
    },
    {
     "name": "stderr",
     "output_type": "stream",
     "text": [
      "\r",
      "Finding valid work IDs:  22%|██▏       | 44/200 [08:22<30:26, 11.71s/ID, Latest ID: 121226514]"
     ]
    },
    {
     "name": "stderr",
     "output_type": "stream",
     "text": [
      "\r",
      "Finding valid work IDs:  22%|██▎       | 45/200 [08:29<26:32, 10.28s/ID, Latest ID: 121226514]"
     ]
    },
    {
     "name": "stderr",
     "output_type": "stream",
     "text": [
      "\r",
      "Finding valid work IDs:  22%|██▎       | 45/200 [08:29<26:32, 10.28s/ID, Latest ID: 121226515]"
     ]
    },
    {
     "name": "stderr",
     "output_type": "stream",
     "text": [
      "\r",
      "Finding valid work IDs:  23%|██▎       | 46/200 [08:43<29:22, 11.44s/ID, Latest ID: 121226515]"
     ]
    },
    {
     "name": "stderr",
     "output_type": "stream",
     "text": [
      "\r",
      "Finding valid work IDs:  23%|██▎       | 46/200 [08:43<29:22, 11.44s/ID, Latest ID: 121226516]"
     ]
    },
    {
     "name": "stderr",
     "output_type": "stream",
     "text": [
      "\r",
      "Finding valid work IDs:  24%|██▎       | 47/200 [08:50<26:17, 10.31s/ID, Latest ID: 121226516]"
     ]
    },
    {
     "name": "stderr",
     "output_type": "stream",
     "text": [
      "\r",
      "Finding valid work IDs:  24%|██▎       | 47/200 [08:50<26:17, 10.31s/ID, Latest ID: 121226517]"
     ]
    },
    {
     "name": "stderr",
     "output_type": "stream",
     "text": [
      "\r",
      "Finding valid work IDs:  24%|██▍       | 48/200 [09:02<26:56, 10.63s/ID, Latest ID: 121226517]"
     ]
    },
    {
     "name": "stderr",
     "output_type": "stream",
     "text": [
      "\r",
      "Finding valid work IDs:  24%|██▍       | 48/200 [09:02<26:56, 10.63s/ID, Latest ID: 121226518]"
     ]
    },
    {
     "name": "stderr",
     "output_type": "stream",
     "text": [
      "\r",
      "Finding valid work IDs:  24%|██▍       | 49/200 [09:09<23:56,  9.51s/ID, Latest ID: 121226518]"
     ]
    },
    {
     "name": "stderr",
     "output_type": "stream",
     "text": [
      "\r",
      "Finding valid work IDs:  24%|██▍       | 49/200 [09:09<23:56,  9.51s/ID, Latest ID: 121226519]"
     ]
    },
    {
     "name": "stderr",
     "output_type": "stream",
     "text": [
      "\r",
      "Finding valid work IDs:  25%|██▌       | 50/200 [09:21<25:58, 10.39s/ID, Latest ID: 121226519]"
     ]
    },
    {
     "name": "stderr",
     "output_type": "stream",
     "text": [
      "\r",
      "Finding valid work IDs:  25%|██▌       | 50/200 [09:21<25:58, 10.39s/ID, Latest ID: 121226520]"
     ]
    },
    {
     "name": "stderr",
     "output_type": "stream",
     "text": [
      "\r",
      "Finding valid work IDs:  26%|██▌       | 51/200 [09:32<26:25, 10.64s/ID, Latest ID: 121226520]"
     ]
    },
    {
     "name": "stderr",
     "output_type": "stream",
     "text": [
      "\r",
      "Finding valid work IDs:  26%|██▌       | 51/200 [09:32<26:25, 10.64s/ID, Latest ID: 121226521]"
     ]
    },
    {
     "name": "stderr",
     "output_type": "stream",
     "text": [
      "\r",
      "Finding valid work IDs:  26%|██▌       | 52/200 [09:38<22:54,  9.29s/ID, Latest ID: 121226521]"
     ]
    },
    {
     "name": "stderr",
     "output_type": "stream",
     "text": [
      "\r",
      "Finding valid work IDs:  26%|██▌       | 52/200 [09:38<22:54,  9.29s/ID, Latest ID: 121226522]"
     ]
    },
    {
     "name": "stderr",
     "output_type": "stream",
     "text": [
      "\r",
      "Finding valid work IDs:  26%|██▋       | 53/200 [09:52<25:46, 10.52s/ID, Latest ID: 121226522]"
     ]
    },
    {
     "name": "stderr",
     "output_type": "stream",
     "text": [
      "\r",
      "Finding valid work IDs:  26%|██▋       | 53/200 [09:52<25:46, 10.52s/ID, Latest ID: 121226523]"
     ]
    },
    {
     "name": "stderr",
     "output_type": "stream",
     "text": [
      "\r",
      "Finding valid work IDs:  27%|██▋       | 54/200 [09:58<22:30,  9.25s/ID, Latest ID: 121226523]"
     ]
    },
    {
     "name": "stderr",
     "output_type": "stream",
     "text": [
      "\r",
      "Finding valid work IDs:  27%|██▋       | 54/200 [09:58<22:30,  9.25s/ID, Latest ID: 121226524]"
     ]
    },
    {
     "name": "stderr",
     "output_type": "stream",
     "text": [
      "\r",
      "Finding valid work IDs:  28%|██▊       | 55/200 [10:10<24:16, 10.05s/ID, Latest ID: 121226524]"
     ]
    },
    {
     "name": "stderr",
     "output_type": "stream",
     "text": [
      "\r",
      "Finding valid work IDs:  28%|██▊       | 55/200 [10:10<24:16, 10.05s/ID, Latest ID: 121226525]"
     ]
    },
    {
     "name": "stderr",
     "output_type": "stream",
     "text": [
      "\r",
      "Finding valid work IDs:  28%|██▊       | 56/200 [10:16<21:00,  8.75s/ID, Latest ID: 121226525]"
     ]
    },
    {
     "name": "stderr",
     "output_type": "stream",
     "text": [
      "\r",
      "Finding valid work IDs:  28%|██▊       | 56/200 [10:16<21:00,  8.75s/ID, Latest ID: 121226526]"
     ]
    },
    {
     "name": "stderr",
     "output_type": "stream",
     "text": [
      "\r",
      "Finding valid work IDs:  28%|██▊       | 57/200 [10:23<19:52,  8.34s/ID, Latest ID: 121226526]"
     ]
    },
    {
     "name": "stderr",
     "output_type": "stream",
     "text": [
      "\r",
      "Finding valid work IDs:  28%|██▊       | 57/200 [10:23<19:52,  8.34s/ID, Latest ID: 121226527]"
     ]
    },
    {
     "name": "stderr",
     "output_type": "stream",
     "text": [
      "\r",
      "Finding valid work IDs:  29%|██▉       | 58/200 [10:37<23:29,  9.92s/ID, Latest ID: 121226527]"
     ]
    },
    {
     "name": "stderr",
     "output_type": "stream",
     "text": [
      "\r",
      "Finding valid work IDs:  29%|██▉       | 58/200 [10:37<23:29,  9.92s/ID, Latest ID: 121226529]"
     ]
    },
    {
     "name": "stderr",
     "output_type": "stream",
     "text": [
      "\r",
      "Finding valid work IDs:  30%|██▉       | 59/200 [10:48<24:06, 10.26s/ID, Latest ID: 121226529]"
     ]
    },
    {
     "name": "stderr",
     "output_type": "stream",
     "text": [
      "\r",
      "Finding valid work IDs:  30%|██▉       | 59/200 [10:48<24:06, 10.26s/ID, Latest ID: 121226530]"
     ]
    },
    {
     "name": "stderr",
     "output_type": "stream",
     "text": [
      "\r",
      "Finding valid work IDs:  30%|███       | 60/200 [11:00<24:56, 10.69s/ID, Latest ID: 121226530]"
     ]
    },
    {
     "name": "stderr",
     "output_type": "stream",
     "text": [
      "\r",
      "Finding valid work IDs:  30%|███       | 60/200 [11:00<24:56, 10.69s/ID, Latest ID: 121226531]"
     ]
    },
    {
     "name": "stderr",
     "output_type": "stream",
     "text": [
      "\r",
      "Finding valid work IDs:  30%|███       | 61/200 [11:08<23:28, 10.14s/ID, Latest ID: 121226531]"
     ]
    },
    {
     "name": "stderr",
     "output_type": "stream",
     "text": [
      "\r",
      "Finding valid work IDs:  30%|███       | 61/200 [11:08<23:28, 10.14s/ID, Latest ID: 121226532]"
     ]
    },
    {
     "name": "stderr",
     "output_type": "stream",
     "text": [
      "\r",
      "Finding valid work IDs:  31%|███       | 62/200 [11:23<26:18, 11.44s/ID, Latest ID: 121226532]"
     ]
    },
    {
     "name": "stderr",
     "output_type": "stream",
     "text": [
      "\r",
      "Finding valid work IDs:  31%|███       | 62/200 [11:23<26:18, 11.44s/ID, Latest ID: 121226533]"
     ]
    },
    {
     "name": "stderr",
     "output_type": "stream",
     "text": [
      "\r",
      "Finding valid work IDs:  32%|███▏      | 63/200 [11:30<23:21, 10.23s/ID, Latest ID: 121226533]"
     ]
    },
    {
     "name": "stderr",
     "output_type": "stream",
     "text": [
      "\r",
      "Finding valid work IDs:  32%|███▏      | 63/200 [11:30<23:21, 10.23s/ID, Latest ID: 121226534]"
     ]
    },
    {
     "name": "stderr",
     "output_type": "stream",
     "text": [
      "\r",
      "Finding valid work IDs:  32%|███▏      | 64/200 [11:44<25:21, 11.19s/ID, Latest ID: 121226534]"
     ]
    },
    {
     "name": "stderr",
     "output_type": "stream",
     "text": [
      "\r",
      "Finding valid work IDs:  32%|███▏      | 64/200 [11:44<25:21, 11.19s/ID, Latest ID: 121226535]"
     ]
    },
    {
     "name": "stderr",
     "output_type": "stream",
     "text": [
      "\r",
      "Finding valid work IDs:  32%|███▎      | 65/200 [11:59<27:56, 12.42s/ID, Latest ID: 121226535]"
     ]
    },
    {
     "name": "stderr",
     "output_type": "stream",
     "text": [
      "\r",
      "Finding valid work IDs:  32%|███▎      | 65/200 [11:59<27:56, 12.42s/ID, Latest ID: 121226536]"
     ]
    },
    {
     "name": "stderr",
     "output_type": "stream",
     "text": [
      "\r",
      "Finding valid work IDs:  33%|███▎      | 66/200 [12:07<24:45, 11.08s/ID, Latest ID: 121226536]"
     ]
    },
    {
     "name": "stderr",
     "output_type": "stream",
     "text": [
      "\r",
      "Finding valid work IDs:  33%|███▎      | 66/200 [12:07<24:45, 11.08s/ID, Latest ID: 121226537]"
     ]
    },
    {
     "name": "stderr",
     "output_type": "stream",
     "text": [
      "\r",
      "Finding valid work IDs:  34%|███▎      | 67/200 [12:29<31:53, 14.39s/ID, Latest ID: 121226537]"
     ]
    },
    {
     "name": "stderr",
     "output_type": "stream",
     "text": [
      "\r",
      "Finding valid work IDs:  34%|███▎      | 67/200 [12:29<31:53, 14.39s/ID, Latest ID: 121226539]"
     ]
    },
    {
     "name": "stderr",
     "output_type": "stream",
     "text": [
      "\r",
      "Finding valid work IDs:  34%|███▍      | 68/200 [12:35<26:24, 12.00s/ID, Latest ID: 121226539]"
     ]
    },
    {
     "name": "stderr",
     "output_type": "stream",
     "text": [
      "\r",
      "Finding valid work IDs:  34%|███▍      | 68/200 [12:35<26:24, 12.00s/ID, Latest ID: 121226540]"
     ]
    },
    {
     "name": "stderr",
     "output_type": "stream",
     "text": [
      "\r",
      "Finding valid work IDs:  34%|███▍      | 69/200 [12:54<30:32, 13.98s/ID, Latest ID: 121226540]"
     ]
    },
    {
     "name": "stderr",
     "output_type": "stream",
     "text": [
      "\r",
      "Finding valid work IDs:  34%|███▍      | 69/200 [12:54<30:32, 13.98s/ID, Latest ID: 121226542]"
     ]
    },
    {
     "name": "stderr",
     "output_type": "stream",
     "text": [
      "\r",
      "Finding valid work IDs:  35%|███▌      | 70/200 [13:05<28:09, 13.00s/ID, Latest ID: 121226542]"
     ]
    },
    {
     "name": "stderr",
     "output_type": "stream",
     "text": [
      "\r",
      "Finding valid work IDs:  35%|███▌      | 70/200 [13:05<28:09, 13.00s/ID, Latest ID: 121226543]"
     ]
    },
    {
     "name": "stderr",
     "output_type": "stream",
     "text": [
      "\r",
      "Finding valid work IDs:  36%|███▌      | 71/200 [13:18<28:11, 13.11s/ID, Latest ID: 121226543]"
     ]
    },
    {
     "name": "stderr",
     "output_type": "stream",
     "text": [
      "\r",
      "Finding valid work IDs:  36%|███▌      | 71/200 [13:18<28:11, 13.11s/ID, Latest ID: 121226544]"
     ]
    },
    {
     "name": "stderr",
     "output_type": "stream",
     "text": [
      "\r",
      "Finding valid work IDs:  36%|███▌      | 72/200 [13:32<28:18, 13.27s/ID, Latest ID: 121226544]"
     ]
    },
    {
     "name": "stderr",
     "output_type": "stream",
     "text": [
      "\r",
      "Finding valid work IDs:  36%|███▌      | 72/200 [13:32<28:18, 13.27s/ID, Latest ID: 121226545]"
     ]
    },
    {
     "name": "stderr",
     "output_type": "stream",
     "text": [
      "\r",
      "Finding valid work IDs:  36%|███▋      | 73/200 [13:38<23:47, 11.24s/ID, Latest ID: 121226545]"
     ]
    },
    {
     "name": "stderr",
     "output_type": "stream",
     "text": [
      "\r",
      "Finding valid work IDs:  36%|███▋      | 73/200 [13:38<23:47, 11.24s/ID, Latest ID: 121226546]"
     ]
    },
    {
     "name": "stderr",
     "output_type": "stream",
     "text": [
      "\r",
      "Finding valid work IDs:  37%|███▋      | 74/200 [13:45<20:28,  9.75s/ID, Latest ID: 121226546]"
     ]
    },
    {
     "name": "stderr",
     "output_type": "stream",
     "text": [
      "\r",
      "Finding valid work IDs:  37%|███▋      | 74/200 [13:45<20:28,  9.75s/ID, Latest ID: 121226547]"
     ]
    },
    {
     "name": "stderr",
     "output_type": "stream",
     "text": [
      "\r",
      "Finding valid work IDs:  38%|███▊      | 75/200 [13:59<23:21, 11.22s/ID, Latest ID: 121226547]"
     ]
    },
    {
     "name": "stderr",
     "output_type": "stream",
     "text": [
      "\r",
      "Finding valid work IDs:  38%|███▊      | 75/200 [13:59<23:21, 11.22s/ID, Latest ID: 121226548]"
     ]
    },
    {
     "name": "stderr",
     "output_type": "stream",
     "text": [
      "\r",
      "Finding valid work IDs:  38%|███▊      | 76/200 [14:11<23:48, 11.52s/ID, Latest ID: 121226548]"
     ]
    },
    {
     "name": "stderr",
     "output_type": "stream",
     "text": [
      "\r",
      "Finding valid work IDs:  38%|███▊      | 76/200 [14:11<23:48, 11.52s/ID, Latest ID: 121226550]"
     ]
    },
    {
     "name": "stderr",
     "output_type": "stream",
     "text": [
      "\r",
      "Finding valid work IDs:  38%|███▊      | 77/200 [14:23<23:34, 11.50s/ID, Latest ID: 121226550]"
     ]
    },
    {
     "name": "stderr",
     "output_type": "stream",
     "text": [
      "\r",
      "Finding valid work IDs:  38%|███▊      | 77/200 [14:23<23:34, 11.50s/ID, Latest ID: 121226551]"
     ]
    },
    {
     "name": "stderr",
     "output_type": "stream",
     "text": [
      "\r",
      "Finding valid work IDs:  39%|███▉      | 78/200 [14:34<23:08, 11.38s/ID, Latest ID: 121226551]"
     ]
    },
    {
     "name": "stderr",
     "output_type": "stream",
     "text": [
      "\r",
      "Finding valid work IDs:  39%|███▉      | 78/200 [14:34<23:08, 11.38s/ID, Latest ID: 121226552]"
     ]
    },
    {
     "name": "stderr",
     "output_type": "stream",
     "text": [
      "\r",
      "Finding valid work IDs:  40%|███▉      | 79/200 [14:44<22:03, 10.94s/ID, Latest ID: 121226552]"
     ]
    },
    {
     "name": "stderr",
     "output_type": "stream",
     "text": [
      "\r",
      "Finding valid work IDs:  40%|███▉      | 79/200 [14:44<22:03, 10.94s/ID, Latest ID: 121226553]"
     ]
    },
    {
     "name": "stderr",
     "output_type": "stream",
     "text": [
      "\r",
      "Finding valid work IDs:  40%|████      | 80/200 [14:50<19:07,  9.56s/ID, Latest ID: 121226553]"
     ]
    },
    {
     "name": "stderr",
     "output_type": "stream",
     "text": [
      "\r",
      "Finding valid work IDs:  40%|████      | 80/200 [14:50<19:07,  9.56s/ID, Latest ID: 121226554]"
     ]
    },
    {
     "name": "stderr",
     "output_type": "stream",
     "text": [
      "\r",
      "Finding valid work IDs:  40%|████      | 81/200 [15:06<22:48, 11.50s/ID, Latest ID: 121226554]"
     ]
    },
    {
     "name": "stderr",
     "output_type": "stream",
     "text": [
      "\r",
      "Finding valid work IDs:  40%|████      | 81/200 [15:06<22:48, 11.50s/ID, Latest ID: 121226556]"
     ]
    },
    {
     "name": "stderr",
     "output_type": "stream",
     "text": [
      "\r",
      "Finding valid work IDs:  41%|████      | 82/200 [15:12<18:58,  9.65s/ID, Latest ID: 121226556]"
     ]
    },
    {
     "name": "stderr",
     "output_type": "stream",
     "text": [
      "\r",
      "Finding valid work IDs:  41%|████      | 82/200 [15:12<18:58,  9.65s/ID, Latest ID: 121226557]"
     ]
    },
    {
     "name": "stderr",
     "output_type": "stream",
     "text": [
      "\r",
      "Finding valid work IDs:  42%|████▏     | 83/200 [15:36<27:28, 14.09s/ID, Latest ID: 121226557]"
     ]
    },
    {
     "name": "stderr",
     "output_type": "stream",
     "text": [
      "\r",
      "Finding valid work IDs:  42%|████▏     | 83/200 [15:36<27:28, 14.09s/ID, Latest ID: 121226559]"
     ]
    },
    {
     "name": "stderr",
     "output_type": "stream",
     "text": [
      "\r",
      "Finding valid work IDs:  42%|████▏     | 84/200 [15:45<24:16, 12.55s/ID, Latest ID: 121226559]"
     ]
    },
    {
     "name": "stderr",
     "output_type": "stream",
     "text": [
      "\r",
      "Finding valid work IDs:  42%|████▏     | 84/200 [15:45<24:16, 12.55s/ID, Latest ID: 121226560]"
     ]
    },
    {
     "name": "stderr",
     "output_type": "stream",
     "text": [
      "\r",
      "Finding valid work IDs:  42%|████▎     | 85/200 [16:00<25:27, 13.28s/ID, Latest ID: 121226560]"
     ]
    },
    {
     "name": "stderr",
     "output_type": "stream",
     "text": [
      "\r",
      "Finding valid work IDs:  42%|████▎     | 85/200 [16:00<25:27, 13.28s/ID, Latest ID: 121226561]"
     ]
    },
    {
     "name": "stderr",
     "output_type": "stream",
     "text": [
      "\r",
      "Finding valid work IDs:  43%|████▎     | 86/200 [16:07<21:23, 11.26s/ID, Latest ID: 121226561]"
     ]
    },
    {
     "name": "stderr",
     "output_type": "stream",
     "text": [
      "\r",
      "Finding valid work IDs:  43%|████▎     | 86/200 [16:07<21:23, 11.26s/ID, Latest ID: 121226562]"
     ]
    },
    {
     "name": "stderr",
     "output_type": "stream",
     "text": [
      "\r",
      "Finding valid work IDs:  44%|████▎     | 87/200 [16:28<26:43, 14.19s/ID, Latest ID: 121226562]"
     ]
    },
    {
     "name": "stderr",
     "output_type": "stream",
     "text": [
      "\r",
      "Finding valid work IDs:  44%|████▎     | 87/200 [16:28<26:43, 14.19s/ID, Latest ID: 121226564]"
     ]
    },
    {
     "name": "stderr",
     "output_type": "stream",
     "text": [
      "\r",
      "Finding valid work IDs:  44%|████▍     | 88/200 [16:34<22:06, 11.85s/ID, Latest ID: 121226564]"
     ]
    },
    {
     "name": "stderr",
     "output_type": "stream",
     "text": [
      "\r",
      "Finding valid work IDs:  44%|████▍     | 88/200 [16:34<22:06, 11.85s/ID, Latest ID: 121226565]"
     ]
    },
    {
     "name": "stderr",
     "output_type": "stream",
     "text": [
      "\r",
      "Finding valid work IDs:  44%|████▍     | 89/200 [16:47<22:20, 12.08s/ID, Latest ID: 121226565]"
     ]
    },
    {
     "name": "stderr",
     "output_type": "stream",
     "text": [
      "\r",
      "Finding valid work IDs:  44%|████▍     | 89/200 [16:47<22:20, 12.08s/ID, Latest ID: 121226566]"
     ]
    },
    {
     "name": "stderr",
     "output_type": "stream",
     "text": [
      "\r",
      "Finding valid work IDs:  45%|████▌     | 90/200 [16:58<21:43, 11.85s/ID, Latest ID: 121226566]"
     ]
    },
    {
     "name": "stderr",
     "output_type": "stream",
     "text": [
      "\r",
      "Finding valid work IDs:  45%|████▌     | 90/200 [16:58<21:43, 11.85s/ID, Latest ID: 121226567]"
     ]
    },
    {
     "name": "stderr",
     "output_type": "stream",
     "text": [
      "\r",
      "Finding valid work IDs:  46%|████▌     | 91/200 [17:17<25:24, 13.99s/ID, Latest ID: 121226567]"
     ]
    },
    {
     "name": "stderr",
     "output_type": "stream",
     "text": [
      "\r",
      "Finding valid work IDs:  46%|████▌     | 91/200 [17:17<25:24, 13.99s/ID, Latest ID: 121226569]"
     ]
    },
    {
     "name": "stderr",
     "output_type": "stream",
     "text": [
      "\r",
      "Finding valid work IDs:  46%|████▌     | 92/200 [17:23<21:04, 11.71s/ID, Latest ID: 121226569]"
     ]
    },
    {
     "name": "stderr",
     "output_type": "stream",
     "text": [
      "\r",
      "Finding valid work IDs:  46%|████▌     | 92/200 [17:23<21:04, 11.71s/ID, Latest ID: 121226570]"
     ]
    },
    {
     "name": "stderr",
     "output_type": "stream",
     "text": [
      "\r",
      "Finding valid work IDs:  46%|████▋     | 93/200 [17:38<22:34, 12.66s/ID, Latest ID: 121226570]"
     ]
    },
    {
     "name": "stderr",
     "output_type": "stream",
     "text": [
      "\r",
      "Finding valid work IDs:  46%|████▋     | 93/200 [17:38<22:34, 12.66s/ID, Latest ID: 121226571]"
     ]
    },
    {
     "name": "stderr",
     "output_type": "stream",
     "text": [
      "\r",
      "Finding valid work IDs:  47%|████▋     | 94/200 [17:44<19:00, 10.76s/ID, Latest ID: 121226571]"
     ]
    },
    {
     "name": "stderr",
     "output_type": "stream",
     "text": [
      "\r",
      "Finding valid work IDs:  47%|████▋     | 94/200 [17:44<19:00, 10.76s/ID, Latest ID: 121226572]"
     ]
    },
    {
     "name": "stderr",
     "output_type": "stream",
     "text": [
      "\r",
      "Finding valid work IDs:  48%|████▊     | 95/200 [17:55<18:31, 10.59s/ID, Latest ID: 121226572]"
     ]
    },
    {
     "name": "stderr",
     "output_type": "stream",
     "text": [
      "\r",
      "Finding valid work IDs:  48%|████▊     | 95/200 [17:55<18:31, 10.59s/ID, Latest ID: 121226573]"
     ]
    },
    {
     "name": "stderr",
     "output_type": "stream",
     "text": [
      "\r",
      "Finding valid work IDs:  48%|████▊     | 96/200 [18:05<18:08, 10.46s/ID, Latest ID: 121226573]"
     ]
    },
    {
     "name": "stderr",
     "output_type": "stream",
     "text": [
      "\r",
      "Finding valid work IDs:  48%|████▊     | 96/200 [18:05<18:08, 10.46s/ID, Latest ID: 121226574]"
     ]
    },
    {
     "name": "stderr",
     "output_type": "stream",
     "text": [
      "\r",
      "Finding valid work IDs:  48%|████▊     | 97/200 [18:15<17:54, 10.44s/ID, Latest ID: 121226574]"
     ]
    },
    {
     "name": "stderr",
     "output_type": "stream",
     "text": [
      "\r",
      "Finding valid work IDs:  48%|████▊     | 97/200 [18:15<17:54, 10.44s/ID, Latest ID: 121226575]"
     ]
    },
    {
     "name": "stderr",
     "output_type": "stream",
     "text": [
      "\r",
      "Finding valid work IDs:  49%|████▉     | 98/200 [18:22<15:48,  9.30s/ID, Latest ID: 121226575]"
     ]
    },
    {
     "name": "stderr",
     "output_type": "stream",
     "text": [
      "\r",
      "Finding valid work IDs:  49%|████▉     | 98/200 [18:22<15:48,  9.30s/ID, Latest ID: 121226576]"
     ]
    },
    {
     "name": "stderr",
     "output_type": "stream",
     "text": [
      "\r",
      "Finding valid work IDs:  50%|████▉     | 99/200 [18:35<17:44, 10.54s/ID, Latest ID: 121226576]"
     ]
    },
    {
     "name": "stderr",
     "output_type": "stream",
     "text": [
      "\r",
      "Finding valid work IDs:  50%|████▉     | 99/200 [18:35<17:44, 10.54s/ID, Latest ID: 121226577]"
     ]
    },
    {
     "name": "stderr",
     "output_type": "stream",
     "text": [
      "\r",
      "Finding valid work IDs:  50%|█████     | 100/200 [18:49<19:06, 11.47s/ID, Latest ID: 121226577]"
     ]
    },
    {
     "name": "stderr",
     "output_type": "stream",
     "text": [
      "\r",
      "Finding valid work IDs:  50%|█████     | 100/200 [18:49<19:06, 11.47s/ID, Latest ID: 121226578]"
     ]
    },
    {
     "name": "stderr",
     "output_type": "stream",
     "text": [
      "\r",
      "Finding valid work IDs:  50%|█████     | 101/200 [19:03<20:24, 12.36s/ID, Latest ID: 121226578]"
     ]
    },
    {
     "name": "stderr",
     "output_type": "stream",
     "text": [
      "\r",
      "Finding valid work IDs:  50%|█████     | 101/200 [19:03<20:24, 12.36s/ID, Latest ID: 121226579]"
     ]
    },
    {
     "name": "stderr",
     "output_type": "stream",
     "text": [
      "\r",
      "Finding valid work IDs:  51%|█████     | 102/200 [19:09<17:06, 10.47s/ID, Latest ID: 121226579]"
     ]
    },
    {
     "name": "stderr",
     "output_type": "stream",
     "text": [
      "\r",
      "Finding valid work IDs:  51%|█████     | 102/200 [19:09<17:06, 10.47s/ID, Latest ID: 121226580]"
     ]
    },
    {
     "name": "stderr",
     "output_type": "stream",
     "text": [
      "\r",
      "Finding valid work IDs:  52%|█████▏    | 103/200 [19:33<23:28, 14.52s/ID, Latest ID: 121226580]"
     ]
    },
    {
     "name": "stderr",
     "output_type": "stream",
     "text": [
      "\r",
      "Finding valid work IDs:  52%|█████▏    | 103/200 [19:33<23:28, 14.52s/ID, Latest ID: 121226582]"
     ]
    },
    {
     "name": "stderr",
     "output_type": "stream",
     "text": [
      "\r",
      "Finding valid work IDs:  52%|█████▏    | 104/200 [19:44<21:10, 13.23s/ID, Latest ID: 121226582]"
     ]
    },
    {
     "name": "stderr",
     "output_type": "stream",
     "text": [
      "\r",
      "Finding valid work IDs:  52%|█████▏    | 104/200 [19:44<21:10, 13.23s/ID, Latest ID: 121226583]"
     ]
    },
    {
     "name": "stderr",
     "output_type": "stream",
     "text": [
      "\r",
      "Finding valid work IDs:  52%|█████▎    | 105/200 [19:54<19:23, 12.25s/ID, Latest ID: 121226583]"
     ]
    },
    {
     "name": "stderr",
     "output_type": "stream",
     "text": [
      "\r",
      "Finding valid work IDs:  52%|█████▎    | 105/200 [19:54<19:23, 12.25s/ID, Latest ID: 121226584]"
     ]
    },
    {
     "name": "stderr",
     "output_type": "stream",
     "text": [
      "\r",
      "Finding valid work IDs:  53%|█████▎    | 106/200 [20:07<19:42, 12.58s/ID, Latest ID: 121226584]"
     ]
    },
    {
     "name": "stderr",
     "output_type": "stream",
     "text": [
      "\r",
      "Finding valid work IDs:  53%|█████▎    | 106/200 [20:07<19:42, 12.58s/ID, Latest ID: 121226585]"
     ]
    },
    {
     "name": "stderr",
     "output_type": "stream",
     "text": [
      "\r",
      "Finding valid work IDs:  54%|█████▎    | 107/200 [20:32<25:29, 16.45s/ID, Latest ID: 121226585]"
     ]
    },
    {
     "name": "stderr",
     "output_type": "stream",
     "text": [
      "\r",
      "Finding valid work IDs:  54%|█████▎    | 107/200 [20:32<25:29, 16.45s/ID, Latest ID: 121226587]"
     ]
    },
    {
     "name": "stderr",
     "output_type": "stream",
     "text": [
      "\r",
      "Finding valid work IDs:  54%|█████▍    | 108/200 [20:39<20:44, 13.52s/ID, Latest ID: 121226587]"
     ]
    },
    {
     "name": "stderr",
     "output_type": "stream",
     "text": [
      "\r",
      "Finding valid work IDs:  54%|█████▍    | 108/200 [20:39<20:44, 13.52s/ID, Latest ID: 121226588]"
     ]
    },
    {
     "name": "stderr",
     "output_type": "stream",
     "text": [
      "\r",
      "Finding valid work IDs:  55%|█████▍    | 109/200 [21:02<24:57, 16.45s/ID, Latest ID: 121226588]"
     ]
    },
    {
     "name": "stderr",
     "output_type": "stream",
     "text": [
      "\r",
      "Finding valid work IDs:  55%|█████▍    | 109/200 [21:02<24:57, 16.45s/ID, Latest ID: 121226590]"
     ]
    },
    {
     "name": "stderr",
     "output_type": "stream",
     "text": [
      "\r",
      "Finding valid work IDs:  55%|█████▌    | 110/200 [21:08<19:55, 13.29s/ID, Latest ID: 121226590]"
     ]
    },
    {
     "name": "stderr",
     "output_type": "stream",
     "text": [
      "\r",
      "Finding valid work IDs:  55%|█████▌    | 110/200 [21:08<19:55, 13.29s/ID, Latest ID: 121226591]"
     ]
    },
    {
     "name": "stderr",
     "output_type": "stream",
     "text": [
      "\r",
      "Finding valid work IDs:  56%|█████▌    | 111/200 [21:21<19:19, 13.03s/ID, Latest ID: 121226591]"
     ]
    },
    {
     "name": "stderr",
     "output_type": "stream",
     "text": [
      "\r",
      "Finding valid work IDs:  56%|█████▌    | 111/200 [21:21<19:19, 13.03s/ID, Latest ID: 121226592]"
     ]
    },
    {
     "name": "stderr",
     "output_type": "stream",
     "text": [
      "\r",
      "Finding valid work IDs:  56%|█████▌    | 112/200 [21:30<17:27, 11.90s/ID, Latest ID: 121226592]"
     ]
    },
    {
     "name": "stderr",
     "output_type": "stream",
     "text": [
      "\r",
      "Finding valid work IDs:  56%|█████▌    | 112/200 [21:30<17:27, 11.90s/ID, Latest ID: 121226593]"
     ]
    },
    {
     "name": "stderr",
     "output_type": "stream",
     "text": [
      "\r",
      "Finding valid work IDs:  56%|█████▋    | 113/200 [21:44<18:20, 12.65s/ID, Latest ID: 121226593]"
     ]
    },
    {
     "name": "stderr",
     "output_type": "stream",
     "text": [
      "\r",
      "Finding valid work IDs:  56%|█████▋    | 113/200 [21:44<18:20, 12.65s/ID, Latest ID: 121226594]"
     ]
    },
    {
     "name": "stderr",
     "output_type": "stream",
     "text": [
      "\r",
      "Finding valid work IDs:  57%|█████▋    | 114/200 [21:50<15:00, 10.47s/ID, Latest ID: 121226594]"
     ]
    },
    {
     "name": "stderr",
     "output_type": "stream",
     "text": [
      "\r",
      "Finding valid work IDs:  57%|█████▋    | 114/200 [21:50<15:00, 10.47s/ID, Latest ID: 121226595]"
     ]
    },
    {
     "name": "stderr",
     "output_type": "stream",
     "text": [
      "\r",
      "Finding valid work IDs:  57%|█████▊    | 115/200 [22:04<16:16, 11.48s/ID, Latest ID: 121226595]"
     ]
    },
    {
     "name": "stderr",
     "output_type": "stream",
     "text": [
      "\r",
      "Finding valid work IDs:  57%|█████▊    | 115/200 [22:04<16:16, 11.48s/ID, Latest ID: 121226596]"
     ]
    },
    {
     "name": "stderr",
     "output_type": "stream",
     "text": [
      "\r",
      "Finding valid work IDs:  58%|█████▊    | 116/200 [22:10<13:52,  9.91s/ID, Latest ID: 121226596]"
     ]
    },
    {
     "name": "stderr",
     "output_type": "stream",
     "text": [
      "\r",
      "Finding valid work IDs:  58%|█████▊    | 116/200 [22:10<13:52,  9.91s/ID, Latest ID: 121226597]"
     ]
    },
    {
     "name": "stderr",
     "output_type": "stream",
     "text": [
      "\r",
      "Finding valid work IDs:  58%|█████▊    | 117/200 [22:23<15:06, 10.92s/ID, Latest ID: 121226597]"
     ]
    },
    {
     "name": "stderr",
     "output_type": "stream",
     "text": [
      "\r",
      "Finding valid work IDs:  58%|█████▊    | 117/200 [22:23<15:06, 10.92s/ID, Latest ID: 121226598]"
     ]
    },
    {
     "name": "stderr",
     "output_type": "stream",
     "text": [
      "\r",
      "Finding valid work IDs:  59%|█████▉    | 118/200 [22:38<16:36, 12.15s/ID, Latest ID: 121226598]"
     ]
    },
    {
     "name": "stderr",
     "output_type": "stream",
     "text": [
      "\r",
      "Finding valid work IDs:  59%|█████▉    | 118/200 [22:38<16:36, 12.15s/ID, Latest ID: 121226599]"
     ]
    },
    {
     "name": "stderr",
     "output_type": "stream",
     "text": [
      "\r",
      "Finding valid work IDs:  60%|█████▉    | 119/200 [22:44<13:51, 10.26s/ID, Latest ID: 121226599]"
     ]
    },
    {
     "name": "stderr",
     "output_type": "stream",
     "text": [
      "\r",
      "Finding valid work IDs:  60%|█████▉    | 119/200 [22:44<13:51, 10.26s/ID, Latest ID: 121226600]"
     ]
    },
    {
     "name": "stderr",
     "output_type": "stream",
     "text": [
      "\r",
      "Finding valid work IDs:  60%|██████    | 120/200 [22:56<14:23, 10.79s/ID, Latest ID: 121226600]"
     ]
    },
    {
     "name": "stderr",
     "output_type": "stream",
     "text": [
      "\r",
      "Finding valid work IDs:  60%|██████    | 120/200 [22:56<14:23, 10.79s/ID, Latest ID: 121226601]"
     ]
    },
    {
     "name": "stderr",
     "output_type": "stream",
     "text": [
      "\r",
      "Finding valid work IDs:  60%|██████    | 121/200 [23:03<12:35,  9.57s/ID, Latest ID: 121226601]"
     ]
    },
    {
     "name": "stderr",
     "output_type": "stream",
     "text": [
      "\r",
      "Finding valid work IDs:  60%|██████    | 121/200 [23:03<12:35,  9.57s/ID, Latest ID: 121226602]"
     ]
    },
    {
     "name": "stderr",
     "output_type": "stream",
     "text": [
      "\r",
      "Finding valid work IDs:  61%|██████    | 122/200 [23:12<12:21,  9.51s/ID, Latest ID: 121226602]"
     ]
    },
    {
     "name": "stderr",
     "output_type": "stream",
     "text": [
      "\r",
      "Finding valid work IDs:  61%|██████    | 122/200 [23:12<12:21,  9.51s/ID, Latest ID: 121226603]"
     ]
    },
    {
     "name": "stderr",
     "output_type": "stream",
     "text": [
      "\r",
      "Finding valid work IDs:  62%|██████▏   | 123/200 [23:20<11:40,  9.10s/ID, Latest ID: 121226603]"
     ]
    },
    {
     "name": "stderr",
     "output_type": "stream",
     "text": [
      "\r",
      "Finding valid work IDs:  62%|██████▏   | 123/200 [23:20<11:40,  9.10s/ID, Latest ID: 121226604]"
     ]
    },
    {
     "name": "stderr",
     "output_type": "stream",
     "text": [
      "\r",
      "Finding valid work IDs:  62%|██████▏   | 124/200 [23:26<10:11,  8.05s/ID, Latest ID: 121226604]"
     ]
    },
    {
     "name": "stderr",
     "output_type": "stream",
     "text": [
      "\r",
      "Finding valid work IDs:  62%|██████▏   | 124/200 [23:26<10:11,  8.05s/ID, Latest ID: 121226605]"
     ]
    },
    {
     "name": "stderr",
     "output_type": "stream",
     "text": [
      "\r",
      "Finding valid work IDs:  62%|██████▎   | 125/200 [23:41<12:46, 10.22s/ID, Latest ID: 121226605]"
     ]
    },
    {
     "name": "stderr",
     "output_type": "stream",
     "text": [
      "\r",
      "Finding valid work IDs:  62%|██████▎   | 125/200 [23:41<12:46, 10.22s/ID, Latest ID: 121226606]"
     ]
    },
    {
     "name": "stderr",
     "output_type": "stream",
     "text": [
      "\r",
      "Finding valid work IDs:  63%|██████▎   | 126/200 [23:49<11:41,  9.48s/ID, Latest ID: 121226606]"
     ]
    },
    {
     "name": "stderr",
     "output_type": "stream",
     "text": [
      "\r",
      "Finding valid work IDs:  63%|██████▎   | 126/200 [23:49<11:41,  9.48s/ID, Latest ID: 121226607]"
     ]
    },
    {
     "name": "stderr",
     "output_type": "stream",
     "text": [
      "\r",
      "Finding valid work IDs:  64%|██████▎   | 127/200 [24:02<12:54, 10.61s/ID, Latest ID: 121226607]"
     ]
    },
    {
     "name": "stderr",
     "output_type": "stream",
     "text": [
      "\r",
      "Finding valid work IDs:  64%|██████▎   | 127/200 [24:02<12:54, 10.61s/ID, Latest ID: 121226608]"
     ]
    },
    {
     "name": "stderr",
     "output_type": "stream",
     "text": [
      "\r",
      "Finding valid work IDs:  64%|██████▍   | 128/200 [24:14<13:17, 11.07s/ID, Latest ID: 121226608]"
     ]
    },
    {
     "name": "stderr",
     "output_type": "stream",
     "text": [
      "\r",
      "Finding valid work IDs:  64%|██████▍   | 128/200 [24:14<13:17, 11.07s/ID, Latest ID: 121226609]"
     ]
    },
    {
     "name": "stderr",
     "output_type": "stream",
     "text": [
      "\r",
      "Finding valid work IDs:  64%|██████▍   | 129/200 [24:27<13:49, 11.68s/ID, Latest ID: 121226609]"
     ]
    },
    {
     "name": "stderr",
     "output_type": "stream",
     "text": [
      "\r",
      "Finding valid work IDs:  64%|██████▍   | 129/200 [24:27<13:49, 11.68s/ID, Latest ID: 121226610]"
     ]
    },
    {
     "name": "stderr",
     "output_type": "stream",
     "text": [
      "\r",
      "Finding valid work IDs:  65%|██████▌   | 130/200 [24:41<14:29, 12.42s/ID, Latest ID: 121226610]"
     ]
    },
    {
     "name": "stderr",
     "output_type": "stream",
     "text": [
      "\r",
      "Finding valid work IDs:  65%|██████▌   | 130/200 [24:41<14:29, 12.42s/ID, Latest ID: 121226611]"
     ]
    },
    {
     "name": "stderr",
     "output_type": "stream",
     "text": [
      "\r",
      "Finding valid work IDs:  66%|██████▌   | 131/200 [24:47<11:50, 10.30s/ID, Latest ID: 121226611]"
     ]
    },
    {
     "name": "stderr",
     "output_type": "stream",
     "text": [
      "\r",
      "Finding valid work IDs:  66%|██████▌   | 131/200 [24:47<11:50, 10.30s/ID, Latest ID: 121226612]"
     ]
    },
    {
     "name": "stderr",
     "output_type": "stream",
     "text": [
      "\r",
      "Finding valid work IDs:  66%|██████▌   | 132/200 [25:11<16:25, 14.49s/ID, Latest ID: 121226612]"
     ]
    },
    {
     "name": "stderr",
     "output_type": "stream",
     "text": [
      "\r",
      "Finding valid work IDs:  66%|██████▌   | 132/200 [25:11<16:25, 14.49s/ID, Latest ID: 121226614]"
     ]
    },
    {
     "name": "stderr",
     "output_type": "stream",
     "text": [
      "\r",
      "Finding valid work IDs:  66%|██████▋   | 133/200 [25:24<15:43, 14.08s/ID, Latest ID: 121226614]"
     ]
    },
    {
     "name": "stderr",
     "output_type": "stream",
     "text": [
      "\r",
      "Finding valid work IDs:  66%|██████▋   | 133/200 [25:24<15:43, 14.08s/ID, Latest ID: 121226615]"
     ]
    },
    {
     "name": "stderr",
     "output_type": "stream",
     "text": [
      "\r",
      "Finding valid work IDs:  67%|██████▋   | 134/200 [25:39<15:42, 14.28s/ID, Latest ID: 121226615]"
     ]
    },
    {
     "name": "stderr",
     "output_type": "stream",
     "text": [
      "\r",
      "Finding valid work IDs:  67%|██████▋   | 134/200 [25:39<15:42, 14.28s/ID, Latest ID: 121226616]"
     ]
    },
    {
     "name": "stderr",
     "output_type": "stream",
     "text": [
      "\r",
      "Finding valid work IDs:  68%|██████▊   | 135/200 [25:45<12:47, 11.80s/ID, Latest ID: 121226616]"
     ]
    },
    {
     "name": "stderr",
     "output_type": "stream",
     "text": [
      "\r",
      "Finding valid work IDs:  68%|██████▊   | 135/200 [25:45<12:47, 11.80s/ID, Latest ID: 121226617]"
     ]
    },
    {
     "name": "stderr",
     "output_type": "stream",
     "text": [
      "\r",
      "Finding valid work IDs:  68%|██████▊   | 136/200 [26:01<13:46, 12.92s/ID, Latest ID: 121226617]"
     ]
    },
    {
     "name": "stderr",
     "output_type": "stream",
     "text": [
      "\r",
      "Finding valid work IDs:  68%|██████▊   | 136/200 [26:01<13:46, 12.92s/ID, Latest ID: 121226619]"
     ]
    },
    {
     "name": "stderr",
     "output_type": "stream",
     "text": [
      "\r",
      "Finding valid work IDs:  68%|██████▊   | 137/200 [26:16<14:16, 13.59s/ID, Latest ID: 121226619]"
     ]
    },
    {
     "name": "stderr",
     "output_type": "stream",
     "text": [
      "\r",
      "Finding valid work IDs:  68%|██████▊   | 137/200 [26:16<14:16, 13.59s/ID, Latest ID: 121226620]"
     ]
    },
    {
     "name": "stderr",
     "output_type": "stream",
     "text": [
      "\r",
      "Finding valid work IDs:  69%|██████▉   | 138/200 [26:31<14:33, 14.09s/ID, Latest ID: 121226620]"
     ]
    },
    {
     "name": "stderr",
     "output_type": "stream",
     "text": [
      "\r",
      "Finding valid work IDs:  69%|██████▉   | 138/200 [26:31<14:33, 14.09s/ID, Latest ID: 121226621]"
     ]
    },
    {
     "name": "stderr",
     "output_type": "stream",
     "text": [
      "\r",
      "Finding valid work IDs:  70%|██████▉   | 139/200 [26:44<13:56, 13.71s/ID, Latest ID: 121226621]"
     ]
    },
    {
     "name": "stderr",
     "output_type": "stream",
     "text": [
      "\r",
      "Finding valid work IDs:  70%|██████▉   | 139/200 [26:44<13:56, 13.71s/ID, Latest ID: 121226622]"
     ]
    },
    {
     "name": "stderr",
     "output_type": "stream",
     "text": [
      "\r",
      "Finding valid work IDs:  70%|███████   | 140/200 [27:18<20:00, 20.01s/ID, Latest ID: 121226622]"
     ]
    },
    {
     "name": "stderr",
     "output_type": "stream",
     "text": [
      "\r",
      "Finding valid work IDs:  70%|███████   | 140/200 [27:18<20:00, 20.01s/ID, Latest ID: 121226625]"
     ]
    },
    {
     "name": "stderr",
     "output_type": "stream",
     "text": [
      "\r",
      "Finding valid work IDs:  70%|███████   | 141/200 [27:30<17:16, 17.58s/ID, Latest ID: 121226625]"
     ]
    },
    {
     "name": "stderr",
     "output_type": "stream",
     "text": [
      "\r",
      "Finding valid work IDs:  70%|███████   | 141/200 [27:30<17:16, 17.58s/ID, Latest ID: 121226626]"
     ]
    },
    {
     "name": "stderr",
     "output_type": "stream",
     "text": [
      "\r",
      "Finding valid work IDs:  71%|███████   | 142/200 [27:42<15:15, 15.78s/ID, Latest ID: 121226626]"
     ]
    },
    {
     "name": "stderr",
     "output_type": "stream",
     "text": [
      "\r",
      "Finding valid work IDs:  71%|███████   | 142/200 [27:42<15:15, 15.78s/ID, Latest ID: 121226627]"
     ]
    },
    {
     "name": "stderr",
     "output_type": "stream",
     "text": [
      "\r",
      "Finding valid work IDs:  72%|███████▏  | 143/200 [27:55<14:13, 14.98s/ID, Latest ID: 121226627]"
     ]
    },
    {
     "name": "stderr",
     "output_type": "stream",
     "text": [
      "\r",
      "Finding valid work IDs:  72%|███████▏  | 143/200 [27:55<14:13, 14.98s/ID, Latest ID: 121226628]"
     ]
    },
    {
     "name": "stderr",
     "output_type": "stream",
     "text": [
      "\r",
      "Finding valid work IDs:  72%|███████▏  | 144/200 [28:07<13:10, 14.12s/ID, Latest ID: 121226628]"
     ]
    },
    {
     "name": "stderr",
     "output_type": "stream",
     "text": [
      "\r",
      "Finding valid work IDs:  72%|███████▏  | 144/200 [28:07<13:10, 14.12s/ID, Latest ID: 121226629]"
     ]
    },
    {
     "name": "stderr",
     "output_type": "stream",
     "text": [
      "\r",
      "Finding valid work IDs:  72%|███████▎  | 145/200 [28:19<12:19, 13.45s/ID, Latest ID: 121226629]"
     ]
    },
    {
     "name": "stderr",
     "output_type": "stream",
     "text": [
      "\r",
      "Finding valid work IDs:  72%|███████▎  | 145/200 [28:19<12:19, 13.45s/ID, Latest ID: 121226630]"
     ]
    },
    {
     "name": "stderr",
     "output_type": "stream",
     "text": [
      "\r",
      "Finding valid work IDs:  73%|███████▎  | 146/200 [28:44<15:08, 16.83s/ID, Latest ID: 121226630]"
     ]
    },
    {
     "name": "stderr",
     "output_type": "stream",
     "text": [
      "\r",
      "Finding valid work IDs:  73%|███████▎  | 146/200 [28:44<15:08, 16.83s/ID, Latest ID: 121226632]"
     ]
    },
    {
     "name": "stderr",
     "output_type": "stream",
     "text": [
      "\r",
      "Finding valid work IDs:  74%|███████▎  | 147/200 [28:54<13:08, 14.88s/ID, Latest ID: 121226632]"
     ]
    },
    {
     "name": "stderr",
     "output_type": "stream",
     "text": [
      "\r",
      "Finding valid work IDs:  74%|███████▎  | 147/200 [28:54<13:08, 14.88s/ID, Latest ID: 121226633]"
     ]
    },
    {
     "name": "stderr",
     "output_type": "stream",
     "text": [
      "\r",
      "Finding valid work IDs:  74%|███████▍  | 148/200 [29:08<12:39, 14.60s/ID, Latest ID: 121226633]"
     ]
    },
    {
     "name": "stderr",
     "output_type": "stream",
     "text": [
      "\r",
      "Finding valid work IDs:  74%|███████▍  | 148/200 [29:08<12:39, 14.60s/ID, Latest ID: 121226634]"
     ]
    },
    {
     "name": "stderr",
     "output_type": "stream",
     "text": [
      "\r",
      "Finding valid work IDs:  74%|███████▍  | 149/200 [29:33<15:06, 17.77s/ID, Latest ID: 121226634]"
     ]
    },
    {
     "name": "stderr",
     "output_type": "stream",
     "text": [
      "\r",
      "Finding valid work IDs:  74%|███████▍  | 149/200 [29:33<15:06, 17.77s/ID, Latest ID: 121226636]"
     ]
    },
    {
     "name": "stderr",
     "output_type": "stream",
     "text": [
      "\r",
      "Finding valid work IDs:  75%|███████▌  | 150/200 [29:46<13:31, 16.23s/ID, Latest ID: 121226636]"
     ]
    },
    {
     "name": "stderr",
     "output_type": "stream",
     "text": [
      "\r",
      "Finding valid work IDs:  75%|███████▌  | 150/200 [29:46<13:31, 16.23s/ID, Latest ID: 121226637]"
     ]
    },
    {
     "name": "stderr",
     "output_type": "stream",
     "text": [
      "\r",
      "Finding valid work IDs:  76%|███████▌  | 151/200 [30:05<13:51, 16.97s/ID, Latest ID: 121226637]"
     ]
    },
    {
     "name": "stderr",
     "output_type": "stream",
     "text": [
      "\r",
      "Finding valid work IDs:  76%|███████▌  | 151/200 [30:05<13:51, 16.97s/ID, Latest ID: 121226639]"
     ]
    },
    {
     "name": "stderr",
     "output_type": "stream",
     "text": [
      "\r",
      "Finding valid work IDs:  76%|███████▌  | 152/200 [30:15<12:02, 15.04s/ID, Latest ID: 121226639]"
     ]
    },
    {
     "name": "stderr",
     "output_type": "stream",
     "text": [
      "\r",
      "Finding valid work IDs:  76%|███████▌  | 152/200 [30:15<12:02, 15.04s/ID, Latest ID: 121226640]"
     ]
    },
    {
     "name": "stderr",
     "output_type": "stream",
     "text": [
      "\r",
      "Finding valid work IDs:  76%|███████▋  | 153/200 [30:56<17:48, 22.73s/ID, Latest ID: 121226640]"
     ]
    },
    {
     "name": "stderr",
     "output_type": "stream",
     "text": [
      "\r",
      "Finding valid work IDs:  76%|███████▋  | 153/200 [30:56<17:48, 22.73s/ID, Latest ID: 121226644]"
     ]
    },
    {
     "name": "stderr",
     "output_type": "stream",
     "text": [
      "\r",
      "Finding valid work IDs:  77%|███████▋  | 154/200 [31:08<14:57, 19.51s/ID, Latest ID: 121226644]"
     ]
    },
    {
     "name": "stderr",
     "output_type": "stream",
     "text": [
      "\r",
      "Finding valid work IDs:  77%|███████▋  | 154/200 [31:08<14:57, 19.51s/ID, Latest ID: 121226645]"
     ]
    },
    {
     "name": "stderr",
     "output_type": "stream",
     "text": [
      "\r",
      "Finding valid work IDs:  78%|███████▊  | 155/200 [31:16<12:12, 16.27s/ID, Latest ID: 121226645]"
     ]
    },
    {
     "name": "stderr",
     "output_type": "stream",
     "text": [
      "\r",
      "Finding valid work IDs:  78%|███████▊  | 155/200 [31:16<12:12, 16.27s/ID, Latest ID: 121226646]"
     ]
    },
    {
     "name": "stderr",
     "output_type": "stream",
     "text": [
      "\r",
      "Finding valid work IDs:  78%|███████▊  | 156/200 [31:31<11:37, 15.86s/ID, Latest ID: 121226646]"
     ]
    },
    {
     "name": "stderr",
     "output_type": "stream",
     "text": [
      "\r",
      "Finding valid work IDs:  78%|███████▊  | 156/200 [31:31<11:37, 15.86s/ID, Latest ID: 121226648]"
     ]
    },
    {
     "name": "stderr",
     "output_type": "stream",
     "text": [
      "\r",
      "Finding valid work IDs:  78%|███████▊  | 157/200 [31:45<10:52, 15.19s/ID, Latest ID: 121226648]"
     ]
    },
    {
     "name": "stderr",
     "output_type": "stream",
     "text": [
      "\r",
      "Finding valid work IDs:  78%|███████▊  | 157/200 [31:45<10:52, 15.19s/ID, Latest ID: 121226649]"
     ]
    },
    {
     "name": "stderr",
     "output_type": "stream",
     "text": [
      "\r",
      "Finding valid work IDs:  79%|███████▉  | 158/200 [31:57<09:53, 14.13s/ID, Latest ID: 121226649]"
     ]
    },
    {
     "name": "stderr",
     "output_type": "stream",
     "text": [
      "\r",
      "Finding valid work IDs:  79%|███████▉  | 158/200 [31:57<09:53, 14.13s/ID, Latest ID: 121226650]"
     ]
    },
    {
     "name": "stderr",
     "output_type": "stream",
     "text": [
      "\r",
      "Finding valid work IDs:  80%|███████▉  | 159/200 [32:09<09:23, 13.74s/ID, Latest ID: 121226650]"
     ]
    },
    {
     "name": "stderr",
     "output_type": "stream",
     "text": [
      "\r",
      "Finding valid work IDs:  80%|███████▉  | 159/200 [32:09<09:23, 13.74s/ID, Latest ID: 121226651]"
     ]
    },
    {
     "name": "stderr",
     "output_type": "stream",
     "text": [
      "\r",
      "Finding valid work IDs:  80%|████████  | 160/200 [32:20<08:33, 12.83s/ID, Latest ID: 121226651]"
     ]
    },
    {
     "name": "stderr",
     "output_type": "stream",
     "text": [
      "\r",
      "Finding valid work IDs:  80%|████████  | 160/200 [32:20<08:33, 12.83s/ID, Latest ID: 121226652]"
     ]
    },
    {
     "name": "stderr",
     "output_type": "stream",
     "text": [
      "\r",
      "Finding valid work IDs:  80%|████████  | 161/200 [32:34<08:31, 13.13s/ID, Latest ID: 121226652]"
     ]
    },
    {
     "name": "stderr",
     "output_type": "stream",
     "text": [
      "\r",
      "Finding valid work IDs:  80%|████████  | 161/200 [32:34<08:31, 13.13s/ID, Latest ID: 121226653]"
     ]
    },
    {
     "name": "stderr",
     "output_type": "stream",
     "text": [
      "\r",
      "Finding valid work IDs:  81%|████████  | 162/200 [32:46<08:08, 12.86s/ID, Latest ID: 121226653]"
     ]
    },
    {
     "name": "stderr",
     "output_type": "stream",
     "text": [
      "\r",
      "Finding valid work IDs:  81%|████████  | 162/200 [32:46<08:08, 12.86s/ID, Latest ID: 121226654]"
     ]
    },
    {
     "name": "stderr",
     "output_type": "stream",
     "text": [
      "\r",
      "Finding valid work IDs:  82%|████████▏ | 163/200 [33:03<08:35, 13.94s/ID, Latest ID: 121226654]"
     ]
    },
    {
     "name": "stderr",
     "output_type": "stream",
     "text": [
      "\r",
      "Finding valid work IDs:  82%|████████▏ | 163/200 [33:03<08:35, 13.94s/ID, Latest ID: 121226656]"
     ]
    },
    {
     "name": "stderr",
     "output_type": "stream",
     "text": [
      "\r",
      "Finding valid work IDs:  82%|████████▏ | 164/200 [33:12<07:33, 12.59s/ID, Latest ID: 121226656]"
     ]
    },
    {
     "name": "stderr",
     "output_type": "stream",
     "text": [
      "\r",
      "Finding valid work IDs:  82%|████████▏ | 164/200 [33:12<07:33, 12.59s/ID, Latest ID: 121226657]"
     ]
    },
    {
     "name": "stderr",
     "output_type": "stream",
     "text": [
      "\r",
      "Finding valid work IDs:  82%|████████▎ | 165/200 [33:24<07:08, 12.24s/ID, Latest ID: 121226657]"
     ]
    },
    {
     "name": "stderr",
     "output_type": "stream",
     "text": [
      "\r",
      "Finding valid work IDs:  82%|████████▎ | 165/200 [33:24<07:08, 12.24s/ID, Latest ID: 121226658]"
     ]
    },
    {
     "name": "stderr",
     "output_type": "stream",
     "text": [
      "\r",
      "Finding valid work IDs:  83%|████████▎ | 166/200 [33:36<06:57, 12.28s/ID, Latest ID: 121226658]"
     ]
    },
    {
     "name": "stderr",
     "output_type": "stream",
     "text": [
      "\r",
      "Finding valid work IDs:  83%|████████▎ | 166/200 [33:36<06:57, 12.28s/ID, Latest ID: 121226659]"
     ]
    },
    {
     "name": "stderr",
     "output_type": "stream",
     "text": [
      "\r",
      "Finding valid work IDs:  84%|████████▎ | 167/200 [33:42<05:48, 10.55s/ID, Latest ID: 121226659]"
     ]
    },
    {
     "name": "stderr",
     "output_type": "stream",
     "text": [
      "\r",
      "Finding valid work IDs:  84%|████████▎ | 167/200 [33:42<05:48, 10.55s/ID, Latest ID: 121226660]"
     ]
    },
    {
     "name": "stderr",
     "output_type": "stream",
     "text": [
      "\r",
      "Finding valid work IDs:  84%|████████▍ | 168/200 [33:52<05:32, 10.39s/ID, Latest ID: 121226660]"
     ]
    },
    {
     "name": "stderr",
     "output_type": "stream",
     "text": [
      "\r",
      "Finding valid work IDs:  84%|████████▍ | 168/200 [33:52<05:32, 10.39s/ID, Latest ID: 121226661]"
     ]
    },
    {
     "name": "stderr",
     "output_type": "stream",
     "text": [
      "\r",
      "Finding valid work IDs:  84%|████████▍ | 169/200 [34:01<05:06,  9.89s/ID, Latest ID: 121226661]"
     ]
    },
    {
     "name": "stderr",
     "output_type": "stream",
     "text": [
      "\r",
      "Finding valid work IDs:  84%|████████▍ | 169/200 [34:01<05:06,  9.89s/ID, Latest ID: 121226662]"
     ]
    },
    {
     "name": "stderr",
     "output_type": "stream",
     "text": [
      "\r",
      "Finding valid work IDs:  85%|████████▌ | 170/200 [34:08<04:33,  9.11s/ID, Latest ID: 121226662]"
     ]
    },
    {
     "name": "stderr",
     "output_type": "stream",
     "text": [
      "\r",
      "Finding valid work IDs:  85%|████████▌ | 170/200 [34:08<04:33,  9.11s/ID, Latest ID: 121226663]"
     ]
    },
    {
     "name": "stderr",
     "output_type": "stream",
     "text": [
      "\r",
      "Finding valid work IDs:  86%|████████▌ | 171/200 [34:17<04:17,  8.87s/ID, Latest ID: 121226663]"
     ]
    },
    {
     "name": "stderr",
     "output_type": "stream",
     "text": [
      "\r",
      "Finding valid work IDs:  86%|████████▌ | 171/200 [34:17<04:17,  8.87s/ID, Latest ID: 121226664]"
     ]
    },
    {
     "name": "stderr",
     "output_type": "stream",
     "text": [
      "\r",
      "Finding valid work IDs:  86%|████████▌ | 172/200 [34:28<04:27,  9.54s/ID, Latest ID: 121226664]"
     ]
    },
    {
     "name": "stderr",
     "output_type": "stream",
     "text": [
      "\r",
      "Finding valid work IDs:  86%|████████▌ | 172/200 [34:28<04:27,  9.54s/ID, Latest ID: 121226665]"
     ]
    },
    {
     "name": "stderr",
     "output_type": "stream",
     "text": [
      "\r",
      "Finding valid work IDs:  86%|████████▋ | 173/200 [34:39<04:34, 10.16s/ID, Latest ID: 121226665]"
     ]
    },
    {
     "name": "stderr",
     "output_type": "stream",
     "text": [
      "\r",
      "Finding valid work IDs:  86%|████████▋ | 173/200 [34:39<04:34, 10.16s/ID, Latest ID: 121226666]"
     ]
    },
    {
     "name": "stderr",
     "output_type": "stream",
     "text": [
      "\r",
      "Finding valid work IDs:  87%|████████▋ | 174/200 [34:45<03:51,  8.91s/ID, Latest ID: 121226666]"
     ]
    },
    {
     "name": "stderr",
     "output_type": "stream",
     "text": [
      "\r",
      "Finding valid work IDs:  87%|████████▋ | 174/200 [34:45<03:51,  8.91s/ID, Latest ID: 121226667]"
     ]
    },
    {
     "name": "stderr",
     "output_type": "stream",
     "text": [
      "\r",
      "Finding valid work IDs:  88%|████████▊ | 175/200 [35:00<04:21, 10.47s/ID, Latest ID: 121226667]"
     ]
    },
    {
     "name": "stderr",
     "output_type": "stream",
     "text": [
      "\r",
      "Finding valid work IDs:  88%|████████▊ | 175/200 [35:00<04:21, 10.47s/ID, Latest ID: 121226668]"
     ]
    },
    {
     "name": "stderr",
     "output_type": "stream",
     "text": [
      "\r",
      "Finding valid work IDs:  88%|████████▊ | 176/200 [35:13<04:34, 11.45s/ID, Latest ID: 121226668]"
     ]
    },
    {
     "name": "stderr",
     "output_type": "stream",
     "text": [
      "\r",
      "Finding valid work IDs:  88%|████████▊ | 176/200 [35:13<04:34, 11.45s/ID, Latest ID: 121226669]"
     ]
    },
    {
     "name": "stderr",
     "output_type": "stream",
     "text": [
      "\r",
      "Finding valid work IDs:  88%|████████▊ | 177/200 [35:28<04:43, 12.32s/ID, Latest ID: 121226669]"
     ]
    },
    {
     "name": "stderr",
     "output_type": "stream",
     "text": [
      "\r",
      "Finding valid work IDs:  88%|████████▊ | 177/200 [35:28<04:43, 12.32s/ID, Latest ID: 121226670]"
     ]
    },
    {
     "name": "stderr",
     "output_type": "stream",
     "text": [
      "\r",
      "Finding valid work IDs:  89%|████████▉ | 178/200 [35:38<04:19, 11.78s/ID, Latest ID: 121226670]"
     ]
    },
    {
     "name": "stderr",
     "output_type": "stream",
     "text": [
      "\r",
      "Finding valid work IDs:  89%|████████▉ | 178/200 [35:38<04:19, 11.78s/ID, Latest ID: 121226671]"
     ]
    },
    {
     "name": "stderr",
     "output_type": "stream",
     "text": [
      "\r",
      "Finding valid work IDs:  90%|████████▉ | 179/200 [35:52<04:19, 12.38s/ID, Latest ID: 121226671]"
     ]
    },
    {
     "name": "stderr",
     "output_type": "stream",
     "text": [
      "\r",
      "Finding valid work IDs:  90%|████████▉ | 179/200 [35:52<04:19, 12.38s/ID, Latest ID: 121226672]"
     ]
    },
    {
     "name": "stderr",
     "output_type": "stream",
     "text": [
      "\r",
      "Finding valid work IDs:  90%|█████████ | 180/200 [36:13<04:57, 14.86s/ID, Latest ID: 121226672]"
     ]
    },
    {
     "name": "stderr",
     "output_type": "stream",
     "text": [
      "\r",
      "Finding valid work IDs:  90%|█████████ | 180/200 [36:13<04:57, 14.86s/ID, Latest ID: 121226674]"
     ]
    },
    {
     "name": "stderr",
     "output_type": "stream",
     "text": [
      "\r",
      "Finding valid work IDs:  90%|█████████ | 181/200 [36:27<04:41, 14.81s/ID, Latest ID: 121226674]"
     ]
    },
    {
     "name": "stderr",
     "output_type": "stream",
     "text": [
      "\r",
      "Finding valid work IDs:  90%|█████████ | 181/200 [36:27<04:41, 14.81s/ID, Latest ID: 121226675]"
     ]
    },
    {
     "name": "stderr",
     "output_type": "stream",
     "text": [
      "\r",
      "Finding valid work IDs:  91%|█████████ | 182/200 [36:35<03:48, 12.69s/ID, Latest ID: 121226675]"
     ]
    },
    {
     "name": "stderr",
     "output_type": "stream",
     "text": [
      "\r",
      "Finding valid work IDs:  91%|█████████ | 182/200 [36:35<03:48, 12.69s/ID, Latest ID: 121226676]"
     ]
    },
    {
     "name": "stderr",
     "output_type": "stream",
     "text": [
      "\r",
      "Finding valid work IDs:  92%|█████████▏| 183/200 [36:46<03:28, 12.25s/ID, Latest ID: 121226676]"
     ]
    },
    {
     "name": "stderr",
     "output_type": "stream",
     "text": [
      "\r",
      "Finding valid work IDs:  92%|█████████▏| 183/200 [36:46<03:28, 12.25s/ID, Latest ID: 121226677]"
     ]
    },
    {
     "name": "stderr",
     "output_type": "stream",
     "text": [
      "\r",
      "Finding valid work IDs:  92%|█████████▏| 184/200 [37:12<04:18, 16.14s/ID, Latest ID: 121226677]"
     ]
    },
    {
     "name": "stderr",
     "output_type": "stream",
     "text": [
      "\r",
      "Finding valid work IDs:  92%|█████████▏| 184/200 [37:12<04:18, 16.14s/ID, Latest ID: 121226679]"
     ]
    },
    {
     "name": "stderr",
     "output_type": "stream",
     "text": [
      "\r",
      "Finding valid work IDs:  92%|█████████▎| 185/200 [37:26<03:52, 15.50s/ID, Latest ID: 121226679]"
     ]
    },
    {
     "name": "stderr",
     "output_type": "stream",
     "text": [
      "\r",
      "Finding valid work IDs:  92%|█████████▎| 185/200 [37:26<03:52, 15.50s/ID, Latest ID: 121226680]"
     ]
    },
    {
     "name": "stderr",
     "output_type": "stream",
     "text": [
      "\r",
      "Finding valid work IDs:  93%|█████████▎| 186/200 [37:32<03:00, 12.92s/ID, Latest ID: 121226680]"
     ]
    },
    {
     "name": "stderr",
     "output_type": "stream",
     "text": [
      "\r",
      "Finding valid work IDs:  93%|█████████▎| 186/200 [37:32<03:00, 12.92s/ID, Latest ID: 121226681]"
     ]
    },
    {
     "name": "stderr",
     "output_type": "stream",
     "text": [
      "\r",
      "Finding valid work IDs:  94%|█████████▎| 187/200 [37:45<02:45, 12.75s/ID, Latest ID: 121226681]"
     ]
    },
    {
     "name": "stderr",
     "output_type": "stream",
     "text": [
      "\r",
      "Finding valid work IDs:  94%|█████████▎| 187/200 [37:45<02:45, 12.75s/ID, Latest ID: 121226682]"
     ]
    },
    {
     "name": "stderr",
     "output_type": "stream",
     "text": [
      "\r",
      "Finding valid work IDs:  94%|█████████▍| 188/200 [37:58<02:36, 13.01s/ID, Latest ID: 121226682]"
     ]
    },
    {
     "name": "stderr",
     "output_type": "stream",
     "text": [
      "\r",
      "Finding valid work IDs:  94%|█████████▍| 188/200 [37:58<02:36, 13.01s/ID, Latest ID: 121226683]"
     ]
    },
    {
     "name": "stderr",
     "output_type": "stream",
     "text": [
      "\r",
      "Finding valid work IDs:  94%|█████████▍| 189/200 [38:11<02:20, 12.81s/ID, Latest ID: 121226683]"
     ]
    },
    {
     "name": "stderr",
     "output_type": "stream",
     "text": [
      "\r",
      "Finding valid work IDs:  94%|█████████▍| 189/200 [38:11<02:20, 12.81s/ID, Latest ID: 121226684]"
     ]
    },
    {
     "name": "stderr",
     "output_type": "stream",
     "text": [
      "\r",
      "Finding valid work IDs:  95%|█████████▌| 190/200 [38:30<02:26, 14.64s/ID, Latest ID: 121226684]"
     ]
    },
    {
     "name": "stderr",
     "output_type": "stream",
     "text": [
      "\r",
      "Finding valid work IDs:  95%|█████████▌| 190/200 [38:30<02:26, 14.64s/ID, Latest ID: 121226686]"
     ]
    },
    {
     "name": "stderr",
     "output_type": "stream",
     "text": [
      "\r",
      "Finding valid work IDs:  96%|█████████▌| 191/200 [38:36<01:49, 12.13s/ID, Latest ID: 121226686]"
     ]
    },
    {
     "name": "stderr",
     "output_type": "stream",
     "text": [
      "\r",
      "Finding valid work IDs:  96%|█████████▌| 191/200 [38:36<01:49, 12.13s/ID, Latest ID: 121226687]"
     ]
    },
    {
     "name": "stderr",
     "output_type": "stream",
     "text": [
      "\r",
      "Finding valid work IDs:  96%|█████████▌| 192/200 [38:46<01:32, 11.51s/ID, Latest ID: 121226687]"
     ]
    },
    {
     "name": "stderr",
     "output_type": "stream",
     "text": [
      "\r",
      "Finding valid work IDs:  96%|█████████▌| 192/200 [38:46<01:32, 11.51s/ID, Latest ID: 121226688]"
     ]
    },
    {
     "name": "stderr",
     "output_type": "stream",
     "text": [
      "\r",
      "Finding valid work IDs:  96%|█████████▋| 193/200 [38:55<01:16, 10.89s/ID, Latest ID: 121226688]"
     ]
    },
    {
     "name": "stderr",
     "output_type": "stream",
     "text": [
      "\r",
      "Finding valid work IDs:  96%|█████████▋| 193/200 [38:55<01:16, 10.89s/ID, Latest ID: 121226689]"
     ]
    },
    {
     "name": "stderr",
     "output_type": "stream",
     "text": [
      "\r",
      "Finding valid work IDs:  97%|█████████▋| 194/200 [39:02<00:57,  9.59s/ID, Latest ID: 121226689]"
     ]
    },
    {
     "name": "stderr",
     "output_type": "stream",
     "text": [
      "\r",
      "Finding valid work IDs:  97%|█████████▋| 194/200 [39:02<00:57,  9.59s/ID, Latest ID: 121226690]"
     ]
    },
    {
     "name": "stderr",
     "output_type": "stream",
     "text": [
      "\r",
      "Finding valid work IDs:  98%|█████████▊| 195/200 [39:10<00:45,  9.06s/ID, Latest ID: 121226690]"
     ]
    },
    {
     "name": "stderr",
     "output_type": "stream",
     "text": [
      "\r",
      "Finding valid work IDs:  98%|█████████▊| 195/200 [39:10<00:45,  9.06s/ID, Latest ID: 121226691]"
     ]
    },
    {
     "name": "stderr",
     "output_type": "stream",
     "text": [
      "\r",
      "Finding valid work IDs:  98%|█████████▊| 196/200 [39:22<00:40, 10.02s/ID, Latest ID: 121226691]"
     ]
    },
    {
     "name": "stderr",
     "output_type": "stream",
     "text": [
      "\r",
      "Finding valid work IDs:  98%|█████████▊| 196/200 [39:22<00:40, 10.02s/ID, Latest ID: 121226692]"
     ]
    },
    {
     "name": "stderr",
     "output_type": "stream",
     "text": [
      "\r",
      "Finding valid work IDs:  98%|█████████▊| 197/200 [39:36<00:34, 11.35s/ID, Latest ID: 121226692]"
     ]
    },
    {
     "name": "stderr",
     "output_type": "stream",
     "text": [
      "\r",
      "Finding valid work IDs:  98%|█████████▊| 197/200 [39:36<00:34, 11.35s/ID, Latest ID: 121226693]"
     ]
    },
    {
     "name": "stderr",
     "output_type": "stream",
     "text": [
      "\r",
      "Finding valid work IDs:  99%|█████████▉| 198/200 [39:43<00:19,  9.88s/ID, Latest ID: 121226693]"
     ]
    },
    {
     "name": "stderr",
     "output_type": "stream",
     "text": [
      "\r",
      "Finding valid work IDs:  99%|█████████▉| 198/200 [39:43<00:19,  9.88s/ID, Latest ID: 121226694]"
     ]
    },
    {
     "name": "stderr",
     "output_type": "stream",
     "text": [
      "\r",
      "Finding valid work IDs: 100%|█████████▉| 199/200 [39:58<00:11, 11.47s/ID, Latest ID: 121226694]"
     ]
    },
    {
     "name": "stderr",
     "output_type": "stream",
     "text": [
      "\r",
      "Finding valid work IDs: 100%|█████████▉| 199/200 [39:58<00:11, 11.47s/ID, Latest ID: 121226695]"
     ]
    },
    {
     "name": "stderr",
     "output_type": "stream",
     "text": [
      "\r",
      "Finding valid work IDs: 100%|██████████| 200/200 [40:13<00:00, 12.46s/ID, Latest ID: 121226695]"
     ]
    },
    {
     "name": "stderr",
     "output_type": "stream",
     "text": [
      "\r",
      "Finding valid work IDs: 100%|██████████| 200/200 [40:13<00:00, 12.46s/ID, Latest ID: 121226696]"
     ]
    },
    {
     "name": "stderr",
     "output_type": "stream",
     "text": [
      "\r",
      "Finding valid work IDs: 100%|██████████| 200/200 [40:13<00:00, 12.07s/ID, Latest ID: 121226696]"
     ]
    },
    {
     "name": "stdout",
     "output_type": "stream",
     "text": [
      "\n",
      "Successfully found 50 valid work IDs.\n",
      "Valid work IDs: [121226465, 121226466, 121226467, 121226468, 121226469, 121226470, 121226471, 121226473, 121226474, 121226475, 121226476, 121226477, 121226478, 121226480, 121226481, 121226482, 121226483, 121226484, 121226485, 121226487, 121226488, 121226489, 121226490, 121226491, 121226492, 121226493, 121226494, 121226495, 121226496, 121226497, 121226499, 121226500, 121226501, 121226502, 121226503, 121226504, 121226505, 121226506, 121226507, 121226508, 121226511, 121226512, 121226513, 121226514, 121226515, 121226516, 121226517, 121226518, 121226519, 121226520, 121226521, 121226522, 121226523, 121226524, 121226525, 121226526, 121226527, 121226529, 121226530, 121226531, 121226532, 121226533, 121226534, 121226535, 121226536, 121226537, 121226539, 121226540, 121226542, 121226543, 121226544, 121226545, 121226546, 121226547, 121226548, 121226550, 121226551, 121226552, 121226553, 121226554, 121226556, 121226557, 121226559, 121226560, 121226561, 121226562, 121226564, 121226565, 121226566, 121226567, 121226569, 121226570, 121226571, 121226572, 121226573, 121226574, 121226575, 121226576, 121226577, 121226578, 121226579, 121226580, 121226582, 121226583, 121226584, 121226585, 121226587, 121226588, 121226590, 121226591, 121226592, 121226593, 121226594, 121226595, 121226596, 121226597, 121226598, 121226599, 121226600, 121226601, 121226602, 121226603, 121226604, 121226605, 121226606, 121226607, 121226608, 121226609, 121226610, 121226611, 121226612, 121226614, 121226615, 121226616, 121226617, 121226619, 121226620, 121226621, 121226622, 121226625, 121226626, 121226627, 121226628, 121226629, 121226630, 121226632, 121226633, 121226634, 121226636, 121226637, 121226639, 121226640, 121226644, 121226645, 121226646, 121226648, 121226649, 121226650, 121226651, 121226652, 121226653, 121226654, 121226656, 121226657, 121226658, 121226659, 121226660, 121226661, 121226662, 121226663, 121226664, 121226665, 121226666, 121226667, 121226668, 121226669, 121226670, 121226671, 121226672, 121226674, 121226675, 121226676, 121226677, 121226679, 121226680, 121226681, 121226682, 121226683, 121226684, 121226686, 121226687, 121226688, 121226689, 121226690, 121226691, 121226692, 121226693, 121226694, 121226695, 121226696]\n"
     ]
    },
    {
     "name": "stderr",
     "output_type": "stream",
     "text": [
      "\n"
     ]
    }
   ],
   "source": [
    "import requests\n",
    "import random\n",
    "import time\n",
    "from tqdm import tqdm\n",
    "\n",
    "def check_pixiv_work_ids(start_id, max_attempts=1000):\n",
    "    valid_ids = []\n",
    "    \n",
    "    # 創建tqdm進度條\n",
    "    with tqdm(total=200, desc=\"Finding valid work IDs\", unit=\"ID\") as pbar:\n",
    "        for attempt in range(max_attempts):\n",
    "            work_id = start_id + attempt\n",
    "            url = f\"https://www.pixiv.net/artworks/{work_id}\"\n",
    "            \n",
    "            try:\n",
    "                #proxy = get_random_proxy()\n",
    "                response = requests.head(url)\n",
    "                if response.status_code == 200:\n",
    "                    valid_ids.append(work_id)\n",
    "                    pbar.update(1)  # 更新進度條\n",
    "                    pbar.set_postfix_str(f\"Latest ID: {work_id}\")  # 顯示最新找到的ID\n",
    "                \n",
    "                if len(valid_ids) == 200:\n",
    "                    break\n",
    "                \n",
    "                # 添加延遲以避免過於頻繁的請求\n",
    "                delay = random.uniform(5, 15)  # 5到15秒的隨機延遲\n",
    "                time.sleep(delay)\n",
    "            \n",
    "            except requests.RequestException as e:\n",
    "                tqdm.write(f\"Error checking work ID {work_id}: {e}\")\n",
    "    \n",
    "    if len(valid_ids) == 200:\n",
    "        print(\"\\nSuccessfully found 50 valid work IDs.\")\n",
    "    else:\n",
    "        print(f\"\\nReached maximum attempts. Found {len(valid_ids)} valid work IDs.\")\n",
    "    \n",
    "    return valid_ids\n",
    "\n",
    "# 使用函數\n",
    "#start_id = 121188700  # 隨機選擇起始ID\n",
    "print(f\"Starting search from ID: {start_id}\")\n",
    "result = check_pixiv_work_ids(start_id)\n",
    "print(\"Valid work IDs:\", result)"
   ]
  },
  {
   "cell_type": "code",
   "execution_count": 3,
   "id": "93a673e5-8c78-46cf-878e-b0312b5eb234",
   "metadata": {
    "execution": {
     "iopub.execute_input": "2024-11-11T01:25:39.122420Z",
     "iopub.status.busy": "2024-11-11T01:25:39.122078Z",
     "iopub.status.idle": "2024-11-11T01:25:39.182090Z",
     "shell.execute_reply": "2024-11-11T01:25:39.181486Z"
    }
   },
   "outputs": [],
   "source": [
    "import requests\n",
    "from bs4 import BeautifulSoup\n",
    "import os\n",
    "\n",
    "def save_webpage_as_single_file(url, filename):\n",
    "    try:\n",
    "        # 发送 GET 请求获取网页内容\n",
    "        response = requests.get(url)\n",
    "        response.raise_for_status()  # 检查请求是否成功\n",
    "        #time.sleep(np.random.randint(3,7))\n",
    "\n",
    "        # 解析网页内容\n",
    "        soup = BeautifulSoup(response.text, 'html.parser')\n",
    "\n",
    "        # 获取网页的标题\n",
    "        title = soup.title.string if soup.title else 'webpage'\n",
    "        \n",
    "        # 创建 .mhtml 文件内容\n",
    "        mhtml_content = f\"<!DOCTYPE html>\\n<html>\\n<head>\\n<title>{title}</title>\\n</head>\\n<body>\\n\"\n",
    "        mhtml_content += str(soup)  # 添加网页内容\n",
    "        mhtml_content += \"\\n</body>\\n</html>\"\n",
    "\n",
    "        # 保存为 .mhtml 文件\n",
    "        with open(filename, 'w', encoding='utf-8') as file:\n",
    "            file.write(mhtml_content)\n",
    "\n",
    "        print(f\"网页内容已成功保存为 {filename}\")\n",
    "    except requests.exceptions.RequestException as e:\n",
    "        print(f\"请求失败: {e}\")\n",
    "        pass\n",
    "    except Exception as e:\n",
    "        print(f\"保存文件时出错: {e}\")\n",
    "\n",
    "# 输入 URL 和文件名\n",
    "\n",
    "\n"
   ]
  },
  {
   "cell_type": "code",
   "execution_count": 4,
   "id": "f0078b3f-3262-4e94-857f-53a9e79bac74",
   "metadata": {
    "execution": {
     "iopub.execute_input": "2024-11-11T01:25:39.184400Z",
     "iopub.status.busy": "2024-11-11T01:25:39.184063Z",
     "iopub.status.idle": "2024-11-11T01:25:39.190508Z",
     "shell.execute_reply": "2024-11-11T01:25:39.189980Z"
    }
   },
   "outputs": [],
   "source": [
    "import os\n",
    "import sqlite3\n",
    "import re\n",
    "\n",
    "# 提取信息的函数\n",
    "def extract_info_from_mhtml(mhtml_file,work_ID):\n",
    "    with open(mhtml_file, 'r', encoding='utf-8') as file:\n",
    "        content = file.read()\n",
    "    \n",
    "    # 使用 BeautifulSoup 解析 HTML 内容\n",
    "    soup = BeautifulSoup(content, 'html.parser')\n",
    "\n",
    "    # 提取 <title> 标签的内容\n",
    "    title = soup.title.string if soup.title else '无标题'\n",
    "    \n",
    "     # 使用正则表达式提取多个 \"tag\"\n",
    "    tag_pattern = re.findall(r'\"tag\"\\s*:\\s*\"([^\"]+)\"', content)\n",
    "    \n",
    "    # 使用正则表达式提取 \"likeCount\", \"bookmarkCount\", \"viewCount\"\n",
    "    like_count_pattern = re.search(r'\"likeCount\"\\s*:\\s*(\\d+)', content)\n",
    "    bookmark_count_pattern = re.search(r'\"bookmarkCount\"\\s*:\\s*(\\d+)', content)\n",
    "    view_count_pattern = re.search(r'\"viewCount\"\\s*:\\s*(\\d+)', content)\n",
    "    image_pattern = re.search(r'\"regular\"\\s*:\\s*\"([^\"]+)\"', content)\n",
    "\n",
    "    # 获取正则表达式的匹配结果\n",
    "    tags = tag_pattern if tag_pattern else ['无标签']\n",
    "    like_count = like_count_pattern.group(1) if like_count_pattern else '无点赞数'\n",
    "    bookmark_count = bookmark_count_pattern.group(1) if bookmark_count_pattern else '无收藏数'\n",
    "    view_count = view_count_pattern.group(1) if view_count_pattern else '无浏览数'\n",
    "    image_count = image_pattern.group(1) if image_pattern else '無影像連結'\n",
    "    return {\n",
    "        'work_ID': str(work_ID),\n",
    "        'title': title.split(' - ')[0],  # 清理标题内容\n",
    "        'tags': ', '.join(tags),  # 标签列表转为字符串\n",
    "        'like_count': like_count,\n",
    "        'bookmark_count': bookmark_count,\n",
    "        'view_count': view_count,\n",
    "        'image url': image_count\n",
    "        \n",
    "    }\n",
    "\n",
    "\n",
    "\n",
    "# 将数据追加到 SQLite 数据库的函数\n",
    "def append_to_sqlite(info, db_filename='web_info.db'):\n",
    "    # 连接 SQLite 数据库（如果文件不存在，会自动创建）\n",
    "    conn = sqlite3.connect(db_filename)\n",
    "    cursor = conn.cursor()\n",
    "\n",
    "    # 创建表格（如果不存在）\n",
    "    cursor.execute('''\n",
    "        CREATE TABLE IF NOT EXISTS web_info (\n",
    "            work_ID TEXT PRIMARY KEY,\n",
    "            title TEXT,\n",
    "            tags TEXT,\n",
    "            like_count INTEGER,\n",
    "            bookmark_count INTEGER,\n",
    "            view_count INTEGER,\n",
    "            image_url TEXT\n",
    "        )\n",
    "    ''')\n",
    "\n",
    "    # 插入数据，如果 work_ID 已存在则忽略插入\n",
    "    cursor.execute('''\n",
    "        INSERT OR REPLACE INTO web_info (work_ID, title, tags, like_count, bookmark_count, view_count, image_url)\n",
    "        VALUES (?, ?, ?, ?, ?, ?, ?)\n",
    "    ''', (\n",
    "        info['work_ID'],\n",
    "        info['title'],\n",
    "        info['tags'],\n",
    "        int(info['like_count']),\n",
    "        int(info['bookmark_count']),\n",
    "        int(info['view_count']),\n",
    "        info['image url']\n",
    "    ))\n",
    "\n",
    "    # 提交更改并关闭连接\n",
    "    conn.commit()\n",
    "    conn.close()\n",
    "\n",
    "\n",
    "\n"
   ]
  },
  {
   "cell_type": "code",
   "execution_count": 5,
   "id": "16847b22-1171-48b2-96de-df37fcdbced2",
   "metadata": {
    "execution": {
     "iopub.execute_input": "2024-11-11T01:25:39.192403Z",
     "iopub.status.busy": "2024-11-11T01:25:39.191981Z",
     "iopub.status.idle": "2024-11-11T03:54:57.580836Z",
     "shell.execute_reply": "2024-11-11T03:54:57.580277Z"
    }
   },
   "outputs": [
    {
     "name": "stdout",
     "output_type": "stream",
     "text": [
      "网页内容已成功保存为 121226465.mhtml\n",
      "新信息已成功追加到 web_info.db\n",
      "休息 57 秒鐘\n"
     ]
    },
    {
     "name": "stdout",
     "output_type": "stream",
     "text": [
      "网页内容已成功保存为 121226466.mhtml\n",
      "新信息已成功追加到 web_info.db\n",
      "休息 44 秒鐘\n"
     ]
    },
    {
     "name": "stdout",
     "output_type": "stream",
     "text": [
      "网页内容已成功保存为 121226467.mhtml\n",
      "新信息已成功追加到 web_info.db\n",
      "休息 31 秒鐘\n"
     ]
    },
    {
     "name": "stdout",
     "output_type": "stream",
     "text": [
      "网页内容已成功保存为 121226468.mhtml\n",
      "新信息已成功追加到 web_info.db\n",
      "休息 40 秒鐘\n"
     ]
    },
    {
     "name": "stdout",
     "output_type": "stream",
     "text": [
      "网页内容已成功保存为 121226469.mhtml\n",
      "新信息已成功追加到 web_info.db\n",
      "休息 33 秒鐘\n"
     ]
    },
    {
     "name": "stdout",
     "output_type": "stream",
     "text": [
      "网页内容已成功保存为 121226470.mhtml\n",
      "新信息已成功追加到 web_info.db\n",
      "休息 45 秒鐘\n"
     ]
    },
    {
     "name": "stdout",
     "output_type": "stream",
     "text": [
      "网页内容已成功保存为 121226471.mhtml\n",
      "新信息已成功追加到 web_info.db\n",
      "休息 49 秒鐘\n"
     ]
    },
    {
     "name": "stdout",
     "output_type": "stream",
     "text": [
      "网页内容已成功保存为 121226473.mhtml\n",
      "新信息已成功追加到 web_info.db\n",
      "休息 49 秒鐘\n"
     ]
    },
    {
     "name": "stdout",
     "output_type": "stream",
     "text": [
      "网页内容已成功保存为 121226474.mhtml\n",
      "新信息已成功追加到 web_info.db\n",
      "休息 41 秒鐘\n"
     ]
    },
    {
     "name": "stdout",
     "output_type": "stream",
     "text": [
      "网页内容已成功保存为 121226475.mhtml\n",
      "新信息已成功追加到 web_info.db\n",
      "休息 44 秒鐘\n"
     ]
    },
    {
     "name": "stdout",
     "output_type": "stream",
     "text": [
      "网页内容已成功保存为 121226476.mhtml\n",
      "新信息已成功追加到 web_info.db\n",
      "休息 55 秒鐘\n"
     ]
    },
    {
     "name": "stdout",
     "output_type": "stream",
     "text": [
      "网页内容已成功保存为 121226477.mhtml\n",
      "新信息已成功追加到 web_info.db\n",
      "休息 55 秒鐘\n"
     ]
    },
    {
     "name": "stdout",
     "output_type": "stream",
     "text": [
      "网页内容已成功保存为 121226478.mhtml\n",
      "新信息已成功追加到 web_info.db\n",
      "休息 45 秒鐘\n"
     ]
    },
    {
     "name": "stdout",
     "output_type": "stream",
     "text": [
      "网页内容已成功保存为 121226480.mhtml\n",
      "新信息已成功追加到 web_info.db\n",
      "休息 54 秒鐘\n"
     ]
    },
    {
     "name": "stdout",
     "output_type": "stream",
     "text": [
      "网页内容已成功保存为 121226481.mhtml\n",
      "新信息已成功追加到 web_info.db\n",
      "休息 30 秒鐘\n"
     ]
    },
    {
     "name": "stdout",
     "output_type": "stream",
     "text": [
      "网页内容已成功保存为 121226482.mhtml\n",
      "新信息已成功追加到 web_info.db\n",
      "休息 32 秒鐘\n"
     ]
    },
    {
     "name": "stdout",
     "output_type": "stream",
     "text": [
      "网页内容已成功保存为 121226483.mhtml\n",
      "新信息已成功追加到 web_info.db\n",
      "休息 44 秒鐘\n"
     ]
    },
    {
     "name": "stdout",
     "output_type": "stream",
     "text": [
      "网页内容已成功保存为 121226484.mhtml\n",
      "新信息已成功追加到 web_info.db\n",
      "休息 33 秒鐘\n"
     ]
    },
    {
     "name": "stdout",
     "output_type": "stream",
     "text": [
      "网页内容已成功保存为 121226485.mhtml\n",
      "新信息已成功追加到 web_info.db\n",
      "休息 51 秒鐘\n"
     ]
    },
    {
     "name": "stdout",
     "output_type": "stream",
     "text": [
      "网页内容已成功保存为 121226487.mhtml\n",
      "新信息已成功追加到 web_info.db\n",
      "休息 30 秒鐘\n"
     ]
    },
    {
     "name": "stdout",
     "output_type": "stream",
     "text": [
      "网页内容已成功保存为 121226488.mhtml\n",
      "新信息已成功追加到 web_info.db\n",
      "休息 46 秒鐘\n"
     ]
    },
    {
     "name": "stdout",
     "output_type": "stream",
     "text": [
      "网页内容已成功保存为 121226489.mhtml\n",
      "新信息已成功追加到 web_info.db\n",
      "休息 41 秒鐘\n"
     ]
    },
    {
     "name": "stdout",
     "output_type": "stream",
     "text": [
      "网页内容已成功保存为 121226490.mhtml\n",
      "新信息已成功追加到 web_info.db\n",
      "休息 35 秒鐘\n"
     ]
    },
    {
     "name": "stdout",
     "output_type": "stream",
     "text": [
      "网页内容已成功保存为 121226491.mhtml\n",
      "新信息已成功追加到 web_info.db\n",
      "休息 58 秒鐘\n"
     ]
    },
    {
     "name": "stdout",
     "output_type": "stream",
     "text": [
      "网页内容已成功保存为 121226492.mhtml\n",
      "新信息已成功追加到 web_info.db\n",
      "休息 36 秒鐘\n"
     ]
    },
    {
     "name": "stdout",
     "output_type": "stream",
     "text": [
      "网页内容已成功保存为 121226493.mhtml\n",
      "新信息已成功追加到 web_info.db\n",
      "休息 50 秒鐘\n"
     ]
    },
    {
     "name": "stdout",
     "output_type": "stream",
     "text": [
      "网页内容已成功保存为 121226494.mhtml\n",
      "新信息已成功追加到 web_info.db\n",
      "休息 43 秒鐘\n"
     ]
    },
    {
     "name": "stdout",
     "output_type": "stream",
     "text": [
      "网页内容已成功保存为 121226495.mhtml\n",
      "新信息已成功追加到 web_info.db\n",
      "休息 58 秒鐘\n"
     ]
    },
    {
     "name": "stdout",
     "output_type": "stream",
     "text": [
      "网页内容已成功保存为 121226496.mhtml\n",
      "新信息已成功追加到 web_info.db\n",
      "休息 41 秒鐘\n"
     ]
    },
    {
     "name": "stdout",
     "output_type": "stream",
     "text": [
      "网页内容已成功保存为 121226497.mhtml\n",
      "新信息已成功追加到 web_info.db\n",
      "休息 51 秒鐘\n"
     ]
    },
    {
     "name": "stdout",
     "output_type": "stream",
     "text": [
      "网页内容已成功保存为 121226499.mhtml\n",
      "新信息已成功追加到 web_info.db\n",
      "休息 49 秒鐘\n"
     ]
    },
    {
     "name": "stdout",
     "output_type": "stream",
     "text": [
      "网页内容已成功保存为 121226500.mhtml\n",
      "新信息已成功追加到 web_info.db\n",
      "休息 34 秒鐘\n"
     ]
    },
    {
     "name": "stdout",
     "output_type": "stream",
     "text": [
      "网页内容已成功保存为 121226501.mhtml\n",
      "新信息已成功追加到 web_info.db\n",
      "休息 55 秒鐘\n"
     ]
    },
    {
     "name": "stdout",
     "output_type": "stream",
     "text": [
      "网页内容已成功保存为 121226502.mhtml\n",
      "新信息已成功追加到 web_info.db\n",
      "休息 34 秒鐘\n"
     ]
    },
    {
     "name": "stdout",
     "output_type": "stream",
     "text": [
      "请求失败: 404 Client Error: Not Found for url: https://www.pixiv.net/artworks/121226503\n",
      "休息 42 秒鐘\n"
     ]
    },
    {
     "name": "stdout",
     "output_type": "stream",
     "text": [
      "网页内容已成功保存为 121226504.mhtml\n",
      "新信息已成功追加到 web_info.db\n",
      "休息 46 秒鐘\n"
     ]
    },
    {
     "name": "stdout",
     "output_type": "stream",
     "text": [
      "网页内容已成功保存为 121226505.mhtml\n",
      "新信息已成功追加到 web_info.db\n",
      "休息 54 秒鐘\n"
     ]
    },
    {
     "name": "stdout",
     "output_type": "stream",
     "text": [
      "网页内容已成功保存为 121226506.mhtml\n",
      "新信息已成功追加到 web_info.db\n",
      "休息 32 秒鐘\n"
     ]
    },
    {
     "name": "stdout",
     "output_type": "stream",
     "text": [
      "网页内容已成功保存为 121226507.mhtml\n",
      "新信息已成功追加到 web_info.db\n",
      "休息 37 秒鐘\n"
     ]
    },
    {
     "name": "stdout",
     "output_type": "stream",
     "text": [
      "网页内容已成功保存为 121226508.mhtml\n",
      "新信息已成功追加到 web_info.db\n",
      "休息 58 秒鐘\n"
     ]
    },
    {
     "name": "stdout",
     "output_type": "stream",
     "text": [
      "网页内容已成功保存为 121226511.mhtml\n",
      "新信息已成功追加到 web_info.db\n",
      "休息 48 秒鐘\n"
     ]
    },
    {
     "name": "stdout",
     "output_type": "stream",
     "text": [
      "网页内容已成功保存为 121226512.mhtml\n",
      "新信息已成功追加到 web_info.db\n",
      "休息 49 秒鐘\n"
     ]
    },
    {
     "name": "stdout",
     "output_type": "stream",
     "text": [
      "网页内容已成功保存为 121226513.mhtml\n",
      "新信息已成功追加到 web_info.db\n",
      "休息 53 秒鐘\n"
     ]
    },
    {
     "name": "stdout",
     "output_type": "stream",
     "text": [
      "网页内容已成功保存为 121226514.mhtml\n",
      "新信息已成功追加到 web_info.db\n",
      "休息 49 秒鐘\n"
     ]
    },
    {
     "name": "stdout",
     "output_type": "stream",
     "text": [
      "网页内容已成功保存为 121226515.mhtml\n",
      "新信息已成功追加到 web_info.db\n",
      "休息 31 秒鐘\n"
     ]
    },
    {
     "name": "stdout",
     "output_type": "stream",
     "text": [
      "网页内容已成功保存为 121226516.mhtml\n",
      "新信息已成功追加到 web_info.db\n",
      "休息 54 秒鐘\n"
     ]
    },
    {
     "name": "stdout",
     "output_type": "stream",
     "text": [
      "网页内容已成功保存为 121226517.mhtml\n",
      "新信息已成功追加到 web_info.db\n",
      "休息 38 秒鐘\n"
     ]
    },
    {
     "name": "stdout",
     "output_type": "stream",
     "text": [
      "网页内容已成功保存为 121226518.mhtml\n",
      "新信息已成功追加到 web_info.db\n",
      "休息 36 秒鐘\n"
     ]
    },
    {
     "name": "stdout",
     "output_type": "stream",
     "text": [
      "网页内容已成功保存为 121226519.mhtml\n",
      "新信息已成功追加到 web_info.db\n",
      "休息 35 秒鐘\n"
     ]
    },
    {
     "name": "stdout",
     "output_type": "stream",
     "text": [
      "网页内容已成功保存为 121226520.mhtml\n",
      "新信息已成功追加到 web_info.db\n",
      "休息 46 秒鐘\n"
     ]
    },
    {
     "name": "stdout",
     "output_type": "stream",
     "text": [
      "网页内容已成功保存为 121226521.mhtml\n",
      "新信息已成功追加到 web_info.db\n",
      "休息 39 秒鐘\n"
     ]
    },
    {
     "name": "stdout",
     "output_type": "stream",
     "text": [
      "网页内容已成功保存为 121226522.mhtml\n",
      "新信息已成功追加到 web_info.db\n",
      "休息 49 秒鐘\n"
     ]
    },
    {
     "name": "stdout",
     "output_type": "stream",
     "text": [
      "网页内容已成功保存为 121226523.mhtml\n",
      "新信息已成功追加到 web_info.db\n",
      "休息 46 秒鐘\n"
     ]
    },
    {
     "name": "stdout",
     "output_type": "stream",
     "text": [
      "网页内容已成功保存为 121226524.mhtml\n",
      "新信息已成功追加到 web_info.db\n",
      "休息 32 秒鐘\n"
     ]
    },
    {
     "name": "stdout",
     "output_type": "stream",
     "text": [
      "网页内容已成功保存为 121226525.mhtml\n",
      "新信息已成功追加到 web_info.db\n",
      "休息 40 秒鐘\n"
     ]
    },
    {
     "name": "stdout",
     "output_type": "stream",
     "text": [
      "网页内容已成功保存为 121226526.mhtml\n",
      "新信息已成功追加到 web_info.db\n",
      "休息 41 秒鐘\n"
     ]
    },
    {
     "name": "stdout",
     "output_type": "stream",
     "text": [
      "网页内容已成功保存为 121226527.mhtml\n",
      "新信息已成功追加到 web_info.db\n",
      "休息 49 秒鐘\n"
     ]
    },
    {
     "name": "stdout",
     "output_type": "stream",
     "text": [
      "网页内容已成功保存为 121226529.mhtml\n",
      "新信息已成功追加到 web_info.db\n",
      "休息 43 秒鐘\n"
     ]
    },
    {
     "name": "stdout",
     "output_type": "stream",
     "text": [
      "网页内容已成功保存为 121226530.mhtml\n",
      "新信息已成功追加到 web_info.db\n",
      "休息 36 秒鐘\n"
     ]
    },
    {
     "name": "stdout",
     "output_type": "stream",
     "text": [
      "网页内容已成功保存为 121226531.mhtml\n",
      "新信息已成功追加到 web_info.db\n",
      "休息 37 秒鐘\n"
     ]
    },
    {
     "name": "stdout",
     "output_type": "stream",
     "text": [
      "网页内容已成功保存为 121226532.mhtml\n",
      "新信息已成功追加到 web_info.db\n",
      "休息 42 秒鐘\n"
     ]
    },
    {
     "name": "stdout",
     "output_type": "stream",
     "text": [
      "网页内容已成功保存为 121226533.mhtml\n",
      "新信息已成功追加到 web_info.db\n",
      "休息 54 秒鐘\n"
     ]
    },
    {
     "name": "stdout",
     "output_type": "stream",
     "text": [
      "网页内容已成功保存为 121226534.mhtml\n",
      "新信息已成功追加到 web_info.db\n",
      "休息 33 秒鐘\n"
     ]
    },
    {
     "name": "stdout",
     "output_type": "stream",
     "text": [
      "网页内容已成功保存为 121226535.mhtml\n",
      "新信息已成功追加到 web_info.db\n",
      "休息 46 秒鐘\n"
     ]
    },
    {
     "name": "stdout",
     "output_type": "stream",
     "text": [
      "网页内容已成功保存为 121226536.mhtml\n",
      "新信息已成功追加到 web_info.db\n",
      "休息 50 秒鐘\n"
     ]
    },
    {
     "name": "stdout",
     "output_type": "stream",
     "text": [
      "网页内容已成功保存为 121226537.mhtml\n",
      "新信息已成功追加到 web_info.db\n",
      "休息 31 秒鐘\n"
     ]
    },
    {
     "name": "stdout",
     "output_type": "stream",
     "text": [
      "网页内容已成功保存为 121226539.mhtml\n",
      "新信息已成功追加到 web_info.db\n",
      "休息 44 秒鐘\n"
     ]
    },
    {
     "name": "stdout",
     "output_type": "stream",
     "text": [
      "网页内容已成功保存为 121226540.mhtml\n",
      "新信息已成功追加到 web_info.db\n",
      "休息 38 秒鐘\n"
     ]
    },
    {
     "name": "stdout",
     "output_type": "stream",
     "text": [
      "网页内容已成功保存为 121226542.mhtml\n",
      "新信息已成功追加到 web_info.db\n",
      "休息 43 秒鐘\n"
     ]
    },
    {
     "name": "stdout",
     "output_type": "stream",
     "text": [
      "网页内容已成功保存为 121226543.mhtml\n",
      "新信息已成功追加到 web_info.db\n",
      "休息 56 秒鐘\n"
     ]
    },
    {
     "name": "stdout",
     "output_type": "stream",
     "text": [
      "网页内容已成功保存为 121226544.mhtml\n",
      "新信息已成功追加到 web_info.db\n",
      "休息 32 秒鐘\n"
     ]
    },
    {
     "name": "stdout",
     "output_type": "stream",
     "text": [
      "网页内容已成功保存为 121226545.mhtml\n",
      "新信息已成功追加到 web_info.db\n",
      "休息 53 秒鐘\n"
     ]
    },
    {
     "name": "stdout",
     "output_type": "stream",
     "text": [
      "网页内容已成功保存为 121226546.mhtml\n",
      "新信息已成功追加到 web_info.db\n",
      "休息 58 秒鐘\n"
     ]
    },
    {
     "name": "stdout",
     "output_type": "stream",
     "text": [
      "网页内容已成功保存为 121226547.mhtml\n",
      "新信息已成功追加到 web_info.db\n",
      "休息 58 秒鐘\n"
     ]
    },
    {
     "name": "stdout",
     "output_type": "stream",
     "text": [
      "网页内容已成功保存为 121226548.mhtml\n",
      "新信息已成功追加到 web_info.db\n",
      "休息 34 秒鐘\n"
     ]
    },
    {
     "name": "stdout",
     "output_type": "stream",
     "text": [
      "网页内容已成功保存为 121226550.mhtml\n",
      "新信息已成功追加到 web_info.db\n",
      "休息 53 秒鐘\n"
     ]
    },
    {
     "name": "stdout",
     "output_type": "stream",
     "text": [
      "网页内容已成功保存为 121226551.mhtml\n",
      "新信息已成功追加到 web_info.db\n",
      "休息 31 秒鐘\n"
     ]
    },
    {
     "name": "stdout",
     "output_type": "stream",
     "text": [
      "网页内容已成功保存为 121226552.mhtml\n",
      "新信息已成功追加到 web_info.db\n",
      "休息 38 秒鐘\n"
     ]
    },
    {
     "name": "stdout",
     "output_type": "stream",
     "text": [
      "网页内容已成功保存为 121226553.mhtml\n",
      "新信息已成功追加到 web_info.db\n",
      "休息 36 秒鐘\n"
     ]
    },
    {
     "name": "stdout",
     "output_type": "stream",
     "text": [
      "网页内容已成功保存为 121226554.mhtml\n",
      "新信息已成功追加到 web_info.db\n",
      "休息 58 秒鐘\n"
     ]
    },
    {
     "name": "stdout",
     "output_type": "stream",
     "text": [
      "网页内容已成功保存为 121226556.mhtml\n",
      "新信息已成功追加到 web_info.db\n",
      "休息 48 秒鐘\n"
     ]
    },
    {
     "name": "stdout",
     "output_type": "stream",
     "text": [
      "网页内容已成功保存为 121226557.mhtml\n",
      "新信息已成功追加到 web_info.db\n",
      "休息 45 秒鐘\n"
     ]
    },
    {
     "name": "stdout",
     "output_type": "stream",
     "text": [
      "网页内容已成功保存为 121226559.mhtml\n",
      "新信息已成功追加到 web_info.db\n",
      "休息 35 秒鐘\n"
     ]
    },
    {
     "name": "stdout",
     "output_type": "stream",
     "text": [
      "网页内容已成功保存为 121226560.mhtml\n",
      "新信息已成功追加到 web_info.db\n",
      "休息 42 秒鐘\n"
     ]
    },
    {
     "name": "stdout",
     "output_type": "stream",
     "text": [
      "网页内容已成功保存为 121226561.mhtml\n",
      "新信息已成功追加到 web_info.db\n",
      "休息 47 秒鐘\n"
     ]
    },
    {
     "name": "stdout",
     "output_type": "stream",
     "text": [
      "网页内容已成功保存为 121226562.mhtml\n",
      "新信息已成功追加到 web_info.db\n",
      "休息 59 秒鐘\n"
     ]
    },
    {
     "name": "stdout",
     "output_type": "stream",
     "text": [
      "网页内容已成功保存为 121226564.mhtml\n",
      "新信息已成功追加到 web_info.db\n",
      "休息 43 秒鐘\n"
     ]
    },
    {
     "name": "stdout",
     "output_type": "stream",
     "text": [
      "网页内容已成功保存为 121226565.mhtml\n",
      "新信息已成功追加到 web_info.db\n",
      "休息 41 秒鐘\n"
     ]
    },
    {
     "name": "stdout",
     "output_type": "stream",
     "text": [
      "网页内容已成功保存为 121226566.mhtml\n",
      "新信息已成功追加到 web_info.db\n",
      "休息 42 秒鐘\n"
     ]
    },
    {
     "name": "stdout",
     "output_type": "stream",
     "text": [
      "网页内容已成功保存为 121226567.mhtml\n",
      "新信息已成功追加到 web_info.db\n",
      "休息 56 秒鐘\n"
     ]
    },
    {
     "name": "stdout",
     "output_type": "stream",
     "text": [
      "网页内容已成功保存为 121226569.mhtml\n",
      "新信息已成功追加到 web_info.db\n",
      "休息 50 秒鐘\n"
     ]
    },
    {
     "name": "stdout",
     "output_type": "stream",
     "text": [
      "网页内容已成功保存为 121226570.mhtml\n",
      "新信息已成功追加到 web_info.db\n",
      "休息 32 秒鐘\n"
     ]
    },
    {
     "name": "stdout",
     "output_type": "stream",
     "text": [
      "网页内容已成功保存为 121226571.mhtml\n",
      "新信息已成功追加到 web_info.db\n",
      "休息 49 秒鐘\n"
     ]
    },
    {
     "name": "stdout",
     "output_type": "stream",
     "text": [
      "网页内容已成功保存为 121226572.mhtml\n",
      "新信息已成功追加到 web_info.db\n",
      "休息 36 秒鐘\n"
     ]
    },
    {
     "name": "stdout",
     "output_type": "stream",
     "text": [
      "网页内容已成功保存为 121226573.mhtml\n",
      "新信息已成功追加到 web_info.db\n",
      "休息 49 秒鐘\n"
     ]
    },
    {
     "name": "stdout",
     "output_type": "stream",
     "text": [
      "网页内容已成功保存为 121226574.mhtml\n",
      "新信息已成功追加到 web_info.db\n",
      "休息 59 秒鐘\n"
     ]
    },
    {
     "name": "stdout",
     "output_type": "stream",
     "text": [
      "网页内容已成功保存为 121226575.mhtml\n",
      "新信息已成功追加到 web_info.db\n",
      "休息 59 秒鐘\n"
     ]
    },
    {
     "name": "stdout",
     "output_type": "stream",
     "text": [
      "网页内容已成功保存为 121226576.mhtml\n",
      "新信息已成功追加到 web_info.db\n",
      "休息 40 秒鐘\n"
     ]
    },
    {
     "name": "stdout",
     "output_type": "stream",
     "text": [
      "网页内容已成功保存为 121226577.mhtml\n",
      "新信息已成功追加到 web_info.db\n",
      "休息 34 秒鐘\n"
     ]
    },
    {
     "name": "stdout",
     "output_type": "stream",
     "text": [
      "网页内容已成功保存为 121226578.mhtml\n",
      "新信息已成功追加到 web_info.db\n",
      "休息 50 秒鐘\n"
     ]
    },
    {
     "name": "stdout",
     "output_type": "stream",
     "text": [
      "网页内容已成功保存为 121226579.mhtml\n",
      "新信息已成功追加到 web_info.db\n",
      "休息 32 秒鐘\n"
     ]
    },
    {
     "name": "stdout",
     "output_type": "stream",
     "text": [
      "网页内容已成功保存为 121226580.mhtml\n",
      "新信息已成功追加到 web_info.db\n",
      "休息 35 秒鐘\n"
     ]
    },
    {
     "name": "stdout",
     "output_type": "stream",
     "text": [
      "网页内容已成功保存为 121226582.mhtml\n",
      "新信息已成功追加到 web_info.db\n",
      "休息 40 秒鐘\n"
     ]
    },
    {
     "name": "stdout",
     "output_type": "stream",
     "text": [
      "网页内容已成功保存为 121226583.mhtml\n",
      "新信息已成功追加到 web_info.db\n",
      "休息 43 秒鐘\n"
     ]
    },
    {
     "name": "stdout",
     "output_type": "stream",
     "text": [
      "网页内容已成功保存为 121226584.mhtml\n",
      "新信息已成功追加到 web_info.db\n",
      "休息 33 秒鐘\n"
     ]
    },
    {
     "name": "stdout",
     "output_type": "stream",
     "text": [
      "网页内容已成功保存为 121226585.mhtml\n",
      "新信息已成功追加到 web_info.db\n",
      "休息 40 秒鐘\n"
     ]
    },
    {
     "name": "stdout",
     "output_type": "stream",
     "text": [
      "网页内容已成功保存为 121226587.mhtml\n",
      "新信息已成功追加到 web_info.db\n",
      "休息 39 秒鐘\n"
     ]
    },
    {
     "name": "stdout",
     "output_type": "stream",
     "text": [
      "网页内容已成功保存为 121226588.mhtml\n",
      "新信息已成功追加到 web_info.db\n",
      "休息 30 秒鐘\n"
     ]
    },
    {
     "name": "stdout",
     "output_type": "stream",
     "text": [
      "网页内容已成功保存为 121226590.mhtml\n",
      "新信息已成功追加到 web_info.db\n",
      "休息 50 秒鐘\n"
     ]
    },
    {
     "name": "stdout",
     "output_type": "stream",
     "text": [
      "网页内容已成功保存为 121226591.mhtml\n",
      "新信息已成功追加到 web_info.db\n",
      "休息 52 秒鐘\n"
     ]
    },
    {
     "name": "stdout",
     "output_type": "stream",
     "text": [
      "网页内容已成功保存为 121226592.mhtml\n",
      "新信息已成功追加到 web_info.db\n",
      "休息 45 秒鐘\n"
     ]
    },
    {
     "name": "stdout",
     "output_type": "stream",
     "text": [
      "网页内容已成功保存为 121226593.mhtml\n",
      "新信息已成功追加到 web_info.db\n",
      "休息 55 秒鐘\n"
     ]
    },
    {
     "name": "stdout",
     "output_type": "stream",
     "text": [
      "网页内容已成功保存为 121226594.mhtml\n",
      "新信息已成功追加到 web_info.db\n",
      "休息 54 秒鐘\n"
     ]
    },
    {
     "name": "stdout",
     "output_type": "stream",
     "text": [
      "网页内容已成功保存为 121226595.mhtml\n",
      "新信息已成功追加到 web_info.db\n",
      "休息 53 秒鐘\n"
     ]
    },
    {
     "name": "stdout",
     "output_type": "stream",
     "text": [
      "网页内容已成功保存为 121226596.mhtml\n",
      "新信息已成功追加到 web_info.db\n",
      "休息 43 秒鐘\n"
     ]
    },
    {
     "name": "stdout",
     "output_type": "stream",
     "text": [
      "网页内容已成功保存为 121226597.mhtml\n",
      "新信息已成功追加到 web_info.db\n",
      "休息 48 秒鐘\n"
     ]
    },
    {
     "name": "stdout",
     "output_type": "stream",
     "text": [
      "网页内容已成功保存为 121226598.mhtml\n",
      "新信息已成功追加到 web_info.db\n",
      "休息 45 秒鐘\n"
     ]
    },
    {
     "name": "stdout",
     "output_type": "stream",
     "text": [
      "网页内容已成功保存为 121226599.mhtml\n",
      "新信息已成功追加到 web_info.db\n",
      "休息 32 秒鐘\n"
     ]
    },
    {
     "name": "stdout",
     "output_type": "stream",
     "text": [
      "网页内容已成功保存为 121226600.mhtml\n",
      "新信息已成功追加到 web_info.db\n",
      "休息 50 秒鐘\n"
     ]
    },
    {
     "name": "stdout",
     "output_type": "stream",
     "text": [
      "网页内容已成功保存为 121226601.mhtml\n",
      "新信息已成功追加到 web_info.db\n",
      "休息 46 秒鐘\n"
     ]
    },
    {
     "name": "stdout",
     "output_type": "stream",
     "text": [
      "网页内容已成功保存为 121226602.mhtml\n",
      "新信息已成功追加到 web_info.db\n",
      "休息 59 秒鐘\n"
     ]
    },
    {
     "name": "stdout",
     "output_type": "stream",
     "text": [
      "网页内容已成功保存为 121226603.mhtml\n",
      "新信息已成功追加到 web_info.db\n",
      "休息 58 秒鐘\n"
     ]
    },
    {
     "name": "stdout",
     "output_type": "stream",
     "text": [
      "网页内容已成功保存为 121226604.mhtml\n",
      "新信息已成功追加到 web_info.db\n",
      "休息 39 秒鐘\n"
     ]
    },
    {
     "name": "stdout",
     "output_type": "stream",
     "text": [
      "网页内容已成功保存为 121226605.mhtml\n",
      "新信息已成功追加到 web_info.db\n",
      "休息 55 秒鐘\n"
     ]
    },
    {
     "name": "stdout",
     "output_type": "stream",
     "text": [
      "网页内容已成功保存为 121226606.mhtml\n",
      "新信息已成功追加到 web_info.db\n",
      "休息 58 秒鐘\n"
     ]
    },
    {
     "name": "stdout",
     "output_type": "stream",
     "text": [
      "网页内容已成功保存为 121226607.mhtml\n",
      "新信息已成功追加到 web_info.db\n",
      "休息 35 秒鐘\n"
     ]
    },
    {
     "name": "stdout",
     "output_type": "stream",
     "text": [
      "网页内容已成功保存为 121226608.mhtml\n",
      "新信息已成功追加到 web_info.db\n",
      "休息 46 秒鐘\n"
     ]
    },
    {
     "name": "stdout",
     "output_type": "stream",
     "text": [
      "网页内容已成功保存为 121226609.mhtml\n",
      "新信息已成功追加到 web_info.db\n",
      "休息 42 秒鐘\n"
     ]
    },
    {
     "name": "stdout",
     "output_type": "stream",
     "text": [
      "网页内容已成功保存为 121226610.mhtml\n",
      "新信息已成功追加到 web_info.db\n",
      "休息 39 秒鐘\n"
     ]
    },
    {
     "name": "stdout",
     "output_type": "stream",
     "text": [
      "网页内容已成功保存为 121226611.mhtml\n",
      "新信息已成功追加到 web_info.db\n",
      "休息 35 秒鐘\n"
     ]
    },
    {
     "name": "stdout",
     "output_type": "stream",
     "text": [
      "网页内容已成功保存为 121226612.mhtml\n",
      "新信息已成功追加到 web_info.db\n",
      "休息 59 秒鐘\n"
     ]
    },
    {
     "name": "stdout",
     "output_type": "stream",
     "text": [
      "网页内容已成功保存为 121226614.mhtml\n",
      "新信息已成功追加到 web_info.db\n",
      "休息 35 秒鐘\n"
     ]
    },
    {
     "name": "stdout",
     "output_type": "stream",
     "text": [
      "网页内容已成功保存为 121226615.mhtml\n",
      "新信息已成功追加到 web_info.db\n",
      "休息 49 秒鐘\n"
     ]
    },
    {
     "name": "stdout",
     "output_type": "stream",
     "text": [
      "网页内容已成功保存为 121226616.mhtml\n",
      "新信息已成功追加到 web_info.db\n",
      "休息 31 秒鐘\n"
     ]
    },
    {
     "name": "stdout",
     "output_type": "stream",
     "text": [
      "网页内容已成功保存为 121226617.mhtml\n",
      "新信息已成功追加到 web_info.db\n",
      "休息 59 秒鐘\n"
     ]
    },
    {
     "name": "stdout",
     "output_type": "stream",
     "text": [
      "网页内容已成功保存为 121226619.mhtml\n",
      "新信息已成功追加到 web_info.db\n",
      "休息 42 秒鐘\n"
     ]
    },
    {
     "name": "stdout",
     "output_type": "stream",
     "text": [
      "网页内容已成功保存为 121226620.mhtml\n",
      "新信息已成功追加到 web_info.db\n",
      "休息 33 秒鐘\n"
     ]
    },
    {
     "name": "stdout",
     "output_type": "stream",
     "text": [
      "网页内容已成功保存为 121226621.mhtml\n",
      "新信息已成功追加到 web_info.db\n",
      "休息 58 秒鐘\n"
     ]
    },
    {
     "name": "stdout",
     "output_type": "stream",
     "text": [
      "网页内容已成功保存为 121226622.mhtml\n",
      "新信息已成功追加到 web_info.db\n",
      "休息 36 秒鐘\n"
     ]
    },
    {
     "name": "stdout",
     "output_type": "stream",
     "text": [
      "网页内容已成功保存为 121226625.mhtml\n",
      "新信息已成功追加到 web_info.db\n",
      "休息 35 秒鐘\n"
     ]
    },
    {
     "name": "stdout",
     "output_type": "stream",
     "text": [
      "网页内容已成功保存为 121226626.mhtml\n",
      "新信息已成功追加到 web_info.db\n",
      "休息 39 秒鐘\n"
     ]
    },
    {
     "name": "stdout",
     "output_type": "stream",
     "text": [
      "网页内容已成功保存为 121226627.mhtml\n",
      "新信息已成功追加到 web_info.db\n",
      "休息 41 秒鐘\n"
     ]
    },
    {
     "name": "stdout",
     "output_type": "stream",
     "text": [
      "网页内容已成功保存为 121226628.mhtml\n",
      "新信息已成功追加到 web_info.db\n",
      "休息 52 秒鐘\n"
     ]
    },
    {
     "name": "stdout",
     "output_type": "stream",
     "text": [
      "网页内容已成功保存为 121226629.mhtml\n",
      "新信息已成功追加到 web_info.db\n",
      "休息 30 秒鐘\n"
     ]
    },
    {
     "name": "stdout",
     "output_type": "stream",
     "text": [
      "网页内容已成功保存为 121226630.mhtml\n",
      "新信息已成功追加到 web_info.db\n",
      "休息 45 秒鐘\n"
     ]
    },
    {
     "name": "stdout",
     "output_type": "stream",
     "text": [
      "网页内容已成功保存为 121226632.mhtml\n",
      "新信息已成功追加到 web_info.db\n",
      "休息 58 秒鐘\n"
     ]
    },
    {
     "name": "stdout",
     "output_type": "stream",
     "text": [
      "网页内容已成功保存为 121226633.mhtml\n",
      "新信息已成功追加到 web_info.db\n",
      "休息 46 秒鐘\n"
     ]
    },
    {
     "name": "stdout",
     "output_type": "stream",
     "text": [
      "网页内容已成功保存为 121226634.mhtml\n",
      "新信息已成功追加到 web_info.db\n",
      "休息 33 秒鐘\n"
     ]
    },
    {
     "name": "stdout",
     "output_type": "stream",
     "text": [
      "网页内容已成功保存为 121226636.mhtml\n",
      "新信息已成功追加到 web_info.db\n",
      "休息 44 秒鐘\n"
     ]
    },
    {
     "name": "stdout",
     "output_type": "stream",
     "text": [
      "网页内容已成功保存为 121226637.mhtml\n",
      "新信息已成功追加到 web_info.db\n",
      "休息 54 秒鐘\n"
     ]
    },
    {
     "name": "stdout",
     "output_type": "stream",
     "text": [
      "网页内容已成功保存为 121226639.mhtml\n",
      "新信息已成功追加到 web_info.db\n",
      "休息 58 秒鐘\n"
     ]
    },
    {
     "name": "stdout",
     "output_type": "stream",
     "text": [
      "网页内容已成功保存为 121226640.mhtml\n",
      "新信息已成功追加到 web_info.db\n",
      "休息 49 秒鐘\n"
     ]
    },
    {
     "name": "stdout",
     "output_type": "stream",
     "text": [
      "网页内容已成功保存为 121226644.mhtml\n",
      "新信息已成功追加到 web_info.db\n",
      "休息 48 秒鐘\n"
     ]
    },
    {
     "name": "stdout",
     "output_type": "stream",
     "text": [
      "网页内容已成功保存为 121226645.mhtml\n",
      "新信息已成功追加到 web_info.db\n",
      "休息 42 秒鐘\n"
     ]
    },
    {
     "name": "stdout",
     "output_type": "stream",
     "text": [
      "网页内容已成功保存为 121226646.mhtml\n",
      "新信息已成功追加到 web_info.db\n",
      "休息 58 秒鐘\n"
     ]
    },
    {
     "name": "stdout",
     "output_type": "stream",
     "text": [
      "网页内容已成功保存为 121226648.mhtml\n",
      "新信息已成功追加到 web_info.db\n",
      "休息 32 秒鐘\n"
     ]
    },
    {
     "name": "stdout",
     "output_type": "stream",
     "text": [
      "网页内容已成功保存为 121226649.mhtml\n",
      "新信息已成功追加到 web_info.db\n",
      "休息 57 秒鐘\n"
     ]
    },
    {
     "name": "stdout",
     "output_type": "stream",
     "text": [
      "网页内容已成功保存为 121226650.mhtml\n",
      "新信息已成功追加到 web_info.db\n",
      "休息 47 秒鐘\n"
     ]
    },
    {
     "name": "stdout",
     "output_type": "stream",
     "text": [
      "网页内容已成功保存为 121226651.mhtml\n",
      "新信息已成功追加到 web_info.db\n",
      "休息 42 秒鐘\n"
     ]
    },
    {
     "name": "stdout",
     "output_type": "stream",
     "text": [
      "网页内容已成功保存为 121226652.mhtml\n",
      "新信息已成功追加到 web_info.db\n",
      "休息 52 秒鐘\n"
     ]
    },
    {
     "name": "stdout",
     "output_type": "stream",
     "text": [
      "网页内容已成功保存为 121226653.mhtml\n",
      "新信息已成功追加到 web_info.db\n",
      "休息 42 秒鐘\n"
     ]
    },
    {
     "name": "stdout",
     "output_type": "stream",
     "text": [
      "网页内容已成功保存为 121226654.mhtml\n",
      "新信息已成功追加到 web_info.db\n",
      "休息 48 秒鐘\n"
     ]
    },
    {
     "name": "stdout",
     "output_type": "stream",
     "text": [
      "网页内容已成功保存为 121226656.mhtml\n",
      "新信息已成功追加到 web_info.db\n",
      "休息 33 秒鐘\n"
     ]
    },
    {
     "name": "stdout",
     "output_type": "stream",
     "text": [
      "网页内容已成功保存为 121226657.mhtml\n",
      "新信息已成功追加到 web_info.db\n",
      "休息 53 秒鐘\n"
     ]
    },
    {
     "name": "stdout",
     "output_type": "stream",
     "text": [
      "网页内容已成功保存为 121226658.mhtml\n",
      "新信息已成功追加到 web_info.db\n",
      "休息 50 秒鐘\n"
     ]
    },
    {
     "name": "stdout",
     "output_type": "stream",
     "text": [
      "网页内容已成功保存为 121226659.mhtml\n",
      "新信息已成功追加到 web_info.db\n",
      "休息 41 秒鐘\n"
     ]
    },
    {
     "name": "stdout",
     "output_type": "stream",
     "text": [
      "网页内容已成功保存为 121226660.mhtml\n",
      "新信息已成功追加到 web_info.db\n",
      "休息 58 秒鐘\n"
     ]
    },
    {
     "name": "stdout",
     "output_type": "stream",
     "text": [
      "网页内容已成功保存为 121226661.mhtml\n",
      "新信息已成功追加到 web_info.db\n",
      "休息 56 秒鐘\n"
     ]
    },
    {
     "name": "stdout",
     "output_type": "stream",
     "text": [
      "网页内容已成功保存为 121226662.mhtml\n",
      "新信息已成功追加到 web_info.db\n",
      "休息 50 秒鐘\n"
     ]
    },
    {
     "name": "stdout",
     "output_type": "stream",
     "text": [
      "网页内容已成功保存为 121226663.mhtml\n",
      "新信息已成功追加到 web_info.db\n",
      "休息 31 秒鐘\n"
     ]
    },
    {
     "name": "stdout",
     "output_type": "stream",
     "text": [
      "网页内容已成功保存为 121226664.mhtml\n",
      "新信息已成功追加到 web_info.db\n",
      "休息 56 秒鐘\n"
     ]
    },
    {
     "name": "stdout",
     "output_type": "stream",
     "text": [
      "网页内容已成功保存为 121226665.mhtml\n",
      "新信息已成功追加到 web_info.db\n",
      "休息 34 秒鐘\n"
     ]
    },
    {
     "name": "stdout",
     "output_type": "stream",
     "text": [
      "网页内容已成功保存为 121226666.mhtml\n",
      "新信息已成功追加到 web_info.db\n",
      "休息 56 秒鐘\n"
     ]
    },
    {
     "name": "stdout",
     "output_type": "stream",
     "text": [
      "网页内容已成功保存为 121226667.mhtml\n",
      "新信息已成功追加到 web_info.db\n",
      "休息 41 秒鐘\n"
     ]
    },
    {
     "name": "stdout",
     "output_type": "stream",
     "text": [
      "网页内容已成功保存为 121226668.mhtml\n",
      "新信息已成功追加到 web_info.db\n",
      "休息 39 秒鐘\n"
     ]
    },
    {
     "name": "stdout",
     "output_type": "stream",
     "text": [
      "网页内容已成功保存为 121226669.mhtml\n",
      "新信息已成功追加到 web_info.db\n",
      "休息 47 秒鐘\n"
     ]
    },
    {
     "name": "stdout",
     "output_type": "stream",
     "text": [
      "网页内容已成功保存为 121226670.mhtml\n",
      "新信息已成功追加到 web_info.db\n",
      "休息 34 秒鐘\n"
     ]
    },
    {
     "name": "stdout",
     "output_type": "stream",
     "text": [
      "网页内容已成功保存为 121226671.mhtml\n",
      "新信息已成功追加到 web_info.db\n",
      "休息 44 秒鐘\n"
     ]
    },
    {
     "name": "stdout",
     "output_type": "stream",
     "text": [
      "网页内容已成功保存为 121226672.mhtml\n",
      "新信息已成功追加到 web_info.db\n",
      "休息 49 秒鐘\n"
     ]
    },
    {
     "name": "stdout",
     "output_type": "stream",
     "text": [
      "网页内容已成功保存为 121226674.mhtml\n",
      "新信息已成功追加到 web_info.db\n",
      "休息 30 秒鐘\n"
     ]
    },
    {
     "name": "stdout",
     "output_type": "stream",
     "text": [
      "网页内容已成功保存为 121226675.mhtml\n",
      "新信息已成功追加到 web_info.db\n",
      "休息 49 秒鐘\n"
     ]
    },
    {
     "name": "stdout",
     "output_type": "stream",
     "text": [
      "网页内容已成功保存为 121226676.mhtml\n",
      "新信息已成功追加到 web_info.db\n",
      "休息 45 秒鐘\n"
     ]
    },
    {
     "name": "stdout",
     "output_type": "stream",
     "text": [
      "网页内容已成功保存为 121226677.mhtml\n",
      "新信息已成功追加到 web_info.db\n",
      "休息 38 秒鐘\n"
     ]
    },
    {
     "name": "stdout",
     "output_type": "stream",
     "text": [
      "网页内容已成功保存为 121226679.mhtml\n",
      "新信息已成功追加到 web_info.db\n",
      "休息 55 秒鐘\n"
     ]
    },
    {
     "name": "stdout",
     "output_type": "stream",
     "text": [
      "网页内容已成功保存为 121226680.mhtml\n",
      "新信息已成功追加到 web_info.db\n",
      "休息 42 秒鐘\n"
     ]
    },
    {
     "name": "stdout",
     "output_type": "stream",
     "text": [
      "网页内容已成功保存为 121226681.mhtml\n",
      "新信息已成功追加到 web_info.db\n",
      "休息 44 秒鐘\n"
     ]
    },
    {
     "name": "stdout",
     "output_type": "stream",
     "text": [
      "网页内容已成功保存为 121226682.mhtml\n",
      "新信息已成功追加到 web_info.db\n",
      "休息 46 秒鐘\n"
     ]
    },
    {
     "name": "stdout",
     "output_type": "stream",
     "text": [
      "网页内容已成功保存为 121226683.mhtml\n",
      "新信息已成功追加到 web_info.db\n",
      "休息 36 秒鐘\n"
     ]
    },
    {
     "name": "stdout",
     "output_type": "stream",
     "text": [
      "网页内容已成功保存为 121226684.mhtml\n",
      "新信息已成功追加到 web_info.db\n",
      "休息 32 秒鐘\n"
     ]
    },
    {
     "name": "stdout",
     "output_type": "stream",
     "text": [
      "网页内容已成功保存为 121226686.mhtml\n",
      "新信息已成功追加到 web_info.db\n",
      "休息 58 秒鐘\n"
     ]
    },
    {
     "name": "stdout",
     "output_type": "stream",
     "text": [
      "网页内容已成功保存为 121226687.mhtml\n",
      "新信息已成功追加到 web_info.db\n",
      "休息 54 秒鐘\n"
     ]
    },
    {
     "name": "stdout",
     "output_type": "stream",
     "text": [
      "网页内容已成功保存为 121226688.mhtml\n",
      "新信息已成功追加到 web_info.db\n",
      "休息 51 秒鐘\n"
     ]
    },
    {
     "name": "stdout",
     "output_type": "stream",
     "text": [
      "网页内容已成功保存为 121226689.mhtml\n",
      "新信息已成功追加到 web_info.db\n",
      "休息 35 秒鐘\n"
     ]
    },
    {
     "name": "stdout",
     "output_type": "stream",
     "text": [
      "网页内容已成功保存为 121226690.mhtml\n",
      "新信息已成功追加到 web_info.db\n",
      "休息 53 秒鐘\n"
     ]
    },
    {
     "name": "stdout",
     "output_type": "stream",
     "text": [
      "网页内容已成功保存为 121226691.mhtml\n",
      "新信息已成功追加到 web_info.db\n",
      "休息 31 秒鐘\n"
     ]
    },
    {
     "name": "stdout",
     "output_type": "stream",
     "text": [
      "网页内容已成功保存为 121226692.mhtml\n",
      "新信息已成功追加到 web_info.db\n",
      "休息 42 秒鐘\n"
     ]
    },
    {
     "name": "stdout",
     "output_type": "stream",
     "text": [
      "网页内容已成功保存为 121226693.mhtml\n",
      "新信息已成功追加到 web_info.db\n",
      "休息 43 秒鐘\n"
     ]
    },
    {
     "name": "stdout",
     "output_type": "stream",
     "text": [
      "网页内容已成功保存为 121226694.mhtml\n",
      "新信息已成功追加到 web_info.db\n",
      "休息 43 秒鐘\n"
     ]
    },
    {
     "name": "stdout",
     "output_type": "stream",
     "text": [
      "网页内容已成功保存为 121226695.mhtml\n",
      "新信息已成功追加到 web_info.db\n",
      "休息 48 秒鐘\n"
     ]
    },
    {
     "name": "stdout",
     "output_type": "stream",
     "text": [
      "网页内容已成功保存为 121226696.mhtml\n",
      "新信息已成功追加到 web_info.db\n",
      "休息 40 秒鐘\n"
     ]
    }
   ],
   "source": [
    "db_filename = 'web_info.db'\n",
    "for work_ID in result:\n",
    "    url = f'https://www.pixiv.net/artworks/{work_ID}'\n",
    "    filename = f'{work_ID}.mhtml'\n",
    "    try:\n",
    "        save_webpage_as_single_file(url, filename)\n",
    "        # 示例：提取和追加数据\n",
    "        mhtml_file = f'{work_ID}.mhtml'  # 替换为实际的 .mhtml 文件路径\n",
    "        info = extract_info_from_mhtml(mhtml_file,work_ID)\n",
    "        # 将提取的信息追加到 'web_info.xlsx'\n",
    "        append_to_sqlite(info)\n",
    "        print(f\"新信息已成功追加到 {db_filename}\")\n",
    "    except Exception as e:\n",
    "        pass\n",
    "    \n",
    "    delay = int(random.uniform(30, 60))  # 5到15秒的隨機延遲\n",
    "    print(f\"休息 {delay} 秒鐘\")\n",
    "    time.sleep(delay)\n",
    "    \n",
    "\n"
   ]
  },
  {
   "cell_type": "code",
   "execution_count": 6,
   "id": "4cd90b55-71ee-4e77-bd49-7115e3a96b3e",
   "metadata": {
    "execution": {
     "iopub.execute_input": "2024-11-11T03:54:57.583030Z",
     "iopub.status.busy": "2024-11-11T03:54:57.582645Z",
     "iopub.status.idle": "2024-11-11T03:54:57.588206Z",
     "shell.execute_reply": "2024-11-11T03:54:57.587793Z"
    }
   },
   "outputs": [
    {
     "name": "stdout",
     "output_type": "stream",
     "text": [
      "Total number of work_IDs: 31681\n"
     ]
    }
   ],
   "source": [
    "import sqlite3\n",
    "\n",
    "# 連接到 SQLite 資料庫\n",
    "con = sqlite3.connect('web_info.db')\n",
    "cur = con.cursor()\n",
    "\n",
    "# 使用 SQL 查詢計算 work_ID 的總數\n",
    "cur.execute(\"SELECT COUNT(work_ID) FROM web_info\")\n",
    "work_id_count = cur.fetchone()[0]\n",
    "\n",
    "# 顯示 work_ID 總數\n",
    "print(f\"Total number of work_IDs: {work_id_count}\")\n",
    "\n",
    "# 關閉資料庫連線\n",
    "con.close()\n"
   ]
  },
  {
   "cell_type": "code",
   "execution_count": 7,
   "id": "37104cd1-a3e8-47d3-a466-2b4b61a2c080",
   "metadata": {
    "execution": {
     "iopub.execute_input": "2024-11-11T03:54:57.590003Z",
     "iopub.status.busy": "2024-11-11T03:54:57.589666Z",
     "iopub.status.idle": "2024-11-11T03:54:57.595386Z",
     "shell.execute_reply": "2024-11-11T03:54:57.594956Z"
    }
   },
   "outputs": [
    {
     "data": {
      "text/plain": [
       "'\\nimport requests\\n\\n# 图片的 URL\\nurl = \\'https://i.pximg.net/img-master/img/2024/08/05/22/47/33/121215791_p0_master1200.jpg\\'\\n\\n# 图片保存的本地文件名\\nfilename = \\'downloaded_image.png\\'\\n\\n# 请求头，模拟完整的浏览器请求\\nheaders = {\\n    \\'User-Agent\\': \\'Mozilla/5.0 (Windows NT 10.0; Win64; x64) AppleWebKit/537.36 (KHTML, like Gecko) Chrome/85.0.4183.102 Safari/537.36\\',\\n    \\'Referer\\': \\'https://www.pixiv.net/\\',\\n    \\'Accept\\': \\'text/html,application/xhtml+xml,application/xml;q=0.9,image/webp,image/apng,*/*;q=0.8\\',\\n    \\'Accept-Encoding\\': \\'gzip, deflate, br\\',\\n    \\'Accept-Language\\': \\'en-US,en;q=0.9\\',\\n    \\'Connection\\': \\'keep-alive\\'\\n}\\n\\n# 发起 GET 请求以下载图片\\nresponse = requests.get(url, headers=headers)\\n\\n# 检查请求是否成功\\nif response.status_code == 200:\\n    # 将图片数据写入本地文件\\n    with open(filename, \\'wb\\') as file:\\n        file.write(response.content)\\n    print(f\"图片已成功保存为 {filename}\")\\nelse:\\n    print(f\"图片下载失败，状态码：{response.status_code}\")\\n\\n'"
      ]
     },
     "execution_count": 7,
     "metadata": {},
     "output_type": "execute_result"
    }
   ],
   "source": [
    "'''\n",
    "import requests\n",
    "\n",
    "# 图片的 URL\n",
    "url = 'https://i.pximg.net/img-master/img/2024/08/05/22/47/33/121215791_p0_master1200.jpg'\n",
    "\n",
    "# 图片保存的本地文件名\n",
    "filename = 'downloaded_image.png'\n",
    "\n",
    "# 请求头，模拟完整的浏览器请求\n",
    "headers = {\n",
    "    'User-Agent': 'Mozilla/5.0 (Windows NT 10.0; Win64; x64) AppleWebKit/537.36 (KHTML, like Gecko) Chrome/85.0.4183.102 Safari/537.36',\n",
    "    'Referer': 'https://www.pixiv.net/',\n",
    "    'Accept': 'text/html,application/xhtml+xml,application/xml;q=0.9,image/webp,image/apng,*/*;q=0.8',\n",
    "    'Accept-Encoding': 'gzip, deflate, br',\n",
    "    'Accept-Language': 'en-US,en;q=0.9',\n",
    "    'Connection': 'keep-alive'\n",
    "}\n",
    "\n",
    "# 发起 GET 请求以下载图片\n",
    "response = requests.get(url, headers=headers)\n",
    "\n",
    "# 检查请求是否成功\n",
    "if response.status_code == 200:\n",
    "    # 将图片数据写入本地文件\n",
    "    with open(filename, 'wb') as file:\n",
    "        file.write(response.content)\n",
    "    print(f\"图片已成功保存为 {filename}\")\n",
    "else:\n",
    "    print(f\"图片下载失败，状态码：{response.status_code}\")\n",
    "\n",
    "'''\n"
   ]
  },
  {
   "cell_type": "code",
   "execution_count": null,
   "id": "2662c282-045f-46fe-9c92-afe79094a532",
   "metadata": {},
   "outputs": [],
   "source": []
  }
 ],
 "metadata": {
  "kernelspec": {
   "display_name": "Python 3 (ipykernel)",
   "language": "python",
   "name": "python3"
  },
  "language_info": {
   "codemirror_mode": {
    "name": "ipython",
    "version": 3
   },
   "file_extension": ".py",
   "mimetype": "text/x-python",
   "name": "python",
   "nbconvert_exporter": "python",
   "pygments_lexer": "ipython3",
   "version": "3.12.7"
  }
 },
 "nbformat": 4,
 "nbformat_minor": 5
}
