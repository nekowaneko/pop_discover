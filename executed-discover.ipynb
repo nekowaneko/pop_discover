{
 "cells": [
  {
   "cell_type": "code",
   "execution_count": 1,
   "id": "e8671cd2-37e4-4acc-bc20-9a6b4420b8e1",
   "metadata": {
    "execution": {
     "iopub.execute_input": "2024-12-04T00:50:32.569359Z",
     "iopub.status.busy": "2024-12-04T00:50:32.569175Z",
     "iopub.status.idle": "2024-12-04T00:50:32.645175Z",
     "shell.execute_reply": "2024-12-04T00:50:32.644597Z"
    }
   },
   "outputs": [],
   "source": [
    "import requests\n",
    "import time\n",
    "import random\n",
    "import sqlite3\n",
    "from tqdm import tqdm\n",
    "\n",
    "# IP列表\n",
    "'''\n",
    "IP_LIST = ['20.213.247.195','13.74.59.33','145.40.121.101','45.167.125.97','157.100.12.138',\n",
    "           '173.244.48.9','51.79.205.165','190.15.103.66','45.42.177.50','8.219.64.236']\n",
    "\n",
    "def get_random_proxy():\n",
    "    ip = random.choice(IP_LIST)\n",
    "    return {\"http\": f\"http://{ip}\", \"https\": f\"http://{ip}\"}\n",
    "'''\n",
    "\n",
    "def init_db():\n",
    "    conn = sqlite3.connect('web_info.db')  # 更改為 web_info.db\n",
    "    c = conn.cursor()\n",
    "    c.execute('''CREATE TABLE IF NOT EXISTS web_info (\n",
    "            work_ID TEXT PRIMARY KEY,\n",
    "            title TEXT,\n",
    "            tags TEXT,\n",
    "            like_count INTEGER,\n",
    "            bookmark_count INTEGER,\n",
    "            view_count INTEGER,\n",
    "            image_url TEXT\n",
    "        )''')\n",
    "    conn.commit()\n",
    "    return conn\n",
    "\n",
    "def get_last_work_id(conn):\n",
    "    c = conn.cursor()\n",
    "    c.execute(\"SELECT MAX(work_ID) FROM web_info\")\n",
    "    result = c.fetchone()[0]\n",
    "    return result if result else 0\n",
    "\n",
    "connn = init_db()\n",
    "\n",
    "start_id = int(get_last_work_id(connn)) + 1"
   ]
  },
  {
   "cell_type": "code",
   "execution_count": 2,
   "id": "b38defef-e43a-4c2f-8607-fe19909046fd",
   "metadata": {
    "execution": {
     "iopub.execute_input": "2024-12-04T00:50:32.647389Z",
     "iopub.status.busy": "2024-12-04T00:50:32.647184Z",
     "iopub.status.idle": "2024-12-04T01:29:13.674075Z",
     "shell.execute_reply": "2024-12-04T01:29:13.673521Z"
    }
   },
   "outputs": [
    {
     "name": "stdout",
     "output_type": "stream",
     "text": [
      "Starting search from ID: 121249016\n"
     ]
    },
    {
     "name": "stderr",
     "output_type": "stream",
     "text": [
      "\r",
      "Finding valid work IDs:   0%|          | 0/200 [00:00<?, ?ID/s]"
     ]
    },
    {
     "name": "stderr",
     "output_type": "stream",
     "text": [
      "\r",
      "Finding valid work IDs:   0%|          | 1/200 [00:00<01:19,  2.50ID/s]"
     ]
    },
    {
     "name": "stderr",
     "output_type": "stream",
     "text": [
      "\r",
      "Finding valid work IDs:   0%|          | 1/200 [00:00<01:19,  2.50ID/s, Latest ID: 121249016]"
     ]
    },
    {
     "name": "stderr",
     "output_type": "stream",
     "text": [
      "\r",
      "Finding valid work IDs:   1%|          | 2/200 [00:08<16:11,  4.91s/ID, Latest ID: 121249016]"
     ]
    },
    {
     "name": "stderr",
     "output_type": "stream",
     "text": [
      "\r",
      "Finding valid work IDs:   1%|          | 2/200 [00:08<16:11,  4.91s/ID, Latest ID: 121249017]"
     ]
    },
    {
     "name": "stderr",
     "output_type": "stream",
     "text": [
      "\r",
      "Finding valid work IDs:   2%|▏         | 3/200 [00:32<44:52, 13.67s/ID, Latest ID: 121249017]"
     ]
    },
    {
     "name": "stderr",
     "output_type": "stream",
     "text": [
      "\r",
      "Finding valid work IDs:   2%|▏         | 3/200 [00:32<44:52, 13.67s/ID, Latest ID: 121249019]"
     ]
    },
    {
     "name": "stderr",
     "output_type": "stream",
     "text": [
      "\r",
      "Finding valid work IDs:   2%|▏         | 4/200 [00:41<38:12, 11.70s/ID, Latest ID: 121249019]"
     ]
    },
    {
     "name": "stderr",
     "output_type": "stream",
     "text": [
      "\r",
      "Finding valid work IDs:   2%|▏         | 4/200 [00:41<38:12, 11.70s/ID, Latest ID: 121249020]"
     ]
    },
    {
     "name": "stderr",
     "output_type": "stream",
     "text": [
      "\r",
      "Finding valid work IDs:   2%|▎         | 5/200 [01:11<59:17, 18.24s/ID, Latest ID: 121249020]"
     ]
    },
    {
     "name": "stderr",
     "output_type": "stream",
     "text": [
      "\r",
      "Finding valid work IDs:   2%|▎         | 5/200 [01:11<59:17, 18.24s/ID, Latest ID: 121249023]"
     ]
    },
    {
     "name": "stderr",
     "output_type": "stream",
     "text": [
      "\r",
      "Finding valid work IDs:   3%|▎         | 6/200 [01:28<58:25, 18.07s/ID, Latest ID: 121249023]"
     ]
    },
    {
     "name": "stderr",
     "output_type": "stream",
     "text": [
      "\r",
      "Finding valid work IDs:   3%|▎         | 6/200 [01:28<58:25, 18.07s/ID, Latest ID: 121249025]"
     ]
    },
    {
     "name": "stderr",
     "output_type": "stream",
     "text": [
      "\r",
      "Finding valid work IDs:   4%|▎         | 7/200 [01:46<58:06, 18.06s/ID, Latest ID: 121249025]"
     ]
    },
    {
     "name": "stderr",
     "output_type": "stream",
     "text": [
      "\r",
      "Finding valid work IDs:   4%|▎         | 7/200 [01:46<58:06, 18.06s/ID, Latest ID: 121249027]"
     ]
    },
    {
     "name": "stderr",
     "output_type": "stream",
     "text": [
      "\r",
      "Finding valid work IDs:   4%|▍         | 8/200 [01:53<45:57, 14.36s/ID, Latest ID: 121249027]"
     ]
    },
    {
     "name": "stderr",
     "output_type": "stream",
     "text": [
      "\r",
      "Finding valid work IDs:   4%|▍         | 8/200 [01:53<45:57, 14.36s/ID, Latest ID: 121249028]"
     ]
    },
    {
     "name": "stderr",
     "output_type": "stream",
     "text": [
      "\r",
      "Finding valid work IDs:   4%|▍         | 9/200 [01:59<37:58, 11.93s/ID, Latest ID: 121249028]"
     ]
    },
    {
     "name": "stderr",
     "output_type": "stream",
     "text": [
      "\r",
      "Finding valid work IDs:   4%|▍         | 9/200 [01:59<37:58, 11.93s/ID, Latest ID: 121249029]"
     ]
    },
    {
     "name": "stderr",
     "output_type": "stream",
     "text": [
      "\r",
      "Finding valid work IDs:   5%|▌         | 10/200 [02:08<34:40, 10.95s/ID, Latest ID: 121249029]"
     ]
    },
    {
     "name": "stderr",
     "output_type": "stream",
     "text": [
      "\r",
      "Finding valid work IDs:   5%|▌         | 10/200 [02:08<34:40, 10.95s/ID, Latest ID: 121249030]"
     ]
    },
    {
     "name": "stderr",
     "output_type": "stream",
     "text": [
      "\r",
      "Finding valid work IDs:   6%|▌         | 11/200 [02:20<35:06, 11.14s/ID, Latest ID: 121249030]"
     ]
    },
    {
     "name": "stderr",
     "output_type": "stream",
     "text": [
      "\r",
      "Finding valid work IDs:   6%|▌         | 11/200 [02:20<35:06, 11.14s/ID, Latest ID: 121249031]"
     ]
    },
    {
     "name": "stderr",
     "output_type": "stream",
     "text": [
      "\r",
      "Finding valid work IDs:   6%|▌         | 12/200 [02:26<30:04,  9.60s/ID, Latest ID: 121249031]"
     ]
    },
    {
     "name": "stderr",
     "output_type": "stream",
     "text": [
      "\r",
      "Finding valid work IDs:   6%|▌         | 12/200 [02:26<30:04,  9.60s/ID, Latest ID: 121249032]"
     ]
    },
    {
     "name": "stderr",
     "output_type": "stream",
     "text": [
      "\r",
      "Finding valid work IDs:   6%|▋         | 13/200 [02:36<30:29,  9.78s/ID, Latest ID: 121249032]"
     ]
    },
    {
     "name": "stderr",
     "output_type": "stream",
     "text": [
      "\r",
      "Finding valid work IDs:   6%|▋         | 13/200 [02:36<30:29,  9.78s/ID, Latest ID: 121249033]"
     ]
    },
    {
     "name": "stderr",
     "output_type": "stream",
     "text": [
      "\r",
      "Finding valid work IDs:   7%|▋         | 14/200 [02:48<32:38, 10.53s/ID, Latest ID: 121249033]"
     ]
    },
    {
     "name": "stderr",
     "output_type": "stream",
     "text": [
      "\r",
      "Finding valid work IDs:   7%|▋         | 14/200 [02:48<32:38, 10.53s/ID, Latest ID: 121249034]"
     ]
    },
    {
     "name": "stderr",
     "output_type": "stream",
     "text": [
      "\r",
      "Finding valid work IDs:   8%|▊         | 15/200 [03:01<34:04, 11.05s/ID, Latest ID: 121249034]"
     ]
    },
    {
     "name": "stderr",
     "output_type": "stream",
     "text": [
      "\r",
      "Finding valid work IDs:   8%|▊         | 15/200 [03:01<34:04, 11.05s/ID, Latest ID: 121249035]"
     ]
    },
    {
     "name": "stderr",
     "output_type": "stream",
     "text": [
      "\r",
      "Finding valid work IDs:   8%|▊         | 16/200 [03:13<35:07, 11.45s/ID, Latest ID: 121249035]"
     ]
    },
    {
     "name": "stderr",
     "output_type": "stream",
     "text": [
      "\r",
      "Finding valid work IDs:   8%|▊         | 16/200 [03:13<35:07, 11.45s/ID, Latest ID: 121249036]"
     ]
    },
    {
     "name": "stderr",
     "output_type": "stream",
     "text": [
      "\r",
      "Finding valid work IDs:   8%|▊         | 17/200 [03:23<33:57, 11.13s/ID, Latest ID: 121249036]"
     ]
    },
    {
     "name": "stderr",
     "output_type": "stream",
     "text": [
      "\r",
      "Finding valid work IDs:   8%|▊         | 17/200 [03:23<33:57, 11.13s/ID, Latest ID: 121249037]"
     ]
    },
    {
     "name": "stderr",
     "output_type": "stream",
     "text": [
      "\r",
      "Finding valid work IDs:   9%|▉         | 18/200 [03:33<32:09, 10.60s/ID, Latest ID: 121249037]"
     ]
    },
    {
     "name": "stderr",
     "output_type": "stream",
     "text": [
      "\r",
      "Finding valid work IDs:   9%|▉         | 18/200 [03:33<32:09, 10.60s/ID, Latest ID: 121249038]"
     ]
    },
    {
     "name": "stderr",
     "output_type": "stream",
     "text": [
      "\r",
      "Finding valid work IDs:  10%|▉         | 19/200 [03:45<33:20, 11.05s/ID, Latest ID: 121249038]"
     ]
    },
    {
     "name": "stderr",
     "output_type": "stream",
     "text": [
      "\r",
      "Finding valid work IDs:  10%|▉         | 19/200 [03:45<33:20, 11.05s/ID, Latest ID: 121249039]"
     ]
    },
    {
     "name": "stderr",
     "output_type": "stream",
     "text": [
      "\r",
      "Finding valid work IDs:  10%|█         | 20/200 [03:58<34:53, 11.63s/ID, Latest ID: 121249039]"
     ]
    },
    {
     "name": "stderr",
     "output_type": "stream",
     "text": [
      "\r",
      "Finding valid work IDs:  10%|█         | 20/200 [03:58<34:53, 11.63s/ID, Latest ID: 121249040]"
     ]
    },
    {
     "name": "stderr",
     "output_type": "stream",
     "text": [
      "\r",
      "Finding valid work IDs:  10%|█         | 21/200 [04:06<31:19, 10.50s/ID, Latest ID: 121249040]"
     ]
    },
    {
     "name": "stderr",
     "output_type": "stream",
     "text": [
      "\r",
      "Finding valid work IDs:  10%|█         | 21/200 [04:06<31:19, 10.50s/ID, Latest ID: 121249041]"
     ]
    },
    {
     "name": "stderr",
     "output_type": "stream",
     "text": [
      "\r",
      "Finding valid work IDs:  11%|█         | 22/200 [04:12<27:50,  9.39s/ID, Latest ID: 121249041]"
     ]
    },
    {
     "name": "stderr",
     "output_type": "stream",
     "text": [
      "\r",
      "Finding valid work IDs:  11%|█         | 22/200 [04:12<27:50,  9.39s/ID, Latest ID: 121249042]"
     ]
    },
    {
     "name": "stderr",
     "output_type": "stream",
     "text": [
      "\r",
      "Finding valid work IDs:  12%|█▏        | 23/200 [04:38<41:53, 14.20s/ID, Latest ID: 121249042]"
     ]
    },
    {
     "name": "stderr",
     "output_type": "stream",
     "text": [
      "\r",
      "Finding valid work IDs:  12%|█▏        | 23/200 [04:38<41:53, 14.20s/ID, Latest ID: 121249044]"
     ]
    },
    {
     "name": "stderr",
     "output_type": "stream",
     "text": [
      "\r",
      "Finding valid work IDs:  12%|█▏        | 24/200 [04:45<35:09, 11.99s/ID, Latest ID: 121249044]"
     ]
    },
    {
     "name": "stderr",
     "output_type": "stream",
     "text": [
      "\r",
      "Finding valid work IDs:  12%|█▏        | 24/200 [04:45<35:09, 11.99s/ID, Latest ID: 121249045]"
     ]
    },
    {
     "name": "stderr",
     "output_type": "stream",
     "text": [
      "\r",
      "Finding valid work IDs:  12%|█▎        | 25/200 [04:51<29:41, 10.18s/ID, Latest ID: 121249045]"
     ]
    },
    {
     "name": "stderr",
     "output_type": "stream",
     "text": [
      "\r",
      "Finding valid work IDs:  12%|█▎        | 25/200 [04:51<29:41, 10.18s/ID, Latest ID: 121249046]"
     ]
    },
    {
     "name": "stderr",
     "output_type": "stream",
     "text": [
      "\r",
      "Finding valid work IDs:  13%|█▎        | 26/200 [05:03<31:14, 10.77s/ID, Latest ID: 121249046]"
     ]
    },
    {
     "name": "stderr",
     "output_type": "stream",
     "text": [
      "\r",
      "Finding valid work IDs:  13%|█▎        | 26/200 [05:03<31:14, 10.77s/ID, Latest ID: 121249048]"
     ]
    },
    {
     "name": "stderr",
     "output_type": "stream",
     "text": [
      "\r",
      "Finding valid work IDs:  14%|█▎        | 27/200 [05:14<31:15, 10.84s/ID, Latest ID: 121249048]"
     ]
    },
    {
     "name": "stderr",
     "output_type": "stream",
     "text": [
      "\r",
      "Finding valid work IDs:  14%|█▎        | 27/200 [05:14<31:15, 10.84s/ID, Latest ID: 121249049]"
     ]
    },
    {
     "name": "stderr",
     "output_type": "stream",
     "text": [
      "\r",
      "Finding valid work IDs:  14%|█▍        | 28/200 [05:24<30:23, 10.60s/ID, Latest ID: 121249049]"
     ]
    },
    {
     "name": "stderr",
     "output_type": "stream",
     "text": [
      "\r",
      "Finding valid work IDs:  14%|█▍        | 28/200 [05:24<30:23, 10.60s/ID, Latest ID: 121249050]"
     ]
    },
    {
     "name": "stderr",
     "output_type": "stream",
     "text": [
      "\r",
      "Finding valid work IDs:  14%|█▍        | 29/200 [05:43<37:38, 13.21s/ID, Latest ID: 121249050]"
     ]
    },
    {
     "name": "stderr",
     "output_type": "stream",
     "text": [
      "\r",
      "Finding valid work IDs:  14%|█▍        | 29/200 [05:43<37:38, 13.21s/ID, Latest ID: 121249052]"
     ]
    },
    {
     "name": "stderr",
     "output_type": "stream",
     "text": [
      "\r",
      "Finding valid work IDs:  15%|█▌        | 30/200 [05:49<31:28, 11.11s/ID, Latest ID: 121249052]"
     ]
    },
    {
     "name": "stderr",
     "output_type": "stream",
     "text": [
      "\r",
      "Finding valid work IDs:  15%|█▌        | 30/200 [05:49<31:28, 11.11s/ID, Latest ID: 121249053]"
     ]
    },
    {
     "name": "stderr",
     "output_type": "stream",
     "text": [
      "\r",
      "Finding valid work IDs:  16%|█▌        | 31/200 [05:55<26:37,  9.45s/ID, Latest ID: 121249053]"
     ]
    },
    {
     "name": "stderr",
     "output_type": "stream",
     "text": [
      "\r",
      "Finding valid work IDs:  16%|█▌        | 31/200 [05:55<26:37,  9.45s/ID, Latest ID: 121249054]"
     ]
    },
    {
     "name": "stderr",
     "output_type": "stream",
     "text": [
      "\r",
      "Finding valid work IDs:  16%|█▌        | 32/200 [06:05<27:11,  9.71s/ID, Latest ID: 121249054]"
     ]
    },
    {
     "name": "stderr",
     "output_type": "stream",
     "text": [
      "\r",
      "Finding valid work IDs:  16%|█▌        | 32/200 [06:05<27:11,  9.71s/ID, Latest ID: 121249055]"
     ]
    },
    {
     "name": "stderr",
     "output_type": "stream",
     "text": [
      "\r",
      "Finding valid work IDs:  16%|█▋        | 33/200 [06:15<26:59,  9.69s/ID, Latest ID: 121249055]"
     ]
    },
    {
     "name": "stderr",
     "output_type": "stream",
     "text": [
      "\r",
      "Finding valid work IDs:  16%|█▋        | 33/200 [06:15<26:59,  9.69s/ID, Latest ID: 121249056]"
     ]
    },
    {
     "name": "stderr",
     "output_type": "stream",
     "text": [
      "\r",
      "Finding valid work IDs:  17%|█▋        | 34/200 [06:29<30:28, 11.01s/ID, Latest ID: 121249056]"
     ]
    },
    {
     "name": "stderr",
     "output_type": "stream",
     "text": [
      "\r",
      "Finding valid work IDs:  17%|█▋        | 34/200 [06:29<30:28, 11.01s/ID, Latest ID: 121249057]"
     ]
    },
    {
     "name": "stderr",
     "output_type": "stream",
     "text": [
      "\r",
      "Finding valid work IDs:  18%|█▊        | 35/200 [06:37<27:30, 10.00s/ID, Latest ID: 121249057]"
     ]
    },
    {
     "name": "stderr",
     "output_type": "stream",
     "text": [
      "\r",
      "Finding valid work IDs:  18%|█▊        | 35/200 [06:37<27:30, 10.00s/ID, Latest ID: 121249058]"
     ]
    },
    {
     "name": "stderr",
     "output_type": "stream",
     "text": [
      "\r",
      "Finding valid work IDs:  18%|█▊        | 36/200 [06:47<27:36, 10.10s/ID, Latest ID: 121249058]"
     ]
    },
    {
     "name": "stderr",
     "output_type": "stream",
     "text": [
      "\r",
      "Finding valid work IDs:  18%|█▊        | 36/200 [06:47<27:36, 10.10s/ID, Latest ID: 121249059]"
     ]
    },
    {
     "name": "stderr",
     "output_type": "stream",
     "text": [
      "\r",
      "Finding valid work IDs:  18%|█▊        | 37/200 [06:53<23:54,  8.80s/ID, Latest ID: 121249059]"
     ]
    },
    {
     "name": "stderr",
     "output_type": "stream",
     "text": [
      "\r",
      "Finding valid work IDs:  18%|█▊        | 37/200 [06:53<23:54,  8.80s/ID, Latest ID: 121249060]"
     ]
    },
    {
     "name": "stderr",
     "output_type": "stream",
     "text": [
      "\r",
      "Finding valid work IDs:  19%|█▉        | 38/200 [07:07<28:07, 10.42s/ID, Latest ID: 121249060]"
     ]
    },
    {
     "name": "stderr",
     "output_type": "stream",
     "text": [
      "\r",
      "Finding valid work IDs:  19%|█▉        | 38/200 [07:07<28:07, 10.42s/ID, Latest ID: 121249061]"
     ]
    },
    {
     "name": "stderr",
     "output_type": "stream",
     "text": [
      "\r",
      "Finding valid work IDs:  20%|█▉        | 39/200 [07:19<29:38, 11.05s/ID, Latest ID: 121249061]"
     ]
    },
    {
     "name": "stderr",
     "output_type": "stream",
     "text": [
      "\r",
      "Finding valid work IDs:  20%|█▉        | 39/200 [07:19<29:38, 11.05s/ID, Latest ID: 121249063]"
     ]
    },
    {
     "name": "stderr",
     "output_type": "stream",
     "text": [
      "\r",
      "Finding valid work IDs:  20%|██        | 40/200 [07:27<26:31,  9.95s/ID, Latest ID: 121249063]"
     ]
    },
    {
     "name": "stderr",
     "output_type": "stream",
     "text": [
      "\r",
      "Finding valid work IDs:  20%|██        | 40/200 [07:27<26:31,  9.95s/ID, Latest ID: 121249064]"
     ]
    },
    {
     "name": "stderr",
     "output_type": "stream",
     "text": [
      "\r",
      "Finding valid work IDs:  20%|██        | 41/200 [07:41<30:06, 11.36s/ID, Latest ID: 121249064]"
     ]
    },
    {
     "name": "stderr",
     "output_type": "stream",
     "text": [
      "\r",
      "Finding valid work IDs:  20%|██        | 41/200 [07:41<30:06, 11.36s/ID, Latest ID: 121249065]"
     ]
    },
    {
     "name": "stderr",
     "output_type": "stream",
     "text": [
      "\r",
      "Finding valid work IDs:  21%|██        | 42/200 [07:54<30:48, 11.70s/ID, Latest ID: 121249065]"
     ]
    },
    {
     "name": "stderr",
     "output_type": "stream",
     "text": [
      "\r",
      "Finding valid work IDs:  21%|██        | 42/200 [07:54<30:48, 11.70s/ID, Latest ID: 121249067]"
     ]
    },
    {
     "name": "stderr",
     "output_type": "stream",
     "text": [
      "\r",
      "Finding valid work IDs:  22%|██▏       | 43/200 [08:09<32:58, 12.60s/ID, Latest ID: 121249067]"
     ]
    },
    {
     "name": "stderr",
     "output_type": "stream",
     "text": [
      "\r",
      "Finding valid work IDs:  22%|██▏       | 43/200 [08:09<32:58, 12.60s/ID, Latest ID: 121249068]"
     ]
    },
    {
     "name": "stderr",
     "output_type": "stream",
     "text": [
      "\r",
      "Finding valid work IDs:  22%|██▏       | 44/200 [08:19<31:04, 11.95s/ID, Latest ID: 121249068]"
     ]
    },
    {
     "name": "stderr",
     "output_type": "stream",
     "text": [
      "\r",
      "Finding valid work IDs:  22%|██▏       | 44/200 [08:19<31:04, 11.95s/ID, Latest ID: 121249069]"
     ]
    },
    {
     "name": "stderr",
     "output_type": "stream",
     "text": [
      "\r",
      "Finding valid work IDs:  22%|██▎       | 45/200 [08:27<27:50, 10.78s/ID, Latest ID: 121249069]"
     ]
    },
    {
     "name": "stderr",
     "output_type": "stream",
     "text": [
      "\r",
      "Finding valid work IDs:  22%|██▎       | 45/200 [08:27<27:50, 10.78s/ID, Latest ID: 121249070]"
     ]
    },
    {
     "name": "stderr",
     "output_type": "stream",
     "text": [
      "\r",
      "Finding valid work IDs:  23%|██▎       | 46/200 [08:38<28:00, 10.91s/ID, Latest ID: 121249070]"
     ]
    },
    {
     "name": "stderr",
     "output_type": "stream",
     "text": [
      "\r",
      "Finding valid work IDs:  23%|██▎       | 46/200 [08:38<28:00, 10.91s/ID, Latest ID: 121249071]"
     ]
    },
    {
     "name": "stderr",
     "output_type": "stream",
     "text": [
      "\r",
      "Finding valid work IDs:  24%|██▎       | 47/200 [08:49<27:40, 10.85s/ID, Latest ID: 121249071]"
     ]
    },
    {
     "name": "stderr",
     "output_type": "stream",
     "text": [
      "\r",
      "Finding valid work IDs:  24%|██▎       | 47/200 [08:49<27:40, 10.85s/ID, Latest ID: 121249072]"
     ]
    },
    {
     "name": "stderr",
     "output_type": "stream",
     "text": [
      "\r",
      "Finding valid work IDs:  24%|██▍       | 48/200 [09:04<30:48, 12.16s/ID, Latest ID: 121249072]"
     ]
    },
    {
     "name": "stderr",
     "output_type": "stream",
     "text": [
      "\r",
      "Finding valid work IDs:  24%|██▍       | 48/200 [09:04<30:48, 12.16s/ID, Latest ID: 121249073]"
     ]
    },
    {
     "name": "stderr",
     "output_type": "stream",
     "text": [
      "\r",
      "Finding valid work IDs:  24%|██▍       | 49/200 [09:12<27:32, 10.94s/ID, Latest ID: 121249073]"
     ]
    },
    {
     "name": "stderr",
     "output_type": "stream",
     "text": [
      "\r",
      "Finding valid work IDs:  24%|██▍       | 49/200 [09:12<27:32, 10.94s/ID, Latest ID: 121249074]"
     ]
    },
    {
     "name": "stderr",
     "output_type": "stream",
     "text": [
      "\r",
      "Finding valid work IDs:  25%|██▌       | 50/200 [09:21<25:49, 10.33s/ID, Latest ID: 121249074]"
     ]
    },
    {
     "name": "stderr",
     "output_type": "stream",
     "text": [
      "\r",
      "Finding valid work IDs:  25%|██▌       | 50/200 [09:21<25:49, 10.33s/ID, Latest ID: 121249075]"
     ]
    },
    {
     "name": "stderr",
     "output_type": "stream",
     "text": [
      "\r",
      "Finding valid work IDs:  26%|██▌       | 51/200 [09:29<23:30,  9.47s/ID, Latest ID: 121249075]"
     ]
    },
    {
     "name": "stderr",
     "output_type": "stream",
     "text": [
      "\r",
      "Finding valid work IDs:  26%|██▌       | 51/200 [09:29<23:30,  9.47s/ID, Latest ID: 121249076]"
     ]
    },
    {
     "name": "stderr",
     "output_type": "stream",
     "text": [
      "\r",
      "Finding valid work IDs:  26%|██▌       | 52/200 [10:00<39:23, 15.97s/ID, Latest ID: 121249076]"
     ]
    },
    {
     "name": "stderr",
     "output_type": "stream",
     "text": [
      "\r",
      "Finding valid work IDs:  26%|██▌       | 52/200 [10:00<39:23, 15.97s/ID, Latest ID: 121249079]"
     ]
    },
    {
     "name": "stderr",
     "output_type": "stream",
     "text": [
      "\r",
      "Finding valid work IDs:  26%|██▋       | 53/200 [10:13<37:18, 15.23s/ID, Latest ID: 121249079]"
     ]
    },
    {
     "name": "stderr",
     "output_type": "stream",
     "text": [
      "\r",
      "Finding valid work IDs:  26%|██▋       | 53/200 [10:13<37:18, 15.23s/ID, Latest ID: 121249080]"
     ]
    },
    {
     "name": "stderr",
     "output_type": "stream",
     "text": [
      "\r",
      "Finding valid work IDs:  27%|██▋       | 54/200 [10:26<35:19, 14.52s/ID, Latest ID: 121249080]"
     ]
    },
    {
     "name": "stderr",
     "output_type": "stream",
     "text": [
      "\r",
      "Finding valid work IDs:  27%|██▋       | 54/200 [10:26<35:19, 14.52s/ID, Latest ID: 121249082]"
     ]
    },
    {
     "name": "stderr",
     "output_type": "stream",
     "text": [
      "\r",
      "Finding valid work IDs:  28%|██▊       | 55/200 [10:35<30:38, 12.68s/ID, Latest ID: 121249082]"
     ]
    },
    {
     "name": "stderr",
     "output_type": "stream",
     "text": [
      "\r",
      "Finding valid work IDs:  28%|██▊       | 55/200 [10:35<30:38, 12.68s/ID, Latest ID: 121249083]"
     ]
    },
    {
     "name": "stderr",
     "output_type": "stream",
     "text": [
      "\r",
      "Finding valid work IDs:  28%|██▊       | 56/200 [10:49<31:24, 13.09s/ID, Latest ID: 121249083]"
     ]
    },
    {
     "name": "stderr",
     "output_type": "stream",
     "text": [
      "\r",
      "Finding valid work IDs:  28%|██▊       | 56/200 [10:49<31:24, 13.09s/ID, Latest ID: 121249084]"
     ]
    },
    {
     "name": "stderr",
     "output_type": "stream",
     "text": [
      "\r",
      "Finding valid work IDs:  28%|██▊       | 57/200 [10:57<27:53, 11.70s/ID, Latest ID: 121249084]"
     ]
    },
    {
     "name": "stderr",
     "output_type": "stream",
     "text": [
      "\r",
      "Finding valid work IDs:  28%|██▊       | 57/200 [10:57<27:53, 11.70s/ID, Latest ID: 121249085]"
     ]
    },
    {
     "name": "stderr",
     "output_type": "stream",
     "text": [
      "\r",
      "Finding valid work IDs:  29%|██▉       | 58/200 [11:03<23:45, 10.04s/ID, Latest ID: 121249085]"
     ]
    },
    {
     "name": "stderr",
     "output_type": "stream",
     "text": [
      "\r",
      "Finding valid work IDs:  29%|██▉       | 58/200 [11:03<23:45, 10.04s/ID, Latest ID: 121249086]"
     ]
    },
    {
     "name": "stderr",
     "output_type": "stream",
     "text": [
      "\r",
      "Finding valid work IDs:  30%|██▉       | 59/200 [11:13<23:35, 10.04s/ID, Latest ID: 121249086]"
     ]
    },
    {
     "name": "stderr",
     "output_type": "stream",
     "text": [
      "\r",
      "Finding valid work IDs:  30%|██▉       | 59/200 [11:13<23:35, 10.04s/ID, Latest ID: 121249087]"
     ]
    },
    {
     "name": "stderr",
     "output_type": "stream",
     "text": [
      "\r",
      "Finding valid work IDs:  30%|███       | 60/200 [11:20<21:02,  9.02s/ID, Latest ID: 121249087]"
     ]
    },
    {
     "name": "stderr",
     "output_type": "stream",
     "text": [
      "\r",
      "Finding valid work IDs:  30%|███       | 60/200 [11:20<21:02,  9.02s/ID, Latest ID: 121249088]"
     ]
    },
    {
     "name": "stderr",
     "output_type": "stream",
     "text": [
      "\r",
      "Finding valid work IDs:  30%|███       | 61/200 [11:34<24:31, 10.58s/ID, Latest ID: 121249088]"
     ]
    },
    {
     "name": "stderr",
     "output_type": "stream",
     "text": [
      "\r",
      "Finding valid work IDs:  30%|███       | 61/200 [11:34<24:31, 10.58s/ID, Latest ID: 121249089]"
     ]
    },
    {
     "name": "stderr",
     "output_type": "stream",
     "text": [
      "\r",
      "Finding valid work IDs:  31%|███       | 62/200 [11:46<25:09, 10.94s/ID, Latest ID: 121249089]"
     ]
    },
    {
     "name": "stderr",
     "output_type": "stream",
     "text": [
      "\r",
      "Finding valid work IDs:  31%|███       | 62/200 [11:46<25:09, 10.94s/ID, Latest ID: 121249090]"
     ]
    },
    {
     "name": "stderr",
     "output_type": "stream",
     "text": [
      "\r",
      "Finding valid work IDs:  32%|███▏      | 63/200 [11:53<22:22,  9.80s/ID, Latest ID: 121249090]"
     ]
    },
    {
     "name": "stderr",
     "output_type": "stream",
     "text": [
      "\r",
      "Finding valid work IDs:  32%|███▏      | 63/200 [11:53<22:22,  9.80s/ID, Latest ID: 121249091]"
     ]
    },
    {
     "name": "stderr",
     "output_type": "stream",
     "text": [
      "\r",
      "Finding valid work IDs:  32%|███▏      | 64/200 [11:59<19:16,  8.50s/ID, Latest ID: 121249091]"
     ]
    },
    {
     "name": "stderr",
     "output_type": "stream",
     "text": [
      "\r",
      "Finding valid work IDs:  32%|███▏      | 64/200 [11:59<19:16,  8.50s/ID, Latest ID: 121249092]"
     ]
    },
    {
     "name": "stderr",
     "output_type": "stream",
     "text": [
      "\r",
      "Finding valid work IDs:  32%|███▎      | 65/200 [12:09<20:07,  8.94s/ID, Latest ID: 121249092]"
     ]
    },
    {
     "name": "stderr",
     "output_type": "stream",
     "text": [
      "\r",
      "Finding valid work IDs:  32%|███▎      | 65/200 [12:09<20:07,  8.94s/ID, Latest ID: 121249093]"
     ]
    },
    {
     "name": "stderr",
     "output_type": "stream",
     "text": [
      "\r",
      "Finding valid work IDs:  33%|███▎      | 66/200 [12:16<18:41,  8.37s/ID, Latest ID: 121249093]"
     ]
    },
    {
     "name": "stderr",
     "output_type": "stream",
     "text": [
      "\r",
      "Finding valid work IDs:  33%|███▎      | 66/200 [12:16<18:41,  8.37s/ID, Latest ID: 121249094]"
     ]
    },
    {
     "name": "stderr",
     "output_type": "stream",
     "text": [
      "\r",
      "Finding valid work IDs:  34%|███▎      | 67/200 [12:25<19:33,  8.82s/ID, Latest ID: 121249094]"
     ]
    },
    {
     "name": "stderr",
     "output_type": "stream",
     "text": [
      "\r",
      "Finding valid work IDs:  34%|███▎      | 67/200 [12:25<19:33,  8.82s/ID, Latest ID: 121249095]"
     ]
    },
    {
     "name": "stderr",
     "output_type": "stream",
     "text": [
      "\r",
      "Finding valid work IDs:  34%|███▍      | 68/200 [12:40<23:18, 10.60s/ID, Latest ID: 121249095]"
     ]
    },
    {
     "name": "stderr",
     "output_type": "stream",
     "text": [
      "\r",
      "Finding valid work IDs:  34%|███▍      | 68/200 [12:40<23:18, 10.60s/ID, Latest ID: 121249096]"
     ]
    },
    {
     "name": "stderr",
     "output_type": "stream",
     "text": [
      "\r",
      "Finding valid work IDs:  34%|███▍      | 69/200 [13:03<30:55, 14.16s/ID, Latest ID: 121249096]"
     ]
    },
    {
     "name": "stderr",
     "output_type": "stream",
     "text": [
      "\r",
      "Finding valid work IDs:  34%|███▍      | 69/200 [13:03<30:55, 14.16s/ID, Latest ID: 121249098]"
     ]
    },
    {
     "name": "stderr",
     "output_type": "stream",
     "text": [
      "\r",
      "Finding valid work IDs:  35%|███▌      | 70/200 [13:13<28:00, 12.93s/ID, Latest ID: 121249098]"
     ]
    },
    {
     "name": "stderr",
     "output_type": "stream",
     "text": [
      "\r",
      "Finding valid work IDs:  35%|███▌      | 70/200 [13:13<28:00, 12.93s/ID, Latest ID: 121249099]"
     ]
    },
    {
     "name": "stderr",
     "output_type": "stream",
     "text": [
      "\r",
      "Finding valid work IDs:  36%|███▌      | 71/200 [13:24<26:37, 12.38s/ID, Latest ID: 121249099]"
     ]
    },
    {
     "name": "stderr",
     "output_type": "stream",
     "text": [
      "\r",
      "Finding valid work IDs:  36%|███▌      | 71/200 [13:24<26:37, 12.38s/ID, Latest ID: 121249100]"
     ]
    },
    {
     "name": "stderr",
     "output_type": "stream",
     "text": [
      "\r",
      "Finding valid work IDs:  36%|███▌      | 72/200 [13:53<36:56, 17.32s/ID, Latest ID: 121249100]"
     ]
    },
    {
     "name": "stderr",
     "output_type": "stream",
     "text": [
      "\r",
      "Finding valid work IDs:  36%|███▌      | 72/200 [13:53<36:56, 17.32s/ID, Latest ID: 121249103]"
     ]
    },
    {
     "name": "stderr",
     "output_type": "stream",
     "text": [
      "\r",
      "Finding valid work IDs:  36%|███▋      | 73/200 [14:02<31:25, 14.84s/ID, Latest ID: 121249103]"
     ]
    },
    {
     "name": "stderr",
     "output_type": "stream",
     "text": [
      "\r",
      "Finding valid work IDs:  36%|███▋      | 73/200 [14:02<31:25, 14.84s/ID, Latest ID: 121249104]"
     ]
    },
    {
     "name": "stderr",
     "output_type": "stream",
     "text": [
      "\r",
      "Finding valid work IDs:  37%|███▋      | 74/200 [14:13<29:11, 13.90s/ID, Latest ID: 121249104]"
     ]
    },
    {
     "name": "stderr",
     "output_type": "stream",
     "text": [
      "\r",
      "Finding valid work IDs:  37%|███▋      | 74/200 [14:13<29:11, 13.90s/ID, Latest ID: 121249105]"
     ]
    },
    {
     "name": "stderr",
     "output_type": "stream",
     "text": [
      "\r",
      "Finding valid work IDs:  38%|███▊      | 75/200 [14:25<27:24, 13.15s/ID, Latest ID: 121249105]"
     ]
    },
    {
     "name": "stderr",
     "output_type": "stream",
     "text": [
      "\r",
      "Finding valid work IDs:  38%|███▊      | 75/200 [14:25<27:24, 13.15s/ID, Latest ID: 121249106]"
     ]
    },
    {
     "name": "stderr",
     "output_type": "stream",
     "text": [
      "\r",
      "Finding valid work IDs:  38%|███▊      | 76/200 [14:40<28:22, 13.73s/ID, Latest ID: 121249106]"
     ]
    },
    {
     "name": "stderr",
     "output_type": "stream",
     "text": [
      "\r",
      "Finding valid work IDs:  38%|███▊      | 76/200 [14:40<28:22, 13.73s/ID, Latest ID: 121249107]"
     ]
    },
    {
     "name": "stderr",
     "output_type": "stream",
     "text": [
      "\r",
      "Finding valid work IDs:  38%|███▊      | 77/200 [14:48<24:25, 11.91s/ID, Latest ID: 121249107]"
     ]
    },
    {
     "name": "stderr",
     "output_type": "stream",
     "text": [
      "\r",
      "Finding valid work IDs:  38%|███▊      | 77/200 [14:48<24:25, 11.91s/ID, Latest ID: 121249108]"
     ]
    },
    {
     "name": "stderr",
     "output_type": "stream",
     "text": [
      "\r",
      "Finding valid work IDs:  39%|███▉      | 78/200 [15:00<24:18, 11.96s/ID, Latest ID: 121249108]"
     ]
    },
    {
     "name": "stderr",
     "output_type": "stream",
     "text": [
      "\r",
      "Finding valid work IDs:  39%|███▉      | 78/200 [15:00<24:18, 11.96s/ID, Latest ID: 121249109]"
     ]
    },
    {
     "name": "stderr",
     "output_type": "stream",
     "text": [
      "\r",
      "Finding valid work IDs:  40%|███▉      | 79/200 [15:07<21:31, 10.68s/ID, Latest ID: 121249109]"
     ]
    },
    {
     "name": "stderr",
     "output_type": "stream",
     "text": [
      "\r",
      "Finding valid work IDs:  40%|███▉      | 79/200 [15:07<21:31, 10.68s/ID, Latest ID: 121249110]"
     ]
    },
    {
     "name": "stderr",
     "output_type": "stream",
     "text": [
      "\r",
      "Finding valid work IDs:  40%|████      | 80/200 [15:19<22:02, 11.02s/ID, Latest ID: 121249110]"
     ]
    },
    {
     "name": "stderr",
     "output_type": "stream",
     "text": [
      "\r",
      "Finding valid work IDs:  40%|████      | 80/200 [15:19<22:02, 11.02s/ID, Latest ID: 121249111]"
     ]
    },
    {
     "name": "stderr",
     "output_type": "stream",
     "text": [
      "\r",
      "Finding valid work IDs:  40%|████      | 81/200 [15:33<23:47, 12.00s/ID, Latest ID: 121249111]"
     ]
    },
    {
     "name": "stderr",
     "output_type": "stream",
     "text": [
      "\r",
      "Finding valid work IDs:  40%|████      | 81/200 [15:33<23:47, 12.00s/ID, Latest ID: 121249112]"
     ]
    },
    {
     "name": "stderr",
     "output_type": "stream",
     "text": [
      "\r",
      "Finding valid work IDs:  41%|████      | 82/200 [15:39<19:46, 10.06s/ID, Latest ID: 121249112]"
     ]
    },
    {
     "name": "stderr",
     "output_type": "stream",
     "text": [
      "\r",
      "Finding valid work IDs:  41%|████      | 82/200 [15:39<19:46, 10.06s/ID, Latest ID: 121249113]"
     ]
    },
    {
     "name": "stderr",
     "output_type": "stream",
     "text": [
      "\r",
      "Finding valid work IDs:  42%|████▏     | 83/200 [15:51<20:47, 10.66s/ID, Latest ID: 121249113]"
     ]
    },
    {
     "name": "stderr",
     "output_type": "stream",
     "text": [
      "\r",
      "Finding valid work IDs:  42%|████▏     | 83/200 [15:51<20:47, 10.66s/ID, Latest ID: 121249114]"
     ]
    },
    {
     "name": "stderr",
     "output_type": "stream",
     "text": [
      "\r",
      "Finding valid work IDs:  42%|████▏     | 84/200 [16:03<21:29, 11.11s/ID, Latest ID: 121249114]"
     ]
    },
    {
     "name": "stderr",
     "output_type": "stream",
     "text": [
      "\r",
      "Finding valid work IDs:  42%|████▏     | 84/200 [16:03<21:29, 11.11s/ID, Latest ID: 121249115]"
     ]
    },
    {
     "name": "stderr",
     "output_type": "stream",
     "text": [
      "\r",
      "Finding valid work IDs:  42%|████▎     | 85/200 [16:09<18:12,  9.50s/ID, Latest ID: 121249115]"
     ]
    },
    {
     "name": "stderr",
     "output_type": "stream",
     "text": [
      "\r",
      "Finding valid work IDs:  42%|████▎     | 85/200 [16:09<18:12,  9.50s/ID, Latest ID: 121249116]"
     ]
    },
    {
     "name": "stderr",
     "output_type": "stream",
     "text": [
      "\r",
      "Finding valid work IDs:  43%|████▎     | 86/200 [16:15<16:03,  8.45s/ID, Latest ID: 121249116]"
     ]
    },
    {
     "name": "stderr",
     "output_type": "stream",
     "text": [
      "\r",
      "Finding valid work IDs:  43%|████▎     | 86/200 [16:15<16:03,  8.45s/ID, Latest ID: 121249117]"
     ]
    },
    {
     "name": "stderr",
     "output_type": "stream",
     "text": [
      "\r",
      "Finding valid work IDs:  44%|████▎     | 87/200 [16:21<14:39,  7.78s/ID, Latest ID: 121249117]"
     ]
    },
    {
     "name": "stderr",
     "output_type": "stream",
     "text": [
      "\r",
      "Finding valid work IDs:  44%|████▎     | 87/200 [16:21<14:39,  7.78s/ID, Latest ID: 121249118]"
     ]
    },
    {
     "name": "stderr",
     "output_type": "stream",
     "text": [
      "\r",
      "Finding valid work IDs:  44%|████▍     | 88/200 [16:29<14:23,  7.71s/ID, Latest ID: 121249118]"
     ]
    },
    {
     "name": "stderr",
     "output_type": "stream",
     "text": [
      "\r",
      "Finding valid work IDs:  44%|████▍     | 88/200 [16:29<14:23,  7.71s/ID, Latest ID: 121249119]"
     ]
    },
    {
     "name": "stderr",
     "output_type": "stream",
     "text": [
      "\r",
      "Finding valid work IDs:  44%|████▍     | 89/200 [16:40<16:07,  8.71s/ID, Latest ID: 121249119]"
     ]
    },
    {
     "name": "stderr",
     "output_type": "stream",
     "text": [
      "\r",
      "Finding valid work IDs:  44%|████▍     | 89/200 [16:40<16:07,  8.71s/ID, Latest ID: 121249120]"
     ]
    },
    {
     "name": "stderr",
     "output_type": "stream",
     "text": [
      "\r",
      "Finding valid work IDs:  45%|████▌     | 90/200 [16:55<19:17, 10.52s/ID, Latest ID: 121249120]"
     ]
    },
    {
     "name": "stderr",
     "output_type": "stream",
     "text": [
      "\r",
      "Finding valid work IDs:  45%|████▌     | 90/200 [16:55<19:17, 10.52s/ID, Latest ID: 121249121]"
     ]
    },
    {
     "name": "stderr",
     "output_type": "stream",
     "text": [
      "\r",
      "Finding valid work IDs:  46%|████▌     | 91/200 [17:09<21:19, 11.74s/ID, Latest ID: 121249121]"
     ]
    },
    {
     "name": "stderr",
     "output_type": "stream",
     "text": [
      "\r",
      "Finding valid work IDs:  46%|████▌     | 91/200 [17:09<21:19, 11.74s/ID, Latest ID: 121249122]"
     ]
    },
    {
     "name": "stderr",
     "output_type": "stream",
     "text": [
      "\r",
      "Finding valid work IDs:  46%|████▌     | 92/200 [17:22<21:39, 12.03s/ID, Latest ID: 121249122]"
     ]
    },
    {
     "name": "stderr",
     "output_type": "stream",
     "text": [
      "\r",
      "Finding valid work IDs:  46%|████▌     | 92/200 [17:22<21:39, 12.03s/ID, Latest ID: 121249123]"
     ]
    },
    {
     "name": "stderr",
     "output_type": "stream",
     "text": [
      "\r",
      "Finding valid work IDs:  46%|████▋     | 93/200 [17:30<19:31, 10.95s/ID, Latest ID: 121249123]"
     ]
    },
    {
     "name": "stderr",
     "output_type": "stream",
     "text": [
      "\r",
      "Finding valid work IDs:  46%|████▋     | 93/200 [17:30<19:31, 10.95s/ID, Latest ID: 121249124]"
     ]
    },
    {
     "name": "stderr",
     "output_type": "stream",
     "text": [
      "\r",
      "Finding valid work IDs:  47%|████▋     | 94/200 [17:41<19:20, 10.94s/ID, Latest ID: 121249124]"
     ]
    },
    {
     "name": "stderr",
     "output_type": "stream",
     "text": [
      "\r",
      "Finding valid work IDs:  47%|████▋     | 94/200 [17:41<19:20, 10.94s/ID, Latest ID: 121249126]"
     ]
    },
    {
     "name": "stderr",
     "output_type": "stream",
     "text": [
      "\r",
      "Finding valid work IDs:  48%|████▊     | 95/200 [17:46<16:11,  9.25s/ID, Latest ID: 121249126]"
     ]
    },
    {
     "name": "stderr",
     "output_type": "stream",
     "text": [
      "\r",
      "Finding valid work IDs:  48%|████▊     | 95/200 [17:46<16:11,  9.25s/ID, Latest ID: 121249127]"
     ]
    },
    {
     "name": "stderr",
     "output_type": "stream",
     "text": [
      "\r",
      "Finding valid work IDs:  48%|████▊     | 96/200 [18:01<18:51, 10.88s/ID, Latest ID: 121249127]"
     ]
    },
    {
     "name": "stderr",
     "output_type": "stream",
     "text": [
      "\r",
      "Finding valid work IDs:  48%|████▊     | 96/200 [18:01<18:51, 10.88s/ID, Latest ID: 121249128]"
     ]
    },
    {
     "name": "stderr",
     "output_type": "stream",
     "text": [
      "\r",
      "Finding valid work IDs:  48%|████▊     | 97/200 [18:08<16:43,  9.74s/ID, Latest ID: 121249128]"
     ]
    },
    {
     "name": "stderr",
     "output_type": "stream",
     "text": [
      "\r",
      "Finding valid work IDs:  48%|████▊     | 97/200 [18:08<16:43,  9.74s/ID, Latest ID: 121249129]"
     ]
    },
    {
     "name": "stderr",
     "output_type": "stream",
     "text": [
      "\r",
      "Finding valid work IDs:  49%|████▉     | 98/200 [18:23<19:10, 11.28s/ID, Latest ID: 121249129]"
     ]
    },
    {
     "name": "stderr",
     "output_type": "stream",
     "text": [
      "\r",
      "Finding valid work IDs:  49%|████▉     | 98/200 [18:23<19:10, 11.28s/ID, Latest ID: 121249130]"
     ]
    },
    {
     "name": "stderr",
     "output_type": "stream",
     "text": [
      "\r",
      "Finding valid work IDs:  50%|████▉     | 99/200 [18:36<19:42, 11.71s/ID, Latest ID: 121249130]"
     ]
    },
    {
     "name": "stderr",
     "output_type": "stream",
     "text": [
      "\r",
      "Finding valid work IDs:  50%|████▉     | 99/200 [18:36<19:42, 11.71s/ID, Latest ID: 121249131]"
     ]
    },
    {
     "name": "stderr",
     "output_type": "stream",
     "text": [
      "\r",
      "Finding valid work IDs:  50%|█████     | 100/200 [18:46<18:32, 11.13s/ID, Latest ID: 121249131]"
     ]
    },
    {
     "name": "stderr",
     "output_type": "stream",
     "text": [
      "\r",
      "Finding valid work IDs:  50%|█████     | 100/200 [18:46<18:32, 11.13s/ID, Latest ID: 121249132]"
     ]
    },
    {
     "name": "stderr",
     "output_type": "stream",
     "text": [
      "\r",
      "Finding valid work IDs:  50%|█████     | 101/200 [18:54<16:53, 10.24s/ID, Latest ID: 121249132]"
     ]
    },
    {
     "name": "stderr",
     "output_type": "stream",
     "text": [
      "\r",
      "Finding valid work IDs:  50%|█████     | 101/200 [18:54<16:53, 10.24s/ID, Latest ID: 121249133]"
     ]
    },
    {
     "name": "stderr",
     "output_type": "stream",
     "text": [
      "\r",
      "Finding valid work IDs:  51%|█████     | 102/200 [19:05<17:02, 10.43s/ID, Latest ID: 121249133]"
     ]
    },
    {
     "name": "stderr",
     "output_type": "stream",
     "text": [
      "\r",
      "Finding valid work IDs:  51%|█████     | 102/200 [19:05<17:02, 10.43s/ID, Latest ID: 121249134]"
     ]
    },
    {
     "name": "stderr",
     "output_type": "stream",
     "text": [
      "\r",
      "Finding valid work IDs:  52%|█████▏    | 103/200 [19:15<16:51, 10.43s/ID, Latest ID: 121249134]"
     ]
    },
    {
     "name": "stderr",
     "output_type": "stream",
     "text": [
      "\r",
      "Finding valid work IDs:  52%|█████▏    | 103/200 [19:15<16:51, 10.43s/ID, Latest ID: 121249135]"
     ]
    },
    {
     "name": "stderr",
     "output_type": "stream",
     "text": [
      "\r",
      "Finding valid work IDs:  52%|█████▏    | 104/200 [19:22<14:50,  9.27s/ID, Latest ID: 121249135]"
     ]
    },
    {
     "name": "stderr",
     "output_type": "stream",
     "text": [
      "\r",
      "Finding valid work IDs:  52%|█████▏    | 104/200 [19:22<14:50,  9.27s/ID, Latest ID: 121249136]"
     ]
    },
    {
     "name": "stderr",
     "output_type": "stream",
     "text": [
      "\r",
      "Finding valid work IDs:  52%|█████▎    | 105/200 [20:01<28:48, 18.20s/ID, Latest ID: 121249136]"
     ]
    },
    {
     "name": "stderr",
     "output_type": "stream",
     "text": [
      "\r",
      "Finding valid work IDs:  52%|█████▎    | 105/200 [20:01<28:48, 18.20s/ID, Latest ID: 121249140]"
     ]
    },
    {
     "name": "stderr",
     "output_type": "stream",
     "text": [
      "\r",
      "Finding valid work IDs:  53%|█████▎    | 106/200 [20:08<23:33, 15.04s/ID, Latest ID: 121249140]"
     ]
    },
    {
     "name": "stderr",
     "output_type": "stream",
     "text": [
      "\r",
      "Finding valid work IDs:  53%|█████▎    | 106/200 [20:08<23:33, 15.04s/ID, Latest ID: 121249141]"
     ]
    },
    {
     "name": "stderr",
     "output_type": "stream",
     "text": [
      "\r",
      "Finding valid work IDs:  54%|█████▎    | 107/200 [20:17<20:12, 13.03s/ID, Latest ID: 121249141]"
     ]
    },
    {
     "name": "stderr",
     "output_type": "stream",
     "text": [
      "\r",
      "Finding valid work IDs:  54%|█████▎    | 107/200 [20:17<20:12, 13.03s/ID, Latest ID: 121249142]"
     ]
    },
    {
     "name": "stderr",
     "output_type": "stream",
     "text": [
      "\r",
      "Finding valid work IDs:  54%|█████▍    | 108/200 [20:39<24:02, 15.68s/ID, Latest ID: 121249142]"
     ]
    },
    {
     "name": "stderr",
     "output_type": "stream",
     "text": [
      "\r",
      "Finding valid work IDs:  54%|█████▍    | 108/200 [20:39<24:02, 15.68s/ID, Latest ID: 121249144]"
     ]
    },
    {
     "name": "stderr",
     "output_type": "stream",
     "text": [
      "\r",
      "Finding valid work IDs:  55%|█████▍    | 109/200 [20:53<23:15, 15.33s/ID, Latest ID: 121249144]"
     ]
    },
    {
     "name": "stderr",
     "output_type": "stream",
     "text": [
      "\r",
      "Finding valid work IDs:  55%|█████▍    | 109/200 [20:53<23:15, 15.33s/ID, Latest ID: 121249145]"
     ]
    },
    {
     "name": "stderr",
     "output_type": "stream",
     "text": [
      "\r",
      "Finding valid work IDs:  55%|█████▌    | 110/200 [21:02<20:12, 13.47s/ID, Latest ID: 121249145]"
     ]
    },
    {
     "name": "stderr",
     "output_type": "stream",
     "text": [
      "\r",
      "Finding valid work IDs:  55%|█████▌    | 110/200 [21:02<20:12, 13.47s/ID, Latest ID: 121249146]"
     ]
    },
    {
     "name": "stderr",
     "output_type": "stream",
     "text": [
      "\r",
      "Finding valid work IDs:  56%|█████▌    | 111/200 [21:10<17:27, 11.77s/ID, Latest ID: 121249146]"
     ]
    },
    {
     "name": "stderr",
     "output_type": "stream",
     "text": [
      "\r",
      "Finding valid work IDs:  56%|█████▌    | 111/200 [21:10<17:27, 11.77s/ID, Latest ID: 121249147]"
     ]
    },
    {
     "name": "stderr",
     "output_type": "stream",
     "text": [
      "\r",
      "Finding valid work IDs:  56%|█████▌    | 112/200 [21:18<15:32, 10.60s/ID, Latest ID: 121249147]"
     ]
    },
    {
     "name": "stderr",
     "output_type": "stream",
     "text": [
      "\r",
      "Finding valid work IDs:  56%|█████▌    | 112/200 [21:18<15:32, 10.60s/ID, Latest ID: 121249148]"
     ]
    },
    {
     "name": "stderr",
     "output_type": "stream",
     "text": [
      "\r",
      "Finding valid work IDs:  56%|█████▋    | 113/200 [21:29<15:30, 10.70s/ID, Latest ID: 121249148]"
     ]
    },
    {
     "name": "stderr",
     "output_type": "stream",
     "text": [
      "\r",
      "Finding valid work IDs:  56%|█████▋    | 113/200 [21:29<15:30, 10.70s/ID, Latest ID: 121249149]"
     ]
    },
    {
     "name": "stderr",
     "output_type": "stream",
     "text": [
      "\r",
      "Finding valid work IDs:  57%|█████▋    | 114/200 [21:36<13:37,  9.51s/ID, Latest ID: 121249149]"
     ]
    },
    {
     "name": "stderr",
     "output_type": "stream",
     "text": [
      "\r",
      "Finding valid work IDs:  57%|█████▋    | 114/200 [21:36<13:37,  9.51s/ID, Latest ID: 121249150]"
     ]
    },
    {
     "name": "stderr",
     "output_type": "stream",
     "text": [
      "\r",
      "Finding valid work IDs:  57%|█████▊    | 115/200 [21:45<13:36,  9.60s/ID, Latest ID: 121249150]"
     ]
    },
    {
     "name": "stderr",
     "output_type": "stream",
     "text": [
      "\r",
      "Finding valid work IDs:  57%|█████▊    | 115/200 [21:45<13:36,  9.60s/ID, Latest ID: 121249151]"
     ]
    },
    {
     "name": "stderr",
     "output_type": "stream",
     "text": [
      "\r",
      "Finding valid work IDs:  58%|█████▊    | 116/200 [22:00<15:28, 11.05s/ID, Latest ID: 121249151]"
     ]
    },
    {
     "name": "stderr",
     "output_type": "stream",
     "text": [
      "\r",
      "Finding valid work IDs:  58%|█████▊    | 116/200 [22:00<15:28, 11.05s/ID, Latest ID: 121249152]"
     ]
    },
    {
     "name": "stderr",
     "output_type": "stream",
     "text": [
      "\r",
      "Finding valid work IDs:  58%|█████▊    | 117/200 [22:05<13:03,  9.45s/ID, Latest ID: 121249152]"
     ]
    },
    {
     "name": "stderr",
     "output_type": "stream",
     "text": [
      "\r",
      "Finding valid work IDs:  58%|█████▊    | 117/200 [22:05<13:03,  9.45s/ID, Latest ID: 121249153]"
     ]
    },
    {
     "name": "stderr",
     "output_type": "stream",
     "text": [
      "\r",
      "Finding valid work IDs:  59%|█████▉    | 118/200 [22:14<12:40,  9.28s/ID, Latest ID: 121249153]"
     ]
    },
    {
     "name": "stderr",
     "output_type": "stream",
     "text": [
      "\r",
      "Finding valid work IDs:  59%|█████▉    | 118/200 [22:14<12:40,  9.28s/ID, Latest ID: 121249154]"
     ]
    },
    {
     "name": "stderr",
     "output_type": "stream",
     "text": [
      "\r",
      "Finding valid work IDs:  60%|█████▉    | 119/200 [22:22<11:52,  8.80s/ID, Latest ID: 121249154]"
     ]
    },
    {
     "name": "stderr",
     "output_type": "stream",
     "text": [
      "\r",
      "Finding valid work IDs:  60%|█████▉    | 119/200 [22:22<11:52,  8.80s/ID, Latest ID: 121249155]"
     ]
    },
    {
     "name": "stderr",
     "output_type": "stream",
     "text": [
      "\r",
      "Finding valid work IDs:  60%|██████    | 120/200 [22:34<12:48,  9.60s/ID, Latest ID: 121249155]"
     ]
    },
    {
     "name": "stderr",
     "output_type": "stream",
     "text": [
      "\r",
      "Finding valid work IDs:  60%|██████    | 120/200 [22:34<12:48,  9.60s/ID, Latest ID: 121249156]"
     ]
    },
    {
     "name": "stderr",
     "output_type": "stream",
     "text": [
      "\r",
      "Finding valid work IDs:  60%|██████    | 121/200 [22:48<14:44, 11.19s/ID, Latest ID: 121249156]"
     ]
    },
    {
     "name": "stderr",
     "output_type": "stream",
     "text": [
      "\r",
      "Finding valid work IDs:  60%|██████    | 121/200 [22:48<14:44, 11.19s/ID, Latest ID: 121249157]"
     ]
    },
    {
     "name": "stderr",
     "output_type": "stream",
     "text": [
      "\r",
      "Finding valid work IDs:  61%|██████    | 122/200 [23:11<18:48, 14.47s/ID, Latest ID: 121249157]"
     ]
    },
    {
     "name": "stderr",
     "output_type": "stream",
     "text": [
      "\r",
      "Finding valid work IDs:  61%|██████    | 122/200 [23:11<18:48, 14.47s/ID, Latest ID: 121249159]"
     ]
    },
    {
     "name": "stderr",
     "output_type": "stream",
     "text": [
      "\r",
      "Finding valid work IDs:  62%|██████▏   | 123/200 [23:18<16:00, 12.47s/ID, Latest ID: 121249159]"
     ]
    },
    {
     "name": "stderr",
     "output_type": "stream",
     "text": [
      "\r",
      "Finding valid work IDs:  62%|██████▏   | 123/200 [23:18<16:00, 12.47s/ID, Latest ID: 121249160]"
     ]
    },
    {
     "name": "stderr",
     "output_type": "stream",
     "text": [
      "\r",
      "Finding valid work IDs:  62%|██████▏   | 124/200 [23:24<13:08, 10.38s/ID, Latest ID: 121249160]"
     ]
    },
    {
     "name": "stderr",
     "output_type": "stream",
     "text": [
      "\r",
      "Finding valid work IDs:  62%|██████▏   | 124/200 [23:24<13:08, 10.38s/ID, Latest ID: 121249161]"
     ]
    },
    {
     "name": "stderr",
     "output_type": "stream",
     "text": [
      "\r",
      "Finding valid work IDs:  62%|██████▎   | 125/200 [23:29<11:11,  8.96s/ID, Latest ID: 121249161]"
     ]
    },
    {
     "name": "stderr",
     "output_type": "stream",
     "text": [
      "\r",
      "Finding valid work IDs:  62%|██████▎   | 125/200 [23:29<11:11,  8.96s/ID, Latest ID: 121249162]"
     ]
    },
    {
     "name": "stderr",
     "output_type": "stream",
     "text": [
      "\r",
      "Finding valid work IDs:  63%|██████▎   | 126/200 [23:37<10:30,  8.52s/ID, Latest ID: 121249162]"
     ]
    },
    {
     "name": "stderr",
     "output_type": "stream",
     "text": [
      "\r",
      "Finding valid work IDs:  63%|██████▎   | 126/200 [23:37<10:30,  8.52s/ID, Latest ID: 121249163]"
     ]
    },
    {
     "name": "stderr",
     "output_type": "stream",
     "text": [
      "\r",
      "Finding valid work IDs:  64%|██████▎   | 127/200 [23:46<10:30,  8.63s/ID, Latest ID: 121249163]"
     ]
    },
    {
     "name": "stderr",
     "output_type": "stream",
     "text": [
      "\r",
      "Finding valid work IDs:  64%|██████▎   | 127/200 [23:46<10:30,  8.63s/ID, Latest ID: 121249164]"
     ]
    },
    {
     "name": "stderr",
     "output_type": "stream",
     "text": [
      "\r",
      "Finding valid work IDs:  64%|██████▍   | 128/200 [23:51<09:09,  7.63s/ID, Latest ID: 121249164]"
     ]
    },
    {
     "name": "stderr",
     "output_type": "stream",
     "text": [
      "\r",
      "Finding valid work IDs:  64%|██████▍   | 128/200 [23:51<09:09,  7.63s/ID, Latest ID: 121249165]"
     ]
    },
    {
     "name": "stderr",
     "output_type": "stream",
     "text": [
      "\r",
      "Finding valid work IDs:  64%|██████▍   | 129/200 [24:03<10:22,  8.77s/ID, Latest ID: 121249165]"
     ]
    },
    {
     "name": "stderr",
     "output_type": "stream",
     "text": [
      "\r",
      "Finding valid work IDs:  64%|██████▍   | 129/200 [24:03<10:22,  8.77s/ID, Latest ID: 121249166]"
     ]
    },
    {
     "name": "stderr",
     "output_type": "stream",
     "text": [
      "\r",
      "Finding valid work IDs:  65%|██████▌   | 130/200 [24:15<11:25,  9.80s/ID, Latest ID: 121249166]"
     ]
    },
    {
     "name": "stderr",
     "output_type": "stream",
     "text": [
      "\r",
      "Finding valid work IDs:  65%|██████▌   | 130/200 [24:15<11:25,  9.80s/ID, Latest ID: 121249167]"
     ]
    },
    {
     "name": "stderr",
     "output_type": "stream",
     "text": [
      "\r",
      "Finding valid work IDs:  66%|██████▌   | 131/200 [24:22<10:21,  9.01s/ID, Latest ID: 121249167]"
     ]
    },
    {
     "name": "stderr",
     "output_type": "stream",
     "text": [
      "\r",
      "Finding valid work IDs:  66%|██████▌   | 131/200 [24:22<10:21,  9.01s/ID, Latest ID: 121249168]"
     ]
    },
    {
     "name": "stderr",
     "output_type": "stream",
     "text": [
      "\r",
      "Finding valid work IDs:  66%|██████▌   | 132/200 [24:33<10:47,  9.52s/ID, Latest ID: 121249168]"
     ]
    },
    {
     "name": "stderr",
     "output_type": "stream",
     "text": [
      "\r",
      "Finding valid work IDs:  66%|██████▌   | 132/200 [24:33<10:47,  9.52s/ID, Latest ID: 121249169]"
     ]
    },
    {
     "name": "stderr",
     "output_type": "stream",
     "text": [
      "\r",
      "Finding valid work IDs:  66%|██████▋   | 133/200 [24:38<09:19,  8.35s/ID, Latest ID: 121249169]"
     ]
    },
    {
     "name": "stderr",
     "output_type": "stream",
     "text": [
      "\r",
      "Finding valid work IDs:  66%|██████▋   | 133/200 [24:38<09:19,  8.35s/ID, Latest ID: 121249170]"
     ]
    },
    {
     "name": "stderr",
     "output_type": "stream",
     "text": [
      "\r",
      "Finding valid work IDs:  67%|██████▋   | 134/200 [24:52<10:59, 10.00s/ID, Latest ID: 121249170]"
     ]
    },
    {
     "name": "stderr",
     "output_type": "stream",
     "text": [
      "\r",
      "Finding valid work IDs:  67%|██████▋   | 134/200 [24:52<10:59, 10.00s/ID, Latest ID: 121249171]"
     ]
    },
    {
     "name": "stderr",
     "output_type": "stream",
     "text": [
      "\r",
      "Finding valid work IDs:  68%|██████▊   | 135/200 [25:02<10:44,  9.92s/ID, Latest ID: 121249171]"
     ]
    },
    {
     "name": "stderr",
     "output_type": "stream",
     "text": [
      "\r",
      "Finding valid work IDs:  68%|██████▊   | 135/200 [25:02<10:44,  9.92s/ID, Latest ID: 121249172]"
     ]
    },
    {
     "name": "stderr",
     "output_type": "stream",
     "text": [
      "\r",
      "Finding valid work IDs:  68%|██████▊   | 136/200 [25:14<11:09, 10.46s/ID, Latest ID: 121249172]"
     ]
    },
    {
     "name": "stderr",
     "output_type": "stream",
     "text": [
      "\r",
      "Finding valid work IDs:  68%|██████▊   | 136/200 [25:14<11:09, 10.46s/ID, Latest ID: 121249173]"
     ]
    },
    {
     "name": "stderr",
     "output_type": "stream",
     "text": [
      "\r",
      "Finding valid work IDs:  68%|██████▊   | 137/200 [25:20<09:39,  9.20s/ID, Latest ID: 121249173]"
     ]
    },
    {
     "name": "stderr",
     "output_type": "stream",
     "text": [
      "\r",
      "Finding valid work IDs:  68%|██████▊   | 137/200 [25:20<09:39,  9.20s/ID, Latest ID: 121249174]"
     ]
    },
    {
     "name": "stderr",
     "output_type": "stream",
     "text": [
      "\r",
      "Finding valid work IDs:  69%|██████▉   | 138/200 [25:31<09:58,  9.65s/ID, Latest ID: 121249174]"
     ]
    },
    {
     "name": "stderr",
     "output_type": "stream",
     "text": [
      "\r",
      "Finding valid work IDs:  69%|██████▉   | 138/200 [25:31<09:58,  9.65s/ID, Latest ID: 121249175]"
     ]
    },
    {
     "name": "stderr",
     "output_type": "stream",
     "text": [
      "\r",
      "Finding valid work IDs:  70%|██████▉   | 139/200 [26:00<15:52, 15.62s/ID, Latest ID: 121249175]"
     ]
    },
    {
     "name": "stderr",
     "output_type": "stream",
     "text": [
      "\r",
      "Finding valid work IDs:  70%|██████▉   | 139/200 [26:00<15:52, 15.62s/ID, Latest ID: 121249178]"
     ]
    },
    {
     "name": "stderr",
     "output_type": "stream",
     "text": [
      "\r",
      "Finding valid work IDs:  70%|███████   | 140/200 [26:19<16:39, 16.66s/ID, Latest ID: 121249178]"
     ]
    },
    {
     "name": "stderr",
     "output_type": "stream",
     "text": [
      "\r",
      "Finding valid work IDs:  70%|███████   | 140/200 [26:19<16:39, 16.66s/ID, Latest ID: 121249180]"
     ]
    },
    {
     "name": "stderr",
     "output_type": "stream",
     "text": [
      "\r",
      "Finding valid work IDs:  70%|███████   | 141/200 [26:34<15:57, 16.22s/ID, Latest ID: 121249180]"
     ]
    },
    {
     "name": "stderr",
     "output_type": "stream",
     "text": [
      "\r",
      "Finding valid work IDs:  70%|███████   | 141/200 [26:34<15:57, 16.22s/ID, Latest ID: 121249181]"
     ]
    },
    {
     "name": "stderr",
     "output_type": "stream",
     "text": [
      "\r",
      "Finding valid work IDs:  71%|███████   | 142/200 [27:11<21:41, 22.44s/ID, Latest ID: 121249181]"
     ]
    },
    {
     "name": "stderr",
     "output_type": "stream",
     "text": [
      "\r",
      "Finding valid work IDs:  71%|███████   | 142/200 [27:11<21:41, 22.44s/ID, Latest ID: 121249184]"
     ]
    },
    {
     "name": "stderr",
     "output_type": "stream",
     "text": [
      "\r",
      "Finding valid work IDs:  72%|███████▏  | 143/200 [27:23<18:14, 19.20s/ID, Latest ID: 121249184]"
     ]
    },
    {
     "name": "stderr",
     "output_type": "stream",
     "text": [
      "\r",
      "Finding valid work IDs:  72%|███████▏  | 143/200 [27:23<18:14, 19.20s/ID, Latest ID: 121249185]"
     ]
    },
    {
     "name": "stderr",
     "output_type": "stream",
     "text": [
      "\r",
      "Finding valid work IDs:  72%|███████▏  | 144/200 [27:34<15:40, 16.79s/ID, Latest ID: 121249185]"
     ]
    },
    {
     "name": "stderr",
     "output_type": "stream",
     "text": [
      "\r",
      "Finding valid work IDs:  72%|███████▏  | 144/200 [27:34<15:40, 16.79s/ID, Latest ID: 121249186]"
     ]
    },
    {
     "name": "stderr",
     "output_type": "stream",
     "text": [
      "\r",
      "Finding valid work IDs:  72%|███████▎  | 145/200 [27:54<16:08, 17.61s/ID, Latest ID: 121249186]"
     ]
    },
    {
     "name": "stderr",
     "output_type": "stream",
     "text": [
      "\r",
      "Finding valid work IDs:  72%|███████▎  | 145/200 [27:54<16:08, 17.61s/ID, Latest ID: 121249188]"
     ]
    },
    {
     "name": "stderr",
     "output_type": "stream",
     "text": [
      "\r",
      "Finding valid work IDs:  73%|███████▎  | 146/200 [28:05<14:02, 15.61s/ID, Latest ID: 121249188]"
     ]
    },
    {
     "name": "stderr",
     "output_type": "stream",
     "text": [
      "\r",
      "Finding valid work IDs:  73%|███████▎  | 146/200 [28:05<14:02, 15.61s/ID, Latest ID: 121249189]"
     ]
    },
    {
     "name": "stderr",
     "output_type": "stream",
     "text": [
      "\r",
      "Finding valid work IDs:  74%|███████▎  | 147/200 [28:10<11:07, 12.59s/ID, Latest ID: 121249189]"
     ]
    },
    {
     "name": "stderr",
     "output_type": "stream",
     "text": [
      "\r",
      "Finding valid work IDs:  74%|███████▎  | 147/200 [28:10<11:07, 12.59s/ID, Latest ID: 121249190]"
     ]
    },
    {
     "name": "stderr",
     "output_type": "stream",
     "text": [
      "\r",
      "Finding valid work IDs:  74%|███████▍  | 148/200 [28:20<10:16, 11.86s/ID, Latest ID: 121249190]"
     ]
    },
    {
     "name": "stderr",
     "output_type": "stream",
     "text": [
      "\r",
      "Finding valid work IDs:  74%|███████▍  | 148/200 [28:20<10:16, 11.86s/ID, Latest ID: 121249191]"
     ]
    },
    {
     "name": "stderr",
     "output_type": "stream",
     "text": [
      "\r",
      "Finding valid work IDs:  74%|███████▍  | 149/200 [28:32<09:55, 11.67s/ID, Latest ID: 121249191]"
     ]
    },
    {
     "name": "stderr",
     "output_type": "stream",
     "text": [
      "\r",
      "Finding valid work IDs:  74%|███████▍  | 149/200 [28:32<09:55, 11.67s/ID, Latest ID: 121249192]"
     ]
    },
    {
     "name": "stderr",
     "output_type": "stream",
     "text": [
      "\r",
      "Finding valid work IDs:  75%|███████▌  | 150/200 [28:46<10:26, 12.53s/ID, Latest ID: 121249192]"
     ]
    },
    {
     "name": "stderr",
     "output_type": "stream",
     "text": [
      "\r",
      "Finding valid work IDs:  75%|███████▌  | 150/200 [28:46<10:26, 12.53s/ID, Latest ID: 121249193]"
     ]
    },
    {
     "name": "stderr",
     "output_type": "stream",
     "text": [
      "\r",
      "Finding valid work IDs:  76%|███████▌  | 151/200 [29:01<10:50, 13.28s/ID, Latest ID: 121249193]"
     ]
    },
    {
     "name": "stderr",
     "output_type": "stream",
     "text": [
      "\r",
      "Finding valid work IDs:  76%|███████▌  | 151/200 [29:01<10:50, 13.28s/ID, Latest ID: 121249194]"
     ]
    },
    {
     "name": "stderr",
     "output_type": "stream",
     "text": [
      "\r",
      "Finding valid work IDs:  76%|███████▌  | 152/200 [29:16<10:59, 13.75s/ID, Latest ID: 121249194]"
     ]
    },
    {
     "name": "stderr",
     "output_type": "stream",
     "text": [
      "\r",
      "Finding valid work IDs:  76%|███████▌  | 152/200 [29:16<10:59, 13.75s/ID, Latest ID: 121249195]"
     ]
    },
    {
     "name": "stderr",
     "output_type": "stream",
     "text": [
      "\r",
      "Finding valid work IDs:  76%|███████▋  | 153/200 [29:22<08:54, 11.38s/ID, Latest ID: 121249195]"
     ]
    },
    {
     "name": "stderr",
     "output_type": "stream",
     "text": [
      "\r",
      "Finding valid work IDs:  76%|███████▋  | 153/200 [29:22<08:54, 11.38s/ID, Latest ID: 121249196]"
     ]
    },
    {
     "name": "stderr",
     "output_type": "stream",
     "text": [
      "\r",
      "Finding valid work IDs:  77%|███████▋  | 154/200 [29:37<09:32, 12.44s/ID, Latest ID: 121249196]"
     ]
    },
    {
     "name": "stderr",
     "output_type": "stream",
     "text": [
      "\r",
      "Finding valid work IDs:  77%|███████▋  | 154/200 [29:37<09:32, 12.44s/ID, Latest ID: 121249197]"
     ]
    },
    {
     "name": "stderr",
     "output_type": "stream",
     "text": [
      "\r",
      "Finding valid work IDs:  78%|███████▊  | 155/200 [29:45<08:25, 11.22s/ID, Latest ID: 121249197]"
     ]
    },
    {
     "name": "stderr",
     "output_type": "stream",
     "text": [
      "\r",
      "Finding valid work IDs:  78%|███████▊  | 155/200 [29:45<08:25, 11.22s/ID, Latest ID: 121249198]"
     ]
    },
    {
     "name": "stderr",
     "output_type": "stream",
     "text": [
      "\r",
      "Finding valid work IDs:  78%|███████▊  | 156/200 [29:56<08:14, 11.23s/ID, Latest ID: 121249198]"
     ]
    },
    {
     "name": "stderr",
     "output_type": "stream",
     "text": [
      "\r",
      "Finding valid work IDs:  78%|███████▊  | 156/200 [29:56<08:14, 11.23s/ID, Latest ID: 121249199]"
     ]
    },
    {
     "name": "stderr",
     "output_type": "stream",
     "text": [
      "\r",
      "Finding valid work IDs:  78%|███████▊  | 157/200 [30:10<08:35, 11.98s/ID, Latest ID: 121249199]"
     ]
    },
    {
     "name": "stderr",
     "output_type": "stream",
     "text": [
      "\r",
      "Finding valid work IDs:  78%|███████▊  | 157/200 [30:10<08:35, 11.98s/ID, Latest ID: 121249200]"
     ]
    },
    {
     "name": "stderr",
     "output_type": "stream",
     "text": [
      "\r",
      "Finding valid work IDs:  79%|███████▉  | 158/200 [30:32<10:31, 15.03s/ID, Latest ID: 121249200]"
     ]
    },
    {
     "name": "stderr",
     "output_type": "stream",
     "text": [
      "\r",
      "Finding valid work IDs:  79%|███████▉  | 158/200 [30:32<10:31, 15.03s/ID, Latest ID: 121249202]"
     ]
    },
    {
     "name": "stderr",
     "output_type": "stream",
     "text": [
      "\r",
      "Finding valid work IDs:  80%|███████▉  | 159/200 [30:39<08:39, 12.68s/ID, Latest ID: 121249202]"
     ]
    },
    {
     "name": "stderr",
     "output_type": "stream",
     "text": [
      "\r",
      "Finding valid work IDs:  80%|███████▉  | 159/200 [30:39<08:39, 12.68s/ID, Latest ID: 121249203]"
     ]
    },
    {
     "name": "stderr",
     "output_type": "stream",
     "text": [
      "\r",
      "Finding valid work IDs:  80%|████████  | 160/200 [30:55<08:56, 13.42s/ID, Latest ID: 121249203]"
     ]
    },
    {
     "name": "stderr",
     "output_type": "stream",
     "text": [
      "\r",
      "Finding valid work IDs:  80%|████████  | 160/200 [30:55<08:56, 13.42s/ID, Latest ID: 121249204]"
     ]
    },
    {
     "name": "stderr",
     "output_type": "stream",
     "text": [
      "\r",
      "Finding valid work IDs:  80%|████████  | 161/200 [31:00<07:08, 10.99s/ID, Latest ID: 121249204]"
     ]
    },
    {
     "name": "stderr",
     "output_type": "stream",
     "text": [
      "\r",
      "Finding valid work IDs:  80%|████████  | 161/200 [31:00<07:08, 10.99s/ID, Latest ID: 121249205]"
     ]
    },
    {
     "name": "stderr",
     "output_type": "stream",
     "text": [
      "\r",
      "Finding valid work IDs:  81%|████████  | 162/200 [31:18<08:16, 13.07s/ID, Latest ID: 121249205]"
     ]
    },
    {
     "name": "stderr",
     "output_type": "stream",
     "text": [
      "\r",
      "Finding valid work IDs:  81%|████████  | 162/200 [31:18<08:16, 13.07s/ID, Latest ID: 121249207]"
     ]
    },
    {
     "name": "stderr",
     "output_type": "stream",
     "text": [
      "\r",
      "Finding valid work IDs:  82%|████████▏ | 163/200 [31:28<07:27, 12.10s/ID, Latest ID: 121249207]"
     ]
    },
    {
     "name": "stderr",
     "output_type": "stream",
     "text": [
      "\r",
      "Finding valid work IDs:  82%|████████▏ | 163/200 [31:28<07:27, 12.10s/ID, Latest ID: 121249208]"
     ]
    },
    {
     "name": "stderr",
     "output_type": "stream",
     "text": [
      "\r",
      "Finding valid work IDs:  82%|████████▏ | 164/200 [31:34<06:16, 10.45s/ID, Latest ID: 121249208]"
     ]
    },
    {
     "name": "stderr",
     "output_type": "stream",
     "text": [
      "\r",
      "Finding valid work IDs:  82%|████████▏ | 164/200 [31:34<06:16, 10.45s/ID, Latest ID: 121249209]"
     ]
    },
    {
     "name": "stderr",
     "output_type": "stream",
     "text": [
      "\r",
      "Finding valid work IDs:  82%|████████▎ | 165/200 [31:55<07:52, 13.49s/ID, Latest ID: 121249209]"
     ]
    },
    {
     "name": "stderr",
     "output_type": "stream",
     "text": [
      "\r",
      "Finding valid work IDs:  82%|████████▎ | 165/200 [31:55<07:52, 13.49s/ID, Latest ID: 121249211]"
     ]
    },
    {
     "name": "stderr",
     "output_type": "stream",
     "text": [
      "\r",
      "Finding valid work IDs:  83%|████████▎ | 166/200 [32:05<07:05, 12.52s/ID, Latest ID: 121249211]"
     ]
    },
    {
     "name": "stderr",
     "output_type": "stream",
     "text": [
      "\r",
      "Finding valid work IDs:  83%|████████▎ | 166/200 [32:05<07:05, 12.52s/ID, Latest ID: 121249212]"
     ]
    },
    {
     "name": "stderr",
     "output_type": "stream",
     "text": [
      "\r",
      "Finding valid work IDs:  84%|████████▎ | 167/200 [32:14<06:16, 11.42s/ID, Latest ID: 121249212]"
     ]
    },
    {
     "name": "stderr",
     "output_type": "stream",
     "text": [
      "\r",
      "Finding valid work IDs:  84%|████████▎ | 167/200 [32:14<06:16, 11.42s/ID, Latest ID: 121249213]"
     ]
    },
    {
     "name": "stderr",
     "output_type": "stream",
     "text": [
      "\r",
      "Finding valid work IDs:  84%|████████▍ | 168/200 [32:21<05:19, 10.00s/ID, Latest ID: 121249213]"
     ]
    },
    {
     "name": "stderr",
     "output_type": "stream",
     "text": [
      "\r",
      "Finding valid work IDs:  84%|████████▍ | 168/200 [32:21<05:19, 10.00s/ID, Latest ID: 121249214]"
     ]
    },
    {
     "name": "stderr",
     "output_type": "stream",
     "text": [
      "\r",
      "Finding valid work IDs:  84%|████████▍ | 169/200 [32:32<05:24, 10.47s/ID, Latest ID: 121249214]"
     ]
    },
    {
     "name": "stderr",
     "output_type": "stream",
     "text": [
      "\r",
      "Finding valid work IDs:  84%|████████▍ | 169/200 [32:32<05:24, 10.47s/ID, Latest ID: 121249215]"
     ]
    },
    {
     "name": "stderr",
     "output_type": "stream",
     "text": [
      "\r",
      "Finding valid work IDs:  85%|████████▌ | 170/200 [32:46<05:47, 11.59s/ID, Latest ID: 121249215]"
     ]
    },
    {
     "name": "stderr",
     "output_type": "stream",
     "text": [
      "\r",
      "Finding valid work IDs:  85%|████████▌ | 170/200 [32:46<05:47, 11.59s/ID, Latest ID: 121249216]"
     ]
    },
    {
     "name": "stderr",
     "output_type": "stream",
     "text": [
      "\r",
      "Finding valid work IDs:  86%|████████▌ | 171/200 [32:56<05:21, 11.07s/ID, Latest ID: 121249216]"
     ]
    },
    {
     "name": "stderr",
     "output_type": "stream",
     "text": [
      "\r",
      "Finding valid work IDs:  86%|████████▌ | 171/200 [32:56<05:21, 11.07s/ID, Latest ID: 121249217]"
     ]
    },
    {
     "name": "stderr",
     "output_type": "stream",
     "text": [
      "\r",
      "Finding valid work IDs:  86%|████████▌ | 172/200 [33:11<05:43, 12.26s/ID, Latest ID: 121249217]"
     ]
    },
    {
     "name": "stderr",
     "output_type": "stream",
     "text": [
      "\r",
      "Finding valid work IDs:  86%|████████▌ | 172/200 [33:11<05:43, 12.26s/ID, Latest ID: 121249218]"
     ]
    },
    {
     "name": "stderr",
     "output_type": "stream",
     "text": [
      "\r",
      "Finding valid work IDs:  86%|████████▋ | 173/200 [33:26<05:47, 12.88s/ID, Latest ID: 121249218]"
     ]
    },
    {
     "name": "stderr",
     "output_type": "stream",
     "text": [
      "\r",
      "Finding valid work IDs:  86%|████████▋ | 173/200 [33:26<05:47, 12.88s/ID, Latest ID: 121249219]"
     ]
    },
    {
     "name": "stderr",
     "output_type": "stream",
     "text": [
      "\r",
      "Finding valid work IDs:  87%|████████▋ | 174/200 [33:49<06:54, 15.93s/ID, Latest ID: 121249219]"
     ]
    },
    {
     "name": "stderr",
     "output_type": "stream",
     "text": [
      "\r",
      "Finding valid work IDs:  87%|████████▋ | 174/200 [33:49<06:54, 15.93s/ID, Latest ID: 121249221]"
     ]
    },
    {
     "name": "stderr",
     "output_type": "stream",
     "text": [
      "\r",
      "Finding valid work IDs:  88%|████████▊ | 175/200 [34:00<06:07, 14.69s/ID, Latest ID: 121249221]"
     ]
    },
    {
     "name": "stderr",
     "output_type": "stream",
     "text": [
      "\r",
      "Finding valid work IDs:  88%|████████▊ | 175/200 [34:00<06:07, 14.69s/ID, Latest ID: 121249222]"
     ]
    },
    {
     "name": "stderr",
     "output_type": "stream",
     "text": [
      "\r",
      "Finding valid work IDs:  88%|████████▊ | 176/200 [34:10<05:17, 13.22s/ID, Latest ID: 121249222]"
     ]
    },
    {
     "name": "stderr",
     "output_type": "stream",
     "text": [
      "\r",
      "Finding valid work IDs:  88%|████████▊ | 176/200 [34:10<05:17, 13.22s/ID, Latest ID: 121249223]"
     ]
    },
    {
     "name": "stderr",
     "output_type": "stream",
     "text": [
      "\r",
      "Finding valid work IDs:  88%|████████▊ | 177/200 [34:17<04:18, 11.23s/ID, Latest ID: 121249223]"
     ]
    },
    {
     "name": "stderr",
     "output_type": "stream",
     "text": [
      "\r",
      "Finding valid work IDs:  88%|████████▊ | 177/200 [34:17<04:18, 11.23s/ID, Latest ID: 121249224]"
     ]
    },
    {
     "name": "stderr",
     "output_type": "stream",
     "text": [
      "\r",
      "Finding valid work IDs:  89%|████████▉ | 178/200 [34:32<04:30, 12.31s/ID, Latest ID: 121249224]"
     ]
    },
    {
     "name": "stderr",
     "output_type": "stream",
     "text": [
      "\r",
      "Finding valid work IDs:  89%|████████▉ | 178/200 [34:32<04:30, 12.31s/ID, Latest ID: 121249225]"
     ]
    },
    {
     "name": "stderr",
     "output_type": "stream",
     "text": [
      "\r",
      "Finding valid work IDs:  90%|████████▉ | 179/200 [34:40<03:56, 11.25s/ID, Latest ID: 121249225]"
     ]
    },
    {
     "name": "stderr",
     "output_type": "stream",
     "text": [
      "\r",
      "Finding valid work IDs:  90%|████████▉ | 179/200 [34:40<03:56, 11.25s/ID, Latest ID: 121249226]"
     ]
    },
    {
     "name": "stderr",
     "output_type": "stream",
     "text": [
      "\r",
      "Finding valid work IDs:  90%|█████████ | 180/200 [34:52<03:49, 11.48s/ID, Latest ID: 121249226]"
     ]
    },
    {
     "name": "stderr",
     "output_type": "stream",
     "text": [
      "\r",
      "Finding valid work IDs:  90%|█████████ | 180/200 [34:52<03:49, 11.48s/ID, Latest ID: 121249227]"
     ]
    },
    {
     "name": "stderr",
     "output_type": "stream",
     "text": [
      "\r",
      "Finding valid work IDs:  90%|█████████ | 181/200 [34:59<03:10, 10.05s/ID, Latest ID: 121249227]"
     ]
    },
    {
     "name": "stderr",
     "output_type": "stream",
     "text": [
      "\r",
      "Finding valid work IDs:  90%|█████████ | 181/200 [34:59<03:10, 10.05s/ID, Latest ID: 121249228]"
     ]
    },
    {
     "name": "stderr",
     "output_type": "stream",
     "text": [
      "\r",
      "Finding valid work IDs:  91%|█████████ | 182/200 [35:08<02:53,  9.63s/ID, Latest ID: 121249228]"
     ]
    },
    {
     "name": "stderr",
     "output_type": "stream",
     "text": [
      "\r",
      "Finding valid work IDs:  91%|█████████ | 182/200 [35:08<02:53,  9.63s/ID, Latest ID: 121249229]"
     ]
    },
    {
     "name": "stderr",
     "output_type": "stream",
     "text": [
      "\r",
      "Finding valid work IDs:  92%|█████████▏| 183/200 [35:21<02:59, 10.56s/ID, Latest ID: 121249229]"
     ]
    },
    {
     "name": "stderr",
     "output_type": "stream",
     "text": [
      "\r",
      "Finding valid work IDs:  92%|█████████▏| 183/200 [35:21<02:59, 10.56s/ID, Latest ID: 121249230]"
     ]
    },
    {
     "name": "stderr",
     "output_type": "stream",
     "text": [
      "\r",
      "Finding valid work IDs:  92%|█████████▏| 184/200 [35:42<03:41, 13.84s/ID, Latest ID: 121249230]"
     ]
    },
    {
     "name": "stderr",
     "output_type": "stream",
     "text": [
      "\r",
      "Finding valid work IDs:  92%|█████████▏| 184/200 [35:42<03:41, 13.84s/ID, Latest ID: 121249232]"
     ]
    },
    {
     "name": "stderr",
     "output_type": "stream",
     "text": [
      "\r",
      "Finding valid work IDs:  92%|█████████▎| 185/200 [35:56<03:27, 13.83s/ID, Latest ID: 121249232]"
     ]
    },
    {
     "name": "stderr",
     "output_type": "stream",
     "text": [
      "\r",
      "Finding valid work IDs:  92%|█████████▎| 185/200 [35:56<03:27, 13.83s/ID, Latest ID: 121249233]"
     ]
    },
    {
     "name": "stderr",
     "output_type": "stream",
     "text": [
      "\r",
      "Finding valid work IDs:  93%|█████████▎| 186/200 [36:11<03:17, 14.13s/ID, Latest ID: 121249233]"
     ]
    },
    {
     "name": "stderr",
     "output_type": "stream",
     "text": [
      "\r",
      "Finding valid work IDs:  93%|█████████▎| 186/200 [36:11<03:17, 14.13s/ID, Latest ID: 121249234]"
     ]
    },
    {
     "name": "stderr",
     "output_type": "stream",
     "text": [
      "\r",
      "Finding valid work IDs:  94%|█████████▎| 187/200 [36:19<02:40, 12.38s/ID, Latest ID: 121249234]"
     ]
    },
    {
     "name": "stderr",
     "output_type": "stream",
     "text": [
      "\r",
      "Finding valid work IDs:  94%|█████████▎| 187/200 [36:19<02:40, 12.38s/ID, Latest ID: 121249235]"
     ]
    },
    {
     "name": "stderr",
     "output_type": "stream",
     "text": [
      "\r",
      "Finding valid work IDs:  94%|█████████▍| 188/200 [36:33<02:34, 12.88s/ID, Latest ID: 121249235]"
     ]
    },
    {
     "name": "stderr",
     "output_type": "stream",
     "text": [
      "\r",
      "Finding valid work IDs:  94%|█████████▍| 188/200 [36:33<02:34, 12.88s/ID, Latest ID: 121249236]"
     ]
    },
    {
     "name": "stderr",
     "output_type": "stream",
     "text": [
      "\r",
      "Finding valid work IDs:  94%|█████████▍| 189/200 [36:43<02:12, 12.07s/ID, Latest ID: 121249236]"
     ]
    },
    {
     "name": "stderr",
     "output_type": "stream",
     "text": [
      "\r",
      "Finding valid work IDs:  94%|█████████▍| 189/200 [36:43<02:12, 12.07s/ID, Latest ID: 121249237]"
     ]
    },
    {
     "name": "stderr",
     "output_type": "stream",
     "text": [
      "\r",
      "Finding valid work IDs:  95%|█████████▌| 190/200 [36:53<01:53, 11.35s/ID, Latest ID: 121249237]"
     ]
    },
    {
     "name": "stderr",
     "output_type": "stream",
     "text": [
      "\r",
      "Finding valid work IDs:  95%|█████████▌| 190/200 [36:53<01:53, 11.35s/ID, Latest ID: 121249238]"
     ]
    },
    {
     "name": "stderr",
     "output_type": "stream",
     "text": [
      "\r",
      "Finding valid work IDs:  96%|█████████▌| 191/200 [37:06<01:47, 11.97s/ID, Latest ID: 121249238]"
     ]
    },
    {
     "name": "stderr",
     "output_type": "stream",
     "text": [
      "\r",
      "Finding valid work IDs:  96%|█████████▌| 191/200 [37:06<01:47, 11.97s/ID, Latest ID: 121249239]"
     ]
    },
    {
     "name": "stderr",
     "output_type": "stream",
     "text": [
      "\r",
      "Finding valid work IDs:  96%|█████████▌| 192/200 [37:28<01:59, 14.92s/ID, Latest ID: 121249239]"
     ]
    },
    {
     "name": "stderr",
     "output_type": "stream",
     "text": [
      "\r",
      "Finding valid work IDs:  96%|█████████▌| 192/200 [37:28<01:59, 14.92s/ID, Latest ID: 121249241]"
     ]
    },
    {
     "name": "stderr",
     "output_type": "stream",
     "text": [
      "\r",
      "Finding valid work IDs:  96%|█████████▋| 193/200 [37:35<01:27, 12.55s/ID, Latest ID: 121249241]"
     ]
    },
    {
     "name": "stderr",
     "output_type": "stream",
     "text": [
      "\r",
      "Finding valid work IDs:  96%|█████████▋| 193/200 [37:35<01:27, 12.55s/ID, Latest ID: 121249242]"
     ]
    },
    {
     "name": "stderr",
     "output_type": "stream",
     "text": [
      "\r",
      "Finding valid work IDs:  97%|█████████▋| 194/200 [37:41<01:03, 10.62s/ID, Latest ID: 121249242]"
     ]
    },
    {
     "name": "stderr",
     "output_type": "stream",
     "text": [
      "\r",
      "Finding valid work IDs:  97%|█████████▋| 194/200 [37:41<01:03, 10.62s/ID, Latest ID: 121249243]"
     ]
    },
    {
     "name": "stderr",
     "output_type": "stream",
     "text": [
      "\r",
      "Finding valid work IDs:  98%|█████████▊| 195/200 [37:52<00:53, 10.73s/ID, Latest ID: 121249243]"
     ]
    },
    {
     "name": "stderr",
     "output_type": "stream",
     "text": [
      "\r",
      "Finding valid work IDs:  98%|█████████▊| 195/200 [37:52<00:53, 10.73s/ID, Latest ID: 121249244]"
     ]
    },
    {
     "name": "stderr",
     "output_type": "stream",
     "text": [
      "\r",
      "Finding valid work IDs:  98%|█████████▊| 196/200 [37:59<00:37,  9.40s/ID, Latest ID: 121249244]"
     ]
    },
    {
     "name": "stderr",
     "output_type": "stream",
     "text": [
      "\r",
      "Finding valid work IDs:  98%|█████████▊| 196/200 [37:59<00:37,  9.40s/ID, Latest ID: 121249245]"
     ]
    },
    {
     "name": "stderr",
     "output_type": "stream",
     "text": [
      "\r",
      "Finding valid work IDs:  98%|█████████▊| 197/200 [38:05<00:25,  8.47s/ID, Latest ID: 121249245]"
     ]
    },
    {
     "name": "stderr",
     "output_type": "stream",
     "text": [
      "\r",
      "Finding valid work IDs:  98%|█████████▊| 197/200 [38:05<00:25,  8.47s/ID, Latest ID: 121249246]"
     ]
    },
    {
     "name": "stderr",
     "output_type": "stream",
     "text": [
      "\r",
      "Finding valid work IDs:  99%|█████████▉| 198/200 [38:14<00:17,  8.71s/ID, Latest ID: 121249246]"
     ]
    },
    {
     "name": "stderr",
     "output_type": "stream",
     "text": [
      "\r",
      "Finding valid work IDs:  99%|█████████▉| 198/200 [38:14<00:17,  8.71s/ID, Latest ID: 121249247]"
     ]
    },
    {
     "name": "stderr",
     "output_type": "stream",
     "text": [
      "\r",
      "Finding valid work IDs: 100%|█████████▉| 199/200 [38:27<00:09,  9.83s/ID, Latest ID: 121249247]"
     ]
    },
    {
     "name": "stderr",
     "output_type": "stream",
     "text": [
      "\r",
      "Finding valid work IDs: 100%|█████████▉| 199/200 [38:27<00:09,  9.83s/ID, Latest ID: 121249248]"
     ]
    },
    {
     "name": "stderr",
     "output_type": "stream",
     "text": [
      "\r",
      "Finding valid work IDs: 100%|██████████| 200/200 [38:41<00:00, 11.07s/ID, Latest ID: 121249248]"
     ]
    },
    {
     "name": "stderr",
     "output_type": "stream",
     "text": [
      "\r",
      "Finding valid work IDs: 100%|██████████| 200/200 [38:41<00:00, 11.07s/ID, Latest ID: 121249249]"
     ]
    },
    {
     "name": "stderr",
     "output_type": "stream",
     "text": [
      "\r",
      "Finding valid work IDs: 100%|██████████| 200/200 [38:41<00:00, 11.61s/ID, Latest ID: 121249249]"
     ]
    },
    {
     "name": "stdout",
     "output_type": "stream",
     "text": [
      "\n",
      "Successfully found 50 valid work IDs.\n",
      "Valid work IDs: [121249016, 121249017, 121249019, 121249020, 121249023, 121249025, 121249027, 121249028, 121249029, 121249030, 121249031, 121249032, 121249033, 121249034, 121249035, 121249036, 121249037, 121249038, 121249039, 121249040, 121249041, 121249042, 121249044, 121249045, 121249046, 121249048, 121249049, 121249050, 121249052, 121249053, 121249054, 121249055, 121249056, 121249057, 121249058, 121249059, 121249060, 121249061, 121249063, 121249064, 121249065, 121249067, 121249068, 121249069, 121249070, 121249071, 121249072, 121249073, 121249074, 121249075, 121249076, 121249079, 121249080, 121249082, 121249083, 121249084, 121249085, 121249086, 121249087, 121249088, 121249089, 121249090, 121249091, 121249092, 121249093, 121249094, 121249095, 121249096, 121249098, 121249099, 121249100, 121249103, 121249104, 121249105, 121249106, 121249107, 121249108, 121249109, 121249110, 121249111, 121249112, 121249113, 121249114, 121249115, 121249116, 121249117, 121249118, 121249119, 121249120, 121249121, 121249122, 121249123, 121249124, 121249126, 121249127, 121249128, 121249129, 121249130, 121249131, 121249132, 121249133, 121249134, 121249135, 121249136, 121249140, 121249141, 121249142, 121249144, 121249145, 121249146, 121249147, 121249148, 121249149, 121249150, 121249151, 121249152, 121249153, 121249154, 121249155, 121249156, 121249157, 121249159, 121249160, 121249161, 121249162, 121249163, 121249164, 121249165, 121249166, 121249167, 121249168, 121249169, 121249170, 121249171, 121249172, 121249173, 121249174, 121249175, 121249178, 121249180, 121249181, 121249184, 121249185, 121249186, 121249188, 121249189, 121249190, 121249191, 121249192, 121249193, 121249194, 121249195, 121249196, 121249197, 121249198, 121249199, 121249200, 121249202, 121249203, 121249204, 121249205, 121249207, 121249208, 121249209, 121249211, 121249212, 121249213, 121249214, 121249215, 121249216, 121249217, 121249218, 121249219, 121249221, 121249222, 121249223, 121249224, 121249225, 121249226, 121249227, 121249228, 121249229, 121249230, 121249232, 121249233, 121249234, 121249235, 121249236, 121249237, 121249238, 121249239, 121249241, 121249242, 121249243, 121249244, 121249245, 121249246, 121249247, 121249248, 121249249]\n"
     ]
    },
    {
     "name": "stderr",
     "output_type": "stream",
     "text": [
      "\n"
     ]
    }
   ],
   "source": [
    "import requests\n",
    "import random\n",
    "import time\n",
    "from tqdm import tqdm\n",
    "\n",
    "def check_pixiv_work_ids(start_id, max_attempts=1000):\n",
    "    valid_ids = []\n",
    "    \n",
    "    # 創建tqdm進度條\n",
    "    with tqdm(total=200, desc=\"Finding valid work IDs\", unit=\"ID\") as pbar:\n",
    "        for attempt in range(max_attempts):\n",
    "            work_id = start_id + attempt\n",
    "            url = f\"https://www.pixiv.net/artworks/{work_id}\"\n",
    "            \n",
    "            try:\n",
    "                #proxy = get_random_proxy()\n",
    "                response = requests.head(url)\n",
    "                if response.status_code == 200:\n",
    "                    valid_ids.append(work_id)\n",
    "                    pbar.update(1)  # 更新進度條\n",
    "                    pbar.set_postfix_str(f\"Latest ID: {work_id}\")  # 顯示最新找到的ID\n",
    "                \n",
    "                if len(valid_ids) == 200:\n",
    "                    break\n",
    "                \n",
    "                # 添加延遲以避免過於頻繁的請求\n",
    "                delay = random.uniform(5, 15)  # 5到15秒的隨機延遲\n",
    "                time.sleep(delay)\n",
    "            \n",
    "            except requests.RequestException as e:\n",
    "                tqdm.write(f\"Error checking work ID {work_id}: {e}\")\n",
    "    \n",
    "    if len(valid_ids) == 200:\n",
    "        print(\"\\nSuccessfully found 50 valid work IDs.\")\n",
    "    else:\n",
    "        print(f\"\\nReached maximum attempts. Found {len(valid_ids)} valid work IDs.\")\n",
    "    \n",
    "    return valid_ids\n",
    "\n",
    "# 使用函數\n",
    "#start_id = 121188700  # 隨機選擇起始ID\n",
    "print(f\"Starting search from ID: {start_id}\")\n",
    "result = check_pixiv_work_ids(start_id)\n",
    "print(\"Valid work IDs:\", result)"
   ]
  },
  {
   "cell_type": "code",
   "execution_count": 3,
   "id": "93a673e5-8c78-46cf-878e-b0312b5eb234",
   "metadata": {
    "execution": {
     "iopub.execute_input": "2024-12-04T01:29:13.676173Z",
     "iopub.status.busy": "2024-12-04T01:29:13.675818Z",
     "iopub.status.idle": "2024-12-04T01:29:13.735226Z",
     "shell.execute_reply": "2024-12-04T01:29:13.734644Z"
    }
   },
   "outputs": [],
   "source": [
    "import requests\n",
    "from bs4 import BeautifulSoup\n",
    "import os\n",
    "\n",
    "def save_webpage_as_single_file(url, filename):\n",
    "    try:\n",
    "        # 发送 GET 请求获取网页内容\n",
    "        response = requests.get(url)\n",
    "        response.raise_for_status()  # 检查请求是否成功\n",
    "        #time.sleep(np.random.randint(3,7))\n",
    "\n",
    "        # 解析网页内容\n",
    "        soup = BeautifulSoup(response.text, 'html.parser')\n",
    "\n",
    "        # 获取网页的标题\n",
    "        title = soup.title.string if soup.title else 'webpage'\n",
    "        \n",
    "        # 创建 .mhtml 文件内容\n",
    "        mhtml_content = f\"<!DOCTYPE html>\\n<html>\\n<head>\\n<title>{title}</title>\\n</head>\\n<body>\\n\"\n",
    "        mhtml_content += str(soup)  # 添加网页内容\n",
    "        mhtml_content += \"\\n</body>\\n</html>\"\n",
    "\n",
    "        # 保存为 .mhtml 文件\n",
    "        with open(filename, 'w', encoding='utf-8') as file:\n",
    "            file.write(mhtml_content)\n",
    "\n",
    "        print(f\"网页内容已成功保存为 {filename}\")\n",
    "    except requests.exceptions.RequestException as e:\n",
    "        print(f\"请求失败: {e}\")\n",
    "        pass\n",
    "    except Exception as e:\n",
    "        print(f\"保存文件时出错: {e}\")\n",
    "\n",
    "# 输入 URL 和文件名\n",
    "\n",
    "\n"
   ]
  },
  {
   "cell_type": "code",
   "execution_count": 4,
   "id": "f0078b3f-3262-4e94-857f-53a9e79bac74",
   "metadata": {
    "execution": {
     "iopub.execute_input": "2024-12-04T01:29:13.737141Z",
     "iopub.status.busy": "2024-12-04T01:29:13.736804Z",
     "iopub.status.idle": "2024-12-04T01:29:13.743187Z",
     "shell.execute_reply": "2024-12-04T01:29:13.742698Z"
    }
   },
   "outputs": [],
   "source": [
    "import os\n",
    "import sqlite3\n",
    "import re\n",
    "\n",
    "# 提取信息的函数\n",
    "def extract_info_from_mhtml(mhtml_file,work_ID):\n",
    "    with open(mhtml_file, 'r', encoding='utf-8') as file:\n",
    "        content = file.read()\n",
    "    \n",
    "    # 使用 BeautifulSoup 解析 HTML 内容\n",
    "    soup = BeautifulSoup(content, 'html.parser')\n",
    "\n",
    "    # 提取 <title> 标签的内容\n",
    "    title = soup.title.string if soup.title else '无标题'\n",
    "    \n",
    "     # 使用正则表达式提取多个 \"tag\"\n",
    "    tag_pattern = re.findall(r'\"tag\"\\s*:\\s*\"([^\"]+)\"', content)\n",
    "    \n",
    "    # 使用正则表达式提取 \"likeCount\", \"bookmarkCount\", \"viewCount\"\n",
    "    like_count_pattern = re.search(r'\"likeCount\"\\s*:\\s*(\\d+)', content)\n",
    "    bookmark_count_pattern = re.search(r'\"bookmarkCount\"\\s*:\\s*(\\d+)', content)\n",
    "    view_count_pattern = re.search(r'\"viewCount\"\\s*:\\s*(\\d+)', content)\n",
    "    image_pattern = re.search(r'\"regular\"\\s*:\\s*\"([^\"]+)\"', content)\n",
    "\n",
    "    # 获取正则表达式的匹配结果\n",
    "    tags = tag_pattern if tag_pattern else ['无标签']\n",
    "    like_count = like_count_pattern.group(1) if like_count_pattern else '无点赞数'\n",
    "    bookmark_count = bookmark_count_pattern.group(1) if bookmark_count_pattern else '无收藏数'\n",
    "    view_count = view_count_pattern.group(1) if view_count_pattern else '无浏览数'\n",
    "    image_count = image_pattern.group(1) if image_pattern else '無影像連結'\n",
    "    return {\n",
    "        'work_ID': str(work_ID),\n",
    "        'title': title.split(' - ')[0],  # 清理标题内容\n",
    "        'tags': ', '.join(tags),  # 标签列表转为字符串\n",
    "        'like_count': like_count,\n",
    "        'bookmark_count': bookmark_count,\n",
    "        'view_count': view_count,\n",
    "        'image url': image_count\n",
    "        \n",
    "    }\n",
    "\n",
    "\n",
    "\n",
    "# 将数据追加到 SQLite 数据库的函数\n",
    "def append_to_sqlite(info, db_filename='web_info.db'):\n",
    "    # 连接 SQLite 数据库（如果文件不存在，会自动创建）\n",
    "    conn = sqlite3.connect(db_filename)\n",
    "    cursor = conn.cursor()\n",
    "\n",
    "    # 创建表格（如果不存在）\n",
    "    cursor.execute('''\n",
    "        CREATE TABLE IF NOT EXISTS web_info (\n",
    "            work_ID TEXT PRIMARY KEY,\n",
    "            title TEXT,\n",
    "            tags TEXT,\n",
    "            like_count INTEGER,\n",
    "            bookmark_count INTEGER,\n",
    "            view_count INTEGER,\n",
    "            image_url TEXT\n",
    "        )\n",
    "    ''')\n",
    "\n",
    "    # 插入数据，如果 work_ID 已存在则忽略插入\n",
    "    cursor.execute('''\n",
    "        INSERT OR REPLACE INTO web_info (work_ID, title, tags, like_count, bookmark_count, view_count, image_url)\n",
    "        VALUES (?, ?, ?, ?, ?, ?, ?)\n",
    "    ''', (\n",
    "        info['work_ID'],\n",
    "        info['title'],\n",
    "        info['tags'],\n",
    "        int(info['like_count']),\n",
    "        int(info['bookmark_count']),\n",
    "        int(info['view_count']),\n",
    "        info['image url']\n",
    "    ))\n",
    "\n",
    "    # 提交更改并关闭连接\n",
    "    conn.commit()\n",
    "    conn.close()\n",
    "\n",
    "\n",
    "\n"
   ]
  },
  {
   "cell_type": "code",
   "execution_count": 5,
   "id": "16847b22-1171-48b2-96de-df37fcdbced2",
   "metadata": {
    "execution": {
     "iopub.execute_input": "2024-12-04T01:29:13.744972Z",
     "iopub.status.busy": "2024-12-04T01:29:13.744622Z",
     "iopub.status.idle": "2024-12-04T03:55:52.011985Z",
     "shell.execute_reply": "2024-12-04T03:55:52.011354Z"
    }
   },
   "outputs": [
    {
     "name": "stdout",
     "output_type": "stream",
     "text": [
      "网页内容已成功保存为 121249016.mhtml\n",
      "新信息已成功追加到 web_info.db\n",
      "休息 44 秒鐘\n"
     ]
    },
    {
     "name": "stdout",
     "output_type": "stream",
     "text": [
      "网页内容已成功保存为 121249017.mhtml\n",
      "新信息已成功追加到 web_info.db\n",
      "休息 46 秒鐘\n"
     ]
    },
    {
     "name": "stdout",
     "output_type": "stream",
     "text": [
      "网页内容已成功保存为 121249019.mhtml\n",
      "新信息已成功追加到 web_info.db\n",
      "休息 38 秒鐘\n"
     ]
    },
    {
     "name": "stdout",
     "output_type": "stream",
     "text": [
      "网页内容已成功保存为 121249020.mhtml\n",
      "新信息已成功追加到 web_info.db\n",
      "休息 32 秒鐘\n"
     ]
    },
    {
     "name": "stdout",
     "output_type": "stream",
     "text": [
      "网页内容已成功保存为 121249023.mhtml\n",
      "新信息已成功追加到 web_info.db\n",
      "休息 55 秒鐘\n"
     ]
    },
    {
     "name": "stdout",
     "output_type": "stream",
     "text": [
      "网页内容已成功保存为 121249025.mhtml\n",
      "新信息已成功追加到 web_info.db\n",
      "休息 42 秒鐘\n"
     ]
    },
    {
     "name": "stdout",
     "output_type": "stream",
     "text": [
      "网页内容已成功保存为 121249027.mhtml\n",
      "新信息已成功追加到 web_info.db\n",
      "休息 45 秒鐘\n"
     ]
    },
    {
     "name": "stdout",
     "output_type": "stream",
     "text": [
      "网页内容已成功保存为 121249028.mhtml\n",
      "新信息已成功追加到 web_info.db\n",
      "休息 30 秒鐘\n"
     ]
    },
    {
     "name": "stdout",
     "output_type": "stream",
     "text": [
      "网页内容已成功保存为 121249029.mhtml\n",
      "新信息已成功追加到 web_info.db\n",
      "休息 40 秒鐘\n"
     ]
    },
    {
     "name": "stdout",
     "output_type": "stream",
     "text": [
      "网页内容已成功保存为 121249030.mhtml\n",
      "新信息已成功追加到 web_info.db\n",
      "休息 38 秒鐘\n"
     ]
    },
    {
     "name": "stdout",
     "output_type": "stream",
     "text": [
      "网页内容已成功保存为 121249031.mhtml\n",
      "新信息已成功追加到 web_info.db\n",
      "休息 52 秒鐘\n"
     ]
    },
    {
     "name": "stdout",
     "output_type": "stream",
     "text": [
      "网页内容已成功保存为 121249032.mhtml\n",
      "新信息已成功追加到 web_info.db\n",
      "休息 59 秒鐘\n"
     ]
    },
    {
     "name": "stdout",
     "output_type": "stream",
     "text": [
      "网页内容已成功保存为 121249033.mhtml\n",
      "新信息已成功追加到 web_info.db\n",
      "休息 55 秒鐘\n"
     ]
    },
    {
     "name": "stdout",
     "output_type": "stream",
     "text": [
      "网页内容已成功保存为 121249034.mhtml\n",
      "新信息已成功追加到 web_info.db\n",
      "休息 54 秒鐘\n"
     ]
    },
    {
     "name": "stdout",
     "output_type": "stream",
     "text": [
      "网页内容已成功保存为 121249035.mhtml\n",
      "新信息已成功追加到 web_info.db\n",
      "休息 43 秒鐘\n"
     ]
    },
    {
     "name": "stdout",
     "output_type": "stream",
     "text": [
      "网页内容已成功保存为 121249036.mhtml\n",
      "新信息已成功追加到 web_info.db\n",
      "休息 59 秒鐘\n"
     ]
    },
    {
     "name": "stdout",
     "output_type": "stream",
     "text": [
      "网页内容已成功保存为 121249037.mhtml\n",
      "新信息已成功追加到 web_info.db\n",
      "休息 43 秒鐘\n"
     ]
    },
    {
     "name": "stdout",
     "output_type": "stream",
     "text": [
      "网页内容已成功保存为 121249038.mhtml\n",
      "新信息已成功追加到 web_info.db\n",
      "休息 32 秒鐘\n"
     ]
    },
    {
     "name": "stdout",
     "output_type": "stream",
     "text": [
      "网页内容已成功保存为 121249039.mhtml\n",
      "新信息已成功追加到 web_info.db\n",
      "休息 57 秒鐘\n"
     ]
    },
    {
     "name": "stdout",
     "output_type": "stream",
     "text": [
      "网页内容已成功保存为 121249040.mhtml\n",
      "新信息已成功追加到 web_info.db\n",
      "休息 55 秒鐘\n"
     ]
    },
    {
     "name": "stdout",
     "output_type": "stream",
     "text": [
      "网页内容已成功保存为 121249041.mhtml\n",
      "新信息已成功追加到 web_info.db\n",
      "休息 52 秒鐘\n"
     ]
    },
    {
     "name": "stdout",
     "output_type": "stream",
     "text": [
      "网页内容已成功保存为 121249042.mhtml\n",
      "新信息已成功追加到 web_info.db\n",
      "休息 34 秒鐘\n"
     ]
    },
    {
     "name": "stdout",
     "output_type": "stream",
     "text": [
      "网页内容已成功保存为 121249044.mhtml\n",
      "新信息已成功追加到 web_info.db\n",
      "休息 58 秒鐘\n"
     ]
    },
    {
     "name": "stdout",
     "output_type": "stream",
     "text": [
      "网页内容已成功保存为 121249045.mhtml\n",
      "新信息已成功追加到 web_info.db\n",
      "休息 31 秒鐘\n"
     ]
    },
    {
     "name": "stdout",
     "output_type": "stream",
     "text": [
      "网页内容已成功保存为 121249046.mhtml\n",
      "新信息已成功追加到 web_info.db\n",
      "休息 37 秒鐘\n"
     ]
    },
    {
     "name": "stdout",
     "output_type": "stream",
     "text": [
      "网页内容已成功保存为 121249048.mhtml\n",
      "新信息已成功追加到 web_info.db\n",
      "休息 35 秒鐘\n"
     ]
    },
    {
     "name": "stdout",
     "output_type": "stream",
     "text": [
      "网页内容已成功保存为 121249049.mhtml\n",
      "新信息已成功追加到 web_info.db\n",
      "休息 59 秒鐘\n"
     ]
    },
    {
     "name": "stdout",
     "output_type": "stream",
     "text": [
      "网页内容已成功保存为 121249050.mhtml\n",
      "新信息已成功追加到 web_info.db\n",
      "休息 58 秒鐘\n"
     ]
    },
    {
     "name": "stdout",
     "output_type": "stream",
     "text": [
      "网页内容已成功保存为 121249052.mhtml\n",
      "新信息已成功追加到 web_info.db\n",
      "休息 35 秒鐘\n"
     ]
    },
    {
     "name": "stdout",
     "output_type": "stream",
     "text": [
      "网页内容已成功保存为 121249053.mhtml\n",
      "新信息已成功追加到 web_info.db\n",
      "休息 45 秒鐘\n"
     ]
    },
    {
     "name": "stdout",
     "output_type": "stream",
     "text": [
      "网页内容已成功保存为 121249054.mhtml\n",
      "新信息已成功追加到 web_info.db\n",
      "休息 39 秒鐘\n"
     ]
    },
    {
     "name": "stdout",
     "output_type": "stream",
     "text": [
      "网页内容已成功保存为 121249055.mhtml\n",
      "新信息已成功追加到 web_info.db\n",
      "休息 51 秒鐘\n"
     ]
    },
    {
     "name": "stdout",
     "output_type": "stream",
     "text": [
      "网页内容已成功保存为 121249056.mhtml\n",
      "新信息已成功追加到 web_info.db\n",
      "休息 56 秒鐘\n"
     ]
    },
    {
     "name": "stdout",
     "output_type": "stream",
     "text": [
      "网页内容已成功保存为 121249057.mhtml\n",
      "新信息已成功追加到 web_info.db\n",
      "休息 46 秒鐘\n"
     ]
    },
    {
     "name": "stdout",
     "output_type": "stream",
     "text": [
      "网页内容已成功保存为 121249058.mhtml\n",
      "新信息已成功追加到 web_info.db\n",
      "休息 55 秒鐘\n"
     ]
    },
    {
     "name": "stdout",
     "output_type": "stream",
     "text": [
      "网页内容已成功保存为 121249059.mhtml\n",
      "新信息已成功追加到 web_info.db\n",
      "休息 44 秒鐘\n"
     ]
    },
    {
     "name": "stdout",
     "output_type": "stream",
     "text": [
      "网页内容已成功保存为 121249060.mhtml\n",
      "新信息已成功追加到 web_info.db\n",
      "休息 30 秒鐘\n"
     ]
    },
    {
     "name": "stdout",
     "output_type": "stream",
     "text": [
      "网页内容已成功保存为 121249061.mhtml\n",
      "新信息已成功追加到 web_info.db\n",
      "休息 38 秒鐘\n"
     ]
    },
    {
     "name": "stdout",
     "output_type": "stream",
     "text": [
      "网页内容已成功保存为 121249063.mhtml\n",
      "新信息已成功追加到 web_info.db\n",
      "休息 40 秒鐘\n"
     ]
    },
    {
     "name": "stdout",
     "output_type": "stream",
     "text": [
      "网页内容已成功保存为 121249064.mhtml\n",
      "新信息已成功追加到 web_info.db\n",
      "休息 33 秒鐘\n"
     ]
    },
    {
     "name": "stdout",
     "output_type": "stream",
     "text": [
      "网页内容已成功保存为 121249065.mhtml\n",
      "新信息已成功追加到 web_info.db\n",
      "休息 47 秒鐘\n"
     ]
    },
    {
     "name": "stdout",
     "output_type": "stream",
     "text": [
      "网页内容已成功保存为 121249067.mhtml\n",
      "新信息已成功追加到 web_info.db\n",
      "休息 39 秒鐘\n"
     ]
    },
    {
     "name": "stdout",
     "output_type": "stream",
     "text": [
      "网页内容已成功保存为 121249068.mhtml\n",
      "新信息已成功追加到 web_info.db\n",
      "休息 39 秒鐘\n"
     ]
    },
    {
     "name": "stdout",
     "output_type": "stream",
     "text": [
      "网页内容已成功保存为 121249069.mhtml\n",
      "新信息已成功追加到 web_info.db\n",
      "休息 49 秒鐘\n"
     ]
    },
    {
     "name": "stdout",
     "output_type": "stream",
     "text": [
      "网页内容已成功保存为 121249070.mhtml\n",
      "新信息已成功追加到 web_info.db\n",
      "休息 56 秒鐘\n"
     ]
    },
    {
     "name": "stdout",
     "output_type": "stream",
     "text": [
      "网页内容已成功保存为 121249071.mhtml\n",
      "新信息已成功追加到 web_info.db\n",
      "休息 58 秒鐘\n"
     ]
    },
    {
     "name": "stdout",
     "output_type": "stream",
     "text": [
      "网页内容已成功保存为 121249072.mhtml\n",
      "新信息已成功追加到 web_info.db\n",
      "休息 50 秒鐘\n"
     ]
    },
    {
     "name": "stdout",
     "output_type": "stream",
     "text": [
      "网页内容已成功保存为 121249073.mhtml\n",
      "新信息已成功追加到 web_info.db\n",
      "休息 52 秒鐘\n"
     ]
    },
    {
     "name": "stdout",
     "output_type": "stream",
     "text": [
      "网页内容已成功保存为 121249074.mhtml\n",
      "新信息已成功追加到 web_info.db\n",
      "休息 54 秒鐘\n"
     ]
    },
    {
     "name": "stdout",
     "output_type": "stream",
     "text": [
      "网页内容已成功保存为 121249075.mhtml\n",
      "新信息已成功追加到 web_info.db\n",
      "休息 48 秒鐘\n"
     ]
    },
    {
     "name": "stdout",
     "output_type": "stream",
     "text": [
      "网页内容已成功保存为 121249076.mhtml\n",
      "新信息已成功追加到 web_info.db\n",
      "休息 52 秒鐘\n"
     ]
    },
    {
     "name": "stdout",
     "output_type": "stream",
     "text": [
      "网页内容已成功保存为 121249079.mhtml\n",
      "新信息已成功追加到 web_info.db\n",
      "休息 50 秒鐘\n"
     ]
    },
    {
     "name": "stdout",
     "output_type": "stream",
     "text": [
      "网页内容已成功保存为 121249080.mhtml\n",
      "新信息已成功追加到 web_info.db\n",
      "休息 48 秒鐘\n"
     ]
    },
    {
     "name": "stdout",
     "output_type": "stream",
     "text": [
      "网页内容已成功保存为 121249082.mhtml\n",
      "新信息已成功追加到 web_info.db\n",
      "休息 42 秒鐘\n"
     ]
    },
    {
     "name": "stdout",
     "output_type": "stream",
     "text": [
      "网页内容已成功保存为 121249083.mhtml\n",
      "新信息已成功追加到 web_info.db\n",
      "休息 30 秒鐘\n"
     ]
    },
    {
     "name": "stdout",
     "output_type": "stream",
     "text": [
      "网页内容已成功保存为 121249084.mhtml\n",
      "新信息已成功追加到 web_info.db\n",
      "休息 30 秒鐘\n"
     ]
    },
    {
     "name": "stdout",
     "output_type": "stream",
     "text": [
      "网页内容已成功保存为 121249085.mhtml\n",
      "新信息已成功追加到 web_info.db\n",
      "休息 42 秒鐘\n"
     ]
    },
    {
     "name": "stdout",
     "output_type": "stream",
     "text": [
      "网页内容已成功保存为 121249086.mhtml\n",
      "新信息已成功追加到 web_info.db\n",
      "休息 38 秒鐘\n"
     ]
    },
    {
     "name": "stdout",
     "output_type": "stream",
     "text": [
      "网页内容已成功保存为 121249087.mhtml\n",
      "新信息已成功追加到 web_info.db\n",
      "休息 33 秒鐘\n"
     ]
    },
    {
     "name": "stdout",
     "output_type": "stream",
     "text": [
      "网页内容已成功保存为 121249088.mhtml\n",
      "新信息已成功追加到 web_info.db\n",
      "休息 51 秒鐘\n"
     ]
    },
    {
     "name": "stdout",
     "output_type": "stream",
     "text": [
      "网页内容已成功保存为 121249089.mhtml\n",
      "新信息已成功追加到 web_info.db\n",
      "休息 57 秒鐘\n"
     ]
    },
    {
     "name": "stdout",
     "output_type": "stream",
     "text": [
      "网页内容已成功保存为 121249090.mhtml\n",
      "新信息已成功追加到 web_info.db\n",
      "休息 50 秒鐘\n"
     ]
    },
    {
     "name": "stdout",
     "output_type": "stream",
     "text": [
      "网页内容已成功保存为 121249091.mhtml\n",
      "新信息已成功追加到 web_info.db\n",
      "休息 48 秒鐘\n"
     ]
    },
    {
     "name": "stdout",
     "output_type": "stream",
     "text": [
      "网页内容已成功保存为 121249092.mhtml\n",
      "新信息已成功追加到 web_info.db\n",
      "休息 30 秒鐘\n"
     ]
    },
    {
     "name": "stdout",
     "output_type": "stream",
     "text": [
      "网页内容已成功保存为 121249093.mhtml\n",
      "新信息已成功追加到 web_info.db\n",
      "休息 44 秒鐘\n"
     ]
    },
    {
     "name": "stdout",
     "output_type": "stream",
     "text": [
      "网页内容已成功保存为 121249094.mhtml\n",
      "新信息已成功追加到 web_info.db\n",
      "休息 56 秒鐘\n"
     ]
    },
    {
     "name": "stdout",
     "output_type": "stream",
     "text": [
      "网页内容已成功保存为 121249095.mhtml\n",
      "新信息已成功追加到 web_info.db\n",
      "休息 46 秒鐘\n"
     ]
    },
    {
     "name": "stdout",
     "output_type": "stream",
     "text": [
      "网页内容已成功保存为 121249096.mhtml\n",
      "新信息已成功追加到 web_info.db\n",
      "休息 34 秒鐘\n"
     ]
    },
    {
     "name": "stdout",
     "output_type": "stream",
     "text": [
      "网页内容已成功保存为 121249098.mhtml\n",
      "新信息已成功追加到 web_info.db\n",
      "休息 35 秒鐘\n"
     ]
    },
    {
     "name": "stdout",
     "output_type": "stream",
     "text": [
      "网页内容已成功保存为 121249099.mhtml\n",
      "新信息已成功追加到 web_info.db\n",
      "休息 42 秒鐘\n"
     ]
    },
    {
     "name": "stdout",
     "output_type": "stream",
     "text": [
      "网页内容已成功保存为 121249100.mhtml\n",
      "新信息已成功追加到 web_info.db\n",
      "休息 38 秒鐘\n"
     ]
    },
    {
     "name": "stdout",
     "output_type": "stream",
     "text": [
      "网页内容已成功保存为 121249103.mhtml\n",
      "新信息已成功追加到 web_info.db\n",
      "休息 41 秒鐘\n"
     ]
    },
    {
     "name": "stdout",
     "output_type": "stream",
     "text": [
      "网页内容已成功保存为 121249104.mhtml\n",
      "新信息已成功追加到 web_info.db\n",
      "休息 35 秒鐘\n"
     ]
    },
    {
     "name": "stdout",
     "output_type": "stream",
     "text": [
      "网页内容已成功保存为 121249105.mhtml\n",
      "新信息已成功追加到 web_info.db\n",
      "休息 40 秒鐘\n"
     ]
    },
    {
     "name": "stdout",
     "output_type": "stream",
     "text": [
      "网页内容已成功保存为 121249106.mhtml\n",
      "新信息已成功追加到 web_info.db\n",
      "休息 30 秒鐘\n"
     ]
    },
    {
     "name": "stdout",
     "output_type": "stream",
     "text": [
      "网页内容已成功保存为 121249107.mhtml\n",
      "新信息已成功追加到 web_info.db\n",
      "休息 57 秒鐘\n"
     ]
    },
    {
     "name": "stdout",
     "output_type": "stream",
     "text": [
      "网页内容已成功保存为 121249108.mhtml\n",
      "新信息已成功追加到 web_info.db\n",
      "休息 50 秒鐘\n"
     ]
    },
    {
     "name": "stdout",
     "output_type": "stream",
     "text": [
      "网页内容已成功保存为 121249109.mhtml\n",
      "新信息已成功追加到 web_info.db\n",
      "休息 44 秒鐘\n"
     ]
    },
    {
     "name": "stdout",
     "output_type": "stream",
     "text": [
      "网页内容已成功保存为 121249110.mhtml\n",
      "新信息已成功追加到 web_info.db\n",
      "休息 42 秒鐘\n"
     ]
    },
    {
     "name": "stdout",
     "output_type": "stream",
     "text": [
      "网页内容已成功保存为 121249111.mhtml\n",
      "新信息已成功追加到 web_info.db\n",
      "休息 42 秒鐘\n"
     ]
    },
    {
     "name": "stdout",
     "output_type": "stream",
     "text": [
      "网页内容已成功保存为 121249112.mhtml\n",
      "新信息已成功追加到 web_info.db\n",
      "休息 38 秒鐘\n"
     ]
    },
    {
     "name": "stdout",
     "output_type": "stream",
     "text": [
      "网页内容已成功保存为 121249113.mhtml\n",
      "新信息已成功追加到 web_info.db\n",
      "休息 59 秒鐘\n"
     ]
    },
    {
     "name": "stdout",
     "output_type": "stream",
     "text": [
      "网页内容已成功保存为 121249114.mhtml\n",
      "新信息已成功追加到 web_info.db\n",
      "休息 30 秒鐘\n"
     ]
    },
    {
     "name": "stdout",
     "output_type": "stream",
     "text": [
      "网页内容已成功保存为 121249115.mhtml\n",
      "新信息已成功追加到 web_info.db\n",
      "休息 49 秒鐘\n"
     ]
    },
    {
     "name": "stdout",
     "output_type": "stream",
     "text": [
      "网页内容已成功保存为 121249116.mhtml\n",
      "新信息已成功追加到 web_info.db\n",
      "休息 52 秒鐘\n"
     ]
    },
    {
     "name": "stdout",
     "output_type": "stream",
     "text": [
      "网页内容已成功保存为 121249117.mhtml\n",
      "新信息已成功追加到 web_info.db\n",
      "休息 33 秒鐘\n"
     ]
    },
    {
     "name": "stdout",
     "output_type": "stream",
     "text": [
      "网页内容已成功保存为 121249118.mhtml\n",
      "新信息已成功追加到 web_info.db\n",
      "休息 58 秒鐘\n"
     ]
    },
    {
     "name": "stdout",
     "output_type": "stream",
     "text": [
      "网页内容已成功保存为 121249119.mhtml\n",
      "新信息已成功追加到 web_info.db\n",
      "休息 49 秒鐘\n"
     ]
    },
    {
     "name": "stdout",
     "output_type": "stream",
     "text": [
      "网页内容已成功保存为 121249120.mhtml\n",
      "新信息已成功追加到 web_info.db\n",
      "休息 40 秒鐘\n"
     ]
    },
    {
     "name": "stdout",
     "output_type": "stream",
     "text": [
      "网页内容已成功保存为 121249121.mhtml\n",
      "新信息已成功追加到 web_info.db\n",
      "休息 58 秒鐘\n"
     ]
    },
    {
     "name": "stdout",
     "output_type": "stream",
     "text": [
      "网页内容已成功保存为 121249122.mhtml\n",
      "新信息已成功追加到 web_info.db\n",
      "休息 32 秒鐘\n"
     ]
    },
    {
     "name": "stdout",
     "output_type": "stream",
     "text": [
      "网页内容已成功保存为 121249123.mhtml\n",
      "新信息已成功追加到 web_info.db\n",
      "休息 47 秒鐘\n"
     ]
    },
    {
     "name": "stdout",
     "output_type": "stream",
     "text": [
      "网页内容已成功保存为 121249124.mhtml\n",
      "新信息已成功追加到 web_info.db\n",
      "休息 35 秒鐘\n"
     ]
    },
    {
     "name": "stdout",
     "output_type": "stream",
     "text": [
      "网页内容已成功保存为 121249126.mhtml\n",
      "新信息已成功追加到 web_info.db\n",
      "休息 48 秒鐘\n"
     ]
    },
    {
     "name": "stdout",
     "output_type": "stream",
     "text": [
      "网页内容已成功保存为 121249127.mhtml\n",
      "新信息已成功追加到 web_info.db\n",
      "休息 51 秒鐘\n"
     ]
    },
    {
     "name": "stdout",
     "output_type": "stream",
     "text": [
      "网页内容已成功保存为 121249128.mhtml\n",
      "新信息已成功追加到 web_info.db\n",
      "休息 35 秒鐘\n"
     ]
    },
    {
     "name": "stdout",
     "output_type": "stream",
     "text": [
      "网页内容已成功保存为 121249129.mhtml\n",
      "新信息已成功追加到 web_info.db\n",
      "休息 34 秒鐘\n"
     ]
    },
    {
     "name": "stdout",
     "output_type": "stream",
     "text": [
      "网页内容已成功保存为 121249130.mhtml\n",
      "新信息已成功追加到 web_info.db\n",
      "休息 40 秒鐘\n"
     ]
    },
    {
     "name": "stdout",
     "output_type": "stream",
     "text": [
      "网页内容已成功保存为 121249131.mhtml\n",
      "新信息已成功追加到 web_info.db\n",
      "休息 52 秒鐘\n"
     ]
    },
    {
     "name": "stdout",
     "output_type": "stream",
     "text": [
      "网页内容已成功保存为 121249132.mhtml\n",
      "新信息已成功追加到 web_info.db\n",
      "休息 53 秒鐘\n"
     ]
    },
    {
     "name": "stdout",
     "output_type": "stream",
     "text": [
      "网页内容已成功保存为 121249133.mhtml\n",
      "新信息已成功追加到 web_info.db\n",
      "休息 47 秒鐘\n"
     ]
    },
    {
     "name": "stdout",
     "output_type": "stream",
     "text": [
      "网页内容已成功保存为 121249134.mhtml\n",
      "新信息已成功追加到 web_info.db\n",
      "休息 35 秒鐘\n"
     ]
    },
    {
     "name": "stdout",
     "output_type": "stream",
     "text": [
      "网页内容已成功保存为 121249135.mhtml\n",
      "新信息已成功追加到 web_info.db\n",
      "休息 54 秒鐘\n"
     ]
    },
    {
     "name": "stdout",
     "output_type": "stream",
     "text": [
      "网页内容已成功保存为 121249136.mhtml\n",
      "新信息已成功追加到 web_info.db\n",
      "休息 48 秒鐘\n"
     ]
    },
    {
     "name": "stdout",
     "output_type": "stream",
     "text": [
      "网页内容已成功保存为 121249140.mhtml\n",
      "新信息已成功追加到 web_info.db\n",
      "休息 53 秒鐘\n"
     ]
    },
    {
     "name": "stdout",
     "output_type": "stream",
     "text": [
      "网页内容已成功保存为 121249141.mhtml\n",
      "新信息已成功追加到 web_info.db\n",
      "休息 35 秒鐘\n"
     ]
    },
    {
     "name": "stdout",
     "output_type": "stream",
     "text": [
      "网页内容已成功保存为 121249142.mhtml\n",
      "新信息已成功追加到 web_info.db\n",
      "休息 38 秒鐘\n"
     ]
    },
    {
     "name": "stdout",
     "output_type": "stream",
     "text": [
      "网页内容已成功保存为 121249144.mhtml\n",
      "新信息已成功追加到 web_info.db\n",
      "休息 57 秒鐘\n"
     ]
    },
    {
     "name": "stdout",
     "output_type": "stream",
     "text": [
      "网页内容已成功保存为 121249145.mhtml\n",
      "新信息已成功追加到 web_info.db\n",
      "休息 30 秒鐘\n"
     ]
    },
    {
     "name": "stdout",
     "output_type": "stream",
     "text": [
      "网页内容已成功保存为 121249146.mhtml\n",
      "新信息已成功追加到 web_info.db\n",
      "休息 38 秒鐘\n"
     ]
    },
    {
     "name": "stdout",
     "output_type": "stream",
     "text": [
      "网页内容已成功保存为 121249147.mhtml\n",
      "新信息已成功追加到 web_info.db\n",
      "休息 55 秒鐘\n"
     ]
    },
    {
     "name": "stdout",
     "output_type": "stream",
     "text": [
      "网页内容已成功保存为 121249148.mhtml\n",
      "新信息已成功追加到 web_info.db\n",
      "休息 40 秒鐘\n"
     ]
    },
    {
     "name": "stdout",
     "output_type": "stream",
     "text": [
      "网页内容已成功保存为 121249149.mhtml\n",
      "新信息已成功追加到 web_info.db\n",
      "休息 47 秒鐘\n"
     ]
    },
    {
     "name": "stdout",
     "output_type": "stream",
     "text": [
      "网页内容已成功保存为 121249150.mhtml\n",
      "新信息已成功追加到 web_info.db\n",
      "休息 37 秒鐘\n"
     ]
    },
    {
     "name": "stdout",
     "output_type": "stream",
     "text": [
      "网页内容已成功保存为 121249151.mhtml\n",
      "新信息已成功追加到 web_info.db\n",
      "休息 41 秒鐘\n"
     ]
    },
    {
     "name": "stdout",
     "output_type": "stream",
     "text": [
      "网页内容已成功保存为 121249152.mhtml\n",
      "新信息已成功追加到 web_info.db\n",
      "休息 54 秒鐘\n"
     ]
    },
    {
     "name": "stdout",
     "output_type": "stream",
     "text": [
      "网页内容已成功保存为 121249153.mhtml\n",
      "新信息已成功追加到 web_info.db\n",
      "休息 37 秒鐘\n"
     ]
    },
    {
     "name": "stdout",
     "output_type": "stream",
     "text": [
      "网页内容已成功保存为 121249154.mhtml\n",
      "新信息已成功追加到 web_info.db\n",
      "休息 32 秒鐘\n"
     ]
    },
    {
     "name": "stdout",
     "output_type": "stream",
     "text": [
      "网页内容已成功保存为 121249155.mhtml\n",
      "新信息已成功追加到 web_info.db\n",
      "休息 44 秒鐘\n"
     ]
    },
    {
     "name": "stdout",
     "output_type": "stream",
     "text": [
      "网页内容已成功保存为 121249156.mhtml\n",
      "新信息已成功追加到 web_info.db\n",
      "休息 53 秒鐘\n"
     ]
    },
    {
     "name": "stdout",
     "output_type": "stream",
     "text": [
      "网页内容已成功保存为 121249157.mhtml\n",
      "新信息已成功追加到 web_info.db\n",
      "休息 39 秒鐘\n"
     ]
    },
    {
     "name": "stdout",
     "output_type": "stream",
     "text": [
      "网页内容已成功保存为 121249159.mhtml\n",
      "新信息已成功追加到 web_info.db\n",
      "休息 30 秒鐘\n"
     ]
    },
    {
     "name": "stdout",
     "output_type": "stream",
     "text": [
      "网页内容已成功保存为 121249160.mhtml\n",
      "新信息已成功追加到 web_info.db\n",
      "休息 31 秒鐘\n"
     ]
    },
    {
     "name": "stdout",
     "output_type": "stream",
     "text": [
      "网页内容已成功保存为 121249161.mhtml\n",
      "新信息已成功追加到 web_info.db\n",
      "休息 47 秒鐘\n"
     ]
    },
    {
     "name": "stdout",
     "output_type": "stream",
     "text": [
      "网页内容已成功保存为 121249162.mhtml\n",
      "新信息已成功追加到 web_info.db\n",
      "休息 31 秒鐘\n"
     ]
    },
    {
     "name": "stdout",
     "output_type": "stream",
     "text": [
      "网页内容已成功保存为 121249163.mhtml\n",
      "新信息已成功追加到 web_info.db\n",
      "休息 54 秒鐘\n"
     ]
    },
    {
     "name": "stdout",
     "output_type": "stream",
     "text": [
      "网页内容已成功保存为 121249164.mhtml\n",
      "新信息已成功追加到 web_info.db\n",
      "休息 43 秒鐘\n"
     ]
    },
    {
     "name": "stdout",
     "output_type": "stream",
     "text": [
      "网页内容已成功保存为 121249165.mhtml\n",
      "新信息已成功追加到 web_info.db\n",
      "休息 30 秒鐘\n"
     ]
    },
    {
     "name": "stdout",
     "output_type": "stream",
     "text": [
      "网页内容已成功保存为 121249166.mhtml\n",
      "新信息已成功追加到 web_info.db\n",
      "休息 30 秒鐘\n"
     ]
    },
    {
     "name": "stdout",
     "output_type": "stream",
     "text": [
      "网页内容已成功保存为 121249167.mhtml\n",
      "新信息已成功追加到 web_info.db\n",
      "休息 46 秒鐘\n"
     ]
    },
    {
     "name": "stdout",
     "output_type": "stream",
     "text": [
      "网页内容已成功保存为 121249168.mhtml\n",
      "新信息已成功追加到 web_info.db\n",
      "休息 57 秒鐘\n"
     ]
    },
    {
     "name": "stdout",
     "output_type": "stream",
     "text": [
      "网页内容已成功保存为 121249169.mhtml\n",
      "新信息已成功追加到 web_info.db\n",
      "休息 31 秒鐘\n"
     ]
    },
    {
     "name": "stdout",
     "output_type": "stream",
     "text": [
      "网页内容已成功保存为 121249170.mhtml\n",
      "新信息已成功追加到 web_info.db\n",
      "休息 49 秒鐘\n"
     ]
    },
    {
     "name": "stdout",
     "output_type": "stream",
     "text": [
      "网页内容已成功保存为 121249171.mhtml\n",
      "新信息已成功追加到 web_info.db\n",
      "休息 53 秒鐘\n"
     ]
    },
    {
     "name": "stdout",
     "output_type": "stream",
     "text": [
      "网页内容已成功保存为 121249172.mhtml\n",
      "新信息已成功追加到 web_info.db\n",
      "休息 50 秒鐘\n"
     ]
    },
    {
     "name": "stdout",
     "output_type": "stream",
     "text": [
      "网页内容已成功保存为 121249173.mhtml\n",
      "新信息已成功追加到 web_info.db\n",
      "休息 36 秒鐘\n"
     ]
    },
    {
     "name": "stdout",
     "output_type": "stream",
     "text": [
      "网页内容已成功保存为 121249174.mhtml\n",
      "新信息已成功追加到 web_info.db\n",
      "休息 37 秒鐘\n"
     ]
    },
    {
     "name": "stdout",
     "output_type": "stream",
     "text": [
      "网页内容已成功保存为 121249175.mhtml\n",
      "新信息已成功追加到 web_info.db\n",
      "休息 34 秒鐘\n"
     ]
    },
    {
     "name": "stdout",
     "output_type": "stream",
     "text": [
      "网页内容已成功保存为 121249178.mhtml\n",
      "新信息已成功追加到 web_info.db\n",
      "休息 52 秒鐘\n"
     ]
    },
    {
     "name": "stdout",
     "output_type": "stream",
     "text": [
      "网页内容已成功保存为 121249180.mhtml\n",
      "新信息已成功追加到 web_info.db\n",
      "休息 55 秒鐘\n"
     ]
    },
    {
     "name": "stdout",
     "output_type": "stream",
     "text": [
      "网页内容已成功保存为 121249181.mhtml\n",
      "新信息已成功追加到 web_info.db\n",
      "休息 33 秒鐘\n"
     ]
    },
    {
     "name": "stdout",
     "output_type": "stream",
     "text": [
      "网页内容已成功保存为 121249184.mhtml\n",
      "新信息已成功追加到 web_info.db\n",
      "休息 50 秒鐘\n"
     ]
    },
    {
     "name": "stdout",
     "output_type": "stream",
     "text": [
      "网页内容已成功保存为 121249185.mhtml\n",
      "新信息已成功追加到 web_info.db\n",
      "休息 47 秒鐘\n"
     ]
    },
    {
     "name": "stdout",
     "output_type": "stream",
     "text": [
      "网页内容已成功保存为 121249186.mhtml\n",
      "新信息已成功追加到 web_info.db\n",
      "休息 49 秒鐘\n"
     ]
    },
    {
     "name": "stdout",
     "output_type": "stream",
     "text": [
      "网页内容已成功保存为 121249188.mhtml\n",
      "新信息已成功追加到 web_info.db\n",
      "休息 46 秒鐘\n"
     ]
    },
    {
     "name": "stdout",
     "output_type": "stream",
     "text": [
      "网页内容已成功保存为 121249189.mhtml\n",
      "新信息已成功追加到 web_info.db\n",
      "休息 59 秒鐘\n"
     ]
    },
    {
     "name": "stdout",
     "output_type": "stream",
     "text": [
      "网页内容已成功保存为 121249190.mhtml\n",
      "新信息已成功追加到 web_info.db\n",
      "休息 30 秒鐘\n"
     ]
    },
    {
     "name": "stdout",
     "output_type": "stream",
     "text": [
      "网页内容已成功保存为 121249191.mhtml\n",
      "新信息已成功追加到 web_info.db\n",
      "休息 52 秒鐘\n"
     ]
    },
    {
     "name": "stdout",
     "output_type": "stream",
     "text": [
      "网页内容已成功保存为 121249192.mhtml\n",
      "新信息已成功追加到 web_info.db\n",
      "休息 58 秒鐘\n"
     ]
    },
    {
     "name": "stdout",
     "output_type": "stream",
     "text": [
      "网页内容已成功保存为 121249193.mhtml\n",
      "新信息已成功追加到 web_info.db\n",
      "休息 35 秒鐘\n"
     ]
    },
    {
     "name": "stdout",
     "output_type": "stream",
     "text": [
      "网页内容已成功保存为 121249194.mhtml\n",
      "新信息已成功追加到 web_info.db\n",
      "休息 40 秒鐘\n"
     ]
    },
    {
     "name": "stdout",
     "output_type": "stream",
     "text": [
      "网页内容已成功保存为 121249195.mhtml\n",
      "新信息已成功追加到 web_info.db\n",
      "休息 40 秒鐘\n"
     ]
    },
    {
     "name": "stdout",
     "output_type": "stream",
     "text": [
      "网页内容已成功保存为 121249196.mhtml\n",
      "新信息已成功追加到 web_info.db\n",
      "休息 52 秒鐘\n"
     ]
    },
    {
     "name": "stdout",
     "output_type": "stream",
     "text": [
      "网页内容已成功保存为 121249197.mhtml\n",
      "新信息已成功追加到 web_info.db\n",
      "休息 54 秒鐘\n"
     ]
    },
    {
     "name": "stdout",
     "output_type": "stream",
     "text": [
      "网页内容已成功保存为 121249198.mhtml\n",
      "新信息已成功追加到 web_info.db\n",
      "休息 50 秒鐘\n"
     ]
    },
    {
     "name": "stdout",
     "output_type": "stream",
     "text": [
      "网页内容已成功保存为 121249199.mhtml\n",
      "新信息已成功追加到 web_info.db\n",
      "休息 31 秒鐘\n"
     ]
    },
    {
     "name": "stdout",
     "output_type": "stream",
     "text": [
      "网页内容已成功保存为 121249200.mhtml\n",
      "新信息已成功追加到 web_info.db\n",
      "休息 52 秒鐘\n"
     ]
    },
    {
     "name": "stdout",
     "output_type": "stream",
     "text": [
      "网页内容已成功保存为 121249202.mhtml\n",
      "新信息已成功追加到 web_info.db\n",
      "休息 47 秒鐘\n"
     ]
    },
    {
     "name": "stdout",
     "output_type": "stream",
     "text": [
      "网页内容已成功保存为 121249203.mhtml\n",
      "新信息已成功追加到 web_info.db\n",
      "休息 54 秒鐘\n"
     ]
    },
    {
     "name": "stdout",
     "output_type": "stream",
     "text": [
      "网页内容已成功保存为 121249204.mhtml\n",
      "新信息已成功追加到 web_info.db\n",
      "休息 35 秒鐘\n"
     ]
    },
    {
     "name": "stdout",
     "output_type": "stream",
     "text": [
      "网页内容已成功保存为 121249205.mhtml\n",
      "新信息已成功追加到 web_info.db\n",
      "休息 57 秒鐘\n"
     ]
    },
    {
     "name": "stdout",
     "output_type": "stream",
     "text": [
      "网页内容已成功保存为 121249207.mhtml\n",
      "新信息已成功追加到 web_info.db\n",
      "休息 43 秒鐘\n"
     ]
    },
    {
     "name": "stdout",
     "output_type": "stream",
     "text": [
      "网页内容已成功保存为 121249208.mhtml\n",
      "新信息已成功追加到 web_info.db\n",
      "休息 33 秒鐘\n"
     ]
    },
    {
     "name": "stdout",
     "output_type": "stream",
     "text": [
      "网页内容已成功保存为 121249209.mhtml\n",
      "新信息已成功追加到 web_info.db\n",
      "休息 38 秒鐘\n"
     ]
    },
    {
     "name": "stdout",
     "output_type": "stream",
     "text": [
      "网页内容已成功保存为 121249211.mhtml\n",
      "新信息已成功追加到 web_info.db\n",
      "休息 42 秒鐘\n"
     ]
    },
    {
     "name": "stdout",
     "output_type": "stream",
     "text": [
      "网页内容已成功保存为 121249212.mhtml\n",
      "新信息已成功追加到 web_info.db\n",
      "休息 40 秒鐘\n"
     ]
    },
    {
     "name": "stdout",
     "output_type": "stream",
     "text": [
      "网页内容已成功保存为 121249213.mhtml\n",
      "新信息已成功追加到 web_info.db\n",
      "休息 40 秒鐘\n"
     ]
    },
    {
     "name": "stdout",
     "output_type": "stream",
     "text": [
      "网页内容已成功保存为 121249214.mhtml\n",
      "新信息已成功追加到 web_info.db\n",
      "休息 45 秒鐘\n"
     ]
    },
    {
     "name": "stdout",
     "output_type": "stream",
     "text": [
      "网页内容已成功保存为 121249215.mhtml\n",
      "新信息已成功追加到 web_info.db\n",
      "休息 48 秒鐘\n"
     ]
    },
    {
     "name": "stdout",
     "output_type": "stream",
     "text": [
      "网页内容已成功保存为 121249216.mhtml\n",
      "新信息已成功追加到 web_info.db\n",
      "休息 56 秒鐘\n"
     ]
    },
    {
     "name": "stdout",
     "output_type": "stream",
     "text": [
      "网页内容已成功保存为 121249217.mhtml\n",
      "新信息已成功追加到 web_info.db\n",
      "休息 49 秒鐘\n"
     ]
    },
    {
     "name": "stdout",
     "output_type": "stream",
     "text": [
      "网页内容已成功保存为 121249218.mhtml\n",
      "新信息已成功追加到 web_info.db\n",
      "休息 32 秒鐘\n"
     ]
    },
    {
     "name": "stdout",
     "output_type": "stream",
     "text": [
      "网页内容已成功保存为 121249219.mhtml\n",
      "新信息已成功追加到 web_info.db\n",
      "休息 41 秒鐘\n"
     ]
    },
    {
     "name": "stdout",
     "output_type": "stream",
     "text": [
      "网页内容已成功保存为 121249221.mhtml\n",
      "新信息已成功追加到 web_info.db\n",
      "休息 46 秒鐘\n"
     ]
    },
    {
     "name": "stdout",
     "output_type": "stream",
     "text": [
      "网页内容已成功保存为 121249222.mhtml\n",
      "新信息已成功追加到 web_info.db\n",
      "休息 35 秒鐘\n"
     ]
    },
    {
     "name": "stdout",
     "output_type": "stream",
     "text": [
      "网页内容已成功保存为 121249223.mhtml\n",
      "新信息已成功追加到 web_info.db\n",
      "休息 48 秒鐘\n"
     ]
    },
    {
     "name": "stdout",
     "output_type": "stream",
     "text": [
      "网页内容已成功保存为 121249224.mhtml\n",
      "新信息已成功追加到 web_info.db\n",
      "休息 38 秒鐘\n"
     ]
    },
    {
     "name": "stdout",
     "output_type": "stream",
     "text": [
      "网页内容已成功保存为 121249225.mhtml\n",
      "新信息已成功追加到 web_info.db\n",
      "休息 41 秒鐘\n"
     ]
    },
    {
     "name": "stdout",
     "output_type": "stream",
     "text": [
      "网页内容已成功保存为 121249226.mhtml\n",
      "新信息已成功追加到 web_info.db\n",
      "休息 39 秒鐘\n"
     ]
    },
    {
     "name": "stdout",
     "output_type": "stream",
     "text": [
      "网页内容已成功保存为 121249227.mhtml\n",
      "新信息已成功追加到 web_info.db\n",
      "休息 48 秒鐘\n"
     ]
    },
    {
     "name": "stdout",
     "output_type": "stream",
     "text": [
      "网页内容已成功保存为 121249228.mhtml\n",
      "新信息已成功追加到 web_info.db\n",
      "休息 30 秒鐘\n"
     ]
    },
    {
     "name": "stdout",
     "output_type": "stream",
     "text": [
      "网页内容已成功保存为 121249229.mhtml\n",
      "新信息已成功追加到 web_info.db\n",
      "休息 31 秒鐘\n"
     ]
    },
    {
     "name": "stdout",
     "output_type": "stream",
     "text": [
      "网页内容已成功保存为 121249230.mhtml\n",
      "新信息已成功追加到 web_info.db\n",
      "休息 52 秒鐘\n"
     ]
    },
    {
     "name": "stdout",
     "output_type": "stream",
     "text": [
      "网页内容已成功保存为 121249232.mhtml\n",
      "新信息已成功追加到 web_info.db\n",
      "休息 30 秒鐘\n"
     ]
    },
    {
     "name": "stdout",
     "output_type": "stream",
     "text": [
      "网页内容已成功保存为 121249233.mhtml\n",
      "新信息已成功追加到 web_info.db\n",
      "休息 53 秒鐘\n"
     ]
    },
    {
     "name": "stdout",
     "output_type": "stream",
     "text": [
      "网页内容已成功保存为 121249234.mhtml\n",
      "新信息已成功追加到 web_info.db\n",
      "休息 44 秒鐘\n"
     ]
    },
    {
     "name": "stdout",
     "output_type": "stream",
     "text": [
      "网页内容已成功保存为 121249235.mhtml\n",
      "新信息已成功追加到 web_info.db\n",
      "休息 48 秒鐘\n"
     ]
    },
    {
     "name": "stdout",
     "output_type": "stream",
     "text": [
      "网页内容已成功保存为 121249236.mhtml\n",
      "新信息已成功追加到 web_info.db\n",
      "休息 43 秒鐘\n"
     ]
    },
    {
     "name": "stdout",
     "output_type": "stream",
     "text": [
      "网页内容已成功保存为 121249237.mhtml\n",
      "新信息已成功追加到 web_info.db\n",
      "休息 42 秒鐘\n"
     ]
    },
    {
     "name": "stdout",
     "output_type": "stream",
     "text": [
      "网页内容已成功保存为 121249238.mhtml\n",
      "新信息已成功追加到 web_info.db\n",
      "休息 40 秒鐘\n"
     ]
    },
    {
     "name": "stdout",
     "output_type": "stream",
     "text": [
      "网页内容已成功保存为 121249239.mhtml\n",
      "新信息已成功追加到 web_info.db\n",
      "休息 30 秒鐘\n"
     ]
    },
    {
     "name": "stdout",
     "output_type": "stream",
     "text": [
      "网页内容已成功保存为 121249241.mhtml\n",
      "新信息已成功追加到 web_info.db\n",
      "休息 37 秒鐘\n"
     ]
    },
    {
     "name": "stdout",
     "output_type": "stream",
     "text": [
      "网页内容已成功保存为 121249242.mhtml\n",
      "新信息已成功追加到 web_info.db\n",
      "休息 35 秒鐘\n"
     ]
    },
    {
     "name": "stdout",
     "output_type": "stream",
     "text": [
      "网页内容已成功保存为 121249243.mhtml\n",
      "新信息已成功追加到 web_info.db\n",
      "休息 50 秒鐘\n"
     ]
    },
    {
     "name": "stdout",
     "output_type": "stream",
     "text": [
      "网页内容已成功保存为 121249244.mhtml\n",
      "新信息已成功追加到 web_info.db\n",
      "休息 57 秒鐘\n"
     ]
    },
    {
     "name": "stdout",
     "output_type": "stream",
     "text": [
      "网页内容已成功保存为 121249245.mhtml\n",
      "新信息已成功追加到 web_info.db\n",
      "休息 31 秒鐘\n"
     ]
    },
    {
     "name": "stdout",
     "output_type": "stream",
     "text": [
      "网页内容已成功保存为 121249246.mhtml\n",
      "新信息已成功追加到 web_info.db\n",
      "休息 40 秒鐘\n"
     ]
    },
    {
     "name": "stdout",
     "output_type": "stream",
     "text": [
      "网页内容已成功保存为 121249247.mhtml\n",
      "新信息已成功追加到 web_info.db\n",
      "休息 32 秒鐘\n"
     ]
    },
    {
     "name": "stdout",
     "output_type": "stream",
     "text": [
      "网页内容已成功保存为 121249248.mhtml\n",
      "新信息已成功追加到 web_info.db\n",
      "休息 46 秒鐘\n"
     ]
    },
    {
     "name": "stdout",
     "output_type": "stream",
     "text": [
      "网页内容已成功保存为 121249249.mhtml\n",
      "新信息已成功追加到 web_info.db\n",
      "休息 39 秒鐘\n"
     ]
    }
   ],
   "source": [
    "db_filename = 'web_info.db'\n",
    "for work_ID in result:\n",
    "    url = f'https://www.pixiv.net/artworks/{work_ID}'\n",
    "    filename = f'{work_ID}.mhtml'\n",
    "    try:\n",
    "        save_webpage_as_single_file(url, filename)\n",
    "        # 示例：提取和追加数据\n",
    "        mhtml_file = f'{work_ID}.mhtml'  # 替换为实际的 .mhtml 文件路径\n",
    "        info = extract_info_from_mhtml(mhtml_file,work_ID)\n",
    "        # 将提取的信息追加到 'web_info.xlsx'\n",
    "        append_to_sqlite(info)\n",
    "        print(f\"新信息已成功追加到 {db_filename}\")\n",
    "    except Exception as e:\n",
    "        pass\n",
    "    \n",
    "    delay = int(random.uniform(30, 60))  # 5到15秒的隨機延遲\n",
    "    print(f\"休息 {delay} 秒鐘\")\n",
    "    time.sleep(delay)\n",
    "    \n",
    "\n"
   ]
  },
  {
   "cell_type": "code",
   "execution_count": 6,
   "id": "4cd90b55-71ee-4e77-bd49-7115e3a96b3e",
   "metadata": {
    "execution": {
     "iopub.execute_input": "2024-12-04T03:55:52.014085Z",
     "iopub.status.busy": "2024-12-04T03:55:52.013891Z",
     "iopub.status.idle": "2024-12-04T03:55:52.020163Z",
     "shell.execute_reply": "2024-12-04T03:55:52.019713Z"
    }
   },
   "outputs": [
    {
     "name": "stdout",
     "output_type": "stream",
     "text": [
      "Total number of work_IDs: 50078\n"
     ]
    }
   ],
   "source": [
    "import sqlite3\n",
    "\n",
    "# 連接到 SQLite 資料庫\n",
    "con = sqlite3.connect('web_info.db')\n",
    "cur = con.cursor()\n",
    "\n",
    "# 使用 SQL 查詢計算 work_ID 的總數\n",
    "cur.execute(\"SELECT COUNT(work_ID) FROM web_info\")\n",
    "work_id_count = cur.fetchone()[0]\n",
    "\n",
    "# 顯示 work_ID 總數\n",
    "print(f\"Total number of work_IDs: {work_id_count}\")\n",
    "\n",
    "# 關閉資料庫連線\n",
    "con.close()\n"
   ]
  },
  {
   "cell_type": "code",
   "execution_count": 7,
   "id": "37104cd1-a3e8-47d3-a466-2b4b61a2c080",
   "metadata": {
    "execution": {
     "iopub.execute_input": "2024-12-04T03:55:52.021876Z",
     "iopub.status.busy": "2024-12-04T03:55:52.021535Z",
     "iopub.status.idle": "2024-12-04T03:55:52.027556Z",
     "shell.execute_reply": "2024-12-04T03:55:52.027118Z"
    }
   },
   "outputs": [
    {
     "data": {
      "text/plain": [
       "'\\nimport requests\\n\\n# 图片的 URL\\nurl = \\'https://i.pximg.net/img-master/img/2024/08/05/22/47/33/121215791_p0_master1200.jpg\\'\\n\\n# 图片保存的本地文件名\\nfilename = \\'downloaded_image.png\\'\\n\\n# 请求头，模拟完整的浏览器请求\\nheaders = {\\n    \\'User-Agent\\': \\'Mozilla/5.0 (Windows NT 10.0; Win64; x64) AppleWebKit/537.36 (KHTML, like Gecko) Chrome/85.0.4183.102 Safari/537.36\\',\\n    \\'Referer\\': \\'https://www.pixiv.net/\\',\\n    \\'Accept\\': \\'text/html,application/xhtml+xml,application/xml;q=0.9,image/webp,image/apng,*/*;q=0.8\\',\\n    \\'Accept-Encoding\\': \\'gzip, deflate, br\\',\\n    \\'Accept-Language\\': \\'en-US,en;q=0.9\\',\\n    \\'Connection\\': \\'keep-alive\\'\\n}\\n\\n# 发起 GET 请求以下载图片\\nresponse = requests.get(url, headers=headers)\\n\\n# 检查请求是否成功\\nif response.status_code == 200:\\n    # 将图片数据写入本地文件\\n    with open(filename, \\'wb\\') as file:\\n        file.write(response.content)\\n    print(f\"图片已成功保存为 {filename}\")\\nelse:\\n    print(f\"图片下载失败，状态码：{response.status_code}\")\\n\\n'"
      ]
     },
     "execution_count": 7,
     "metadata": {},
     "output_type": "execute_result"
    }
   ],
   "source": [
    "'''\n",
    "import requests\n",
    "\n",
    "# 图片的 URL\n",
    "url = 'https://i.pximg.net/img-master/img/2024/08/05/22/47/33/121215791_p0_master1200.jpg'\n",
    "\n",
    "# 图片保存的本地文件名\n",
    "filename = 'downloaded_image.png'\n",
    "\n",
    "# 请求头，模拟完整的浏览器请求\n",
    "headers = {\n",
    "    'User-Agent': 'Mozilla/5.0 (Windows NT 10.0; Win64; x64) AppleWebKit/537.36 (KHTML, like Gecko) Chrome/85.0.4183.102 Safari/537.36',\n",
    "    'Referer': 'https://www.pixiv.net/',\n",
    "    'Accept': 'text/html,application/xhtml+xml,application/xml;q=0.9,image/webp,image/apng,*/*;q=0.8',\n",
    "    'Accept-Encoding': 'gzip, deflate, br',\n",
    "    'Accept-Language': 'en-US,en;q=0.9',\n",
    "    'Connection': 'keep-alive'\n",
    "}\n",
    "\n",
    "# 发起 GET 请求以下载图片\n",
    "response = requests.get(url, headers=headers)\n",
    "\n",
    "# 检查请求是否成功\n",
    "if response.status_code == 200:\n",
    "    # 将图片数据写入本地文件\n",
    "    with open(filename, 'wb') as file:\n",
    "        file.write(response.content)\n",
    "    print(f\"图片已成功保存为 {filename}\")\n",
    "else:\n",
    "    print(f\"图片下载失败，状态码：{response.status_code}\")\n",
    "\n",
    "'''\n"
   ]
  },
  {
   "cell_type": "code",
   "execution_count": null,
   "id": "2662c282-045f-46fe-9c92-afe79094a532",
   "metadata": {},
   "outputs": [],
   "source": []
  }
 ],
 "metadata": {
  "kernelspec": {
   "display_name": "Python 3 (ipykernel)",
   "language": "python",
   "name": "python3"
  },
  "language_info": {
   "codemirror_mode": {
    "name": "ipython",
    "version": 3
   },
   "file_extension": ".py",
   "mimetype": "text/x-python",
   "name": "python",
   "nbconvert_exporter": "python",
   "pygments_lexer": "ipython3",
   "version": "3.12.7"
  }
 },
 "nbformat": 4,
 "nbformat_minor": 5
}
