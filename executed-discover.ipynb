{
 "cells": [
  {
   "cell_type": "code",
   "execution_count": 1,
   "id": "e8671cd2-37e4-4acc-bc20-9a6b4420b8e1",
   "metadata": {
    "execution": {
     "iopub.execute_input": "2025-04-21T00:54:01.144025Z",
     "iopub.status.busy": "2025-04-21T00:54:01.143843Z",
     "iopub.status.idle": "2025-04-21T00:54:01.211422Z",
     "shell.execute_reply": "2025-04-21T00:54:01.210836Z"
    }
   },
   "outputs": [],
   "source": [
    "import requests\n",
    "import time\n",
    "import random\n",
    "import sqlite3\n",
    "from tqdm import tqdm\n",
    "\n",
    "# IP列表\n",
    "'''\n",
    "IP_LIST = ['20.213.247.195','13.74.59.33','145.40.121.101','45.167.125.97','157.100.12.138',\n",
    "           '173.244.48.9','51.79.205.165','190.15.103.66','45.42.177.50','8.219.64.236']\n",
    "\n",
    "def get_random_proxy():\n",
    "    ip = random.choice(IP_LIST)\n",
    "    return {\"http\": f\"http://{ip}\", \"https\": f\"http://{ip}\"}\n",
    "'''\n",
    "\n",
    "def init_db():\n",
    "    conn = sqlite3.connect('web_info.db')  # 更改為 web_info.db\n",
    "    c = conn.cursor()\n",
    "    c.execute('''CREATE TABLE IF NOT EXISTS web_info (\n",
    "            work_ID TEXT PRIMARY KEY,\n",
    "            title TEXT,\n",
    "            tags TEXT,\n",
    "            like_count INTEGER,\n",
    "            bookmark_count INTEGER,\n",
    "            view_count INTEGER,\n",
    "            image_url TEXT\n",
    "        )''')\n",
    "    conn.commit()\n",
    "    return conn\n",
    "\n",
    "def get_last_work_id(conn):\n",
    "    c = conn.cursor()\n",
    "    c.execute(\"SELECT MAX(work_ID) FROM web_info\")\n",
    "    result = c.fetchone()[0]\n",
    "    return result if result else 0\n",
    "\n",
    "connn = init_db()\n",
    "\n",
    "start_id = int(get_last_work_id(connn)) + 1"
   ]
  },
  {
   "cell_type": "code",
   "execution_count": 2,
   "id": "b38defef-e43a-4c2f-8607-fe19909046fd",
   "metadata": {
    "execution": {
     "iopub.execute_input": "2025-04-21T00:54:01.213650Z",
     "iopub.status.busy": "2025-04-21T00:54:01.213238Z",
     "iopub.status.idle": "2025-04-21T01:39:44.974537Z",
     "shell.execute_reply": "2025-04-21T01:39:44.974016Z"
    }
   },
   "outputs": [
    {
     "name": "stdout",
     "output_type": "stream",
     "text": [
      "Starting search from ID: 121387158\n"
     ]
    },
    {
     "name": "stderr",
     "output_type": "stream",
     "text": [
      "\r",
      "Finding valid work IDs:   0%|          | 0/200 [00:00<?, ?ID/s]"
     ]
    },
    {
     "name": "stderr",
     "output_type": "stream",
     "text": [
      "\r",
      "Finding valid work IDs:   0%|          | 1/200 [00:18<59:56, 18.07s/ID]"
     ]
    },
    {
     "name": "stderr",
     "output_type": "stream",
     "text": [
      "\r",
      "Finding valid work IDs:   0%|          | 1/200 [00:18<59:56, 18.07s/ID, Latest ID: 121387160]"
     ]
    },
    {
     "name": "stderr",
     "output_type": "stream",
     "text": [
      "\r",
      "Finding valid work IDs:   1%|          | 2/200 [00:26<41:08, 12.47s/ID, Latest ID: 121387160]"
     ]
    },
    {
     "name": "stderr",
     "output_type": "stream",
     "text": [
      "\r",
      "Finding valid work IDs:   1%|          | 2/200 [00:26<41:08, 12.47s/ID, Latest ID: 121387161]"
     ]
    },
    {
     "name": "stderr",
     "output_type": "stream",
     "text": [
      "\r",
      "Finding valid work IDs:   2%|▏         | 3/200 [00:41<44:01, 13.41s/ID, Latest ID: 121387161]"
     ]
    },
    {
     "name": "stderr",
     "output_type": "stream",
     "text": [
      "\r",
      "Finding valid work IDs:   2%|▏         | 3/200 [00:41<44:01, 13.41s/ID, Latest ID: 121387162]"
     ]
    },
    {
     "name": "stderr",
     "output_type": "stream",
     "text": [
      "\r",
      "Finding valid work IDs:   2%|▏         | 4/200 [00:46<33:33, 10.27s/ID, Latest ID: 121387162]"
     ]
    },
    {
     "name": "stderr",
     "output_type": "stream",
     "text": [
      "\r",
      "Finding valid work IDs:   2%|▏         | 4/200 [00:46<33:33, 10.27s/ID, Latest ID: 121387163]"
     ]
    },
    {
     "name": "stderr",
     "output_type": "stream",
     "text": [
      "\r",
      "Finding valid work IDs:   2%|▎         | 5/200 [00:54<30:06,  9.26s/ID, Latest ID: 121387163]"
     ]
    },
    {
     "name": "stderr",
     "output_type": "stream",
     "text": [
      "\r",
      "Finding valid work IDs:   2%|▎         | 5/200 [00:54<30:06,  9.26s/ID, Latest ID: 121387164]"
     ]
    },
    {
     "name": "stderr",
     "output_type": "stream",
     "text": [
      "\r",
      "Finding valid work IDs:   3%|▎         | 6/200 [01:04<31:11,  9.65s/ID, Latest ID: 121387164]"
     ]
    },
    {
     "name": "stderr",
     "output_type": "stream",
     "text": [
      "\r",
      "Finding valid work IDs:   3%|▎         | 6/200 [01:04<31:11,  9.65s/ID, Latest ID: 121387165]"
     ]
    },
    {
     "name": "stderr",
     "output_type": "stream",
     "text": [
      "\r",
      "Finding valid work IDs:   4%|▎         | 7/200 [01:24<42:04, 13.08s/ID, Latest ID: 121387165]"
     ]
    },
    {
     "name": "stderr",
     "output_type": "stream",
     "text": [
      "\r",
      "Finding valid work IDs:   4%|▎         | 7/200 [01:24<42:04, 13.08s/ID, Latest ID: 121387167]"
     ]
    },
    {
     "name": "stderr",
     "output_type": "stream",
     "text": [
      "\r",
      "Finding valid work IDs:   4%|▍         | 8/200 [01:30<34:17, 10.72s/ID, Latest ID: 121387167]"
     ]
    },
    {
     "name": "stderr",
     "output_type": "stream",
     "text": [
      "\r",
      "Finding valid work IDs:   4%|▍         | 8/200 [01:30<34:17, 10.72s/ID, Latest ID: 121387168]"
     ]
    },
    {
     "name": "stderr",
     "output_type": "stream",
     "text": [
      "\r",
      "Finding valid work IDs:   4%|▍         | 9/200 [01:44<37:19, 11.73s/ID, Latest ID: 121387168]"
     ]
    },
    {
     "name": "stderr",
     "output_type": "stream",
     "text": [
      "\r",
      "Finding valid work IDs:   4%|▍         | 9/200 [01:44<37:19, 11.73s/ID, Latest ID: 121387169]"
     ]
    },
    {
     "name": "stderr",
     "output_type": "stream",
     "text": [
      "\r",
      "Finding valid work IDs:   5%|▌         | 10/200 [02:14<54:51, 17.32s/ID, Latest ID: 121387169]"
     ]
    },
    {
     "name": "stderr",
     "output_type": "stream",
     "text": [
      "\r",
      "Finding valid work IDs:   5%|▌         | 10/200 [02:14<54:51, 17.32s/ID, Latest ID: 121387171]"
     ]
    },
    {
     "name": "stderr",
     "output_type": "stream",
     "text": [
      "\r",
      "Finding valid work IDs:   6%|▌         | 11/200 [02:24<47:30, 15.08s/ID, Latest ID: 121387171]"
     ]
    },
    {
     "name": "stderr",
     "output_type": "stream",
     "text": [
      "\r",
      "Finding valid work IDs:   6%|▌         | 11/200 [02:24<47:30, 15.08s/ID, Latest ID: 121387172]"
     ]
    },
    {
     "name": "stderr",
     "output_type": "stream",
     "text": [
      "\r",
      "Finding valid work IDs:   6%|▌         | 12/200 [02:30<38:56, 12.43s/ID, Latest ID: 121387172]"
     ]
    },
    {
     "name": "stderr",
     "output_type": "stream",
     "text": [
      "\r",
      "Finding valid work IDs:   6%|▌         | 12/200 [02:30<38:56, 12.43s/ID, Latest ID: 121387173]"
     ]
    },
    {
     "name": "stderr",
     "output_type": "stream",
     "text": [
      "\r",
      "Finding valid work IDs:   6%|▋         | 13/200 [02:44<39:49, 12.78s/ID, Latest ID: 121387173]"
     ]
    },
    {
     "name": "stderr",
     "output_type": "stream",
     "text": [
      "\r",
      "Finding valid work IDs:   6%|▋         | 13/200 [02:44<39:49, 12.78s/ID, Latest ID: 121387175]"
     ]
    },
    {
     "name": "stderr",
     "output_type": "stream",
     "text": [
      "\r",
      "Finding valid work IDs:   7%|▋         | 14/200 [02:59<42:35, 13.74s/ID, Latest ID: 121387175]"
     ]
    },
    {
     "name": "stderr",
     "output_type": "stream",
     "text": [
      "\r",
      "Finding valid work IDs:   7%|▋         | 14/200 [02:59<42:35, 13.74s/ID, Latest ID: 121387177]"
     ]
    },
    {
     "name": "stderr",
     "output_type": "stream",
     "text": [
      "\r",
      "Finding valid work IDs:   8%|▊         | 15/200 [03:36<1:03:47, 20.69s/ID, Latest ID: 121387177]"
     ]
    },
    {
     "name": "stderr",
     "output_type": "stream",
     "text": [
      "\r",
      "Finding valid work IDs:   8%|▊         | 15/200 [03:36<1:03:47, 20.69s/ID, Latest ID: 121387180]"
     ]
    },
    {
     "name": "stderr",
     "output_type": "stream",
     "text": [
      "\r",
      "Finding valid work IDs:   8%|▊         | 16/200 [03:49<55:57, 18.25s/ID, Latest ID: 121387180]  "
     ]
    },
    {
     "name": "stderr",
     "output_type": "stream",
     "text": [
      "\r",
      "Finding valid work IDs:   8%|▊         | 16/200 [03:49<55:57, 18.25s/ID, Latest ID: 121387181]"
     ]
    },
    {
     "name": "stderr",
     "output_type": "stream",
     "text": [
      "\r",
      "Finding valid work IDs:   8%|▊         | 17/200 [04:00<48:58, 16.06s/ID, Latest ID: 121387181]"
     ]
    },
    {
     "name": "stderr",
     "output_type": "stream",
     "text": [
      "\r",
      "Finding valid work IDs:   8%|▊         | 17/200 [04:00<48:58, 16.06s/ID, Latest ID: 121387182]"
     ]
    },
    {
     "name": "stderr",
     "output_type": "stream",
     "text": [
      "\r",
      "Finding valid work IDs:   9%|▉         | 18/200 [04:08<41:23, 13.65s/ID, Latest ID: 121387182]"
     ]
    },
    {
     "name": "stderr",
     "output_type": "stream",
     "text": [
      "\r",
      "Finding valid work IDs:   9%|▉         | 18/200 [04:08<41:23, 13.65s/ID, Latest ID: 121387183]"
     ]
    },
    {
     "name": "stderr",
     "output_type": "stream",
     "text": [
      "\r",
      "Finding valid work IDs:  10%|▉         | 19/200 [04:18<38:01, 12.61s/ID, Latest ID: 121387183]"
     ]
    },
    {
     "name": "stderr",
     "output_type": "stream",
     "text": [
      "\r",
      "Finding valid work IDs:  10%|▉         | 19/200 [04:18<38:01, 12.61s/ID, Latest ID: 121387184]"
     ]
    },
    {
     "name": "stderr",
     "output_type": "stream",
     "text": [
      "\r",
      "Finding valid work IDs:  10%|█         | 20/200 [04:27<34:05, 11.37s/ID, Latest ID: 121387184]"
     ]
    },
    {
     "name": "stderr",
     "output_type": "stream",
     "text": [
      "\r",
      "Finding valid work IDs:  10%|█         | 20/200 [04:27<34:05, 11.37s/ID, Latest ID: 121387185]"
     ]
    },
    {
     "name": "stderr",
     "output_type": "stream",
     "text": [
      "\r",
      "Finding valid work IDs:  10%|█         | 21/200 [04:37<33:05, 11.09s/ID, Latest ID: 121387185]"
     ]
    },
    {
     "name": "stderr",
     "output_type": "stream",
     "text": [
      "\r",
      "Finding valid work IDs:  10%|█         | 21/200 [04:37<33:05, 11.09s/ID, Latest ID: 121387186]"
     ]
    },
    {
     "name": "stderr",
     "output_type": "stream",
     "text": [
      "\r",
      "Finding valid work IDs:  11%|█         | 22/200 [05:03<46:21, 15.63s/ID, Latest ID: 121387186]"
     ]
    },
    {
     "name": "stderr",
     "output_type": "stream",
     "text": [
      "\r",
      "Finding valid work IDs:  11%|█         | 22/200 [05:03<46:21, 15.63s/ID, Latest ID: 121387188]"
     ]
    },
    {
     "name": "stderr",
     "output_type": "stream",
     "text": [
      "\r",
      "Finding valid work IDs:  12%|█▏        | 23/200 [05:11<39:20, 13.33s/ID, Latest ID: 121387188]"
     ]
    },
    {
     "name": "stderr",
     "output_type": "stream",
     "text": [
      "\r",
      "Finding valid work IDs:  12%|█▏        | 23/200 [05:11<39:20, 13.33s/ID, Latest ID: 121387189]"
     ]
    },
    {
     "name": "stderr",
     "output_type": "stream",
     "text": [
      "\r",
      "Finding valid work IDs:  12%|█▏        | 24/200 [05:19<34:34, 11.79s/ID, Latest ID: 121387189]"
     ]
    },
    {
     "name": "stderr",
     "output_type": "stream",
     "text": [
      "\r",
      "Finding valid work IDs:  12%|█▏        | 24/200 [05:19<34:34, 11.79s/ID, Latest ID: 121387190]"
     ]
    },
    {
     "name": "stderr",
     "output_type": "stream",
     "text": [
      "\r",
      "Finding valid work IDs:  12%|█▎        | 25/200 [05:35<37:29, 12.86s/ID, Latest ID: 121387190]"
     ]
    },
    {
     "name": "stderr",
     "output_type": "stream",
     "text": [
      "\r",
      "Finding valid work IDs:  12%|█▎        | 25/200 [05:35<37:29, 12.86s/ID, Latest ID: 121387192]"
     ]
    },
    {
     "name": "stderr",
     "output_type": "stream",
     "text": [
      "\r",
      "Finding valid work IDs:  13%|█▎        | 26/200 [05:46<35:58, 12.41s/ID, Latest ID: 121387192]"
     ]
    },
    {
     "name": "stderr",
     "output_type": "stream",
     "text": [
      "\r",
      "Finding valid work IDs:  13%|█▎        | 26/200 [05:46<35:58, 12.41s/ID, Latest ID: 121387193]"
     ]
    },
    {
     "name": "stderr",
     "output_type": "stream",
     "text": [
      "\r",
      "Finding valid work IDs:  14%|█▎        | 27/200 [05:54<31:51, 11.05s/ID, Latest ID: 121387193]"
     ]
    },
    {
     "name": "stderr",
     "output_type": "stream",
     "text": [
      "\r",
      "Finding valid work IDs:  14%|█▎        | 27/200 [05:54<31:51, 11.05s/ID, Latest ID: 121387194]"
     ]
    },
    {
     "name": "stderr",
     "output_type": "stream",
     "text": [
      "\r",
      "Finding valid work IDs:  14%|█▍        | 28/200 [06:07<33:33, 11.70s/ID, Latest ID: 121387194]"
     ]
    },
    {
     "name": "stderr",
     "output_type": "stream",
     "text": [
      "\r",
      "Finding valid work IDs:  14%|█▍        | 28/200 [06:07<33:33, 11.70s/ID, Latest ID: 121387195]"
     ]
    },
    {
     "name": "stderr",
     "output_type": "stream",
     "text": [
      "\r",
      "Finding valid work IDs:  14%|█▍        | 29/200 [06:15<30:11, 10.60s/ID, Latest ID: 121387195]"
     ]
    },
    {
     "name": "stderr",
     "output_type": "stream",
     "text": [
      "\r",
      "Finding valid work IDs:  14%|█▍        | 29/200 [06:15<30:11, 10.60s/ID, Latest ID: 121387196]"
     ]
    },
    {
     "name": "stderr",
     "output_type": "stream",
     "text": [
      "\r",
      "Finding valid work IDs:  15%|█▌        | 30/200 [06:27<30:59, 10.94s/ID, Latest ID: 121387196]"
     ]
    },
    {
     "name": "stderr",
     "output_type": "stream",
     "text": [
      "\r",
      "Finding valid work IDs:  15%|█▌        | 30/200 [06:27<30:59, 10.94s/ID, Latest ID: 121387197]"
     ]
    },
    {
     "name": "stderr",
     "output_type": "stream",
     "text": [
      "\r",
      "Finding valid work IDs:  16%|█▌        | 31/200 [06:37<29:55, 10.62s/ID, Latest ID: 121387197]"
     ]
    },
    {
     "name": "stderr",
     "output_type": "stream",
     "text": [
      "\r",
      "Finding valid work IDs:  16%|█▌        | 31/200 [06:37<29:55, 10.62s/ID, Latest ID: 121387198]"
     ]
    },
    {
     "name": "stderr",
     "output_type": "stream",
     "text": [
      "\r",
      "Finding valid work IDs:  16%|█▌        | 32/200 [06:56<36:40, 13.10s/ID, Latest ID: 121387198]"
     ]
    },
    {
     "name": "stderr",
     "output_type": "stream",
     "text": [
      "\r",
      "Finding valid work IDs:  16%|█▌        | 32/200 [06:56<36:40, 13.10s/ID, Latest ID: 121387200]"
     ]
    },
    {
     "name": "stderr",
     "output_type": "stream",
     "text": [
      "\r",
      "Finding valid work IDs:  16%|█▋        | 33/200 [07:02<30:30, 10.96s/ID, Latest ID: 121387200]"
     ]
    },
    {
     "name": "stderr",
     "output_type": "stream",
     "text": [
      "\r",
      "Finding valid work IDs:  16%|█▋        | 33/200 [07:02<30:30, 10.96s/ID, Latest ID: 121387201]"
     ]
    },
    {
     "name": "stderr",
     "output_type": "stream",
     "text": [
      "\r",
      "Finding valid work IDs:  17%|█▋        | 34/200 [07:12<29:51, 10.79s/ID, Latest ID: 121387201]"
     ]
    },
    {
     "name": "stderr",
     "output_type": "stream",
     "text": [
      "\r",
      "Finding valid work IDs:  17%|█▋        | 34/200 [07:12<29:51, 10.79s/ID, Latest ID: 121387202]"
     ]
    },
    {
     "name": "stderr",
     "output_type": "stream",
     "text": [
      "\r",
      "Finding valid work IDs:  18%|█▊        | 35/200 [07:20<27:28,  9.99s/ID, Latest ID: 121387202]"
     ]
    },
    {
     "name": "stderr",
     "output_type": "stream",
     "text": [
      "\r",
      "Finding valid work IDs:  18%|█▊        | 35/200 [07:20<27:28,  9.99s/ID, Latest ID: 121387203]"
     ]
    },
    {
     "name": "stderr",
     "output_type": "stream",
     "text": [
      "\r",
      "Finding valid work IDs:  18%|█▊        | 36/200 [07:29<26:45,  9.79s/ID, Latest ID: 121387203]"
     ]
    },
    {
     "name": "stderr",
     "output_type": "stream",
     "text": [
      "\r",
      "Finding valid work IDs:  18%|█▊        | 36/200 [07:29<26:45,  9.79s/ID, Latest ID: 121387204]"
     ]
    },
    {
     "name": "stderr",
     "output_type": "stream",
     "text": [
      "\r",
      "Finding valid work IDs:  18%|█▊        | 37/200 [07:37<24:37,  9.06s/ID, Latest ID: 121387204]"
     ]
    },
    {
     "name": "stderr",
     "output_type": "stream",
     "text": [
      "\r",
      "Finding valid work IDs:  18%|█▊        | 37/200 [07:37<24:37,  9.06s/ID, Latest ID: 121387205]"
     ]
    },
    {
     "name": "stderr",
     "output_type": "stream",
     "text": [
      "\r",
      "Finding valid work IDs:  19%|█▉        | 38/200 [08:02<37:53, 14.03s/ID, Latest ID: 121387205]"
     ]
    },
    {
     "name": "stderr",
     "output_type": "stream",
     "text": [
      "\r",
      "Finding valid work IDs:  19%|█▉        | 38/200 [08:02<37:53, 14.03s/ID, Latest ID: 121387207]"
     ]
    },
    {
     "name": "stderr",
     "output_type": "stream",
     "text": [
      "\r",
      "Finding valid work IDs:  20%|█▉        | 39/200 [08:11<32:59, 12.29s/ID, Latest ID: 121387207]"
     ]
    },
    {
     "name": "stderr",
     "output_type": "stream",
     "text": [
      "\r",
      "Finding valid work IDs:  20%|█▉        | 39/200 [08:11<32:59, 12.29s/ID, Latest ID: 121387208]"
     ]
    },
    {
     "name": "stderr",
     "output_type": "stream",
     "text": [
      "\r",
      "Finding valid work IDs:  20%|██        | 40/200 [08:24<33:54, 12.71s/ID, Latest ID: 121387208]"
     ]
    },
    {
     "name": "stderr",
     "output_type": "stream",
     "text": [
      "\r",
      "Finding valid work IDs:  20%|██        | 40/200 [08:24<33:54, 12.71s/ID, Latest ID: 121387209]"
     ]
    },
    {
     "name": "stderr",
     "output_type": "stream",
     "text": [
      "\r",
      "Finding valid work IDs:  20%|██        | 41/200 [08:37<33:25, 12.61s/ID, Latest ID: 121387209]"
     ]
    },
    {
     "name": "stderr",
     "output_type": "stream",
     "text": [
      "\r",
      "Finding valid work IDs:  20%|██        | 41/200 [08:37<33:25, 12.61s/ID, Latest ID: 121387210]"
     ]
    },
    {
     "name": "stderr",
     "output_type": "stream",
     "text": [
      "\r",
      "Finding valid work IDs:  21%|██        | 42/200 [08:45<29:53, 11.35s/ID, Latest ID: 121387210]"
     ]
    },
    {
     "name": "stderr",
     "output_type": "stream",
     "text": [
      "\r",
      "Finding valid work IDs:  21%|██        | 42/200 [08:45<29:53, 11.35s/ID, Latest ID: 121387211]"
     ]
    },
    {
     "name": "stderr",
     "output_type": "stream",
     "text": [
      "\r",
      "Finding valid work IDs:  22%|██▏       | 43/200 [08:51<25:37,  9.79s/ID, Latest ID: 121387211]"
     ]
    },
    {
     "name": "stderr",
     "output_type": "stream",
     "text": [
      "\r",
      "Finding valid work IDs:  22%|██▏       | 43/200 [08:51<25:37,  9.79s/ID, Latest ID: 121387212]"
     ]
    },
    {
     "name": "stderr",
     "output_type": "stream",
     "text": [
      "\r",
      "Finding valid work IDs:  22%|██▏       | 44/200 [08:58<22:50,  8.79s/ID, Latest ID: 121387212]"
     ]
    },
    {
     "name": "stderr",
     "output_type": "stream",
     "text": [
      "\r",
      "Finding valid work IDs:  22%|██▏       | 44/200 [08:58<22:50,  8.79s/ID, Latest ID: 121387213]"
     ]
    },
    {
     "name": "stderr",
     "output_type": "stream",
     "text": [
      "\r",
      "Finding valid work IDs:  22%|██▎       | 45/200 [09:19<32:39, 12.64s/ID, Latest ID: 121387213]"
     ]
    },
    {
     "name": "stderr",
     "output_type": "stream",
     "text": [
      "\r",
      "Finding valid work IDs:  22%|██▎       | 45/200 [09:19<32:39, 12.64s/ID, Latest ID: 121387215]"
     ]
    },
    {
     "name": "stderr",
     "output_type": "stream",
     "text": [
      "\r",
      "Finding valid work IDs:  23%|██▎       | 46/200 [09:33<33:13, 12.95s/ID, Latest ID: 121387215]"
     ]
    },
    {
     "name": "stderr",
     "output_type": "stream",
     "text": [
      "\r",
      "Finding valid work IDs:  23%|██▎       | 46/200 [09:33<33:13, 12.95s/ID, Latest ID: 121387216]"
     ]
    },
    {
     "name": "stderr",
     "output_type": "stream",
     "text": [
      "\r",
      "Finding valid work IDs:  24%|██▎       | 47/200 [09:57<41:31, 16.28s/ID, Latest ID: 121387216]"
     ]
    },
    {
     "name": "stderr",
     "output_type": "stream",
     "text": [
      "\r",
      "Finding valid work IDs:  24%|██▎       | 47/200 [09:57<41:31, 16.28s/ID, Latest ID: 121387218]"
     ]
    },
    {
     "name": "stderr",
     "output_type": "stream",
     "text": [
      "\r",
      "Finding valid work IDs:  24%|██▍       | 48/200 [10:03<33:05, 13.07s/ID, Latest ID: 121387218]"
     ]
    },
    {
     "name": "stderr",
     "output_type": "stream",
     "text": [
      "\r",
      "Finding valid work IDs:  24%|██▍       | 48/200 [10:03<33:05, 13.07s/ID, Latest ID: 121387219]"
     ]
    },
    {
     "name": "stderr",
     "output_type": "stream",
     "text": [
      "\r",
      "Finding valid work IDs:  24%|██▍       | 49/200 [10:13<31:05, 12.36s/ID, Latest ID: 121387219]"
     ]
    },
    {
     "name": "stderr",
     "output_type": "stream",
     "text": [
      "\r",
      "Finding valid work IDs:  24%|██▍       | 49/200 [10:13<31:05, 12.36s/ID, Latest ID: 121387220]"
     ]
    },
    {
     "name": "stderr",
     "output_type": "stream",
     "text": [
      "\r",
      "Finding valid work IDs:  25%|██▌       | 50/200 [10:22<28:09, 11.26s/ID, Latest ID: 121387220]"
     ]
    },
    {
     "name": "stderr",
     "output_type": "stream",
     "text": [
      "\r",
      "Finding valid work IDs:  25%|██▌       | 50/200 [10:22<28:09, 11.26s/ID, Latest ID: 121387221]"
     ]
    },
    {
     "name": "stderr",
     "output_type": "stream",
     "text": [
      "\r",
      "Finding valid work IDs:  26%|██▌       | 51/200 [10:46<37:41, 15.18s/ID, Latest ID: 121387221]"
     ]
    },
    {
     "name": "stderr",
     "output_type": "stream",
     "text": [
      "\r",
      "Finding valid work IDs:  26%|██▌       | 51/200 [10:46<37:41, 15.18s/ID, Latest ID: 121387223]"
     ]
    },
    {
     "name": "stderr",
     "output_type": "stream",
     "text": [
      "\r",
      "Finding valid work IDs:  26%|██▌       | 52/200 [10:52<30:18, 12.28s/ID, Latest ID: 121387223]"
     ]
    },
    {
     "name": "stderr",
     "output_type": "stream",
     "text": [
      "\r",
      "Finding valid work IDs:  26%|██▌       | 52/200 [10:52<30:18, 12.28s/ID, Latest ID: 121387224]"
     ]
    },
    {
     "name": "stderr",
     "output_type": "stream",
     "text": [
      "\r",
      "Finding valid work IDs:  26%|██▋       | 53/200 [11:10<34:41, 14.16s/ID, Latest ID: 121387224]"
     ]
    },
    {
     "name": "stderr",
     "output_type": "stream",
     "text": [
      "\r",
      "Finding valid work IDs:  26%|██▋       | 53/200 [11:10<34:41, 14.16s/ID, Latest ID: 121387226]"
     ]
    },
    {
     "name": "stderr",
     "output_type": "stream",
     "text": [
      "\r",
      "Finding valid work IDs:  27%|██▋       | 54/200 [11:20<31:03, 12.77s/ID, Latest ID: 121387226]"
     ]
    },
    {
     "name": "stderr",
     "output_type": "stream",
     "text": [
      "\r",
      "Finding valid work IDs:  27%|██▋       | 54/200 [11:20<31:03, 12.77s/ID, Latest ID: 121387227]"
     ]
    },
    {
     "name": "stderr",
     "output_type": "stream",
     "text": [
      "\r",
      "Finding valid work IDs:  28%|██▊       | 55/200 [11:45<39:48, 16.47s/ID, Latest ID: 121387227]"
     ]
    },
    {
     "name": "stderr",
     "output_type": "stream",
     "text": [
      "\r",
      "Finding valid work IDs:  28%|██▊       | 55/200 [11:45<39:48, 16.47s/ID, Latest ID: 121387229]"
     ]
    },
    {
     "name": "stderr",
     "output_type": "stream",
     "text": [
      "\r",
      "Finding valid work IDs:  28%|██▊       | 56/200 [12:09<44:56, 18.73s/ID, Latest ID: 121387229]"
     ]
    },
    {
     "name": "stderr",
     "output_type": "stream",
     "text": [
      "\r",
      "Finding valid work IDs:  28%|██▊       | 56/200 [12:09<44:56, 18.73s/ID, Latest ID: 121387232]"
     ]
    },
    {
     "name": "stderr",
     "output_type": "stream",
     "text": [
      "\r",
      "Finding valid work IDs:  28%|██▊       | 57/200 [12:25<42:26, 17.81s/ID, Latest ID: 121387232]"
     ]
    },
    {
     "name": "stderr",
     "output_type": "stream",
     "text": [
      "\r",
      "Finding valid work IDs:  28%|██▊       | 57/200 [12:25<42:26, 17.81s/ID, Latest ID: 121387234]"
     ]
    },
    {
     "name": "stderr",
     "output_type": "stream",
     "text": [
      "\r",
      "Finding valid work IDs:  29%|██▉       | 58/200 [12:31<34:12, 14.45s/ID, Latest ID: 121387234]"
     ]
    },
    {
     "name": "stderr",
     "output_type": "stream",
     "text": [
      "\r",
      "Finding valid work IDs:  29%|██▉       | 58/200 [12:31<34:12, 14.45s/ID, Latest ID: 121387235]"
     ]
    },
    {
     "name": "stderr",
     "output_type": "stream",
     "text": [
      "\r",
      "Finding valid work IDs:  30%|██▉       | 59/200 [12:49<36:23, 15.49s/ID, Latest ID: 121387235]"
     ]
    },
    {
     "name": "stderr",
     "output_type": "stream",
     "text": [
      "\r",
      "Finding valid work IDs:  30%|██▉       | 59/200 [12:49<36:23, 15.49s/ID, Latest ID: 121387237]"
     ]
    },
    {
     "name": "stderr",
     "output_type": "stream",
     "text": [
      "\r",
      "Finding valid work IDs:  30%|███       | 60/200 [13:03<35:03, 15.03s/ID, Latest ID: 121387237]"
     ]
    },
    {
     "name": "stderr",
     "output_type": "stream",
     "text": [
      "\r",
      "Finding valid work IDs:  30%|███       | 60/200 [13:03<35:03, 15.03s/ID, Latest ID: 121387238]"
     ]
    },
    {
     "name": "stderr",
     "output_type": "stream",
     "text": [
      "\r",
      "Finding valid work IDs:  30%|███       | 61/200 [13:27<40:52, 17.64s/ID, Latest ID: 121387238]"
     ]
    },
    {
     "name": "stderr",
     "output_type": "stream",
     "text": [
      "\r",
      "Finding valid work IDs:  30%|███       | 61/200 [13:27<40:52, 17.64s/ID, Latest ID: 121387240]"
     ]
    },
    {
     "name": "stderr",
     "output_type": "stream",
     "text": [
      "\r",
      "Finding valid work IDs:  31%|███       | 62/200 [13:49<43:31, 18.92s/ID, Latest ID: 121387240]"
     ]
    },
    {
     "name": "stderr",
     "output_type": "stream",
     "text": [
      "\r",
      "Finding valid work IDs:  31%|███       | 62/200 [13:49<43:31, 18.92s/ID, Latest ID: 121387242]"
     ]
    },
    {
     "name": "stderr",
     "output_type": "stream",
     "text": [
      "\r",
      "Finding valid work IDs:  32%|███▏      | 63/200 [14:01<38:13, 16.74s/ID, Latest ID: 121387242]"
     ]
    },
    {
     "name": "stderr",
     "output_type": "stream",
     "text": [
      "\r",
      "Finding valid work IDs:  32%|███▏      | 63/200 [14:01<38:13, 16.74s/ID, Latest ID: 121387243]"
     ]
    },
    {
     "name": "stderr",
     "output_type": "stream",
     "text": [
      "\r",
      "Finding valid work IDs:  32%|███▏      | 64/200 [14:22<41:03, 18.11s/ID, Latest ID: 121387243]"
     ]
    },
    {
     "name": "stderr",
     "output_type": "stream",
     "text": [
      "\r",
      "Finding valid work IDs:  32%|███▏      | 64/200 [14:22<41:03, 18.11s/ID, Latest ID: 121387245]"
     ]
    },
    {
     "name": "stderr",
     "output_type": "stream",
     "text": [
      "\r",
      "Finding valid work IDs:  32%|███▎      | 65/200 [14:28<32:19, 14.37s/ID, Latest ID: 121387245]"
     ]
    },
    {
     "name": "stderr",
     "output_type": "stream",
     "text": [
      "\r",
      "Finding valid work IDs:  32%|███▎      | 65/200 [14:28<32:19, 14.37s/ID, Latest ID: 121387246]"
     ]
    },
    {
     "name": "stderr",
     "output_type": "stream",
     "text": [
      "\r",
      "Finding valid work IDs:  33%|███▎      | 66/200 [15:00<43:57, 19.69s/ID, Latest ID: 121387246]"
     ]
    },
    {
     "name": "stderr",
     "output_type": "stream",
     "text": [
      "\r",
      "Finding valid work IDs:  33%|███▎      | 66/200 [15:00<43:57, 19.69s/ID, Latest ID: 121387249]"
     ]
    },
    {
     "name": "stderr",
     "output_type": "stream",
     "text": [
      "\r",
      "Finding valid work IDs:  34%|███▎      | 67/200 [15:19<43:15, 19.51s/ID, Latest ID: 121387249]"
     ]
    },
    {
     "name": "stderr",
     "output_type": "stream",
     "text": [
      "\r",
      "Finding valid work IDs:  34%|███▎      | 67/200 [15:19<43:15, 19.51s/ID, Latest ID: 121387251]"
     ]
    },
    {
     "name": "stderr",
     "output_type": "stream",
     "text": [
      "\r",
      "Finding valid work IDs:  34%|███▍      | 68/200 [15:29<36:34, 16.62s/ID, Latest ID: 121387251]"
     ]
    },
    {
     "name": "stderr",
     "output_type": "stream",
     "text": [
      "\r",
      "Finding valid work IDs:  34%|███▍      | 68/200 [15:29<36:34, 16.62s/ID, Latest ID: 121387252]"
     ]
    },
    {
     "name": "stderr",
     "output_type": "stream",
     "text": [
      "\r",
      "Finding valid work IDs:  34%|███▍      | 69/200 [15:40<32:44, 15.00s/ID, Latest ID: 121387252]"
     ]
    },
    {
     "name": "stderr",
     "output_type": "stream",
     "text": [
      "\r",
      "Finding valid work IDs:  34%|███▍      | 69/200 [15:40<32:44, 15.00s/ID, Latest ID: 121387253]"
     ]
    },
    {
     "name": "stderr",
     "output_type": "stream",
     "text": [
      "\r",
      "Finding valid work IDs:  35%|███▌      | 70/200 [15:46<27:04, 12.50s/ID, Latest ID: 121387253]"
     ]
    },
    {
     "name": "stderr",
     "output_type": "stream",
     "text": [
      "\r",
      "Finding valid work IDs:  35%|███▌      | 70/200 [15:46<27:04, 12.50s/ID, Latest ID: 121387254]"
     ]
    },
    {
     "name": "stderr",
     "output_type": "stream",
     "text": [
      "\r",
      "Finding valid work IDs:  36%|███▌      | 71/200 [15:55<24:20, 11.32s/ID, Latest ID: 121387254]"
     ]
    },
    {
     "name": "stderr",
     "output_type": "stream",
     "text": [
      "\r",
      "Finding valid work IDs:  36%|███▌      | 71/200 [15:55<24:20, 11.32s/ID, Latest ID: 121387255]"
     ]
    },
    {
     "name": "stderr",
     "output_type": "stream",
     "text": [
      "\r",
      "Finding valid work IDs:  36%|███▌      | 72/200 [16:09<25:56, 12.16s/ID, Latest ID: 121387255]"
     ]
    },
    {
     "name": "stderr",
     "output_type": "stream",
     "text": [
      "\r",
      "Finding valid work IDs:  36%|███▌      | 72/200 [16:09<25:56, 12.16s/ID, Latest ID: 121387256]"
     ]
    },
    {
     "name": "stderr",
     "output_type": "stream",
     "text": [
      "\r",
      "Finding valid work IDs:  36%|███▋      | 73/200 [16:15<21:26, 10.13s/ID, Latest ID: 121387256]"
     ]
    },
    {
     "name": "stderr",
     "output_type": "stream",
     "text": [
      "\r",
      "Finding valid work IDs:  36%|███▋      | 73/200 [16:15<21:26, 10.13s/ID, Latest ID: 121387257]"
     ]
    },
    {
     "name": "stderr",
     "output_type": "stream",
     "text": [
      "\r",
      "Finding valid work IDs:  37%|███▋      | 74/200 [16:21<19:15,  9.17s/ID, Latest ID: 121387257]"
     ]
    },
    {
     "name": "stderr",
     "output_type": "stream",
     "text": [
      "\r",
      "Finding valid work IDs:  37%|███▋      | 74/200 [16:21<19:15,  9.17s/ID, Latest ID: 121387258]"
     ]
    },
    {
     "name": "stderr",
     "output_type": "stream",
     "text": [
      "\r",
      "Finding valid work IDs:  38%|███▊      | 75/200 [16:34<21:09, 10.16s/ID, Latest ID: 121387258]"
     ]
    },
    {
     "name": "stderr",
     "output_type": "stream",
     "text": [
      "\r",
      "Finding valid work IDs:  38%|███▊      | 75/200 [16:34<21:09, 10.16s/ID, Latest ID: 121387259]"
     ]
    },
    {
     "name": "stderr",
     "output_type": "stream",
     "text": [
      "\r",
      "Finding valid work IDs:  38%|███▊      | 76/200 [16:52<25:45, 12.46s/ID, Latest ID: 121387259]"
     ]
    },
    {
     "name": "stderr",
     "output_type": "stream",
     "text": [
      "\r",
      "Finding valid work IDs:  38%|███▊      | 76/200 [16:52<25:45, 12.46s/ID, Latest ID: 121387261]"
     ]
    },
    {
     "name": "stderr",
     "output_type": "stream",
     "text": [
      "\r",
      "Finding valid work IDs:  38%|███▊      | 77/200 [17:03<25:01, 12.20s/ID, Latest ID: 121387261]"
     ]
    },
    {
     "name": "stderr",
     "output_type": "stream",
     "text": [
      "\r",
      "Finding valid work IDs:  38%|███▊      | 77/200 [17:03<25:01, 12.20s/ID, Latest ID: 121387262]"
     ]
    },
    {
     "name": "stderr",
     "output_type": "stream",
     "text": [
      "\r",
      "Finding valid work IDs:  39%|███▉      | 78/200 [17:11<22:12, 10.92s/ID, Latest ID: 121387262]"
     ]
    },
    {
     "name": "stderr",
     "output_type": "stream",
     "text": [
      "\r",
      "Finding valid work IDs:  39%|███▉      | 78/200 [17:11<22:12, 10.92s/ID, Latest ID: 121387263]"
     ]
    },
    {
     "name": "stderr",
     "output_type": "stream",
     "text": [
      "\r",
      "Finding valid work IDs:  40%|███▉      | 79/200 [17:48<37:33, 18.62s/ID, Latest ID: 121387263]"
     ]
    },
    {
     "name": "stderr",
     "output_type": "stream",
     "text": [
      "\r",
      "Finding valid work IDs:  40%|███▉      | 79/200 [17:48<37:33, 18.62s/ID, Latest ID: 121387266]"
     ]
    },
    {
     "name": "stderr",
     "output_type": "stream",
     "text": [
      "\r",
      "Finding valid work IDs:  40%|████      | 80/200 [18:08<38:19, 19.16s/ID, Latest ID: 121387266]"
     ]
    },
    {
     "name": "stderr",
     "output_type": "stream",
     "text": [
      "\r",
      "Finding valid work IDs:  40%|████      | 80/200 [18:08<38:19, 19.16s/ID, Latest ID: 121387268]"
     ]
    },
    {
     "name": "stderr",
     "output_type": "stream",
     "text": [
      "\r",
      "Finding valid work IDs:  40%|████      | 81/200 [18:16<30:54, 15.59s/ID, Latest ID: 121387268]"
     ]
    },
    {
     "name": "stderr",
     "output_type": "stream",
     "text": [
      "\r",
      "Finding valid work IDs:  40%|████      | 81/200 [18:16<30:54, 15.59s/ID, Latest ID: 121387269]"
     ]
    },
    {
     "name": "stderr",
     "output_type": "stream",
     "text": [
      "\r",
      "Finding valid work IDs:  41%|████      | 82/200 [18:29<29:28, 14.99s/ID, Latest ID: 121387269]"
     ]
    },
    {
     "name": "stderr",
     "output_type": "stream",
     "text": [
      "\r",
      "Finding valid work IDs:  41%|████      | 82/200 [18:29<29:28, 14.99s/ID, Latest ID: 121387270]"
     ]
    },
    {
     "name": "stderr",
     "output_type": "stream",
     "text": [
      "\r",
      "Finding valid work IDs:  42%|████▏     | 83/200 [18:37<25:12, 12.93s/ID, Latest ID: 121387270]"
     ]
    },
    {
     "name": "stderr",
     "output_type": "stream",
     "text": [
      "\r",
      "Finding valid work IDs:  42%|████▏     | 83/200 [18:37<25:12, 12.93s/ID, Latest ID: 121387271]"
     ]
    },
    {
     "name": "stderr",
     "output_type": "stream",
     "text": [
      "\r",
      "Finding valid work IDs:  42%|████▏     | 84/200 [18:45<22:02, 11.40s/ID, Latest ID: 121387271]"
     ]
    },
    {
     "name": "stderr",
     "output_type": "stream",
     "text": [
      "\r",
      "Finding valid work IDs:  42%|████▏     | 84/200 [18:45<22:02, 11.40s/ID, Latest ID: 121387272]"
     ]
    },
    {
     "name": "stderr",
     "output_type": "stream",
     "text": [
      "\r",
      "Finding valid work IDs:  42%|████▎     | 85/200 [18:56<21:37, 11.29s/ID, Latest ID: 121387272]"
     ]
    },
    {
     "name": "stderr",
     "output_type": "stream",
     "text": [
      "\r",
      "Finding valid work IDs:  42%|████▎     | 85/200 [18:56<21:37, 11.29s/ID, Latest ID: 121387273]"
     ]
    },
    {
     "name": "stderr",
     "output_type": "stream",
     "text": [
      "\r",
      "Finding valid work IDs:  43%|████▎     | 86/200 [19:03<18:51,  9.92s/ID, Latest ID: 121387273]"
     ]
    },
    {
     "name": "stderr",
     "output_type": "stream",
     "text": [
      "\r",
      "Finding valid work IDs:  43%|████▎     | 86/200 [19:03<18:51,  9.92s/ID, Latest ID: 121387274]"
     ]
    },
    {
     "name": "stderr",
     "output_type": "stream",
     "text": [
      "\r",
      "Finding valid work IDs:  44%|████▎     | 87/200 [19:14<19:21, 10.28s/ID, Latest ID: 121387274]"
     ]
    },
    {
     "name": "stderr",
     "output_type": "stream",
     "text": [
      "\r",
      "Finding valid work IDs:  44%|████▎     | 87/200 [19:14<19:21, 10.28s/ID, Latest ID: 121387275]"
     ]
    },
    {
     "name": "stderr",
     "output_type": "stream",
     "text": [
      "\r",
      "Finding valid work IDs:  44%|████▍     | 88/200 [19:20<17:01,  9.12s/ID, Latest ID: 121387275]"
     ]
    },
    {
     "name": "stderr",
     "output_type": "stream",
     "text": [
      "\r",
      "Finding valid work IDs:  44%|████▍     | 88/200 [19:20<17:01,  9.12s/ID, Latest ID: 121387276]"
     ]
    },
    {
     "name": "stderr",
     "output_type": "stream",
     "text": [
      "\r",
      "Finding valid work IDs:  44%|████▍     | 89/200 [19:27<15:37,  8.44s/ID, Latest ID: 121387276]"
     ]
    },
    {
     "name": "stderr",
     "output_type": "stream",
     "text": [
      "\r",
      "Finding valid work IDs:  44%|████▍     | 89/200 [19:27<15:37,  8.44s/ID, Latest ID: 121387277]"
     ]
    },
    {
     "name": "stderr",
     "output_type": "stream",
     "text": [
      "\r",
      "Finding valid work IDs:  45%|████▌     | 90/200 [19:37<16:17,  8.89s/ID, Latest ID: 121387277]"
     ]
    },
    {
     "name": "stderr",
     "output_type": "stream",
     "text": [
      "\r",
      "Finding valid work IDs:  45%|████▌     | 90/200 [19:37<16:17,  8.89s/ID, Latest ID: 121387278]"
     ]
    },
    {
     "name": "stderr",
     "output_type": "stream",
     "text": [
      "\r",
      "Finding valid work IDs:  46%|████▌     | 91/200 [19:54<20:42, 11.40s/ID, Latest ID: 121387278]"
     ]
    },
    {
     "name": "stderr",
     "output_type": "stream",
     "text": [
      "\r",
      "Finding valid work IDs:  46%|████▌     | 91/200 [19:54<20:42, 11.40s/ID, Latest ID: 121387280]"
     ]
    },
    {
     "name": "stderr",
     "output_type": "stream",
     "text": [
      "\r",
      "Finding valid work IDs:  46%|████▌     | 92/200 [20:16<25:46, 14.32s/ID, Latest ID: 121387280]"
     ]
    },
    {
     "name": "stderr",
     "output_type": "stream",
     "text": [
      "\r",
      "Finding valid work IDs:  46%|████▌     | 92/200 [20:16<25:46, 14.32s/ID, Latest ID: 121387282]"
     ]
    },
    {
     "name": "stderr",
     "output_type": "stream",
     "text": [
      "\r",
      "Finding valid work IDs:  46%|████▋     | 93/200 [20:36<28:39, 16.07s/ID, Latest ID: 121387282]"
     ]
    },
    {
     "name": "stderr",
     "output_type": "stream",
     "text": [
      "\r",
      "Finding valid work IDs:  46%|████▋     | 93/200 [20:36<28:39, 16.07s/ID, Latest ID: 121387284]"
     ]
    },
    {
     "name": "stderr",
     "output_type": "stream",
     "text": [
      "\r",
      "Finding valid work IDs:  47%|████▋     | 94/200 [20:42<23:21, 13.22s/ID, Latest ID: 121387284]"
     ]
    },
    {
     "name": "stderr",
     "output_type": "stream",
     "text": [
      "\r",
      "Finding valid work IDs:  47%|████▋     | 94/200 [20:42<23:21, 13.22s/ID, Latest ID: 121387285]"
     ]
    },
    {
     "name": "stderr",
     "output_type": "stream",
     "text": [
      "\r",
      "Finding valid work IDs:  48%|████▊     | 95/200 [20:57<23:49, 13.62s/ID, Latest ID: 121387285]"
     ]
    },
    {
     "name": "stderr",
     "output_type": "stream",
     "text": [
      "\r",
      "Finding valid work IDs:  48%|████▊     | 95/200 [20:57<23:49, 13.62s/ID, Latest ID: 121387287]"
     ]
    },
    {
     "name": "stderr",
     "output_type": "stream",
     "text": [
      "\r",
      "Finding valid work IDs:  48%|████▊     | 96/200 [21:06<21:02, 12.14s/ID, Latest ID: 121387287]"
     ]
    },
    {
     "name": "stderr",
     "output_type": "stream",
     "text": [
      "\r",
      "Finding valid work IDs:  48%|████▊     | 96/200 [21:06<21:02, 12.14s/ID, Latest ID: 121387288]"
     ]
    },
    {
     "name": "stderr",
     "output_type": "stream",
     "text": [
      "\r",
      "Finding valid work IDs:  48%|████▊     | 97/200 [21:27<25:50, 15.06s/ID, Latest ID: 121387288]"
     ]
    },
    {
     "name": "stderr",
     "output_type": "stream",
     "text": [
      "\r",
      "Finding valid work IDs:  48%|████▊     | 97/200 [21:27<25:50, 15.06s/ID, Latest ID: 121387290]"
     ]
    },
    {
     "name": "stderr",
     "output_type": "stream",
     "text": [
      "\r",
      "Finding valid work IDs:  49%|████▉     | 98/200 [21:37<22:51, 13.45s/ID, Latest ID: 121387290]"
     ]
    },
    {
     "name": "stderr",
     "output_type": "stream",
     "text": [
      "\r",
      "Finding valid work IDs:  49%|████▉     | 98/200 [21:37<22:51, 13.45s/ID, Latest ID: 121387291]"
     ]
    },
    {
     "name": "stderr",
     "output_type": "stream",
     "text": [
      "\r",
      "Finding valid work IDs:  50%|████▉     | 99/200 [21:52<23:22, 13.88s/ID, Latest ID: 121387291]"
     ]
    },
    {
     "name": "stderr",
     "output_type": "stream",
     "text": [
      "\r",
      "Finding valid work IDs:  50%|████▉     | 99/200 [21:52<23:22, 13.88s/ID, Latest ID: 121387292]"
     ]
    },
    {
     "name": "stderr",
     "output_type": "stream",
     "text": [
      "\r",
      "Finding valid work IDs:  50%|█████     | 100/200 [21:59<19:44, 11.84s/ID, Latest ID: 121387292]"
     ]
    },
    {
     "name": "stderr",
     "output_type": "stream",
     "text": [
      "\r",
      "Finding valid work IDs:  50%|█████     | 100/200 [21:59<19:44, 11.84s/ID, Latest ID: 121387293]"
     ]
    },
    {
     "name": "stderr",
     "output_type": "stream",
     "text": [
      "\r",
      "Finding valid work IDs:  50%|█████     | 101/200 [22:10<18:58, 11.50s/ID, Latest ID: 121387293]"
     ]
    },
    {
     "name": "stderr",
     "output_type": "stream",
     "text": [
      "\r",
      "Finding valid work IDs:  50%|█████     | 101/200 [22:10<18:58, 11.50s/ID, Latest ID: 121387294]"
     ]
    },
    {
     "name": "stderr",
     "output_type": "stream",
     "text": [
      "\r",
      "Finding valid work IDs:  51%|█████     | 102/200 [22:41<28:31, 17.46s/ID, Latest ID: 121387294]"
     ]
    },
    {
     "name": "stderr",
     "output_type": "stream",
     "text": [
      "\r",
      "Finding valid work IDs:  51%|█████     | 102/200 [22:41<28:31, 17.46s/ID, Latest ID: 121387297]"
     ]
    },
    {
     "name": "stderr",
     "output_type": "stream",
     "text": [
      "\r",
      "Finding valid work IDs:  52%|█████▏    | 103/200 [22:52<24:58, 15.45s/ID, Latest ID: 121387297]"
     ]
    },
    {
     "name": "stderr",
     "output_type": "stream",
     "text": [
      "\r",
      "Finding valid work IDs:  52%|█████▏    | 103/200 [22:52<24:58, 15.45s/ID, Latest ID: 121387298]"
     ]
    },
    {
     "name": "stderr",
     "output_type": "stream",
     "text": [
      "\r",
      "Finding valid work IDs:  52%|█████▏    | 104/200 [23:01<21:41, 13.56s/ID, Latest ID: 121387298]"
     ]
    },
    {
     "name": "stderr",
     "output_type": "stream",
     "text": [
      "\r",
      "Finding valid work IDs:  52%|█████▏    | 104/200 [23:01<21:41, 13.56s/ID, Latest ID: 121387299]"
     ]
    },
    {
     "name": "stderr",
     "output_type": "stream",
     "text": [
      "\r",
      "Finding valid work IDs:  52%|█████▎    | 105/200 [23:21<24:37, 15.55s/ID, Latest ID: 121387299]"
     ]
    },
    {
     "name": "stderr",
     "output_type": "stream",
     "text": [
      "\r",
      "Finding valid work IDs:  52%|█████▎    | 105/200 [23:21<24:37, 15.55s/ID, Latest ID: 121387301]"
     ]
    },
    {
     "name": "stderr",
     "output_type": "stream",
     "text": [
      "\r",
      "Finding valid work IDs:  53%|█████▎    | 106/200 [23:28<20:07, 12.85s/ID, Latest ID: 121387301]"
     ]
    },
    {
     "name": "stderr",
     "output_type": "stream",
     "text": [
      "\r",
      "Finding valid work IDs:  53%|█████▎    | 106/200 [23:28<20:07, 12.85s/ID, Latest ID: 121387302]"
     ]
    },
    {
     "name": "stderr",
     "output_type": "stream",
     "text": [
      "\r",
      "Finding valid work IDs:  54%|█████▎    | 107/200 [23:35<17:16, 11.14s/ID, Latest ID: 121387302]"
     ]
    },
    {
     "name": "stderr",
     "output_type": "stream",
     "text": [
      "\r",
      "Finding valid work IDs:  54%|█████▎    | 107/200 [23:35<17:16, 11.14s/ID, Latest ID: 121387303]"
     ]
    },
    {
     "name": "stderr",
     "output_type": "stream",
     "text": [
      "\r",
      "Finding valid work IDs:  54%|█████▍    | 108/200 [23:42<15:22, 10.03s/ID, Latest ID: 121387303]"
     ]
    },
    {
     "name": "stderr",
     "output_type": "stream",
     "text": [
      "\r",
      "Finding valid work IDs:  54%|█████▍    | 108/200 [23:42<15:22, 10.03s/ID, Latest ID: 121387304]"
     ]
    },
    {
     "name": "stderr",
     "output_type": "stream",
     "text": [
      "\r",
      "Finding valid work IDs:  55%|█████▍    | 109/200 [23:58<17:35, 11.60s/ID, Latest ID: 121387304]"
     ]
    },
    {
     "name": "stderr",
     "output_type": "stream",
     "text": [
      "\r",
      "Finding valid work IDs:  55%|█████▍    | 109/200 [23:58<17:35, 11.60s/ID, Latest ID: 121387305]"
     ]
    },
    {
     "name": "stderr",
     "output_type": "stream",
     "text": [
      "\r",
      "Finding valid work IDs:  55%|█████▌    | 110/200 [24:24<23:50, 15.90s/ID, Latest ID: 121387305]"
     ]
    },
    {
     "name": "stderr",
     "output_type": "stream",
     "text": [
      "\r",
      "Finding valid work IDs:  55%|█████▌    | 110/200 [24:24<23:50, 15.90s/ID, Latest ID: 121387308]"
     ]
    },
    {
     "name": "stderr",
     "output_type": "stream",
     "text": [
      "\r",
      "Finding valid work IDs:  56%|█████▌    | 111/200 [24:30<19:18, 13.02s/ID, Latest ID: 121387308]"
     ]
    },
    {
     "name": "stderr",
     "output_type": "stream",
     "text": [
      "\r",
      "Finding valid work IDs:  56%|█████▌    | 111/200 [24:30<19:18, 13.02s/ID, Latest ID: 121387309]"
     ]
    },
    {
     "name": "stderr",
     "output_type": "stream",
     "text": [
      "\r",
      "Finding valid work IDs:  56%|█████▌    | 112/200 [24:41<18:21, 12.52s/ID, Latest ID: 121387309]"
     ]
    },
    {
     "name": "stderr",
     "output_type": "stream",
     "text": [
      "\r",
      "Finding valid work IDs:  56%|█████▌    | 112/200 [24:41<18:21, 12.52s/ID, Latest ID: 121387310]"
     ]
    },
    {
     "name": "stderr",
     "output_type": "stream",
     "text": [
      "\r",
      "Finding valid work IDs:  56%|█████▋    | 113/200 [24:56<19:17, 13.30s/ID, Latest ID: 121387310]"
     ]
    },
    {
     "name": "stderr",
     "output_type": "stream",
     "text": [
      "\r",
      "Finding valid work IDs:  56%|█████▋    | 113/200 [24:56<19:17, 13.30s/ID, Latest ID: 121387311]"
     ]
    },
    {
     "name": "stderr",
     "output_type": "stream",
     "text": [
      "\r",
      "Finding valid work IDs:  57%|█████▋    | 114/200 [25:12<19:53, 13.88s/ID, Latest ID: 121387311]"
     ]
    },
    {
     "name": "stderr",
     "output_type": "stream",
     "text": [
      "\r",
      "Finding valid work IDs:  57%|█████▋    | 114/200 [25:12<19:53, 13.88s/ID, Latest ID: 121387312]"
     ]
    },
    {
     "name": "stderr",
     "output_type": "stream",
     "text": [
      "\r",
      "Finding valid work IDs:  57%|█████▊    | 115/200 [25:26<19:59, 14.11s/ID, Latest ID: 121387312]"
     ]
    },
    {
     "name": "stderr",
     "output_type": "stream",
     "text": [
      "\r",
      "Finding valid work IDs:  57%|█████▊    | 115/200 [25:26<19:59, 14.11s/ID, Latest ID: 121387313]"
     ]
    },
    {
     "name": "stderr",
     "output_type": "stream",
     "text": [
      "\r",
      "Finding valid work IDs:  58%|█████▊    | 116/200 [25:59<27:47, 19.85s/ID, Latest ID: 121387313]"
     ]
    },
    {
     "name": "stderr",
     "output_type": "stream",
     "text": [
      "\r",
      "Finding valid work IDs:  58%|█████▊    | 116/200 [25:59<27:47, 19.85s/ID, Latest ID: 121387317]"
     ]
    },
    {
     "name": "stderr",
     "output_type": "stream",
     "text": [
      "\r",
      "Finding valid work IDs:  58%|█████▊    | 117/200 [26:37<34:41, 25.08s/ID, Latest ID: 121387317]"
     ]
    },
    {
     "name": "stderr",
     "output_type": "stream",
     "text": [
      "\r",
      "Finding valid work IDs:  58%|█████▊    | 117/200 [26:37<34:41, 25.08s/ID, Latest ID: 121387321]"
     ]
    },
    {
     "name": "stderr",
     "output_type": "stream",
     "text": [
      "\r",
      "Finding valid work IDs:  59%|█████▉    | 118/200 [26:48<28:35, 20.93s/ID, Latest ID: 121387321]"
     ]
    },
    {
     "name": "stderr",
     "output_type": "stream",
     "text": [
      "\r",
      "Finding valid work IDs:  59%|█████▉    | 118/200 [26:48<28:35, 20.93s/ID, Latest ID: 121387322]"
     ]
    },
    {
     "name": "stderr",
     "output_type": "stream",
     "text": [
      "\r",
      "Finding valid work IDs:  60%|█████▉    | 119/200 [27:08<27:46, 20.57s/ID, Latest ID: 121387322]"
     ]
    },
    {
     "name": "stderr",
     "output_type": "stream",
     "text": [
      "\r",
      "Finding valid work IDs:  60%|█████▉    | 119/200 [27:08<27:46, 20.57s/ID, Latest ID: 121387324]"
     ]
    },
    {
     "name": "stderr",
     "output_type": "stream",
     "text": [
      "\r",
      "Finding valid work IDs:  60%|██████    | 120/200 [27:21<24:29, 18.36s/ID, Latest ID: 121387324]"
     ]
    },
    {
     "name": "stderr",
     "output_type": "stream",
     "text": [
      "\r",
      "Finding valid work IDs:  60%|██████    | 120/200 [27:21<24:29, 18.36s/ID, Latest ID: 121387325]"
     ]
    },
    {
     "name": "stderr",
     "output_type": "stream",
     "text": [
      "\r",
      "Finding valid work IDs:  60%|██████    | 121/200 [27:36<22:43, 17.26s/ID, Latest ID: 121387325]"
     ]
    },
    {
     "name": "stderr",
     "output_type": "stream",
     "text": [
      "\r",
      "Finding valid work IDs:  60%|██████    | 121/200 [27:36<22:43, 17.26s/ID, Latest ID: 121387326]"
     ]
    },
    {
     "name": "stderr",
     "output_type": "stream",
     "text": [
      "\r",
      "Finding valid work IDs:  61%|██████    | 122/200 [27:41<17:51, 13.73s/ID, Latest ID: 121387326]"
     ]
    },
    {
     "name": "stderr",
     "output_type": "stream",
     "text": [
      "\r",
      "Finding valid work IDs:  61%|██████    | 122/200 [27:41<17:51, 13.73s/ID, Latest ID: 121387327]"
     ]
    },
    {
     "name": "stderr",
     "output_type": "stream",
     "text": [
      "\r",
      "Finding valid work IDs:  62%|██████▏   | 123/200 [27:55<17:42, 13.79s/ID, Latest ID: 121387327]"
     ]
    },
    {
     "name": "stderr",
     "output_type": "stream",
     "text": [
      "\r",
      "Finding valid work IDs:  62%|██████▏   | 123/200 [27:55<17:42, 13.79s/ID, Latest ID: 121387328]"
     ]
    },
    {
     "name": "stderr",
     "output_type": "stream",
     "text": [
      "\r",
      "Finding valid work IDs:  62%|██████▏   | 124/200 [28:06<16:29, 13.02s/ID, Latest ID: 121387328]"
     ]
    },
    {
     "name": "stderr",
     "output_type": "stream",
     "text": [
      "\r",
      "Finding valid work IDs:  62%|██████▏   | 124/200 [28:06<16:29, 13.02s/ID, Latest ID: 121387329]"
     ]
    },
    {
     "name": "stderr",
     "output_type": "stream",
     "text": [
      "\r",
      "Finding valid work IDs:  62%|██████▎   | 125/200 [28:19<16:05, 12.87s/ID, Latest ID: 121387329]"
     ]
    },
    {
     "name": "stderr",
     "output_type": "stream",
     "text": [
      "\r",
      "Finding valid work IDs:  62%|██████▎   | 125/200 [28:19<16:05, 12.87s/ID, Latest ID: 121387330]"
     ]
    },
    {
     "name": "stderr",
     "output_type": "stream",
     "text": [
      "\r",
      "Finding valid work IDs:  63%|██████▎   | 126/200 [28:36<17:28, 14.16s/ID, Latest ID: 121387330]"
     ]
    },
    {
     "name": "stderr",
     "output_type": "stream",
     "text": [
      "\r",
      "Finding valid work IDs:  63%|██████▎   | 126/200 [28:36<17:28, 14.16s/ID, Latest ID: 121387332]"
     ]
    },
    {
     "name": "stderr",
     "output_type": "stream",
     "text": [
      "\r",
      "Finding valid work IDs:  64%|██████▎   | 127/200 [29:17<26:51, 22.07s/ID, Latest ID: 121387332]"
     ]
    },
    {
     "name": "stderr",
     "output_type": "stream",
     "text": [
      "\r",
      "Finding valid work IDs:  64%|██████▎   | 127/200 [29:17<26:51, 22.07s/ID, Latest ID: 121387335]"
     ]
    },
    {
     "name": "stderr",
     "output_type": "stream",
     "text": [
      "\r",
      "Finding valid work IDs:  64%|██████▍   | 128/200 [29:23<20:53, 17.41s/ID, Latest ID: 121387335]"
     ]
    },
    {
     "name": "stderr",
     "output_type": "stream",
     "text": [
      "\r",
      "Finding valid work IDs:  64%|██████▍   | 128/200 [29:23<20:53, 17.41s/ID, Latest ID: 121387336]"
     ]
    },
    {
     "name": "stderr",
     "output_type": "stream",
     "text": [
      "\r",
      "Finding valid work IDs:  64%|██████▍   | 129/200 [29:34<18:21, 15.51s/ID, Latest ID: 121387336]"
     ]
    },
    {
     "name": "stderr",
     "output_type": "stream",
     "text": [
      "\r",
      "Finding valid work IDs:  64%|██████▍   | 129/200 [29:34<18:21, 15.51s/ID, Latest ID: 121387337]"
     ]
    },
    {
     "name": "stderr",
     "output_type": "stream",
     "text": [
      "\r",
      "Finding valid work IDs:  65%|██████▌   | 130/200 [29:43<15:36, 13.37s/ID, Latest ID: 121387337]"
     ]
    },
    {
     "name": "stderr",
     "output_type": "stream",
     "text": [
      "\r",
      "Finding valid work IDs:  65%|██████▌   | 130/200 [29:43<15:36, 13.37s/ID, Latest ID: 121387338]"
     ]
    },
    {
     "name": "stderr",
     "output_type": "stream",
     "text": [
      "\r",
      "Finding valid work IDs:  66%|██████▌   | 131/200 [30:00<16:49, 14.63s/ID, Latest ID: 121387338]"
     ]
    },
    {
     "name": "stderr",
     "output_type": "stream",
     "text": [
      "\r",
      "Finding valid work IDs:  66%|██████▌   | 131/200 [30:00<16:49, 14.63s/ID, Latest ID: 121387340]"
     ]
    },
    {
     "name": "stderr",
     "output_type": "stream",
     "text": [
      "\r",
      "Finding valid work IDs:  66%|██████▌   | 132/200 [30:11<15:23, 13.58s/ID, Latest ID: 121387340]"
     ]
    },
    {
     "name": "stderr",
     "output_type": "stream",
     "text": [
      "\r",
      "Finding valid work IDs:  66%|██████▌   | 132/200 [30:11<15:23, 13.58s/ID, Latest ID: 121387342]"
     ]
    },
    {
     "name": "stderr",
     "output_type": "stream",
     "text": [
      "\r",
      "Finding valid work IDs:  66%|██████▋   | 133/200 [30:24<14:53, 13.33s/ID, Latest ID: 121387342]"
     ]
    },
    {
     "name": "stderr",
     "output_type": "stream",
     "text": [
      "\r",
      "Finding valid work IDs:  66%|██████▋   | 133/200 [30:24<14:53, 13.33s/ID, Latest ID: 121387344]"
     ]
    },
    {
     "name": "stderr",
     "output_type": "stream",
     "text": [
      "\r",
      "Finding valid work IDs:  67%|██████▋   | 134/200 [30:30<12:18, 11.19s/ID, Latest ID: 121387344]"
     ]
    },
    {
     "name": "stderr",
     "output_type": "stream",
     "text": [
      "\r",
      "Finding valid work IDs:  67%|██████▋   | 134/200 [30:30<12:18, 11.19s/ID, Latest ID: 121387345]"
     ]
    },
    {
     "name": "stderr",
     "output_type": "stream",
     "text": [
      "\r",
      "Finding valid work IDs:  68%|██████▊   | 135/200 [30:36<10:16,  9.49s/ID, Latest ID: 121387345]"
     ]
    },
    {
     "name": "stderr",
     "output_type": "stream",
     "text": [
      "\r",
      "Finding valid work IDs:  68%|██████▊   | 135/200 [30:36<10:16,  9.49s/ID, Latest ID: 121387346]"
     ]
    },
    {
     "name": "stderr",
     "output_type": "stream",
     "text": [
      "\r",
      "Finding valid work IDs:  68%|██████▊   | 136/200 [30:43<09:16,  8.69s/ID, Latest ID: 121387346]"
     ]
    },
    {
     "name": "stderr",
     "output_type": "stream",
     "text": [
      "\r",
      "Finding valid work IDs:  68%|██████▊   | 136/200 [30:43<09:16,  8.69s/ID, Latest ID: 121387347]"
     ]
    },
    {
     "name": "stderr",
     "output_type": "stream",
     "text": [
      "\r",
      "Finding valid work IDs:  68%|██████▊   | 137/200 [30:58<11:10, 10.64s/ID, Latest ID: 121387347]"
     ]
    },
    {
     "name": "stderr",
     "output_type": "stream",
     "text": [
      "\r",
      "Finding valid work IDs:  68%|██████▊   | 137/200 [30:58<11:10, 10.64s/ID, Latest ID: 121387348]"
     ]
    },
    {
     "name": "stderr",
     "output_type": "stream",
     "text": [
      "\r",
      "Finding valid work IDs:  69%|██████▉   | 138/200 [31:04<09:39,  9.34s/ID, Latest ID: 121387348]"
     ]
    },
    {
     "name": "stderr",
     "output_type": "stream",
     "text": [
      "\r",
      "Finding valid work IDs:  69%|██████▉   | 138/200 [31:04<09:39,  9.34s/ID, Latest ID: 121387349]"
     ]
    },
    {
     "name": "stderr",
     "output_type": "stream",
     "text": [
      "\r",
      "Finding valid work IDs:  70%|██████▉   | 139/200 [31:32<15:17, 15.05s/ID, Latest ID: 121387349]"
     ]
    },
    {
     "name": "stderr",
     "output_type": "stream",
     "text": [
      "\r",
      "Finding valid work IDs:  70%|██████▉   | 139/200 [31:32<15:17, 15.05s/ID, Latest ID: 121387351]"
     ]
    },
    {
     "name": "stderr",
     "output_type": "stream",
     "text": [
      "\r",
      "Finding valid work IDs:  70%|███████   | 140/200 [31:45<14:24, 14.41s/ID, Latest ID: 121387351]"
     ]
    },
    {
     "name": "stderr",
     "output_type": "stream",
     "text": [
      "\r",
      "Finding valid work IDs:  70%|███████   | 140/200 [31:45<14:24, 14.41s/ID, Latest ID: 121387352]"
     ]
    },
    {
     "name": "stderr",
     "output_type": "stream",
     "text": [
      "\r",
      "Finding valid work IDs:  70%|███████   | 141/200 [32:00<14:17, 14.54s/ID, Latest ID: 121387352]"
     ]
    },
    {
     "name": "stderr",
     "output_type": "stream",
     "text": [
      "\r",
      "Finding valid work IDs:  70%|███████   | 141/200 [32:00<14:17, 14.54s/ID, Latest ID: 121387353]"
     ]
    },
    {
     "name": "stderr",
     "output_type": "stream",
     "text": [
      "\r",
      "Finding valid work IDs:  71%|███████   | 142/200 [32:14<13:52, 14.36s/ID, Latest ID: 121387353]"
     ]
    },
    {
     "name": "stderr",
     "output_type": "stream",
     "text": [
      "\r",
      "Finding valid work IDs:  71%|███████   | 142/200 [32:14<13:52, 14.36s/ID, Latest ID: 121387354]"
     ]
    },
    {
     "name": "stderr",
     "output_type": "stream",
     "text": [
      "\r",
      "Finding valid work IDs:  72%|███████▏  | 143/200 [32:21<11:34, 12.19s/ID, Latest ID: 121387354]"
     ]
    },
    {
     "name": "stderr",
     "output_type": "stream",
     "text": [
      "\r",
      "Finding valid work IDs:  72%|███████▏  | 143/200 [32:21<11:34, 12.19s/ID, Latest ID: 121387355]"
     ]
    },
    {
     "name": "stderr",
     "output_type": "stream",
     "text": [
      "\r",
      "Finding valid work IDs:  72%|███████▏  | 144/200 [32:32<11:02, 11.83s/ID, Latest ID: 121387355]"
     ]
    },
    {
     "name": "stderr",
     "output_type": "stream",
     "text": [
      "\r",
      "Finding valid work IDs:  72%|███████▏  | 144/200 [32:32<11:02, 11.83s/ID, Latest ID: 121387356]"
     ]
    },
    {
     "name": "stderr",
     "output_type": "stream",
     "text": [
      "\r",
      "Finding valid work IDs:  72%|███████▎  | 145/200 [32:46<11:27, 12.51s/ID, Latest ID: 121387356]"
     ]
    },
    {
     "name": "stderr",
     "output_type": "stream",
     "text": [
      "\r",
      "Finding valid work IDs:  72%|███████▎  | 145/200 [32:46<11:27, 12.51s/ID, Latest ID: 121387357]"
     ]
    },
    {
     "name": "stderr",
     "output_type": "stream",
     "text": [
      "\r",
      "Finding valid work IDs:  73%|███████▎  | 146/200 [33:00<11:35, 12.88s/ID, Latest ID: 121387357]"
     ]
    },
    {
     "name": "stderr",
     "output_type": "stream",
     "text": [
      "\r",
      "Finding valid work IDs:  73%|███████▎  | 146/200 [33:00<11:35, 12.88s/ID, Latest ID: 121387358]"
     ]
    },
    {
     "name": "stderr",
     "output_type": "stream",
     "text": [
      "\r",
      "Finding valid work IDs:  74%|███████▎  | 147/200 [33:10<10:30, 11.89s/ID, Latest ID: 121387358]"
     ]
    },
    {
     "name": "stderr",
     "output_type": "stream",
     "text": [
      "\r",
      "Finding valid work IDs:  74%|███████▎  | 147/200 [33:10<10:30, 11.89s/ID, Latest ID: 121387359]"
     ]
    },
    {
     "name": "stderr",
     "output_type": "stream",
     "text": [
      "\r",
      "Finding valid work IDs:  74%|███████▍  | 148/200 [33:18<09:28, 10.94s/ID, Latest ID: 121387359]"
     ]
    },
    {
     "name": "stderr",
     "output_type": "stream",
     "text": [
      "\r",
      "Finding valid work IDs:  74%|███████▍  | 148/200 [33:18<09:28, 10.94s/ID, Latest ID: 121387360]"
     ]
    },
    {
     "name": "stderr",
     "output_type": "stream",
     "text": [
      "\r",
      "Finding valid work IDs:  74%|███████▍  | 149/200 [33:33<10:18, 12.13s/ID, Latest ID: 121387360]"
     ]
    },
    {
     "name": "stderr",
     "output_type": "stream",
     "text": [
      "\r",
      "Finding valid work IDs:  74%|███████▍  | 149/200 [33:33<10:18, 12.13s/ID, Latest ID: 121387361]"
     ]
    },
    {
     "name": "stderr",
     "output_type": "stream",
     "text": [
      "\r",
      "Finding valid work IDs:  75%|███████▌  | 150/200 [33:42<09:15, 11.12s/ID, Latest ID: 121387361]"
     ]
    },
    {
     "name": "stderr",
     "output_type": "stream",
     "text": [
      "\r",
      "Finding valid work IDs:  75%|███████▌  | 150/200 [33:42<09:15, 11.12s/ID, Latest ID: 121387362]"
     ]
    },
    {
     "name": "stderr",
     "output_type": "stream",
     "text": [
      "\r",
      "Finding valid work IDs:  76%|███████▌  | 151/200 [33:59<10:28, 12.83s/ID, Latest ID: 121387362]"
     ]
    },
    {
     "name": "stderr",
     "output_type": "stream",
     "text": [
      "\r",
      "Finding valid work IDs:  76%|███████▌  | 151/200 [33:59<10:28, 12.83s/ID, Latest ID: 121387364]"
     ]
    },
    {
     "name": "stderr",
     "output_type": "stream",
     "text": [
      "\r",
      "Finding valid work IDs:  76%|███████▌  | 152/200 [34:10<09:48, 12.27s/ID, Latest ID: 121387364]"
     ]
    },
    {
     "name": "stderr",
     "output_type": "stream",
     "text": [
      "\r",
      "Finding valid work IDs:  76%|███████▌  | 152/200 [34:10<09:48, 12.27s/ID, Latest ID: 121387365]"
     ]
    },
    {
     "name": "stderr",
     "output_type": "stream",
     "text": [
      "\r",
      "Finding valid work IDs:  76%|███████▋  | 153/200 [34:19<08:56, 11.42s/ID, Latest ID: 121387365]"
     ]
    },
    {
     "name": "stderr",
     "output_type": "stream",
     "text": [
      "\r",
      "Finding valid work IDs:  76%|███████▋  | 153/200 [34:19<08:56, 11.42s/ID, Latest ID: 121387366]"
     ]
    },
    {
     "name": "stderr",
     "output_type": "stream",
     "text": [
      "\r",
      "Finding valid work IDs:  77%|███████▋  | 154/200 [34:35<09:49, 12.81s/ID, Latest ID: 121387366]"
     ]
    },
    {
     "name": "stderr",
     "output_type": "stream",
     "text": [
      "\r",
      "Finding valid work IDs:  77%|███████▋  | 154/200 [34:35<09:49, 12.81s/ID, Latest ID: 121387367]"
     ]
    },
    {
     "name": "stderr",
     "output_type": "stream",
     "text": [
      "\r",
      "Finding valid work IDs:  78%|███████▊  | 155/200 [34:47<09:26, 12.60s/ID, Latest ID: 121387367]"
     ]
    },
    {
     "name": "stderr",
     "output_type": "stream",
     "text": [
      "\r",
      "Finding valid work IDs:  78%|███████▊  | 155/200 [34:47<09:26, 12.60s/ID, Latest ID: 121387369]"
     ]
    },
    {
     "name": "stderr",
     "output_type": "stream",
     "text": [
      "\r",
      "Finding valid work IDs:  78%|███████▊  | 156/200 [34:57<08:31, 11.62s/ID, Latest ID: 121387369]"
     ]
    },
    {
     "name": "stderr",
     "output_type": "stream",
     "text": [
      "\r",
      "Finding valid work IDs:  78%|███████▊  | 156/200 [34:57<08:31, 11.62s/ID, Latest ID: 121387370]"
     ]
    },
    {
     "name": "stderr",
     "output_type": "stream",
     "text": [
      "\r",
      "Finding valid work IDs:  78%|███████▊  | 157/200 [35:26<12:09, 16.96s/ID, Latest ID: 121387370]"
     ]
    },
    {
     "name": "stderr",
     "output_type": "stream",
     "text": [
      "\r",
      "Finding valid work IDs:  78%|███████▊  | 157/200 [35:26<12:09, 16.96s/ID, Latest ID: 121387373]"
     ]
    },
    {
     "name": "stderr",
     "output_type": "stream",
     "text": [
      "\r",
      "Finding valid work IDs:  79%|███████▉  | 158/200 [35:38<10:49, 15.46s/ID, Latest ID: 121387373]"
     ]
    },
    {
     "name": "stderr",
     "output_type": "stream",
     "text": [
      "\r",
      "Finding valid work IDs:  79%|███████▉  | 158/200 [35:38<10:49, 15.46s/ID, Latest ID: 121387374]"
     ]
    },
    {
     "name": "stderr",
     "output_type": "stream",
     "text": [
      "\r",
      "Finding valid work IDs:  80%|███████▉  | 159/200 [35:48<09:20, 13.66s/ID, Latest ID: 121387374]"
     ]
    },
    {
     "name": "stderr",
     "output_type": "stream",
     "text": [
      "\r",
      "Finding valid work IDs:  80%|███████▉  | 159/200 [35:48<09:20, 13.66s/ID, Latest ID: 121387375]"
     ]
    },
    {
     "name": "stderr",
     "output_type": "stream",
     "text": [
      "\r",
      "Finding valid work IDs:  80%|████████  | 160/200 [36:09<10:39, 15.99s/ID, Latest ID: 121387375]"
     ]
    },
    {
     "name": "stderr",
     "output_type": "stream",
     "text": [
      "\r",
      "Finding valid work IDs:  80%|████████  | 160/200 [36:09<10:39, 15.99s/ID, Latest ID: 121387377]"
     ]
    },
    {
     "name": "stderr",
     "output_type": "stream",
     "text": [
      "\r",
      "Finding valid work IDs:  80%|████████  | 161/200 [36:16<08:34, 13.20s/ID, Latest ID: 121387377]"
     ]
    },
    {
     "name": "stderr",
     "output_type": "stream",
     "text": [
      "\r",
      "Finding valid work IDs:  80%|████████  | 161/200 [36:16<08:34, 13.20s/ID, Latest ID: 121387378]"
     ]
    },
    {
     "name": "stderr",
     "output_type": "stream",
     "text": [
      "\r",
      "Finding valid work IDs:  81%|████████  | 162/200 [36:30<08:36, 13.60s/ID, Latest ID: 121387378]"
     ]
    },
    {
     "name": "stderr",
     "output_type": "stream",
     "text": [
      "\r",
      "Finding valid work IDs:  81%|████████  | 162/200 [36:30<08:36, 13.60s/ID, Latest ID: 121387379]"
     ]
    },
    {
     "name": "stderr",
     "output_type": "stream",
     "text": [
      "\r",
      "Finding valid work IDs:  82%|████████▏ | 163/200 [36:36<06:54, 11.20s/ID, Latest ID: 121387379]"
     ]
    },
    {
     "name": "stderr",
     "output_type": "stream",
     "text": [
      "\r",
      "Finding valid work IDs:  82%|████████▏ | 163/200 [36:36<06:54, 11.20s/ID, Latest ID: 121387380]"
     ]
    },
    {
     "name": "stderr",
     "output_type": "stream",
     "text": [
      "\r",
      "Finding valid work IDs:  82%|████████▏ | 164/200 [36:44<06:09, 10.25s/ID, Latest ID: 121387380]"
     ]
    },
    {
     "name": "stderr",
     "output_type": "stream",
     "text": [
      "\r",
      "Finding valid work IDs:  82%|████████▏ | 164/200 [36:44<06:09, 10.25s/ID, Latest ID: 121387381]"
     ]
    },
    {
     "name": "stderr",
     "output_type": "stream",
     "text": [
      "\r",
      "Finding valid work IDs:  82%|████████▎ | 165/200 [36:56<06:15, 10.73s/ID, Latest ID: 121387381]"
     ]
    },
    {
     "name": "stderr",
     "output_type": "stream",
     "text": [
      "\r",
      "Finding valid work IDs:  82%|████████▎ | 165/200 [36:56<06:15, 10.73s/ID, Latest ID: 121387382]"
     ]
    },
    {
     "name": "stderr",
     "output_type": "stream",
     "text": [
      "\r",
      "Finding valid work IDs:  83%|████████▎ | 166/200 [37:05<05:48, 10.26s/ID, Latest ID: 121387382]"
     ]
    },
    {
     "name": "stderr",
     "output_type": "stream",
     "text": [
      "\r",
      "Finding valid work IDs:  83%|████████▎ | 166/200 [37:05<05:48, 10.26s/ID, Latest ID: 121387383]"
     ]
    },
    {
     "name": "stderr",
     "output_type": "stream",
     "text": [
      "\r",
      "Finding valid work IDs:  84%|████████▎ | 167/200 [37:20<06:27, 11.74s/ID, Latest ID: 121387383]"
     ]
    },
    {
     "name": "stderr",
     "output_type": "stream",
     "text": [
      "\r",
      "Finding valid work IDs:  84%|████████▎ | 167/200 [37:20<06:27, 11.74s/ID, Latest ID: 121387384]"
     ]
    },
    {
     "name": "stderr",
     "output_type": "stream",
     "text": [
      "\r",
      "Finding valid work IDs:  84%|████████▍ | 168/200 [37:41<07:48, 14.64s/ID, Latest ID: 121387384]"
     ]
    },
    {
     "name": "stderr",
     "output_type": "stream",
     "text": [
      "\r",
      "Finding valid work IDs:  84%|████████▍ | 168/200 [37:41<07:48, 14.64s/ID, Latest ID: 121387386]"
     ]
    },
    {
     "name": "stderr",
     "output_type": "stream",
     "text": [
      "\r",
      "Finding valid work IDs:  84%|████████▍ | 169/200 [38:08<09:27, 18.32s/ID, Latest ID: 121387386]"
     ]
    },
    {
     "name": "stderr",
     "output_type": "stream",
     "text": [
      "\r",
      "Finding valid work IDs:  84%|████████▍ | 169/200 [38:08<09:27, 18.32s/ID, Latest ID: 121387388]"
     ]
    },
    {
     "name": "stderr",
     "output_type": "stream",
     "text": [
      "\r",
      "Finding valid work IDs:  85%|████████▌ | 170/200 [38:33<10:03, 20.12s/ID, Latest ID: 121387388]"
     ]
    },
    {
     "name": "stderr",
     "output_type": "stream",
     "text": [
      "\r",
      "Finding valid work IDs:  85%|████████▌ | 170/200 [38:33<10:03, 20.12s/ID, Latest ID: 121387390]"
     ]
    },
    {
     "name": "stderr",
     "output_type": "stream",
     "text": [
      "\r",
      "Finding valid work IDs:  86%|████████▌ | 171/200 [38:38<07:38, 15.83s/ID, Latest ID: 121387390]"
     ]
    },
    {
     "name": "stderr",
     "output_type": "stream",
     "text": [
      "\r",
      "Finding valid work IDs:  86%|████████▌ | 171/200 [38:38<07:38, 15.83s/ID, Latest ID: 121387391]"
     ]
    },
    {
     "name": "stderr",
     "output_type": "stream",
     "text": [
      "\r",
      "Finding valid work IDs:  86%|████████▌ | 172/200 [38:48<06:26, 13.79s/ID, Latest ID: 121387391]"
     ]
    },
    {
     "name": "stderr",
     "output_type": "stream",
     "text": [
      "\r",
      "Finding valid work IDs:  86%|████████▌ | 172/200 [38:48<06:26, 13.79s/ID, Latest ID: 121387392]"
     ]
    },
    {
     "name": "stderr",
     "output_type": "stream",
     "text": [
      "\r",
      "Finding valid work IDs:  86%|████████▋ | 173/200 [38:56<05:30, 12.24s/ID, Latest ID: 121387392]"
     ]
    },
    {
     "name": "stderr",
     "output_type": "stream",
     "text": [
      "\r",
      "Finding valid work IDs:  86%|████████▋ | 173/200 [38:56<05:30, 12.24s/ID, Latest ID: 121387393]"
     ]
    },
    {
     "name": "stderr",
     "output_type": "stream",
     "text": [
      "\r",
      "Finding valid work IDs:  87%|████████▋ | 174/200 [39:25<07:24, 17.10s/ID, Latest ID: 121387393]"
     ]
    },
    {
     "name": "stderr",
     "output_type": "stream",
     "text": [
      "\r",
      "Finding valid work IDs:  87%|████████▋ | 174/200 [39:25<07:24, 17.10s/ID, Latest ID: 121387395]"
     ]
    },
    {
     "name": "stderr",
     "output_type": "stream",
     "text": [
      "\r",
      "Finding valid work IDs:  88%|████████▊ | 175/200 [39:43<07:14, 17.40s/ID, Latest ID: 121387395]"
     ]
    },
    {
     "name": "stderr",
     "output_type": "stream",
     "text": [
      "\r",
      "Finding valid work IDs:  88%|████████▊ | 175/200 [39:43<07:14, 17.40s/ID, Latest ID: 121387397]"
     ]
    },
    {
     "name": "stderr",
     "output_type": "stream",
     "text": [
      "\r",
      "Finding valid work IDs:  88%|████████▊ | 176/200 [39:52<05:57, 14.90s/ID, Latest ID: 121387397]"
     ]
    },
    {
     "name": "stderr",
     "output_type": "stream",
     "text": [
      "\r",
      "Finding valid work IDs:  88%|████████▊ | 176/200 [39:52<05:57, 14.90s/ID, Latest ID: 121387398]"
     ]
    },
    {
     "name": "stderr",
     "output_type": "stream",
     "text": [
      "\r",
      "Finding valid work IDs:  88%|████████▊ | 177/200 [40:04<05:24, 14.12s/ID, Latest ID: 121387398]"
     ]
    },
    {
     "name": "stderr",
     "output_type": "stream",
     "text": [
      "\r",
      "Finding valid work IDs:  88%|████████▊ | 177/200 [40:04<05:24, 14.12s/ID, Latest ID: 121387399]"
     ]
    },
    {
     "name": "stderr",
     "output_type": "stream",
     "text": [
      "\r",
      "Finding valid work IDs:  89%|████████▉ | 178/200 [40:18<05:11, 14.16s/ID, Latest ID: 121387399]"
     ]
    },
    {
     "name": "stderr",
     "output_type": "stream",
     "text": [
      "\r",
      "Finding valid work IDs:  89%|████████▉ | 178/200 [40:18<05:11, 14.16s/ID, Latest ID: 121387400]"
     ]
    },
    {
     "name": "stderr",
     "output_type": "stream",
     "text": [
      "\r",
      "Finding valid work IDs:  90%|████████▉ | 179/200 [40:41<05:53, 16.85s/ID, Latest ID: 121387400]"
     ]
    },
    {
     "name": "stderr",
     "output_type": "stream",
     "text": [
      "\r",
      "Finding valid work IDs:  90%|████████▉ | 179/200 [40:41<05:53, 16.85s/ID, Latest ID: 121387403]"
     ]
    },
    {
     "name": "stderr",
     "output_type": "stream",
     "text": [
      "\r",
      "Finding valid work IDs:  90%|█████████ | 180/200 [40:52<04:59, 14.97s/ID, Latest ID: 121387403]"
     ]
    },
    {
     "name": "stderr",
     "output_type": "stream",
     "text": [
      "\r",
      "Finding valid work IDs:  90%|█████████ | 180/200 [40:52<04:59, 14.97s/ID, Latest ID: 121387404]"
     ]
    },
    {
     "name": "stderr",
     "output_type": "stream",
     "text": [
      "\r",
      "Finding valid work IDs:  90%|█████████ | 181/200 [41:00<04:03, 12.81s/ID, Latest ID: 121387404]"
     ]
    },
    {
     "name": "stderr",
     "output_type": "stream",
     "text": [
      "\r",
      "Finding valid work IDs:  90%|█████████ | 181/200 [41:00<04:03, 12.81s/ID, Latest ID: 121387405]"
     ]
    },
    {
     "name": "stderr",
     "output_type": "stream",
     "text": [
      "\r",
      "Finding valid work IDs:  91%|█████████ | 182/200 [41:11<03:39, 12.21s/ID, Latest ID: 121387405]"
     ]
    },
    {
     "name": "stderr",
     "output_type": "stream",
     "text": [
      "\r",
      "Finding valid work IDs:  91%|█████████ | 182/200 [41:11<03:39, 12.21s/ID, Latest ID: 121387406]"
     ]
    },
    {
     "name": "stderr",
     "output_type": "stream",
     "text": [
      "\r",
      "Finding valid work IDs:  92%|█████████▏| 183/200 [41:45<05:22, 18.96s/ID, Latest ID: 121387406]"
     ]
    },
    {
     "name": "stderr",
     "output_type": "stream",
     "text": [
      "\r",
      "Finding valid work IDs:  92%|█████████▏| 183/200 [41:45<05:22, 18.96s/ID, Latest ID: 121387409]"
     ]
    },
    {
     "name": "stderr",
     "output_type": "stream",
     "text": [
      "\r",
      "Finding valid work IDs:  92%|█████████▏| 184/200 [41:52<04:02, 15.18s/ID, Latest ID: 121387409]"
     ]
    },
    {
     "name": "stderr",
     "output_type": "stream",
     "text": [
      "\r",
      "Finding valid work IDs:  92%|█████████▏| 184/200 [41:52<04:02, 15.18s/ID, Latest ID: 121387410]"
     ]
    },
    {
     "name": "stderr",
     "output_type": "stream",
     "text": [
      "\r",
      "Finding valid work IDs:  92%|█████████▎| 185/200 [42:05<03:38, 14.58s/ID, Latest ID: 121387410]"
     ]
    },
    {
     "name": "stderr",
     "output_type": "stream",
     "text": [
      "\r",
      "Finding valid work IDs:  92%|█████████▎| 185/200 [42:05<03:38, 14.58s/ID, Latest ID: 121387411]"
     ]
    },
    {
     "name": "stderr",
     "output_type": "stream",
     "text": [
      "\r",
      "Finding valid work IDs:  93%|█████████▎| 186/200 [42:33<04:21, 18.69s/ID, Latest ID: 121387411]"
     ]
    },
    {
     "name": "stderr",
     "output_type": "stream",
     "text": [
      "\r",
      "Finding valid work IDs:  93%|█████████▎| 186/200 [42:33<04:21, 18.69s/ID, Latest ID: 121387414]"
     ]
    },
    {
     "name": "stderr",
     "output_type": "stream",
     "text": [
      "\r",
      "Finding valid work IDs:  94%|█████████▎| 187/200 [42:44<03:33, 16.46s/ID, Latest ID: 121387414]"
     ]
    },
    {
     "name": "stderr",
     "output_type": "stream",
     "text": [
      "\r",
      "Finding valid work IDs:  94%|█████████▎| 187/200 [42:44<03:33, 16.46s/ID, Latest ID: 121387415]"
     ]
    },
    {
     "name": "stderr",
     "output_type": "stream",
     "text": [
      "\r",
      "Finding valid work IDs:  94%|█████████▍| 188/200 [43:04<03:29, 17.47s/ID, Latest ID: 121387415]"
     ]
    },
    {
     "name": "stderr",
     "output_type": "stream",
     "text": [
      "\r",
      "Finding valid work IDs:  94%|█████████▍| 188/200 [43:04<03:29, 17.47s/ID, Latest ID: 121387417]"
     ]
    },
    {
     "name": "stderr",
     "output_type": "stream",
     "text": [
      "\r",
      "Finding valid work IDs:  94%|█████████▍| 189/200 [43:15<02:50, 15.46s/ID, Latest ID: 121387417]"
     ]
    },
    {
     "name": "stderr",
     "output_type": "stream",
     "text": [
      "\r",
      "Finding valid work IDs:  94%|█████████▍| 189/200 [43:15<02:50, 15.46s/ID, Latest ID: 121387418]"
     ]
    },
    {
     "name": "stderr",
     "output_type": "stream",
     "text": [
      "\r",
      "Finding valid work IDs:  95%|█████████▌| 190/200 [43:29<02:30, 15.01s/ID, Latest ID: 121387418]"
     ]
    },
    {
     "name": "stderr",
     "output_type": "stream",
     "text": [
      "\r",
      "Finding valid work IDs:  95%|█████████▌| 190/200 [43:29<02:30, 15.01s/ID, Latest ID: 121387419]"
     ]
    },
    {
     "name": "stderr",
     "output_type": "stream",
     "text": [
      "\r",
      "Finding valid work IDs:  96%|█████████▌| 191/200 [43:43<02:11, 14.66s/ID, Latest ID: 121387419]"
     ]
    },
    {
     "name": "stderr",
     "output_type": "stream",
     "text": [
      "\r",
      "Finding valid work IDs:  96%|█████████▌| 191/200 [43:43<02:11, 14.66s/ID, Latest ID: 121387420]"
     ]
    },
    {
     "name": "stderr",
     "output_type": "stream",
     "text": [
      "\r",
      "Finding valid work IDs:  96%|█████████▌| 192/200 [43:50<01:40, 12.57s/ID, Latest ID: 121387420]"
     ]
    },
    {
     "name": "stderr",
     "output_type": "stream",
     "text": [
      "\r",
      "Finding valid work IDs:  96%|█████████▌| 192/200 [43:50<01:40, 12.57s/ID, Latest ID: 121387421]"
     ]
    },
    {
     "name": "stderr",
     "output_type": "stream",
     "text": [
      "\r",
      "Finding valid work IDs:  96%|█████████▋| 193/200 [44:01<01:24, 12.00s/ID, Latest ID: 121387421]"
     ]
    },
    {
     "name": "stderr",
     "output_type": "stream",
     "text": [
      "\r",
      "Finding valid work IDs:  96%|█████████▋| 193/200 [44:01<01:24, 12.00s/ID, Latest ID: 121387422]"
     ]
    },
    {
     "name": "stderr",
     "output_type": "stream",
     "text": [
      "\r",
      "Finding valid work IDs:  97%|█████████▋| 194/200 [44:14<01:14, 12.34s/ID, Latest ID: 121387422]"
     ]
    },
    {
     "name": "stderr",
     "output_type": "stream",
     "text": [
      "\r",
      "Finding valid work IDs:  97%|█████████▋| 194/200 [44:14<01:14, 12.34s/ID, Latest ID: 121387423]"
     ]
    },
    {
     "name": "stderr",
     "output_type": "stream",
     "text": [
      "\r",
      "Finding valid work IDs:  98%|█████████▊| 195/200 [44:28<01:03, 12.65s/ID, Latest ID: 121387423]"
     ]
    },
    {
     "name": "stderr",
     "output_type": "stream",
     "text": [
      "\r",
      "Finding valid work IDs:  98%|█████████▊| 195/200 [44:28<01:03, 12.65s/ID, Latest ID: 121387424]"
     ]
    },
    {
     "name": "stderr",
     "output_type": "stream",
     "text": [
      "\r",
      "Finding valid work IDs:  98%|█████████▊| 196/200 [44:43<00:54, 13.53s/ID, Latest ID: 121387424]"
     ]
    },
    {
     "name": "stderr",
     "output_type": "stream",
     "text": [
      "\r",
      "Finding valid work IDs:  98%|█████████▊| 196/200 [44:43<00:54, 13.53s/ID, Latest ID: 121387426]"
     ]
    },
    {
     "name": "stderr",
     "output_type": "stream",
     "text": [
      "\r",
      "Finding valid work IDs:  98%|█████████▊| 197/200 [44:57<00:40, 13.56s/ID, Latest ID: 121387426]"
     ]
    },
    {
     "name": "stderr",
     "output_type": "stream",
     "text": [
      "\r",
      "Finding valid work IDs:  98%|█████████▊| 197/200 [44:57<00:40, 13.56s/ID, Latest ID: 121387427]"
     ]
    },
    {
     "name": "stderr",
     "output_type": "stream",
     "text": [
      "\r",
      "Finding valid work IDs:  99%|█████████▉| 198/200 [45:27<00:36, 18.39s/ID, Latest ID: 121387427]"
     ]
    },
    {
     "name": "stderr",
     "output_type": "stream",
     "text": [
      "\r",
      "Finding valid work IDs:  99%|█████████▉| 198/200 [45:27<00:36, 18.39s/ID, Latest ID: 121387430]"
     ]
    },
    {
     "name": "stderr",
     "output_type": "stream",
     "text": [
      "\r",
      "Finding valid work IDs: 100%|█████████▉| 199/200 [45:34<00:15, 15.16s/ID, Latest ID: 121387430]"
     ]
    },
    {
     "name": "stderr",
     "output_type": "stream",
     "text": [
      "\r",
      "Finding valid work IDs: 100%|█████████▉| 199/200 [45:34<00:15, 15.16s/ID, Latest ID: 121387431]"
     ]
    },
    {
     "name": "stderr",
     "output_type": "stream",
     "text": [
      "\r",
      "Finding valid work IDs: 100%|██████████| 200/200 [45:43<00:00, 13.34s/ID, Latest ID: 121387431]"
     ]
    },
    {
     "name": "stderr",
     "output_type": "stream",
     "text": [
      "\r",
      "Finding valid work IDs: 100%|██████████| 200/200 [45:43<00:00, 13.34s/ID, Latest ID: 121387432]"
     ]
    },
    {
     "name": "stderr",
     "output_type": "stream",
     "text": [
      "\r",
      "Finding valid work IDs: 100%|██████████| 200/200 [45:43<00:00, 13.72s/ID, Latest ID: 121387432]"
     ]
    },
    {
     "name": "stdout",
     "output_type": "stream",
     "text": [
      "\n",
      "Successfully found 50 valid work IDs.\n",
      "Valid work IDs: [121387160, 121387161, 121387162, 121387163, 121387164, 121387165, 121387167, 121387168, 121387169, 121387171, 121387172, 121387173, 121387175, 121387177, 121387180, 121387181, 121387182, 121387183, 121387184, 121387185, 121387186, 121387188, 121387189, 121387190, 121387192, 121387193, 121387194, 121387195, 121387196, 121387197, 121387198, 121387200, 121387201, 121387202, 121387203, 121387204, 121387205, 121387207, 121387208, 121387209, 121387210, 121387211, 121387212, 121387213, 121387215, 121387216, 121387218, 121387219, 121387220, 121387221, 121387223, 121387224, 121387226, 121387227, 121387229, 121387232, 121387234, 121387235, 121387237, 121387238, 121387240, 121387242, 121387243, 121387245, 121387246, 121387249, 121387251, 121387252, 121387253, 121387254, 121387255, 121387256, 121387257, 121387258, 121387259, 121387261, 121387262, 121387263, 121387266, 121387268, 121387269, 121387270, 121387271, 121387272, 121387273, 121387274, 121387275, 121387276, 121387277, 121387278, 121387280, 121387282, 121387284, 121387285, 121387287, 121387288, 121387290, 121387291, 121387292, 121387293, 121387294, 121387297, 121387298, 121387299, 121387301, 121387302, 121387303, 121387304, 121387305, 121387308, 121387309, 121387310, 121387311, 121387312, 121387313, 121387317, 121387321, 121387322, 121387324, 121387325, 121387326, 121387327, 121387328, 121387329, 121387330, 121387332, 121387335, 121387336, 121387337, 121387338, 121387340, 121387342, 121387344, 121387345, 121387346, 121387347, 121387348, 121387349, 121387351, 121387352, 121387353, 121387354, 121387355, 121387356, 121387357, 121387358, 121387359, 121387360, 121387361, 121387362, 121387364, 121387365, 121387366, 121387367, 121387369, 121387370, 121387373, 121387374, 121387375, 121387377, 121387378, 121387379, 121387380, 121387381, 121387382, 121387383, 121387384, 121387386, 121387388, 121387390, 121387391, 121387392, 121387393, 121387395, 121387397, 121387398, 121387399, 121387400, 121387403, 121387404, 121387405, 121387406, 121387409, 121387410, 121387411, 121387414, 121387415, 121387417, 121387418, 121387419, 121387420, 121387421, 121387422, 121387423, 121387424, 121387426, 121387427, 121387430, 121387431, 121387432]\n"
     ]
    },
    {
     "name": "stderr",
     "output_type": "stream",
     "text": [
      "\n"
     ]
    }
   ],
   "source": [
    "import requests\n",
    "import random\n",
    "import time\n",
    "from tqdm import tqdm\n",
    "\n",
    "def check_pixiv_work_ids(start_id, max_attempts=1000):\n",
    "    valid_ids = []\n",
    "    \n",
    "    # 創建tqdm進度條\n",
    "    with tqdm(total=200, desc=\"Finding valid work IDs\", unit=\"ID\") as pbar:\n",
    "        for attempt in range(max_attempts):\n",
    "            work_id = start_id + attempt\n",
    "            url = f\"https://www.pixiv.net/artworks/{work_id}\"\n",
    "            \n",
    "            try:\n",
    "                #proxy = get_random_proxy()\n",
    "                response = requests.head(url)\n",
    "                if response.status_code == 200:\n",
    "                    valid_ids.append(work_id)\n",
    "                    pbar.update(1)  # 更新進度條\n",
    "                    pbar.set_postfix_str(f\"Latest ID: {work_id}\")  # 顯示最新找到的ID\n",
    "                \n",
    "                if len(valid_ids) == 200:\n",
    "                    break\n",
    "                \n",
    "                # 添加延遲以避免過於頻繁的請求\n",
    "                delay = random.uniform(5, 15)  # 5到15秒的隨機延遲\n",
    "                time.sleep(delay)\n",
    "            \n",
    "            except requests.RequestException as e:\n",
    "                tqdm.write(f\"Error checking work ID {work_id}: {e}\")\n",
    "    \n",
    "    if len(valid_ids) == 200:\n",
    "        print(\"\\nSuccessfully found 50 valid work IDs.\")\n",
    "    else:\n",
    "        print(f\"\\nReached maximum attempts. Found {len(valid_ids)} valid work IDs.\")\n",
    "    \n",
    "    return valid_ids\n",
    "\n",
    "# 使用函數\n",
    "#start_id = 121188700  # 隨機選擇起始ID\n",
    "print(f\"Starting search from ID: {start_id}\")\n",
    "result = check_pixiv_work_ids(start_id)\n",
    "print(\"Valid work IDs:\", result)"
   ]
  },
  {
   "cell_type": "code",
   "execution_count": 3,
   "id": "93a673e5-8c78-46cf-878e-b0312b5eb234",
   "metadata": {
    "execution": {
     "iopub.execute_input": "2025-04-21T01:39:44.976351Z",
     "iopub.status.busy": "2025-04-21T01:39:44.976179Z",
     "iopub.status.idle": "2025-04-21T01:39:45.039806Z",
     "shell.execute_reply": "2025-04-21T01:39:45.039270Z"
    }
   },
   "outputs": [],
   "source": [
    "import requests\n",
    "from bs4 import BeautifulSoup\n",
    "import os\n",
    "\n",
    "def save_webpage_as_single_file(url, filename):\n",
    "    try:\n",
    "        # 发送 GET 请求获取网页内容\n",
    "        response = requests.get(url)\n",
    "        response.raise_for_status()  # 检查请求是否成功\n",
    "        #time.sleep(np.random.randint(3,7))\n",
    "\n",
    "        # 解析网页内容\n",
    "        soup = BeautifulSoup(response.text, 'html.parser')\n",
    "\n",
    "        # 获取网页的标题\n",
    "        title = soup.title.string if soup.title else 'webpage'\n",
    "        \n",
    "        # 创建 .mhtml 文件内容\n",
    "        mhtml_content = f\"<!DOCTYPE html>\\n<html>\\n<head>\\n<title>{title}</title>\\n</head>\\n<body>\\n\"\n",
    "        mhtml_content += str(soup)  # 添加网页内容\n",
    "        mhtml_content += \"\\n</body>\\n</html>\"\n",
    "\n",
    "        # 保存为 .mhtml 文件\n",
    "        with open(filename, 'w', encoding='utf-8') as file:\n",
    "            file.write(mhtml_content)\n",
    "\n",
    "        print(f\"网页内容已成功保存为 {filename}\")\n",
    "    except requests.exceptions.RequestException as e:\n",
    "        print(f\"请求失败: {e}\")\n",
    "        pass\n",
    "    except Exception as e:\n",
    "        print(f\"保存文件时出错: {e}\")\n",
    "\n",
    "# 输入 URL 和文件名\n",
    "\n",
    "\n"
   ]
  },
  {
   "cell_type": "code",
   "execution_count": 4,
   "id": "f0078b3f-3262-4e94-857f-53a9e79bac74",
   "metadata": {
    "execution": {
     "iopub.execute_input": "2025-04-21T01:39:45.041629Z",
     "iopub.status.busy": "2025-04-21T01:39:45.041453Z",
     "iopub.status.idle": "2025-04-21T01:39:45.047612Z",
     "shell.execute_reply": "2025-04-21T01:39:45.047160Z"
    }
   },
   "outputs": [],
   "source": [
    "import os\n",
    "import sqlite3\n",
    "import re\n",
    "\n",
    "# 提取信息的函数\n",
    "def extract_info_from_mhtml(mhtml_file,work_ID):\n",
    "    with open(mhtml_file, 'r', encoding='utf-8') as file:\n",
    "        content = file.read()\n",
    "    \n",
    "    # 使用 BeautifulSoup 解析 HTML 内容\n",
    "    soup = BeautifulSoup(content, 'html.parser')\n",
    "\n",
    "    # 提取 <title> 标签的内容\n",
    "    title = soup.title.string if soup.title else '无标题'\n",
    "    \n",
    "     # 使用正则表达式提取多个 \"tag\"\n",
    "    tag_pattern = re.findall(r'\"tag\"\\s*:\\s*\"([^\"]+)\"', content)\n",
    "    \n",
    "    # 使用正则表达式提取 \"likeCount\", \"bookmarkCount\", \"viewCount\"\n",
    "    like_count_pattern = re.search(r'\"likeCount\"\\s*:\\s*(\\d+)', content)\n",
    "    bookmark_count_pattern = re.search(r'\"bookmarkCount\"\\s*:\\s*(\\d+)', content)\n",
    "    view_count_pattern = re.search(r'\"viewCount\"\\s*:\\s*(\\d+)', content)\n",
    "    image_pattern = re.search(r'\"regular\"\\s*:\\s*\"([^\"]+)\"', content)\n",
    "\n",
    "    # 获取正则表达式的匹配结果\n",
    "    tags = tag_pattern if tag_pattern else ['无标签']\n",
    "    like_count = like_count_pattern.group(1) if like_count_pattern else '无点赞数'\n",
    "    bookmark_count = bookmark_count_pattern.group(1) if bookmark_count_pattern else '无收藏数'\n",
    "    view_count = view_count_pattern.group(1) if view_count_pattern else '无浏览数'\n",
    "    image_count = image_pattern.group(1) if image_pattern else '無影像連結'\n",
    "    return {\n",
    "        'work_ID': str(work_ID),\n",
    "        'title': title.split(' - ')[0],  # 清理标题内容\n",
    "        'tags': ', '.join(tags),  # 标签列表转为字符串\n",
    "        'like_count': like_count,\n",
    "        'bookmark_count': bookmark_count,\n",
    "        'view_count': view_count,\n",
    "        'image url': image_count\n",
    "        \n",
    "    }\n",
    "\n",
    "\n",
    "\n",
    "# 将数据追加到 SQLite 数据库的函数\n",
    "def append_to_sqlite(info, db_filename='web_info.db'):\n",
    "    # 连接 SQLite 数据库（如果文件不存在，会自动创建）\n",
    "    conn = sqlite3.connect(db_filename)\n",
    "    cursor = conn.cursor()\n",
    "\n",
    "    # 创建表格（如果不存在）\n",
    "    cursor.execute('''\n",
    "        CREATE TABLE IF NOT EXISTS web_info (\n",
    "            work_ID TEXT PRIMARY KEY,\n",
    "            title TEXT,\n",
    "            tags TEXT,\n",
    "            like_count INTEGER,\n",
    "            bookmark_count INTEGER,\n",
    "            view_count INTEGER,\n",
    "            image_url TEXT\n",
    "        )\n",
    "    ''')\n",
    "\n",
    "    # 插入数据，如果 work_ID 已存在则忽略插入\n",
    "    cursor.execute('''\n",
    "        INSERT OR REPLACE INTO web_info (work_ID, title, tags, like_count, bookmark_count, view_count, image_url)\n",
    "        VALUES (?, ?, ?, ?, ?, ?, ?)\n",
    "    ''', (\n",
    "        info['work_ID'],\n",
    "        info['title'],\n",
    "        info['tags'],\n",
    "        int(info['like_count']),\n",
    "        int(info['bookmark_count']),\n",
    "        int(info['view_count']),\n",
    "        info['image url']\n",
    "    ))\n",
    "\n",
    "    # 提交更改并关闭连接\n",
    "    conn.commit()\n",
    "    conn.close()\n",
    "\n",
    "\n",
    "\n"
   ]
  },
  {
   "cell_type": "code",
   "execution_count": 5,
   "id": "16847b22-1171-48b2-96de-df37fcdbced2",
   "metadata": {
    "execution": {
     "iopub.execute_input": "2025-04-21T01:39:45.049267Z",
     "iopub.status.busy": "2025-04-21T01:39:45.049097Z",
     "iopub.status.idle": "2025-04-21T04:10:40.268936Z",
     "shell.execute_reply": "2025-04-21T04:10:40.268333Z"
    }
   },
   "outputs": [
    {
     "name": "stdout",
     "output_type": "stream",
     "text": [
      "网页内容已成功保存为 121387160.mhtml\n",
      "新信息已成功追加到 web_info.db\n",
      "休息 34 秒鐘\n"
     ]
    },
    {
     "name": "stdout",
     "output_type": "stream",
     "text": [
      "网页内容已成功保存为 121387161.mhtml\n",
      "新信息已成功追加到 web_info.db\n",
      "休息 35 秒鐘\n"
     ]
    },
    {
     "name": "stdout",
     "output_type": "stream",
     "text": [
      "网页内容已成功保存为 121387162.mhtml\n",
      "新信息已成功追加到 web_info.db\n",
      "休息 32 秒鐘\n"
     ]
    },
    {
     "name": "stdout",
     "output_type": "stream",
     "text": [
      "网页内容已成功保存为 121387163.mhtml\n",
      "新信息已成功追加到 web_info.db\n",
      "休息 57 秒鐘\n"
     ]
    },
    {
     "name": "stdout",
     "output_type": "stream",
     "text": [
      "网页内容已成功保存为 121387164.mhtml\n",
      "新信息已成功追加到 web_info.db\n",
      "休息 53 秒鐘\n"
     ]
    },
    {
     "name": "stdout",
     "output_type": "stream",
     "text": [
      "网页内容已成功保存为 121387165.mhtml\n",
      "新信息已成功追加到 web_info.db\n",
      "休息 56 秒鐘\n"
     ]
    },
    {
     "name": "stdout",
     "output_type": "stream",
     "text": [
      "网页内容已成功保存为 121387167.mhtml\n",
      "新信息已成功追加到 web_info.db\n",
      "休息 34 秒鐘\n"
     ]
    },
    {
     "name": "stdout",
     "output_type": "stream",
     "text": [
      "网页内容已成功保存为 121387168.mhtml\n",
      "新信息已成功追加到 web_info.db\n",
      "休息 41 秒鐘\n"
     ]
    },
    {
     "name": "stdout",
     "output_type": "stream",
     "text": [
      "网页内容已成功保存为 121387169.mhtml\n",
      "新信息已成功追加到 web_info.db\n",
      "休息 45 秒鐘\n"
     ]
    },
    {
     "name": "stdout",
     "output_type": "stream",
     "text": [
      "网页内容已成功保存为 121387171.mhtml\n",
      "新信息已成功追加到 web_info.db\n",
      "休息 52 秒鐘\n"
     ]
    },
    {
     "name": "stdout",
     "output_type": "stream",
     "text": [
      "网页内容已成功保存为 121387172.mhtml\n",
      "新信息已成功追加到 web_info.db\n",
      "休息 37 秒鐘\n"
     ]
    },
    {
     "name": "stdout",
     "output_type": "stream",
     "text": [
      "网页内容已成功保存为 121387173.mhtml\n",
      "新信息已成功追加到 web_info.db\n",
      "休息 49 秒鐘\n"
     ]
    },
    {
     "name": "stdout",
     "output_type": "stream",
     "text": [
      "网页内容已成功保存为 121387175.mhtml\n",
      "新信息已成功追加到 web_info.db\n",
      "休息 50 秒鐘\n"
     ]
    },
    {
     "name": "stdout",
     "output_type": "stream",
     "text": [
      "网页内容已成功保存为 121387177.mhtml\n",
      "新信息已成功追加到 web_info.db\n",
      "休息 53 秒鐘\n"
     ]
    },
    {
     "name": "stdout",
     "output_type": "stream",
     "text": [
      "网页内容已成功保存为 121387180.mhtml\n",
      "新信息已成功追加到 web_info.db\n",
      "休息 42 秒鐘\n"
     ]
    },
    {
     "name": "stdout",
     "output_type": "stream",
     "text": [
      "网页内容已成功保存为 121387181.mhtml\n",
      "新信息已成功追加到 web_info.db\n",
      "休息 30 秒鐘\n"
     ]
    },
    {
     "name": "stdout",
     "output_type": "stream",
     "text": [
      "网页内容已成功保存为 121387182.mhtml\n",
      "新信息已成功追加到 web_info.db\n",
      "休息 51 秒鐘\n"
     ]
    },
    {
     "name": "stdout",
     "output_type": "stream",
     "text": [
      "网页内容已成功保存为 121387183.mhtml\n",
      "新信息已成功追加到 web_info.db\n",
      "休息 36 秒鐘\n"
     ]
    },
    {
     "name": "stdout",
     "output_type": "stream",
     "text": [
      "网页内容已成功保存为 121387184.mhtml\n",
      "新信息已成功追加到 web_info.db\n",
      "休息 59 秒鐘\n"
     ]
    },
    {
     "name": "stdout",
     "output_type": "stream",
     "text": [
      "网页内容已成功保存为 121387185.mhtml\n",
      "新信息已成功追加到 web_info.db\n",
      "休息 57 秒鐘\n"
     ]
    },
    {
     "name": "stdout",
     "output_type": "stream",
     "text": [
      "网页内容已成功保存为 121387186.mhtml\n",
      "新信息已成功追加到 web_info.db\n",
      "休息 48 秒鐘\n"
     ]
    },
    {
     "name": "stdout",
     "output_type": "stream",
     "text": [
      "网页内容已成功保存为 121387188.mhtml\n",
      "新信息已成功追加到 web_info.db\n",
      "休息 58 秒鐘\n"
     ]
    },
    {
     "name": "stdout",
     "output_type": "stream",
     "text": [
      "网页内容已成功保存为 121387189.mhtml\n",
      "新信息已成功追加到 web_info.db\n",
      "休息 54 秒鐘\n"
     ]
    },
    {
     "name": "stdout",
     "output_type": "stream",
     "text": [
      "网页内容已成功保存为 121387190.mhtml\n",
      "新信息已成功追加到 web_info.db\n",
      "休息 34 秒鐘\n"
     ]
    },
    {
     "name": "stdout",
     "output_type": "stream",
     "text": [
      "网页内容已成功保存为 121387192.mhtml\n",
      "新信息已成功追加到 web_info.db\n",
      "休息 59 秒鐘\n"
     ]
    },
    {
     "name": "stdout",
     "output_type": "stream",
     "text": [
      "网页内容已成功保存为 121387193.mhtml\n",
      "新信息已成功追加到 web_info.db\n",
      "休息 52 秒鐘\n"
     ]
    },
    {
     "name": "stdout",
     "output_type": "stream",
     "text": [
      "网页内容已成功保存为 121387194.mhtml\n",
      "新信息已成功追加到 web_info.db\n",
      "休息 53 秒鐘\n"
     ]
    },
    {
     "name": "stdout",
     "output_type": "stream",
     "text": [
      "网页内容已成功保存为 121387195.mhtml\n",
      "新信息已成功追加到 web_info.db\n",
      "休息 47 秒鐘\n"
     ]
    },
    {
     "name": "stdout",
     "output_type": "stream",
     "text": [
      "网页内容已成功保存为 121387196.mhtml\n",
      "新信息已成功追加到 web_info.db\n",
      "休息 37 秒鐘\n"
     ]
    },
    {
     "name": "stdout",
     "output_type": "stream",
     "text": [
      "网页内容已成功保存为 121387197.mhtml\n",
      "新信息已成功追加到 web_info.db\n",
      "休息 59 秒鐘\n"
     ]
    },
    {
     "name": "stdout",
     "output_type": "stream",
     "text": [
      "网页内容已成功保存为 121387198.mhtml\n",
      "新信息已成功追加到 web_info.db\n",
      "休息 35 秒鐘\n"
     ]
    },
    {
     "name": "stdout",
     "output_type": "stream",
     "text": [
      "网页内容已成功保存为 121387200.mhtml\n",
      "新信息已成功追加到 web_info.db\n",
      "休息 37 秒鐘\n"
     ]
    },
    {
     "name": "stdout",
     "output_type": "stream",
     "text": [
      "网页内容已成功保存为 121387201.mhtml\n",
      "新信息已成功追加到 web_info.db\n",
      "休息 56 秒鐘\n"
     ]
    },
    {
     "name": "stdout",
     "output_type": "stream",
     "text": [
      "网页内容已成功保存为 121387202.mhtml\n",
      "新信息已成功追加到 web_info.db\n",
      "休息 45 秒鐘\n"
     ]
    },
    {
     "name": "stdout",
     "output_type": "stream",
     "text": [
      "网页内容已成功保存为 121387203.mhtml\n",
      "新信息已成功追加到 web_info.db\n",
      "休息 59 秒鐘\n"
     ]
    },
    {
     "name": "stdout",
     "output_type": "stream",
     "text": [
      "网页内容已成功保存为 121387204.mhtml\n",
      "新信息已成功追加到 web_info.db\n",
      "休息 54 秒鐘\n"
     ]
    },
    {
     "name": "stdout",
     "output_type": "stream",
     "text": [
      "网页内容已成功保存为 121387205.mhtml\n",
      "新信息已成功追加到 web_info.db\n",
      "休息 44 秒鐘\n"
     ]
    },
    {
     "name": "stdout",
     "output_type": "stream",
     "text": [
      "网页内容已成功保存为 121387207.mhtml\n",
      "新信息已成功追加到 web_info.db\n",
      "休息 51 秒鐘\n"
     ]
    },
    {
     "name": "stdout",
     "output_type": "stream",
     "text": [
      "网页内容已成功保存为 121387208.mhtml\n",
      "新信息已成功追加到 web_info.db\n",
      "休息 53 秒鐘\n"
     ]
    },
    {
     "name": "stdout",
     "output_type": "stream",
     "text": [
      "网页内容已成功保存为 121387209.mhtml\n",
      "新信息已成功追加到 web_info.db\n",
      "休息 41 秒鐘\n"
     ]
    },
    {
     "name": "stdout",
     "output_type": "stream",
     "text": [
      "网页内容已成功保存为 121387210.mhtml\n",
      "新信息已成功追加到 web_info.db\n",
      "休息 57 秒鐘\n"
     ]
    },
    {
     "name": "stdout",
     "output_type": "stream",
     "text": [
      "网页内容已成功保存为 121387211.mhtml\n",
      "新信息已成功追加到 web_info.db\n",
      "休息 56 秒鐘\n"
     ]
    },
    {
     "name": "stdout",
     "output_type": "stream",
     "text": [
      "网页内容已成功保存为 121387212.mhtml\n",
      "新信息已成功追加到 web_info.db\n",
      "休息 57 秒鐘\n"
     ]
    },
    {
     "name": "stdout",
     "output_type": "stream",
     "text": [
      "网页内容已成功保存为 121387213.mhtml\n",
      "新信息已成功追加到 web_info.db\n",
      "休息 43 秒鐘\n"
     ]
    },
    {
     "name": "stdout",
     "output_type": "stream",
     "text": [
      "网页内容已成功保存为 121387215.mhtml\n",
      "新信息已成功追加到 web_info.db\n",
      "休息 40 秒鐘\n"
     ]
    },
    {
     "name": "stdout",
     "output_type": "stream",
     "text": [
      "网页内容已成功保存为 121387216.mhtml\n",
      "新信息已成功追加到 web_info.db\n",
      "休息 40 秒鐘\n"
     ]
    },
    {
     "name": "stdout",
     "output_type": "stream",
     "text": [
      "网页内容已成功保存为 121387218.mhtml\n",
      "新信息已成功追加到 web_info.db\n",
      "休息 53 秒鐘\n"
     ]
    },
    {
     "name": "stdout",
     "output_type": "stream",
     "text": [
      "网页内容已成功保存为 121387219.mhtml\n",
      "新信息已成功追加到 web_info.db\n",
      "休息 45 秒鐘\n"
     ]
    },
    {
     "name": "stdout",
     "output_type": "stream",
     "text": [
      "网页内容已成功保存为 121387220.mhtml\n",
      "新信息已成功追加到 web_info.db\n",
      "休息 39 秒鐘\n"
     ]
    },
    {
     "name": "stdout",
     "output_type": "stream",
     "text": [
      "网页内容已成功保存为 121387221.mhtml\n",
      "新信息已成功追加到 web_info.db\n",
      "休息 56 秒鐘\n"
     ]
    },
    {
     "name": "stdout",
     "output_type": "stream",
     "text": [
      "网页内容已成功保存为 121387223.mhtml\n",
      "新信息已成功追加到 web_info.db\n",
      "休息 34 秒鐘\n"
     ]
    },
    {
     "name": "stdout",
     "output_type": "stream",
     "text": [
      "网页内容已成功保存为 121387224.mhtml\n",
      "新信息已成功追加到 web_info.db\n",
      "休息 44 秒鐘\n"
     ]
    },
    {
     "name": "stdout",
     "output_type": "stream",
     "text": [
      "网页内容已成功保存为 121387226.mhtml\n",
      "新信息已成功追加到 web_info.db\n",
      "休息 50 秒鐘\n"
     ]
    },
    {
     "name": "stdout",
     "output_type": "stream",
     "text": [
      "网页内容已成功保存为 121387227.mhtml\n",
      "新信息已成功追加到 web_info.db\n",
      "休息 43 秒鐘\n"
     ]
    },
    {
     "name": "stdout",
     "output_type": "stream",
     "text": [
      "网页内容已成功保存为 121387229.mhtml\n",
      "新信息已成功追加到 web_info.db\n",
      "休息 59 秒鐘\n"
     ]
    },
    {
     "name": "stdout",
     "output_type": "stream",
     "text": [
      "网页内容已成功保存为 121387232.mhtml\n",
      "新信息已成功追加到 web_info.db\n",
      "休息 45 秒鐘\n"
     ]
    },
    {
     "name": "stdout",
     "output_type": "stream",
     "text": [
      "网页内容已成功保存为 121387234.mhtml\n",
      "新信息已成功追加到 web_info.db\n",
      "休息 40 秒鐘\n"
     ]
    },
    {
     "name": "stdout",
     "output_type": "stream",
     "text": [
      "网页内容已成功保存为 121387235.mhtml\n",
      "新信息已成功追加到 web_info.db\n",
      "休息 54 秒鐘\n"
     ]
    },
    {
     "name": "stdout",
     "output_type": "stream",
     "text": [
      "网页内容已成功保存为 121387237.mhtml\n",
      "新信息已成功追加到 web_info.db\n",
      "休息 58 秒鐘\n"
     ]
    },
    {
     "name": "stdout",
     "output_type": "stream",
     "text": [
      "网页内容已成功保存为 121387238.mhtml\n",
      "新信息已成功追加到 web_info.db\n",
      "休息 40 秒鐘\n"
     ]
    },
    {
     "name": "stdout",
     "output_type": "stream",
     "text": [
      "网页内容已成功保存为 121387240.mhtml\n",
      "新信息已成功追加到 web_info.db\n",
      "休息 43 秒鐘\n"
     ]
    },
    {
     "name": "stdout",
     "output_type": "stream",
     "text": [
      "网页内容已成功保存为 121387242.mhtml\n",
      "新信息已成功追加到 web_info.db\n",
      "休息 53 秒鐘\n"
     ]
    },
    {
     "name": "stdout",
     "output_type": "stream",
     "text": [
      "网页内容已成功保存为 121387243.mhtml\n",
      "新信息已成功追加到 web_info.db\n",
      "休息 37 秒鐘\n"
     ]
    },
    {
     "name": "stdout",
     "output_type": "stream",
     "text": [
      "网页内容已成功保存为 121387245.mhtml\n",
      "新信息已成功追加到 web_info.db\n",
      "休息 43 秒鐘\n"
     ]
    },
    {
     "name": "stdout",
     "output_type": "stream",
     "text": [
      "网页内容已成功保存为 121387246.mhtml\n",
      "新信息已成功追加到 web_info.db\n",
      "休息 36 秒鐘\n"
     ]
    },
    {
     "name": "stdout",
     "output_type": "stream",
     "text": [
      "网页内容已成功保存为 121387249.mhtml\n",
      "新信息已成功追加到 web_info.db\n",
      "休息 51 秒鐘\n"
     ]
    },
    {
     "name": "stdout",
     "output_type": "stream",
     "text": [
      "网页内容已成功保存为 121387251.mhtml\n",
      "新信息已成功追加到 web_info.db\n",
      "休息 53 秒鐘\n"
     ]
    },
    {
     "name": "stdout",
     "output_type": "stream",
     "text": [
      "网页内容已成功保存为 121387252.mhtml\n",
      "新信息已成功追加到 web_info.db\n",
      "休息 54 秒鐘\n"
     ]
    },
    {
     "name": "stdout",
     "output_type": "stream",
     "text": [
      "网页内容已成功保存为 121387253.mhtml\n",
      "新信息已成功追加到 web_info.db\n",
      "休息 36 秒鐘\n"
     ]
    },
    {
     "name": "stdout",
     "output_type": "stream",
     "text": [
      "网页内容已成功保存为 121387254.mhtml\n",
      "新信息已成功追加到 web_info.db\n",
      "休息 46 秒鐘\n"
     ]
    },
    {
     "name": "stdout",
     "output_type": "stream",
     "text": [
      "网页内容已成功保存为 121387255.mhtml\n",
      "新信息已成功追加到 web_info.db\n",
      "休息 32 秒鐘\n"
     ]
    },
    {
     "name": "stdout",
     "output_type": "stream",
     "text": [
      "网页内容已成功保存为 121387256.mhtml\n",
      "新信息已成功追加到 web_info.db\n",
      "休息 41 秒鐘\n"
     ]
    },
    {
     "name": "stdout",
     "output_type": "stream",
     "text": [
      "网页内容已成功保存为 121387257.mhtml\n",
      "新信息已成功追加到 web_info.db\n",
      "休息 44 秒鐘\n"
     ]
    },
    {
     "name": "stdout",
     "output_type": "stream",
     "text": [
      "网页内容已成功保存为 121387258.mhtml\n",
      "新信息已成功追加到 web_info.db\n",
      "休息 35 秒鐘\n"
     ]
    },
    {
     "name": "stdout",
     "output_type": "stream",
     "text": [
      "网页内容已成功保存为 121387259.mhtml\n",
      "新信息已成功追加到 web_info.db\n",
      "休息 54 秒鐘\n"
     ]
    },
    {
     "name": "stdout",
     "output_type": "stream",
     "text": [
      "网页内容已成功保存为 121387261.mhtml\n",
      "新信息已成功追加到 web_info.db\n",
      "休息 46 秒鐘\n"
     ]
    },
    {
     "name": "stdout",
     "output_type": "stream",
     "text": [
      "网页内容已成功保存为 121387262.mhtml\n",
      "新信息已成功追加到 web_info.db\n",
      "休息 40 秒鐘\n"
     ]
    },
    {
     "name": "stdout",
     "output_type": "stream",
     "text": [
      "网页内容已成功保存为 121387263.mhtml\n",
      "新信息已成功追加到 web_info.db\n",
      "休息 32 秒鐘\n"
     ]
    },
    {
     "name": "stdout",
     "output_type": "stream",
     "text": [
      "网页内容已成功保存为 121387266.mhtml\n",
      "新信息已成功追加到 web_info.db\n",
      "休息 54 秒鐘\n"
     ]
    },
    {
     "name": "stdout",
     "output_type": "stream",
     "text": [
      "网页内容已成功保存为 121387268.mhtml\n",
      "新信息已成功追加到 web_info.db\n",
      "休息 58 秒鐘\n"
     ]
    },
    {
     "name": "stdout",
     "output_type": "stream",
     "text": [
      "网页内容已成功保存为 121387269.mhtml\n",
      "新信息已成功追加到 web_info.db\n",
      "休息 30 秒鐘\n"
     ]
    },
    {
     "name": "stdout",
     "output_type": "stream",
     "text": [
      "网页内容已成功保存为 121387270.mhtml\n",
      "新信息已成功追加到 web_info.db\n",
      "休息 55 秒鐘\n"
     ]
    },
    {
     "name": "stdout",
     "output_type": "stream",
     "text": [
      "网页内容已成功保存为 121387271.mhtml\n",
      "新信息已成功追加到 web_info.db\n",
      "休息 32 秒鐘\n"
     ]
    },
    {
     "name": "stdout",
     "output_type": "stream",
     "text": [
      "网页内容已成功保存为 121387272.mhtml\n",
      "新信息已成功追加到 web_info.db\n",
      "休息 44 秒鐘\n"
     ]
    },
    {
     "name": "stdout",
     "output_type": "stream",
     "text": [
      "网页内容已成功保存为 121387273.mhtml\n",
      "新信息已成功追加到 web_info.db\n",
      "休息 37 秒鐘\n"
     ]
    },
    {
     "name": "stdout",
     "output_type": "stream",
     "text": [
      "网页内容已成功保存为 121387274.mhtml\n",
      "新信息已成功追加到 web_info.db\n",
      "休息 43 秒鐘\n"
     ]
    },
    {
     "name": "stdout",
     "output_type": "stream",
     "text": [
      "网页内容已成功保存为 121387275.mhtml\n",
      "新信息已成功追加到 web_info.db\n",
      "休息 39 秒鐘\n"
     ]
    },
    {
     "name": "stdout",
     "output_type": "stream",
     "text": [
      "网页内容已成功保存为 121387276.mhtml\n",
      "新信息已成功追加到 web_info.db\n",
      "休息 38 秒鐘\n"
     ]
    },
    {
     "name": "stdout",
     "output_type": "stream",
     "text": [
      "网页内容已成功保存为 121387277.mhtml\n",
      "新信息已成功追加到 web_info.db\n",
      "休息 36 秒鐘\n"
     ]
    },
    {
     "name": "stdout",
     "output_type": "stream",
     "text": [
      "网页内容已成功保存为 121387278.mhtml\n",
      "新信息已成功追加到 web_info.db\n",
      "休息 51 秒鐘\n"
     ]
    },
    {
     "name": "stdout",
     "output_type": "stream",
     "text": [
      "网页内容已成功保存为 121387280.mhtml\n",
      "新信息已成功追加到 web_info.db\n",
      "休息 50 秒鐘\n"
     ]
    },
    {
     "name": "stdout",
     "output_type": "stream",
     "text": [
      "网页内容已成功保存为 121387282.mhtml\n",
      "新信息已成功追加到 web_info.db\n",
      "休息 48 秒鐘\n"
     ]
    },
    {
     "name": "stdout",
     "output_type": "stream",
     "text": [
      "网页内容已成功保存为 121387284.mhtml\n",
      "新信息已成功追加到 web_info.db\n",
      "休息 57 秒鐘\n"
     ]
    },
    {
     "name": "stdout",
     "output_type": "stream",
     "text": [
      "网页内容已成功保存为 121387285.mhtml\n",
      "新信息已成功追加到 web_info.db\n",
      "休息 50 秒鐘\n"
     ]
    },
    {
     "name": "stdout",
     "output_type": "stream",
     "text": [
      "网页内容已成功保存为 121387287.mhtml\n",
      "新信息已成功追加到 web_info.db\n",
      "休息 57 秒鐘\n"
     ]
    },
    {
     "name": "stdout",
     "output_type": "stream",
     "text": [
      "网页内容已成功保存为 121387288.mhtml\n",
      "新信息已成功追加到 web_info.db\n",
      "休息 35 秒鐘\n"
     ]
    },
    {
     "name": "stdout",
     "output_type": "stream",
     "text": [
      "网页内容已成功保存为 121387290.mhtml\n",
      "新信息已成功追加到 web_info.db\n",
      "休息 46 秒鐘\n"
     ]
    },
    {
     "name": "stdout",
     "output_type": "stream",
     "text": [
      "网页内容已成功保存为 121387291.mhtml\n",
      "新信息已成功追加到 web_info.db\n",
      "休息 44 秒鐘\n"
     ]
    },
    {
     "name": "stdout",
     "output_type": "stream",
     "text": [
      "网页内容已成功保存为 121387292.mhtml\n",
      "新信息已成功追加到 web_info.db\n",
      "休息 38 秒鐘\n"
     ]
    },
    {
     "name": "stdout",
     "output_type": "stream",
     "text": [
      "网页内容已成功保存为 121387293.mhtml\n",
      "新信息已成功追加到 web_info.db\n",
      "休息 37 秒鐘\n"
     ]
    },
    {
     "name": "stdout",
     "output_type": "stream",
     "text": [
      "网页内容已成功保存为 121387294.mhtml\n",
      "新信息已成功追加到 web_info.db\n",
      "休息 41 秒鐘\n"
     ]
    },
    {
     "name": "stdout",
     "output_type": "stream",
     "text": [
      "网页内容已成功保存为 121387297.mhtml\n",
      "新信息已成功追加到 web_info.db\n",
      "休息 45 秒鐘\n"
     ]
    },
    {
     "name": "stdout",
     "output_type": "stream",
     "text": [
      "网页内容已成功保存为 121387298.mhtml\n",
      "新信息已成功追加到 web_info.db\n",
      "休息 51 秒鐘\n"
     ]
    },
    {
     "name": "stdout",
     "output_type": "stream",
     "text": [
      "网页内容已成功保存为 121387299.mhtml\n",
      "新信息已成功追加到 web_info.db\n",
      "休息 56 秒鐘\n"
     ]
    },
    {
     "name": "stdout",
     "output_type": "stream",
     "text": [
      "网页内容已成功保存为 121387301.mhtml\n",
      "新信息已成功追加到 web_info.db\n",
      "休息 37 秒鐘\n"
     ]
    },
    {
     "name": "stdout",
     "output_type": "stream",
     "text": [
      "网页内容已成功保存为 121387302.mhtml\n",
      "新信息已成功追加到 web_info.db\n",
      "休息 36 秒鐘\n"
     ]
    },
    {
     "name": "stdout",
     "output_type": "stream",
     "text": [
      "网页内容已成功保存为 121387303.mhtml\n",
      "新信息已成功追加到 web_info.db\n",
      "休息 43 秒鐘\n"
     ]
    },
    {
     "name": "stdout",
     "output_type": "stream",
     "text": [
      "网页内容已成功保存为 121387304.mhtml\n",
      "新信息已成功追加到 web_info.db\n",
      "休息 48 秒鐘\n"
     ]
    },
    {
     "name": "stdout",
     "output_type": "stream",
     "text": [
      "网页内容已成功保存为 121387305.mhtml\n",
      "新信息已成功追加到 web_info.db\n",
      "休息 31 秒鐘\n"
     ]
    },
    {
     "name": "stdout",
     "output_type": "stream",
     "text": [
      "网页内容已成功保存为 121387308.mhtml\n",
      "新信息已成功追加到 web_info.db\n",
      "休息 36 秒鐘\n"
     ]
    },
    {
     "name": "stdout",
     "output_type": "stream",
     "text": [
      "网页内容已成功保存为 121387309.mhtml\n",
      "新信息已成功追加到 web_info.db\n",
      "休息 46 秒鐘\n"
     ]
    },
    {
     "name": "stdout",
     "output_type": "stream",
     "text": [
      "网页内容已成功保存为 121387310.mhtml\n",
      "新信息已成功追加到 web_info.db\n",
      "休息 55 秒鐘\n"
     ]
    },
    {
     "name": "stdout",
     "output_type": "stream",
     "text": [
      "网页内容已成功保存为 121387311.mhtml\n",
      "新信息已成功追加到 web_info.db\n",
      "休息 59 秒鐘\n"
     ]
    },
    {
     "name": "stdout",
     "output_type": "stream",
     "text": [
      "网页内容已成功保存为 121387312.mhtml\n",
      "新信息已成功追加到 web_info.db\n",
      "休息 41 秒鐘\n"
     ]
    },
    {
     "name": "stdout",
     "output_type": "stream",
     "text": [
      "网页内容已成功保存为 121387313.mhtml\n",
      "新信息已成功追加到 web_info.db\n",
      "休息 32 秒鐘\n"
     ]
    },
    {
     "name": "stdout",
     "output_type": "stream",
     "text": [
      "网页内容已成功保存为 121387317.mhtml\n",
      "新信息已成功追加到 web_info.db\n",
      "休息 56 秒鐘\n"
     ]
    },
    {
     "name": "stdout",
     "output_type": "stream",
     "text": [
      "网页内容已成功保存为 121387321.mhtml\n",
      "新信息已成功追加到 web_info.db\n",
      "休息 36 秒鐘\n"
     ]
    },
    {
     "name": "stdout",
     "output_type": "stream",
     "text": [
      "网页内容已成功保存为 121387322.mhtml\n",
      "新信息已成功追加到 web_info.db\n",
      "休息 32 秒鐘\n"
     ]
    },
    {
     "name": "stdout",
     "output_type": "stream",
     "text": [
      "网页内容已成功保存为 121387324.mhtml\n",
      "新信息已成功追加到 web_info.db\n",
      "休息 33 秒鐘\n"
     ]
    },
    {
     "name": "stdout",
     "output_type": "stream",
     "text": [
      "网页内容已成功保存为 121387325.mhtml\n",
      "新信息已成功追加到 web_info.db\n",
      "休息 43 秒鐘\n"
     ]
    },
    {
     "name": "stdout",
     "output_type": "stream",
     "text": [
      "网页内容已成功保存为 121387326.mhtml\n",
      "新信息已成功追加到 web_info.db\n",
      "休息 52 秒鐘\n"
     ]
    },
    {
     "name": "stdout",
     "output_type": "stream",
     "text": [
      "网页内容已成功保存为 121387327.mhtml\n",
      "新信息已成功追加到 web_info.db\n",
      "休息 59 秒鐘\n"
     ]
    },
    {
     "name": "stdout",
     "output_type": "stream",
     "text": [
      "网页内容已成功保存为 121387328.mhtml\n",
      "新信息已成功追加到 web_info.db\n",
      "休息 43 秒鐘\n"
     ]
    },
    {
     "name": "stdout",
     "output_type": "stream",
     "text": [
      "网页内容已成功保存为 121387329.mhtml\n",
      "新信息已成功追加到 web_info.db\n",
      "休息 37 秒鐘\n"
     ]
    },
    {
     "name": "stdout",
     "output_type": "stream",
     "text": [
      "网页内容已成功保存为 121387330.mhtml\n",
      "新信息已成功追加到 web_info.db\n",
      "休息 42 秒鐘\n"
     ]
    },
    {
     "name": "stdout",
     "output_type": "stream",
     "text": [
      "网页内容已成功保存为 121387332.mhtml\n",
      "新信息已成功追加到 web_info.db\n",
      "休息 43 秒鐘\n"
     ]
    },
    {
     "name": "stdout",
     "output_type": "stream",
     "text": [
      "网页内容已成功保存为 121387335.mhtml\n",
      "新信息已成功追加到 web_info.db\n",
      "休息 43 秒鐘\n"
     ]
    },
    {
     "name": "stdout",
     "output_type": "stream",
     "text": [
      "网页内容已成功保存为 121387336.mhtml\n",
      "新信息已成功追加到 web_info.db\n",
      "休息 57 秒鐘\n"
     ]
    },
    {
     "name": "stdout",
     "output_type": "stream",
     "text": [
      "网页内容已成功保存为 121387337.mhtml\n",
      "新信息已成功追加到 web_info.db\n",
      "休息 46 秒鐘\n"
     ]
    },
    {
     "name": "stdout",
     "output_type": "stream",
     "text": [
      "网页内容已成功保存为 121387338.mhtml\n",
      "新信息已成功追加到 web_info.db\n",
      "休息 57 秒鐘\n"
     ]
    },
    {
     "name": "stdout",
     "output_type": "stream",
     "text": [
      "网页内容已成功保存为 121387340.mhtml\n",
      "新信息已成功追加到 web_info.db\n",
      "休息 37 秒鐘\n"
     ]
    },
    {
     "name": "stdout",
     "output_type": "stream",
     "text": [
      "网页内容已成功保存为 121387342.mhtml\n",
      "新信息已成功追加到 web_info.db\n",
      "休息 58 秒鐘\n"
     ]
    },
    {
     "name": "stdout",
     "output_type": "stream",
     "text": [
      "网页内容已成功保存为 121387344.mhtml\n",
      "新信息已成功追加到 web_info.db\n",
      "休息 58 秒鐘\n"
     ]
    },
    {
     "name": "stdout",
     "output_type": "stream",
     "text": [
      "网页内容已成功保存为 121387345.mhtml\n",
      "新信息已成功追加到 web_info.db\n",
      "休息 37 秒鐘\n"
     ]
    },
    {
     "name": "stdout",
     "output_type": "stream",
     "text": [
      "网页内容已成功保存为 121387346.mhtml\n",
      "新信息已成功追加到 web_info.db\n",
      "休息 56 秒鐘\n"
     ]
    },
    {
     "name": "stdout",
     "output_type": "stream",
     "text": [
      "网页内容已成功保存为 121387347.mhtml\n",
      "新信息已成功追加到 web_info.db\n",
      "休息 34 秒鐘\n"
     ]
    },
    {
     "name": "stdout",
     "output_type": "stream",
     "text": [
      "网页内容已成功保存为 121387348.mhtml\n",
      "新信息已成功追加到 web_info.db\n",
      "休息 58 秒鐘\n"
     ]
    },
    {
     "name": "stdout",
     "output_type": "stream",
     "text": [
      "网页内容已成功保存为 121387349.mhtml\n",
      "新信息已成功追加到 web_info.db\n",
      "休息 32 秒鐘\n"
     ]
    },
    {
     "name": "stdout",
     "output_type": "stream",
     "text": [
      "网页内容已成功保存为 121387351.mhtml\n",
      "新信息已成功追加到 web_info.db\n",
      "休息 49 秒鐘\n"
     ]
    },
    {
     "name": "stdout",
     "output_type": "stream",
     "text": [
      "网页内容已成功保存为 121387352.mhtml\n",
      "新信息已成功追加到 web_info.db\n",
      "休息 33 秒鐘\n"
     ]
    },
    {
     "name": "stdout",
     "output_type": "stream",
     "text": [
      "网页内容已成功保存为 121387353.mhtml\n",
      "新信息已成功追加到 web_info.db\n",
      "休息 48 秒鐘\n"
     ]
    },
    {
     "name": "stdout",
     "output_type": "stream",
     "text": [
      "网页内容已成功保存为 121387354.mhtml\n",
      "新信息已成功追加到 web_info.db\n",
      "休息 54 秒鐘\n"
     ]
    },
    {
     "name": "stdout",
     "output_type": "stream",
     "text": [
      "网页内容已成功保存为 121387355.mhtml\n",
      "新信息已成功追加到 web_info.db\n",
      "休息 30 秒鐘\n"
     ]
    },
    {
     "name": "stdout",
     "output_type": "stream",
     "text": [
      "网页内容已成功保存为 121387356.mhtml\n",
      "新信息已成功追加到 web_info.db\n",
      "休息 39 秒鐘\n"
     ]
    },
    {
     "name": "stdout",
     "output_type": "stream",
     "text": [
      "网页内容已成功保存为 121387357.mhtml\n",
      "新信息已成功追加到 web_info.db\n",
      "休息 39 秒鐘\n"
     ]
    },
    {
     "name": "stdout",
     "output_type": "stream",
     "text": [
      "网页内容已成功保存为 121387358.mhtml\n",
      "新信息已成功追加到 web_info.db\n",
      "休息 45 秒鐘\n"
     ]
    },
    {
     "name": "stdout",
     "output_type": "stream",
     "text": [
      "网页内容已成功保存为 121387359.mhtml\n",
      "新信息已成功追加到 web_info.db\n",
      "休息 41 秒鐘\n"
     ]
    },
    {
     "name": "stdout",
     "output_type": "stream",
     "text": [
      "网页内容已成功保存为 121387360.mhtml\n",
      "新信息已成功追加到 web_info.db\n",
      "休息 30 秒鐘\n"
     ]
    },
    {
     "name": "stdout",
     "output_type": "stream",
     "text": [
      "网页内容已成功保存为 121387361.mhtml\n",
      "新信息已成功追加到 web_info.db\n",
      "休息 42 秒鐘\n"
     ]
    },
    {
     "name": "stdout",
     "output_type": "stream",
     "text": [
      "网页内容已成功保存为 121387362.mhtml\n",
      "新信息已成功追加到 web_info.db\n",
      "休息 46 秒鐘\n"
     ]
    },
    {
     "name": "stdout",
     "output_type": "stream",
     "text": [
      "网页内容已成功保存为 121387364.mhtml\n",
      "新信息已成功追加到 web_info.db\n",
      "休息 33 秒鐘\n"
     ]
    },
    {
     "name": "stdout",
     "output_type": "stream",
     "text": [
      "网页内容已成功保存为 121387365.mhtml\n",
      "新信息已成功追加到 web_info.db\n",
      "休息 42 秒鐘\n"
     ]
    },
    {
     "name": "stdout",
     "output_type": "stream",
     "text": [
      "网页内容已成功保存为 121387366.mhtml\n",
      "新信息已成功追加到 web_info.db\n",
      "休息 58 秒鐘\n"
     ]
    },
    {
     "name": "stdout",
     "output_type": "stream",
     "text": [
      "网页内容已成功保存为 121387367.mhtml\n",
      "新信息已成功追加到 web_info.db\n",
      "休息 46 秒鐘\n"
     ]
    },
    {
     "name": "stdout",
     "output_type": "stream",
     "text": [
      "网页内容已成功保存为 121387369.mhtml\n",
      "新信息已成功追加到 web_info.db\n",
      "休息 46 秒鐘\n"
     ]
    },
    {
     "name": "stdout",
     "output_type": "stream",
     "text": [
      "网页内容已成功保存为 121387370.mhtml\n",
      "新信息已成功追加到 web_info.db\n",
      "休息 36 秒鐘\n"
     ]
    },
    {
     "name": "stdout",
     "output_type": "stream",
     "text": [
      "网页内容已成功保存为 121387373.mhtml\n",
      "新信息已成功追加到 web_info.db\n",
      "休息 41 秒鐘\n"
     ]
    },
    {
     "name": "stdout",
     "output_type": "stream",
     "text": [
      "网页内容已成功保存为 121387374.mhtml\n",
      "新信息已成功追加到 web_info.db\n",
      "休息 31 秒鐘\n"
     ]
    },
    {
     "name": "stdout",
     "output_type": "stream",
     "text": [
      "网页内容已成功保存为 121387375.mhtml\n",
      "新信息已成功追加到 web_info.db\n",
      "休息 35 秒鐘\n"
     ]
    },
    {
     "name": "stdout",
     "output_type": "stream",
     "text": [
      "网页内容已成功保存为 121387377.mhtml\n",
      "新信息已成功追加到 web_info.db\n",
      "休息 34 秒鐘\n"
     ]
    },
    {
     "name": "stdout",
     "output_type": "stream",
     "text": [
      "网页内容已成功保存为 121387378.mhtml\n",
      "新信息已成功追加到 web_info.db\n",
      "休息 30 秒鐘\n"
     ]
    },
    {
     "name": "stdout",
     "output_type": "stream",
     "text": [
      "网页内容已成功保存为 121387379.mhtml\n",
      "新信息已成功追加到 web_info.db\n",
      "休息 35 秒鐘\n"
     ]
    },
    {
     "name": "stdout",
     "output_type": "stream",
     "text": [
      "网页内容已成功保存为 121387380.mhtml\n",
      "新信息已成功追加到 web_info.db\n",
      "休息 35 秒鐘\n"
     ]
    },
    {
     "name": "stdout",
     "output_type": "stream",
     "text": [
      "网页内容已成功保存为 121387381.mhtml\n",
      "新信息已成功追加到 web_info.db\n",
      "休息 59 秒鐘\n"
     ]
    },
    {
     "name": "stdout",
     "output_type": "stream",
     "text": [
      "网页内容已成功保存为 121387382.mhtml\n",
      "新信息已成功追加到 web_info.db\n",
      "休息 48 秒鐘\n"
     ]
    },
    {
     "name": "stdout",
     "output_type": "stream",
     "text": [
      "网页内容已成功保存为 121387383.mhtml\n",
      "新信息已成功追加到 web_info.db\n",
      "休息 51 秒鐘\n"
     ]
    },
    {
     "name": "stdout",
     "output_type": "stream",
     "text": [
      "网页内容已成功保存为 121387384.mhtml\n",
      "新信息已成功追加到 web_info.db\n",
      "休息 43 秒鐘\n"
     ]
    },
    {
     "name": "stdout",
     "output_type": "stream",
     "text": [
      "网页内容已成功保存为 121387386.mhtml\n",
      "新信息已成功追加到 web_info.db\n",
      "休息 48 秒鐘\n"
     ]
    },
    {
     "name": "stdout",
     "output_type": "stream",
     "text": [
      "网页内容已成功保存为 121387388.mhtml\n",
      "新信息已成功追加到 web_info.db\n",
      "休息 42 秒鐘\n"
     ]
    },
    {
     "name": "stdout",
     "output_type": "stream",
     "text": [
      "网页内容已成功保存为 121387390.mhtml\n",
      "新信息已成功追加到 web_info.db\n",
      "休息 53 秒鐘\n"
     ]
    },
    {
     "name": "stdout",
     "output_type": "stream",
     "text": [
      "网页内容已成功保存为 121387391.mhtml\n",
      "新信息已成功追加到 web_info.db\n",
      "休息 55 秒鐘\n"
     ]
    },
    {
     "name": "stdout",
     "output_type": "stream",
     "text": [
      "网页内容已成功保存为 121387392.mhtml\n",
      "新信息已成功追加到 web_info.db\n",
      "休息 30 秒鐘\n"
     ]
    },
    {
     "name": "stdout",
     "output_type": "stream",
     "text": [
      "网页内容已成功保存为 121387393.mhtml\n",
      "新信息已成功追加到 web_info.db\n",
      "休息 48 秒鐘\n"
     ]
    },
    {
     "name": "stdout",
     "output_type": "stream",
     "text": [
      "网页内容已成功保存为 121387395.mhtml\n",
      "新信息已成功追加到 web_info.db\n",
      "休息 51 秒鐘\n"
     ]
    },
    {
     "name": "stdout",
     "output_type": "stream",
     "text": [
      "网页内容已成功保存为 121387397.mhtml\n",
      "新信息已成功追加到 web_info.db\n",
      "休息 37 秒鐘\n"
     ]
    },
    {
     "name": "stdout",
     "output_type": "stream",
     "text": [
      "网页内容已成功保存为 121387398.mhtml\n",
      "新信息已成功追加到 web_info.db\n",
      "休息 58 秒鐘\n"
     ]
    },
    {
     "name": "stdout",
     "output_type": "stream",
     "text": [
      "网页内容已成功保存为 121387399.mhtml\n",
      "新信息已成功追加到 web_info.db\n",
      "休息 53 秒鐘\n"
     ]
    },
    {
     "name": "stdout",
     "output_type": "stream",
     "text": [
      "网页内容已成功保存为 121387400.mhtml\n",
      "新信息已成功追加到 web_info.db\n",
      "休息 39 秒鐘\n"
     ]
    },
    {
     "name": "stdout",
     "output_type": "stream",
     "text": [
      "网页内容已成功保存为 121387403.mhtml\n",
      "新信息已成功追加到 web_info.db\n",
      "休息 32 秒鐘\n"
     ]
    },
    {
     "name": "stdout",
     "output_type": "stream",
     "text": [
      "网页内容已成功保存为 121387404.mhtml\n",
      "新信息已成功追加到 web_info.db\n",
      "休息 38 秒鐘\n"
     ]
    },
    {
     "name": "stdout",
     "output_type": "stream",
     "text": [
      "网页内容已成功保存为 121387405.mhtml\n",
      "新信息已成功追加到 web_info.db\n",
      "休息 40 秒鐘\n"
     ]
    },
    {
     "name": "stdout",
     "output_type": "stream",
     "text": [
      "网页内容已成功保存为 121387406.mhtml\n",
      "新信息已成功追加到 web_info.db\n",
      "休息 59 秒鐘\n"
     ]
    },
    {
     "name": "stdout",
     "output_type": "stream",
     "text": [
      "网页内容已成功保存为 121387409.mhtml\n",
      "新信息已成功追加到 web_info.db\n",
      "休息 38 秒鐘\n"
     ]
    },
    {
     "name": "stdout",
     "output_type": "stream",
     "text": [
      "网页内容已成功保存为 121387410.mhtml\n",
      "新信息已成功追加到 web_info.db\n",
      "休息 33 秒鐘\n"
     ]
    },
    {
     "name": "stdout",
     "output_type": "stream",
     "text": [
      "网页内容已成功保存为 121387411.mhtml\n",
      "新信息已成功追加到 web_info.db\n",
      "休息 45 秒鐘\n"
     ]
    },
    {
     "name": "stdout",
     "output_type": "stream",
     "text": [
      "网页内容已成功保存为 121387414.mhtml\n",
      "新信息已成功追加到 web_info.db\n",
      "休息 55 秒鐘\n"
     ]
    },
    {
     "name": "stdout",
     "output_type": "stream",
     "text": [
      "网页内容已成功保存为 121387415.mhtml\n",
      "新信息已成功追加到 web_info.db\n",
      "休息 42 秒鐘\n"
     ]
    },
    {
     "name": "stdout",
     "output_type": "stream",
     "text": [
      "网页内容已成功保存为 121387417.mhtml\n",
      "新信息已成功追加到 web_info.db\n",
      "休息 56 秒鐘\n"
     ]
    },
    {
     "name": "stdout",
     "output_type": "stream",
     "text": [
      "网页内容已成功保存为 121387418.mhtml\n",
      "新信息已成功追加到 web_info.db\n",
      "休息 58 秒鐘\n"
     ]
    },
    {
     "name": "stdout",
     "output_type": "stream",
     "text": [
      "网页内容已成功保存为 121387419.mhtml\n",
      "新信息已成功追加到 web_info.db\n",
      "休息 51 秒鐘\n"
     ]
    },
    {
     "name": "stdout",
     "output_type": "stream",
     "text": [
      "网页内容已成功保存为 121387420.mhtml\n",
      "新信息已成功追加到 web_info.db\n",
      "休息 37 秒鐘\n"
     ]
    },
    {
     "name": "stdout",
     "output_type": "stream",
     "text": [
      "网页内容已成功保存为 121387421.mhtml\n",
      "新信息已成功追加到 web_info.db\n",
      "休息 55 秒鐘\n"
     ]
    },
    {
     "name": "stdout",
     "output_type": "stream",
     "text": [
      "网页内容已成功保存为 121387422.mhtml\n",
      "新信息已成功追加到 web_info.db\n",
      "休息 39 秒鐘\n"
     ]
    },
    {
     "name": "stdout",
     "output_type": "stream",
     "text": [
      "网页内容已成功保存为 121387423.mhtml\n",
      "新信息已成功追加到 web_info.db\n",
      "休息 51 秒鐘\n"
     ]
    },
    {
     "name": "stdout",
     "output_type": "stream",
     "text": [
      "网页内容已成功保存为 121387424.mhtml\n",
      "新信息已成功追加到 web_info.db\n",
      "休息 46 秒鐘\n"
     ]
    },
    {
     "name": "stdout",
     "output_type": "stream",
     "text": [
      "网页内容已成功保存为 121387426.mhtml\n",
      "新信息已成功追加到 web_info.db\n",
      "休息 34 秒鐘\n"
     ]
    },
    {
     "name": "stdout",
     "output_type": "stream",
     "text": [
      "网页内容已成功保存为 121387427.mhtml\n",
      "新信息已成功追加到 web_info.db\n",
      "休息 42 秒鐘\n"
     ]
    },
    {
     "name": "stdout",
     "output_type": "stream",
     "text": [
      "网页内容已成功保存为 121387430.mhtml\n",
      "新信息已成功追加到 web_info.db\n",
      "休息 40 秒鐘\n"
     ]
    },
    {
     "name": "stdout",
     "output_type": "stream",
     "text": [
      "网页内容已成功保存为 121387431.mhtml\n",
      "新信息已成功追加到 web_info.db\n",
      "休息 43 秒鐘\n"
     ]
    },
    {
     "name": "stdout",
     "output_type": "stream",
     "text": [
      "网页内容已成功保存为 121387432.mhtml\n",
      "新信息已成功追加到 web_info.db\n",
      "休息 42 秒鐘\n"
     ]
    }
   ],
   "source": [
    "db_filename = 'web_info.db'\n",
    "for work_ID in result:\n",
    "    url = f'https://www.pixiv.net/artworks/{work_ID}'\n",
    "    filename = f'{work_ID}.mhtml'\n",
    "    try:\n",
    "        save_webpage_as_single_file(url, filename)\n",
    "        # 示例：提取和追加数据\n",
    "        mhtml_file = f'{work_ID}.mhtml'  # 替换为实际的 .mhtml 文件路径\n",
    "        info = extract_info_from_mhtml(mhtml_file,work_ID)\n",
    "        # 将提取的信息追加到 'web_info.xlsx'\n",
    "        append_to_sqlite(info)\n",
    "        print(f\"新信息已成功追加到 {db_filename}\")\n",
    "    except Exception as e:\n",
    "        pass\n",
    "    \n",
    "    delay = int(random.uniform(30, 60))  # 5到15秒的隨機延遲\n",
    "    print(f\"休息 {delay} 秒鐘\")\n",
    "    time.sleep(delay)\n",
    "    \n",
    "\n"
   ]
  },
  {
   "cell_type": "code",
   "execution_count": 6,
   "id": "4cd90b55-71ee-4e77-bd49-7115e3a96b3e",
   "metadata": {
    "execution": {
     "iopub.execute_input": "2025-04-21T04:10:40.270918Z",
     "iopub.status.busy": "2025-04-21T04:10:40.270718Z",
     "iopub.status.idle": "2025-04-21T04:10:40.282372Z",
     "shell.execute_reply": "2025-04-21T04:10:40.281853Z"
    }
   },
   "outputs": [
    {
     "name": "stdout",
     "output_type": "stream",
     "text": [
      "Total number of work_IDs: 160249\n"
     ]
    }
   ],
   "source": [
    "import sqlite3\n",
    "\n",
    "# 連接到 SQLite 資料庫\n",
    "con = sqlite3.connect('web_info.db')\n",
    "cur = con.cursor()\n",
    "\n",
    "# 使用 SQL 查詢計算 work_ID 的總數\n",
    "cur.execute(\"SELECT COUNT(work_ID) FROM web_info\")\n",
    "work_id_count = cur.fetchone()[0]\n",
    "\n",
    "# 顯示 work_ID 總數\n",
    "print(f\"Total number of work_IDs: {work_id_count}\")\n",
    "\n",
    "# 關閉資料庫連線\n",
    "con.close()\n"
   ]
  },
  {
   "cell_type": "code",
   "execution_count": 7,
   "id": "37104cd1-a3e8-47d3-a466-2b4b61a2c080",
   "metadata": {
    "execution": {
     "iopub.execute_input": "2025-04-21T04:10:40.284139Z",
     "iopub.status.busy": "2025-04-21T04:10:40.283964Z",
     "iopub.status.idle": "2025-04-21T04:10:40.289856Z",
     "shell.execute_reply": "2025-04-21T04:10:40.289304Z"
    }
   },
   "outputs": [
    {
     "data": {
      "text/plain": [
       "'\\nimport requests\\n\\n# 图片的 URL\\nurl = \\'https://i.pximg.net/img-master/img/2024/08/05/22/47/33/121215791_p0_master1200.jpg\\'\\n\\n# 图片保存的本地文件名\\nfilename = \\'downloaded_image.png\\'\\n\\n# 请求头，模拟完整的浏览器请求\\nheaders = {\\n    \\'User-Agent\\': \\'Mozilla/5.0 (Windows NT 10.0; Win64; x64) AppleWebKit/537.36 (KHTML, like Gecko) Chrome/85.0.4183.102 Safari/537.36\\',\\n    \\'Referer\\': \\'https://www.pixiv.net/\\',\\n    \\'Accept\\': \\'text/html,application/xhtml+xml,application/xml;q=0.9,image/webp,image/apng,*/*;q=0.8\\',\\n    \\'Accept-Encoding\\': \\'gzip, deflate, br\\',\\n    \\'Accept-Language\\': \\'en-US,en;q=0.9\\',\\n    \\'Connection\\': \\'keep-alive\\'\\n}\\n\\n# 发起 GET 请求以下载图片\\nresponse = requests.get(url, headers=headers)\\n\\n# 检查请求是否成功\\nif response.status_code == 200:\\n    # 将图片数据写入本地文件\\n    with open(filename, \\'wb\\') as file:\\n        file.write(response.content)\\n    print(f\"图片已成功保存为 {filename}\")\\nelse:\\n    print(f\"图片下载失败，状态码：{response.status_code}\")\\n\\n'"
      ]
     },
     "execution_count": 7,
     "metadata": {},
     "output_type": "execute_result"
    }
   ],
   "source": [
    "'''\n",
    "import requests\n",
    "\n",
    "# 图片的 URL\n",
    "url = 'https://i.pximg.net/img-master/img/2024/08/05/22/47/33/121215791_p0_master1200.jpg'\n",
    "\n",
    "# 图片保存的本地文件名\n",
    "filename = 'downloaded_image.png'\n",
    "\n",
    "# 请求头，模拟完整的浏览器请求\n",
    "headers = {\n",
    "    'User-Agent': 'Mozilla/5.0 (Windows NT 10.0; Win64; x64) AppleWebKit/537.36 (KHTML, like Gecko) Chrome/85.0.4183.102 Safari/537.36',\n",
    "    'Referer': 'https://www.pixiv.net/',\n",
    "    'Accept': 'text/html,application/xhtml+xml,application/xml;q=0.9,image/webp,image/apng,*/*;q=0.8',\n",
    "    'Accept-Encoding': 'gzip, deflate, br',\n",
    "    'Accept-Language': 'en-US,en;q=0.9',\n",
    "    'Connection': 'keep-alive'\n",
    "}\n",
    "\n",
    "# 发起 GET 请求以下载图片\n",
    "response = requests.get(url, headers=headers)\n",
    "\n",
    "# 检查请求是否成功\n",
    "if response.status_code == 200:\n",
    "    # 将图片数据写入本地文件\n",
    "    with open(filename, 'wb') as file:\n",
    "        file.write(response.content)\n",
    "    print(f\"图片已成功保存为 {filename}\")\n",
    "else:\n",
    "    print(f\"图片下载失败，状态码：{response.status_code}\")\n",
    "\n",
    "'''\n"
   ]
  },
  {
   "cell_type": "code",
   "execution_count": null,
   "id": "2662c282-045f-46fe-9c92-afe79094a532",
   "metadata": {},
   "outputs": [],
   "source": []
  }
 ],
 "metadata": {
  "kernelspec": {
   "display_name": "Python 3 (ipykernel)",
   "language": "python",
   "name": "python3"
  },
  "language_info": {
   "codemirror_mode": {
    "name": "ipython",
    "version": 3
   },
   "file_extension": ".py",
   "mimetype": "text/x-python",
   "name": "python",
   "nbconvert_exporter": "python",
   "pygments_lexer": "ipython3",
   "version": "3.13.3"
  }
 },
 "nbformat": 4,
 "nbformat_minor": 5
}
